{
  "cells": [
    {
      "cell_type": "markdown",
      "metadata": {
        "id": "OepbSvctPysr"
      },
      "source": [
        "# Pip Install Keras-Tuner (if necessary)"
      ]
    },
    {
      "cell_type": "code",
      "execution_count": 1,
      "metadata": {
        "colab": {
          "base_uri": "https://localhost:8080/"
        },
        "id": "ky0FGKOwTBkL",
        "outputId": "6a6fa0be-56eb-4511-e5d6-32042732a03e"
      },
      "outputs": [
        {
          "output_type": "stream",
          "name": "stdout",
          "text": [
            "Collecting keras-tuner\n",
            "  Downloading keras_tuner-1.1.2-py3-none-any.whl (133 kB)\n",
            "\u001b[?25l\r\u001b[K     |██▌                             | 10 kB 19.8 MB/s eta 0:00:01\r\u001b[K     |█████                           | 20 kB 24.7 MB/s eta 0:00:01\r\u001b[K     |███████▍                        | 30 kB 18.6 MB/s eta 0:00:01\r\u001b[K     |█████████▉                      | 40 kB 12.8 MB/s eta 0:00:01\r\u001b[K     |████████████▎                   | 51 kB 10.0 MB/s eta 0:00:01\r\u001b[K     |██████████████▊                 | 61 kB 11.6 MB/s eta 0:00:01\r\u001b[K     |█████████████████▏              | 71 kB 12.9 MB/s eta 0:00:01\r\u001b[K     |███████████████████▋            | 81 kB 14.2 MB/s eta 0:00:01\r\u001b[K     |██████████████████████          | 92 kB 14.6 MB/s eta 0:00:01\r\u001b[K     |████████████████████████▌       | 102 kB 13.8 MB/s eta 0:00:01\r\u001b[K     |███████████████████████████     | 112 kB 13.8 MB/s eta 0:00:01\r\u001b[K     |█████████████████████████████▍  | 122 kB 13.8 MB/s eta 0:00:01\r\u001b[K     |███████████████████████████████▉| 133 kB 13.8 MB/s eta 0:00:01\r\u001b[K     |████████████████████████████████| 133 kB 13.8 MB/s \n",
            "\u001b[?25hRequirement already satisfied: tensorboard in /usr/local/lib/python3.7/dist-packages (from keras-tuner) (2.8.0)\n",
            "Collecting kt-legacy\n",
            "  Downloading kt_legacy-1.0.4-py3-none-any.whl (9.6 kB)\n",
            "Requirement already satisfied: packaging in /usr/local/lib/python3.7/dist-packages (from keras-tuner) (21.3)\n",
            "Requirement already satisfied: numpy in /usr/local/lib/python3.7/dist-packages (from keras-tuner) (1.21.6)\n",
            "Requirement already satisfied: requests in /usr/local/lib/python3.7/dist-packages (from keras-tuner) (2.23.0)\n",
            "Requirement already satisfied: ipython in /usr/local/lib/python3.7/dist-packages (from keras-tuner) (5.5.0)\n",
            "Requirement already satisfied: pexpect in /usr/local/lib/python3.7/dist-packages (from ipython->keras-tuner) (4.8.0)\n",
            "Requirement already satisfied: prompt-toolkit<2.0.0,>=1.0.4 in /usr/local/lib/python3.7/dist-packages (from ipython->keras-tuner) (1.0.18)\n",
            "Requirement already satisfied: pygments in /usr/local/lib/python3.7/dist-packages (from ipython->keras-tuner) (2.6.1)\n",
            "Requirement already satisfied: setuptools>=18.5 in /usr/local/lib/python3.7/dist-packages (from ipython->keras-tuner) (57.4.0)\n",
            "Requirement already satisfied: traitlets>=4.2 in /usr/local/lib/python3.7/dist-packages (from ipython->keras-tuner) (5.1.1)\n",
            "Requirement already satisfied: simplegeneric>0.8 in /usr/local/lib/python3.7/dist-packages (from ipython->keras-tuner) (0.8.1)\n",
            "Requirement already satisfied: decorator in /usr/local/lib/python3.7/dist-packages (from ipython->keras-tuner) (4.4.2)\n",
            "Requirement already satisfied: pickleshare in /usr/local/lib/python3.7/dist-packages (from ipython->keras-tuner) (0.7.5)\n",
            "Requirement already satisfied: wcwidth in /usr/local/lib/python3.7/dist-packages (from prompt-toolkit<2.0.0,>=1.0.4->ipython->keras-tuner) (0.2.5)\n",
            "Requirement already satisfied: six>=1.9.0 in /usr/local/lib/python3.7/dist-packages (from prompt-toolkit<2.0.0,>=1.0.4->ipython->keras-tuner) (1.15.0)\n",
            "Requirement already satisfied: pyparsing!=3.0.5,>=2.0.2 in /usr/local/lib/python3.7/dist-packages (from packaging->keras-tuner) (3.0.8)\n",
            "Requirement already satisfied: ptyprocess>=0.5 in /usr/local/lib/python3.7/dist-packages (from pexpect->ipython->keras-tuner) (0.7.0)\n",
            "Requirement already satisfied: urllib3!=1.25.0,!=1.25.1,<1.26,>=1.21.1 in /usr/local/lib/python3.7/dist-packages (from requests->keras-tuner) (1.24.3)\n",
            "Requirement already satisfied: certifi>=2017.4.17 in /usr/local/lib/python3.7/dist-packages (from requests->keras-tuner) (2021.10.8)\n",
            "Requirement already satisfied: chardet<4,>=3.0.2 in /usr/local/lib/python3.7/dist-packages (from requests->keras-tuner) (3.0.4)\n",
            "Requirement already satisfied: idna<3,>=2.5 in /usr/local/lib/python3.7/dist-packages (from requests->keras-tuner) (2.10)\n",
            "Requirement already satisfied: protobuf>=3.6.0 in /usr/local/lib/python3.7/dist-packages (from tensorboard->keras-tuner) (3.17.3)\n",
            "Requirement already satisfied: google-auth<3,>=1.6.3 in /usr/local/lib/python3.7/dist-packages (from tensorboard->keras-tuner) (1.35.0)\n",
            "Requirement already satisfied: tensorboard-plugin-wit>=1.6.0 in /usr/local/lib/python3.7/dist-packages (from tensorboard->keras-tuner) (1.8.1)\n",
            "Requirement already satisfied: wheel>=0.26 in /usr/local/lib/python3.7/dist-packages (from tensorboard->keras-tuner) (0.37.1)\n",
            "Requirement already satisfied: werkzeug>=0.11.15 in /usr/local/lib/python3.7/dist-packages (from tensorboard->keras-tuner) (1.0.1)\n",
            "Requirement already satisfied: markdown>=2.6.8 in /usr/local/lib/python3.7/dist-packages (from tensorboard->keras-tuner) (3.3.6)\n",
            "Requirement already satisfied: grpcio>=1.24.3 in /usr/local/lib/python3.7/dist-packages (from tensorboard->keras-tuner) (1.44.0)\n",
            "Requirement already satisfied: google-auth-oauthlib<0.5,>=0.4.1 in /usr/local/lib/python3.7/dist-packages (from tensorboard->keras-tuner) (0.4.6)\n",
            "Requirement already satisfied: tensorboard-data-server<0.7.0,>=0.6.0 in /usr/local/lib/python3.7/dist-packages (from tensorboard->keras-tuner) (0.6.1)\n",
            "Requirement already satisfied: absl-py>=0.4 in /usr/local/lib/python3.7/dist-packages (from tensorboard->keras-tuner) (1.0.0)\n",
            "Requirement already satisfied: rsa<5,>=3.1.4 in /usr/local/lib/python3.7/dist-packages (from google-auth<3,>=1.6.3->tensorboard->keras-tuner) (4.8)\n",
            "Requirement already satisfied: pyasn1-modules>=0.2.1 in /usr/local/lib/python3.7/dist-packages (from google-auth<3,>=1.6.3->tensorboard->keras-tuner) (0.2.8)\n",
            "Requirement already satisfied: cachetools<5.0,>=2.0.0 in /usr/local/lib/python3.7/dist-packages (from google-auth<3,>=1.6.3->tensorboard->keras-tuner) (4.2.4)\n",
            "Requirement already satisfied: requests-oauthlib>=0.7.0 in /usr/local/lib/python3.7/dist-packages (from google-auth-oauthlib<0.5,>=0.4.1->tensorboard->keras-tuner) (1.3.1)\n",
            "Requirement already satisfied: importlib-metadata>=4.4 in /usr/local/lib/python3.7/dist-packages (from markdown>=2.6.8->tensorboard->keras-tuner) (4.11.3)\n",
            "Requirement already satisfied: typing-extensions>=3.6.4 in /usr/local/lib/python3.7/dist-packages (from importlib-metadata>=4.4->markdown>=2.6.8->tensorboard->keras-tuner) (4.2.0)\n",
            "Requirement already satisfied: zipp>=0.5 in /usr/local/lib/python3.7/dist-packages (from importlib-metadata>=4.4->markdown>=2.6.8->tensorboard->keras-tuner) (3.8.0)\n",
            "Requirement already satisfied: pyasn1<0.5.0,>=0.4.6 in /usr/local/lib/python3.7/dist-packages (from pyasn1-modules>=0.2.1->google-auth<3,>=1.6.3->tensorboard->keras-tuner) (0.4.8)\n",
            "Requirement already satisfied: oauthlib>=3.0.0 in /usr/local/lib/python3.7/dist-packages (from requests-oauthlib>=0.7.0->google-auth-oauthlib<0.5,>=0.4.1->tensorboard->keras-tuner) (3.2.0)\n",
            "Installing collected packages: kt-legacy, keras-tuner\n",
            "Successfully installed keras-tuner-1.1.2 kt-legacy-1.0.4\n"
          ]
        }
      ],
      "source": [
        "!pip install keras-tuner"
      ]
    },
    {
      "cell_type": "markdown",
      "metadata": {
        "id": "qZcbcS18P4n9"
      },
      "source": [
        "# Import Required Packages"
      ]
    },
    {
      "cell_type": "code",
      "execution_count": 2,
      "metadata": {
        "id": "10irgd5fQsTQ"
      },
      "outputs": [],
      "source": [
        "from data_creation import DataSelection\n",
        "from prediction_LSTM import SolarLSTM\n",
        "import pickle\n",
        "import numpy as np\n",
        "import tensorflow as tf\n",
        "from tensorflow import keras"
      ]
    },
    {
      "cell_type": "markdown",
      "metadata": {
        "id": "-tIs0gOhPI7t"
      },
      "source": [
        "# Base Model with All Parameters"
      ]
    },
    {
      "cell_type": "code",
      "execution_count": 2,
      "metadata": {
        "colab": {
          "base_uri": "https://localhost:8080/"
        },
        "id": "Zh4G0bs9Q1B8",
        "outputId": "713ccc58-4a25-462f-9985-232843f923f6"
      },
      "outputs": [
        {
          "output_type": "stream",
          "name": "stdout",
          "text": [
            "Num GB used in data array: 0.0019025802612304688\n",
            "Num GB used in data array: 0.00268399715423584\n",
            "Num GB used in data array: 0.006217360496520996\n",
            "Num GB used in data array: 0.011721253395080566\n",
            "Num GB used in data array: 0.013895630836486816\n",
            "Num GB used in data array: 0.015526413917541504\n",
            "Num GB used in data array: 0.016783475875854492\n",
            "Num GB used in data array: 0.02300083637237549\n",
            "Num GB used in data array: 0.023374557495117188\n",
            "Num GB used in data array: 0.026805996894836426\n",
            "Num GB used in data array: 0.028708577156066895\n",
            "Num GB used in data array: 0.040463805198669434\n",
            "Num GB used in data array: 0.0423663854598999\n",
            "Num GB used in data array: 0.0478363037109375\n",
            "Num GB used in data array: 0.056092143058776855\n",
            "Num GB used in data array: 0.05714535713195801\n",
            "Num GB used in data array: 0.10426819324493408\n",
            "Num GB used in data array: 0.10912656784057617\n",
            "Num GB used in data array: 0.10950028896331787\n",
            "Num GB used in data array: 0.10970413684844971\n",
            "Num GB used in data array: 0.11109709739685059\n",
            "Num GB used in data array: 0.11299967765808105\n",
            "Num GB used in data array: 0.11514008045196533\n",
            "Num GB used in data array: 0.126725435256958\n",
            "Num GB used in data array: 0.12743890285491943\n",
            "Num GB used in data array: 0.1293414831161499\n",
            "Num GB used in data array: 0.13124406337738037\n",
            "Num GB used in data array: 0.13348639011383057\n",
            "Num GB used in data array: 0.13538897037506104\n",
            "Num GB used in data array: 0.1372915506362915\n",
            "Num GB used in data array: 0.13919413089752197\n",
            "Num GB used in data array: 0.15376925468444824\n",
            "Num GB used in data array: 0.1556718349456787\n",
            "Num GB used in data array: 0.15689492225646973\n",
            "Num GB used in data array: 0.1574385166168213\n",
            "Num GB used in data array: 0.16341805458068848\n",
            "Num GB used in data array: 0.16630589962005615\n",
            "Num GB used in data array: 0.1675969362258911\n",
            "Num GB used in data array: 0.16783475875854492\n",
            "Num GB used in data array: 0.1775515079498291\n",
            "Num GB used in data array: 0.17795920372009277\n",
            "Num GB used in data array: 0.18906891345977783\n",
            "Num GB used in data array: 0.19212663173675537\n",
            "Num GB used in data array: 0.20248889923095703\n",
            "Num GB used in data array: 0.21808326244354248\n",
            "Num GB used in data array: 0.2619445323944092\n",
            "Num GB used in data array: 0.3016948699951172\n",
            "Num GB used in data array: 0.3101545572280884\n",
            "Num GB used in data array: 0.3108680248260498\n",
            "Num GB used in data array: 0.3113776445388794\n",
            "Num GB used in data array: 0.3114795684814453\n",
            "Num GB used in data array: 0.33033549785614014\n",
            "Num GB used in data array: 0.3321361541748047\n",
            "Num GB used in data array: 0.3465414047241211\n",
            "Num GB used in data array: 0.34745872020721436\n",
            "Num GB used in data array: 0.347934365272522\n",
            "Num GB used in data array: 0.35303056240081787\n",
            "Num GB used in data array: 0.36549925804138184\n",
            "Num GB used in data array: 0.39842069149017334\n",
            "Num GB used in data array: 0.403822660446167\n",
            "Num GB used in data array: 0.4352492094039917\n",
            "Num GB used in data array: 0.4650449752807617\n",
            "Num GB used in data array: 0.4987478256225586\n",
            "Num GB used in data array: 0.5766516923904419\n",
            "Num GB used in data array: 0.621294379234314\n",
            "Num GB used in data array: 0.6432759761810303\n",
            "Num GB used in data array: 0.6685531139373779\n",
            "Num GB used in data array: 0.6694024801254272\n",
            "Num GB used in data array: 0.6738871335983276\n",
            "Num GB used in data array: 0.6750762462615967\n",
            "Num GB used in data array: 0.6940340995788574\n",
            "Num GB used in data array: 0.7079976797103882\n",
            "Num GB used in data array: 0.7092207670211792\n",
            "Num GB used in data array: 0.7213157415390015\n",
            "Num GB used in data array: 0.7664680480957031\n",
            "Num GB used in data array: 0.7794803380966187\n",
            "Num GB used in data array: 0.8463424444198608\n",
            "Num GB used in data array: 0.8566027879714966\n",
            "Num GB used in data array: 0.8568745851516724\n",
            "Num GB used in data array: 0.8572483062744141\n",
            "Num GB used in data array: 0.8576220273971558\n",
            "Num GB used in data array: 0.8591848611831665\n",
            "Num GB used in data array: 0.8602380752563477\n",
            "Num GB used in data array: 0.8607137203216553\n",
            "Num GB used in data array: 0.8628201484680176\n",
            "Num GB used in data array: 0.8714157342910767\n"
          ]
        },
        {
          "output_type": "execute_result",
          "data": {
            "text/plain": [
              "<data_creation.DataSelection at 0x7fc7ecb1c390>"
            ]
          },
          "metadata": {},
          "execution_count": 2
        }
      ],
      "source": [
        "with open(\"/content/all_data.pkl\", \"rb\") as file:\n",
        "    data = pickle.load(file)\n",
        "\n",
        "DataSelection(data, 2014, \"./\", 38)\n",
        "# DataSelection(data, 2015, \"./\")"
      ]
    },
    {
      "cell_type": "code",
      "execution_count": 3,
      "metadata": {
        "colab": {
          "base_uri": "https://localhost:8080/"
        },
        "id": "Z0Mm90v8_rMd",
        "outputId": "f90336aa-a9d6-40b3-8435-7307b49dd1b7"
      },
      "outputs": [
        {
          "output_type": "stream",
          "name": "stdout",
          "text": [
            "Num GB used in data array: 0.0019025802612304688\n",
            "Num GB used in data array: 0.0031256675720214844\n",
            "Num GB used in data array: 0.010973811149597168\n",
            "Num GB used in data array: 0.017496943473815918\n",
            "Num GB used in data array: 0.02415597438812256\n",
            "Num GB used in data array: 0.03142654895782471\n",
            "Num GB used in data array: 0.033329129219055176\n",
            "Num GB used in data array: 0.035231709480285645\n",
            "Num GB used in data array: 0.04630744457244873\n",
            "Num GB used in data array: 0.04668116569519043\n",
            "Num GB used in data array: 0.04759848117828369\n",
            "Num GB used in data array: 0.05874216556549072\n",
            "Num GB used in data array: 0.06064474582672119\n",
            "Num GB used in data array: 0.06152808666229248\n",
            "Num GB used in data array: 0.07073521614074707\n",
            "Num GB used in data array: 0.07178843021392822\n",
            "Num GB used in data array: 0.11503815650939941\n",
            "Num GB used in data array: 0.12271642684936523\n",
            "Num GB used in data array: 0.12614786624908447\n",
            "Num GB used in data array: 0.1263517141342163\n",
            "Num GB used in data array: 0.12726902961730957\n",
            "Num GB used in data array: 0.1277446746826172\n",
            "Num GB used in data array: 0.13545691967010498\n",
            "Num GB used in data array: 0.1376652717590332\n",
            "Num GB used in data array: 0.14231979846954346\n",
            "Num GB used in data array: 0.1500999927520752\n",
            "Num GB used in data array: 0.17846882343292236\n",
            "Num GB used in data array: 0.23214876651763916\n",
            "Num GB used in data array: 0.2421712875366211\n",
            "Num GB used in data array: 0.24356424808502197\n",
            "Num GB used in data array: 0.24407386779785156\n",
            "Num GB used in data array: 0.2676522731781006\n",
            "Num GB used in data array: 0.2734619379043579\n",
            "Num GB used in data array: 0.29418647289276123\n",
            "Num GB used in data array: 0.30196666717529297\n",
            "Num GB used in data array: 0.3089994192123413\n",
            "Num GB used in data array: 0.31538665294647217\n",
            "Num GB used in data array: 0.3223174810409546\n",
            "Num GB used in data array: 0.3227931261062622\n",
            "Num GB used in data array: 0.323064923286438\n",
            "Num GB used in data array: 0.34745872020721436\n",
            "Num GB used in data array: 0.3492933511734009\n",
            "Num GB used in data array: 0.3666883707046509\n",
            "Num GB used in data array: 0.3875148296356201\n",
            "Num GB used in data array: 0.4326331615447998\n",
            "Num GB used in data array: 0.5067998170852661\n",
            "Num GB used in data array: 0.5571502447128296\n",
            "Num GB used in data array: 0.583990216255188\n",
            "Num GB used in data array: 0.5987012386322021\n",
            "Num GB used in data array: 0.5995506048202515\n",
            "Num GB used in data array: 0.6039673089981079\n",
            "Num GB used in data array: 0.6069231033325195\n",
            "Num GB used in data array: 0.6325060129165649\n",
            "Num GB used in data array: 0.6537741422653198\n",
            "Num GB used in data array: 0.6562542915344238\n",
            "Num GB used in data array: 0.6766051054000854\n",
            "Num GB used in data array: 0.6773525476455688\n",
            "Num GB used in data array: 0.7488352060317993\n",
            "Num GB used in data array: 0.7789027690887451\n",
            "Num GB used in data array: 0.8810985088348389\n",
            "Num GB used in data array: 0.8919364213943481\n",
            "Num GB used in data array: 0.8953678607940674\n",
            "Num GB used in data array: 0.9034878015518188\n",
            "Num GB used in data array: 0.9109961986541748\n",
            "Num GB used in data array: 0.9167039394378662\n",
            "Num GB used in data array: 0.9205770492553711\n",
            "Num GB used in data array: 0.9238725900650024\n",
            "Num GB used in data array: 0.9272021055221558\n",
            "Num GB used in data array: 0.9285610914230347\n",
            "Num GB used in data array: 0.9287989139556885\n",
            "Num GB used in data array: 0.9300559759140015\n",
            "Num GB used in data array: 0.9385836124420166\n",
            "Num GB used in data array: 0.9678018093109131\n"
          ]
        },
        {
          "output_type": "execute_result",
          "data": {
            "text/plain": [
              "<data_creation.DataSelection at 0x7fc7d4de2690>"
            ]
          },
          "metadata": {},
          "execution_count": 3
        }
      ],
      "source": [
        "with open(\"norm_scaler.pkl\", \"rb\") as norm_file:\n",
        "    normalization = pickle.load(norm_file)\n",
        "\n",
        "with open(\"stand_scaler.pkl\", \"rb\") as stand_file:\n",
        "    standard = pickle.load(stand_file)\n",
        "\n",
        "DataSelection(data, 2015,\"./\", 38, norm_scaler=normalization, stand_scaler=standard)"
      ]
    },
    {
      "cell_type": "code",
      "execution_count": 4,
      "metadata": {
        "id": "5caJAPMcssGm"
      },
      "outputs": [],
      "source": [
        "data2014 = np.load(\"data_2014.npy\")\n",
        "labels2014 = np.load(\"labels_2014.npy\")"
      ]
    },
    {
      "cell_type": "code",
      "execution_count": 5,
      "metadata": {
        "id": "IvtuPAVJZ1HO",
        "colab": {
          "base_uri": "https://localhost:8080/"
        },
        "outputId": "eda053b6-2d67-4295-d08f-0ec5342b20ef"
      },
      "outputs": [
        {
          "output_type": "execute_result",
          "data": {
            "text/plain": [
              "(25649, 120, 38)"
            ]
          },
          "metadata": {},
          "execution_count": 5
        }
      ],
      "source": [
        "data2014.shape"
      ]
    },
    {
      "cell_type": "code",
      "execution_count": 6,
      "metadata": {
        "id": "im3EwZyNYK6-"
      },
      "outputs": [],
      "source": [
        "base_model = SolarLSTM(data2014, labels2014, save_path=\"./\")"
      ]
    },
    {
      "cell_type": "code",
      "execution_count": 7,
      "metadata": {
        "id": "Hx82BYHwQ7bb"
      },
      "outputs": [],
      "source": [
        "base_model.build_model()"
      ]
    },
    {
      "cell_type": "code",
      "execution_count": 8,
      "metadata": {
        "id": "csd-wHI8Q9u-",
        "colab": {
          "base_uri": "https://localhost:8080/"
        },
        "outputId": "1a9c5779-15fa-4e03-b34a-0f58f987544a"
      },
      "outputs": [
        {
          "output_type": "execute_result",
          "data": {
            "text/plain": [
              "<keras.engine.sequential.Sequential at 0x7fc7cf4c5cd0>"
            ]
          },
          "metadata": {},
          "execution_count": 8
        }
      ],
      "source": [
        "base_model.model.summary()"
      ]
    },
    {
      "cell_type": "code",
      "execution_count": 9,
      "metadata": {
        "id": "PTJij7KnQ_ye",
        "colab": {
          "base_uri": "https://localhost:8080/",
          "height": 1000
        },
        "outputId": "efc5ee89-4b0d-494e-d938-0e256213ff7c"
      },
      "outputs": [
        {
          "output_type": "stream",
          "name": "stdout",
          "text": [
            "Epoch 1/50\n"
          ]
        },
        {
          "output_type": "stream",
          "name": "stderr",
          "text": [
            "/usr/local/lib/python3.7/dist-packages/tensorflow/python/util/dispatch.py:1082: UserWarning: \"`binary_crossentropy` received `from_logits=True`, but the `output` argument was produced by a sigmoid or softmax activation and thus does not represent logits. Was this intended?\"\n",
            "  return dispatch_target(*args, **kwargs)\n"
          ]
        },
        {
          "output_type": "stream",
          "name": "stdout",
          "text": [
            "320/320 [==============================] - ETA: 0s - loss: 0.4057 - accuracy: 0.8528 - mse: 0.1213 - mae: 0.2484"
          ]
        },
        {
          "output_type": "stream",
          "name": "stderr",
          "text": [
            "WARNING:absl:Found untraced functions such as lstm_cell_layer_call_fn, lstm_cell_layer_call_and_return_conditional_losses, lstm_cell_1_layer_call_fn, lstm_cell_1_layer_call_and_return_conditional_losses while saving (showing 4 of 4). These functions will not be directly callable after loading.\n"
          ]
        },
        {
          "output_type": "stream",
          "name": "stdout",
          "text": [
            "INFO:tensorflow:Assets written to: model_checkpoints/assets\n"
          ]
        },
        {
          "output_type": "stream",
          "name": "stderr",
          "text": [
            "INFO:tensorflow:Assets written to: model_checkpoints/assets\n",
            "WARNING:absl:<keras.layers.recurrent.LSTMCell object at 0x7fc7ecb24610> has the same name 'LSTMCell' as a built-in Keras object. Consider renaming <class 'keras.layers.recurrent.LSTMCell'> to avoid naming conflicts when loading with `tf.keras.models.load_model`. If renaming is not possible, pass the object in the `custom_objects` parameter of the load function.\n",
            "WARNING:absl:<keras.layers.recurrent.LSTMCell object at 0x7fc7ceb21dd0> has the same name 'LSTMCell' as a built-in Keras object. Consider renaming <class 'keras.layers.recurrent.LSTMCell'> to avoid naming conflicts when loading with `tf.keras.models.load_model`. If renaming is not possible, pass the object in the `custom_objects` parameter of the load function.\n"
          ]
        },
        {
          "output_type": "stream",
          "name": "stdout",
          "text": [
            "\b\b\b\b\b\b\b\b\b\b\b\b\b\b\b\b\b\b\b\b\b\b\b\b\b\b\b\b\b\b\b\b\b\b\b\b\b\b\b\b\b\b\b\b\b\b\b\b\b\b\b\b\b\b\b\b\b\b\b\b\b\b\b\b\b\b\b\b\b\b\b\b\b\b\b\b\b\b\b\b\b\b\b\b\b\b\b\b\b\b\b\b\b\b\b\b\b\b\b\b\b\b\b\b\b\b\b\b\b\b\b\b\r320/320 [==============================] - 35s 97ms/step - loss: 0.4057 - accuracy: 0.8528 - mse: 0.1213 - mae: 0.2484 - val_loss: 0.4691 - val_accuracy: 0.8086 - val_mse: 0.1478 - val_mae: 0.2661\n",
            "Epoch 2/50\n",
            "320/320 [==============================] - 21s 65ms/step - loss: 0.2878 - accuracy: 0.8942 - mse: 0.0814 - mae: 0.1693 - val_loss: 0.6135 - val_accuracy: 0.8093 - val_mse: 0.1728 - val_mae: 0.2174\n",
            "Epoch 3/50\n",
            "320/320 [==============================] - 20s 63ms/step - loss: 0.2504 - accuracy: 0.9223 - mse: 0.0676 - mae: 0.1374 - val_loss: 0.5824 - val_accuracy: 0.8039 - val_mse: 0.1678 - val_mae: 0.2211\n",
            "Epoch 4/50\n",
            "320/320 [==============================] - 20s 63ms/step - loss: 0.2279 - accuracy: 0.9191 - mse: 0.0625 - mae: 0.1257 - val_loss: 0.5721 - val_accuracy: 0.8038 - val_mse: 0.1620 - val_mae: 0.2112\n",
            "Epoch 5/50\n",
            "320/320 [==============================] - 20s 63ms/step - loss: 0.2012 - accuracy: 0.9320 - mse: 0.0540 - mae: 0.1122 - val_loss: 0.6783 - val_accuracy: 0.8073 - val_mse: 0.1781 - val_mae: 0.2114\n",
            "Epoch 6/50\n",
            "320/320 [==============================] - 20s 64ms/step - loss: 0.1906 - accuracy: 0.9311 - mse: 0.0517 - mae: 0.1053 - val_loss: 0.7363 - val_accuracy: 0.8028 - val_mse: 0.1848 - val_mae: 0.2083\n",
            "Epoch 7/50\n",
            "320/320 [==============================] - 20s 64ms/step - loss: 0.1721 - accuracy: 0.9468 - mse: 0.0442 - mae: 0.0937 - val_loss: 0.6710 - val_accuracy: 0.8131 - val_mse: 0.1690 - val_mae: 0.1999\n",
            "Epoch 8/50\n",
            "320/320 [==============================] - 20s 64ms/step - loss: 0.1594 - accuracy: 0.9513 - mse: 0.0407 - mae: 0.0850 - val_loss: 0.7081 - val_accuracy: 0.8151 - val_mse: 0.1719 - val_mae: 0.1951\n",
            "Epoch 9/50\n",
            "320/320 [==============================] - 21s 64ms/step - loss: 0.1534 - accuracy: 0.9509 - mse: 0.0396 - mae: 0.0817 - val_loss: 0.7068 - val_accuracy: 0.8059 - val_mse: 0.1747 - val_mae: 0.2041\n",
            "Epoch 10/50\n",
            "320/320 [==============================] - 21s 66ms/step - loss: 0.1460 - accuracy: 0.9556 - mse: 0.0372 - mae: 0.0773 - val_loss: 0.6756 - val_accuracy: 0.8215 - val_mse: 0.1642 - val_mae: 0.1887\n",
            "Epoch 11/50\n",
            "320/320 [==============================] - 21s 66ms/step - loss: 0.1430 - accuracy: 0.9537 - mse: 0.0371 - mae: 0.0778 - val_loss: 0.6756 - val_accuracy: 0.8247 - val_mse: 0.1601 - val_mae: 0.1844\n",
            "Epoch 12/50\n",
            "320/320 [==============================] - 21s 65ms/step - loss: 0.1481 - accuracy: 0.9506 - mse: 0.0395 - mae: 0.0759 - val_loss: 0.7201 - val_accuracy: 0.7939 - val_mse: 0.1824 - val_mae: 0.2099\n",
            "Epoch 13/50\n",
            "320/320 [==============================] - 21s 66ms/step - loss: 0.1354 - accuracy: 0.9559 - mse: 0.0355 - mae: 0.0753 - val_loss: 0.7167 - val_accuracy: 0.8204 - val_mse: 0.1641 - val_mae: 0.1837\n",
            "Epoch 14/50\n",
            "320/320 [==============================] - 21s 65ms/step - loss: 0.1281 - accuracy: 0.9589 - mse: 0.0333 - mae: 0.0693 - val_loss: 0.7348 - val_accuracy: 0.8128 - val_mse: 0.1704 - val_mae: 0.1935\n",
            "Epoch 15/50\n",
            "320/320 [==============================] - 21s 64ms/step - loss: 0.1225 - accuracy: 0.9589 - mse: 0.0324 - mae: 0.0671 - val_loss: 0.7799 - val_accuracy: 0.7816 - val_mse: 0.1918 - val_mae: 0.2181\n",
            "Epoch 16/50\n",
            "320/320 [==============================] - 21s 64ms/step - loss: 0.1237 - accuracy: 0.9566 - mse: 0.0334 - mae: 0.0672 - val_loss: 0.7580 - val_accuracy: 0.8188 - val_mse: 0.1667 - val_mae: 0.1883\n",
            "Epoch 16: early stopping\n"
          ]
        },
        {
          "output_type": "display_data",
          "data": {
            "text/plain": [
              "<Figure size 576x360 with 1 Axes>"
            ],
            "image/png": "[encoded data removed]"
          },
          "metadata": {
            "needs_background": "light"
          }
        }
      ],
      "source": [
        "history=base_model.fit()"
      ]
    },
    {
      "cell_type": "code",
      "execution_count": 10,
      "metadata": {
        "id": "NXnJGhmM-Dxp"
      },
      "outputs": [],
      "source": [
        "data2015 = np.load(\"data_2015.npy\")\n",
        "labels2015 = np.load(\"labels_2015.npy\")"
      ]
    },
    {
      "cell_type": "code",
      "execution_count": 11,
      "metadata": {
        "colab": {
          "base_uri": "https://localhost:8080/"
        },
        "id": "jpUoXB0L-Dxp",
        "outputId": "ef776688-c628-4c20-c1ba-0577d95087b1"
      },
      "outputs": [
        {
          "output_type": "execute_result",
          "data": {
            "text/plain": [
              "(28486, 120, 38)"
            ]
          },
          "metadata": {},
          "execution_count": 11
        }
      ],
      "source": [
        "data2015.shape"
      ]
    },
    {
      "cell_type": "code",
      "execution_count": 12,
      "metadata": {
        "colab": {
          "base_uri": "https://localhost:8080/"
        },
        "id": "h8GEjC8_Uufd",
        "outputId": "fcbc4444-bff1-4659-98c1-6a7f91199ee7"
      },
      "outputs": [
        {
          "output_type": "stream",
          "name": "stdout",
          "text": [
            "445/445 [==============================] - 11s 21ms/step - loss: 0.8055 - accuracy: 0.8060 - mse: 0.1720 - mae: 0.2027\n"
          ]
        },
        {
          "output_type": "execute_result",
          "data": {
            "text/plain": [
              "[0.8054584860801697,\n",
              " 0.8060483932495117,\n",
              " 0.17199039459228516,\n",
              " 0.2027323991060257]"
            ]
          },
          "metadata": {},
          "execution_count": 12
        }
      ],
      "source": [
        "data_new = base_model.batch_prefetch_data(data2015,labels2015,split_data=False)\n",
        "base_model.evaluate(data_new)\n",
        "#base_model.evaluate(data_new,labels_new)"
      ]
    },
    {
      "cell_type": "code",
      "execution_count": 13,
      "metadata": {
        "id": "CrsOmPlY-Dxr"
      },
      "outputs": [],
      "source": [
        "#Form batches (does not shuffle, cuts off remainder)\n",
        "batched_2015 = base_model.batch_prefetch_data(data2015,split_data=False)\n",
        "#Cutoff matching remainder from labels\n",
        "true_labels = labels2015[:-(labels2015.shape[0]%base_model.batch_size)]"
      ]
    },
    {
      "cell_type": "code",
      "source": [
        "#Do predictions and get confusion matrix\n",
        "conf_matrix = base_model.predict_conf_matrix(batched_2015,true_labels,make_plots=True)"
      ],
      "metadata": {
        "id": "GiX56d-Rc3kK",
        "colab": {
          "base_uri": "https://localhost:8080/",
          "height": 290
        },
        "outputId": "c608f3ee-e8e8-47fc-cf4a-e7de0ff900ad"
      },
      "execution_count": 14,
      "outputs": [
        {
          "output_type": "display_data",
          "data": {
            "text/plain": [
              "<Figure size 432x288 with 2 Axes>"
            ],
            "image/png": "[encoded data removed]"
          },
          "metadata": {
            "needs_background": "light"
          }
        }
      ]
    },
    {
      "cell_type": "code",
      "execution_count": null,
      "metadata": {
        "id": "pebutn87-Dxs"
      },
      "outputs": [],
      "source": [
        "#If you want to customize the confusion matrix plot, can uncomment below and use the plot handle below\n",
        "#conf_plt_handle=base_model.plot_confusion_matrix(conf_matrix)"
      ]
    },
    {
      "cell_type": "code",
      "execution_count": 15,
      "metadata": {
        "colab": {
          "base_uri": "https://localhost:8080/"
        },
        "id": "dJbqDGxO-Dxt",
        "outputId": "2dc88516-b3cb-43a7-c41d-63ba717ccb05"
      },
      "outputs": [
        {
          "output_type": "execute_result",
          "data": {
            "text/plain": [
              "array([[  67405,  496235],\n",
              "       [ 203077, 2650883]])"
            ]
          },
          "metadata": {},
          "execution_count": 15
        }
      ],
      "source": [
        "conf_matrix"
      ]
    },
    {
      "cell_type": "code",
      "execution_count": 16,
      "metadata": {
        "id": "NxlmTtkt-Dxt"
      },
      "outputs": [],
      "source": [
        "#Example of using the __call__ dunder method to pass data\n",
        "call_preds=base_model(batched_2015)"
      ]
    },
    {
      "cell_type": "code",
      "execution_count": 17,
      "metadata": {
        "id": "TJ15elvZFqpC"
      },
      "outputs": [],
      "source": [
        "import pandas as pd\n",
        "\n",
        "def calculate_statistics(conf_matrix):\n",
        "  tp = conf_matrix[1][1]\n",
        "  fp = conf_matrix[1][0]\n",
        "  tn = conf_matrix[0][0]\n",
        "  fn = conf_matrix[0][1]\n",
        "\n",
        "  # Precision - TP/(TP+FP)\n",
        "  precision = tp / np.sum([tp, fp])\n",
        "\n",
        "  # Recall - TP/(TP+FN)\n",
        "  recall = tp / np.sum([tp, fn])\n",
        "\n",
        "  # False Alarm Rate/Probability of False Alarm - FP/(FP+TN)\n",
        "  far = fp / np.sum([fp, tn])\n",
        "\n",
        "  # Heidke Skill Score (HSS) - 2*(TP * TN - FP * FN) / (TP+FN)*(FN+TN)+(TP+FP)*(FP+TN)\n",
        "  hss = (2 * ((tp*tn) - (fp*fn))) / (((tp+fn)*(fn+tn)) + ((tp+tn)*(fp+tn)))\n",
        "\n",
        "  return pd.DataFrame({\"precision\": precision, \"recall\": recall, \"far\": far, \"hss\": hss}, index=[0])"
      ]
    },
    {
      "cell_type": "code",
      "execution_count": 18,
      "metadata": {
        "colab": {
          "base_uri": "https://localhost:8080/",
          "height": 81
        },
        "id": "rTb2TlYgHPAf",
        "outputId": "74f6c064-adb9-41b4-e8d9-cbefcdf8f3c4"
      },
      "outputs": [
        {
          "output_type": "execute_result",
          "data": {
            "text/plain": [
              "   precision    recall       far       hss\n",
              "0   0.928844  0.842321  0.750797  0.062101"
            ],
            "text/html": [
              "\n",
              "  <div id=\"df-426042aa-a747-4c5d-8bbc-380aaccfb8bb\">\n",
              "    <div class=\"colab-df-container\">\n",
              "      <div>\n",
              "<style scoped>\n",
              "    .dataframe tbody tr th:only-of-type {\n",
              "        vertical-align: middle;\n",
              "    }\n",
              "\n",
              "    .dataframe tbody tr th {\n",
              "        vertical-align: top;\n",
              "    }\n",
              "\n",
              "    .dataframe thead th {\n",
              "        text-align: right;\n",
              "    }\n",
              "</style>\n",
              "<table border=\"1\" class=\"dataframe\">\n",
              "  <thead>\n",
              "    <tr style=\"text-align: right;\">\n",
              "      <th></th>\n",
              "      <th>precision</th>\n",
              "      <th>recall</th>\n",
              "      <th>far</th>\n",
              "      <th>hss</th>\n",
              "    </tr>\n",
              "  </thead>\n",
              "  <tbody>\n",
              "    <tr>\n",
              "      <th>0</th>\n",
              "      <td>0.928844</td>\n",
              "      <td>0.842321</td>\n",
              "      <td>0.750797</td>\n",
              "      <td>0.062101</td>\n",
              "    </tr>\n",
              "  </tbody>\n",
              "</table>\n",
              "</div>\n",
              "      <button class=\"colab-df-convert\" onclick=\"convertToInteractive('df-426042aa-a747-4c5d-8bbc-380aaccfb8bb')\"\n",
              "              title=\"Convert this dataframe to an interactive table.\"\n",
              "              style=\"display:none;\">\n",
              "        \n",
              "  <svg xmlns=\"http://www.w3.org/2000/svg\" height=\"24px\"viewBox=\"0 0 24 24\"\n",
              "       width=\"24px\">\n",
              "    <path d=\"M0 0h24v24H0V0z\" fill=\"none\"/>\n",
              "    <path d=\"M18.56 5.44l.94 2.06.94-2.06 2.06-.94-2.06-.94-.94-2.06-.94 2.06-2.06.94zm-11 1L8.5 8.5l.94-2.06 2.06-.94-2.06-.94L8.5 2.5l-.94 2.06-2.06.94zm10 10l.94 2.06.94-2.06 2.06-.94-2.06-.94-.94-2.06-.94 2.06-2.06.94z\"/><path d=\"M17.41 7.96l-1.37-1.37c-.4-.4-.92-.59-1.43-.59-.52 0-1.04.2-1.43.59L10.3 9.45l-7.72 7.72c-.78.78-.78 2.05 0 2.83L4 21.41c.39.39.9.59 1.41.59.51 0 1.02-.2 1.41-.59l7.78-7.78 2.81-2.81c.8-.78.8-2.07 0-2.86zM5.41 20L4 18.59l7.72-7.72 1.47 1.35L5.41 20z\"/>\n",
              "  </svg>\n",
              "      </button>\n",
              "      \n",
              "  <style>\n",
              "    .colab-df-container {\n",
              "      display:flex;\n",
              "      flex-wrap:wrap;\n",
              "      gap: 12px;\n",
              "    }\n",
              "\n",
              "    .colab-df-convert {\n",
              "      background-color: #E8F0FE;\n",
              "      border: none;\n",
              "      border-radius: 50%;\n",
              "      cursor: pointer;\n",
              "      display: none;\n",
              "      fill: #1967D2;\n",
              "      height: 32px;\n",
              "      padding: 0 0 0 0;\n",
              "      width: 32px;\n",
              "    }\n",
              "\n",
              "    .colab-df-convert:hover {\n",
              "      background-color: #E2EBFA;\n",
              "      box-shadow: 0px 1px 2px rgba(60, 64, 67, 0.3), 0px 1px 3px 1px rgba(60, 64, 67, 0.15);\n",
              "      fill: #174EA6;\n",
              "    }\n",
              "\n",
              "    [theme=dark] .colab-df-convert {\n",
              "      background-color: #3B4455;\n",
              "      fill: #D2E3FC;\n",
              "    }\n",
              "\n",
              "    [theme=dark] .colab-df-convert:hover {\n",
              "      background-color: #434B5C;\n",
              "      box-shadow: 0px 1px 3px 1px rgba(0, 0, 0, 0.15);\n",
              "      filter: drop-shadow(0px 1px 2px rgba(0, 0, 0, 0.3));\n",
              "      fill: #FFFFFF;\n",
              "    }\n",
              "  </style>\n",
              "\n",
              "      <script>\n",
              "        const buttonEl =\n",
              "          document.querySelector('#df-426042aa-a747-4c5d-8bbc-380aaccfb8bb button.colab-df-convert');\n",
              "        buttonEl.style.display =\n",
              "          google.colab.kernel.accessAllowed ? 'block' : 'none';\n",
              "\n",
              "        async function convertToInteractive(key) {\n",
              "          const element = document.querySelector('#df-426042aa-a747-4c5d-8bbc-380aaccfb8bb');\n",
              "          const dataTable =\n",
              "            await google.colab.kernel.invokeFunction('convertToInteractive',\n",
              "                                                     [key], {});\n",
              "          if (!dataTable) return;\n",
              "\n",
              "          const docLinkHtml = 'Like what you see? Visit the ' +\n",
              "            '<a target=\"_blank\" href=https://colab.research.google.com/notebooks/data_table.ipynb>data table notebook</a>'\n",
              "            + ' to learn more about interactive tables.';\n",
              "          element.innerHTML = '';\n",
              "          dataTable['output_type'] = 'display_data';\n",
              "          await google.colab.output.renderOutput(dataTable, element);\n",
              "          const docLink = document.createElement('div');\n",
              "          docLink.innerHTML = docLinkHtml;\n",
              "          element.appendChild(docLink);\n",
              "        }\n",
              "      </script>\n",
              "    </div>\n",
              "  </div>\n",
              "  "
            ]
          },
          "metadata": {},
          "execution_count": 18
        }
      ],
      "source": [
        "calculate_statistics(conf_matrix)"
      ]
    },
    {
      "cell_type": "code",
      "execution_count": 19,
      "metadata": {
        "id": "oqkOENaJHSXV"
      },
      "outputs": [],
      "source": [
        "keras.backend.clear_session()"
      ]
    },
    {
      "cell_type": "code",
      "execution_count": 20,
      "metadata": {
        "id": "n66-9WADHrwv"
      },
      "outputs": [],
      "source": [
        "tuned_model = SolarLSTM(data2014, labels2014, \"./\", tune=True)"
      ]
    },
    {
      "cell_type": "code",
      "execution_count": 21,
      "metadata": {
        "colab": {
          "base_uri": "https://localhost:8080/",
          "height": 1000
        },
        "id": "ABq_7_PCI0AA",
        "outputId": "8e254b91-be95-402e-a94d-33b99073bf44"
      },
      "outputs": [
        {
          "output_type": "stream",
          "name": "stdout",
          "text": [
            "Trial 10 Complete [00h 08m 16s]\n",
            "val_accuracy: 0.8479964137077332\n",
            "\n",
            "Best val_accuracy So Far: 0.8479964137077332\n",
            "Total elapsed time: 01h 55m 24s\n",
            "INFO:tensorflow:Oracle triggered exit\n"
          ]
        },
        {
          "output_type": "stream",
          "name": "stderr",
          "text": [
            "INFO:tensorflow:Oracle triggered exit\n"
          ]
        },
        {
          "output_type": "stream",
          "name": "stdout",
          "text": [
            "Hyper Tuning Complete\n",
            "Epoch 1/50\n"
          ]
        },
        {
          "output_type": "stream",
          "name": "stderr",
          "text": [
            "/usr/local/lib/python3.7/dist-packages/tensorflow/python/util/dispatch.py:1082: UserWarning: \"`binary_crossentropy` received `from_logits=True`, but the `output` argument was produced by a sigmoid or softmax activation and thus does not represent logits. Was this intended?\"\n",
            "  return dispatch_target(*args, **kwargs)\n"
          ]
        },
        {
          "output_type": "stream",
          "name": "stdout",
          "text": [
            "320/320 [==============================] - ETA: 0s - loss: 0.3774 - accuracy: 0.8843 - mse: 0.1085 - mae: 0.2130"
          ]
        },
        {
          "output_type": "stream",
          "name": "stderr",
          "text": [
            "WARNING:absl:Found untraced functions such as lstm_cell_2_layer_call_fn, lstm_cell_2_layer_call_and_return_conditional_losses, lstm_cell_3_layer_call_fn, lstm_cell_3_layer_call_and_return_conditional_losses while saving (showing 4 of 4). These functions will not be directly callable after loading.\n"
          ]
        },
        {
          "output_type": "stream",
          "name": "stdout",
          "text": [
            "INFO:tensorflow:Assets written to: model_checkpoints/assets\n"
          ]
        },
        {
          "output_type": "stream",
          "name": "stderr",
          "text": [
            "INFO:tensorflow:Assets written to: model_checkpoints/assets\n",
            "WARNING:absl:<keras.layers.recurrent.LSTMCell object at 0x7fc7cda5af90> has the same name 'LSTMCell' as a built-in Keras object. Consider renaming <class 'keras.layers.recurrent.LSTMCell'> to avoid naming conflicts when loading with `tf.keras.models.load_model`. If renaming is not possible, pass the object in the `custom_objects` parameter of the load function.\n",
            "WARNING:absl:<keras.layers.recurrent.LSTMCell object at 0x7fc7c7bf87d0> has the same name 'LSTMCell' as a built-in Keras object. Consider renaming <class 'keras.layers.recurrent.LSTMCell'> to avoid naming conflicts when loading with `tf.keras.models.load_model`. If renaming is not possible, pass the object in the `custom_objects` parameter of the load function.\n"
          ]
        },
        {
          "output_type": "stream",
          "name": "stdout",
          "text": [
            "\b\b\b\b\b\b\b\b\b\b\b\b\b\b\b\b\b\b\b\b\b\b\b\b\b\b\b\b\b\b\b\b\b\b\b\b\b\b\b\b\b\b\b\b\b\b\b\b\b\b\b\b\b\b\b\b\b\b\b\b\b\b\b\b\b\b\b\b\b\b\b\b\b\b\b\b\b\b\b\b\b\b\b\b\b\b\b\b\b\b\b\b\b\b\b\b\b\b\b\b\b\b\b\b\b\b\b\b\b\b\b\b\r320/320 [==============================] - 38s 110ms/step - loss: 0.3774 - accuracy: 0.8843 - mse: 0.1085 - mae: 0.2130 - val_loss: 0.5081 - val_accuracy: 0.8094 - val_mse: 0.1516 - val_mae: 0.2335\n",
            "Epoch 2/50\n",
            "320/320 [==============================] - ETA: 0s - loss: 0.3067 - accuracy: 0.8977 - mse: 0.0884 - mae: 0.1721"
          ]
        },
        {
          "output_type": "stream",
          "name": "stderr",
          "text": [
            "WARNING:absl:Found untraced functions such as lstm_cell_2_layer_call_fn, lstm_cell_2_layer_call_and_return_conditional_losses, lstm_cell_3_layer_call_fn, lstm_cell_3_layer_call_and_return_conditional_losses while saving (showing 4 of 4). These functions will not be directly callable after loading.\n"
          ]
        },
        {
          "output_type": "stream",
          "name": "stdout",
          "text": [
            "INFO:tensorflow:Assets written to: model_checkpoints/assets\n"
          ]
        },
        {
          "output_type": "stream",
          "name": "stderr",
          "text": [
            "INFO:tensorflow:Assets written to: model_checkpoints/assets\n",
            "WARNING:absl:<keras.layers.recurrent.LSTMCell object at 0x7fc7cda5af90> has the same name 'LSTMCell' as a built-in Keras object. Consider renaming <class 'keras.layers.recurrent.LSTMCell'> to avoid naming conflicts when loading with `tf.keras.models.load_model`. If renaming is not possible, pass the object in the `custom_objects` parameter of the load function.\n",
            "WARNING:absl:<keras.layers.recurrent.LSTMCell object at 0x7fc7c7bf87d0> has the same name 'LSTMCell' as a built-in Keras object. Consider renaming <class 'keras.layers.recurrent.LSTMCell'> to avoid naming conflicts when loading with `tf.keras.models.load_model`. If renaming is not possible, pass the object in the `custom_objects` parameter of the load function.\n"
          ]
        },
        {
          "output_type": "stream",
          "name": "stdout",
          "text": [
            "\b\b\b\b\b\b\b\b\b\b\b\b\b\b\b\b\b\b\b\b\b\b\b\b\b\b\b\b\b\b\b\b\b\b\b\b\b\b\b\b\b\b\b\b\b\b\b\b\b\b\b\b\b\b\b\b\b\b\b\b\b\b\b\b\b\b\b\b\b\b\b\b\b\b\b\b\b\b\b\b\b\b\b\b\b\b\b\b\b\b\b\b\b\b\b\b\b\b\b\b\b\b\b\b\b\b\b\b\b\b\b\b\r320/320 [==============================] - 35s 109ms/step - loss: 0.3067 - accuracy: 0.8977 - mse: 0.0884 - mae: 0.1721 - val_loss: 0.5074 - val_accuracy: 0.8094 - val_mse: 0.1471 - val_mae: 0.2201\n",
            "Epoch 3/50\n",
            "320/320 [==============================] - 26s 83ms/step - loss: 0.2652 - accuracy: 0.8884 - mse: 0.0776 - mae: 0.1517 - val_loss: 0.5452 - val_accuracy: 0.8094 - val_mse: 0.1501 - val_mae: 0.2159\n",
            "Epoch 4/50\n",
            "320/320 [==============================] - 26s 82ms/step - loss: 0.2240 - accuracy: 0.8922 - mse: 0.0643 - mae: 0.1283 - val_loss: 0.6848 - val_accuracy: 0.8131 - val_mse: 0.1711 - val_mae: 0.2074\n",
            "Epoch 5/50\n",
            "320/320 [==============================] - 27s 83ms/step - loss: 0.2018 - accuracy: 0.9235 - mse: 0.0566 - mae: 0.1134 - val_loss: 0.6796 - val_accuracy: 0.8015 - val_mse: 0.1711 - val_mae: 0.2089\n",
            "Epoch 6/50\n",
            "320/320 [==============================] - 26s 82ms/step - loss: 0.1747 - accuracy: 0.9384 - mse: 0.0480 - mae: 0.0985 - val_loss: 0.6672 - val_accuracy: 0.8115 - val_mse: 0.1630 - val_mae: 0.1992\n",
            "Epoch 7/50\n",
            "320/320 [==============================] - 26s 82ms/step - loss: 0.1654 - accuracy: 0.9448 - mse: 0.0445 - mae: 0.0920 - val_loss: 0.6963 - val_accuracy: 0.8205 - val_mse: 0.1657 - val_mae: 0.1927\n",
            "Epoch 8/50\n",
            "320/320 [==============================] - 26s 82ms/step - loss: 0.1453 - accuracy: 0.9518 - mse: 0.0387 - mae: 0.0802 - val_loss: 0.7362 - val_accuracy: 0.8179 - val_mse: 0.1687 - val_mae: 0.1936\n",
            "Epoch 9/50\n",
            "320/320 [==============================] - 26s 82ms/step - loss: 0.1373 - accuracy: 0.9543 - mse: 0.0361 - mae: 0.0738 - val_loss: 0.7038 - val_accuracy: 0.8129 - val_mse: 0.1648 - val_mae: 0.2001\n",
            "Epoch 10/50\n",
            "320/320 [==============================] - 27s 83ms/step - loss: 0.1211 - accuracy: 0.9593 - mse: 0.0324 - mae: 0.0663 - val_loss: 0.7314 - val_accuracy: 0.8219 - val_mse: 0.1607 - val_mae: 0.1890\n",
            "Epoch 11/50\n",
            "320/320 [==============================] - 26s 82ms/step - loss: 0.1218 - accuracy: 0.9571 - mse: 0.0331 - mae: 0.0665 - val_loss: 0.7079 - val_accuracy: 0.8168 - val_mse: 0.1603 - val_mae: 0.1872\n",
            "Epoch 12/50\n",
            "320/320 [==============================] - 26s 82ms/step - loss: 0.1196 - accuracy: 0.9584 - mse: 0.0322 - mae: 0.0640 - val_loss: 0.7599 - val_accuracy: 0.8109 - val_mse: 0.1695 - val_mae: 0.2000\n",
            "Epoch 13/50\n",
            "320/320 [==============================] - 26s 83ms/step - loss: 0.1122 - accuracy: 0.9605 - mse: 0.0302 - mae: 0.0613 - val_loss: 0.7649 - val_accuracy: 0.7915 - val_mse: 0.1785 - val_mae: 0.2165\n",
            "Epoch 14/50\n",
            "320/320 [==============================] - 26s 82ms/step - loss: 0.1083 - accuracy: 0.9604 - mse: 0.0297 - mae: 0.0597 - val_loss: 0.7737 - val_accuracy: 0.8218 - val_mse: 0.1620 - val_mae: 0.1905\n",
            "Epoch 15/50\n",
            "320/320 [==============================] - 26s 82ms/step - loss: 0.1020 - accuracy: 0.9639 - mse: 0.0276 - mae: 0.0555 - val_loss: 0.8173 - val_accuracy: 0.8018 - val_mse: 0.1762 - val_mae: 0.2069\n",
            "Epoch 16/50\n",
            "320/320 [==============================] - 27s 83ms/step - loss: 0.1006 - accuracy: 0.9637 - mse: 0.0275 - mae: 0.0547 - val_loss: 0.8677 - val_accuracy: 0.7926 - val_mse: 0.1864 - val_mae: 0.2162\n",
            "Epoch 17/50\n",
            "320/320 [==============================] - 27s 83ms/step - loss: 0.0961 - accuracy: 0.9656 - mse: 0.0260 - mae: 0.0524 - val_loss: 0.9037 - val_accuracy: 0.8002 - val_mse: 0.1838 - val_mae: 0.2073\n",
            "Epoch 17: early stopping\n"
          ]
        },
        {
          "output_type": "display_data",
          "data": {
            "text/plain": [
              "<Figure size 576x360 with 1 Axes>"
            ],
            "image/png": "[encoded data removed]"
          },
          "metadata": {
            "needs_background": "light"
          }
        },
        {
          "output_type": "execute_result",
          "data": {
            "text/plain": [
              "<keras.callbacks.History at 0x7fc7cd9b9c90>"
            ]
          },
          "metadata": {},
          "execution_count": 21
        }
      ],
      "source": [
        "tuned_model.fit()"
      ]
    },
    {
      "cell_type": "code",
      "execution_count": 22,
      "metadata": {
        "id": "HvQOPbinpi9a"
      },
      "outputs": [],
      "source": [
        "#Form batches (does not shuffle, cuts off remainder)\n",
        "batched_2015 = tuned_model.batch_prefetch_data(data2015,split_data=False)\n",
        "#Cutoff matching remainder from labels\n",
        "true_labels = labels2015[:-(labels2015.shape[0]%tuned_model.batch_size)]"
      ]
    },
    {
      "cell_type": "code",
      "execution_count": 23,
      "metadata": {
        "colab": {
          "base_uri": "https://localhost:8080/",
          "height": 290
        },
        "id": "m-XMZyf6I4YG",
        "outputId": "7a6b9aea-b5e4-4a0c-e7d8-403a2942ccbc"
      },
      "outputs": [
        {
          "output_type": "display_data",
          "data": {
            "text/plain": [
              "<Figure size 432x288 with 2 Axes>"
            ],
            "image/png": "[encoded data removed]"
          },
          "metadata": {
            "needs_background": "light"
          }
        }
      ],
      "source": [
        "conf_matrix = tuned_model.predict_conf_matrix(batched_2015,true_labels,make_plots=True)"
      ]
    },
    {
      "cell_type": "code",
      "execution_count": 24,
      "metadata": {
        "colab": {
          "base_uri": "https://localhost:8080/",
          "height": 81
        },
        "id": "Mi-VaL6epXf3",
        "outputId": "01328e42-1dbf-47a3-c08b-3155b9208812"
      },
      "outputs": [
        {
          "output_type": "execute_result",
          "data": {
            "text/plain": [
              "   precision    recall       far       hss\n",
              "0   0.966051  0.839507  0.726063  0.044712"
            ],
            "text/html": [
              "\n",
              "  <div id=\"df-855d6f3e-e5f4-4bf9-9d65-9b87fe11d052\">\n",
              "    <div class=\"colab-df-container\">\n",
              "      <div>\n",
              "<style scoped>\n",
              "    .dataframe tbody tr th:only-of-type {\n",
              "        vertical-align: middle;\n",
              "    }\n",
              "\n",
              "    .dataframe tbody tr th {\n",
              "        vertical-align: top;\n",
              "    }\n",
              "\n",
              "    .dataframe thead th {\n",
              "        text-align: right;\n",
              "    }\n",
              "</style>\n",
              "<table border=\"1\" class=\"dataframe\">\n",
              "  <thead>\n",
              "    <tr style=\"text-align: right;\">\n",
              "      <th></th>\n",
              "      <th>precision</th>\n",
              "      <th>recall</th>\n",
              "      <th>far</th>\n",
              "      <th>hss</th>\n",
              "    </tr>\n",
              "  </thead>\n",
              "  <tbody>\n",
              "    <tr>\n",
              "      <th>0</th>\n",
              "      <td>0.966051</td>\n",
              "      <td>0.839507</td>\n",
              "      <td>0.726063</td>\n",
              "      <td>0.044712</td>\n",
              "    </tr>\n",
              "  </tbody>\n",
              "</table>\n",
              "</div>\n",
              "      <button class=\"colab-df-convert\" onclick=\"convertToInteractive('df-855d6f3e-e5f4-4bf9-9d65-9b87fe11d052')\"\n",
              "              title=\"Convert this dataframe to an interactive table.\"\n",
              "              style=\"display:none;\">\n",
              "        \n",
              "  <svg xmlns=\"http://www.w3.org/2000/svg\" height=\"24px\"viewBox=\"0 0 24 24\"\n",
              "       width=\"24px\">\n",
              "    <path d=\"M0 0h24v24H0V0z\" fill=\"none\"/>\n",
              "    <path d=\"M18.56 5.44l.94 2.06.94-2.06 2.06-.94-2.06-.94-.94-2.06-.94 2.06-2.06.94zm-11 1L8.5 8.5l.94-2.06 2.06-.94-2.06-.94L8.5 2.5l-.94 2.06-2.06.94zm10 10l.94 2.06.94-2.06 2.06-.94-2.06-.94-.94-2.06-.94 2.06-2.06.94z\"/><path d=\"M17.41 7.96l-1.37-1.37c-.4-.4-.92-.59-1.43-.59-.52 0-1.04.2-1.43.59L10.3 9.45l-7.72 7.72c-.78.78-.78 2.05 0 2.83L4 21.41c.39.39.9.59 1.41.59.51 0 1.02-.2 1.41-.59l7.78-7.78 2.81-2.81c.8-.78.8-2.07 0-2.86zM5.41 20L4 18.59l7.72-7.72 1.47 1.35L5.41 20z\"/>\n",
              "  </svg>\n",
              "      </button>\n",
              "      \n",
              "  <style>\n",
              "    .colab-df-container {\n",
              "      display:flex;\n",
              "      flex-wrap:wrap;\n",
              "      gap: 12px;\n",
              "    }\n",
              "\n",
              "    .colab-df-convert {\n",
              "      background-color: #E8F0FE;\n",
              "      border: none;\n",
              "      border-radius: 50%;\n",
              "      cursor: pointer;\n",
              "      display: none;\n",
              "      fill: #1967D2;\n",
              "      height: 32px;\n",
              "      padding: 0 0 0 0;\n",
              "      width: 32px;\n",
              "    }\n",
              "\n",
              "    .colab-df-convert:hover {\n",
              "      background-color: #E2EBFA;\n",
              "      box-shadow: 0px 1px 2px rgba(60, 64, 67, 0.3), 0px 1px 3px 1px rgba(60, 64, 67, 0.15);\n",
              "      fill: #174EA6;\n",
              "    }\n",
              "\n",
              "    [theme=dark] .colab-df-convert {\n",
              "      background-color: #3B4455;\n",
              "      fill: #D2E3FC;\n",
              "    }\n",
              "\n",
              "    [theme=dark] .colab-df-convert:hover {\n",
              "      background-color: #434B5C;\n",
              "      box-shadow: 0px 1px 3px 1px rgba(0, 0, 0, 0.15);\n",
              "      filter: drop-shadow(0px 1px 2px rgba(0, 0, 0, 0.3));\n",
              "      fill: #FFFFFF;\n",
              "    }\n",
              "  </style>\n",
              "\n",
              "      <script>\n",
              "        const buttonEl =\n",
              "          document.querySelector('#df-855d6f3e-e5f4-4bf9-9d65-9b87fe11d052 button.colab-df-convert');\n",
              "        buttonEl.style.display =\n",
              "          google.colab.kernel.accessAllowed ? 'block' : 'none';\n",
              "\n",
              "        async function convertToInteractive(key) {\n",
              "          const element = document.querySelector('#df-855d6f3e-e5f4-4bf9-9d65-9b87fe11d052');\n",
              "          const dataTable =\n",
              "            await google.colab.kernel.invokeFunction('convertToInteractive',\n",
              "                                                     [key], {});\n",
              "          if (!dataTable) return;\n",
              "\n",
              "          const docLinkHtml = 'Like what you see? Visit the ' +\n",
              "            '<a target=\"_blank\" href=https://colab.research.google.com/notebooks/data_table.ipynb>data table notebook</a>'\n",
              "            + ' to learn more about interactive tables.';\n",
              "          element.innerHTML = '';\n",
              "          dataTable['output_type'] = 'display_data';\n",
              "          await google.colab.output.renderOutput(dataTable, element);\n",
              "          const docLink = document.createElement('div');\n",
              "          docLink.innerHTML = docLinkHtml;\n",
              "          element.appendChild(docLink);\n",
              "        }\n",
              "      </script>\n",
              "    </div>\n",
              "  </div>\n",
              "  "
            ]
          },
          "metadata": {},
          "execution_count": 24
        }
      ],
      "source": [
        "calculate_statistics(conf_matrix)"
      ]
    },
    {
      "cell_type": "code",
      "execution_count": 25,
      "metadata": {
        "colab": {
          "base_uri": "https://localhost:8080/"
        },
        "id": "8uM0OL9QpujF",
        "outputId": "2412f133-1c31-454d-8514-9714abfcacee"
      },
      "outputs": [
        {
          "output_type": "stream",
          "name": "stdout",
          "text": [
            "Model: \"sequential_1\"\n",
            "_________________________________________________________________\n",
            " Layer (type)                Output Shape              Param #   \n",
            "=================================================================\n",
            " lstm_2 (LSTM)               (64, 120, 32)             9088      \n",
            "                                                                 \n",
            " lstm_3 (LSTM)               (64, 120, 32)             8320      \n",
            "                                                                 \n",
            " dropout_1 (Dropout)         (64, 120, 32)             0         \n",
            "                                                                 \n",
            " dense_1 (Dense)             (64, 120, 1)              33        \n",
            "                                                                 \n",
            "=================================================================\n",
            "Total params: 17,441\n",
            "Trainable params: 17,441\n",
            "Non-trainable params: 0\n",
            "_________________________________________________________________\n"
          ]
        }
      ],
      "source": [
        "tuned_model.model.summary()"
      ]
    },
    {
      "cell_type": "markdown",
      "metadata": {
        "id": "wetBz_EiNHYJ"
      },
      "source": [
        "# Models for ONLY Magnetic Field Parameters\n",
        "\n",
        "In DataSelection() set the following arguments:\n",
        "\n",
        "* use_all=False\n",
        "* select_columns=[magnetic field parameters]"
      ]
    },
    {
      "cell_type": "code",
      "execution_count": 3,
      "metadata": {
        "id": "kcnRhTHHNgb5"
      },
      "outputs": [],
      "source": [
        "mf_parameters = [\"TOTUSJH\", \"TOTBSQ\", \"TOTPOT\", \"TOTUSJZ\", \"ABSNJZH\", \"SAVNCPP\",\n",
        "                 \"USFLUX\", \"TOTFZ\", \"MEANPOT\", \"EPSZ\", \"MEANSHR\", \"SHRGT45\", \n",
        "                 \"MEANGAM\", \"MEANGBT\", \"MEANGBZ\", \"MEANGBH\", \"MEANJZH\", \"TOTFY\",\n",
        "                 \"MEANJZD\", \"MEANALP\", \"TOTFX\", \"EPSY\", \"EPSX\", \"R_VALUE\"]"
      ]
    },
    {
      "cell_type": "markdown",
      "metadata": {
        "id": "OX0yhFFYUWzF"
      },
      "source": [
        "## Creating Data"
      ]
    },
    {
      "cell_type": "code",
      "execution_count": 4,
      "metadata": {
        "colab": {
          "base_uri": "https://localhost:8080/"
        },
        "id": "LHepG4AUNDtX",
        "outputId": "4360c7c3-16e1-4068-cf61-81292646ce41"
      },
      "outputs": [
        {
          "output_type": "stream",
          "name": "stdout",
          "text": [
            "Num GB used in data array: 0.001201629638671875\n",
            "Num GB used in data array: 0.0016951560974121094\n",
            "Num GB used in data array: 0.003926753997802734\n",
            "Num GB used in data array: 0.007402896881103516\n",
            "Num GB used in data array: 0.008776187896728516\n",
            "Num GB used in data array: 0.009806156158447266\n",
            "Num GB used in data array: 0.010600090026855469\n",
            "Num GB used in data array: 0.014526844024658203\n",
            "Num GB used in data array: 0.01476287841796875\n",
            "Num GB used in data array: 0.016930103302001953\n",
            "Num GB used in data array: 0.018131732940673828\n",
            "Num GB used in data array: 0.025556087493896484\n",
            "Num GB used in data array: 0.02675771713256836\n",
            "Num GB used in data array: 0.03021240234375\n",
            "Num GB used in data array: 0.03542661666870117\n",
            "Num GB used in data array: 0.03609180450439453\n",
            "Num GB used in data array: 0.06585359573364258\n",
            "Num GB used in data array: 0.06892204284667969\n",
            "Num GB used in data array: 0.06915807723999023\n",
            "Num GB used in data array: 0.06928682327270508\n",
            "Num GB used in data array: 0.07016658782958984\n",
            "Num GB used in data array: 0.07136821746826172\n",
            "Num GB used in data array: 0.07272005081176758\n",
            "Num GB used in data array: 0.08003711700439453\n",
            "Num GB used in data array: 0.08048772811889648\n",
            "Num GB used in data array: 0.08168935775756836\n",
            "Num GB used in data array: 0.08289098739624023\n",
            "Num GB used in data array: 0.08430719375610352\n",
            "Num GB used in data array: 0.08550882339477539\n",
            "Num GB used in data array: 0.08671045303344727\n",
            "Num GB used in data array: 0.08791208267211914\n",
            "Num GB used in data array: 0.09711742401123047\n",
            "Num GB used in data array: 0.09831905364990234\n",
            "Num GB used in data array: 0.0990915298461914\n",
            "Num GB used in data array: 0.09943485260009766\n",
            "Num GB used in data array: 0.1032114028930664\n",
            "Num GB used in data array: 0.10503530502319336\n",
            "Num GB used in data array: 0.1058506965637207\n",
            "Num GB used in data array: 0.10600090026855469\n",
            "Num GB used in data array: 0.1121377944946289\n",
            "Num GB used in data array: 0.1123952865600586\n",
            "Num GB used in data array: 0.11941194534301758\n",
            "Num GB used in data array: 0.12134313583374023\n",
            "Num GB used in data array: 0.12788772583007812\n",
            "Num GB used in data array: 0.13773679733276367\n",
            "Num GB used in data array: 0.16543865203857422\n",
            "Num GB used in data array: 0.19054412841796875\n",
            "Num GB used in data array: 0.19588708877563477\n",
            "Num GB used in data array: 0.19633769989013672\n",
            "Num GB used in data array: 0.19665956497192383\n",
            "Num GB used in data array: 0.19672393798828125\n",
            "Num GB used in data array: 0.2086329460144043\n",
            "Num GB used in data array: 0.20977020263671875\n",
            "Num GB used in data array: 0.21886825561523438\n",
            "Num GB used in data array: 0.21944761276245117\n",
            "Num GB used in data array: 0.21974802017211914\n",
            "Num GB used in data array: 0.22296667098999023\n",
            "Num GB used in data array: 0.23084163665771484\n",
            "Num GB used in data array: 0.2516341209411621\n",
            "Num GB used in data array: 0.25504589080810547\n",
            "Num GB used in data array: 0.27489423751831055\n",
            "Num GB used in data array: 0.2937126159667969\n",
            "Num GB used in data array: 0.3149986267089844\n",
            "Num GB used in data array: 0.36420106887817383\n",
            "Num GB used in data array: 0.3923964500427246\n",
            "Num GB used in data array: 0.4062795639038086\n",
            "Num GB used in data array: 0.4222440719604492\n",
            "Num GB used in data array: 0.42278051376342773\n",
            "Num GB used in data array: 0.4256129264831543\n",
            "Num GB used in data array: 0.4263639450073242\n",
            "Num GB used in data array: 0.4383373260498047\n",
            "Num GB used in data array: 0.4471564292907715\n",
            "Num GB used in data array: 0.44792890548706055\n",
            "Num GB used in data array: 0.4555678367614746\n",
            "Num GB used in data array: 0.4840850830078125\n",
            "Num GB used in data array: 0.49230337142944336\n",
            "Num GB used in data array: 0.5345320701599121\n",
            "Num GB used in data array: 0.5410122871398926\n",
            "Num GB used in data array: 0.5411839485168457\n",
            "Num GB used in data array: 0.5414199829101562\n",
            "Num GB used in data array: 0.5416560173034668\n",
            "Num GB used in data array: 0.5426430702209473\n",
            "Num GB used in data array: 0.5433082580566406\n",
            "Num GB used in data array: 0.5436086654663086\n",
            "Num GB used in data array: 0.5449390411376953\n",
            "Num GB used in data array: 0.5503678321838379\n"
          ]
        },
        {
          "output_type": "execute_result",
          "data": {
            "text/plain": [
              "<data_creation.DataSelection at 0x7efbd9678150>"
            ]
          },
          "metadata": {},
          "execution_count": 4
        }
      ],
      "source": [
        "with open(\"/content/all_data.pkl\", \"rb\") as file:\n",
        "    data = pickle.load(file)\n",
        "\n",
        "DataSelection(data, 2014, \"./\", 24, use_all=False, select_columns=mf_parameters)"
      ]
    },
    {
      "cell_type": "code",
      "execution_count": 5,
      "metadata": {
        "colab": {
          "base_uri": "https://localhost:8080/"
        },
        "id": "OkzYmlzhNDtq",
        "outputId": "fcf5f8d6-e499-4c89-ca14-7bf9c6ccf76a"
      },
      "outputs": [
        {
          "output_type": "stream",
          "name": "stdout",
          "text": [
            "Num GB used in data array: 0.001201629638671875\n",
            "Num GB used in data array: 0.0019741058349609375\n",
            "Num GB used in data array: 0.006930828094482422\n",
            "Num GB used in data array: 0.011050701141357422\n",
            "Num GB used in data array: 0.015256404876708984\n",
            "Num GB used in data array: 0.019848346710205078\n",
            "Num GB used in data array: 0.021049976348876953\n",
            "Num GB used in data array: 0.022251605987548828\n",
            "Num GB used in data array: 0.029246807098388672\n",
            "Num GB used in data array: 0.02948284149169922\n",
            "Num GB used in data array: 0.030062198638916016\n",
            "Num GB used in data array: 0.03710031509399414\n",
            "Num GB used in data array: 0.038301944732666016\n",
            "Num GB used in data array: 0.03885984420776367\n",
            "Num GB used in data array: 0.04467487335205078\n",
            "Num GB used in data array: 0.04534006118774414\n",
            "Num GB used in data array: 0.07265567779541016\n",
            "Num GB used in data array: 0.07750511169433594\n",
            "Num GB used in data array: 0.07967233657836914\n",
            "Num GB used in data array: 0.07980108261108398\n",
            "Num GB used in data array: 0.08038043975830078\n",
            "Num GB used in data array: 0.08068084716796875\n",
            "Num GB used in data array: 0.08555173873901367\n",
            "Num GB used in data array: 0.08694648742675781\n",
            "Num GB used in data array: 0.08988618850708008\n",
            "Num GB used in data array: 0.09479999542236328\n",
            "Num GB used in data array: 0.1127171516418457\n",
            "Num GB used in data array: 0.1466202735900879\n",
            "Num GB used in data array: 0.15295028686523438\n",
            "Num GB used in data array: 0.15383005142211914\n",
            "Num GB used in data array: 0.15415191650390625\n",
            "Num GB used in data array: 0.16904354095458984\n",
            "Num GB used in data array: 0.1727128028869629\n",
            "Num GB used in data array: 0.18580198287963867\n",
            "Num GB used in data array: 0.19071578979492188\n",
            "Num GB used in data array: 0.19515752792358398\n",
            "Num GB used in data array: 0.19919157028198242\n",
            "Num GB used in data array: 0.2035689353942871\n",
            "Num GB used in data array: 0.20386934280395508\n",
            "Num GB used in data array: 0.2040410041809082\n",
            "Num GB used in data array: 0.21944761276245117\n",
            "Num GB used in data array: 0.22060632705688477\n",
            "Num GB used in data array: 0.23159265518188477\n",
            "Num GB used in data array: 0.24474620819091797\n",
            "Num GB used in data array: 0.2732419967651367\n",
            "Num GB used in data array: 0.3200840950012207\n",
            "Num GB used in data array: 0.3518843650817871\n",
            "Num GB used in data array: 0.3688359260559082\n",
            "Num GB used in data array: 0.3781270980834961\n",
            "Num GB used in data array: 0.3786635398864746\n",
            "Num GB used in data array: 0.3814530372619629\n",
            "Num GB used in data array: 0.3833198547363281\n",
            "Num GB used in data array: 0.399477481842041\n",
            "Num GB used in data array: 0.41290998458862305\n",
            "Num GB used in data array: 0.4144763946533203\n",
            "Num GB used in data array: 0.42732954025268555\n",
            "Num GB used in data array: 0.42780160903930664\n",
            "Num GB used in data array: 0.4729485511779785\n",
            "Num GB used in data array: 0.49193859100341797\n",
            "Num GB used in data array: 0.556483268737793\n",
            "Num GB used in data array: 0.5633282661437988\n",
            "Num GB used in data array: 0.565495491027832\n",
            "Num GB used in data array: 0.5706238746643066\n",
            "Num GB used in data array: 0.5753660202026367\n",
            "Num GB used in data array: 0.5789709091186523\n",
            "Num GB used in data array: 0.5814170837402344\n",
            "Num GB used in data array: 0.583498477935791\n",
            "Num GB used in data array: 0.5856013298034668\n",
            "Num GB used in data array: 0.5864596366882324\n",
            "Num GB used in data array: 0.5866098403930664\n",
            "Num GB used in data array: 0.5874037742614746\n",
            "Num GB used in data array: 0.5927896499633789\n",
            "Num GB used in data array: 0.6112432479858398\n"
          ]
        },
        {
          "output_type": "execute_result",
          "data": {
            "text/plain": [
              "<data_creation.DataSelection at 0x7efbd9672810>"
            ]
          },
          "metadata": {},
          "execution_count": 5
        }
      ],
      "source": [
        "with open(\"norm_scaler.pkl\", \"rb\") as norm_file:\n",
        "    normalization = pickle.load(norm_file)\n",
        "\n",
        "with open(\"stand_scaler.pkl\", \"rb\") as stand_file:\n",
        "    standard = pickle.load(stand_file)\n",
        "\n",
        "DataSelection(data, 2015,\"./\", 24, use_all=False, select_columns=mf_parameters,\n",
        "              norm_scaler=normalization, stand_scaler=standard)"
      ]
    },
    {
      "cell_type": "markdown",
      "metadata": {
        "id": "jJkOJWHpUbEW"
      },
      "source": [
        "## Load Data and Run Models"
      ]
    },
    {
      "cell_type": "code",
      "execution_count": 6,
      "metadata": {
        "id": "_2vrpSwNNDtq"
      },
      "outputs": [],
      "source": [
        "data2014_mf = np.load(\"data_2014.npy\")\n",
        "labels2014_mf = np.load(\"labels_2014.npy\")"
      ]
    },
    {
      "cell_type": "code",
      "execution_count": 7,
      "metadata": {
        "id": "EK4QoBskNDtr"
      },
      "outputs": [],
      "source": [
        "mf_model = SolarLSTM(data2014_mf, labels2014_mf, \"./\")"
      ]
    },
    {
      "cell_type": "code",
      "execution_count": 8,
      "metadata": {
        "id": "o64p85LENDtr"
      },
      "outputs": [],
      "source": [
        "mf_model.build_model()"
      ]
    },
    {
      "cell_type": "code",
      "execution_count": 9,
      "metadata": {
        "colab": {
          "base_uri": "https://localhost:8080/"
        },
        "id": "1a6nHcNHNDtr",
        "outputId": "d73f9571-1755-4b29-b3de-c3c0ac2041a7"
      },
      "outputs": [
        {
          "output_type": "stream",
          "name": "stdout",
          "text": [
            "Model: \"sequential\"\n",
            "_________________________________________________________________\n",
            " Layer (type)                Output Shape              Param #   \n",
            "=================================================================\n",
            " lstm (LSTM)                 (64, 120, 16)             2624      \n",
            "                                                                 \n",
            " lstm_1 (LSTM)               (64, 120, 16)             2112      \n",
            "                                                                 \n",
            " dropout (Dropout)           (64, 120, 16)             0         \n",
            "                                                                 \n",
            " dense (Dense)               (64, 120, 1)              17        \n",
            "                                                                 \n",
            "=================================================================\n",
            "Total params: 4,753\n",
            "Trainable params: 4,753\n",
            "Non-trainable params: 0\n",
            "_________________________________________________________________\n"
          ]
        }
      ],
      "source": [
        "mf_model.model.summary()"
      ]
    },
    {
      "cell_type": "code",
      "execution_count": 10,
      "metadata": {
        "colab": {
          "base_uri": "https://localhost:8080/",
          "height": 1000
        },
        "id": "AzkfkXdTNDts",
        "outputId": "7f243da4-df72-418a-ea13-80a7d7e91680"
      },
      "outputs": [
        {
          "output_type": "stream",
          "name": "stdout",
          "text": [
            "Epoch 1/50\n"
          ]
        },
        {
          "output_type": "stream",
          "name": "stderr",
          "text": [
            "/usr/local/lib/python3.7/dist-packages/tensorflow/python/util/dispatch.py:1082: UserWarning: \"`binary_crossentropy` received `from_logits=True`, but the `output` argument was produced by a sigmoid or softmax activation and thus does not represent logits. Was this intended?\"\n",
            "  return dispatch_target(*args, **kwargs)\n"
          ]
        },
        {
          "output_type": "stream",
          "name": "stdout",
          "text": [
            "320/320 [==============================] - ETA: 0s - loss: 0.3924 - accuracy: 0.8803 - mse: 0.1130 - mae: 0.2293"
          ]
        },
        {
          "output_type": "stream",
          "name": "stderr",
          "text": [
            "WARNING:absl:Found untraced functions such as lstm_cell_layer_call_fn, lstm_cell_layer_call_and_return_conditional_losses, lstm_cell_1_layer_call_fn, lstm_cell_1_layer_call_and_return_conditional_losses while saving (showing 4 of 4). These functions will not be directly callable after loading.\n"
          ]
        },
        {
          "output_type": "stream",
          "name": "stdout",
          "text": [
            "INFO:tensorflow:Assets written to: model_checkpoints/assets\n"
          ]
        },
        {
          "output_type": "stream",
          "name": "stderr",
          "text": [
            "INFO:tensorflow:Assets written to: model_checkpoints/assets\n",
            "WARNING:absl:<keras.layers.recurrent.LSTMCell object at 0x7efbd96722d0> has the same name 'LSTMCell' as a built-in Keras object. Consider renaming <class 'keras.layers.recurrent.LSTMCell'> to avoid naming conflicts when loading with `tf.keras.models.load_model`. If renaming is not possible, pass the object in the `custom_objects` parameter of the load function.\n",
            "WARNING:absl:<keras.layers.recurrent.LSTMCell object at 0x7efbbb6b2090> has the same name 'LSTMCell' as a built-in Keras object. Consider renaming <class 'keras.layers.recurrent.LSTMCell'> to avoid naming conflicts when loading with `tf.keras.models.load_model`. If renaming is not possible, pass the object in the `custom_objects` parameter of the load function.\n"
          ]
        },
        {
          "output_type": "stream",
          "name": "stdout",
          "text": [
            "\b\b\b\b\b\b\b\b\b\b\b\b\b\b\b\b\b\b\b\b\b\b\b\b\b\b\b\b\b\b\b\b\b\b\b\b\b\b\b\b\b\b\b\b\b\b\b\b\b\b\b\b\b\b\b\b\b\b\b\b\b\b\b\b\b\b\b\b\b\b\b\b\b\b\b\b\b\b\b\b\b\b\b\b\b\b\b\b\b\b\b\b\b\b\b\b\b\b\b\b\b\b\b\b\b\b\b\b\b\b\b\b\r320/320 [==============================] - 35s 99ms/step - loss: 0.3924 - accuracy: 0.8803 - mse: 0.1130 - mae: 0.2293 - val_loss: 0.5093 - val_accuracy: 0.8094 - val_mse: 0.1585 - val_mae: 0.2503\n",
            "Epoch 2/50\n",
            "320/320 [==============================] - 22s 68ms/step - loss: 0.3198 - accuracy: 0.8957 - mse: 0.0909 - mae: 0.1783 - val_loss: 0.5221 - val_accuracy: 0.8086 - val_mse: 0.1581 - val_mae: 0.2374\n",
            "Epoch 3/50\n",
            "320/320 [==============================] - ETA: 0s - loss: 0.3057 - accuracy: 0.8961 - mse: 0.0864 - mae: 0.1683"
          ]
        },
        {
          "output_type": "stream",
          "name": "stderr",
          "text": [
            "WARNING:absl:Found untraced functions such as lstm_cell_layer_call_fn, lstm_cell_layer_call_and_return_conditional_losses, lstm_cell_1_layer_call_fn, lstm_cell_1_layer_call_and_return_conditional_losses while saving (showing 4 of 4). These functions will not be directly callable after loading.\n"
          ]
        },
        {
          "output_type": "stream",
          "name": "stdout",
          "text": [
            "INFO:tensorflow:Assets written to: model_checkpoints/assets\n"
          ]
        },
        {
          "output_type": "stream",
          "name": "stderr",
          "text": [
            "INFO:tensorflow:Assets written to: model_checkpoints/assets\n",
            "WARNING:absl:<keras.layers.recurrent.LSTMCell object at 0x7efbd96722d0> has the same name 'LSTMCell' as a built-in Keras object. Consider renaming <class 'keras.layers.recurrent.LSTMCell'> to avoid naming conflicts when loading with `tf.keras.models.load_model`. If renaming is not possible, pass the object in the `custom_objects` parameter of the load function.\n",
            "WARNING:absl:<keras.layers.recurrent.LSTMCell object at 0x7efbbb6b2090> has the same name 'LSTMCell' as a built-in Keras object. Consider renaming <class 'keras.layers.recurrent.LSTMCell'> to avoid naming conflicts when loading with `tf.keras.models.load_model`. If renaming is not possible, pass the object in the `custom_objects` parameter of the load function.\n"
          ]
        },
        {
          "output_type": "stream",
          "name": "stdout",
          "text": [
            "\b\b\b\b\b\b\b\b\b\b\b\b\b\b\b\b\b\b\b\b\b\b\b\b\b\b\b\b\b\b\b\b\b\b\b\b\b\b\b\b\b\b\b\b\b\b\b\b\b\b\b\b\b\b\b\b\b\b\b\b\b\b\b\b\b\b\b\b\b\b\b\b\b\b\b\b\b\b\b\b\b\b\b\b\b\b\b\b\b\b\b\b\b\b\b\b\b\b\b\b\b\b\b\b\b\b\b\b\b\b\b\b\r320/320 [==============================] - 30s 94ms/step - loss: 0.3057 - accuracy: 0.8961 - mse: 0.0864 - mae: 0.1683 - val_loss: 0.5050 - val_accuracy: 0.8130 - val_mse: 0.1503 - val_mae: 0.2334\n",
            "Epoch 4/50\n",
            "320/320 [==============================] - 22s 68ms/step - loss: 0.2878 - accuracy: 0.9003 - mse: 0.0808 - mae: 0.1599 - val_loss: 0.5473 - val_accuracy: 0.8063 - val_mse: 0.1623 - val_mae: 0.2250\n",
            "Epoch 5/50\n",
            "320/320 [==============================] - 22s 67ms/step - loss: 0.2666 - accuracy: 0.9022 - mse: 0.0738 - mae: 0.1484 - val_loss: 0.5698 - val_accuracy: 0.7873 - val_mse: 0.1682 - val_mae: 0.2396\n",
            "Epoch 6/50\n",
            "320/320 [==============================] - 22s 69ms/step - loss: 0.2459 - accuracy: 0.9174 - mse: 0.0667 - mae: 0.1354 - val_loss: 0.6448 - val_accuracy: 0.7984 - val_mse: 0.1760 - val_mae: 0.2236\n",
            "Epoch 7/50\n",
            "320/320 [==============================] - 22s 69ms/step - loss: 0.2306 - accuracy: 0.9219 - mse: 0.0617 - mae: 0.1267 - val_loss: 0.6161 - val_accuracy: 0.7771 - val_mse: 0.1757 - val_mae: 0.2439\n",
            "Epoch 8/50\n",
            "320/320 [==============================] - 22s 69ms/step - loss: 0.2039 - accuracy: 0.9367 - mse: 0.0531 - mae: 0.1106 - val_loss: 0.6830 - val_accuracy: 0.7971 - val_mse: 0.1803 - val_mae: 0.2183\n",
            "Epoch 9/50\n",
            "320/320 [==============================] - 22s 70ms/step - loss: 0.1904 - accuracy: 0.9436 - mse: 0.0481 - mae: 0.0990 - val_loss: 0.6656 - val_accuracy: 0.7933 - val_mse: 0.1785 - val_mae: 0.2215\n",
            "Epoch 10/50\n",
            "320/320 [==============================] - 22s 70ms/step - loss: 0.1833 - accuracy: 0.9473 - mse: 0.0459 - mae: 0.0944 - val_loss: 0.7201 - val_accuracy: 0.7808 - val_mse: 0.1938 - val_mae: 0.2322\n",
            "Epoch 11/50\n",
            "320/320 [==============================] - 22s 69ms/step - loss: 0.1724 - accuracy: 0.9503 - mse: 0.0427 - mae: 0.0872 - val_loss: 0.7051 - val_accuracy: 0.8077 - val_mse: 0.1781 - val_mae: 0.2067\n",
            "Epoch 12/50\n",
            "320/320 [==============================] - 22s 69ms/step - loss: 0.1723 - accuracy: 0.9481 - mse: 0.0433 - mae: 0.0887 - val_loss: 0.7487 - val_accuracy: 0.7877 - val_mse: 0.1915 - val_mae: 0.2244\n",
            "Epoch 13/50\n",
            "320/320 [==============================] - 22s 69ms/step - loss: 0.1636 - accuracy: 0.9521 - mse: 0.0403 - mae: 0.0823 - val_loss: 0.7488 - val_accuracy: 0.7815 - val_mse: 0.1941 - val_mae: 0.2276\n",
            "Epoch 14/50\n",
            "320/320 [==============================] - 23s 71ms/step - loss: 0.1559 - accuracy: 0.9540 - mse: 0.0385 - mae: 0.0786 - val_loss: 0.7674 - val_accuracy: 0.7793 - val_mse: 0.1959 - val_mae: 0.2287\n",
            "Epoch 15/50\n",
            "320/320 [==============================] - 23s 71ms/step - loss: 0.1583 - accuracy: 0.9519 - mse: 0.0398 - mae: 0.0813 - val_loss: 0.7883 - val_accuracy: 0.7877 - val_mse: 0.1910 - val_mae: 0.2187\n",
            "Epoch 16/50\n",
            "320/320 [==============================] - 22s 70ms/step - loss: 0.1535 - accuracy: 0.9546 - mse: 0.0381 - mae: 0.0772 - val_loss: 0.7454 - val_accuracy: 0.7992 - val_mse: 0.1822 - val_mae: 0.2124\n",
            "Epoch 17/50\n",
            "320/320 [==============================] - 22s 70ms/step - loss: 0.1516 - accuracy: 0.9559 - mse: 0.0373 - mae: 0.0768 - val_loss: 0.7886 - val_accuracy: 0.7663 - val_mse: 0.2069 - val_mae: 0.2423\n",
            "Epoch 18/50\n",
            "320/320 [==============================] - 22s 69ms/step - loss: 0.1506 - accuracy: 0.9540 - mse: 0.0378 - mae: 0.0770 - val_loss: 0.7978 - val_accuracy: 0.7887 - val_mse: 0.1947 - val_mae: 0.2256\n",
            "Epoch 18: early stopping\n"
          ]
        },
        {
          "output_type": "display_data",
          "data": {
            "text/plain": [
              "<Figure size 576x360 with 1 Axes>"
            ],
            "image/png": "[encoded data removed]"
          },
          "metadata": {
            "needs_background": "light"
          }
        }
      ],
      "source": [
        "history=mf_model.fit()"
      ]
    },
    {
      "cell_type": "code",
      "execution_count": 11,
      "metadata": {
        "id": "-WghMSriNDts"
      },
      "outputs": [],
      "source": [
        "data2015_mf = np.load(\"data_2015.npy\")\n",
        "labels2015_mf = np.load(\"labels_2015.npy\")"
      ]
    },
    {
      "cell_type": "code",
      "execution_count": 12,
      "metadata": {
        "colab": {
          "base_uri": "https://localhost:8080/"
        },
        "id": "imdWAVM3NDtt",
        "outputId": "7cb33966-28f6-4bcd-c615-93ceac5a6112"
      },
      "outputs": [
        {
          "output_type": "execute_result",
          "data": {
            "text/plain": [
              "(28486, 120, 24)"
            ]
          },
          "metadata": {},
          "execution_count": 12
        }
      ],
      "source": [
        "data2015_mf.shape"
      ]
    },
    {
      "cell_type": "code",
      "execution_count": 13,
      "metadata": {
        "colab": {
          "base_uri": "https://localhost:8080/"
        },
        "id": "i0zr1gAGNDtt",
        "outputId": "5b45b29b-4c9b-4c0d-8984-5c550ad07f47"
      },
      "outputs": [
        {
          "output_type": "stream",
          "name": "stdout",
          "text": [
            "445/445 [==============================] - 10s 21ms/step - loss: 0.6861 - accuracy: 0.8113 - mse: 0.1698 - mae: 0.2024\n"
          ]
        },
        {
          "output_type": "execute_result",
          "data": {
            "text/plain": [
              "[0.6860914826393127,\n",
              " 0.8113354444503784,\n",
              " 0.16979898512363434,\n",
              " 0.20242321491241455]"
            ]
          },
          "metadata": {},
          "execution_count": 13
        }
      ],
      "source": [
        "mf_new = mf_model.batch_prefetch_data(data2015_mf,labels2015_mf,split_data=False)\n",
        "mf_model.evaluate(mf_new)\n",
        "#base_model.evaluate(data_new,labels_new)"
      ]
    },
    {
      "cell_type": "code",
      "execution_count": 14,
      "metadata": {
        "colab": {
          "base_uri": "https://localhost:8080/",
          "height": 290
        },
        "id": "e4IDRyleNDtt",
        "outputId": "7fb86106-4b82-4056-aa03-fabbe6f55217"
      },
      "outputs": [
        {
          "output_type": "display_data",
          "data": {
            "text/plain": [
              "<Figure size 432x288 with 2 Axes>"
            ],
            "image/png": "[encoded data removed]"
          },
          "metadata": {
            "needs_background": "light"
          }
        }
      ],
      "source": [
        "#Form batches (does not shuffle, cuts off remainder)\n",
        "batched_2015_mf = mf_model.batch_prefetch_data(data2015_mf,split_data=False)\n",
        "#Cutoff matching remainder from labels\n",
        "true_labels_mf = labels2015_mf[:-(labels2015_mf.shape[0] % mf_model.batch_size)]\n",
        "#Do predictions and get confusion matrix\n",
        "conf_matrix_mf = mf_model.predict_conf_matrix(batched_2015_mf,true_labels_mf,make_plots=True)"
      ]
    },
    {
      "cell_type": "code",
      "execution_count": 15,
      "metadata": {
        "colab": {
          "base_uri": "https://localhost:8080/"
        },
        "id": "T52Qg_7zNDtu",
        "outputId": "71a4c713-2be3-4ff6-a9cd-e70ecf380d1d"
      },
      "outputs": [
        {
          "output_type": "execute_result",
          "data": {
            "text/plain": [
              "array([[  69579,  494061],\n",
              "       [ 161276, 2692684]])"
            ]
          },
          "metadata": {},
          "execution_count": 15
        }
      ],
      "source": [
        "conf_matrix_mf"
      ]
    },
    {
      "cell_type": "code",
      "execution_count": 16,
      "metadata": {
        "colab": {
          "base_uri": "https://localhost:8080/",
          "height": 81
        },
        "id": "gVnEX3bwSS6n",
        "outputId": "8d64a441-62a0-42e9-853b-8c349f1edbdd"
      },
      "outputs": [
        {
          "output_type": "execute_result",
          "data": {
            "text/plain": [
              "   precision    recall       far      hss\n",
              "0    0.94349  0.844964  0.698603  0.08848"
            ],
            "text/html": [
              "\n",
              "  <div id=\"df-c0c60b30-5a51-4603-a91e-4a9abed2ccc6\">\n",
              "    <div class=\"colab-df-container\">\n",
              "      <div>\n",
              "<style scoped>\n",
              "    .dataframe tbody tr th:only-of-type {\n",
              "        vertical-align: middle;\n",
              "    }\n",
              "\n",
              "    .dataframe tbody tr th {\n",
              "        vertical-align: top;\n",
              "    }\n",
              "\n",
              "    .dataframe thead th {\n",
              "        text-align: right;\n",
              "    }\n",
              "</style>\n",
              "<table border=\"1\" class=\"dataframe\">\n",
              "  <thead>\n",
              "    <tr style=\"text-align: right;\">\n",
              "      <th></th>\n",
              "      <th>precision</th>\n",
              "      <th>recall</th>\n",
              "      <th>far</th>\n",
              "      <th>hss</th>\n",
              "    </tr>\n",
              "  </thead>\n",
              "  <tbody>\n",
              "    <tr>\n",
              "      <th>0</th>\n",
              "      <td>0.94349</td>\n",
              "      <td>0.844964</td>\n",
              "      <td>0.698603</td>\n",
              "      <td>0.08848</td>\n",
              "    </tr>\n",
              "  </tbody>\n",
              "</table>\n",
              "</div>\n",
              "      <button class=\"colab-df-convert\" onclick=\"convertToInteractive('df-c0c60b30-5a51-4603-a91e-4a9abed2ccc6')\"\n",
              "              title=\"Convert this dataframe to an interactive table.\"\n",
              "              style=\"display:none;\">\n",
              "        \n",
              "  <svg xmlns=\"http://www.w3.org/2000/svg\" height=\"24px\"viewBox=\"0 0 24 24\"\n",
              "       width=\"24px\">\n",
              "    <path d=\"M0 0h24v24H0V0z\" fill=\"none\"/>\n",
              "    <path d=\"M18.56 5.44l.94 2.06.94-2.06 2.06-.94-2.06-.94-.94-2.06-.94 2.06-2.06.94zm-11 1L8.5 8.5l.94-2.06 2.06-.94-2.06-.94L8.5 2.5l-.94 2.06-2.06.94zm10 10l.94 2.06.94-2.06 2.06-.94-2.06-.94-.94-2.06-.94 2.06-2.06.94z\"/><path d=\"M17.41 7.96l-1.37-1.37c-.4-.4-.92-.59-1.43-.59-.52 0-1.04.2-1.43.59L10.3 9.45l-7.72 7.72c-.78.78-.78 2.05 0 2.83L4 21.41c.39.39.9.59 1.41.59.51 0 1.02-.2 1.41-.59l7.78-7.78 2.81-2.81c.8-.78.8-2.07 0-2.86zM5.41 20L4 18.59l7.72-7.72 1.47 1.35L5.41 20z\"/>\n",
              "  </svg>\n",
              "      </button>\n",
              "      \n",
              "  <style>\n",
              "    .colab-df-container {\n",
              "      display:flex;\n",
              "      flex-wrap:wrap;\n",
              "      gap: 12px;\n",
              "    }\n",
              "\n",
              "    .colab-df-convert {\n",
              "      background-color: #E8F0FE;\n",
              "      border: none;\n",
              "      border-radius: 50%;\n",
              "      cursor: pointer;\n",
              "      display: none;\n",
              "      fill: #1967D2;\n",
              "      height: 32px;\n",
              "      padding: 0 0 0 0;\n",
              "      width: 32px;\n",
              "    }\n",
              "\n",
              "    .colab-df-convert:hover {\n",
              "      background-color: #E2EBFA;\n",
              "      box-shadow: 0px 1px 2px rgba(60, 64, 67, 0.3), 0px 1px 3px 1px rgba(60, 64, 67, 0.15);\n",
              "      fill: #174EA6;\n",
              "    }\n",
              "\n",
              "    [theme=dark] .colab-df-convert {\n",
              "      background-color: #3B4455;\n",
              "      fill: #D2E3FC;\n",
              "    }\n",
              "\n",
              "    [theme=dark] .colab-df-convert:hover {\n",
              "      background-color: #434B5C;\n",
              "      box-shadow: 0px 1px 3px 1px rgba(0, 0, 0, 0.15);\n",
              "      filter: drop-shadow(0px 1px 2px rgba(0, 0, 0, 0.3));\n",
              "      fill: #FFFFFF;\n",
              "    }\n",
              "  </style>\n",
              "\n",
              "      <script>\n",
              "        const buttonEl =\n",
              "          document.querySelector('#df-c0c60b30-5a51-4603-a91e-4a9abed2ccc6 button.colab-df-convert');\n",
              "        buttonEl.style.display =\n",
              "          google.colab.kernel.accessAllowed ? 'block' : 'none';\n",
              "\n",
              "        async function convertToInteractive(key) {\n",
              "          const element = document.querySelector('#df-c0c60b30-5a51-4603-a91e-4a9abed2ccc6');\n",
              "          const dataTable =\n",
              "            await google.colab.kernel.invokeFunction('convertToInteractive',\n",
              "                                                     [key], {});\n",
              "          if (!dataTable) return;\n",
              "\n",
              "          const docLinkHtml = 'Like what you see? Visit the ' +\n",
              "            '<a target=\"_blank\" href=https://colab.research.google.com/notebooks/data_table.ipynb>data table notebook</a>'\n",
              "            + ' to learn more about interactive tables.';\n",
              "          element.innerHTML = '';\n",
              "          dataTable['output_type'] = 'display_data';\n",
              "          await google.colab.output.renderOutput(dataTable, element);\n",
              "          const docLink = document.createElement('div');\n",
              "          docLink.innerHTML = docLinkHtml;\n",
              "          element.appendChild(docLink);\n",
              "        }\n",
              "      </script>\n",
              "    </div>\n",
              "  </div>\n",
              "  "
            ]
          },
          "metadata": {},
          "execution_count": 16
        }
      ],
      "source": [
        "mf_model.calculate_statistics(conf_matrix_mf)"
      ]
    },
    {
      "cell_type": "code",
      "execution_count": 20,
      "metadata": {
        "id": "nyDt0SuuNDtu"
      },
      "outputs": [],
      "source": [
        "keras.backend.clear_session()"
      ]
    },
    {
      "cell_type": "code",
      "execution_count": 21,
      "metadata": {
        "id": "BRSqPRIHNDtu"
      },
      "outputs": [],
      "source": [
        "tuned_model_mf = SolarLSTM(data2014_mf, labels2014_mf, \"./\", tune=True)"
      ]
    },
    {
      "cell_type": "code",
      "execution_count": 22,
      "metadata": {
        "colab": {
          "base_uri": "https://localhost:8080/",
          "height": 1000
        },
        "id": "j65L5DwbNDtv",
        "outputId": "f11f5227-abbc-4e11-d9ec-9e00b1e1d819"
      },
      "outputs": [
        {
          "output_type": "stream",
          "name": "stdout",
          "text": [
            "Trial 10 Complete [00h 24m 05s]\n",
            "val_accuracy: 0.8095003366470337\n",
            "\n",
            "Best val_accuracy So Far: 0.8247346878051758\n",
            "Total elapsed time: 03h 14m 13s\n",
            "INFO:tensorflow:Oracle triggered exit\n"
          ]
        },
        {
          "output_type": "stream",
          "name": "stderr",
          "text": [
            "INFO:tensorflow:Oracle triggered exit\n"
          ]
        },
        {
          "output_type": "stream",
          "name": "stdout",
          "text": [
            "Hyper Tuning Complete\n",
            "Epoch 1/50\n"
          ]
        },
        {
          "output_type": "stream",
          "name": "stderr",
          "text": [
            "/usr/local/lib/python3.7/dist-packages/tensorflow/python/util/dispatch.py:1082: UserWarning: \"`binary_crossentropy` received `from_logits=True`, but the `output` argument was produced by a sigmoid or softmax activation and thus does not represent logits. Was this intended?\"\n",
            "  return dispatch_target(*args, **kwargs)\n"
          ]
        },
        {
          "output_type": "stream",
          "name": "stdout",
          "text": [
            "320/320 [==============================] - ETA: 0s - loss: 0.4009 - accuracy: 0.8649 - mse: 0.1189 - mae: 0.2443"
          ]
        },
        {
          "output_type": "stream",
          "name": "stderr",
          "text": [
            "WARNING:absl:Found untraced functions such as lstm_cell_2_layer_call_fn, lstm_cell_2_layer_call_and_return_conditional_losses, lstm_cell_3_layer_call_fn, lstm_cell_3_layer_call_and_return_conditional_losses while saving (showing 4 of 4). These functions will not be directly callable after loading.\n"
          ]
        },
        {
          "output_type": "stream",
          "name": "stdout",
          "text": [
            "INFO:tensorflow:Assets written to: model_checkpoints/assets\n"
          ]
        },
        {
          "output_type": "stream",
          "name": "stderr",
          "text": [
            "INFO:tensorflow:Assets written to: model_checkpoints/assets\n",
            "WARNING:absl:<keras.layers.recurrent.LSTMCell object at 0x7efbb7680d50> has the same name 'LSTMCell' as a built-in Keras object. Consider renaming <class 'keras.layers.recurrent.LSTMCell'> to avoid naming conflicts when loading with `tf.keras.models.load_model`. If renaming is not possible, pass the object in the `custom_objects` parameter of the load function.\n",
            "WARNING:absl:<keras.layers.recurrent.LSTMCell object at 0x7efbb7683150> has the same name 'LSTMCell' as a built-in Keras object. Consider renaming <class 'keras.layers.recurrent.LSTMCell'> to avoid naming conflicts when loading with `tf.keras.models.load_model`. If renaming is not possible, pass the object in the `custom_objects` parameter of the load function.\n"
          ]
        },
        {
          "output_type": "stream",
          "name": "stdout",
          "text": [
            "\b\b\b\b\b\b\b\b\b\b\b\b\b\b\b\b\b\b\b\b\b\b\b\b\b\b\b\b\b\b\b\b\b\b\b\b\b\b\b\b\b\b\b\b\b\b\b\b\b\b\b\b\b\b\b\b\b\b\b\b\b\b\b\b\b\b\b\b\b\b\b\b\b\b\b\b\b\b\b\b\b\b\b\b\b\b\b\b\b\b\b\b\b\b\b\b\b\b\b\b\b\b\b\b\b\b\b\b\b\b\b\b\r320/320 [==============================] - 35s 97ms/step - loss: 0.4009 - accuracy: 0.8649 - mse: 0.1189 - mae: 0.2443 - val_loss: 0.4729 - val_accuracy: 0.8094 - val_mse: 0.1482 - val_mae: 0.2566\n",
            "Epoch 2/50\n",
            "320/320 [==============================] - 22s 68ms/step - loss: 0.3151 - accuracy: 0.8973 - mse: 0.0899 - mae: 0.1793 - val_loss: 0.4919 - val_accuracy: 0.8094 - val_mse: 0.1492 - val_mae: 0.2361\n",
            "Epoch 3/50\n",
            "320/320 [==============================] - ETA: 0s - loss: 0.3021 - accuracy: 0.8938 - mse: 0.0848 - mae: 0.1654"
          ]
        },
        {
          "output_type": "stream",
          "name": "stderr",
          "text": [
            "WARNING:absl:Found untraced functions such as lstm_cell_2_layer_call_fn, lstm_cell_2_layer_call_and_return_conditional_losses, lstm_cell_3_layer_call_fn, lstm_cell_3_layer_call_and_return_conditional_losses while saving (showing 4 of 4). These functions will not be directly callable after loading.\n"
          ]
        },
        {
          "output_type": "stream",
          "name": "stdout",
          "text": [
            "INFO:tensorflow:Assets written to: model_checkpoints/assets\n"
          ]
        },
        {
          "output_type": "stream",
          "name": "stderr",
          "text": [
            "INFO:tensorflow:Assets written to: model_checkpoints/assets\n",
            "WARNING:absl:<keras.layers.recurrent.LSTMCell object at 0x7efbb7680d50> has the same name 'LSTMCell' as a built-in Keras object. Consider renaming <class 'keras.layers.recurrent.LSTMCell'> to avoid naming conflicts when loading with `tf.keras.models.load_model`. If renaming is not possible, pass the object in the `custom_objects` parameter of the load function.\n",
            "WARNING:absl:<keras.layers.recurrent.LSTMCell object at 0x7efbb7683150> has the same name 'LSTMCell' as a built-in Keras object. Consider renaming <class 'keras.layers.recurrent.LSTMCell'> to avoid naming conflicts when loading with `tf.keras.models.load_model`. If renaming is not possible, pass the object in the `custom_objects` parameter of the load function.\n"
          ]
        },
        {
          "output_type": "stream",
          "name": "stdout",
          "text": [
            "\b\b\b\b\b\b\b\b\b\b\b\b\b\b\b\b\b\b\b\b\b\b\b\b\b\b\b\b\b\b\b\b\b\b\b\b\b\b\b\b\b\b\b\b\b\b\b\b\b\b\b\b\b\b\b\b\b\b\b\b\b\b\b\b\b\b\b\b\b\b\b\b\b\b\b\b\b\b\b\b\b\b\b\b\b\b\b\b\b\b\b\b\b\b\b\b\b\b\b\b\b\b\b\b\b\b\b\b\b\b\b\b\r320/320 [==============================] - 30s 94ms/step - loss: 0.3021 - accuracy: 0.8938 - mse: 0.0848 - mae: 0.1654 - val_loss: 0.4719 - val_accuracy: 0.8103 - val_mse: 0.1420 - val_mae: 0.2345\n",
            "Epoch 4/50\n",
            "320/320 [==============================] - 21s 67ms/step - loss: 0.2792 - accuracy: 0.8972 - mse: 0.0777 - mae: 0.1554 - val_loss: 0.5318 - val_accuracy: 0.8091 - val_mse: 0.1606 - val_mae: 0.2360\n",
            "Epoch 5/50\n",
            "320/320 [==============================] - 21s 66ms/step - loss: 0.2560 - accuracy: 0.9089 - mse: 0.0704 - mae: 0.1455 - val_loss: 0.5356 - val_accuracy: 0.8070 - val_mse: 0.1586 - val_mae: 0.2387\n",
            "Epoch 6/50\n",
            "320/320 [==============================] - 22s 67ms/step - loss: 0.2329 - accuracy: 0.9248 - mse: 0.0622 - mae: 0.1280 - val_loss: 0.5839 - val_accuracy: 0.7955 - val_mse: 0.1696 - val_mae: 0.2328\n",
            "Epoch 7/50\n",
            "320/320 [==============================] - 21s 67ms/step - loss: 0.2170 - accuracy: 0.9316 - mse: 0.0578 - mae: 0.1197 - val_loss: 0.6046 - val_accuracy: 0.7705 - val_mse: 0.1731 - val_mae: 0.2306\n",
            "Epoch 8/50\n",
            "320/320 [==============================] - 22s 69ms/step - loss: 0.2033 - accuracy: 0.9366 - mse: 0.0531 - mae: 0.1097 - val_loss: 0.6101 - val_accuracy: 0.8155 - val_mse: 0.1661 - val_mae: 0.2133\n",
            "Epoch 9/50\n",
            "320/320 [==============================] - 21s 67ms/step - loss: 0.2084 - accuracy: 0.9317 - mse: 0.0556 - mae: 0.1136 - val_loss: 0.5678 - val_accuracy: 0.8227 - val_mse: 0.1547 - val_mae: 0.2133\n",
            "Epoch 10/50\n",
            "320/320 [==============================] - 21s 66ms/step - loss: 0.1876 - accuracy: 0.9418 - mse: 0.0485 - mae: 0.1001 - val_loss: 0.6094 - val_accuracy: 0.8133 - val_mse: 0.1641 - val_mae: 0.2180\n",
            "Epoch 11/50\n",
            "320/320 [==============================] - 21s 67ms/step - loss: 0.1740 - accuracy: 0.9502 - mse: 0.0437 - mae: 0.0911 - val_loss: 0.6355 - val_accuracy: 0.8054 - val_mse: 0.1706 - val_mae: 0.2185\n",
            "Epoch 12/50\n",
            "320/320 [==============================] - 21s 67ms/step - loss: 0.1651 - accuracy: 0.9519 - mse: 0.0412 - mae: 0.0845 - val_loss: 0.6236 - val_accuracy: 0.8147 - val_mse: 0.1626 - val_mae: 0.2058\n",
            "Epoch 13/50\n",
            "320/320 [==============================] - 22s 68ms/step - loss: 0.1600 - accuracy: 0.9525 - mse: 0.0403 - mae: 0.0818 - val_loss: 0.6405 - val_accuracy: 0.8208 - val_mse: 0.1617 - val_mae: 0.2030\n",
            "Epoch 14/50\n",
            "320/320 [==============================] - 21s 64ms/step - loss: 0.1647 - accuracy: 0.9487 - mse: 0.0422 - mae: 0.0861 - val_loss: 0.6364 - val_accuracy: 0.8110 - val_mse: 0.1634 - val_mae: 0.2063\n",
            "Epoch 15/50\n",
            "320/320 [==============================] - 21s 64ms/step - loss: 0.1525 - accuracy: 0.9536 - mse: 0.0384 - mae: 0.0782 - val_loss: 0.6454 - val_accuracy: 0.8203 - val_mse: 0.1600 - val_mae: 0.2009\n",
            "Epoch 16/50\n",
            "320/320 [==============================] - 20s 64ms/step - loss: 0.1507 - accuracy: 0.9534 - mse: 0.0383 - mae: 0.0779 - val_loss: 0.6835 - val_accuracy: 0.8167 - val_mse: 0.1678 - val_mae: 0.2094\n",
            "Epoch 17/50\n",
            "320/320 [==============================] - 20s 63ms/step - loss: 0.1449 - accuracy: 0.9542 - mse: 0.0368 - mae: 0.0737 - val_loss: 0.6980 - val_accuracy: 0.8173 - val_mse: 0.1668 - val_mae: 0.2027\n",
            "Epoch 18/50\n",
            "320/320 [==============================] - 20s 63ms/step - loss: 0.1437 - accuracy: 0.9539 - mse: 0.0366 - mae: 0.0749 - val_loss: 0.7266 - val_accuracy: 0.8078 - val_mse: 0.1747 - val_mae: 0.2121\n",
            "Epoch 18: early stopping\n"
          ]
        },
        {
          "output_type": "display_data",
          "data": {
            "text/plain": [
              "<Figure size 576x360 with 1 Axes>"
            ],
            "image/png": "[encoded data removed]"
          },
          "metadata": {
            "needs_background": "light"
          }
        },
        {
          "output_type": "execute_result",
          "data": {
            "text/plain": [
              "<keras.callbacks.History at 0x7efbb42de550>"
            ]
          },
          "metadata": {},
          "execution_count": 22
        }
      ],
      "source": [
        "tuned_model_mf.fit()"
      ]
    },
    {
      "cell_type": "code",
      "execution_count": 23,
      "metadata": {
        "id": "OovIefUyNDtv"
      },
      "outputs": [],
      "source": [
        "# Form batches (does not shuffle, cuts off remainder)\n",
        "batched_2015_mf_tuned = tuned_model_mf.batch_prefetch_data(data2015_mf,split_data=False)\n",
        "# Cutoff matching remainder from labels\n",
        "true_labels_mf_tuned = labels2015_mf[:-(labels2015_mf.shape[0]%tuned_model_mf.batch_size)]"
      ]
    },
    {
      "cell_type": "code",
      "execution_count": 24,
      "metadata": {
        "colab": {
          "base_uri": "https://localhost:8080/",
          "height": 290
        },
        "id": "Dyx83sDtNDtv",
        "outputId": "9b482230-9cfc-4d98-cb9a-72d268e67354"
      },
      "outputs": [
        {
          "output_type": "display_data",
          "data": {
            "text/plain": [
              "<Figure size 432x288 with 2 Axes>"
            ],
            "image/png": "[encoded data removed]"
          },
          "metadata": {
            "needs_background": "light"
          }
        }
      ],
      "source": [
        "conf_matrix = tuned_model_mf.predict_conf_matrix(batched_2015_mf_tuned,true_labels_mf_tuned,make_plots=True)"
      ]
    },
    {
      "cell_type": "code",
      "source": [
        "tuned_model_mf.calculate_statistics(conf_matrix)"
      ],
      "metadata": {
        "colab": {
          "base_uri": "https://localhost:8080/",
          "height": 81
        },
        "id": "gaE8NLvAtsrz",
        "outputId": "c8f6c39e-70c9-4136-e5b4-be497862171f"
      },
      "execution_count": 50,
      "outputs": [
        {
          "output_type": "execute_result",
          "data": {
            "text/plain": [
              "   precision    recall       far       hss\n",
              "0   0.941489  0.848837  0.662318  0.119899"
            ],
            "text/html": [
              "\n",
              "  <div id=\"df-15eaa5c6-3cb3-46dd-95fb-4aec0145a18f\">\n",
              "    <div class=\"colab-df-container\">\n",
              "      <div>\n",
              "<style scoped>\n",
              "    .dataframe tbody tr th:only-of-type {\n",
              "        vertical-align: middle;\n",
              "    }\n",
              "\n",
              "    .dataframe tbody tr th {\n",
              "        vertical-align: top;\n",
              "    }\n",
              "\n",
              "    .dataframe thead th {\n",
              "        text-align: right;\n",
              "    }\n",
              "</style>\n",
              "<table border=\"1\" class=\"dataframe\">\n",
              "  <thead>\n",
              "    <tr style=\"text-align: right;\">\n",
              "      <th></th>\n",
              "      <th>precision</th>\n",
              "      <th>recall</th>\n",
              "      <th>far</th>\n",
              "      <th>hss</th>\n",
              "    </tr>\n",
              "  </thead>\n",
              "  <tbody>\n",
              "    <tr>\n",
              "      <th>0</th>\n",
              "      <td>0.941489</td>\n",
              "      <td>0.848837</td>\n",
              "      <td>0.662318</td>\n",
              "      <td>0.119899</td>\n",
              "    </tr>\n",
              "  </tbody>\n",
              "</table>\n",
              "</div>\n",
              "      <button class=\"colab-df-convert\" onclick=\"convertToInteractive('df-15eaa5c6-3cb3-46dd-95fb-4aec0145a18f')\"\n",
              "              title=\"Convert this dataframe to an interactive table.\"\n",
              "              style=\"display:none;\">\n",
              "        \n",
              "  <svg xmlns=\"http://www.w3.org/2000/svg\" height=\"24px\"viewBox=\"0 0 24 24\"\n",
              "       width=\"24px\">\n",
              "    <path d=\"M0 0h24v24H0V0z\" fill=\"none\"/>\n",
              "    <path d=\"M18.56 5.44l.94 2.06.94-2.06 2.06-.94-2.06-.94-.94-2.06-.94 2.06-2.06.94zm-11 1L8.5 8.5l.94-2.06 2.06-.94-2.06-.94L8.5 2.5l-.94 2.06-2.06.94zm10 10l.94 2.06.94-2.06 2.06-.94-2.06-.94-.94-2.06-.94 2.06-2.06.94z\"/><path d=\"M17.41 7.96l-1.37-1.37c-.4-.4-.92-.59-1.43-.59-.52 0-1.04.2-1.43.59L10.3 9.45l-7.72 7.72c-.78.78-.78 2.05 0 2.83L4 21.41c.39.39.9.59 1.41.59.51 0 1.02-.2 1.41-.59l7.78-7.78 2.81-2.81c.8-.78.8-2.07 0-2.86zM5.41 20L4 18.59l7.72-7.72 1.47 1.35L5.41 20z\"/>\n",
              "  </svg>\n",
              "      </button>\n",
              "      \n",
              "  <style>\n",
              "    .colab-df-container {\n",
              "      display:flex;\n",
              "      flex-wrap:wrap;\n",
              "      gap: 12px;\n",
              "    }\n",
              "\n",
              "    .colab-df-convert {\n",
              "      background-color: #E8F0FE;\n",
              "      border: none;\n",
              "      border-radius: 50%;\n",
              "      cursor: pointer;\n",
              "      display: none;\n",
              "      fill: #1967D2;\n",
              "      height: 32px;\n",
              "      padding: 0 0 0 0;\n",
              "      width: 32px;\n",
              "    }\n",
              "\n",
              "    .colab-df-convert:hover {\n",
              "      background-color: #E2EBFA;\n",
              "      box-shadow: 0px 1px 2px rgba(60, 64, 67, 0.3), 0px 1px 3px 1px rgba(60, 64, 67, 0.15);\n",
              "      fill: #174EA6;\n",
              "    }\n",
              "\n",
              "    [theme=dark] .colab-df-convert {\n",
              "      background-color: #3B4455;\n",
              "      fill: #D2E3FC;\n",
              "    }\n",
              "\n",
              "    [theme=dark] .colab-df-convert:hover {\n",
              "      background-color: #434B5C;\n",
              "      box-shadow: 0px 1px 3px 1px rgba(0, 0, 0, 0.15);\n",
              "      filter: drop-shadow(0px 1px 2px rgba(0, 0, 0, 0.3));\n",
              "      fill: #FFFFFF;\n",
              "    }\n",
              "  </style>\n",
              "\n",
              "      <script>\n",
              "        const buttonEl =\n",
              "          document.querySelector('#df-15eaa5c6-3cb3-46dd-95fb-4aec0145a18f button.colab-df-convert');\n",
              "        buttonEl.style.display =\n",
              "          google.colab.kernel.accessAllowed ? 'block' : 'none';\n",
              "\n",
              "        async function convertToInteractive(key) {\n",
              "          const element = document.querySelector('#df-15eaa5c6-3cb3-46dd-95fb-4aec0145a18f');\n",
              "          const dataTable =\n",
              "            await google.colab.kernel.invokeFunction('convertToInteractive',\n",
              "                                                     [key], {});\n",
              "          if (!dataTable) return;\n",
              "\n",
              "          const docLinkHtml = 'Like what you see? Visit the ' +\n",
              "            '<a target=\"_blank\" href=https://colab.research.google.com/notebooks/data_table.ipynb>data table notebook</a>'\n",
              "            + ' to learn more about interactive tables.';\n",
              "          element.innerHTML = '';\n",
              "          dataTable['output_type'] = 'display_data';\n",
              "          await google.colab.output.renderOutput(dataTable, element);\n",
              "          const docLink = document.createElement('div');\n",
              "          docLink.innerHTML = docLinkHtml;\n",
              "          element.appendChild(docLink);\n",
              "        }\n",
              "      </script>\n",
              "    </div>\n",
              "  </div>\n",
              "  "
            ]
          },
          "metadata": {},
          "execution_count": 50
        }
      ]
    },
    {
      "cell_type": "code",
      "execution_count": 25,
      "metadata": {
        "id": "K8-6Cl53W8oF",
        "colab": {
          "base_uri": "https://localhost:8080/"
        },
        "outputId": "e885be0b-c137-48ed-c740-5ba795624a5b"
      },
      "outputs": [
        {
          "output_type": "stream",
          "name": "stdout",
          "text": [
            "Model: \"sequential_1\"\n",
            "_________________________________________________________________\n",
            " Layer (type)                Output Shape              Param #   \n",
            "=================================================================\n",
            " lstm_2 (LSTM)               (64, 120, 16)             2624      \n",
            "                                                                 \n",
            " lstm_3 (LSTM)               (64, 120, 16)             2112      \n",
            "                                                                 \n",
            " dropout_1 (Dropout)         (64, 120, 16)             0         \n",
            "                                                                 \n",
            " dense_1 (Dense)             (64, 120, 1)              17        \n",
            "                                                                 \n",
            "=================================================================\n",
            "Total params: 4,753\n",
            "Trainable params: 4,753\n",
            "Non-trainable params: 0\n",
            "_________________________________________________________________\n"
          ]
        }
      ],
      "source": [
        "tuned_model_mf.model.summary()"
      ]
    },
    {
      "cell_type": "code",
      "source": [
        "keras.backend.clear_session()"
      ],
      "metadata": {
        "id": "o8vz4Ru972q9"
      },
      "execution_count": 26,
      "outputs": []
    },
    {
      "cell_type": "markdown",
      "source": [
        "# Feature Selection Model"
      ],
      "metadata": {
        "id": "pVmLjpZYhDub"
      }
    },
    {
      "cell_type": "code",
      "source": [
        "with open(\"/content/all_data.pkl\", \"rb\") as file:\n",
        "    data = pickle.load(file)"
      ],
      "metadata": {
        "id": "3Fc6kB1cI53t"
      },
      "execution_count": null,
      "outputs": []
    },
    {
      "cell_type": "code",
      "execution_count": 27,
      "metadata": {
        "colab": {
          "base_uri": "https://localhost:8080/"
        },
        "outputId": "d4918da4-fbee-4aad-f693-a0b8342796d0",
        "id": "-dBYnhAXhG96"
      },
      "outputs": [
        {
          "output_type": "stream",
          "name": "stdout",
          "text": [
            "Num GB used in data array: 0.0006008148193359375\n",
            "Num GB used in data array: 0.0008475780487060547\n",
            "Num GB used in data array: 0.001963376998901367\n",
            "Num GB used in data array: 0.003701448440551758\n",
            "Num GB used in data array: 0.004388093948364258\n",
            "Num GB used in data array: 0.004903078079223633\n",
            "Num GB used in data array: 0.005300045013427734\n",
            "Num GB used in data array: 0.0072634220123291016\n",
            "Num GB used in data array: 0.007381439208984375\n",
            "Num GB used in data array: 0.008465051651000977\n",
            "Num GB used in data array: 0.009065866470336914\n",
            "Num GB used in data array: 0.012778043746948242\n",
            "Num GB used in data array: 0.01337885856628418\n",
            "Num GB used in data array: 0.015106201171875\n",
            "Num GB used in data array: 0.017713308334350586\n",
            "Num GB used in data array: 0.018045902252197266\n",
            "Num GB used in data array: 0.03292679786682129\n",
            "Num GB used in data array: 0.034461021423339844\n",
            "Num GB used in data array: 0.03457903861999512\n",
            "Num GB used in data array: 0.03464341163635254\n",
            "Num GB used in data array: 0.03508329391479492\n",
            "Num GB used in data array: 0.03568410873413086\n",
            "Num GB used in data array: 0.03636002540588379\n",
            "Num GB used in data array: 0.040018558502197266\n",
            "Num GB used in data array: 0.04024386405944824\n",
            "Num GB used in data array: 0.04084467887878418\n",
            "Num GB used in data array: 0.04144549369812012\n",
            "Num GB used in data array: 0.04215359687805176\n",
            "Num GB used in data array: 0.042754411697387695\n",
            "Num GB used in data array: 0.04335522651672363\n",
            "Num GB used in data array: 0.04395604133605957\n",
            "Num GB used in data array: 0.048558712005615234\n",
            "Num GB used in data array: 0.04915952682495117\n",
            "Num GB used in data array: 0.0495457649230957\n",
            "Num GB used in data array: 0.04971742630004883\n",
            "Num GB used in data array: 0.0516057014465332\n",
            "Num GB used in data array: 0.05251765251159668\n",
            "Num GB used in data array: 0.05292534828186035\n",
            "Num GB used in data array: 0.053000450134277344\n",
            "Num GB used in data array: 0.05606889724731445\n",
            "Num GB used in data array: 0.0561976432800293\n",
            "Num GB used in data array: 0.05970597267150879\n",
            "Num GB used in data array: 0.06067156791687012\n",
            "Num GB used in data array: 0.06394386291503906\n",
            "Num GB used in data array: 0.06886839866638184\n",
            "Num GB used in data array: 0.08271932601928711\n",
            "Num GB used in data array: 0.09527206420898438\n",
            "Num GB used in data array: 0.09794354438781738\n",
            "Num GB used in data array: 0.09816884994506836\n",
            "Num GB used in data array: 0.09832978248596191\n",
            "Num GB used in data array: 0.09836196899414062\n",
            "Num GB used in data array: 0.10431647300720215\n",
            "Num GB used in data array: 0.10488510131835938\n",
            "Num GB used in data array: 0.10943412780761719\n",
            "Num GB used in data array: 0.10972380638122559\n",
            "Num GB used in data array: 0.10987401008605957\n",
            "Num GB used in data array: 0.11148333549499512\n",
            "Num GB used in data array: 0.11542081832885742\n",
            "Num GB used in data array: 0.12581706047058105\n",
            "Num GB used in data array: 0.12752294540405273\n",
            "Num GB used in data array: 0.13744711875915527\n",
            "Num GB used in data array: 0.14685630798339844\n",
            "Num GB used in data array: 0.1574993133544922\n",
            "Num GB used in data array: 0.18210053443908691\n",
            "Num GB used in data array: 0.1961982250213623\n",
            "Num GB used in data array: 0.2031397819519043\n",
            "Num GB used in data array: 0.2111220359802246\n",
            "Num GB used in data array: 0.21139025688171387\n",
            "Num GB used in data array: 0.21280646324157715\n",
            "Num GB used in data array: 0.2131819725036621\n",
            "Num GB used in data array: 0.21916866302490234\n",
            "Num GB used in data array: 0.22357821464538574\n",
            "Num GB used in data array: 0.22396445274353027\n",
            "Num GB used in data array: 0.2277839183807373\n",
            "Num GB used in data array: 0.24204254150390625\n",
            "Num GB used in data array: 0.24615168571472168\n",
            "Num GB used in data array: 0.26726603507995605\n",
            "Num GB used in data array: 0.2705061435699463\n",
            "Num GB used in data array: 0.27059197425842285\n",
            "Num GB used in data array: 0.2707099914550781\n",
            "Num GB used in data array: 0.2708280086517334\n",
            "Num GB used in data array: 0.27132153511047363\n",
            "Num GB used in data array: 0.2716541290283203\n",
            "Num GB used in data array: 0.2718043327331543\n",
            "Num GB used in data array: 0.27246952056884766\n",
            "Num GB used in data array: 0.27518391609191895\n"
          ]
        },
        {
          "output_type": "execute_result",
          "data": {
            "text/plain": [
              "<data_creation.DataSelection at 0x7efbb4c9ac90>"
            ]
          },
          "metadata": {},
          "execution_count": 27
        }
      ],
      "source": [
        "DataSelection(data, 2014, \"./\", feature_selection=True, use_all=False)\n",
        "# DataSelection(data, 2015, \"./\")"
      ]
    },
    {
      "cell_type": "code",
      "execution_count": 28,
      "metadata": {
        "colab": {
          "base_uri": "https://localhost:8080/"
        },
        "outputId": "31571b3a-3390-4311-af02-a05a2df4b37e",
        "id": "jMLlvKP-hG97"
      },
      "outputs": [
        {
          "output_type": "stream",
          "name": "stdout",
          "text": [
            "Num GB used in data array: 0.0006008148193359375\n",
            "Num GB used in data array: 0.0009870529174804688\n",
            "Num GB used in data array: 0.003465414047241211\n",
            "Num GB used in data array: 0.005525350570678711\n",
            "Num GB used in data array: 0.007628202438354492\n",
            "Num GB used in data array: 0.009924173355102539\n",
            "Num GB used in data array: 0.010524988174438477\n",
            "Num GB used in data array: 0.011125802993774414\n",
            "Num GB used in data array: 0.014623403549194336\n",
            "Num GB used in data array: 0.01474142074584961\n",
            "Num GB used in data array: 0.015031099319458008\n",
            "Num GB used in data array: 0.01855015754699707\n",
            "Num GB used in data array: 0.019150972366333008\n",
            "Num GB used in data array: 0.019429922103881836\n",
            "Num GB used in data array: 0.02233743667602539\n",
            "Num GB used in data array: 0.02267003059387207\n",
            "Num GB used in data array: 0.03632783889770508\n",
            "Num GB used in data array: 0.03875255584716797\n",
            "Num GB used in data array: 0.03983616828918457\n",
            "Num GB used in data array: 0.03990054130554199\n",
            "Num GB used in data array: 0.04019021987915039\n",
            "Num GB used in data array: 0.040340423583984375\n",
            "Num GB used in data array: 0.042775869369506836\n",
            "Num GB used in data array: 0.043473243713378906\n",
            "Num GB used in data array: 0.04494309425354004\n",
            "Num GB used in data array: 0.04739999771118164\n",
            "Num GB used in data array: 0.05635857582092285\n",
            "Num GB used in data array: 0.07331013679504395\n",
            "Num GB used in data array: 0.07647514343261719\n",
            "Num GB used in data array: 0.07691502571105957\n",
            "Num GB used in data array: 0.07707595825195312\n",
            "Num GB used in data array: 0.08452177047729492\n",
            "Num GB used in data array: 0.08635640144348145\n",
            "Num GB used in data array: 0.09290099143981934\n",
            "Num GB used in data array: 0.09535789489746094\n",
            "Num GB used in data array: 0.09757876396179199\n",
            "Num GB used in data array: 0.09959578514099121\n",
            "Num GB used in data array: 0.10178446769714355\n",
            "Num GB used in data array: 0.10193467140197754\n",
            "Num GB used in data array: 0.1020205020904541\n",
            "Num GB used in data array: 0.10972380638122559\n",
            "Num GB used in data array: 0.11030316352844238\n",
            "Num GB used in data array: 0.11579632759094238\n",
            "Num GB used in data array: 0.12237310409545898\n",
            "Num GB used in data array: 0.13662099838256836\n",
            "Num GB used in data array: 0.16004204750061035\n",
            "Num GB used in data array: 0.17594218254089355\n",
            "Num GB used in data array: 0.1844179630279541\n",
            "Num GB used in data array: 0.18906354904174805\n",
            "Num GB used in data array: 0.1893317699432373\n",
            "Num GB used in data array: 0.19072651863098145\n",
            "Num GB used in data array: 0.19165992736816406\n",
            "Num GB used in data array: 0.1997387409210205\n",
            "Num GB used in data array: 0.20645499229431152\n",
            "Num GB used in data array: 0.20723819732666016\n",
            "Num GB used in data array: 0.21366477012634277\n",
            "Num GB used in data array: 0.21390080451965332\n",
            "Num GB used in data array: 0.23647427558898926\n",
            "Num GB used in data array: 0.24596929550170898\n",
            "Num GB used in data array: 0.2782416343688965\n",
            "Num GB used in data array: 0.2816641330718994\n",
            "Num GB used in data array: 0.282747745513916\n",
            "Num GB used in data array: 0.2853119373321533\n",
            "Num GB used in data array: 0.28768301010131836\n",
            "Num GB used in data array: 0.28948545455932617\n",
            "Num GB used in data array: 0.2907085418701172\n",
            "Num GB used in data array: 0.2917492389678955\n",
            "Num GB used in data array: 0.2928006649017334\n",
            "Num GB used in data array: 0.2932298183441162\n",
            "Num GB used in data array: 0.2933049201965332\n",
            "Num GB used in data array: 0.2937018871307373\n",
            "Num GB used in data array: 0.29639482498168945\n",
            "Num GB used in data array: 0.3056216239929199\n"
          ]
        },
        {
          "output_type": "execute_result",
          "data": {
            "text/plain": [
              "<data_creation.DataSelection at 0x7efbb4ca5d10>"
            ]
          },
          "metadata": {},
          "execution_count": 28
        }
      ],
      "source": [
        "with open(\"norm_scaler.pkl\", \"rb\") as norm_file:\n",
        "    normalization = pickle.load(norm_file)\n",
        "\n",
        "with open(\"stand_scaler.pkl\", \"rb\") as stand_file:\n",
        "    standard = pickle.load(stand_file)\n",
        "\n",
        "DataSelection(data, 2015,\"./\", feature_selection=True, use_all=False, norm_scaler=normalization, stand_scaler=standard)"
      ]
    },
    {
      "cell_type": "code",
      "execution_count": 29,
      "metadata": {
        "id": "8rKk8YO2hG97"
      },
      "outputs": [],
      "source": [
        "data2014_sf = np.load(\"data_2014.npy\")\n",
        "labels2014_sf = np.load(\"labels_2014.npy\")"
      ]
    },
    {
      "cell_type": "code",
      "execution_count": 30,
      "metadata": {
        "colab": {
          "base_uri": "https://localhost:8080/"
        },
        "outputId": "0cad346a-689f-408c-ab86-0dc9f31b11a9",
        "id": "Xolz75lMhG97"
      },
      "outputs": [
        {
          "output_type": "execute_result",
          "data": {
            "text/plain": [
              "(25649, 120, 12)"
            ]
          },
          "metadata": {},
          "execution_count": 30
        }
      ],
      "source": [
        "data2014_sf.shape"
      ]
    },
    {
      "cell_type": "code",
      "source": [
        "fs_model = SolarLSTM(data2014_sf, labels2014_sf, \"./\")"
      ],
      "metadata": {
        "id": "ixX_7DZvEA0I"
      },
      "execution_count": 31,
      "outputs": []
    },
    {
      "cell_type": "code",
      "source": [
        "fs_model.build_model()"
      ],
      "metadata": {
        "id": "umCn_dZEHquP"
      },
      "execution_count": 32,
      "outputs": []
    },
    {
      "cell_type": "code",
      "execution_count": 33,
      "metadata": {
        "colab": {
          "base_uri": "https://localhost:8080/"
        },
        "outputId": "16acf64e-d00b-4c89-8ac9-12cdc7d588a9",
        "id": "uJOMus6HH7Ez"
      },
      "outputs": [
        {
          "output_type": "stream",
          "name": "stdout",
          "text": [
            "Model: \"sequential\"\n",
            "_________________________________________________________________\n",
            " Layer (type)                Output Shape              Param #   \n",
            "=================================================================\n",
            " lstm (LSTM)                 (64, 120, 16)             1856      \n",
            "                                                                 \n",
            " lstm_1 (LSTM)               (64, 120, 16)             2112      \n",
            "                                                                 \n",
            " dropout (Dropout)           (64, 120, 16)             0         \n",
            "                                                                 \n",
            " dense (Dense)               (64, 120, 1)              17        \n",
            "                                                                 \n",
            "=================================================================\n",
            "Total params: 3,985\n",
            "Trainable params: 3,985\n",
            "Non-trainable params: 0\n",
            "_________________________________________________________________\n"
          ]
        }
      ],
      "source": [
        "fs_model.model.summary()"
      ]
    },
    {
      "cell_type": "code",
      "execution_count": 34,
      "metadata": {
        "colab": {
          "base_uri": "https://localhost:8080/",
          "height": 1000
        },
        "outputId": "80199213-893b-4db6-9175-158122845ae5",
        "id": "PhW8KmUkH7Ez"
      },
      "outputs": [
        {
          "output_type": "stream",
          "name": "stdout",
          "text": [
            "Epoch 1/50\n"
          ]
        },
        {
          "output_type": "stream",
          "name": "stderr",
          "text": [
            "/usr/local/lib/python3.7/dist-packages/tensorflow/python/util/dispatch.py:1082: UserWarning: \"`binary_crossentropy` received `from_logits=True`, but the `output` argument was produced by a sigmoid or softmax activation and thus does not represent logits. Was this intended?\"\n",
            "  return dispatch_target(*args, **kwargs)\n"
          ]
        },
        {
          "output_type": "stream",
          "name": "stdout",
          "text": [
            "320/320 [==============================] - ETA: 0s - loss: 0.3736 - accuracy: 0.8770 - mse: 0.1100 - mae: 0.2293"
          ]
        },
        {
          "output_type": "stream",
          "name": "stderr",
          "text": [
            "WARNING:absl:Found untraced functions such as lstm_cell_layer_call_fn, lstm_cell_layer_call_and_return_conditional_losses, lstm_cell_1_layer_call_fn, lstm_cell_1_layer_call_and_return_conditional_losses while saving (showing 4 of 4). These functions will not be directly callable after loading.\n"
          ]
        },
        {
          "output_type": "stream",
          "name": "stdout",
          "text": [
            "INFO:tensorflow:Assets written to: model_checkpoints/assets\n"
          ]
        },
        {
          "output_type": "stream",
          "name": "stderr",
          "text": [
            "INFO:tensorflow:Assets written to: model_checkpoints/assets\n",
            "WARNING:absl:<keras.layers.recurrent.LSTMCell object at 0x7efbb1abc590> has the same name 'LSTMCell' as a built-in Keras object. Consider renaming <class 'keras.layers.recurrent.LSTMCell'> to avoid naming conflicts when loading with `tf.keras.models.load_model`. If renaming is not possible, pass the object in the `custom_objects` parameter of the load function.\n",
            "WARNING:absl:<keras.layers.recurrent.LSTMCell object at 0x7efbb45b8910> has the same name 'LSTMCell' as a built-in Keras object. Consider renaming <class 'keras.layers.recurrent.LSTMCell'> to avoid naming conflicts when loading with `tf.keras.models.load_model`. If renaming is not possible, pass the object in the `custom_objects` parameter of the load function.\n"
          ]
        },
        {
          "output_type": "stream",
          "name": "stdout",
          "text": [
            "\b\b\b\b\b\b\b\b\b\b\b\b\b\b\b\b\b\b\b\b\b\b\b\b\b\b\b\b\b\b\b\b\b\b\b\b\b\b\b\b\b\b\b\b\b\b\b\b\b\b\b\b\b\b\b\b\b\b\b\b\b\b\b\b\b\b\b\b\b\b\b\b\b\b\b\b\b\b\b\b\b\b\b\b\b\b\b\b\b\b\b\b\b\b\b\b\b\b\b\b\b\b\b\b\b\b\b\b\b\b\b\b\r320/320 [==============================] - 34s 95ms/step - loss: 0.3736 - accuracy: 0.8770 - mse: 0.1100 - mae: 0.2293 - val_loss: 0.5809 - val_accuracy: 0.8104 - val_mse: 0.1662 - val_mae: 0.2143\n",
            "Epoch 2/50\n",
            "320/320 [==============================] - ETA: 0s - loss: 0.2941 - accuracy: 0.9013 - mse: 0.0818 - mae: 0.1579"
          ]
        },
        {
          "output_type": "stream",
          "name": "stderr",
          "text": [
            "WARNING:absl:Found untraced functions such as lstm_cell_layer_call_fn, lstm_cell_layer_call_and_return_conditional_losses, lstm_cell_1_layer_call_fn, lstm_cell_1_layer_call_and_return_conditional_losses while saving (showing 4 of 4). These functions will not be directly callable after loading.\n"
          ]
        },
        {
          "output_type": "stream",
          "name": "stdout",
          "text": [
            "INFO:tensorflow:Assets written to: model_checkpoints/assets\n"
          ]
        },
        {
          "output_type": "stream",
          "name": "stderr",
          "text": [
            "INFO:tensorflow:Assets written to: model_checkpoints/assets\n",
            "WARNING:absl:<keras.layers.recurrent.LSTMCell object at 0x7efbb1abc590> has the same name 'LSTMCell' as a built-in Keras object. Consider renaming <class 'keras.layers.recurrent.LSTMCell'> to avoid naming conflicts when loading with `tf.keras.models.load_model`. If renaming is not possible, pass the object in the `custom_objects` parameter of the load function.\n",
            "WARNING:absl:<keras.layers.recurrent.LSTMCell object at 0x7efbb45b8910> has the same name 'LSTMCell' as a built-in Keras object. Consider renaming <class 'keras.layers.recurrent.LSTMCell'> to avoid naming conflicts when loading with `tf.keras.models.load_model`. If renaming is not possible, pass the object in the `custom_objects` parameter of the load function.\n"
          ]
        },
        {
          "output_type": "stream",
          "name": "stdout",
          "text": [
            "\b\b\b\b\b\b\b\b\b\b\b\b\b\b\b\b\b\b\b\b\b\b\b\b\b\b\b\b\b\b\b\b\b\b\b\b\b\b\b\b\b\b\b\b\b\b\b\b\b\b\b\b\b\b\b\b\b\b\b\b\b\b\b\b\b\b\b\b\b\b\b\b\b\b\b\b\b\b\b\b\b\b\b\b\b\b\b\b\b\b\b\b\b\b\b\b\b\b\b\b\b\b\b\b\b\b\b\b\b\b\b\b\r320/320 [==============================] - 29s 92ms/step - loss: 0.2941 - accuracy: 0.9013 - mse: 0.0818 - mae: 0.1579 - val_loss: 0.5623 - val_accuracy: 0.8070 - val_mse: 0.1626 - val_mae: 0.2259\n",
            "Epoch 3/50\n",
            "320/320 [==============================] - 20s 63ms/step - loss: 0.2721 - accuracy: 0.9132 - mse: 0.0744 - mae: 0.1485 - val_loss: 0.5852 - val_accuracy: 0.7802 - val_mse: 0.1710 - val_mae: 0.2375\n",
            "Epoch 4/50\n",
            "320/320 [==============================] - ETA: 0s - loss: 0.2621 - accuracy: 0.9172 - mse: 0.0701 - mae: 0.1422"
          ]
        },
        {
          "output_type": "stream",
          "name": "stderr",
          "text": [
            "WARNING:absl:Found untraced functions such as lstm_cell_layer_call_fn, lstm_cell_layer_call_and_return_conditional_losses, lstm_cell_1_layer_call_fn, lstm_cell_1_layer_call_and_return_conditional_losses while saving (showing 4 of 4). These functions will not be directly callable after loading.\n"
          ]
        },
        {
          "output_type": "stream",
          "name": "stdout",
          "text": [
            "INFO:tensorflow:Assets written to: model_checkpoints/assets\n"
          ]
        },
        {
          "output_type": "stream",
          "name": "stderr",
          "text": [
            "INFO:tensorflow:Assets written to: model_checkpoints/assets\n",
            "WARNING:absl:<keras.layers.recurrent.LSTMCell object at 0x7efbb1abc590> has the same name 'LSTMCell' as a built-in Keras object. Consider renaming <class 'keras.layers.recurrent.LSTMCell'> to avoid naming conflicts when loading with `tf.keras.models.load_model`. If renaming is not possible, pass the object in the `custom_objects` parameter of the load function.\n",
            "WARNING:absl:<keras.layers.recurrent.LSTMCell object at 0x7efbb45b8910> has the same name 'LSTMCell' as a built-in Keras object. Consider renaming <class 'keras.layers.recurrent.LSTMCell'> to avoid naming conflicts when loading with `tf.keras.models.load_model`. If renaming is not possible, pass the object in the `custom_objects` parameter of the load function.\n"
          ]
        },
        {
          "output_type": "stream",
          "name": "stdout",
          "text": [
            "\b\b\b\b\b\b\b\b\b\b\b\b\b\b\b\b\b\b\b\b\b\b\b\b\b\b\b\b\b\b\b\b\b\b\b\b\b\b\b\b\b\b\b\b\b\b\b\b\b\b\b\b\b\b\b\b\b\b\b\b\b\b\b\b\b\b\b\b\b\b\b\b\b\b\b\b\b\b\b\b\b\b\b\b\b\b\b\b\b\b\b\b\b\b\b\b\b\b\b\b\b\b\b\b\b\b\b\b\b\b\b\b\r320/320 [==============================] - 29s 92ms/step - loss: 0.2621 - accuracy: 0.9172 - mse: 0.0701 - mae: 0.1422 - val_loss: 0.5544 - val_accuracy: 0.8134 - val_mse: 0.1575 - val_mae: 0.2159\n",
            "Epoch 5/50\n",
            "320/320 [==============================] - 20s 64ms/step - loss: 0.2430 - accuracy: 0.9249 - mse: 0.0646 - mae: 0.1332 - val_loss: 0.5753 - val_accuracy: 0.8138 - val_mse: 0.1599 - val_mae: 0.2115\n",
            "Epoch 6/50\n",
            "320/320 [==============================] - 21s 64ms/step - loss: 0.2334 - accuracy: 0.9260 - mse: 0.0626 - mae: 0.1277 - val_loss: 0.5896 - val_accuracy: 0.8110 - val_mse: 0.1619 - val_mae: 0.2138\n",
            "Epoch 7/50\n",
            "320/320 [==============================] - 21s 65ms/step - loss: 0.2265 - accuracy: 0.9267 - mse: 0.0609 - mae: 0.1245 - val_loss: 0.6121 - val_accuracy: 0.8090 - val_mse: 0.1651 - val_mae: 0.2133\n",
            "Epoch 8/50\n",
            "320/320 [==============================] - 20s 63ms/step - loss: 0.2257 - accuracy: 0.9252 - mse: 0.0612 - mae: 0.1222 - val_loss: 0.5922 - val_accuracy: 0.8147 - val_mse: 0.1589 - val_mae: 0.2183\n",
            "Epoch 9/50\n",
            "320/320 [==============================] - 20s 63ms/step - loss: 0.2151 - accuracy: 0.9245 - mse: 0.0591 - mae: 0.1195 - val_loss: 0.6283 - val_accuracy: 0.8147 - val_mse: 0.1629 - val_mae: 0.2061\n",
            "Epoch 10/50\n",
            "320/320 [==============================] - 20s 63ms/step - loss: 0.2091 - accuracy: 0.9269 - mse: 0.0571 - mae: 0.1155 - val_loss: 0.6703 - val_accuracy: 0.8079 - val_mse: 0.1724 - val_mae: 0.2119\n",
            "Epoch 11/50\n",
            "320/320 [==============================] - 20s 63ms/step - loss: 0.1937 - accuracy: 0.9301 - mse: 0.0528 - mae: 0.1079 - val_loss: 0.7184 - val_accuracy: 0.8095 - val_mse: 0.1777 - val_mae: 0.2092\n",
            "Epoch 12/50\n",
            "320/320 [==============================] - 20s 64ms/step - loss: 0.2046 - accuracy: 0.9243 - mse: 0.0565 - mae: 0.1132 - val_loss: 0.6783 - val_accuracy: 0.7894 - val_mse: 0.1725 - val_mae: 0.2239\n",
            "Epoch 13/50\n",
            "320/320 [==============================] - 20s 63ms/step - loss: 0.1913 - accuracy: 0.9319 - mse: 0.0519 - mae: 0.1038 - val_loss: 0.7345 - val_accuracy: 0.8124 - val_mse: 0.1763 - val_mae: 0.2087\n",
            "Epoch 14/50\n",
            "320/320 [==============================] - 20s 63ms/step - loss: 0.1812 - accuracy: 0.9333 - mse: 0.0493 - mae: 0.1023 - val_loss: 0.7292 - val_accuracy: 0.8121 - val_mse: 0.1754 - val_mae: 0.2117\n",
            "Epoch 15/50\n",
            "320/320 [==============================] - 20s 64ms/step - loss: 0.1751 - accuracy: 0.9322 - mse: 0.0493 - mae: 0.0997 - val_loss: 0.7228 - val_accuracy: 0.8036 - val_mse: 0.1713 - val_mae: 0.2101\n",
            "Epoch 16/50\n",
            "320/320 [==============================] - 21s 64ms/step - loss: 0.1877 - accuracy: 0.9263 - mse: 0.0530 - mae: 0.1023 - val_loss: 0.7530 - val_accuracy: 0.8016 - val_mse: 0.1749 - val_mae: 0.2135\n",
            "Epoch 17/50\n",
            "320/320 [==============================] - 20s 63ms/step - loss: 0.1764 - accuracy: 0.9397 - mse: 0.0481 - mae: 0.0972 - val_loss: 0.8067 - val_accuracy: 0.8010 - val_mse: 0.1831 - val_mae: 0.2153\n",
            "Epoch 18/50\n",
            "320/320 [==============================] - 20s 63ms/step - loss: 0.1637 - accuracy: 0.9395 - mse: 0.0457 - mae: 0.0944 - val_loss: 0.7840 - val_accuracy: 0.8011 - val_mse: 0.1769 - val_mae: 0.2126\n",
            "Epoch 19/50\n",
            "320/320 [==============================] - 20s 64ms/step - loss: 0.1564 - accuracy: 0.9422 - mse: 0.0433 - mae: 0.0876 - val_loss: 0.7648 - val_accuracy: 0.7787 - val_mse: 0.1778 - val_mae: 0.2243\n",
            "Epoch 19: early stopping\n"
          ]
        },
        {
          "output_type": "display_data",
          "data": {
            "text/plain": [
              "<Figure size 576x360 with 1 Axes>"
            ],
            "image/png": "[encoded data removed]"
          },
          "metadata": {
            "needs_background": "light"
          }
        }
      ],
      "source": [
        "history=fs_model.fit()"
      ]
    },
    {
      "cell_type": "code",
      "execution_count": 35,
      "metadata": {
        "id": "w4KI_nlKH7E0"
      },
      "outputs": [],
      "source": [
        "data2015_sf = np.load(\"data_2015.npy\")\n",
        "labels2015_sf = np.load(\"labels_2015.npy\")"
      ]
    },
    {
      "cell_type": "code",
      "execution_count": 36,
      "metadata": {
        "colab": {
          "base_uri": "https://localhost:8080/"
        },
        "outputId": "71628aa5-98a9-47e3-d147-6ebaca37a81d",
        "id": "WWSJtU3KH7E0"
      },
      "outputs": [
        {
          "output_type": "execute_result",
          "data": {
            "text/plain": [
              "(28486, 120, 12)"
            ]
          },
          "metadata": {},
          "execution_count": 36
        }
      ],
      "source": [
        "data2015_sf.shape"
      ]
    },
    {
      "cell_type": "code",
      "execution_count": 37,
      "metadata": {
        "colab": {
          "base_uri": "https://localhost:8080/"
        },
        "outputId": "614e9841-1ca8-4463-b1dc-f124e5f4141a",
        "id": "WlHFi7BwH7E0"
      },
      "outputs": [
        {
          "output_type": "stream",
          "name": "stdout",
          "text": [
            "445/445 [==============================] - 9s 20ms/step - loss: 0.6663 - accuracy: 0.8022 - mse: 0.1634 - mae: 0.2083\n"
          ]
        },
        {
          "output_type": "execute_result",
          "data": {
            "text/plain": [
              "[0.6663143634796143,\n",
              " 0.802189826965332,\n",
              " 0.16335035860538483,\n",
              " 0.2082843780517578]"
            ]
          },
          "metadata": {},
          "execution_count": 37
        }
      ],
      "source": [
        "fs_new = fs_model.batch_prefetch_data(data2015_sf,labels2015_sf,split_data=False)\n",
        "fs_model.evaluate(fs_new)\n",
        "#base_model.evaluate(data_new,labels_new)"
      ]
    },
    {
      "cell_type": "code",
      "execution_count": 38,
      "metadata": {
        "id": "AYTQhAV4H7E0",
        "colab": {
          "base_uri": "https://localhost:8080/",
          "height": 290
        },
        "outputId": "1dbbc357-4efa-4c34-bbaa-58b9c69429b6"
      },
      "outputs": [
        {
          "output_type": "display_data",
          "data": {
            "text/plain": [
              "<Figure size 432x288 with 2 Axes>"
            ],
            "image/png": "[encoded data removed]"
          },
          "metadata": {
            "needs_background": "light"
          }
        }
      ],
      "source": [
        "#Form batches (does not shuffle, cuts off remainder)\n",
        "batched_2015_sf = fs_model.batch_prefetch_data(data2015_sf,split_data=False)\n",
        "#Cutoff matching remainder from labels\n",
        "true_labels_sf = labels2015_sf[:-(labels2015_sf.shape[0] % fs_model.batch_size)]\n",
        "#Do predictions and get confusion matrix\n",
        "conf_matrix_sf = fs_model.predict_conf_matrix(batched_2015_sf,true_labels_sf,make_plots=True)"
      ]
    },
    {
      "cell_type": "code",
      "execution_count": 39,
      "metadata": {
        "id": "xwjPtOezH7E1",
        "colab": {
          "base_uri": "https://localhost:8080/"
        },
        "outputId": "2dcb2d55-369a-4e9e-f06a-22bafc673470"
      },
      "outputs": [
        {
          "output_type": "execute_result",
          "data": {
            "text/plain": [
              "array([[  81899,  481741],\n",
              "       [ 252793, 2601167]])"
            ]
          },
          "metadata": {},
          "execution_count": 39
        }
      ],
      "source": [
        "conf_matrix_sf"
      ]
    },
    {
      "cell_type": "code",
      "execution_count": 40,
      "metadata": {
        "id": "LVCT7C7fH7E1",
        "colab": {
          "base_uri": "https://localhost:8080/",
          "height": 81
        },
        "outputId": "04f6820d-721e-46fe-f539-19d5a88db3a0"
      },
      "outputs": [
        {
          "output_type": "execute_result",
          "data": {
            "text/plain": [
              "   precision    recall     far       hss\n",
              "0   0.911424  0.843738  0.7553  0.069245"
            ],
            "text/html": [
              "\n",
              "  <div id=\"df-3a0d3579-b08d-42aa-9938-563fe1aa56ca\">\n",
              "    <div class=\"colab-df-container\">\n",
              "      <div>\n",
              "<style scoped>\n",
              "    .dataframe tbody tr th:only-of-type {\n",
              "        vertical-align: middle;\n",
              "    }\n",
              "\n",
              "    .dataframe tbody tr th {\n",
              "        vertical-align: top;\n",
              "    }\n",
              "\n",
              "    .dataframe thead th {\n",
              "        text-align: right;\n",
              "    }\n",
              "</style>\n",
              "<table border=\"1\" class=\"dataframe\">\n",
              "  <thead>\n",
              "    <tr style=\"text-align: right;\">\n",
              "      <th></th>\n",
              "      <th>precision</th>\n",
              "      <th>recall</th>\n",
              "      <th>far</th>\n",
              "      <th>hss</th>\n",
              "    </tr>\n",
              "  </thead>\n",
              "  <tbody>\n",
              "    <tr>\n",
              "      <th>0</th>\n",
              "      <td>0.911424</td>\n",
              "      <td>0.843738</td>\n",
              "      <td>0.7553</td>\n",
              "      <td>0.069245</td>\n",
              "    </tr>\n",
              "  </tbody>\n",
              "</table>\n",
              "</div>\n",
              "      <button class=\"colab-df-convert\" onclick=\"convertToInteractive('df-3a0d3579-b08d-42aa-9938-563fe1aa56ca')\"\n",
              "              title=\"Convert this dataframe to an interactive table.\"\n",
              "              style=\"display:none;\">\n",
              "        \n",
              "  <svg xmlns=\"http://www.w3.org/2000/svg\" height=\"24px\"viewBox=\"0 0 24 24\"\n",
              "       width=\"24px\">\n",
              "    <path d=\"M0 0h24v24H0V0z\" fill=\"none\"/>\n",
              "    <path d=\"M18.56 5.44l.94 2.06.94-2.06 2.06-.94-2.06-.94-.94-2.06-.94 2.06-2.06.94zm-11 1L8.5 8.5l.94-2.06 2.06-.94-2.06-.94L8.5 2.5l-.94 2.06-2.06.94zm10 10l.94 2.06.94-2.06 2.06-.94-2.06-.94-.94-2.06-.94 2.06-2.06.94z\"/><path d=\"M17.41 7.96l-1.37-1.37c-.4-.4-.92-.59-1.43-.59-.52 0-1.04.2-1.43.59L10.3 9.45l-7.72 7.72c-.78.78-.78 2.05 0 2.83L4 21.41c.39.39.9.59 1.41.59.51 0 1.02-.2 1.41-.59l7.78-7.78 2.81-2.81c.8-.78.8-2.07 0-2.86zM5.41 20L4 18.59l7.72-7.72 1.47 1.35L5.41 20z\"/>\n",
              "  </svg>\n",
              "      </button>\n",
              "      \n",
              "  <style>\n",
              "    .colab-df-container {\n",
              "      display:flex;\n",
              "      flex-wrap:wrap;\n",
              "      gap: 12px;\n",
              "    }\n",
              "\n",
              "    .colab-df-convert {\n",
              "      background-color: #E8F0FE;\n",
              "      border: none;\n",
              "      border-radius: 50%;\n",
              "      cursor: pointer;\n",
              "      display: none;\n",
              "      fill: #1967D2;\n",
              "      height: 32px;\n",
              "      padding: 0 0 0 0;\n",
              "      width: 32px;\n",
              "    }\n",
              "\n",
              "    .colab-df-convert:hover {\n",
              "      background-color: #E2EBFA;\n",
              "      box-shadow: 0px 1px 2px rgba(60, 64, 67, 0.3), 0px 1px 3px 1px rgba(60, 64, 67, 0.15);\n",
              "      fill: #174EA6;\n",
              "    }\n",
              "\n",
              "    [theme=dark] .colab-df-convert {\n",
              "      background-color: #3B4455;\n",
              "      fill: #D2E3FC;\n",
              "    }\n",
              "\n",
              "    [theme=dark] .colab-df-convert:hover {\n",
              "      background-color: #434B5C;\n",
              "      box-shadow: 0px 1px 3px 1px rgba(0, 0, 0, 0.15);\n",
              "      filter: drop-shadow(0px 1px 2px rgba(0, 0, 0, 0.3));\n",
              "      fill: #FFFFFF;\n",
              "    }\n",
              "  </style>\n",
              "\n",
              "      <script>\n",
              "        const buttonEl =\n",
              "          document.querySelector('#df-3a0d3579-b08d-42aa-9938-563fe1aa56ca button.colab-df-convert');\n",
              "        buttonEl.style.display =\n",
              "          google.colab.kernel.accessAllowed ? 'block' : 'none';\n",
              "\n",
              "        async function convertToInteractive(key) {\n",
              "          const element = document.querySelector('#df-3a0d3579-b08d-42aa-9938-563fe1aa56ca');\n",
              "          const dataTable =\n",
              "            await google.colab.kernel.invokeFunction('convertToInteractive',\n",
              "                                                     [key], {});\n",
              "          if (!dataTable) return;\n",
              "\n",
              "          const docLinkHtml = 'Like what you see? Visit the ' +\n",
              "            '<a target=\"_blank\" href=https://colab.research.google.com/notebooks/data_table.ipynb>data table notebook</a>'\n",
              "            + ' to learn more about interactive tables.';\n",
              "          element.innerHTML = '';\n",
              "          dataTable['output_type'] = 'display_data';\n",
              "          await google.colab.output.renderOutput(dataTable, element);\n",
              "          const docLink = document.createElement('div');\n",
              "          docLink.innerHTML = docLinkHtml;\n",
              "          element.appendChild(docLink);\n",
              "        }\n",
              "      </script>\n",
              "    </div>\n",
              "  </div>\n",
              "  "
            ]
          },
          "metadata": {},
          "execution_count": 40
        }
      ],
      "source": [
        "fs_model.calculate_statistics(conf_matrix_sf)"
      ]
    },
    {
      "cell_type": "code",
      "source": [
        "keras.backend.clear_session()"
      ],
      "metadata": {
        "id": "qtl0-mps2QPX"
      },
      "execution_count": 41,
      "outputs": []
    },
    {
      "cell_type": "code",
      "source": [
        "tuned_fs_model = SolarLSTM(data2014_sf, labels2014_sf, \"./\", tune=True)"
      ],
      "metadata": {
        "id": "tO1eaMEE2baq"
      },
      "execution_count": 42,
      "outputs": []
    },
    {
      "cell_type": "code",
      "source": [
        "tuned_fs_model.build_model()"
      ],
      "metadata": {
        "id": "XMaV5iuR2bar"
      },
      "execution_count": 43,
      "outputs": []
    },
    {
      "cell_type": "code",
      "execution_count": 44,
      "metadata": {
        "colab": {
          "base_uri": "https://localhost:8080/",
          "height": 1000
        },
        "outputId": "c6b68ed5-38d0-478d-f000-afef7e073413",
        "id": "gD-EplZE2bas"
      },
      "outputs": [
        {
          "output_type": "stream",
          "name": "stdout",
          "text": [
            "Model not found\n",
            "Building Model...\n",
            "INFO:tensorflow:Reloading Oracle from existing project ./untitled_project/oracle.json\n"
          ]
        },
        {
          "output_type": "stream",
          "name": "stderr",
          "text": [
            "INFO:tensorflow:Reloading Oracle from existing project ./untitled_project/oracle.json\n"
          ]
        },
        {
          "output_type": "stream",
          "name": "stdout",
          "text": [
            "INFO:tensorflow:Reloading Tuner from ./untitled_project/tuner0.json\n"
          ]
        },
        {
          "output_type": "stream",
          "name": "stderr",
          "text": [
            "INFO:tensorflow:Reloading Tuner from ./untitled_project/tuner0.json\n"
          ]
        },
        {
          "output_type": "stream",
          "name": "stdout",
          "text": [
            "INFO:tensorflow:Oracle triggered exit\n"
          ]
        },
        {
          "output_type": "stream",
          "name": "stderr",
          "text": [
            "INFO:tensorflow:Oracle triggered exit\n"
          ]
        },
        {
          "output_type": "stream",
          "name": "stdout",
          "text": [
            "Hyper Tuning Complete\n",
            "Epoch 1/50\n"
          ]
        },
        {
          "output_type": "stream",
          "name": "stderr",
          "text": [
            "/usr/local/lib/python3.7/dist-packages/tensorflow/python/util/dispatch.py:1082: UserWarning: \"`binary_crossentropy` received `from_logits=True`, but the `output` argument was produced by a sigmoid or softmax activation and thus does not represent logits. Was this intended?\"\n",
            "  return dispatch_target(*args, **kwargs)\n"
          ]
        },
        {
          "output_type": "stream",
          "name": "stdout",
          "text": [
            "320/320 [==============================] - ETA: 0s - loss: 0.3591 - accuracy: 0.8776 - mse: 0.1079 - mae: 0.2208"
          ]
        },
        {
          "output_type": "stream",
          "name": "stderr",
          "text": [
            "WARNING:absl:Found untraced functions such as lstm_cell_2_layer_call_fn, lstm_cell_2_layer_call_and_return_conditional_losses, lstm_cell_3_layer_call_fn, lstm_cell_3_layer_call_and_return_conditional_losses while saving (showing 4 of 4). These functions will not be directly callable after loading.\n"
          ]
        },
        {
          "output_type": "stream",
          "name": "stdout",
          "text": [
            "INFO:tensorflow:Assets written to: model_checkpoints/assets\n"
          ]
        },
        {
          "output_type": "stream",
          "name": "stderr",
          "text": [
            "INFO:tensorflow:Assets written to: model_checkpoints/assets\n",
            "WARNING:absl:<keras.layers.recurrent.LSTMCell object at 0x7efbb4bb9810> has the same name 'LSTMCell' as a built-in Keras object. Consider renaming <class 'keras.layers.recurrent.LSTMCell'> to avoid naming conflicts when loading with `tf.keras.models.load_model`. If renaming is not possible, pass the object in the `custom_objects` parameter of the load function.\n",
            "WARNING:absl:<keras.layers.recurrent.LSTMCell object at 0x7efbb61e3850> has the same name 'LSTMCell' as a built-in Keras object. Consider renaming <class 'keras.layers.recurrent.LSTMCell'> to avoid naming conflicts when loading with `tf.keras.models.load_model`. If renaming is not possible, pass the object in the `custom_objects` parameter of the load function.\n"
          ]
        },
        {
          "output_type": "stream",
          "name": "stdout",
          "text": [
            "\b\b\b\b\b\b\b\b\b\b\b\b\b\b\b\b\b\b\b\b\b\b\b\b\b\b\b\b\b\b\b\b\b\b\b\b\b\b\b\b\b\b\b\b\b\b\b\b\b\b\b\b\b\b\b\b\b\b\b\b\b\b\b\b\b\b\b\b\b\b\b\b\b\b\b\b\b\b\b\b\b\b\b\b\b\b\b\b\b\b\b\b\b\b\b\b\b\b\b\b\b\b\b\b\b\b\b\b\b\b\b\b\r320/320 [==============================] - 34s 98ms/step - loss: 0.3591 - accuracy: 0.8776 - mse: 0.1079 - mae: 0.2208 - val_loss: 0.6025 - val_accuracy: 0.8094 - val_mse: 0.1681 - val_mae: 0.2287\n",
            "Epoch 2/50\n",
            "320/320 [==============================] - 21s 66ms/step - loss: 0.2907 - accuracy: 0.8922 - mse: 0.0816 - mae: 0.1587 - val_loss: 0.6469 - val_accuracy: 0.8033 - val_mse: 0.1757 - val_mae: 0.2263\n",
            "Epoch 3/50\n",
            "320/320 [==============================] - ETA: 0s - loss: 0.2619 - accuracy: 0.9002 - mse: 0.0721 - mae: 0.1436"
          ]
        },
        {
          "output_type": "stream",
          "name": "stderr",
          "text": [
            "WARNING:absl:Found untraced functions such as lstm_cell_2_layer_call_fn, lstm_cell_2_layer_call_and_return_conditional_losses, lstm_cell_3_layer_call_fn, lstm_cell_3_layer_call_and_return_conditional_losses while saving (showing 4 of 4). These functions will not be directly callable after loading.\n"
          ]
        },
        {
          "output_type": "stream",
          "name": "stdout",
          "text": [
            "INFO:tensorflow:Assets written to: model_checkpoints/assets\n"
          ]
        },
        {
          "output_type": "stream",
          "name": "stderr",
          "text": [
            "INFO:tensorflow:Assets written to: model_checkpoints/assets\n",
            "WARNING:absl:<keras.layers.recurrent.LSTMCell object at 0x7efbb4bb9810> has the same name 'LSTMCell' as a built-in Keras object. Consider renaming <class 'keras.layers.recurrent.LSTMCell'> to avoid naming conflicts when loading with `tf.keras.models.load_model`. If renaming is not possible, pass the object in the `custom_objects` parameter of the load function.\n",
            "WARNING:absl:<keras.layers.recurrent.LSTMCell object at 0x7efbb61e3850> has the same name 'LSTMCell' as a built-in Keras object. Consider renaming <class 'keras.layers.recurrent.LSTMCell'> to avoid naming conflicts when loading with `tf.keras.models.load_model`. If renaming is not possible, pass the object in the `custom_objects` parameter of the load function.\n"
          ]
        },
        {
          "output_type": "stream",
          "name": "stdout",
          "text": [
            "\b\b\b\b\b\b\b\b\b\b\b\b\b\b\b\b\b\b\b\b\b\b\b\b\b\b\b\b\b\b\b\b\b\b\b\b\b\b\b\b\b\b\b\b\b\b\b\b\b\b\b\b\b\b\b\b\b\b\b\b\b\b\b\b\b\b\b\b\b\b\b\b\b\b\b\b\b\b\b\b\b\b\b\b\b\b\b\b\b\b\b\b\b\b\b\b\b\b\b\b\b\b\b\b\b\b\b\b\b\b\b\b\r320/320 [==============================] - 29s 91ms/step - loss: 0.2619 - accuracy: 0.9002 - mse: 0.0721 - mae: 0.1436 - val_loss: 0.6021 - val_accuracy: 0.7865 - val_mse: 0.1652 - val_mae: 0.2220\n",
            "Epoch 4/50\n",
            "320/320 [==============================] - 20s 64ms/step - loss: 0.2471 - accuracy: 0.9164 - mse: 0.0669 - mae: 0.1342 - val_loss: 0.6083 - val_accuracy: 0.7839 - val_mse: 0.1661 - val_mae: 0.2213\n",
            "Epoch 5/50\n",
            "320/320 [==============================] - 21s 64ms/step - loss: 0.2485 - accuracy: 0.9197 - mse: 0.0670 - mae: 0.1336 - val_loss: 0.6310 - val_accuracy: 0.7849 - val_mse: 0.1740 - val_mae: 0.2333\n",
            "Epoch 6/50\n",
            "320/320 [==============================] - ETA: 0s - loss: 0.2286 - accuracy: 0.9313 - mse: 0.0600 - mae: 0.1243"
          ]
        },
        {
          "output_type": "stream",
          "name": "stderr",
          "text": [
            "WARNING:absl:Found untraced functions such as lstm_cell_2_layer_call_fn, lstm_cell_2_layer_call_and_return_conditional_losses, lstm_cell_3_layer_call_fn, lstm_cell_3_layer_call_and_return_conditional_losses while saving (showing 4 of 4). These functions will not be directly callable after loading.\n"
          ]
        },
        {
          "output_type": "stream",
          "name": "stdout",
          "text": [
            "INFO:tensorflow:Assets written to: model_checkpoints/assets\n"
          ]
        },
        {
          "output_type": "stream",
          "name": "stderr",
          "text": [
            "INFO:tensorflow:Assets written to: model_checkpoints/assets\n",
            "WARNING:absl:<keras.layers.recurrent.LSTMCell object at 0x7efbb4bb9810> has the same name 'LSTMCell' as a built-in Keras object. Consider renaming <class 'keras.layers.recurrent.LSTMCell'> to avoid naming conflicts when loading with `tf.keras.models.load_model`. If renaming is not possible, pass the object in the `custom_objects` parameter of the load function.\n",
            "WARNING:absl:<keras.layers.recurrent.LSTMCell object at 0x7efbb61e3850> has the same name 'LSTMCell' as a built-in Keras object. Consider renaming <class 'keras.layers.recurrent.LSTMCell'> to avoid naming conflicts when loading with `tf.keras.models.load_model`. If renaming is not possible, pass the object in the `custom_objects` parameter of the load function.\n"
          ]
        },
        {
          "output_type": "stream",
          "name": "stdout",
          "text": [
            "\b\b\b\b\b\b\b\b\b\b\b\b\b\b\b\b\b\b\b\b\b\b\b\b\b\b\b\b\b\b\b\b\b\b\b\b\b\b\b\b\b\b\b\b\b\b\b\b\b\b\b\b\b\b\b\b\b\b\b\b\b\b\b\b\b\b\b\b\b\b\b\b\b\b\b\b\b\b\b\b\b\b\b\b\b\b\b\b\b\b\b\b\b\b\b\b\b\b\b\b\b\b\b\b\b\b\b\b\b\b\b\b\r320/320 [==============================] - 29s 90ms/step - loss: 0.2286 - accuracy: 0.9313 - mse: 0.0600 - mae: 0.1243 - val_loss: 0.5958 - val_accuracy: 0.8197 - val_mse: 0.1607 - val_mae: 0.2039\n",
            "Epoch 7/50\n",
            "320/320 [==============================] - 20s 62ms/step - loss: 0.2272 - accuracy: 0.9232 - mse: 0.0613 - mae: 0.1212 - val_loss: 0.6504 - val_accuracy: 0.7533 - val_mse: 0.1856 - val_mae: 0.2463\n",
            "Epoch 8/50\n",
            "320/320 [==============================] - 20s 62ms/step - loss: 0.2173 - accuracy: 0.9298 - mse: 0.0574 - mae: 0.1168 - val_loss: 0.6057 - val_accuracy: 0.7879 - val_mse: 0.1664 - val_mae: 0.2166\n",
            "Epoch 9/50\n",
            "320/320 [==============================] - 20s 63ms/step - loss: 0.2064 - accuracy: 0.9355 - mse: 0.0539 - mae: 0.1100 - val_loss: 0.6320 - val_accuracy: 0.7790 - val_mse: 0.1745 - val_mae: 0.2243\n",
            "Epoch 10/50\n",
            "320/320 [==============================] - 20s 63ms/step - loss: 0.2126 - accuracy: 0.9309 - mse: 0.0566 - mae: 0.1127 - val_loss: 0.6359 - val_accuracy: 0.7626 - val_mse: 0.1801 - val_mae: 0.2386\n",
            "Epoch 11/50\n",
            "320/320 [==============================] - 20s 62ms/step - loss: 0.2137 - accuracy: 0.9281 - mse: 0.0570 - mae: 0.1167 - val_loss: 0.6484 - val_accuracy: 0.7851 - val_mse: 0.1745 - val_mae: 0.2244\n",
            "Epoch 12/50\n",
            "320/320 [==============================] - 20s 63ms/step - loss: 0.1976 - accuracy: 0.9374 - mse: 0.0518 - mae: 0.1067 - val_loss: 0.6667 - val_accuracy: 0.7663 - val_mse: 0.1838 - val_mae: 0.2364\n",
            "Epoch 13/50\n",
            "320/320 [==============================] - 20s 63ms/step - loss: 0.2020 - accuracy: 0.9344 - mse: 0.0537 - mae: 0.1084 - val_loss: 0.6537 - val_accuracy: 0.7987 - val_mse: 0.1715 - val_mae: 0.2197\n",
            "Epoch 14/50\n",
            "320/320 [==============================] - 20s 63ms/step - loss: 0.1984 - accuracy: 0.9328 - mse: 0.0527 - mae: 0.1070 - val_loss: 0.6110 - val_accuracy: 0.7909 - val_mse: 0.1617 - val_mae: 0.2171\n",
            "Epoch 15/50\n",
            "320/320 [==============================] - 20s 63ms/step - loss: 0.1926 - accuracy: 0.9366 - mse: 0.0513 - mae: 0.1061 - val_loss: 0.6936 - val_accuracy: 0.7732 - val_mse: 0.1847 - val_mae: 0.2321\n",
            "Epoch 16/50\n",
            "320/320 [==============================] - 20s 63ms/step - loss: 0.1858 - accuracy: 0.9402 - mse: 0.0490 - mae: 0.1000 - val_loss: 0.6667 - val_accuracy: 0.8055 - val_mse: 0.1685 - val_mae: 0.2125\n",
            "Epoch 17/50\n",
            "320/320 [==============================] - 20s 64ms/step - loss: 0.1853 - accuracy: 0.9370 - mse: 0.0498 - mae: 0.1020 - val_loss: 0.6507 - val_accuracy: 0.7920 - val_mse: 0.1699 - val_mae: 0.2168\n",
            "Epoch 18/50\n",
            "320/320 [==============================] - 20s 64ms/step - loss: 0.1847 - accuracy: 0.9397 - mse: 0.0491 - mae: 0.0979 - val_loss: 0.7048 - val_accuracy: 0.7846 - val_mse: 0.1800 - val_mae: 0.2207\n",
            "Epoch 19/50\n",
            "320/320 [==============================] - 20s 62ms/step - loss: 0.1763 - accuracy: 0.9404 - mse: 0.0473 - mae: 0.0967 - val_loss: 0.7107 - val_accuracy: 0.7870 - val_mse: 0.1787 - val_mae: 0.2198\n",
            "Epoch 20/50\n",
            "320/320 [==============================] - 20s 64ms/step - loss: 0.1678 - accuracy: 0.9433 - mse: 0.0449 - mae: 0.0912 - val_loss: 0.7280 - val_accuracy: 0.7798 - val_mse: 0.1839 - val_mae: 0.2237\n",
            "Epoch 21/50\n",
            "320/320 [==============================] - 20s 63ms/step - loss: 0.1591 - accuracy: 0.9454 - mse: 0.0429 - mae: 0.0876 - val_loss: 0.7881 - val_accuracy: 0.7897 - val_mse: 0.1869 - val_mae: 0.2184\n",
            "Epoch 21: early stopping\n"
          ]
        },
        {
          "output_type": "display_data",
          "data": {
            "text/plain": [
              "<Figure size 576x360 with 1 Axes>"
            ],
            "image/png": "[encoded data removed]"
          },
          "metadata": {
            "needs_background": "light"
          }
        }
      ],
      "source": [
        "history=tuned_fs_model.fit()"
      ]
    },
    {
      "cell_type": "code",
      "execution_count": 45,
      "metadata": {
        "colab": {
          "base_uri": "https://localhost:8080/"
        },
        "outputId": "ba5aac74-ea7e-4947-ed65-c096771baeb4",
        "id": "VGjR94kc2g-b"
      },
      "outputs": [
        {
          "output_type": "stream",
          "name": "stdout",
          "text": [
            "445/445 [==============================] - 9s 20ms/step - loss: 0.6283 - accuracy: 0.8239 - mse: 0.1534 - mae: 0.1890\n"
          ]
        },
        {
          "output_type": "execute_result",
          "data": {
            "text/plain": [
              "[0.6282752156257629,\n",
              " 0.8239012956619263,\n",
              " 0.1533949226140976,\n",
              " 0.1889794021844864]"
            ]
          },
          "metadata": {},
          "execution_count": 45
        }
      ],
      "source": [
        "tuned_fs_new = tuned_fs_model.batch_prefetch_data(data2015_sf,labels2015_sf,split_data=False)\n",
        "tuned_fs_model.evaluate(tuned_fs_new)\n",
        "#base_model.evaluate(data_new,labels_new)"
      ]
    },
    {
      "cell_type": "code",
      "execution_count": 46,
      "metadata": {
        "colab": {
          "base_uri": "https://localhost:8080/",
          "height": 290
        },
        "outputId": "fb62daac-b4be-4f57-8ce1-1e864c01fc34",
        "id": "9tKveQ_92g-i"
      },
      "outputs": [
        {
          "output_type": "display_data",
          "data": {
            "text/plain": [
              "<Figure size 432x288 with 2 Axes>"
            ],
            "image/png": "[encoded data removed]"
          },
          "metadata": {
            "needs_background": "light"
          }
        }
      ],
      "source": [
        "#Form batches (does not shuffle, cuts off remainder)\n",
        "batched_2015_tuned_sf = tuned_fs_model.batch_prefetch_data(data2015_sf,split_data=False)\n",
        "#Cutoff matching remainder from labels\n",
        "true_labels_tuned_sf = labels2015_sf[:-(labels2015_sf.shape[0] % tuned_fs_model.batch_size)]\n",
        "#Do predictions and get confusion matrix\n",
        "conf_matrix_tuned_sf = tuned_fs_model.predict_conf_matrix(batched_2015_tuned_sf,true_labels_tuned_sf,make_plots=True)"
      ]
    },
    {
      "cell_type": "code",
      "execution_count": 47,
      "metadata": {
        "colab": {
          "base_uri": "https://localhost:8080/"
        },
        "outputId": "ea89d0b8-a614-4971-afbc-53d25bccd6f3",
        "id": "YE3lJpDa2g-i"
      },
      "outputs": [
        {
          "output_type": "execute_result",
          "data": {
            "text/plain": [
              "array([[  57425,  506215],\n",
              "       [ 110387, 2743573]])"
            ]
          },
          "metadata": {},
          "execution_count": 47
        }
      ],
      "source": [
        "conf_matrix_tuned_sf"
      ]
    },
    {
      "cell_type": "code",
      "execution_count": 48,
      "metadata": {
        "colab": {
          "base_uri": "https://localhost:8080/",
          "height": 81
        },
        "outputId": "ea66fa2c-5b01-40f8-80c8-3245b0bb0ee8",
        "id": "wvn4pIpZ2g-j"
      },
      "outputs": [
        {
          "output_type": "execute_result",
          "data": {
            "text/plain": [
              "   precision    recall       far       hss\n",
              "0   0.961321  0.844231  0.657802  0.088342"
            ],
            "text/html": [
              "\n",
              "  <div id=\"df-872e4757-9bf2-4738-94fa-745b5ac04021\">\n",
              "    <div class=\"colab-df-container\">\n",
              "      <div>\n",
              "<style scoped>\n",
              "    .dataframe tbody tr th:only-of-type {\n",
              "        vertical-align: middle;\n",
              "    }\n",
              "\n",
              "    .dataframe tbody tr th {\n",
              "        vertical-align: top;\n",
              "    }\n",
              "\n",
              "    .dataframe thead th {\n",
              "        text-align: right;\n",
              "    }\n",
              "</style>\n",
              "<table border=\"1\" class=\"dataframe\">\n",
              "  <thead>\n",
              "    <tr style=\"text-align: right;\">\n",
              "      <th></th>\n",
              "      <th>precision</th>\n",
              "      <th>recall</th>\n",
              "      <th>far</th>\n",
              "      <th>hss</th>\n",
              "    </tr>\n",
              "  </thead>\n",
              "  <tbody>\n",
              "    <tr>\n",
              "      <th>0</th>\n",
              "      <td>0.961321</td>\n",
              "      <td>0.844231</td>\n",
              "      <td>0.657802</td>\n",
              "      <td>0.088342</td>\n",
              "    </tr>\n",
              "  </tbody>\n",
              "</table>\n",
              "</div>\n",
              "      <button class=\"colab-df-convert\" onclick=\"convertToInteractive('df-872e4757-9bf2-4738-94fa-745b5ac04021')\"\n",
              "              title=\"Convert this dataframe to an interactive table.\"\n",
              "              style=\"display:none;\">\n",
              "        \n",
              "  <svg xmlns=\"http://www.w3.org/2000/svg\" height=\"24px\"viewBox=\"0 0 24 24\"\n",
              "       width=\"24px\">\n",
              "    <path d=\"M0 0h24v24H0V0z\" fill=\"none\"/>\n",
              "    <path d=\"M18.56 5.44l.94 2.06.94-2.06 2.06-.94-2.06-.94-.94-2.06-.94 2.06-2.06.94zm-11 1L8.5 8.5l.94-2.06 2.06-.94-2.06-.94L8.5 2.5l-.94 2.06-2.06.94zm10 10l.94 2.06.94-2.06 2.06-.94-2.06-.94-.94-2.06-.94 2.06-2.06.94z\"/><path d=\"M17.41 7.96l-1.37-1.37c-.4-.4-.92-.59-1.43-.59-.52 0-1.04.2-1.43.59L10.3 9.45l-7.72 7.72c-.78.78-.78 2.05 0 2.83L4 21.41c.39.39.9.59 1.41.59.51 0 1.02-.2 1.41-.59l7.78-7.78 2.81-2.81c.8-.78.8-2.07 0-2.86zM5.41 20L4 18.59l7.72-7.72 1.47 1.35L5.41 20z\"/>\n",
              "  </svg>\n",
              "      </button>\n",
              "      \n",
              "  <style>\n",
              "    .colab-df-container {\n",
              "      display:flex;\n",
              "      flex-wrap:wrap;\n",
              "      gap: 12px;\n",
              "    }\n",
              "\n",
              "    .colab-df-convert {\n",
              "      background-color: #E8F0FE;\n",
              "      border: none;\n",
              "      border-radius: 50%;\n",
              "      cursor: pointer;\n",
              "      display: none;\n",
              "      fill: #1967D2;\n",
              "      height: 32px;\n",
              "      padding: 0 0 0 0;\n",
              "      width: 32px;\n",
              "    }\n",
              "\n",
              "    .colab-df-convert:hover {\n",
              "      background-color: #E2EBFA;\n",
              "      box-shadow: 0px 1px 2px rgba(60, 64, 67, 0.3), 0px 1px 3px 1px rgba(60, 64, 67, 0.15);\n",
              "      fill: #174EA6;\n",
              "    }\n",
              "\n",
              "    [theme=dark] .colab-df-convert {\n",
              "      background-color: #3B4455;\n",
              "      fill: #D2E3FC;\n",
              "    }\n",
              "\n",
              "    [theme=dark] .colab-df-convert:hover {\n",
              "      background-color: #434B5C;\n",
              "      box-shadow: 0px 1px 3px 1px rgba(0, 0, 0, 0.15);\n",
              "      filter: drop-shadow(0px 1px 2px rgba(0, 0, 0, 0.3));\n",
              "      fill: #FFFFFF;\n",
              "    }\n",
              "  </style>\n",
              "\n",
              "      <script>\n",
              "        const buttonEl =\n",
              "          document.querySelector('#df-872e4757-9bf2-4738-94fa-745b5ac04021 button.colab-df-convert');\n",
              "        buttonEl.style.display =\n",
              "          google.colab.kernel.accessAllowed ? 'block' : 'none';\n",
              "\n",
              "        async function convertToInteractive(key) {\n",
              "          const element = document.querySelector('#df-872e4757-9bf2-4738-94fa-745b5ac04021');\n",
              "          const dataTable =\n",
              "            await google.colab.kernel.invokeFunction('convertToInteractive',\n",
              "                                                     [key], {});\n",
              "          if (!dataTable) return;\n",
              "\n",
              "          const docLinkHtml = 'Like what you see? Visit the ' +\n",
              "            '<a target=\"_blank\" href=https://colab.research.google.com/notebooks/data_table.ipynb>data table notebook</a>'\n",
              "            + ' to learn more about interactive tables.';\n",
              "          element.innerHTML = '';\n",
              "          dataTable['output_type'] = 'display_data';\n",
              "          await google.colab.output.renderOutput(dataTable, element);\n",
              "          const docLink = document.createElement('div');\n",
              "          docLink.innerHTML = docLinkHtml;\n",
              "          element.appendChild(docLink);\n",
              "        }\n",
              "      </script>\n",
              "    </div>\n",
              "  </div>\n",
              "  "
            ]
          },
          "metadata": {},
          "execution_count": 48
        }
      ],
      "source": [
        "tuned_fs_model.calculate_statistics(conf_matrix_tuned_sf)"
      ]
    },
    {
      "cell_type": "code",
      "execution_count": 49,
      "metadata": {
        "colab": {
          "base_uri": "https://localhost:8080/"
        },
        "outputId": "74a6d594-a33d-48a0-ddd0-b2644f8224fc",
        "id": "tTgUryny2bar"
      },
      "outputs": [
        {
          "output_type": "stream",
          "name": "stdout",
          "text": [
            "Model: \"sequential_1\"\n",
            "_________________________________________________________________\n",
            " Layer (type)                Output Shape              Param #   \n",
            "=================================================================\n",
            " lstm_2 (LSTM)               (64, 120, 16)             1856      \n",
            "                                                                 \n",
            " lstm_3 (LSTM)               (64, 120, 16)             2112      \n",
            "                                                                 \n",
            " dropout_1 (Dropout)         (64, 120, 16)             0         \n",
            "                                                                 \n",
            " dense_1 (Dense)             (64, 120, 1)              17        \n",
            "                                                                 \n",
            "=================================================================\n",
            "Total params: 3,985\n",
            "Trainable params: 3,985\n",
            "Non-trainable params: 0\n",
            "_________________________________________________________________\n"
          ]
        }
      ],
      "source": [
        "tuned_fs_model.model.summary()"
      ]
    },
    {
      "cell_type": "markdown",
      "source": [
        "# Model with Recurrent Dropout and Lower Units Tuning\n",
        "\n",
        "* Using feature selection\n",
        "* Tuning with units from 10 to 16 with step size 1\n",
        "* Removed the Dropout layer and instead used the recurrent_dropout = .2 in the keras.layers.LSTM function call"
      ],
      "metadata": {
        "id": "sHSk13KV4OUv"
      }
    },
    {
      "cell_type": "code",
      "source": [
        "with open(\"/content/all_data.pkl\", \"rb\") as file:\n",
        "    data = pickle.load(file)"
      ],
      "metadata": {
        "id": "agmwUNUC6TU-"
      },
      "execution_count": null,
      "outputs": []
    },
    {
      "cell_type": "code",
      "execution_count": null,
      "metadata": {
        "colab": {
          "base_uri": "https://localhost:8080/"
        },
        "outputId": "9cc74c19-d61d-4997-90e2-d48bd2aa7fc0",
        "id": "1NdW1Flk6TU_"
      },
      "outputs": [
        {
          "output_type": "stream",
          "name": "stdout",
          "text": [
            "Num GB used in data array: 0.0006008148193359375\n",
            "Num GB used in data array: 0.0008475780487060547\n",
            "Num GB used in data array: 0.001963376998901367\n",
            "Num GB used in data array: 0.003701448440551758\n",
            "Num GB used in data array: 0.004388093948364258\n",
            "Num GB used in data array: 0.004903078079223633\n",
            "Num GB used in data array: 0.005300045013427734\n",
            "Num GB used in data array: 0.0072634220123291016\n",
            "Num GB used in data array: 0.007381439208984375\n",
            "Num GB used in data array: 0.008465051651000977\n",
            "Num GB used in data array: 0.009065866470336914\n",
            "Num GB used in data array: 0.012778043746948242\n",
            "Num GB used in data array: 0.01337885856628418\n",
            "Num GB used in data array: 0.015106201171875\n",
            "Num GB used in data array: 0.017713308334350586\n",
            "Num GB used in data array: 0.018045902252197266\n",
            "Num GB used in data array: 0.03292679786682129\n",
            "Num GB used in data array: 0.034461021423339844\n",
            "Num GB used in data array: 0.03457903861999512\n",
            "Num GB used in data array: 0.03464341163635254\n",
            "Num GB used in data array: 0.03508329391479492\n",
            "Num GB used in data array: 0.03568410873413086\n",
            "Num GB used in data array: 0.03636002540588379\n",
            "Num GB used in data array: 0.040018558502197266\n",
            "Num GB used in data array: 0.04024386405944824\n",
            "Num GB used in data array: 0.04084467887878418\n",
            "Num GB used in data array: 0.04144549369812012\n",
            "Num GB used in data array: 0.04215359687805176\n",
            "Num GB used in data array: 0.042754411697387695\n",
            "Num GB used in data array: 0.04335522651672363\n",
            "Num GB used in data array: 0.04395604133605957\n",
            "Num GB used in data array: 0.048558712005615234\n",
            "Num GB used in data array: 0.04915952682495117\n",
            "Num GB used in data array: 0.0495457649230957\n",
            "Num GB used in data array: 0.04971742630004883\n",
            "Num GB used in data array: 0.0516057014465332\n",
            "Num GB used in data array: 0.05251765251159668\n",
            "Num GB used in data array: 0.05292534828186035\n",
            "Num GB used in data array: 0.053000450134277344\n",
            "Num GB used in data array: 0.05606889724731445\n",
            "Num GB used in data array: 0.0561976432800293\n",
            "Num GB used in data array: 0.05970597267150879\n",
            "Num GB used in data array: 0.06067156791687012\n",
            "Num GB used in data array: 0.06394386291503906\n",
            "Num GB used in data array: 0.06886839866638184\n",
            "Num GB used in data array: 0.08271932601928711\n",
            "Num GB used in data array: 0.09527206420898438\n",
            "Num GB used in data array: 0.09794354438781738\n",
            "Num GB used in data array: 0.09816884994506836\n",
            "Num GB used in data array: 0.09832978248596191\n",
            "Num GB used in data array: 0.09836196899414062\n",
            "Num GB used in data array: 0.10431647300720215\n",
            "Num GB used in data array: 0.10488510131835938\n",
            "Num GB used in data array: 0.10943412780761719\n",
            "Num GB used in data array: 0.10972380638122559\n",
            "Num GB used in data array: 0.10987401008605957\n",
            "Num GB used in data array: 0.11148333549499512\n",
            "Num GB used in data array: 0.11542081832885742\n",
            "Num GB used in data array: 0.12581706047058105\n",
            "Num GB used in data array: 0.12752294540405273\n",
            "Num GB used in data array: 0.13744711875915527\n",
            "Num GB used in data array: 0.14685630798339844\n",
            "Num GB used in data array: 0.1574993133544922\n",
            "Num GB used in data array: 0.18210053443908691\n",
            "Num GB used in data array: 0.1961982250213623\n",
            "Num GB used in data array: 0.2031397819519043\n",
            "Num GB used in data array: 0.2111220359802246\n",
            "Num GB used in data array: 0.21139025688171387\n",
            "Num GB used in data array: 0.21280646324157715\n",
            "Num GB used in data array: 0.2131819725036621\n",
            "Num GB used in data array: 0.21916866302490234\n",
            "Num GB used in data array: 0.22357821464538574\n",
            "Num GB used in data array: 0.22396445274353027\n",
            "Num GB used in data array: 0.2277839183807373\n",
            "Num GB used in data array: 0.24204254150390625\n",
            "Num GB used in data array: 0.24615168571472168\n",
            "Num GB used in data array: 0.26726603507995605\n",
            "Num GB used in data array: 0.2705061435699463\n",
            "Num GB used in data array: 0.27059197425842285\n",
            "Num GB used in data array: 0.2707099914550781\n",
            "Num GB used in data array: 0.2708280086517334\n",
            "Num GB used in data array: 0.27132153511047363\n",
            "Num GB used in data array: 0.2716541290283203\n",
            "Num GB used in data array: 0.2718043327331543\n",
            "Num GB used in data array: 0.27246952056884766\n",
            "Num GB used in data array: 0.27518391609191895\n"
          ]
        },
        {
          "output_type": "execute_result",
          "data": {
            "text/plain": [
              "<data_creation.DataSelection at 0x7f761f576110>"
            ]
          },
          "metadata": {},
          "execution_count": 5
        }
      ],
      "source": [
        "DataSelection(data, 2014, \"./\", feature_selection=True, use_all=False)\n",
        "# DataSelection(data, 2015, \"./\")"
      ]
    },
    {
      "cell_type": "code",
      "execution_count": null,
      "metadata": {
        "colab": {
          "base_uri": "https://localhost:8080/"
        },
        "outputId": "d48dbf80-2028-4cb7-d818-3a6834e27968",
        "id": "ar1C4lA-6TVA"
      },
      "outputs": [
        {
          "output_type": "stream",
          "name": "stdout",
          "text": [
            "Num GB used in data array: 0.0006008148193359375\n",
            "Num GB used in data array: 0.0009870529174804688\n",
            "Num GB used in data array: 0.003465414047241211\n",
            "Num GB used in data array: 0.005525350570678711\n",
            "Num GB used in data array: 0.007628202438354492\n",
            "Num GB used in data array: 0.009924173355102539\n",
            "Num GB used in data array: 0.010524988174438477\n",
            "Num GB used in data array: 0.011125802993774414\n",
            "Num GB used in data array: 0.014623403549194336\n",
            "Num GB used in data array: 0.01474142074584961\n",
            "Num GB used in data array: 0.015031099319458008\n",
            "Num GB used in data array: 0.01855015754699707\n",
            "Num GB used in data array: 0.019150972366333008\n",
            "Num GB used in data array: 0.019429922103881836\n",
            "Num GB used in data array: 0.02233743667602539\n",
            "Num GB used in data array: 0.02267003059387207\n",
            "Num GB used in data array: 0.03632783889770508\n",
            "Num GB used in data array: 0.03875255584716797\n",
            "Num GB used in data array: 0.03983616828918457\n",
            "Num GB used in data array: 0.03990054130554199\n",
            "Num GB used in data array: 0.04019021987915039\n",
            "Num GB used in data array: 0.040340423583984375\n",
            "Num GB used in data array: 0.042775869369506836\n",
            "Num GB used in data array: 0.043473243713378906\n",
            "Num GB used in data array: 0.04494309425354004\n",
            "Num GB used in data array: 0.04739999771118164\n",
            "Num GB used in data array: 0.05635857582092285\n",
            "Num GB used in data array: 0.07331013679504395\n",
            "Num GB used in data array: 0.07647514343261719\n",
            "Num GB used in data array: 0.07691502571105957\n",
            "Num GB used in data array: 0.07707595825195312\n",
            "Num GB used in data array: 0.08452177047729492\n",
            "Num GB used in data array: 0.08635640144348145\n",
            "Num GB used in data array: 0.09290099143981934\n",
            "Num GB used in data array: 0.09535789489746094\n",
            "Num GB used in data array: 0.09757876396179199\n",
            "Num GB used in data array: 0.09959578514099121\n",
            "Num GB used in data array: 0.10178446769714355\n",
            "Num GB used in data array: 0.10193467140197754\n",
            "Num GB used in data array: 0.1020205020904541\n",
            "Num GB used in data array: 0.10972380638122559\n",
            "Num GB used in data array: 0.11030316352844238\n",
            "Num GB used in data array: 0.11579632759094238\n",
            "Num GB used in data array: 0.12237310409545898\n",
            "Num GB used in data array: 0.13662099838256836\n",
            "Num GB used in data array: 0.16004204750061035\n",
            "Num GB used in data array: 0.17594218254089355\n",
            "Num GB used in data array: 0.1844179630279541\n",
            "Num GB used in data array: 0.18906354904174805\n",
            "Num GB used in data array: 0.1893317699432373\n",
            "Num GB used in data array: 0.19072651863098145\n",
            "Num GB used in data array: 0.19165992736816406\n",
            "Num GB used in data array: 0.1997387409210205\n",
            "Num GB used in data array: 0.20645499229431152\n",
            "Num GB used in data array: 0.20723819732666016\n",
            "Num GB used in data array: 0.21366477012634277\n",
            "Num GB used in data array: 0.21390080451965332\n",
            "Num GB used in data array: 0.23647427558898926\n",
            "Num GB used in data array: 0.24596929550170898\n",
            "Num GB used in data array: 0.2782416343688965\n",
            "Num GB used in data array: 0.2816641330718994\n",
            "Num GB used in data array: 0.282747745513916\n",
            "Num GB used in data array: 0.2853119373321533\n",
            "Num GB used in data array: 0.28768301010131836\n",
            "Num GB used in data array: 0.28948545455932617\n",
            "Num GB used in data array: 0.2907085418701172\n",
            "Num GB used in data array: 0.2917492389678955\n",
            "Num GB used in data array: 0.2928006649017334\n",
            "Num GB used in data array: 0.2932298183441162\n",
            "Num GB used in data array: 0.2933049201965332\n",
            "Num GB used in data array: 0.2937018871307373\n",
            "Num GB used in data array: 0.29639482498168945\n",
            "Num GB used in data array: 0.3056216239929199\n"
          ]
        },
        {
          "output_type": "execute_result",
          "data": {
            "text/plain": [
              "<data_creation.DataSelection at 0x7f7607ea4b50>"
            ]
          },
          "metadata": {},
          "execution_count": 6
        }
      ],
      "source": [
        "with open(\"norm_scaler.pkl\", \"rb\") as norm_file:\n",
        "    normalization = pickle.load(norm_file)\n",
        "\n",
        "with open(\"stand_scaler.pkl\", \"rb\") as stand_file:\n",
        "    standard = pickle.load(stand_file)\n",
        "\n",
        "DataSelection(data, 2015,\"./\", feature_selection=True, use_all=False, norm_scaler=normalization, stand_scaler=standard)"
      ]
    },
    {
      "cell_type": "code",
      "execution_count": null,
      "metadata": {
        "id": "GCbZm6De6TVB"
      },
      "outputs": [],
      "source": [
        "data2014_sf = np.load(\"data_2014.npy\")\n",
        "labels2014_sf = np.load(\"labels_2014.npy\")"
      ]
    },
    {
      "cell_type": "code",
      "execution_count": null,
      "metadata": {
        "colab": {
          "base_uri": "https://localhost:8080/"
        },
        "outputId": "73974b7f-53a8-44cf-fcfd-9fdfcd737bcd",
        "id": "81F09RUw6Mli"
      },
      "outputs": [
        {
          "output_type": "execute_result",
          "data": {
            "text/plain": [
              "(25649, 120, 12)"
            ]
          },
          "metadata": {},
          "execution_count": 4
        }
      ],
      "source": [
        "data2014_sf.shape"
      ]
    },
    {
      "cell_type": "code",
      "source": [
        "model3 = SolarLSTM(data2014_sf, labels2014_sf, \"./\", tune=True,\n",
        "                   units=(10, 16, 1), regularization=(\"early stopping\"))"
      ],
      "metadata": {
        "id": "Gx1qEBNY6Mli"
      },
      "execution_count": null,
      "outputs": []
    },
    {
      "cell_type": "code",
      "source": [
        "model3.build_model()"
      ],
      "metadata": {
        "id": "miYP26Zk6Mlj"
      },
      "execution_count": null,
      "outputs": []
    },
    {
      "cell_type": "code",
      "execution_count": null,
      "metadata": {
        "id": "9FTAC_H66Mlj"
      },
      "outputs": [],
      "source": [
        "model3.model"
      ]
    },
    {
      "cell_type": "code",
      "execution_count": null,
      "metadata": {
        "colab": {
          "base_uri": "https://localhost:8080/",
          "height": 1000
        },
        "outputId": "07d1ab57-438b-4364-c6bd-aeb1c6bff279",
        "id": "SSwf9qlt6Mlj"
      },
      "outputs": [
        {
          "output_type": "stream",
          "name": "stdout",
          "text": [
            "Trial 10 Complete [00h 10m 22s]\n",
            "val_accuracy: 0.8107714653015137\n",
            "\n",
            "Best val_accuracy So Far: 0.8234326243400574\n",
            "Total elapsed time: 01h 46m 08s\n",
            "INFO:tensorflow:Oracle triggered exit\n"
          ]
        },
        {
          "output_type": "stream",
          "name": "stderr",
          "text": [
            "INFO:tensorflow:Oracle triggered exit\n"
          ]
        },
        {
          "output_type": "stream",
          "name": "stdout",
          "text": [
            "Hyper Tuning Complete\n",
            "Epoch 1/50\n"
          ]
        },
        {
          "output_type": "stream",
          "name": "stderr",
          "text": [
            "/usr/local/lib/python3.7/dist-packages/tensorflow/python/util/dispatch.py:1082: UserWarning: \"`binary_crossentropy` received `from_logits=True`, but the `output` argument was produced by a sigmoid or softmax activation and thus does not represent logits. Was this intended?\"\n",
            "  return dispatch_target(*args, **kwargs)\n"
          ]
        },
        {
          "output_type": "stream",
          "name": "stdout",
          "text": [
            "320/320 [==============================] - ETA: 0s - loss: 0.3670 - accuracy: 0.8748 - mse: 0.1108 - mae: 0.2415INFO:tensorflow:Assets written to: model_checkpoints/assets\n"
          ]
        },
        {
          "output_type": "stream",
          "name": "stderr",
          "text": [
            "INFO:tensorflow:Assets written to: model_checkpoints/assets\n",
            "WARNING:absl:<keras.layers.recurrent.LSTMCell object at 0x7f85b0600550> has the same name 'LSTMCell' as a built-in Keras object. Consider renaming <class 'keras.layers.recurrent.LSTMCell'> to avoid naming conflicts when loading with `tf.keras.models.load_model`. If renaming is not possible, pass the object in the `custom_objects` parameter of the load function.\n",
            "WARNING:absl:<keras.layers.recurrent.LSTMCell object at 0x7f85ae85c050> has the same name 'LSTMCell' as a built-in Keras object. Consider renaming <class 'keras.layers.recurrent.LSTMCell'> to avoid naming conflicts when loading with `tf.keras.models.load_model`. If renaming is not possible, pass the object in the `custom_objects` parameter of the load function.\n"
          ]
        },
        {
          "output_type": "stream",
          "name": "stdout",
          "text": [
            "\b\b\b\b\b\b\b\b\b\b\b\b\b\b\b\b\b\b\b\b\b\b\b\b\b\b\b\b\b\b\b\b\b\b\b\b\b\b\b\b\b\b\b\b\b\b\b\b\b\b\b\b\b\b\b\b\b\b\b\b\b\b\b\b\b\b\b\b\b\b\b\b\b\b\b\b\b\b\b\b\b\b\b\b\b\b\b\b\b\b\b\b\b\b\b\b\b\b\b\b\b\b\b\b\b\b\b\b\b\b\b\b\r320/320 [==============================] - 42s 122ms/step - loss: 0.3670 - accuracy: 0.8748 - mse: 0.1108 - mae: 0.2415 - val_loss: 0.6097 - val_accuracy: 0.7730 - val_mse: 0.1791 - val_mae: 0.2626\n",
            "Epoch 2/50\n",
            "320/320 [==============================] - ETA: 0s - loss: 0.2665 - accuracy: 0.9151 - mse: 0.0729 - mae: 0.1464INFO:tensorflow:Assets written to: model_checkpoints/assets\n"
          ]
        },
        {
          "output_type": "stream",
          "name": "stderr",
          "text": [
            "INFO:tensorflow:Assets written to: model_checkpoints/assets\n",
            "WARNING:absl:<keras.layers.recurrent.LSTMCell object at 0x7f85b0600550> has the same name 'LSTMCell' as a built-in Keras object. Consider renaming <class 'keras.layers.recurrent.LSTMCell'> to avoid naming conflicts when loading with `tf.keras.models.load_model`. If renaming is not possible, pass the object in the `custom_objects` parameter of the load function.\n",
            "WARNING:absl:<keras.layers.recurrent.LSTMCell object at 0x7f85ae85c050> has the same name 'LSTMCell' as a built-in Keras object. Consider renaming <class 'keras.layers.recurrent.LSTMCell'> to avoid naming conflicts when loading with `tf.keras.models.load_model`. If renaming is not possible, pass the object in the `custom_objects` parameter of the load function.\n"
          ]
        },
        {
          "output_type": "stream",
          "name": "stdout",
          "text": [
            "\b\b\b\b\b\b\b\b\b\b\b\b\b\b\b\b\b\b\b\b\b\b\b\b\b\b\b\b\b\b\b\b\b\b\b\b\b\b\b\b\b\b\b\b\b\b\b\b\b\b\b\b\b\b\b\b\b\b\b\b\b\b\b\b\b\b\b\b\b\b\b\b\b\b\b\b\b\b\b\b\b\b\b\b\b\b\b\b\b\b\b\b\b\b\b\b\b\b\b\b\b\b\b\b\b\b\b\b\b\b\b\b\r320/320 [==============================] - 39s 123ms/step - loss: 0.2665 - accuracy: 0.9151 - mse: 0.0729 - mae: 0.1464 - val_loss: 0.6022 - val_accuracy: 0.7784 - val_mse: 0.1739 - val_mae: 0.2499\n",
            "Epoch 3/50\n",
            "320/320 [==============================] - 32s 100ms/step - loss: 0.2606 - accuracy: 0.9103 - mse: 0.0719 - mae: 0.1425 - val_loss: 0.6618 - val_accuracy: 0.7271 - val_mse: 0.1944 - val_mae: 0.2767\n",
            "Epoch 4/50\n",
            "320/320 [==============================] - ETA: 0s - loss: 0.2572 - accuracy: 0.9094 - mse: 0.0713 - mae: 0.1428INFO:tensorflow:Assets written to: model_checkpoints/assets\n"
          ]
        },
        {
          "output_type": "stream",
          "name": "stderr",
          "text": [
            "INFO:tensorflow:Assets written to: model_checkpoints/assets\n",
            "WARNING:absl:<keras.layers.recurrent.LSTMCell object at 0x7f85b0600550> has the same name 'LSTMCell' as a built-in Keras object. Consider renaming <class 'keras.layers.recurrent.LSTMCell'> to avoid naming conflicts when loading with `tf.keras.models.load_model`. If renaming is not possible, pass the object in the `custom_objects` parameter of the load function.\n",
            "WARNING:absl:<keras.layers.recurrent.LSTMCell object at 0x7f85ae85c050> has the same name 'LSTMCell' as a built-in Keras object. Consider renaming <class 'keras.layers.recurrent.LSTMCell'> to avoid naming conflicts when loading with `tf.keras.models.load_model`. If renaming is not possible, pass the object in the `custom_objects` parameter of the load function.\n"
          ]
        },
        {
          "output_type": "stream",
          "name": "stdout",
          "text": [
            "\b\b\b\b\b\b\b\b\b\b\b\b\b\b\b\b\b\b\b\b\b\b\b\b\b\b\b\b\b\b\b\b\b\b\b\b\b\b\b\b\b\b\b\b\b\b\b\b\b\b\b\b\b\b\b\b\b\b\b\b\b\b\b\b\b\b\b\b\b\b\b\b\b\b\b\b\b\b\b\b\b\b\b\b\b\b\b\b\b\b\b\b\b\b\b\b\b\b\b\b\b\b\b\b\b\b\b\b\b\b\b\b\r320/320 [==============================] - 38s 119ms/step - loss: 0.2572 - accuracy: 0.9094 - mse: 0.0713 - mae: 0.1428 - val_loss: 0.5946 - val_accuracy: 0.7873 - val_mse: 0.1675 - val_mae: 0.2334\n",
            "Epoch 5/50\n",
            "320/320 [==============================] - 32s 100ms/step - loss: 0.2394 - accuracy: 0.9249 - mse: 0.0649 - mae: 0.1310 - val_loss: 0.6305 - val_accuracy: 0.7758 - val_mse: 0.1752 - val_mae: 0.2348\n",
            "Epoch 6/50\n",
            "320/320 [==============================] - 32s 101ms/step - loss: 0.2322 - accuracy: 0.9255 - mse: 0.0633 - mae: 0.1265 - val_loss: 0.6533 - val_accuracy: 0.7732 - val_mse: 0.1797 - val_mae: 0.2367\n",
            "Epoch 7/50\n",
            "320/320 [==============================] - 32s 99ms/step - loss: 0.2261 - accuracy: 0.9280 - mse: 0.0615 - mae: 0.1253 - val_loss: 0.6459 - val_accuracy: 0.8078 - val_mse: 0.1702 - val_mae: 0.2256\n",
            "Epoch 8/50\n",
            "320/320 [==============================] - 32s 99ms/step - loss: 0.2196 - accuracy: 0.9241 - mse: 0.0611 - mae: 0.1228 - val_loss: 0.6933 - val_accuracy: 0.7763 - val_mse: 0.1837 - val_mae: 0.2423\n",
            "Epoch 9/50\n",
            "320/320 [==============================] - 32s 99ms/step - loss: 0.2131 - accuracy: 0.9224 - mse: 0.0597 - mae: 0.1196 - val_loss: 0.7147 - val_accuracy: 0.7732 - val_mse: 0.1843 - val_mae: 0.2372\n",
            "Epoch 10/50\n",
            "320/320 [==============================] - 32s 100ms/step - loss: 0.2034 - accuracy: 0.9299 - mse: 0.0563 - mae: 0.1166 - val_loss: 0.6689 - val_accuracy: 0.8068 - val_mse: 0.1701 - val_mae: 0.2211\n",
            "Epoch 11/50\n",
            "320/320 [==============================] - 32s 100ms/step - loss: 0.1943 - accuracy: 0.9313 - mse: 0.0539 - mae: 0.1080 - val_loss: 0.6455 - val_accuracy: 0.8106 - val_mse: 0.1627 - val_mae: 0.2173\n",
            "Epoch 12/50\n",
            "320/320 [==============================] - 32s 101ms/step - loss: 0.1884 - accuracy: 0.9331 - mse: 0.0520 - mae: 0.1055 - val_loss: 0.6642 - val_accuracy: 0.8027 - val_mse: 0.1685 - val_mae: 0.2235\n",
            "Epoch 13/50\n",
            "320/320 [==============================] - 32s 101ms/step - loss: 0.1855 - accuracy: 0.9335 - mse: 0.0513 - mae: 0.1048 - val_loss: 0.6929 - val_accuracy: 0.8105 - val_mse: 0.1723 - val_mae: 0.2136\n",
            "Epoch 14/50\n",
            "320/320 [==============================] - 33s 102ms/step - loss: 0.1828 - accuracy: 0.9329 - mse: 0.0504 - mae: 0.1018 - val_loss: 0.6134 - val_accuracy: 0.8129 - val_mse: 0.1581 - val_mae: 0.2198\n",
            "Epoch 15/50\n",
            "320/320 [==============================] - 33s 103ms/step - loss: 0.1784 - accuracy: 0.9322 - mse: 0.0496 - mae: 0.0990 - val_loss: 0.7086 - val_accuracy: 0.8002 - val_mse: 0.1785 - val_mae: 0.2313\n",
            "Epoch 16/50\n",
            "320/320 [==============================] - 33s 102ms/step - loss: 0.1761 - accuracy: 0.9310 - mse: 0.0488 - mae: 0.0976 - val_loss: 0.6496 - val_accuracy: 0.8208 - val_mse: 0.1643 - val_mae: 0.2221\n",
            "Epoch 17/50\n",
            "320/320 [==============================] - 32s 101ms/step - loss: 0.1690 - accuracy: 0.9373 - mse: 0.0462 - mae: 0.0935 - val_loss: 0.8049 - val_accuracy: 0.8090 - val_mse: 0.1843 - val_mae: 0.2047\n",
            "Epoch 18/50\n",
            "320/320 [==============================] - 32s 100ms/step - loss: 0.1779 - accuracy: 0.9396 - mse: 0.0479 - mae: 0.0965 - val_loss: 0.5952 - val_accuracy: 0.8120 - val_mse: 0.1520 - val_mae: 0.2156\n",
            "Epoch 19/50\n",
            "320/320 [==============================] - 32s 101ms/step - loss: 0.1721 - accuracy: 0.9386 - mse: 0.0475 - mae: 0.0951 - val_loss: 0.6480 - val_accuracy: 0.7599 - val_mse: 0.1720 - val_mae: 0.2386\n",
            "Epoch 19: early stopping\n"
          ]
        },
        {
          "output_type": "display_data",
          "data": {
            "text/plain": [
              "<Figure size 576x360 with 1 Axes>"
            ],
            "image/png": "[encoded data removed]"
          },
          "metadata": {
            "needs_background": "light"
          }
        }
      ],
      "source": [
        "history=model3.fit()"
      ]
    },
    {
      "cell_type": "code",
      "execution_count": null,
      "metadata": {
        "id": "KI024EGh6Mlj"
      },
      "outputs": [],
      "source": [
        "data2015_sf = np.load(\"data_2015.npy\")\n",
        "labels2015_sf = np.load(\"labels_2015.npy\")"
      ]
    },
    {
      "cell_type": "code",
      "execution_count": null,
      "metadata": {
        "colab": {
          "base_uri": "https://localhost:8080/"
        },
        "outputId": "ec8cd740-a649-4049-8d92-f092fdb0f7dc",
        "id": "JfCdTltf6Mlk"
      },
      "outputs": [
        {
          "output_type": "execute_result",
          "data": {
            "text/plain": [
              "(28486, 120, 12)"
            ]
          },
          "metadata": {},
          "execution_count": 14
        }
      ],
      "source": [
        "data2015_sf.shape"
      ]
    },
    {
      "cell_type": "code",
      "execution_count": null,
      "metadata": {
        "colab": {
          "base_uri": "https://localhost:8080/"
        },
        "outputId": "211e0407-86ae-4c87-8d96-86e7cc0a4c00",
        "id": "6sV9cUAZ6Mlk"
      },
      "outputs": [
        {
          "output_type": "stream",
          "name": "stdout",
          "text": [
            "445/445 [==============================] - 11s 25ms/step - loss: 0.6049 - accuracy: 0.7821 - mse: 0.1647 - mae: 0.2305\n"
          ]
        },
        {
          "output_type": "execute_result",
          "data": {
            "text/plain": [
              "[0.6049373745918274,\n",
              " 0.7820546627044678,\n",
              " 0.1646636724472046,\n",
              " 0.23050378262996674]"
            ]
          },
          "metadata": {},
          "execution_count": 15
        }
      ],
      "source": [
        "new3 = model3.batch_prefetch_data(data2015_sf,labels2015_sf,split_data=False)\n",
        "model3.evaluate(new3)\n",
        "#base_model.evaluate(data_new,labels_new)"
      ]
    },
    {
      "cell_type": "code",
      "execution_count": null,
      "metadata": {
        "colab": {
          "base_uri": "https://localhost:8080/",
          "height": 290
        },
        "outputId": "ed755f4c-1b51-47f3-e683-a8bbd416179b",
        "id": "F944mCUY6Mlk"
      },
      "outputs": [
        {
          "output_type": "display_data",
          "data": {
            "text/plain": [
              "<Figure size 432x288 with 2 Axes>"
            ],
            "image/png": "[encoded data removed]"
          },
          "metadata": {
            "needs_background": "light"
          }
        }
      ],
      "source": [
        "#Form batches (does not shuffle, cuts off remainder)\n",
        "batched_2015_3 = model3.batch_prefetch_data(data2015_sf,split_data=False)\n",
        "#Cutoff matching remainder from labels\n",
        "true_labels_3 = labels2015_sf[:-(labels2015_sf.shape[0] % model3.batch_size)]\n",
        "#Do predictions and get confusion matrix\n",
        "conf_matrix_3 = model3.predict_conf_matrix(batched_2015_3,true_labels_3,make_plots=True)"
      ]
    },
    {
      "cell_type": "code",
      "execution_count": null,
      "metadata": {
        "colab": {
          "base_uri": "https://localhost:8080/"
        },
        "outputId": "cad0f540-9745-4fa0-fdad-a4085cb2d737",
        "id": "Q4yxcdSV6Mlk"
      },
      "outputs": [
        {
          "output_type": "execute_result",
          "data": {
            "text/plain": [
              "array([[ 117489,  446151],\n",
              "       [ 324725, 2529235]])"
            ]
          },
          "metadata": {},
          "execution_count": 17
        }
      ],
      "source": [
        "conf_matrix_3"
      ]
    },
    {
      "cell_type": "code",
      "execution_count": null,
      "metadata": {
        "colab": {
          "base_uri": "https://localhost:8080/",
          "height": 81
        },
        "outputId": "8c063ef8-d8f7-452b-feb1-a58d3cb8d636",
        "id": "0yNfZt4v6Mlk"
      },
      "outputs": [
        {
          "output_type": "execute_result",
          "data": {
            "text/plain": [
              "   precision    recall       far       hss\n",
              "0   0.886219  0.850053  0.734316  0.106959"
            ],
            "text/html": [
              "\n",
              "  <div id=\"df-ebe84cbf-4bfd-4e7e-8301-556794e13a00\">\n",
              "    <div class=\"colab-df-container\">\n",
              "      <div>\n",
              "<style scoped>\n",
              "    .dataframe tbody tr th:only-of-type {\n",
              "        vertical-align: middle;\n",
              "    }\n",
              "\n",
              "    .dataframe tbody tr th {\n",
              "        vertical-align: top;\n",
              "    }\n",
              "\n",
              "    .dataframe thead th {\n",
              "        text-align: right;\n",
              "    }\n",
              "</style>\n",
              "<table border=\"1\" class=\"dataframe\">\n",
              "  <thead>\n",
              "    <tr style=\"text-align: right;\">\n",
              "      <th></th>\n",
              "      <th>precision</th>\n",
              "      <th>recall</th>\n",
              "      <th>far</th>\n",
              "      <th>hss</th>\n",
              "    </tr>\n",
              "  </thead>\n",
              "  <tbody>\n",
              "    <tr>\n",
              "      <th>0</th>\n",
              "      <td>0.886219</td>\n",
              "      <td>0.850053</td>\n",
              "      <td>0.734316</td>\n",
              "      <td>0.106959</td>\n",
              "    </tr>\n",
              "  </tbody>\n",
              "</table>\n",
              "</div>\n",
              "      <button class=\"colab-df-convert\" onclick=\"convertToInteractive('df-ebe84cbf-4bfd-4e7e-8301-556794e13a00')\"\n",
              "              title=\"Convert this dataframe to an interactive table.\"\n",
              "              style=\"display:none;\">\n",
              "        \n",
              "  <svg xmlns=\"http://www.w3.org/2000/svg\" height=\"24px\"viewBox=\"0 0 24 24\"\n",
              "       width=\"24px\">\n",
              "    <path d=\"M0 0h24v24H0V0z\" fill=\"none\"/>\n",
              "    <path d=\"M18.56 5.44l.94 2.06.94-2.06 2.06-.94-2.06-.94-.94-2.06-.94 2.06-2.06.94zm-11 1L8.5 8.5l.94-2.06 2.06-.94-2.06-.94L8.5 2.5l-.94 2.06-2.06.94zm10 10l.94 2.06.94-2.06 2.06-.94-2.06-.94-.94-2.06-.94 2.06-2.06.94z\"/><path d=\"M17.41 7.96l-1.37-1.37c-.4-.4-.92-.59-1.43-.59-.52 0-1.04.2-1.43.59L10.3 9.45l-7.72 7.72c-.78.78-.78 2.05 0 2.83L4 21.41c.39.39.9.59 1.41.59.51 0 1.02-.2 1.41-.59l7.78-7.78 2.81-2.81c.8-.78.8-2.07 0-2.86zM5.41 20L4 18.59l7.72-7.72 1.47 1.35L5.41 20z\"/>\n",
              "  </svg>\n",
              "      </button>\n",
              "      \n",
              "  <style>\n",
              "    .colab-df-container {\n",
              "      display:flex;\n",
              "      flex-wrap:wrap;\n",
              "      gap: 12px;\n",
              "    }\n",
              "\n",
              "    .colab-df-convert {\n",
              "      background-color: #E8F0FE;\n",
              "      border: none;\n",
              "      border-radius: 50%;\n",
              "      cursor: pointer;\n",
              "      display: none;\n",
              "      fill: #1967D2;\n",
              "      height: 32px;\n",
              "      padding: 0 0 0 0;\n",
              "      width: 32px;\n",
              "    }\n",
              "\n",
              "    .colab-df-convert:hover {\n",
              "      background-color: #E2EBFA;\n",
              "      box-shadow: 0px 1px 2px rgba(60, 64, 67, 0.3), 0px 1px 3px 1px rgba(60, 64, 67, 0.15);\n",
              "      fill: #174EA6;\n",
              "    }\n",
              "\n",
              "    [theme=dark] .colab-df-convert {\n",
              "      background-color: #3B4455;\n",
              "      fill: #D2E3FC;\n",
              "    }\n",
              "\n",
              "    [theme=dark] .colab-df-convert:hover {\n",
              "      background-color: #434B5C;\n",
              "      box-shadow: 0px 1px 3px 1px rgba(0, 0, 0, 0.15);\n",
              "      filter: drop-shadow(0px 1px 2px rgba(0, 0, 0, 0.3));\n",
              "      fill: #FFFFFF;\n",
              "    }\n",
              "  </style>\n",
              "\n",
              "      <script>\n",
              "        const buttonEl =\n",
              "          document.querySelector('#df-ebe84cbf-4bfd-4e7e-8301-556794e13a00 button.colab-df-convert');\n",
              "        buttonEl.style.display =\n",
              "          google.colab.kernel.accessAllowed ? 'block' : 'none';\n",
              "\n",
              "        async function convertToInteractive(key) {\n",
              "          const element = document.querySelector('#df-ebe84cbf-4bfd-4e7e-8301-556794e13a00');\n",
              "          const dataTable =\n",
              "            await google.colab.kernel.invokeFunction('convertToInteractive',\n",
              "                                                     [key], {});\n",
              "          if (!dataTable) return;\n",
              "\n",
              "          const docLinkHtml = 'Like what you see? Visit the ' +\n",
              "            '<a target=\"_blank\" href=https://colab.research.google.com/notebooks/data_table.ipynb>data table notebook</a>'\n",
              "            + ' to learn more about interactive tables.';\n",
              "          element.innerHTML = '';\n",
              "          dataTable['output_type'] = 'display_data';\n",
              "          await google.colab.output.renderOutput(dataTable, element);\n",
              "          const docLink = document.createElement('div');\n",
              "          docLink.innerHTML = docLinkHtml;\n",
              "          element.appendChild(docLink);\n",
              "        }\n",
              "      </script>\n",
              "    </div>\n",
              "  </div>\n",
              "  "
            ]
          },
          "metadata": {},
          "execution_count": 18
        }
      ],
      "source": [
        "model3.calculate_statistics(conf_matrix_3)"
      ]
    },
    {
      "cell_type": "code",
      "source": [
        "true_labels_3.shape"
      ],
      "metadata": {
        "colab": {
          "base_uri": "https://localhost:8080/"
        },
        "id": "VcWFK1HF8Dmz",
        "outputId": "99edf0a0-5f87-4453-ab3f-c8fae9b03088"
      },
      "execution_count": null,
      "outputs": [
        {
          "output_type": "execute_result",
          "data": {
            "text/plain": [
              "(28480, 120, 1)"
            ]
          },
          "metadata": {},
          "execution_count": 19
        }
      ]
    },
    {
      "cell_type": "code",
      "source": [
        ""
      ],
      "metadata": {
        "id": "AaK5RF7LW5Ia"
      },
      "execution_count": null,
      "outputs": []
    }
  ],
  "metadata": {
    "colab": {
      "collapsed_sections": [
        "OepbSvctPysr",
        "qZcbcS18P4n9",
        "-tIs0gOhPI7t",
        "sHSk13KV4OUv"
      ],
      "machine_shape": "hm",
      "name": "ColabNotebook_ModelPipeline.ipynb",
      "provenance": []
    },
    "kernelspec": {
      "display_name": "Python 3",
      "name": "python3"
    },
    "language_info": {
      "codemirror_mode": {
        "name": "ipython",
        "version": 3
      },
      "file_extension": ".py",
      "mimetype": "text/x-python",
      "name": "python",
      "nbconvert_exporter": "python",
      "pygments_lexer": "ipython3",
      "version": "3.8.3"
    }
  },
  "nbformat": 4,
  "nbformat_minor": 0
}