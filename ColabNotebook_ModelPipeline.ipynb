{
  "cells": [
    {
      "cell_type": "markdown",
      "metadata": {
        "id": "OepbSvctPysr"
      },
      "source": [
        "# Pip Install (if necessary)"
      ]
    },
    {
      "cell_type": "code",
      "execution_count": null,
      "metadata": {
        "id": "ky0FGKOwTBkL"
      },
      "outputs": [],
      "source": [
        "!pip install keras-tuner"
      ]
    },
    {
      "cell_type": "markdown",
      "metadata": {
        "id": "qZcbcS18P4n9"
      },
      "source": [
        "# Import Required Packages"
      ]
    },
    {
      "cell_type": "code",
      "execution_count": 41,
      "metadata": {
        "id": "10irgd5fQsTQ"
      },
      "outputs": [],
      "source": [
        "from data_creation import DataSelection\n",
        "from prediction_LSTM import SolarLSTM\n",
        "import pickle\n",
        "import numpy as np\n",
        "import tensorflow as tf\n",
        "from tensorflow import keras\n",
        "import shutil"
      ]
    },
    {
      "cell_type": "markdown",
      "metadata": {
        "id": "vMjoI39BfCze"
      },
      "source": [
        "# Build Datasets"
      ]
    },
    {
      "cell_type": "code",
      "execution_count": 7,
      "metadata": {
        "id": "v_c8kabYfCze"
      },
      "outputs": [],
      "source": [
        "rebuild_data = True #Turn to false to skip building datasets"
      ]
    },
    {
      "cell_type": "code",
      "execution_count": 9,
      "metadata": {
        "colab": {
          "base_uri": "https://localhost:8080/"
        },
        "id": "4m0f32VAfCze",
        "outputId": "5f9a22a6-5a2d-4df5-f2e2-b68f6abf5c52"
      },
      "outputs": [
        {
          "output_type": "stream",
          "name": "stdout",
          "text": [
            "Num GB used in data array: 0.0019025802612304688\n",
            "Num GB used in data array: 0.00268399715423584\n",
            "Num GB used in data array: 0.006217360496520996\n",
            "Num GB used in data array: 0.011721253395080566\n",
            "Num GB used in data array: 0.013895630836486816\n",
            "Num GB used in data array: 0.015526413917541504\n",
            "Num GB used in data array: 0.016783475875854492\n",
            "Num GB used in data array: 0.02300083637237549\n",
            "Num GB used in data array: 0.023374557495117188\n",
            "Num GB used in data array: 0.026805996894836426\n",
            "Num GB used in data array: 0.028708577156066895\n",
            "Num GB used in data array: 0.040463805198669434\n",
            "Num GB used in data array: 0.0423663854598999\n",
            "Num GB used in data array: 0.0478363037109375\n",
            "Num GB used in data array: 0.056092143058776855\n",
            "Num GB used in data array: 0.05714535713195801\n",
            "Num GB used in data array: 0.10426819324493408\n",
            "Num GB used in data array: 0.10912656784057617\n",
            "Num GB used in data array: 0.10950028896331787\n",
            "Num GB used in data array: 0.10970413684844971\n",
            "Num GB used in data array: 0.11109709739685059\n",
            "Num GB used in data array: 0.11299967765808105\n",
            "Num GB used in data array: 0.11514008045196533\n",
            "Num GB used in data array: 0.126725435256958\n",
            "Num GB used in data array: 0.12743890285491943\n",
            "Num GB used in data array: 0.1293414831161499\n",
            "Num GB used in data array: 0.13124406337738037\n",
            "Num GB used in data array: 0.13348639011383057\n",
            "Num GB used in data array: 0.13538897037506104\n",
            "Num GB used in data array: 0.1372915506362915\n",
            "Num GB used in data array: 0.13919413089752197\n",
            "Num GB used in data array: 0.15376925468444824\n",
            "Num GB used in data array: 0.1556718349456787\n",
            "Num GB used in data array: 0.15689492225646973\n",
            "Num GB used in data array: 0.1574385166168213\n",
            "Num GB used in data array: 0.16341805458068848\n",
            "Num GB used in data array: 0.16630589962005615\n",
            "Num GB used in data array: 0.1675969362258911\n",
            "Num GB used in data array: 0.16783475875854492\n",
            "Num GB used in data array: 0.1775515079498291\n",
            "Num GB used in data array: 0.17795920372009277\n",
            "Num GB used in data array: 0.18906891345977783\n",
            "Num GB used in data array: 0.19212663173675537\n",
            "Num GB used in data array: 0.20248889923095703\n",
            "Num GB used in data array: 0.21808326244354248\n",
            "Num GB used in data array: 0.2619445323944092\n",
            "Num GB used in data array: 0.3016948699951172\n",
            "Num GB used in data array: 0.3101545572280884\n",
            "Num GB used in data array: 0.3108680248260498\n",
            "Num GB used in data array: 0.3113776445388794\n",
            "Num GB used in data array: 0.3114795684814453\n",
            "Num GB used in data array: 0.33033549785614014\n",
            "Num GB used in data array: 0.3321361541748047\n",
            "Num GB used in data array: 0.3465414047241211\n",
            "Num GB used in data array: 0.34745872020721436\n",
            "Num GB used in data array: 0.347934365272522\n",
            "Num GB used in data array: 0.35303056240081787\n",
            "Num GB used in data array: 0.36549925804138184\n",
            "Num GB used in data array: 0.39842069149017334\n",
            "Num GB used in data array: 0.403822660446167\n",
            "Num GB used in data array: 0.4352492094039917\n",
            "Num GB used in data array: 0.4650449752807617\n",
            "Num GB used in data array: 0.4987478256225586\n",
            "Num GB used in data array: 0.5766516923904419\n",
            "Num GB used in data array: 0.621294379234314\n",
            "Num GB used in data array: 0.6432759761810303\n",
            "Num GB used in data array: 0.6685531139373779\n",
            "Num GB used in data array: 0.6694024801254272\n",
            "Num GB used in data array: 0.6738871335983276\n",
            "Num GB used in data array: 0.6750762462615967\n",
            "Num GB used in data array: 0.6940340995788574\n",
            "Num GB used in data array: 0.7079976797103882\n",
            "Num GB used in data array: 0.7092207670211792\n",
            "Num GB used in data array: 0.7213157415390015\n",
            "Num GB used in data array: 0.7664680480957031\n",
            "Num GB used in data array: 0.7794803380966187\n",
            "Num GB used in data array: 0.8463424444198608\n",
            "Num GB used in data array: 0.8566027879714966\n",
            "Num GB used in data array: 0.8568745851516724\n",
            "Num GB used in data array: 0.8572483062744141\n",
            "Num GB used in data array: 0.8576220273971558\n",
            "Num GB used in data array: 0.8591848611831665\n",
            "Num GB used in data array: 0.8602380752563477\n",
            "Num GB used in data array: 0.8607137203216553\n",
            "Num GB used in data array: 0.8628201484680176\n",
            "Num GB used in data array: 0.8714157342910767\n"
          ]
        }
      ],
      "source": [
        "if rebuild_data:\n",
        "    with open(\"/content/all_data.pkl\", \"rb\") as file:\n",
        "        data = pickle.load(file)\n",
        "    #Extract 2014 data as a training set\n",
        "    DataSelection(data, 2014, \"./\", 38)"
      ]
    },
    {
      "cell_type": "code",
      "execution_count": 10,
      "metadata": {
        "colab": {
          "base_uri": "https://localhost:8080/"
        },
        "id": "-wbu2Vh1fCzg",
        "outputId": "8b9fb2ea-58a1-4eac-c169-aa5ff4b0e9cf"
      },
      "outputs": [
        {
          "output_type": "stream",
          "name": "stdout",
          "text": [
            "Num GB used in data array: 0.0019025802612304688\n",
            "Num GB used in data array: 0.0031256675720214844\n",
            "Num GB used in data array: 0.010973811149597168\n",
            "Num GB used in data array: 0.017496943473815918\n",
            "Num GB used in data array: 0.02415597438812256\n",
            "Num GB used in data array: 0.03142654895782471\n",
            "Num GB used in data array: 0.033329129219055176\n",
            "Num GB used in data array: 0.035231709480285645\n",
            "Num GB used in data array: 0.04630744457244873\n",
            "Num GB used in data array: 0.04668116569519043\n",
            "Num GB used in data array: 0.04759848117828369\n",
            "Num GB used in data array: 0.05874216556549072\n",
            "Num GB used in data array: 0.06064474582672119\n",
            "Num GB used in data array: 0.06152808666229248\n",
            "Num GB used in data array: 0.07073521614074707\n",
            "Num GB used in data array: 0.07178843021392822\n",
            "Num GB used in data array: 0.11503815650939941\n",
            "Num GB used in data array: 0.12271642684936523\n",
            "Num GB used in data array: 0.12614786624908447\n",
            "Num GB used in data array: 0.1263517141342163\n",
            "Num GB used in data array: 0.12726902961730957\n",
            "Num GB used in data array: 0.1277446746826172\n",
            "Num GB used in data array: 0.13545691967010498\n",
            "Num GB used in data array: 0.1376652717590332\n",
            "Num GB used in data array: 0.14231979846954346\n",
            "Num GB used in data array: 0.1500999927520752\n",
            "Num GB used in data array: 0.17846882343292236\n",
            "Num GB used in data array: 0.23214876651763916\n",
            "Num GB used in data array: 0.2421712875366211\n",
            "Num GB used in data array: 0.24356424808502197\n",
            "Num GB used in data array: 0.24407386779785156\n",
            "Num GB used in data array: 0.2676522731781006\n",
            "Num GB used in data array: 0.2734619379043579\n",
            "Num GB used in data array: 0.29418647289276123\n",
            "Num GB used in data array: 0.30196666717529297\n",
            "Num GB used in data array: 0.3089994192123413\n",
            "Num GB used in data array: 0.31538665294647217\n",
            "Num GB used in data array: 0.3223174810409546\n",
            "Num GB used in data array: 0.3227931261062622\n",
            "Num GB used in data array: 0.323064923286438\n",
            "Num GB used in data array: 0.34745872020721436\n",
            "Num GB used in data array: 0.3492933511734009\n",
            "Num GB used in data array: 0.3666883707046509\n",
            "Num GB used in data array: 0.3875148296356201\n",
            "Num GB used in data array: 0.4326331615447998\n",
            "Num GB used in data array: 0.5067998170852661\n",
            "Num GB used in data array: 0.5571502447128296\n",
            "Num GB used in data array: 0.583990216255188\n",
            "Num GB used in data array: 0.5987012386322021\n",
            "Num GB used in data array: 0.5995506048202515\n",
            "Num GB used in data array: 0.6039673089981079\n",
            "Num GB used in data array: 0.6069231033325195\n",
            "Num GB used in data array: 0.6325060129165649\n",
            "Num GB used in data array: 0.6537741422653198\n",
            "Num GB used in data array: 0.6562542915344238\n",
            "Num GB used in data array: 0.6766051054000854\n",
            "Num GB used in data array: 0.6773525476455688\n",
            "Num GB used in data array: 0.7488352060317993\n",
            "Num GB used in data array: 0.7789027690887451\n",
            "Num GB used in data array: 0.8810985088348389\n",
            "Num GB used in data array: 0.8919364213943481\n",
            "Num GB used in data array: 0.8953678607940674\n",
            "Num GB used in data array: 0.9034878015518188\n",
            "Num GB used in data array: 0.9109961986541748\n",
            "Num GB used in data array: 0.9167039394378662\n",
            "Num GB used in data array: 0.9205770492553711\n",
            "Num GB used in data array: 0.9238725900650024\n",
            "Num GB used in data array: 0.9272021055221558\n",
            "Num GB used in data array: 0.9285610914230347\n",
            "Num GB used in data array: 0.9287989139556885\n",
            "Num GB used in data array: 0.9300559759140015\n",
            "Num GB used in data array: 0.9385836124420166\n",
            "Num GB used in data array: 0.9678018093109131\n"
          ]
        }
      ],
      "source": [
        "if rebuild_data: #Now extract 2015 data using same scale/norm\n",
        "    with open(\"/content/norm_scaler.pkl\", \"rb\") as norm_file:\n",
        "        normalization = pickle.load(norm_file)\n",
        "\n",
        "    with open(\"/content/stand_scaler.pkl\", \"rb\") as stand_file:\n",
        "        standard = pickle.load(stand_file)\n",
        "\n",
        "    DataSelection(data, 2015,\"./\", 38, norm_scaler=normalization, stand_scaler=standard)"
      ]
    },
    {
      "cell_type": "markdown",
      "metadata": {
        "id": "55g-rnPZfCzg"
      },
      "source": [
        "# Load Datasets"
      ]
    },
    {
      "cell_type": "code",
      "execution_count": 11,
      "metadata": {
        "colab": {
          "base_uri": "https://localhost:8080/"
        },
        "id": "nf_DnfzVfCzh",
        "outputId": "e33e3d59-847f-453c-a446-444372972736"
      },
      "outputs": [
        {
          "output_type": "execute_result",
          "data": {
            "text/plain": [
              "(25649, 120, 38)"
            ]
          },
          "metadata": {},
          "execution_count": 11
        }
      ],
      "source": [
        "data2014 = np.load(\"data_2014.npy\")\n",
        "labels2014 = np.load(\"labels_2014.npy\")\n",
        "data2014.shape"
      ]
    },
    {
      "cell_type": "code",
      "execution_count": 12,
      "metadata": {
        "colab": {
          "base_uri": "https://localhost:8080/"
        },
        "id": "7OAFRhgUfCzh",
        "outputId": "6faa976b-86a7-473a-dc49-6049976d4a55"
      },
      "outputs": [
        {
          "output_type": "execute_result",
          "data": {
            "text/plain": [
              "(28486, 120, 38)"
            ]
          },
          "metadata": {},
          "execution_count": 12
        }
      ],
      "source": [
        "data2015 = np.load(\"data_2015.npy\")\n",
        "labels2015 = np.load(\"labels_2015.npy\")\n",
        "data2015.shape"
      ]
    },
    {
      "cell_type": "markdown",
      "metadata": {
        "id": "-tIs0gOhPI7t"
      },
      "source": [
        "# Base Model with All Parameters"
      ]
    },
    {
      "cell_type": "code",
      "execution_count": 16,
      "metadata": {
        "id": "im3EwZyNYK6-",
        "colab": {
          "base_uri": "https://localhost:8080/"
        },
        "outputId": "2f4469df-7938-4b42-dd7e-f2c63b2b6542"
      },
      "outputs": [
        {
          "output_type": "stream",
          "name": "stdout",
          "text": [
            "Model: \"sequential_1\"\n",
            "_________________________________________________________________\n",
            " Layer (type)                Output Shape              Param #   \n",
            "=================================================================\n",
            " lstm_2 (LSTM)               (64, 120, 16)             3520      \n",
            "                                                                 \n",
            " lstm_3 (LSTM)               (64, 120, 16)             2112      \n",
            "                                                                 \n",
            " dropout_1 (Dropout)         (64, 120, 16)             0         \n",
            "                                                                 \n",
            " dense_1 (Dense)             (64, 120, 1)              17        \n",
            "                                                                 \n",
            "=================================================================\n",
            "Total params: 5,649\n",
            "Trainable params: 5,649\n",
            "Non-trainable params: 0\n",
            "_________________________________________________________________\n"
          ]
        }
      ],
      "source": [
        "base_model = SolarLSTM(data2014, labels2014, save_path=\"./base_model/base_model.h5\")\n",
        "base_model.build_model()\n",
        "base_model.model.summary()"
      ]
    },
    {
      "cell_type": "code",
      "execution_count": 17,
      "metadata": {
        "colab": {
          "base_uri": "https://localhost:8080/",
          "height": 703
        },
        "id": "PTJij7KnQ_ye",
        "outputId": "e67d56ae-9141-45be-8f37-93a52e57152d"
      },
      "outputs": [
        {
          "output_type": "stream",
          "name": "stdout",
          "text": [
            "Epoch 1/50\n"
          ]
        },
        {
          "output_type": "stream",
          "name": "stderr",
          "text": [
            "/usr/local/lib/python3.7/dist-packages/tensorflow/python/util/dispatch.py:1082: UserWarning: \"`binary_crossentropy` received `from_logits=True`, but the `output` argument was produced by a sigmoid or softmax activation and thus does not represent logits. Was this intended?\"\n",
            "  return dispatch_target(*args, **kwargs)\n"
          ]
        },
        {
          "output_type": "stream",
          "name": "stdout",
          "text": [
            "320/320 [==============================] - ETA: 0s - loss: 0.3940 - accuracy: 0.8697 - mse: 0.1151 - mae: 0.2324"
          ]
        },
        {
          "output_type": "stream",
          "name": "stderr",
          "text": [
            "WARNING:absl:Found untraced functions such as lstm_cell_2_layer_call_fn, lstm_cell_2_layer_call_and_return_conditional_losses, lstm_cell_3_layer_call_fn, lstm_cell_3_layer_call_and_return_conditional_losses while saving (showing 4 of 4). These functions will not be directly callable after loading.\n"
          ]
        },
        {
          "output_type": "stream",
          "name": "stdout",
          "text": [
            "INFO:tensorflow:Assets written to: base_model/model_checkpoints/assets\n"
          ]
        },
        {
          "output_type": "stream",
          "name": "stderr",
          "text": [
            "INFO:tensorflow:Assets written to: base_model/model_checkpoints/assets\n",
            "WARNING:absl:<keras.layers.recurrent.LSTMCell object at 0x7fd08ffc52d0> has the same name 'LSTMCell' as a built-in Keras object. Consider renaming <class 'keras.layers.recurrent.LSTMCell'> to avoid naming conflicts when loading with `tf.keras.models.load_model`. If renaming is not possible, pass the object in the `custom_objects` parameter of the load function.\n",
            "WARNING:absl:<keras.layers.recurrent.LSTMCell object at 0x7fd093bd1f90> has the same name 'LSTMCell' as a built-in Keras object. Consider renaming <class 'keras.layers.recurrent.LSTMCell'> to avoid naming conflicts when loading with `tf.keras.models.load_model`. If renaming is not possible, pass the object in the `custom_objects` parameter of the load function.\n"
          ]
        },
        {
          "output_type": "stream",
          "name": "stdout",
          "text": [
            "\b\b\b\b\b\b\b\b\b\b\b\b\b\b\b\b\b\b\b\b\b\b\b\b\b\b\b\b\b\b\b\b\b\b\b\b\b\b\b\b\b\b\b\b\b\b\b\b\b\b\b\b\b\b\b\b\b\b\b\b\b\b\b\b\b\b\b\b\b\b\b\b\b\b\b\b\b\b\b\b\b\b\b\b\b\b\b\b\b\b\b\b\b\b\b\b\b\b\b\b\b\b\b\b\b\b\b\b\b\b\b\b\r320/320 [==============================] - 28s 78ms/step - loss: 0.3940 - accuracy: 0.8697 - mse: 0.1151 - mae: 0.2324 - val_loss: 0.5024 - val_accuracy: 0.8217 - val_mse: 0.1531 - val_mae: 0.2372\n",
            "Epoch 2/50\n",
            "320/320 [==============================] - 17s 53ms/step - loss: 0.2823 - accuracy: 0.8969 - mse: 0.0800 - mae: 0.1622 - val_loss: 0.5153 - val_accuracy: 0.8245 - val_mse: 0.1486 - val_mae: 0.2210\n",
            "Epoch 3/50\n",
            "320/320 [==============================] - 17s 52ms/step - loss: 0.2409 - accuracy: 0.9142 - mse: 0.0663 - mae: 0.1369 - val_loss: 0.6192 - val_accuracy: 0.8183 - val_mse: 0.1657 - val_mae: 0.2012\n",
            "Epoch 4/50\n",
            "320/320 [==============================] - 17s 52ms/step - loss: 0.2204 - accuracy: 0.9212 - mse: 0.0606 - mae: 0.1231 - val_loss: 0.5684 - val_accuracy: 0.8144 - val_mse: 0.1542 - val_mae: 0.2058\n",
            "Epoch 5/50\n",
            "320/320 [==============================] - 16s 52ms/step - loss: 0.2035 - accuracy: 0.9356 - mse: 0.0543 - mae: 0.1108 - val_loss: 0.6158 - val_accuracy: 0.8159 - val_mse: 0.1635 - val_mae: 0.2041\n",
            "Epoch 6/50\n",
            "320/320 [==============================] - 17s 52ms/step - loss: 0.1930 - accuracy: 0.9336 - mse: 0.0520 - mae: 0.1056 - val_loss: 0.5855 - val_accuracy: 0.8023 - val_mse: 0.1558 - val_mae: 0.2112\n",
            "Epoch 6: early stopping\n"
          ]
        },
        {
          "output_type": "display_data",
          "data": {
            "text/plain": [
              "<Figure size 576x360 with 1 Axes>"
            ],
            "image/png": "[encoded data removed]"
          },
          "metadata": {
            "needs_background": "light"
          }
        }
      ],
      "source": [
        "history=base_model.fit()"
      ]
    },
    {
      "cell_type": "code",
      "execution_count": 18,
      "metadata": {
        "id": "jpUoXB0L-Dxp"
      },
      "outputs": [],
      "source": [
        "base_model.save_model(base_model.model)"
      ]
    },
    {
      "cell_type": "code",
      "execution_count": 19,
      "metadata": {
        "id": "Wq6tSm3HfCzl"
      },
      "outputs": [],
      "source": [
        "#Instead of retraining, can load the base model here\n",
        "base_model = SolarLSTM.load_model(\"./base_model/base_model.h5\")"
      ]
    },
    {
      "cell_type": "code",
      "source": [
        "type(base_model.model)"
      ],
      "metadata": {
        "colab": {
          "base_uri": "https://localhost:8080/"
        },
        "id": "opiEBwi_sWJJ",
        "outputId": "ad09bae3-8f5c-4eb2-e13b-21e6217f4aba"
      },
      "execution_count": 20,
      "outputs": [
        {
          "output_type": "execute_result",
          "data": {
            "text/plain": [
              "keras.engine.sequential.Sequential"
            ]
          },
          "metadata": {},
          "execution_count": 20
        }
      ]
    },
    {
      "cell_type": "code",
      "execution_count": 21,
      "metadata": {
        "colab": {
          "base_uri": "https://localhost:8080/"
        },
        "id": "h8GEjC8_Uufd",
        "outputId": "871879a7-ff19-4d83-a2b5-cdac2f4a16b1"
      },
      "outputs": [
        {
          "output_type": "stream",
          "name": "stderr",
          "text": [
            "/usr/local/lib/python3.7/dist-packages/tensorflow/python/util/dispatch.py:1082: UserWarning: \"`binary_crossentropy` received `from_logits=True`, but the `output` argument was produced by a sigmoid or softmax activation and thus does not represent logits. Was this intended?\"\n",
            "  return dispatch_target(*args, **kwargs)\n"
          ]
        },
        {
          "output_type": "stream",
          "name": "stdout",
          "text": [
            "445/445 [==============================] - 8s 16ms/step - loss: 0.6428 - accuracy: 0.7912 - mse: 0.1705 - mae: 0.2166\n"
          ]
        },
        {
          "output_type": "execute_result",
          "data": {
            "text/plain": [
              "[0.6427639722824097,\n",
              " 0.7911970615386963,\n",
              " 0.17048847675323486,\n",
              " 0.21663829684257507]"
            ]
          },
          "metadata": {},
          "execution_count": 21
        }
      ],
      "source": [
        "data_new = base_model.batch_prefetch_data(data2015,labels2015,split_data=False)\n",
        "base_model.evaluate(data_new)\n",
        "#base_model.evaluate(data_new,labels_new)"
      ]
    },
    {
      "cell_type": "code",
      "execution_count": 22,
      "metadata": {
        "id": "CrsOmPlY-Dxr"
      },
      "outputs": [],
      "source": [
        "#Form batches (does not shuffle, cuts off remainder)\n",
        "batched_2015 = base_model.batch_prefetch_data(data2015,split_data=False)\n",
        "#Cutoff matching remainder from labels\n",
        "true_labels = labels2015[:-(labels2015.shape[0]%base_model.batch_size)]"
      ]
    },
    {
      "cell_type": "code",
      "execution_count": 23,
      "metadata": {
        "colab": {
          "base_uri": "https://localhost:8080/",
          "height": 290
        },
        "id": "GiX56d-Rc3kK",
        "outputId": "c46ebd88-3c13-43af-c653-ed8c8b42ea49"
      },
      "outputs": [
        {
          "output_type": "display_data",
          "data": {
            "text/plain": [
              "<Figure size 432x288 with 2 Axes>"
            ],
            "image/png": "[encoded data removed]"
          },
          "metadata": {
            "needs_background": "light"
          }
        }
      ],
      "source": [
        "#Do predictions and get confusion matrix\n",
        "conf_matrix = base_model.predict_conf_matrix(batched_2015,true_labels,make_plots=True)"
      ]
    },
    {
      "cell_type": "code",
      "execution_count": 24,
      "metadata": {
        "colab": {
          "base_uri": "https://localhost:8080/"
        },
        "id": "VbqzhjM0fCzp",
        "outputId": "552f10f3-de90-45ec-f881-71d39055805c"
      },
      "outputs": [
        {
          "output_type": "execute_result",
          "data": {
            "text/plain": [
              "array([[  76455,  487185],\n",
              "       [ 264701, 2589259]])"
            ]
          },
          "metadata": {},
          "execution_count": 24
        }
      ],
      "source": [
        "conf_matrix"
      ]
    },
    {
      "cell_type": "code",
      "execution_count": 26,
      "metadata": {
        "id": "pebutn87-Dxs"
      },
      "outputs": [],
      "source": [
        "#If you want to customize the confusion matrix plot, can uncomment below and use the plot handle below\n",
        "#conf_plt_handle=base_model.plot_confusion_matrix(conf_matrix)"
      ]
    },
    {
      "cell_type": "code",
      "execution_count": 27,
      "metadata": {
        "id": "dJbqDGxO-Dxt"
      },
      "outputs": [],
      "source": [
        "# Example of using the __call__ dunder method to pass data\n",
        "# call_preds=base_model(batched_2015)"
      ]
    },
    {
      "cell_type": "code",
      "execution_count": 25,
      "metadata": {
        "id": "NxlmTtkt-Dxt",
        "colab": {
          "base_uri": "https://localhost:8080/",
          "height": 336
        },
        "outputId": "834ce29a-ee2a-4c7e-ce76-3d239b9b5001"
      },
      "outputs": [
        {
          "output_type": "stream",
          "name": "stderr",
          "text": [
            "/content/prediction_LSTM.py:219: VisibleDeprecationWarning: Creating an ndarray from ragged nested sequences (which is a list-or-tuple of lists-or-tuples-or ndarrays with different lengths or shapes) is deprecated. If you meant to do this, you must specify 'dtype=object' when creating the ndarray.\n",
            "  plt.boxplot(np.array([true_positive_logits, false_positive_logits]),\n"
          ]
        },
        {
          "output_type": "display_data",
          "data": {
            "text/plain": [
              "<Figure size 432x288 with 1 Axes>"
            ],
            "image/png": "[encoded data removed]"
          },
          "metadata": {
            "needs_background": "light"
          }
        }
      ],
      "source": [
        "tp_base, fp_base = base_model.view_prediction_distributions(true_labels=true_labels,data=batched_2015)"
      ]
    },
    {
      "cell_type": "code",
      "execution_count": 28,
      "metadata": {
        "colab": {
          "base_uri": "https://localhost:8080/",
          "height": 81
        },
        "id": "rTb2TlYgHPAf",
        "outputId": "45ee9659-937c-4a7c-82ca-a8d46f5a9e9a"
      },
      "outputs": [
        {
          "output_type": "execute_result",
          "data": {
            "text/plain": [
              "   precision   recall       far       hss\n",
              "0   0.907251  0.84164  0.775894  0.052207"
            ],
            "text/html": [
              "\n",
              "  <div id=\"df-156de453-82b4-4293-babb-556e56d29900\">\n",
              "    <div class=\"colab-df-container\">\n",
              "      <div>\n",
              "<style scoped>\n",
              "    .dataframe tbody tr th:only-of-type {\n",
              "        vertical-align: middle;\n",
              "    }\n",
              "\n",
              "    .dataframe tbody tr th {\n",
              "        vertical-align: top;\n",
              "    }\n",
              "\n",
              "    .dataframe thead th {\n",
              "        text-align: right;\n",
              "    }\n",
              "</style>\n",
              "<table border=\"1\" class=\"dataframe\">\n",
              "  <thead>\n",
              "    <tr style=\"text-align: right;\">\n",
              "      <th></th>\n",
              "      <th>precision</th>\n",
              "      <th>recall</th>\n",
              "      <th>far</th>\n",
              "      <th>hss</th>\n",
              "    </tr>\n",
              "  </thead>\n",
              "  <tbody>\n",
              "    <tr>\n",
              "      <th>0</th>\n",
              "      <td>0.907251</td>\n",
              "      <td>0.84164</td>\n",
              "      <td>0.775894</td>\n",
              "      <td>0.052207</td>\n",
              "    </tr>\n",
              "  </tbody>\n",
              "</table>\n",
              "</div>\n",
              "      <button class=\"colab-df-convert\" onclick=\"convertToInteractive('df-156de453-82b4-4293-babb-556e56d29900')\"\n",
              "              title=\"Convert this dataframe to an interactive table.\"\n",
              "              style=\"display:none;\">\n",
              "        \n",
              "  <svg xmlns=\"http://www.w3.org/2000/svg\" height=\"24px\"viewBox=\"0 0 24 24\"\n",
              "       width=\"24px\">\n",
              "    <path d=\"M0 0h24v24H0V0z\" fill=\"none\"/>\n",
              "    <path d=\"M18.56 5.44l.94 2.06.94-2.06 2.06-.94-2.06-.94-.94-2.06-.94 2.06-2.06.94zm-11 1L8.5 8.5l.94-2.06 2.06-.94-2.06-.94L8.5 2.5l-.94 2.06-2.06.94zm10 10l.94 2.06.94-2.06 2.06-.94-2.06-.94-.94-2.06-.94 2.06-2.06.94z\"/><path d=\"M17.41 7.96l-1.37-1.37c-.4-.4-.92-.59-1.43-.59-.52 0-1.04.2-1.43.59L10.3 9.45l-7.72 7.72c-.78.78-.78 2.05 0 2.83L4 21.41c.39.39.9.59 1.41.59.51 0 1.02-.2 1.41-.59l7.78-7.78 2.81-2.81c.8-.78.8-2.07 0-2.86zM5.41 20L4 18.59l7.72-7.72 1.47 1.35L5.41 20z\"/>\n",
              "  </svg>\n",
              "      </button>\n",
              "      \n",
              "  <style>\n",
              "    .colab-df-container {\n",
              "      display:flex;\n",
              "      flex-wrap:wrap;\n",
              "      gap: 12px;\n",
              "    }\n",
              "\n",
              "    .colab-df-convert {\n",
              "      background-color: #E8F0FE;\n",
              "      border: none;\n",
              "      border-radius: 50%;\n",
              "      cursor: pointer;\n",
              "      display: none;\n",
              "      fill: #1967D2;\n",
              "      height: 32px;\n",
              "      padding: 0 0 0 0;\n",
              "      width: 32px;\n",
              "    }\n",
              "\n",
              "    .colab-df-convert:hover {\n",
              "      background-color: #E2EBFA;\n",
              "      box-shadow: 0px 1px 2px rgba(60, 64, 67, 0.3), 0px 1px 3px 1px rgba(60, 64, 67, 0.15);\n",
              "      fill: #174EA6;\n",
              "    }\n",
              "\n",
              "    [theme=dark] .colab-df-convert {\n",
              "      background-color: #3B4455;\n",
              "      fill: #D2E3FC;\n",
              "    }\n",
              "\n",
              "    [theme=dark] .colab-df-convert:hover {\n",
              "      background-color: #434B5C;\n",
              "      box-shadow: 0px 1px 3px 1px rgba(0, 0, 0, 0.15);\n",
              "      filter: drop-shadow(0px 1px 2px rgba(0, 0, 0, 0.3));\n",
              "      fill: #FFFFFF;\n",
              "    }\n",
              "  </style>\n",
              "\n",
              "      <script>\n",
              "        const buttonEl =\n",
              "          document.querySelector('#df-156de453-82b4-4293-babb-556e56d29900 button.colab-df-convert');\n",
              "        buttonEl.style.display =\n",
              "          google.colab.kernel.accessAllowed ? 'block' : 'none';\n",
              "\n",
              "        async function convertToInteractive(key) {\n",
              "          const element = document.querySelector('#df-156de453-82b4-4293-babb-556e56d29900');\n",
              "          const dataTable =\n",
              "            await google.colab.kernel.invokeFunction('convertToInteractive',\n",
              "                                                     [key], {});\n",
              "          if (!dataTable) return;\n",
              "\n",
              "          const docLinkHtml = 'Like what you see? Visit the ' +\n",
              "            '<a target=\"_blank\" href=https://colab.research.google.com/notebooks/data_table.ipynb>data table notebook</a>'\n",
              "            + ' to learn more about interactive tables.';\n",
              "          element.innerHTML = '';\n",
              "          dataTable['output_type'] = 'display_data';\n",
              "          await google.colab.output.renderOutput(dataTable, element);\n",
              "          const docLink = document.createElement('div');\n",
              "          docLink.innerHTML = docLinkHtml;\n",
              "          element.appendChild(docLink);\n",
              "        }\n",
              "      </script>\n",
              "    </div>\n",
              "  </div>\n",
              "  "
            ]
          },
          "metadata": {},
          "execution_count": 28
        }
      ],
      "source": [
        "base_model.calculate_statistics(conf_matrix)"
      ]
    },
    {
      "cell_type": "code",
      "execution_count": 29,
      "metadata": {
        "id": "oqkOENaJHSXV"
      },
      "outputs": [],
      "source": [
        "keras.backend.clear_session()"
      ]
    },
    {
      "cell_type": "code",
      "execution_count": 31,
      "metadata": {
        "id": "n66-9WADHrwv",
        "colab": {
          "base_uri": "https://localhost:8080/",
          "height": 859
        },
        "outputId": "deb5b031-434c-4a80-ca3b-ea5bb88d23ff"
      },
      "outputs": [
        {
          "output_type": "stream",
          "name": "stdout",
          "text": [
            "Trial 10 Complete [00h 02m 48s]\n",
            "val_accuracy: 0.8287353515625\n",
            "\n",
            "Best val_accuracy So Far: 0.8324593305587769\n",
            "Total elapsed time: 00h 57m 41s\n",
            "INFO:tensorflow:Oracle triggered exit\n"
          ]
        },
        {
          "output_type": "stream",
          "name": "stderr",
          "text": [
            "INFO:tensorflow:Oracle triggered exit\n"
          ]
        },
        {
          "output_type": "stream",
          "name": "stdout",
          "text": [
            "Hyper Tuning Complete\n",
            "Epoch 1/50\n"
          ]
        },
        {
          "output_type": "stream",
          "name": "stderr",
          "text": [
            "/usr/local/lib/python3.7/dist-packages/tensorflow/python/util/dispatch.py:1082: UserWarning: \"`binary_crossentropy` received `from_logits=True`, but the `output` argument was produced by a sigmoid or softmax activation and thus does not represent logits. Was this intended?\"\n",
            "  return dispatch_target(*args, **kwargs)\n"
          ]
        },
        {
          "output_type": "stream",
          "name": "stdout",
          "text": [
            "320/320 [==============================] - ETA: 0s - loss: 0.3810 - accuracy: 0.8609 - mse: 0.1134 - mae: 0.2320"
          ]
        },
        {
          "output_type": "stream",
          "name": "stderr",
          "text": [
            "WARNING:absl:Found untraced functions such as lstm_cell_2_layer_call_fn, lstm_cell_2_layer_call_and_return_conditional_losses, lstm_cell_3_layer_call_fn, lstm_cell_3_layer_call_and_return_conditional_losses while saving (showing 4 of 4). These functions will not be directly callable after loading.\n"
          ]
        },
        {
          "output_type": "stream",
          "name": "stdout",
          "text": [
            "INFO:tensorflow:Assets written to: base_model_tuned/model_checkpoints/assets\n"
          ]
        },
        {
          "output_type": "stream",
          "name": "stderr",
          "text": [
            "INFO:tensorflow:Assets written to: base_model_tuned/model_checkpoints/assets\n",
            "WARNING:absl:<keras.layers.recurrent.LSTMCell object at 0x7fd0935f5410> has the same name 'LSTMCell' as a built-in Keras object. Consider renaming <class 'keras.layers.recurrent.LSTMCell'> to avoid naming conflicts when loading with `tf.keras.models.load_model`. If renaming is not possible, pass the object in the `custom_objects` parameter of the load function.\n",
            "WARNING:absl:<keras.layers.recurrent.LSTMCell object at 0x7fd08ed3ce10> has the same name 'LSTMCell' as a built-in Keras object. Consider renaming <class 'keras.layers.recurrent.LSTMCell'> to avoid naming conflicts when loading with `tf.keras.models.load_model`. If renaming is not possible, pass the object in the `custom_objects` parameter of the load function.\n"
          ]
        },
        {
          "output_type": "stream",
          "name": "stdout",
          "text": [
            "\b\b\b\b\b\b\b\b\b\b\b\b\b\b\b\b\b\b\b\b\b\b\b\b\b\b\b\b\b\b\b\b\b\b\b\b\b\b\b\b\b\b\b\b\b\b\b\b\b\b\b\b\b\b\b\b\b\b\b\b\b\b\b\b\b\b\b\b\b\b\b\b\b\b\b\b\b\b\b\b\b\b\b\b\b\b\b\b\b\b\b\b\b\b\b\b\b\b\b\b\b\b\b\b\b\b\b\b\b\b\b\b\r320/320 [==============================] - 29s 83ms/step - loss: 0.3810 - accuracy: 0.8609 - mse: 0.1134 - mae: 0.2320 - val_loss: 0.5023 - val_accuracy: 0.8090 - val_mse: 0.1548 - val_mae: 0.2518\n",
            "Epoch 2/50\n",
            "320/320 [==============================] - 18s 57ms/step - loss: 0.2598 - accuracy: 0.8990 - mse: 0.0734 - mae: 0.1544 - val_loss: 0.6008 - val_accuracy: 0.8071 - val_mse: 0.1667 - val_mae: 0.2146\n",
            "Epoch 3/50\n",
            "320/320 [==============================] - 18s 56ms/step - loss: 0.2221 - accuracy: 0.9263 - mse: 0.0600 - mae: 0.1231 - val_loss: 0.7204 - val_accuracy: 0.7982 - val_mse: 0.1833 - val_mae: 0.2142\n",
            "Epoch 4/50\n",
            "320/320 [==============================] - 18s 57ms/step - loss: 0.1937 - accuracy: 0.9433 - mse: 0.0497 - mae: 0.1033 - val_loss: 0.6824 - val_accuracy: 0.8118 - val_mse: 0.1715 - val_mae: 0.2022\n",
            "Epoch 5/50\n",
            "320/320 [==============================] - 18s 56ms/step - loss: 0.1728 - accuracy: 0.9490 - mse: 0.0432 - mae: 0.0906 - val_loss: 0.7131 - val_accuracy: 0.8072 - val_mse: 0.1768 - val_mae: 0.2030\n",
            "Epoch 6/50\n",
            "320/320 [==============================] - 18s 57ms/step - loss: 0.1622 - accuracy: 0.9533 - mse: 0.0400 - mae: 0.0840 - val_loss: 0.7391 - val_accuracy: 0.7972 - val_mse: 0.1844 - val_mae: 0.2109\n",
            "Epoch 6: early stopping\n"
          ]
        },
        {
          "output_type": "display_data",
          "data": {
            "text/plain": [
              "<Figure size 576x360 with 1 Axes>"
            ],
            "image/png": "[encoded data removed]"
          },
          "metadata": {
            "needs_background": "light"
          }
        },
        {
          "output_type": "execute_result",
          "data": {
            "text/plain": [
              "<keras.callbacks.History at 0x7fd092297d10>"
            ]
          },
          "metadata": {},
          "execution_count": 31
        }
      ],
      "source": [
        "tuned_model = SolarLSTM(data2014, labels2014, \"./base_model_tuned/base_model_tuned.h5\", tune=True)\n",
        "tuned_model.fit()"
      ]
    },
    {
      "cell_type": "code",
      "execution_count": 32,
      "metadata": {
        "id": "ABq_7_PCI0AA"
      },
      "outputs": [],
      "source": [
        "tuned_model.save_model(tuned_model.model)"
      ]
    },
    {
      "cell_type": "code",
      "execution_count": 33,
      "metadata": {
        "id": "iAkcZqPDfCzt"
      },
      "outputs": [],
      "source": [
        "#Instead of retraining, can load the base model here\n",
        "# tuned_model = SolarLSTM.load_model(\"./base_model_tuned/\")"
      ]
    },
    {
      "cell_type": "code",
      "execution_count": 34,
      "metadata": {
        "id": "HvQOPbinpi9a"
      },
      "outputs": [],
      "source": [
        "#Form batches (does not shuffle, cuts off remainder)\n",
        "batched_2015 = tuned_model.batch_prefetch_data(data2015,split_data=False)\n",
        "#Cutoff matching remainder from labels\n",
        "true_labels = labels2015[:-(labels2015.shape[0]%tuned_model.batch_size)]"
      ]
    },
    {
      "cell_type": "code",
      "execution_count": 35,
      "metadata": {
        "colab": {
          "base_uri": "https://localhost:8080/",
          "height": 290
        },
        "id": "m-XMZyf6I4YG",
        "outputId": "41b602fe-5b8b-46a0-db5f-39ac660f31ad"
      },
      "outputs": [
        {
          "output_type": "display_data",
          "data": {
            "text/plain": [
              "<Figure size 432x288 with 2 Axes>"
            ],
            "image/png": "[encoded data removed]"
          },
          "metadata": {
            "needs_background": "light"
          }
        }
      ],
      "source": [
        "conf_matrix = tuned_model.predict_conf_matrix(batched_2015,true_labels,make_plots=True)"
      ]
    },
    {
      "cell_type": "code",
      "execution_count": 36,
      "metadata": {
        "colab": {
          "base_uri": "https://localhost:8080/",
          "height": 81
        },
        "id": "Mi-VaL6epXf3",
        "outputId": "94f4d621-2fcf-4092-fdd5-937a3adde21e"
      },
      "outputs": [
        {
          "output_type": "execute_result",
          "data": {
            "text/plain": [
              "   precision    recall       far      hss\n",
              "0   0.927815  0.839722  0.779644  0.04017"
            ],
            "text/html": [
              "\n",
              "  <div id=\"df-0970bbfd-085e-4668-8827-0abbdf6bb343\">\n",
              "    <div class=\"colab-df-container\">\n",
              "      <div>\n",
              "<style scoped>\n",
              "    .dataframe tbody tr th:only-of-type {\n",
              "        vertical-align: middle;\n",
              "    }\n",
              "\n",
              "    .dataframe tbody tr th {\n",
              "        vertical-align: top;\n",
              "    }\n",
              "\n",
              "    .dataframe thead th {\n",
              "        text-align: right;\n",
              "    }\n",
              "</style>\n",
              "<table border=\"1\" class=\"dataframe\">\n",
              "  <thead>\n",
              "    <tr style=\"text-align: right;\">\n",
              "      <th></th>\n",
              "      <th>precision</th>\n",
              "      <th>recall</th>\n",
              "      <th>far</th>\n",
              "      <th>hss</th>\n",
              "    </tr>\n",
              "  </thead>\n",
              "  <tbody>\n",
              "    <tr>\n",
              "      <th>0</th>\n",
              "      <td>0.927815</td>\n",
              "      <td>0.839722</td>\n",
              "      <td>0.779644</td>\n",
              "      <td>0.04017</td>\n",
              "    </tr>\n",
              "  </tbody>\n",
              "</table>\n",
              "</div>\n",
              "      <button class=\"colab-df-convert\" onclick=\"convertToInteractive('df-0970bbfd-085e-4668-8827-0abbdf6bb343')\"\n",
              "              title=\"Convert this dataframe to an interactive table.\"\n",
              "              style=\"display:none;\">\n",
              "        \n",
              "  <svg xmlns=\"http://www.w3.org/2000/svg\" height=\"24px\"viewBox=\"0 0 24 24\"\n",
              "       width=\"24px\">\n",
              "    <path d=\"M0 0h24v24H0V0z\" fill=\"none\"/>\n",
              "    <path d=\"M18.56 5.44l.94 2.06.94-2.06 2.06-.94-2.06-.94-.94-2.06-.94 2.06-2.06.94zm-11 1L8.5 8.5l.94-2.06 2.06-.94-2.06-.94L8.5 2.5l-.94 2.06-2.06.94zm10 10l.94 2.06.94-2.06 2.06-.94-2.06-.94-.94-2.06-.94 2.06-2.06.94z\"/><path d=\"M17.41 7.96l-1.37-1.37c-.4-.4-.92-.59-1.43-.59-.52 0-1.04.2-1.43.59L10.3 9.45l-7.72 7.72c-.78.78-.78 2.05 0 2.83L4 21.41c.39.39.9.59 1.41.59.51 0 1.02-.2 1.41-.59l7.78-7.78 2.81-2.81c.8-.78.8-2.07 0-2.86zM5.41 20L4 18.59l7.72-7.72 1.47 1.35L5.41 20z\"/>\n",
              "  </svg>\n",
              "      </button>\n",
              "      \n",
              "  <style>\n",
              "    .colab-df-container {\n",
              "      display:flex;\n",
              "      flex-wrap:wrap;\n",
              "      gap: 12px;\n",
              "    }\n",
              "\n",
              "    .colab-df-convert {\n",
              "      background-color: #E8F0FE;\n",
              "      border: none;\n",
              "      border-radius: 50%;\n",
              "      cursor: pointer;\n",
              "      display: none;\n",
              "      fill: #1967D2;\n",
              "      height: 32px;\n",
              "      padding: 0 0 0 0;\n",
              "      width: 32px;\n",
              "    }\n",
              "\n",
              "    .colab-df-convert:hover {\n",
              "      background-color: #E2EBFA;\n",
              "      box-shadow: 0px 1px 2px rgba(60, 64, 67, 0.3), 0px 1px 3px 1px rgba(60, 64, 67, 0.15);\n",
              "      fill: #174EA6;\n",
              "    }\n",
              "\n",
              "    [theme=dark] .colab-df-convert {\n",
              "      background-color: #3B4455;\n",
              "      fill: #D2E3FC;\n",
              "    }\n",
              "\n",
              "    [theme=dark] .colab-df-convert:hover {\n",
              "      background-color: #434B5C;\n",
              "      box-shadow: 0px 1px 3px 1px rgba(0, 0, 0, 0.15);\n",
              "      filter: drop-shadow(0px 1px 2px rgba(0, 0, 0, 0.3));\n",
              "      fill: #FFFFFF;\n",
              "    }\n",
              "  </style>\n",
              "\n",
              "      <script>\n",
              "        const buttonEl =\n",
              "          document.querySelector('#df-0970bbfd-085e-4668-8827-0abbdf6bb343 button.colab-df-convert');\n",
              "        buttonEl.style.display =\n",
              "          google.colab.kernel.accessAllowed ? 'block' : 'none';\n",
              "\n",
              "        async function convertToInteractive(key) {\n",
              "          const element = document.querySelector('#df-0970bbfd-085e-4668-8827-0abbdf6bb343');\n",
              "          const dataTable =\n",
              "            await google.colab.kernel.invokeFunction('convertToInteractive',\n",
              "                                                     [key], {});\n",
              "          if (!dataTable) return;\n",
              "\n",
              "          const docLinkHtml = 'Like what you see? Visit the ' +\n",
              "            '<a target=\"_blank\" href=https://colab.research.google.com/notebooks/data_table.ipynb>data table notebook</a>'\n",
              "            + ' to learn more about interactive tables.';\n",
              "          element.innerHTML = '';\n",
              "          dataTable['output_type'] = 'display_data';\n",
              "          await google.colab.output.renderOutput(dataTable, element);\n",
              "          const docLink = document.createElement('div');\n",
              "          docLink.innerHTML = docLinkHtml;\n",
              "          element.appendChild(docLink);\n",
              "        }\n",
              "      </script>\n",
              "    </div>\n",
              "  </div>\n",
              "  "
            ]
          },
          "metadata": {},
          "execution_count": 36
        }
      ],
      "source": [
        "tuned_model.calculate_statistics(conf_matrix)"
      ]
    },
    {
      "cell_type": "code",
      "execution_count": 37,
      "metadata": {
        "colab": {
          "base_uri": "https://localhost:8080/"
        },
        "id": "8uM0OL9QpujF",
        "outputId": "a5f5dc78-edca-422e-d345-b66a636b95bd"
      },
      "outputs": [
        {
          "output_type": "stream",
          "name": "stdout",
          "text": [
            "Model: \"sequential_1\"\n",
            "_________________________________________________________________\n",
            " Layer (type)                Output Shape              Param #   \n",
            "=================================================================\n",
            " lstm_2 (LSTM)               (64, 120, 16)             3520      \n",
            "                                                                 \n",
            " lstm_3 (LSTM)               (64, 120, 16)             2112      \n",
            "                                                                 \n",
            " dropout_1 (Dropout)         (64, 120, 16)             0         \n",
            "                                                                 \n",
            " dense_1 (Dense)             (64, 120, 1)              17        \n",
            "                                                                 \n",
            "=================================================================\n",
            "Total params: 5,649\n",
            "Trainable params: 5,649\n",
            "Non-trainable params: 0\n",
            "_________________________________________________________________\n"
          ]
        }
      ],
      "source": [
        "tuned_model.model.summary()"
      ]
    },
    {
      "cell_type": "code",
      "execution_count": 38,
      "metadata": {
        "colab": {
          "base_uri": "https://localhost:8080/",
          "height": 336
        },
        "id": "KMp5AWrEfCzv",
        "outputId": "e29fa006-a09e-4dee-de48-9016dcbcdb4a"
      },
      "outputs": [
        {
          "output_type": "stream",
          "name": "stderr",
          "text": [
            "/content/prediction_LSTM.py:219: VisibleDeprecationWarning: Creating an ndarray from ragged nested sequences (which is a list-or-tuple of lists-or-tuples-or ndarrays with different lengths or shapes) is deprecated. If you meant to do this, you must specify 'dtype=object' when creating the ndarray.\n",
            "  plt.boxplot(np.array([true_positive_logits, false_positive_logits]),\n"
          ]
        },
        {
          "output_type": "display_data",
          "data": {
            "text/plain": [
              "<Figure size 432x288 with 1 Axes>"
            ],
            "image/png": "[encoded data removed]"
          },
          "metadata": {
            "needs_background": "light"
          }
        }
      ],
      "source": [
        "tp_base_tuned, fp_base_tuned = tuned_model.view_prediction_distributions(true_labels=true_labels,data=batched_2015)"
      ]
    },
    {
      "cell_type": "markdown",
      "source": [
        "# Remove \"untitled project\" to Create Other Tuned Models"
      ],
      "metadata": {
        "id": "Yx_yblE6qN8w"
      }
    },
    {
      "cell_type": "code",
      "source": [
        "shutil.rmtree('/content/untitled_project')"
      ],
      "metadata": {
        "id": "tjojEmCVqM2F"
      },
      "execution_count": 42,
      "outputs": []
    },
    {
      "cell_type": "markdown",
      "metadata": {
        "id": "wetBz_EiNHYJ"
      },
      "source": [
        "# Models for ONLY Magnetic Field Parameters\n",
        "\n",
        "In DataSelection() set the following arguments:\n",
        "\n",
        "* use_all=False\n",
        "* select_columns=[magnetic field parameters]"
      ]
    },
    {
      "cell_type": "code",
      "execution_count": 43,
      "metadata": {
        "id": "kcnRhTHHNgb5"
      },
      "outputs": [],
      "source": [
        "mf_parameters = [\"TOTUSJH\", \"TOTBSQ\", \"TOTPOT\", \"TOTUSJZ\", \"ABSNJZH\", \"SAVNCPP\",\n",
        "                 \"USFLUX\", \"TOTFZ\", \"MEANPOT\", \"EPSZ\", \"MEANSHR\", \"SHRGT45\", \n",
        "                 \"MEANGAM\", \"MEANGBT\", \"MEANGBZ\", \"MEANGBH\", \"MEANJZH\", \"TOTFY\",\n",
        "                 \"MEANJZD\", \"MEANALP\", \"TOTFX\", \"EPSY\", \"EPSX\", \"R_VALUE\"]"
      ]
    },
    {
      "cell_type": "markdown",
      "metadata": {
        "id": "OX0yhFFYUWzF"
      },
      "source": [
        "## Creating Data"
      ]
    },
    {
      "cell_type": "code",
      "execution_count": 45,
      "metadata": {
        "colab": {
          "base_uri": "https://localhost:8080/"
        },
        "id": "LHepG4AUNDtX",
        "outputId": "56208e9d-77c7-4b1e-99d4-0d68d768aa86"
      },
      "outputs": [
        {
          "output_type": "stream",
          "name": "stdout",
          "text": [
            "Num GB used in data array: 0.001201629638671875\n",
            "Num GB used in data array: 0.0016951560974121094\n",
            "Num GB used in data array: 0.003926753997802734\n",
            "Num GB used in data array: 0.007402896881103516\n",
            "Num GB used in data array: 0.008776187896728516\n",
            "Num GB used in data array: 0.009806156158447266\n",
            "Num GB used in data array: 0.010600090026855469\n",
            "Num GB used in data array: 0.014526844024658203\n",
            "Num GB used in data array: 0.01476287841796875\n",
            "Num GB used in data array: 0.016930103302001953\n",
            "Num GB used in data array: 0.018131732940673828\n",
            "Num GB used in data array: 0.025556087493896484\n",
            "Num GB used in data array: 0.02675771713256836\n",
            "Num GB used in data array: 0.03021240234375\n",
            "Num GB used in data array: 0.03542661666870117\n",
            "Num GB used in data array: 0.03609180450439453\n",
            "Num GB used in data array: 0.06585359573364258\n",
            "Num GB used in data array: 0.06892204284667969\n",
            "Num GB used in data array: 0.06915807723999023\n",
            "Num GB used in data array: 0.06928682327270508\n",
            "Num GB used in data array: 0.07016658782958984\n",
            "Num GB used in data array: 0.07136821746826172\n",
            "Num GB used in data array: 0.07272005081176758\n",
            "Num GB used in data array: 0.08003711700439453\n",
            "Num GB used in data array: 0.08048772811889648\n",
            "Num GB used in data array: 0.08168935775756836\n",
            "Num GB used in data array: 0.08289098739624023\n",
            "Num GB used in data array: 0.08430719375610352\n",
            "Num GB used in data array: 0.08550882339477539\n",
            "Num GB used in data array: 0.08671045303344727\n",
            "Num GB used in data array: 0.08791208267211914\n",
            "Num GB used in data array: 0.09711742401123047\n",
            "Num GB used in data array: 0.09831905364990234\n",
            "Num GB used in data array: 0.0990915298461914\n",
            "Num GB used in data array: 0.09943485260009766\n",
            "Num GB used in data array: 0.1032114028930664\n",
            "Num GB used in data array: 0.10503530502319336\n",
            "Num GB used in data array: 0.1058506965637207\n",
            "Num GB used in data array: 0.10600090026855469\n",
            "Num GB used in data array: 0.1121377944946289\n",
            "Num GB used in data array: 0.1123952865600586\n",
            "Num GB used in data array: 0.11941194534301758\n",
            "Num GB used in data array: 0.12134313583374023\n",
            "Num GB used in data array: 0.12788772583007812\n",
            "Num GB used in data array: 0.13773679733276367\n",
            "Num GB used in data array: 0.16543865203857422\n",
            "Num GB used in data array: 0.19054412841796875\n",
            "Num GB used in data array: 0.19588708877563477\n",
            "Num GB used in data array: 0.19633769989013672\n",
            "Num GB used in data array: 0.19665956497192383\n",
            "Num GB used in data array: 0.19672393798828125\n",
            "Num GB used in data array: 0.2086329460144043\n",
            "Num GB used in data array: 0.20977020263671875\n",
            "Num GB used in data array: 0.21886825561523438\n",
            "Num GB used in data array: 0.21944761276245117\n",
            "Num GB used in data array: 0.21974802017211914\n",
            "Num GB used in data array: 0.22296667098999023\n",
            "Num GB used in data array: 0.23084163665771484\n",
            "Num GB used in data array: 0.2516341209411621\n",
            "Num GB used in data array: 0.25504589080810547\n",
            "Num GB used in data array: 0.27489423751831055\n",
            "Num GB used in data array: 0.2937126159667969\n",
            "Num GB used in data array: 0.3149986267089844\n",
            "Num GB used in data array: 0.36420106887817383\n",
            "Num GB used in data array: 0.3923964500427246\n",
            "Num GB used in data array: 0.4062795639038086\n",
            "Num GB used in data array: 0.4222440719604492\n",
            "Num GB used in data array: 0.42278051376342773\n",
            "Num GB used in data array: 0.4256129264831543\n",
            "Num GB used in data array: 0.4263639450073242\n",
            "Num GB used in data array: 0.4383373260498047\n",
            "Num GB used in data array: 0.4471564292907715\n",
            "Num GB used in data array: 0.44792890548706055\n",
            "Num GB used in data array: 0.4555678367614746\n",
            "Num GB used in data array: 0.4840850830078125\n",
            "Num GB used in data array: 0.49230337142944336\n",
            "Num GB used in data array: 0.5345320701599121\n",
            "Num GB used in data array: 0.5410122871398926\n",
            "Num GB used in data array: 0.5411839485168457\n",
            "Num GB used in data array: 0.5414199829101562\n",
            "Num GB used in data array: 0.5416560173034668\n",
            "Num GB used in data array: 0.5426430702209473\n",
            "Num GB used in data array: 0.5433082580566406\n",
            "Num GB used in data array: 0.5436086654663086\n",
            "Num GB used in data array: 0.5449390411376953\n",
            "Num GB used in data array: 0.5503678321838379\n"
          ]
        }
      ],
      "source": [
        "if rebuild_data:\n",
        "    with open(\"/content/all_data.pkl\", \"rb\") as file:\n",
        "        data = pickle.load(file)\n",
        "\n",
        "    DataSelection(data, 2014, \"./mf/\", 24, use_all=False, select_columns=mf_parameters)"
      ]
    },
    {
      "cell_type": "code",
      "execution_count": 46,
      "metadata": {
        "colab": {
          "base_uri": "https://localhost:8080/"
        },
        "id": "OkzYmlzhNDtq",
        "outputId": "d6e7a4fe-cb18-41be-bb43-89de5581a08b"
      },
      "outputs": [
        {
          "output_type": "stream",
          "name": "stdout",
          "text": [
            "Num GB used in data array: 0.001201629638671875\n",
            "Num GB used in data array: 0.0019741058349609375\n",
            "Num GB used in data array: 0.006930828094482422\n",
            "Num GB used in data array: 0.011050701141357422\n",
            "Num GB used in data array: 0.015256404876708984\n",
            "Num GB used in data array: 0.019848346710205078\n",
            "Num GB used in data array: 0.021049976348876953\n",
            "Num GB used in data array: 0.022251605987548828\n",
            "Num GB used in data array: 0.029246807098388672\n",
            "Num GB used in data array: 0.02948284149169922\n",
            "Num GB used in data array: 0.030062198638916016\n",
            "Num GB used in data array: 0.03710031509399414\n",
            "Num GB used in data array: 0.038301944732666016\n",
            "Num GB used in data array: 0.03885984420776367\n",
            "Num GB used in data array: 0.04467487335205078\n",
            "Num GB used in data array: 0.04534006118774414\n",
            "Num GB used in data array: 0.07265567779541016\n",
            "Num GB used in data array: 0.07750511169433594\n",
            "Num GB used in data array: 0.07967233657836914\n",
            "Num GB used in data array: 0.07980108261108398\n",
            "Num GB used in data array: 0.08038043975830078\n",
            "Num GB used in data array: 0.08068084716796875\n",
            "Num GB used in data array: 0.08555173873901367\n",
            "Num GB used in data array: 0.08694648742675781\n",
            "Num GB used in data array: 0.08988618850708008\n",
            "Num GB used in data array: 0.09479999542236328\n",
            "Num GB used in data array: 0.1127171516418457\n",
            "Num GB used in data array: 0.1466202735900879\n",
            "Num GB used in data array: 0.15295028686523438\n",
            "Num GB used in data array: 0.15383005142211914\n",
            "Num GB used in data array: 0.15415191650390625\n",
            "Num GB used in data array: 0.16904354095458984\n",
            "Num GB used in data array: 0.1727128028869629\n",
            "Num GB used in data array: 0.18580198287963867\n",
            "Num GB used in data array: 0.19071578979492188\n",
            "Num GB used in data array: 0.19515752792358398\n",
            "Num GB used in data array: 0.19919157028198242\n",
            "Num GB used in data array: 0.2035689353942871\n",
            "Num GB used in data array: 0.20386934280395508\n",
            "Num GB used in data array: 0.2040410041809082\n",
            "Num GB used in data array: 0.21944761276245117\n",
            "Num GB used in data array: 0.22060632705688477\n",
            "Num GB used in data array: 0.23159265518188477\n",
            "Num GB used in data array: 0.24474620819091797\n",
            "Num GB used in data array: 0.2732419967651367\n",
            "Num GB used in data array: 0.3200840950012207\n",
            "Num GB used in data array: 0.3518843650817871\n",
            "Num GB used in data array: 0.3688359260559082\n",
            "Num GB used in data array: 0.3781270980834961\n",
            "Num GB used in data array: 0.3786635398864746\n",
            "Num GB used in data array: 0.3814530372619629\n",
            "Num GB used in data array: 0.3833198547363281\n",
            "Num GB used in data array: 0.399477481842041\n",
            "Num GB used in data array: 0.41290998458862305\n",
            "Num GB used in data array: 0.4144763946533203\n",
            "Num GB used in data array: 0.42732954025268555\n",
            "Num GB used in data array: 0.42780160903930664\n",
            "Num GB used in data array: 0.4729485511779785\n",
            "Num GB used in data array: 0.49193859100341797\n",
            "Num GB used in data array: 0.556483268737793\n",
            "Num GB used in data array: 0.5633282661437988\n",
            "Num GB used in data array: 0.565495491027832\n",
            "Num GB used in data array: 0.5706238746643066\n",
            "Num GB used in data array: 0.5753660202026367\n",
            "Num GB used in data array: 0.5789709091186523\n",
            "Num GB used in data array: 0.5814170837402344\n",
            "Num GB used in data array: 0.583498477935791\n",
            "Num GB used in data array: 0.5856013298034668\n",
            "Num GB used in data array: 0.5864596366882324\n",
            "Num GB used in data array: 0.5866098403930664\n",
            "Num GB used in data array: 0.5874037742614746\n",
            "Num GB used in data array: 0.5927896499633789\n",
            "Num GB used in data array: 0.6112432479858398\n"
          ]
        }
      ],
      "source": [
        "if rebuild_data:\n",
        "    with open(\"./mf/norm_scaler.pkl\", \"rb\") as norm_file:\n",
        "        normalization = pickle.load(norm_file)\n",
        "\n",
        "    with open(\"./mf/stand_scaler.pkl\", \"rb\") as stand_file:\n",
        "        standard = pickle.load(stand_file)\n",
        "\n",
        "    DataSelection(data, 2015,\"./mf/\", 24, use_all=False, select_columns=mf_parameters,\n",
        "                norm_scaler=normalization, stand_scaler=standard)"
      ]
    },
    {
      "cell_type": "markdown",
      "metadata": {
        "id": "jJkOJWHpUbEW"
      },
      "source": [
        "## Load Data and Run Models"
      ]
    },
    {
      "cell_type": "code",
      "execution_count": 47,
      "metadata": {
        "id": "_2vrpSwNNDtq"
      },
      "outputs": [],
      "source": [
        "data2014_mf = np.load(\"./mf/data_2014.npy\")\n",
        "labels2014_mf = np.load(\"./mf/labels_2014.npy\")"
      ]
    },
    {
      "cell_type": "code",
      "execution_count": 48,
      "metadata": {
        "colab": {
          "base_uri": "https://localhost:8080/"
        },
        "id": "6iRSn-bMfCzy",
        "outputId": "31e11cb7-014f-4be3-c775-89e53e9f1141"
      },
      "outputs": [
        {
          "output_type": "execute_result",
          "data": {
            "text/plain": [
              "(28486, 120, 24)"
            ]
          },
          "metadata": {},
          "execution_count": 48
        }
      ],
      "source": [
        "data2015_mf = np.load(\"./mf/data_2015.npy\")\n",
        "labels2015_mf = np.load(\"./mf/labels_2015.npy\")\n",
        "data2015_mf.shape"
      ]
    },
    {
      "cell_type": "code",
      "execution_count": 49,
      "metadata": {
        "id": "EK4QoBskNDtr"
      },
      "outputs": [],
      "source": [
        "mf_model = SolarLSTM(data2014_mf, labels2014_mf, \"./mf_model/mf_model.h5\")"
      ]
    },
    {
      "cell_type": "code",
      "execution_count": 50,
      "metadata": {
        "id": "o64p85LENDtr"
      },
      "outputs": [],
      "source": [
        "mf_model.build_model()"
      ]
    },
    {
      "cell_type": "code",
      "execution_count": 51,
      "metadata": {
        "colab": {
          "base_uri": "https://localhost:8080/"
        },
        "id": "1a6nHcNHNDtr",
        "outputId": "f45d6e19-856e-46d5-c12d-bfa0434c324b"
      },
      "outputs": [
        {
          "output_type": "stream",
          "name": "stdout",
          "text": [
            "Model: \"sequential_2\"\n",
            "_________________________________________________________________\n",
            " Layer (type)                Output Shape              Param #   \n",
            "=================================================================\n",
            " lstm_4 (LSTM)               (64, 120, 16)             2624      \n",
            "                                                                 \n",
            " lstm_5 (LSTM)               (64, 120, 16)             2112      \n",
            "                                                                 \n",
            " dropout_2 (Dropout)         (64, 120, 16)             0         \n",
            "                                                                 \n",
            " dense_2 (Dense)             (64, 120, 1)              17        \n",
            "                                                                 \n",
            "=================================================================\n",
            "Total params: 4,753\n",
            "Trainable params: 4,753\n",
            "Non-trainable params: 0\n",
            "_________________________________________________________________\n"
          ]
        }
      ],
      "source": [
        "mf_model.model.summary()"
      ]
    },
    {
      "cell_type": "code",
      "execution_count": 52,
      "metadata": {
        "colab": {
          "base_uri": "https://localhost:8080/",
          "height": 859
        },
        "id": "AzkfkXdTNDts",
        "outputId": "bebba008-12ad-443e-f3c4-7aace1bba48f"
      },
      "outputs": [
        {
          "output_type": "stream",
          "name": "stdout",
          "text": [
            "Epoch 1/50\n"
          ]
        },
        {
          "output_type": "stream",
          "name": "stderr",
          "text": [
            "/usr/local/lib/python3.7/dist-packages/tensorflow/python/util/dispatch.py:1082: UserWarning: \"`binary_crossentropy` received `from_logits=True`, but the `output` argument was produced by a sigmoid or softmax activation and thus does not represent logits. Was this intended?\"\n",
            "  return dispatch_target(*args, **kwargs)\n"
          ]
        },
        {
          "output_type": "stream",
          "name": "stdout",
          "text": [
            "320/320 [==============================] - ETA: 0s - loss: 0.4155 - accuracy: 0.8587 - mse: 0.1229 - mae: 0.2500"
          ]
        },
        {
          "output_type": "stream",
          "name": "stderr",
          "text": [
            "WARNING:absl:Found untraced functions such as lstm_cell_4_layer_call_fn, lstm_cell_4_layer_call_and_return_conditional_losses, lstm_cell_5_layer_call_fn, lstm_cell_5_layer_call_and_return_conditional_losses while saving (showing 4 of 4). These functions will not be directly callable after loading.\n"
          ]
        },
        {
          "output_type": "stream",
          "name": "stdout",
          "text": [
            "INFO:tensorflow:Assets written to: mf_model/model_checkpoints/assets\n"
          ]
        },
        {
          "output_type": "stream",
          "name": "stderr",
          "text": [
            "INFO:tensorflow:Assets written to: mf_model/model_checkpoints/assets\n",
            "WARNING:absl:<keras.layers.recurrent.LSTMCell object at 0x7fd09fa69510> has the same name 'LSTMCell' as a built-in Keras object. Consider renaming <class 'keras.layers.recurrent.LSTMCell'> to avoid naming conflicts when loading with `tf.keras.models.load_model`. If renaming is not possible, pass the object in the `custom_objects` parameter of the load function.\n",
            "WARNING:absl:<keras.layers.recurrent.LSTMCell object at 0x7fd09f979a90> has the same name 'LSTMCell' as a built-in Keras object. Consider renaming <class 'keras.layers.recurrent.LSTMCell'> to avoid naming conflicts when loading with `tf.keras.models.load_model`. If renaming is not possible, pass the object in the `custom_objects` parameter of the load function.\n"
          ]
        },
        {
          "output_type": "stream",
          "name": "stdout",
          "text": [
            "\b\b\b\b\b\b\b\b\b\b\b\b\b\b\b\b\b\b\b\b\b\b\b\b\b\b\b\b\b\b\b\b\b\b\b\b\b\b\b\b\b\b\b\b\b\b\b\b\b\b\b\b\b\b\b\b\b\b\b\b\b\b\b\b\b\b\b\b\b\b\b\b\b\b\b\b\b\b\b\b\b\b\b\b\b\b\b\b\b\b\b\b\b\b\b\b\b\b\b\b\b\b\b\b\b\b\b\b\b\b\b\b\r320/320 [==============================] - 29s 83ms/step - loss: 0.4155 - accuracy: 0.8587 - mse: 0.1229 - mae: 0.2500 - val_loss: 0.4942 - val_accuracy: 0.8094 - val_mse: 0.1556 - val_mae: 0.2577\n",
            "Epoch 2/50\n",
            "320/320 [==============================] - 18s 55ms/step - loss: 0.3194 - accuracy: 0.8853 - mse: 0.0905 - mae: 0.1830 - val_loss: 0.4951 - val_accuracy: 0.8094 - val_mse: 0.1541 - val_mae: 0.2381\n",
            "Epoch 3/50\n",
            "319/320 [============================>.] - ETA: 0s - loss: 0.2970 - accuracy: 0.8916 - mse: 0.0836 - mae: 0.1675"
          ]
        },
        {
          "output_type": "stream",
          "name": "stderr",
          "text": [
            "WARNING:absl:Found untraced functions such as lstm_cell_4_layer_call_fn, lstm_cell_4_layer_call_and_return_conditional_losses, lstm_cell_5_layer_call_fn, lstm_cell_5_layer_call_and_return_conditional_losses while saving (showing 4 of 4). These functions will not be directly callable after loading.\n"
          ]
        },
        {
          "output_type": "stream",
          "name": "stdout",
          "text": [
            "INFO:tensorflow:Assets written to: mf_model/model_checkpoints/assets\n"
          ]
        },
        {
          "output_type": "stream",
          "name": "stderr",
          "text": [
            "INFO:tensorflow:Assets written to: mf_model/model_checkpoints/assets\n",
            "WARNING:absl:<keras.layers.recurrent.LSTMCell object at 0x7fd09fa69510> has the same name 'LSTMCell' as a built-in Keras object. Consider renaming <class 'keras.layers.recurrent.LSTMCell'> to avoid naming conflicts when loading with `tf.keras.models.load_model`. If renaming is not possible, pass the object in the `custom_objects` parameter of the load function.\n",
            "WARNING:absl:<keras.layers.recurrent.LSTMCell object at 0x7fd09f979a90> has the same name 'LSTMCell' as a built-in Keras object. Consider renaming <class 'keras.layers.recurrent.LSTMCell'> to avoid naming conflicts when loading with `tf.keras.models.load_model`. If renaming is not possible, pass the object in the `custom_objects` parameter of the load function.\n"
          ]
        },
        {
          "output_type": "stream",
          "name": "stdout",
          "text": [
            "\b\b\b\b\b\b\b\b\b\b\b\b\b\b\b\b\b\b\b\b\b\b\b\b\b\b\b\b\b\b\b\b\b\b\b\b\b\b\b\b\b\b\b\b\b\b\b\b\b\b\b\b\b\b\b\b\b\b\b\b\b\b\b\b\b\b\b\b\b\b\b\b\b\b\b\b\b\b\b\b\b\b\b\b\b\b\b\b\b\b\b\b\b\b\b\b\b\b\b\b\b\b\b\b\b\b\b\b\b\b\b\b\r320/320 [==============================] - 25s 80ms/step - loss: 0.2963 - accuracy: 0.8919 - mse: 0.0833 - mae: 0.1672 - val_loss: 0.4756 - val_accuracy: 0.8297 - val_mse: 0.1454 - val_mae: 0.2396\n",
            "Epoch 4/50\n",
            "320/320 [==============================] - 18s 57ms/step - loss: 0.2743 - accuracy: 0.9122 - mse: 0.0757 - mae: 0.1545 - val_loss: 0.5583 - val_accuracy: 0.8094 - val_mse: 0.1631 - val_mae: 0.2223\n",
            "Epoch 5/50\n",
            "320/320 [==============================] - 18s 55ms/step - loss: 0.2600 - accuracy: 0.9174 - mse: 0.0712 - mae: 0.1448 - val_loss: 0.5431 - val_accuracy: 0.8097 - val_mse: 0.1594 - val_mae: 0.2234\n",
            "Epoch 6/50\n",
            "320/320 [==============================] - 18s 55ms/step - loss: 0.2350 - accuracy: 0.9251 - mse: 0.0626 - mae: 0.1311 - val_loss: 0.5872 - val_accuracy: 0.7969 - val_mse: 0.1683 - val_mae: 0.2204\n",
            "Epoch 7/50\n",
            "320/320 [==============================] - 18s 55ms/step - loss: 0.2220 - accuracy: 0.9347 - mse: 0.0578 - mae: 0.1187 - val_loss: 0.5855 - val_accuracy: 0.8173 - val_mse: 0.1635 - val_mae: 0.2081\n",
            "Epoch 8/50\n",
            "320/320 [==============================] - 18s 55ms/step - loss: 0.2060 - accuracy: 0.9417 - mse: 0.0521 - mae: 0.1086 - val_loss: 0.6565 - val_accuracy: 0.7932 - val_mse: 0.1797 - val_mae: 0.2183\n",
            "Epoch 8: early stopping\n"
          ]
        },
        {
          "output_type": "display_data",
          "data": {
            "text/plain": [
              "<Figure size 576x360 with 1 Axes>"
            ],
            "image/png": "[encoded data removed]"
          },
          "metadata": {
            "needs_background": "light"
          }
        }
      ],
      "source": [
        "history=mf_model.fit()"
      ]
    },
    {
      "cell_type": "code",
      "execution_count": 53,
      "metadata": {
        "id": "imdWAVM3NDtt"
      },
      "outputs": [],
      "source": [
        "mf_model.save_model(mf_model.model)"
      ]
    },
    {
      "cell_type": "code",
      "execution_count": 54,
      "metadata": {
        "colab": {
          "base_uri": "https://localhost:8080/"
        },
        "id": "i0zr1gAGNDtt",
        "outputId": "81ad4cbc-7c8e-4901-fd8a-bf1cd183a0eb"
      },
      "outputs": [
        {
          "output_type": "stream",
          "name": "stdout",
          "text": [
            "445/445 [==============================] - 7s 16ms/step - loss: 0.6047 - accuracy: 0.8282 - mse: 0.1572 - mae: 0.1902\n"
          ]
        },
        {
          "output_type": "execute_result",
          "data": {
            "text/plain": [
              "[0.6046801209449768, 0.82816481590271, 0.1571582555770874, 0.1902051717042923]"
            ]
          },
          "metadata": {},
          "execution_count": 54
        }
      ],
      "source": [
        "mf_new = mf_model.batch_prefetch_data(data2015_mf,labels2015_mf,split_data=False)\n",
        "mf_model.evaluate(mf_new)\n",
        "#base_model.evaluate(data_new,labels_new)"
      ]
    },
    {
      "cell_type": "code",
      "execution_count": 55,
      "metadata": {
        "colab": {
          "base_uri": "https://localhost:8080/",
          "height": 290
        },
        "id": "e4IDRyleNDtt",
        "outputId": "0e770988-3041-4ab5-9404-85136157446b"
      },
      "outputs": [
        {
          "output_type": "display_data",
          "data": {
            "text/plain": [
              "<Figure size 432x288 with 2 Axes>"
            ],
            "image/png": "[encoded data removed]"
          },
          "metadata": {
            "needs_background": "light"
          }
        }
      ],
      "source": [
        "#Form batches (does not shuffle, cuts off remainder)\n",
        "batched_2015_mf = mf_model.batch_prefetch_data(data2015_mf,split_data=False)\n",
        "#Cutoff matching remainder from labels\n",
        "true_labels_mf = labels2015_mf[:-(labels2015_mf.shape[0] % mf_model.batch_size)]\n",
        "#Do predictions and get confusion matrix\n",
        "conf_matrix_mf = mf_model.predict_conf_matrix(batched_2015_mf,true_labels_mf,make_plots=True)"
      ]
    },
    {
      "cell_type": "code",
      "execution_count": 56,
      "metadata": {
        "colab": {
          "base_uri": "https://localhost:8080/"
        },
        "id": "T52Qg_7zNDtu",
        "outputId": "70483307-e3ea-4d0c-b8c6-066bf12abc14"
      },
      "outputs": [
        {
          "output_type": "execute_result",
          "data": {
            "text/plain": [
              "array([[   8091,  555549],\n",
              "       [  38061, 2815899]])"
            ]
          },
          "metadata": {},
          "execution_count": 56
        }
      ],
      "source": [
        "conf_matrix_mf"
      ]
    },
    {
      "cell_type": "code",
      "execution_count": 57,
      "metadata": {
        "colab": {
          "base_uri": "https://localhost:8080/",
          "height": 81
        },
        "id": "gVnEX3bwSS6n",
        "outputId": "1e215e24-fa62-41f8-bbfa-10dd902f42d5"
      },
      "outputs": [
        {
          "output_type": "execute_result",
          "data": {
            "text/plain": [
              "   precision    recall       far       hss\n",
              "0   0.986664  0.835219  0.824688  0.001614"
            ],
            "text/html": [
              "\n",
              "  <div id=\"df-a2c5b341-3f5c-40bf-ade3-4acc54d9484e\">\n",
              "    <div class=\"colab-df-container\">\n",
              "      <div>\n",
              "<style scoped>\n",
              "    .dataframe tbody tr th:only-of-type {\n",
              "        vertical-align: middle;\n",
              "    }\n",
              "\n",
              "    .dataframe tbody tr th {\n",
              "        vertical-align: top;\n",
              "    }\n",
              "\n",
              "    .dataframe thead th {\n",
              "        text-align: right;\n",
              "    }\n",
              "</style>\n",
              "<table border=\"1\" class=\"dataframe\">\n",
              "  <thead>\n",
              "    <tr style=\"text-align: right;\">\n",
              "      <th></th>\n",
              "      <th>precision</th>\n",
              "      <th>recall</th>\n",
              "      <th>far</th>\n",
              "      <th>hss</th>\n",
              "    </tr>\n",
              "  </thead>\n",
              "  <tbody>\n",
              "    <tr>\n",
              "      <th>0</th>\n",
              "      <td>0.986664</td>\n",
              "      <td>0.835219</td>\n",
              "      <td>0.824688</td>\n",
              "      <td>0.001614</td>\n",
              "    </tr>\n",
              "  </tbody>\n",
              "</table>\n",
              "</div>\n",
              "      <button class=\"colab-df-convert\" onclick=\"convertToInteractive('df-a2c5b341-3f5c-40bf-ade3-4acc54d9484e')\"\n",
              "              title=\"Convert this dataframe to an interactive table.\"\n",
              "              style=\"display:none;\">\n",
              "        \n",
              "  <svg xmlns=\"http://www.w3.org/2000/svg\" height=\"24px\"viewBox=\"0 0 24 24\"\n",
              "       width=\"24px\">\n",
              "    <path d=\"M0 0h24v24H0V0z\" fill=\"none\"/>\n",
              "    <path d=\"M18.56 5.44l.94 2.06.94-2.06 2.06-.94-2.06-.94-.94-2.06-.94 2.06-2.06.94zm-11 1L8.5 8.5l.94-2.06 2.06-.94-2.06-.94L8.5 2.5l-.94 2.06-2.06.94zm10 10l.94 2.06.94-2.06 2.06-.94-2.06-.94-.94-2.06-.94 2.06-2.06.94z\"/><path d=\"M17.41 7.96l-1.37-1.37c-.4-.4-.92-.59-1.43-.59-.52 0-1.04.2-1.43.59L10.3 9.45l-7.72 7.72c-.78.78-.78 2.05 0 2.83L4 21.41c.39.39.9.59 1.41.59.51 0 1.02-.2 1.41-.59l7.78-7.78 2.81-2.81c.8-.78.8-2.07 0-2.86zM5.41 20L4 18.59l7.72-7.72 1.47 1.35L5.41 20z\"/>\n",
              "  </svg>\n",
              "      </button>\n",
              "      \n",
              "  <style>\n",
              "    .colab-df-container {\n",
              "      display:flex;\n",
              "      flex-wrap:wrap;\n",
              "      gap: 12px;\n",
              "    }\n",
              "\n",
              "    .colab-df-convert {\n",
              "      background-color: #E8F0FE;\n",
              "      border: none;\n",
              "      border-radius: 50%;\n",
              "      cursor: pointer;\n",
              "      display: none;\n",
              "      fill: #1967D2;\n",
              "      height: 32px;\n",
              "      padding: 0 0 0 0;\n",
              "      width: 32px;\n",
              "    }\n",
              "\n",
              "    .colab-df-convert:hover {\n",
              "      background-color: #E2EBFA;\n",
              "      box-shadow: 0px 1px 2px rgba(60, 64, 67, 0.3), 0px 1px 3px 1px rgba(60, 64, 67, 0.15);\n",
              "      fill: #174EA6;\n",
              "    }\n",
              "\n",
              "    [theme=dark] .colab-df-convert {\n",
              "      background-color: #3B4455;\n",
              "      fill: #D2E3FC;\n",
              "    }\n",
              "\n",
              "    [theme=dark] .colab-df-convert:hover {\n",
              "      background-color: #434B5C;\n",
              "      box-shadow: 0px 1px 3px 1px rgba(0, 0, 0, 0.15);\n",
              "      filter: drop-shadow(0px 1px 2px rgba(0, 0, 0, 0.3));\n",
              "      fill: #FFFFFF;\n",
              "    }\n",
              "  </style>\n",
              "\n",
              "      <script>\n",
              "        const buttonEl =\n",
              "          document.querySelector('#df-a2c5b341-3f5c-40bf-ade3-4acc54d9484e button.colab-df-convert');\n",
              "        buttonEl.style.display =\n",
              "          google.colab.kernel.accessAllowed ? 'block' : 'none';\n",
              "\n",
              "        async function convertToInteractive(key) {\n",
              "          const element = document.querySelector('#df-a2c5b341-3f5c-40bf-ade3-4acc54d9484e');\n",
              "          const dataTable =\n",
              "            await google.colab.kernel.invokeFunction('convertToInteractive',\n",
              "                                                     [key], {});\n",
              "          if (!dataTable) return;\n",
              "\n",
              "          const docLinkHtml = 'Like what you see? Visit the ' +\n",
              "            '<a target=\"_blank\" href=https://colab.research.google.com/notebooks/data_table.ipynb>data table notebook</a>'\n",
              "            + ' to learn more about interactive tables.';\n",
              "          element.innerHTML = '';\n",
              "          dataTable['output_type'] = 'display_data';\n",
              "          await google.colab.output.renderOutput(dataTable, element);\n",
              "          const docLink = document.createElement('div');\n",
              "          docLink.innerHTML = docLinkHtml;\n",
              "          element.appendChild(docLink);\n",
              "        }\n",
              "      </script>\n",
              "    </div>\n",
              "  </div>\n",
              "  "
            ]
          },
          "metadata": {},
          "execution_count": 57
        }
      ],
      "source": [
        "mf_model.calculate_statistics(conf_matrix_mf)"
      ]
    },
    {
      "cell_type": "code",
      "execution_count": 58,
      "metadata": {
        "colab": {
          "base_uri": "https://localhost:8080/",
          "height": 336
        },
        "id": "1xxnktsqfCz0",
        "outputId": "8c13ebb8-e4f6-4631-a0d5-2e3e2c7904e3"
      },
      "outputs": [
        {
          "output_type": "stream",
          "name": "stderr",
          "text": [
            "/content/prediction_LSTM.py:219: VisibleDeprecationWarning: Creating an ndarray from ragged nested sequences (which is a list-or-tuple of lists-or-tuples-or ndarrays with different lengths or shapes) is deprecated. If you meant to do this, you must specify 'dtype=object' when creating the ndarray.\n",
            "  plt.boxplot(np.array([true_positive_logits, false_positive_logits]),\n"
          ]
        },
        {
          "output_type": "display_data",
          "data": {
            "text/plain": [
              "<Figure size 432x288 with 1 Axes>"
            ],
            "image/png": "[encoded data removed]"
          },
          "metadata": {
            "needs_background": "light"
          }
        }
      ],
      "source": [
        "tp_mf, fp_mf = mf_model.view_prediction_distributions(true_labels=true_labels_mf,data=batched_2015_mf)"
      ]
    },
    {
      "cell_type": "code",
      "execution_count": 75,
      "metadata": {
        "id": "nyDt0SuuNDtu"
      },
      "outputs": [],
      "source": [
        "keras.backend.clear_session()"
      ]
    },
    {
      "cell_type": "code",
      "execution_count": 76,
      "metadata": {
        "id": "BRSqPRIHNDtu"
      },
      "outputs": [],
      "source": [
        "tuned_model_mf = SolarLSTM(data2014_mf, labels2014_mf, \"./mf_model_tuned/mf_model_tuned.h5\", tune=True)"
      ]
    },
    {
      "cell_type": "code",
      "execution_count": 77,
      "metadata": {
        "colab": {
          "base_uri": "https://localhost:8080/",
          "height": 1000
        },
        "id": "j65L5DwbNDtv",
        "outputId": "7c6dba81-6ce3-4fce-b6e1-e0991af9d56e"
      },
      "outputs": [
        {
          "output_type": "stream",
          "name": "stdout",
          "text": [
            "Trial 10 Complete [00h 10m 39s]\n",
            "val_accuracy: 0.8124886155128479\n",
            "\n",
            "Best val_accuracy So Far: 0.8160449266433716\n",
            "Total elapsed time: 01h 57m 08s\n",
            "INFO:tensorflow:Oracle triggered exit\n"
          ]
        },
        {
          "output_type": "stream",
          "name": "stderr",
          "text": [
            "INFO:tensorflow:Oracle triggered exit\n"
          ]
        },
        {
          "output_type": "stream",
          "name": "stdout",
          "text": [
            "Hyper Tuning Complete\n",
            "Epoch 1/50\n"
          ]
        },
        {
          "output_type": "stream",
          "name": "stderr",
          "text": [
            "/usr/local/lib/python3.7/dist-packages/tensorflow/python/util/dispatch.py:1082: UserWarning: \"`binary_crossentropy` received `from_logits=True`, but the `output` argument was produced by a sigmoid or softmax activation and thus does not represent logits. Was this intended?\"\n",
            "  return dispatch_target(*args, **kwargs)\n"
          ]
        },
        {
          "output_type": "stream",
          "name": "stdout",
          "text": [
            "320/320 [==============================] - ETA: 0s - loss: 0.3656 - accuracy: 0.8741 - mse: 0.1060 - mae: 0.1970"
          ]
        },
        {
          "output_type": "stream",
          "name": "stderr",
          "text": [
            "WARNING:absl:Found untraced functions such as lstm_cell_2_layer_call_fn, lstm_cell_2_layer_call_and_return_conditional_losses, lstm_cell_3_layer_call_fn, lstm_cell_3_layer_call_and_return_conditional_losses while saving (showing 4 of 4). These functions will not be directly callable after loading.\n"
          ]
        },
        {
          "output_type": "stream",
          "name": "stdout",
          "text": [
            "INFO:tensorflow:Assets written to: mf_model_tuned/model_checkpoints/assets\n"
          ]
        },
        {
          "output_type": "stream",
          "name": "stderr",
          "text": [
            "INFO:tensorflow:Assets written to: mf_model_tuned/model_checkpoints/assets\n",
            "WARNING:absl:<keras.layers.recurrent.LSTMCell object at 0x7fd08e79a190> has the same name 'LSTMCell' as a built-in Keras object. Consider renaming <class 'keras.layers.recurrent.LSTMCell'> to avoid naming conflicts when loading with `tf.keras.models.load_model`. If renaming is not possible, pass the object in the `custom_objects` parameter of the load function.\n",
            "WARNING:absl:<keras.layers.recurrent.LSTMCell object at 0x7fd0af1a5050> has the same name 'LSTMCell' as a built-in Keras object. Consider renaming <class 'keras.layers.recurrent.LSTMCell'> to avoid naming conflicts when loading with `tf.keras.models.load_model`. If renaming is not possible, pass the object in the `custom_objects` parameter of the load function.\n"
          ]
        },
        {
          "output_type": "stream",
          "name": "stdout",
          "text": [
            "\b\b\b\b\b\b\b\b\b\b\b\b\b\b\b\b\b\b\b\b\b\b\b\b\b\b\b\b\b\b\b\b\b\b\b\b\b\b\b\b\b\b\b\b\b\b\b\b\b\b\b\b\b\b\b\b\b\b\b\b\b\b\b\b\b\b\b\b\b\b\b\b\b\b\b\b\b\b\b\b\b\b\b\b\b\b\b\b\b\b\b\b\b\b\b\b\b\b\b\b\b\b\b\b\b\b\b\b\b\b\b\b\r320/320 [==============================] - 47s 139ms/step - loss: 0.3656 - accuracy: 0.8741 - mse: 0.1060 - mae: 0.1970 - val_loss: 0.8621 - val_accuracy: 0.8094 - val_mse: 0.1860 - val_mae: 0.1991\n",
            "Epoch 2/50\n",
            "320/320 [==============================] - ETA: 0s - loss: 0.3140 - accuracy: 0.8939 - mse: 0.0884 - mae: 0.1660"
          ]
        },
        {
          "output_type": "stream",
          "name": "stderr",
          "text": [
            "WARNING:absl:Found untraced functions such as lstm_cell_2_layer_call_fn, lstm_cell_2_layer_call_and_return_conditional_losses, lstm_cell_3_layer_call_fn, lstm_cell_3_layer_call_and_return_conditional_losses while saving (showing 4 of 4). These functions will not be directly callable after loading.\n"
          ]
        },
        {
          "output_type": "stream",
          "name": "stdout",
          "text": [
            "INFO:tensorflow:Assets written to: mf_model_tuned/model_checkpoints/assets\n"
          ]
        },
        {
          "output_type": "stream",
          "name": "stderr",
          "text": [
            "INFO:tensorflow:Assets written to: mf_model_tuned/model_checkpoints/assets\n",
            "WARNING:absl:<keras.layers.recurrent.LSTMCell object at 0x7fd08e79a190> has the same name 'LSTMCell' as a built-in Keras object. Consider renaming <class 'keras.layers.recurrent.LSTMCell'> to avoid naming conflicts when loading with `tf.keras.models.load_model`. If renaming is not possible, pass the object in the `custom_objects` parameter of the load function.\n",
            "WARNING:absl:<keras.layers.recurrent.LSTMCell object at 0x7fd0af1a5050> has the same name 'LSTMCell' as a built-in Keras object. Consider renaming <class 'keras.layers.recurrent.LSTMCell'> to avoid naming conflicts when loading with `tf.keras.models.load_model`. If renaming is not possible, pass the object in the `custom_objects` parameter of the load function.\n"
          ]
        },
        {
          "output_type": "stream",
          "name": "stdout",
          "text": [
            "\b\b\b\b\b\b\b\b\b\b\b\b\b\b\b\b\b\b\b\b\b\b\b\b\b\b\b\b\b\b\b\b\b\b\b\b\b\b\b\b\b\b\b\b\b\b\b\b\b\b\b\b\b\b\b\b\b\b\b\b\b\b\b\b\b\b\b\b\b\b\b\b\b\b\b\b\b\b\b\b\b\b\b\b\b\b\b\b\b\b\b\b\b\b\b\b\b\b\b\b\b\b\b\b\b\b\b\b\b\b\b\b\r320/320 [==============================] - 44s 138ms/step - loss: 0.3140 - accuracy: 0.8939 - mse: 0.0884 - mae: 0.1660 - val_loss: 0.8342 - val_accuracy: 0.8094 - val_mse: 0.1854 - val_mae: 0.1975\n",
            "Epoch 3/50\n",
            "320/320 [==============================] - ETA: 0s - loss: 0.3178 - accuracy: 0.8955 - mse: 0.0874 - mae: 0.1695"
          ]
        },
        {
          "output_type": "stream",
          "name": "stderr",
          "text": [
            "WARNING:absl:Found untraced functions such as lstm_cell_2_layer_call_fn, lstm_cell_2_layer_call_and_return_conditional_losses, lstm_cell_3_layer_call_fn, lstm_cell_3_layer_call_and_return_conditional_losses while saving (showing 4 of 4). These functions will not be directly callable after loading.\n"
          ]
        },
        {
          "output_type": "stream",
          "name": "stdout",
          "text": [
            "INFO:tensorflow:Assets written to: mf_model_tuned/model_checkpoints/assets\n"
          ]
        },
        {
          "output_type": "stream",
          "name": "stderr",
          "text": [
            "INFO:tensorflow:Assets written to: mf_model_tuned/model_checkpoints/assets\n",
            "WARNING:absl:<keras.layers.recurrent.LSTMCell object at 0x7fd08e79a190> has the same name 'LSTMCell' as a built-in Keras object. Consider renaming <class 'keras.layers.recurrent.LSTMCell'> to avoid naming conflicts when loading with `tf.keras.models.load_model`. If renaming is not possible, pass the object in the `custom_objects` parameter of the load function.\n",
            "WARNING:absl:<keras.layers.recurrent.LSTMCell object at 0x7fd0af1a5050> has the same name 'LSTMCell' as a built-in Keras object. Consider renaming <class 'keras.layers.recurrent.LSTMCell'> to avoid naming conflicts when loading with `tf.keras.models.load_model`. If renaming is not possible, pass the object in the `custom_objects` parameter of the load function.\n"
          ]
        },
        {
          "output_type": "stream",
          "name": "stdout",
          "text": [
            "\b\b\b\b\b\b\b\b\b\b\b\b\b\b\b\b\b\b\b\b\b\b\b\b\b\b\b\b\b\b\b\b\b\b\b\b\b\b\b\b\b\b\b\b\b\b\b\b\b\b\b\b\b\b\b\b\b\b\b\b\b\b\b\b\b\b\b\b\b\b\b\b\b\b\b\b\b\b\b\b\b\b\b\b\b\b\b\b\b\b\b\b\b\b\b\b\b\b\b\b\b\b\b\b\b\b\b\b\b\b\b\b\r320/320 [==============================] - 43s 135ms/step - loss: 0.3178 - accuracy: 0.8955 - mse: 0.0874 - mae: 0.1695 - val_loss: 0.6623 - val_accuracy: 0.8094 - val_mse: 0.1776 - val_mae: 0.2082\n",
            "Epoch 4/50\n",
            "320/320 [==============================] - 36s 112ms/step - loss: 0.2930 - accuracy: 0.9015 - mse: 0.0804 - mae: 0.1598 - val_loss: 0.7011 - val_accuracy: 0.8094 - val_mse: 0.1799 - val_mae: 0.2059\n",
            "Epoch 5/50\n",
            "320/320 [==============================] - ETA: 0s - loss: 0.2747 - accuracy: 0.9212 - mse: 0.0734 - mae: 0.1508"
          ]
        },
        {
          "output_type": "stream",
          "name": "stderr",
          "text": [
            "WARNING:absl:Found untraced functions such as lstm_cell_2_layer_call_fn, lstm_cell_2_layer_call_and_return_conditional_losses, lstm_cell_3_layer_call_fn, lstm_cell_3_layer_call_and_return_conditional_losses while saving (showing 4 of 4). These functions will not be directly callable after loading.\n"
          ]
        },
        {
          "output_type": "stream",
          "name": "stdout",
          "text": [
            "INFO:tensorflow:Assets written to: mf_model_tuned/model_checkpoints/assets\n"
          ]
        },
        {
          "output_type": "stream",
          "name": "stderr",
          "text": [
            "INFO:tensorflow:Assets written to: mf_model_tuned/model_checkpoints/assets\n",
            "WARNING:absl:<keras.layers.recurrent.LSTMCell object at 0x7fd08e79a190> has the same name 'LSTMCell' as a built-in Keras object. Consider renaming <class 'keras.layers.recurrent.LSTMCell'> to avoid naming conflicts when loading with `tf.keras.models.load_model`. If renaming is not possible, pass the object in the `custom_objects` parameter of the load function.\n",
            "WARNING:absl:<keras.layers.recurrent.LSTMCell object at 0x7fd0af1a5050> has the same name 'LSTMCell' as a built-in Keras object. Consider renaming <class 'keras.layers.recurrent.LSTMCell'> to avoid naming conflicts when loading with `tf.keras.models.load_model`. If renaming is not possible, pass the object in the `custom_objects` parameter of the load function.\n"
          ]
        },
        {
          "output_type": "stream",
          "name": "stdout",
          "text": [
            "\b\b\b\b\b\b\b\b\b\b\b\b\b\b\b\b\b\b\b\b\b\b\b\b\b\b\b\b\b\b\b\b\b\b\b\b\b\b\b\b\b\b\b\b\b\b\b\b\b\b\b\b\b\b\b\b\b\b\b\b\b\b\b\b\b\b\b\b\b\b\b\b\b\b\b\b\b\b\b\b\b\b\b\b\b\b\b\b\b\b\b\b\b\b\b\b\b\b\b\b\b\b\b\b\b\b\b\b\b\b\b\b\r320/320 [==============================] - 43s 133ms/step - loss: 0.2747 - accuracy: 0.9212 - mse: 0.0734 - mae: 0.1508 - val_loss: 0.6621 - val_accuracy: 0.8094 - val_mse: 0.1762 - val_mae: 0.2059\n",
            "Epoch 6/50\n",
            "320/320 [==============================] - ETA: 0s - loss: 0.3108 - accuracy: 0.8898 - mse: 0.0889 - mae: 0.1700"
          ]
        },
        {
          "output_type": "stream",
          "name": "stderr",
          "text": [
            "WARNING:absl:Found untraced functions such as lstm_cell_2_layer_call_fn, lstm_cell_2_layer_call_and_return_conditional_losses, lstm_cell_3_layer_call_fn, lstm_cell_3_layer_call_and_return_conditional_losses while saving (showing 4 of 4). These functions will not be directly callable after loading.\n"
          ]
        },
        {
          "output_type": "stream",
          "name": "stdout",
          "text": [
            "INFO:tensorflow:Assets written to: mf_model_tuned/model_checkpoints/assets\n"
          ]
        },
        {
          "output_type": "stream",
          "name": "stderr",
          "text": [
            "INFO:tensorflow:Assets written to: mf_model_tuned/model_checkpoints/assets\n",
            "WARNING:absl:<keras.layers.recurrent.LSTMCell object at 0x7fd08e79a190> has the same name 'LSTMCell' as a built-in Keras object. Consider renaming <class 'keras.layers.recurrent.LSTMCell'> to avoid naming conflicts when loading with `tf.keras.models.load_model`. If renaming is not possible, pass the object in the `custom_objects` parameter of the load function.\n",
            "WARNING:absl:<keras.layers.recurrent.LSTMCell object at 0x7fd0af1a5050> has the same name 'LSTMCell' as a built-in Keras object. Consider renaming <class 'keras.layers.recurrent.LSTMCell'> to avoid naming conflicts when loading with `tf.keras.models.load_model`. If renaming is not possible, pass the object in the `custom_objects` parameter of the load function.\n"
          ]
        },
        {
          "output_type": "stream",
          "name": "stdout",
          "text": [
            "\b\b\b\b\b\b\b\b\b\b\b\b\b\b\b\b\b\b\b\b\b\b\b\b\b\b\b\b\b\b\b\b\b\b\b\b\b\b\b\b\b\b\b\b\b\b\b\b\b\b\b\b\b\b\b\b\b\b\b\b\b\b\b\b\b\b\b\b\b\b\b\b\b\b\b\b\b\b\b\b\b\b\b\b\b\b\b\b\b\b\b\b\b\b\b\b\b\b\b\b\b\b\b\b\b\b\b\b\b\b\b\b\r320/320 [==============================] - 44s 138ms/step - loss: 0.3108 - accuracy: 0.8898 - mse: 0.0889 - mae: 0.1700 - val_loss: 0.5698 - val_accuracy: 0.8094 - val_mse: 0.1627 - val_mae: 0.2180\n",
            "Epoch 7/50\n",
            "320/320 [==============================] - 36s 112ms/step - loss: 0.3012 - accuracy: 0.8945 - mse: 0.0864 - mae: 0.1654 - val_loss: 0.6941 - val_accuracy: 0.8094 - val_mse: 0.1754 - val_mae: 0.2038\n",
            "Epoch 8/50\n",
            "320/320 [==============================] - 36s 112ms/step - loss: 0.2860 - accuracy: 0.8882 - mse: 0.0800 - mae: 0.1586 - val_loss: 0.6072 - val_accuracy: 0.8094 - val_mse: 0.1644 - val_mae: 0.2132\n",
            "Epoch 9/50\n",
            "320/320 [==============================] - 35s 110ms/step - loss: 0.2660 - accuracy: 0.8995 - mse: 0.0736 - mae: 0.1473 - val_loss: 0.6641 - val_accuracy: 0.8094 - val_mse: 0.1761 - val_mae: 0.2072\n",
            "Epoch 10/50\n",
            "320/320 [==============================] - 35s 110ms/step - loss: 0.2578 - accuracy: 0.9184 - mse: 0.0698 - mae: 0.1399 - val_loss: 0.6762 - val_accuracy: 0.8093 - val_mse: 0.1778 - val_mae: 0.2078\n",
            "Epoch 11/50\n",
            "320/320 [==============================] - 35s 110ms/step - loss: 0.2364 - accuracy: 0.9318 - mse: 0.0624 - mae: 0.1291 - val_loss: 0.6927 - val_accuracy: 0.8076 - val_mse: 0.1793 - val_mae: 0.2053\n",
            "Epoch 11: early stopping\n"
          ]
        },
        {
          "output_type": "display_data",
          "data": {
            "text/plain": [
              "<Figure size 576x360 with 1 Axes>"
            ],
            "image/png": "[encoded data removed]"
          },
          "metadata": {
            "needs_background": "light"
          }
        },
        {
          "output_type": "execute_result",
          "data": {
            "text/plain": [
              "<keras.callbacks.History at 0x7fd0af235e10>"
            ]
          },
          "metadata": {},
          "execution_count": 77
        }
      ],
      "source": [
        "tuned_model_mf.fit()"
      ]
    },
    {
      "cell_type": "code",
      "execution_count": 78,
      "metadata": {
        "id": "c_t7j9lDfCz1"
      },
      "outputs": [],
      "source": [
        "tuned_model_mf.save_model(tuned_model_mf.model)"
      ]
    },
    {
      "cell_type": "code",
      "execution_count": 79,
      "metadata": {
        "id": "OovIefUyNDtv"
      },
      "outputs": [],
      "source": [
        "# Form batches (does not shuffle, cuts off remainder)\n",
        "batched_2015_mf_tuned = tuned_model_mf.batch_prefetch_data(data2015_mf,split_data=False)\n",
        "# Cutoff matching remainder from labels\n",
        "true_labels_mf_tuned = labels2015_mf[:-(labels2015_mf.shape[0]%tuned_model_mf.batch_size)]"
      ]
    },
    {
      "cell_type": "code",
      "execution_count": 80,
      "metadata": {
        "colab": {
          "base_uri": "https://localhost:8080/",
          "height": 290
        },
        "id": "Dyx83sDtNDtv",
        "outputId": "7aa69ec5-f3c5-4916-94e0-6fac5077a84c"
      },
      "outputs": [
        {
          "output_type": "display_data",
          "data": {
            "text/plain": [
              "<Figure size 432x288 with 2 Axes>"
            ],
            "image/png": "[encoded data removed]"
          },
          "metadata": {
            "needs_background": "light"
          }
        }
      ],
      "source": [
        "conf_matrix = tuned_model_mf.predict_conf_matrix(batched_2015_mf_tuned,true_labels_mf_tuned,make_plots=True)"
      ]
    },
    {
      "cell_type": "code",
      "execution_count": 81,
      "metadata": {
        "colab": {
          "base_uri": "https://localhost:8080/",
          "height": 81
        },
        "id": "gaE8NLvAtsrz",
        "outputId": "01f1089e-e13a-4fec-e1a4-60c64376603a"
      },
      "outputs": [
        {
          "output_type": "execute_result",
          "data": {
            "text/plain": [
              "   precision    recall       far       hss\n",
              "0   0.988152  0.837676  0.663423  0.029283"
            ],
            "text/html": [
              "\n",
              "  <div id=\"df-3bbaf560-5e82-4c23-b2eb-361a71dd1f9b\">\n",
              "    <div class=\"colab-df-container\">\n",
              "      <div>\n",
              "<style scoped>\n",
              "    .dataframe tbody tr th:only-of-type {\n",
              "        vertical-align: middle;\n",
              "    }\n",
              "\n",
              "    .dataframe tbody tr th {\n",
              "        vertical-align: top;\n",
              "    }\n",
              "\n",
              "    .dataframe thead th {\n",
              "        text-align: right;\n",
              "    }\n",
              "</style>\n",
              "<table border=\"1\" class=\"dataframe\">\n",
              "  <thead>\n",
              "    <tr style=\"text-align: right;\">\n",
              "      <th></th>\n",
              "      <th>precision</th>\n",
              "      <th>recall</th>\n",
              "      <th>far</th>\n",
              "      <th>hss</th>\n",
              "    </tr>\n",
              "  </thead>\n",
              "  <tbody>\n",
              "    <tr>\n",
              "      <th>0</th>\n",
              "      <td>0.988152</td>\n",
              "      <td>0.837676</td>\n",
              "      <td>0.663423</td>\n",
              "      <td>0.029283</td>\n",
              "    </tr>\n",
              "  </tbody>\n",
              "</table>\n",
              "</div>\n",
              "      <button class=\"colab-df-convert\" onclick=\"convertToInteractive('df-3bbaf560-5e82-4c23-b2eb-361a71dd1f9b')\"\n",
              "              title=\"Convert this dataframe to an interactive table.\"\n",
              "              style=\"display:none;\">\n",
              "        \n",
              "  <svg xmlns=\"http://www.w3.org/2000/svg\" height=\"24px\"viewBox=\"0 0 24 24\"\n",
              "       width=\"24px\">\n",
              "    <path d=\"M0 0h24v24H0V0z\" fill=\"none\"/>\n",
              "    <path d=\"M18.56 5.44l.94 2.06.94-2.06 2.06-.94-2.06-.94-.94-2.06-.94 2.06-2.06.94zm-11 1L8.5 8.5l.94-2.06 2.06-.94-2.06-.94L8.5 2.5l-.94 2.06-2.06.94zm10 10l.94 2.06.94-2.06 2.06-.94-2.06-.94-.94-2.06-.94 2.06-2.06.94z\"/><path d=\"M17.41 7.96l-1.37-1.37c-.4-.4-.92-.59-1.43-.59-.52 0-1.04.2-1.43.59L10.3 9.45l-7.72 7.72c-.78.78-.78 2.05 0 2.83L4 21.41c.39.39.9.59 1.41.59.51 0 1.02-.2 1.41-.59l7.78-7.78 2.81-2.81c.8-.78.8-2.07 0-2.86zM5.41 20L4 18.59l7.72-7.72 1.47 1.35L5.41 20z\"/>\n",
              "  </svg>\n",
              "      </button>\n",
              "      \n",
              "  <style>\n",
              "    .colab-df-container {\n",
              "      display:flex;\n",
              "      flex-wrap:wrap;\n",
              "      gap: 12px;\n",
              "    }\n",
              "\n",
              "    .colab-df-convert {\n",
              "      background-color: #E8F0FE;\n",
              "      border: none;\n",
              "      border-radius: 50%;\n",
              "      cursor: pointer;\n",
              "      display: none;\n",
              "      fill: #1967D2;\n",
              "      height: 32px;\n",
              "      padding: 0 0 0 0;\n",
              "      width: 32px;\n",
              "    }\n",
              "\n",
              "    .colab-df-convert:hover {\n",
              "      background-color: #E2EBFA;\n",
              "      box-shadow: 0px 1px 2px rgba(60, 64, 67, 0.3), 0px 1px 3px 1px rgba(60, 64, 67, 0.15);\n",
              "      fill: #174EA6;\n",
              "    }\n",
              "\n",
              "    [theme=dark] .colab-df-convert {\n",
              "      background-color: #3B4455;\n",
              "      fill: #D2E3FC;\n",
              "    }\n",
              "\n",
              "    [theme=dark] .colab-df-convert:hover {\n",
              "      background-color: #434B5C;\n",
              "      box-shadow: 0px 1px 3px 1px rgba(0, 0, 0, 0.15);\n",
              "      filter: drop-shadow(0px 1px 2px rgba(0, 0, 0, 0.3));\n",
              "      fill: #FFFFFF;\n",
              "    }\n",
              "  </style>\n",
              "\n",
              "      <script>\n",
              "        const buttonEl =\n",
              "          document.querySelector('#df-3bbaf560-5e82-4c23-b2eb-361a71dd1f9b button.colab-df-convert');\n",
              "        buttonEl.style.display =\n",
              "          google.colab.kernel.accessAllowed ? 'block' : 'none';\n",
              "\n",
              "        async function convertToInteractive(key) {\n",
              "          const element = document.querySelector('#df-3bbaf560-5e82-4c23-b2eb-361a71dd1f9b');\n",
              "          const dataTable =\n",
              "            await google.colab.kernel.invokeFunction('convertToInteractive',\n",
              "                                                     [key], {});\n",
              "          if (!dataTable) return;\n",
              "\n",
              "          const docLinkHtml = 'Like what you see? Visit the ' +\n",
              "            '<a target=\"_blank\" href=https://colab.research.google.com/notebooks/data_table.ipynb>data table notebook</a>'\n",
              "            + ' to learn more about interactive tables.';\n",
              "          element.innerHTML = '';\n",
              "          dataTable['output_type'] = 'display_data';\n",
              "          await google.colab.output.renderOutput(dataTable, element);\n",
              "          const docLink = document.createElement('div');\n",
              "          docLink.innerHTML = docLinkHtml;\n",
              "          element.appendChild(docLink);\n",
              "        }\n",
              "      </script>\n",
              "    </div>\n",
              "  </div>\n",
              "  "
            ]
          },
          "metadata": {},
          "execution_count": 81
        }
      ],
      "source": [
        "tuned_model_mf.calculate_statistics(conf_matrix)"
      ]
    },
    {
      "cell_type": "code",
      "execution_count": 82,
      "metadata": {
        "colab": {
          "base_uri": "https://localhost:8080/"
        },
        "id": "K8-6Cl53W8oF",
        "outputId": "b5554fab-0931-4f3f-ed56-541fc66ace36"
      },
      "outputs": [
        {
          "output_type": "stream",
          "name": "stdout",
          "text": [
            "Model: \"sequential_1\"\n",
            "_________________________________________________________________\n",
            " Layer (type)                Output Shape              Param #   \n",
            "=================================================================\n",
            " lstm_2 (LSTM)               (64, 120, 64)             22784     \n",
            "                                                                 \n",
            " lstm_3 (LSTM)               (64, 120, 64)             33024     \n",
            "                                                                 \n",
            " dropout_1 (Dropout)         (64, 120, 64)             0         \n",
            "                                                                 \n",
            " dense_1 (Dense)             (64, 120, 1)              65        \n",
            "                                                                 \n",
            "=================================================================\n",
            "Total params: 55,873\n",
            "Trainable params: 55,873\n",
            "Non-trainable params: 0\n",
            "_________________________________________________________________\n"
          ]
        }
      ],
      "source": [
        "tuned_model_mf.model.summary()"
      ]
    },
    {
      "cell_type": "code",
      "execution_count": 83,
      "metadata": {
        "colab": {
          "base_uri": "https://localhost:8080/",
          "height": 336
        },
        "id": "7ab_T1aSfCz3",
        "outputId": "d191dd86-6724-4226-96cd-f22c8297b0ea"
      },
      "outputs": [
        {
          "output_type": "stream",
          "name": "stderr",
          "text": [
            "/content/prediction_LSTM.py:219: VisibleDeprecationWarning: Creating an ndarray from ragged nested sequences (which is a list-or-tuple of lists-or-tuples-or ndarrays with different lengths or shapes) is deprecated. If you meant to do this, you must specify 'dtype=object' when creating the ndarray.\n",
            "  plt.boxplot(np.array([true_positive_logits, false_positive_logits]),\n"
          ]
        },
        {
          "output_type": "display_data",
          "data": {
            "text/plain": [
              "<Figure size 432x288 with 1 Axes>"
            ],
            "image/png": "[encoded data removed]"
          },
          "metadata": {
            "needs_background": "light"
          }
        }
      ],
      "source": [
        "tp_tuned_mf, fp_tuned_mf = mf_model.view_prediction_distributions(true_labels=true_labels_mf_tuned,data=batched_2015_mf_tuned)"
      ]
    },
    {
      "cell_type": "code",
      "execution_count": 84,
      "metadata": {
        "id": "o8vz4Ru972q9"
      },
      "outputs": [],
      "source": [
        "keras.backend.clear_session()"
      ]
    },
    {
      "cell_type": "code",
      "source": [
        "shutil.rmtree('/content/untitled_project')"
      ],
      "metadata": {
        "id": "MoGdih77_Gzv"
      },
      "execution_count": 85,
      "outputs": []
    },
    {
      "cell_type": "markdown",
      "metadata": {
        "id": "pVmLjpZYhDub"
      },
      "source": [
        "# Feature Selection Model"
      ]
    },
    {
      "cell_type": "code",
      "execution_count": 86,
      "metadata": {
        "id": "3Fc6kB1cI53t",
        "colab": {
          "base_uri": "https://localhost:8080/"
        },
        "outputId": "a34b0708-9989-41f0-faf5-c5258a5c7b20"
      },
      "outputs": [
        {
          "output_type": "stream",
          "name": "stdout",
          "text": [
            "Num GB used in data array: 0.0006008148193359375\n",
            "Num GB used in data array: 0.0008475780487060547\n",
            "Num GB used in data array: 0.001963376998901367\n",
            "Num GB used in data array: 0.003701448440551758\n",
            "Num GB used in data array: 0.004388093948364258\n",
            "Num GB used in data array: 0.004903078079223633\n",
            "Num GB used in data array: 0.005300045013427734\n",
            "Num GB used in data array: 0.0072634220123291016\n",
            "Num GB used in data array: 0.007381439208984375\n",
            "Num GB used in data array: 0.008465051651000977\n",
            "Num GB used in data array: 0.009065866470336914\n",
            "Num GB used in data array: 0.012778043746948242\n",
            "Num GB used in data array: 0.01337885856628418\n",
            "Num GB used in data array: 0.015106201171875\n",
            "Num GB used in data array: 0.017713308334350586\n",
            "Num GB used in data array: 0.018045902252197266\n",
            "Num GB used in data array: 0.03292679786682129\n",
            "Num GB used in data array: 0.034461021423339844\n",
            "Num GB used in data array: 0.03457903861999512\n",
            "Num GB used in data array: 0.03464341163635254\n",
            "Num GB used in data array: 0.03508329391479492\n",
            "Num GB used in data array: 0.03568410873413086\n",
            "Num GB used in data array: 0.03636002540588379\n",
            "Num GB used in data array: 0.040018558502197266\n",
            "Num GB used in data array: 0.04024386405944824\n",
            "Num GB used in data array: 0.04084467887878418\n",
            "Num GB used in data array: 0.04144549369812012\n",
            "Num GB used in data array: 0.04215359687805176\n",
            "Num GB used in data array: 0.042754411697387695\n",
            "Num GB used in data array: 0.04335522651672363\n",
            "Num GB used in data array: 0.04395604133605957\n",
            "Num GB used in data array: 0.048558712005615234\n",
            "Num GB used in data array: 0.04915952682495117\n",
            "Num GB used in data array: 0.0495457649230957\n",
            "Num GB used in data array: 0.04971742630004883\n",
            "Num GB used in data array: 0.0516057014465332\n",
            "Num GB used in data array: 0.05251765251159668\n",
            "Num GB used in data array: 0.05292534828186035\n",
            "Num GB used in data array: 0.053000450134277344\n",
            "Num GB used in data array: 0.05606889724731445\n",
            "Num GB used in data array: 0.0561976432800293\n",
            "Num GB used in data array: 0.05970597267150879\n",
            "Num GB used in data array: 0.06067156791687012\n",
            "Num GB used in data array: 0.06394386291503906\n",
            "Num GB used in data array: 0.06886839866638184\n",
            "Num GB used in data array: 0.08271932601928711\n",
            "Num GB used in data array: 0.09527206420898438\n",
            "Num GB used in data array: 0.09794354438781738\n",
            "Num GB used in data array: 0.09816884994506836\n",
            "Num GB used in data array: 0.09832978248596191\n",
            "Num GB used in data array: 0.09836196899414062\n",
            "Num GB used in data array: 0.10431647300720215\n",
            "Num GB used in data array: 0.10488510131835938\n",
            "Num GB used in data array: 0.10943412780761719\n",
            "Num GB used in data array: 0.10972380638122559\n",
            "Num GB used in data array: 0.10987401008605957\n",
            "Num GB used in data array: 0.11148333549499512\n",
            "Num GB used in data array: 0.11542081832885742\n",
            "Num GB used in data array: 0.12581706047058105\n",
            "Num GB used in data array: 0.12752294540405273\n",
            "Num GB used in data array: 0.13744711875915527\n",
            "Num GB used in data array: 0.14685630798339844\n",
            "Num GB used in data array: 0.1574993133544922\n",
            "Num GB used in data array: 0.18210053443908691\n",
            "Num GB used in data array: 0.1961982250213623\n",
            "Num GB used in data array: 0.2031397819519043\n",
            "Num GB used in data array: 0.2111220359802246\n",
            "Num GB used in data array: 0.21139025688171387\n",
            "Num GB used in data array: 0.21280646324157715\n",
            "Num GB used in data array: 0.2131819725036621\n",
            "Num GB used in data array: 0.21916866302490234\n",
            "Num GB used in data array: 0.22357821464538574\n",
            "Num GB used in data array: 0.22396445274353027\n",
            "Num GB used in data array: 0.2277839183807373\n",
            "Num GB used in data array: 0.24204254150390625\n",
            "Num GB used in data array: 0.24615168571472168\n",
            "Num GB used in data array: 0.26726603507995605\n",
            "Num GB used in data array: 0.2705061435699463\n",
            "Num GB used in data array: 0.27059197425842285\n",
            "Num GB used in data array: 0.2707099914550781\n",
            "Num GB used in data array: 0.2708280086517334\n",
            "Num GB used in data array: 0.27132153511047363\n",
            "Num GB used in data array: 0.2716541290283203\n",
            "Num GB used in data array: 0.2718043327331543\n",
            "Num GB used in data array: 0.27246952056884766\n",
            "Num GB used in data array: 0.27518391609191895\n"
          ]
        }
      ],
      "source": [
        "if rebuild_data:\n",
        "    with open(\"/content/all_data.pkl\", \"rb\") as file:\n",
        "        data = pickle.load(file)\n",
        "    DataSelection(data, 2014, \"./fs/\", feature_selection=True, use_all=False)"
      ]
    },
    {
      "cell_type": "code",
      "execution_count": 87,
      "metadata": {
        "colab": {
          "base_uri": "https://localhost:8080/"
        },
        "id": "jMLlvKP-hG97",
        "outputId": "fc29e4ab-db1c-4564-a9d7-ef5badb6fbcf"
      },
      "outputs": [
        {
          "output_type": "stream",
          "name": "stdout",
          "text": [
            "Num GB used in data array: 0.0006008148193359375\n",
            "Num GB used in data array: 0.0009870529174804688\n",
            "Num GB used in data array: 0.003465414047241211\n",
            "Num GB used in data array: 0.005525350570678711\n",
            "Num GB used in data array: 0.007628202438354492\n",
            "Num GB used in data array: 0.009924173355102539\n",
            "Num GB used in data array: 0.010524988174438477\n",
            "Num GB used in data array: 0.011125802993774414\n",
            "Num GB used in data array: 0.014623403549194336\n",
            "Num GB used in data array: 0.01474142074584961\n",
            "Num GB used in data array: 0.015031099319458008\n",
            "Num GB used in data array: 0.01855015754699707\n",
            "Num GB used in data array: 0.019150972366333008\n",
            "Num GB used in data array: 0.019429922103881836\n",
            "Num GB used in data array: 0.02233743667602539\n",
            "Num GB used in data array: 0.02267003059387207\n",
            "Num GB used in data array: 0.03632783889770508\n",
            "Num GB used in data array: 0.03875255584716797\n",
            "Num GB used in data array: 0.03983616828918457\n",
            "Num GB used in data array: 0.03990054130554199\n",
            "Num GB used in data array: 0.04019021987915039\n",
            "Num GB used in data array: 0.040340423583984375\n",
            "Num GB used in data array: 0.042775869369506836\n",
            "Num GB used in data array: 0.043473243713378906\n",
            "Num GB used in data array: 0.04494309425354004\n",
            "Num GB used in data array: 0.04739999771118164\n",
            "Num GB used in data array: 0.05635857582092285\n",
            "Num GB used in data array: 0.07331013679504395\n",
            "Num GB used in data array: 0.07647514343261719\n",
            "Num GB used in data array: 0.07691502571105957\n",
            "Num GB used in data array: 0.07707595825195312\n",
            "Num GB used in data array: 0.08452177047729492\n",
            "Num GB used in data array: 0.08635640144348145\n",
            "Num GB used in data array: 0.09290099143981934\n",
            "Num GB used in data array: 0.09535789489746094\n",
            "Num GB used in data array: 0.09757876396179199\n",
            "Num GB used in data array: 0.09959578514099121\n",
            "Num GB used in data array: 0.10178446769714355\n",
            "Num GB used in data array: 0.10193467140197754\n",
            "Num GB used in data array: 0.1020205020904541\n",
            "Num GB used in data array: 0.10972380638122559\n",
            "Num GB used in data array: 0.11030316352844238\n",
            "Num GB used in data array: 0.11579632759094238\n",
            "Num GB used in data array: 0.12237310409545898\n",
            "Num GB used in data array: 0.13662099838256836\n",
            "Num GB used in data array: 0.16004204750061035\n",
            "Num GB used in data array: 0.17594218254089355\n",
            "Num GB used in data array: 0.1844179630279541\n",
            "Num GB used in data array: 0.18906354904174805\n",
            "Num GB used in data array: 0.1893317699432373\n",
            "Num GB used in data array: 0.19072651863098145\n",
            "Num GB used in data array: 0.19165992736816406\n",
            "Num GB used in data array: 0.1997387409210205\n",
            "Num GB used in data array: 0.20645499229431152\n",
            "Num GB used in data array: 0.20723819732666016\n",
            "Num GB used in data array: 0.21366477012634277\n",
            "Num GB used in data array: 0.21390080451965332\n",
            "Num GB used in data array: 0.23647427558898926\n",
            "Num GB used in data array: 0.24596929550170898\n",
            "Num GB used in data array: 0.2782416343688965\n",
            "Num GB used in data array: 0.2816641330718994\n",
            "Num GB used in data array: 0.282747745513916\n",
            "Num GB used in data array: 0.2853119373321533\n",
            "Num GB used in data array: 0.28768301010131836\n",
            "Num GB used in data array: 0.28948545455932617\n",
            "Num GB used in data array: 0.2907085418701172\n",
            "Num GB used in data array: 0.2917492389678955\n",
            "Num GB used in data array: 0.2928006649017334\n",
            "Num GB used in data array: 0.2932298183441162\n",
            "Num GB used in data array: 0.2933049201965332\n",
            "Num GB used in data array: 0.2937018871307373\n",
            "Num GB used in data array: 0.29639482498168945\n",
            "Num GB used in data array: 0.3056216239929199\n"
          ]
        }
      ],
      "source": [
        "if rebuild_data:\n",
        "    with open(\"./fs/norm_scaler.pkl\", \"rb\") as norm_file:\n",
        "        normalization = pickle.load(norm_file)\n",
        "\n",
        "    with open(\"./fs/stand_scaler.pkl\", \"rb\") as stand_file:\n",
        "        standard = pickle.load(stand_file)\n",
        "\n",
        "    DataSelection(data, 2015,\"./fs/\", feature_selection=True, use_all=False, norm_scaler=normalization, stand_scaler=standard)"
      ]
    },
    {
      "cell_type": "code",
      "execution_count": 88,
      "metadata": {
        "id": "8rKk8YO2hG97",
        "colab": {
          "base_uri": "https://localhost:8080/"
        },
        "outputId": "8f0f41a0-2dfb-43f7-f7db-a9328437f457"
      },
      "outputs": [
        {
          "output_type": "execute_result",
          "data": {
            "text/plain": [
              "(25649, 120, 12)"
            ]
          },
          "metadata": {},
          "execution_count": 88
        }
      ],
      "source": [
        "data2014_sf = np.load(\"./fs/data_2014.npy\")\n",
        "labels2014_sf = np.load(\"./fs/labels_2014.npy\")\n",
        "data2014_sf.shape"
      ]
    },
    {
      "cell_type": "code",
      "execution_count": 89,
      "metadata": {
        "colab": {
          "base_uri": "https://localhost:8080/"
        },
        "id": "Xolz75lMhG97",
        "outputId": "e623c16d-31c5-4961-ec19-23cdda868803"
      },
      "outputs": [
        {
          "output_type": "execute_result",
          "data": {
            "text/plain": [
              "(28486, 120, 12)"
            ]
          },
          "metadata": {},
          "execution_count": 89
        }
      ],
      "source": [
        "data2015_sf = np.load(\"./fs/data_2015.npy\")\n",
        "labels2015_sf = np.load(\"./fs/labels_2015.npy\")\n",
        "data2015_sf.shape"
      ]
    },
    {
      "cell_type": "code",
      "execution_count": 90,
      "metadata": {
        "colab": {
          "base_uri": "https://localhost:8080/"
        },
        "id": "uJOMus6HH7Ez",
        "outputId": "a75407f8-921e-422c-a3a4-9621520473b7"
      },
      "outputs": [
        {
          "output_type": "stream",
          "name": "stdout",
          "text": [
            "Model: \"sequential\"\n",
            "_________________________________________________________________\n",
            " Layer (type)                Output Shape              Param #   \n",
            "=================================================================\n",
            " lstm (LSTM)                 (64, 120, 16)             1856      \n",
            "                                                                 \n",
            " lstm_1 (LSTM)               (64, 120, 16)             2112      \n",
            "                                                                 \n",
            " dropout (Dropout)           (64, 120, 16)             0         \n",
            "                                                                 \n",
            " dense (Dense)               (64, 120, 1)              17        \n",
            "                                                                 \n",
            "=================================================================\n",
            "Total params: 3,985\n",
            "Trainable params: 3,985\n",
            "Non-trainable params: 0\n",
            "_________________________________________________________________\n"
          ]
        }
      ],
      "source": [
        "fs_model = SolarLSTM(data2014_sf, labels2014_sf, \"./fs_model/fs_model.h5\")\n",
        "fs_model.build_model()\n",
        "fs_model.model.summary()"
      ]
    },
    {
      "cell_type": "code",
      "execution_count": 91,
      "metadata": {
        "colab": {
          "base_uri": "https://localhost:8080/",
          "height": 703
        },
        "id": "PhW8KmUkH7Ez",
        "outputId": "ae1ff96b-1a86-466e-84bc-49422614566d"
      },
      "outputs": [
        {
          "output_type": "stream",
          "name": "stdout",
          "text": [
            "Epoch 1/50\n"
          ]
        },
        {
          "output_type": "stream",
          "name": "stderr",
          "text": [
            "/usr/local/lib/python3.7/dist-packages/tensorflow/python/util/dispatch.py:1082: UserWarning: \"`binary_crossentropy` received `from_logits=True`, but the `output` argument was produced by a sigmoid or softmax activation and thus does not represent logits. Was this intended?\"\n",
            "  return dispatch_target(*args, **kwargs)\n"
          ]
        },
        {
          "output_type": "stream",
          "name": "stdout",
          "text": [
            "320/320 [==============================] - ETA: 0s - loss: 0.3647 - accuracy: 0.8814 - mse: 0.1065 - mae: 0.2140"
          ]
        },
        {
          "output_type": "stream",
          "name": "stderr",
          "text": [
            "WARNING:absl:Found untraced functions such as lstm_cell_layer_call_fn, lstm_cell_layer_call_and_return_conditional_losses, lstm_cell_1_layer_call_fn, lstm_cell_1_layer_call_and_return_conditional_losses while saving (showing 4 of 4). These functions will not be directly callable after loading.\n"
          ]
        },
        {
          "output_type": "stream",
          "name": "stdout",
          "text": [
            "INFO:tensorflow:Assets written to: fs_model/model_checkpoints/assets\n"
          ]
        },
        {
          "output_type": "stream",
          "name": "stderr",
          "text": [
            "INFO:tensorflow:Assets written to: fs_model/model_checkpoints/assets\n",
            "WARNING:absl:<keras.layers.recurrent.LSTMCell object at 0x7fd0898be510> has the same name 'LSTMCell' as a built-in Keras object. Consider renaming <class 'keras.layers.recurrent.LSTMCell'> to avoid naming conflicts when loading with `tf.keras.models.load_model`. If renaming is not possible, pass the object in the `custom_objects` parameter of the load function.\n",
            "WARNING:absl:<keras.layers.recurrent.LSTMCell object at 0x7fd073805990> has the same name 'LSTMCell' as a built-in Keras object. Consider renaming <class 'keras.layers.recurrent.LSTMCell'> to avoid naming conflicts when loading with `tf.keras.models.load_model`. If renaming is not possible, pass the object in the `custom_objects` parameter of the load function.\n"
          ]
        },
        {
          "output_type": "stream",
          "name": "stdout",
          "text": [
            "\b\b\b\b\b\b\b\b\b\b\b\b\b\b\b\b\b\b\b\b\b\b\b\b\b\b\b\b\b\b\b\b\b\b\b\b\b\b\b\b\b\b\b\b\b\b\b\b\b\b\b\b\b\b\b\b\b\b\b\b\b\b\b\b\b\b\b\b\b\b\b\b\b\b\b\b\b\b\b\b\b\b\b\b\b\b\b\b\b\b\b\b\b\b\b\b\b\b\b\b\b\b\b\b\b\b\b\b\b\b\b\b\r320/320 [==============================] - 27s 74ms/step - loss: 0.3647 - accuracy: 0.8814 - mse: 0.1065 - mae: 0.2140 - val_loss: 0.6004 - val_accuracy: 0.8094 - val_mse: 0.1691 - val_mae: 0.2276\n",
            "Epoch 2/50\n",
            "320/320 [==============================] - 17s 53ms/step - loss: 0.2816 - accuracy: 0.8929 - mse: 0.0785 - mae: 0.1539 - val_loss: 0.6352 - val_accuracy: 0.7760 - val_mse: 0.1770 - val_mae: 0.2426\n",
            "Epoch 3/50\n",
            "320/320 [==============================] - 16s 51ms/step - loss: 0.2690 - accuracy: 0.9083 - mse: 0.0730 - mae: 0.1451 - val_loss: 0.6218 - val_accuracy: 0.7648 - val_mse: 0.1764 - val_mae: 0.2414\n",
            "Epoch 4/50\n",
            "320/320 [==============================] - 17s 52ms/step - loss: 0.2725 - accuracy: 0.9158 - mse: 0.0736 - mae: 0.1430 - val_loss: 0.6013 - val_accuracy: 0.7980 - val_mse: 0.1702 - val_mae: 0.2289\n",
            "Epoch 5/50\n",
            "320/320 [==============================] - 17s 54ms/step - loss: 0.2579 - accuracy: 0.9182 - mse: 0.0705 - mae: 0.1411 - val_loss: 0.6389 - val_accuracy: 0.7618 - val_mse: 0.1804 - val_mae: 0.2413\n",
            "Epoch 6/50\n",
            "320/320 [==============================] - 17s 54ms/step - loss: 0.2491 - accuracy: 0.9185 - mse: 0.0672 - mae: 0.1364 - val_loss: 0.6179 - val_accuracy: 0.8094 - val_mse: 0.1697 - val_mae: 0.2299\n",
            "Epoch 6: early stopping\n"
          ]
        },
        {
          "output_type": "display_data",
          "data": {
            "text/plain": [
              "<Figure size 576x360 with 1 Axes>"
            ],
            "image/png": "[encoded data removed]"
          },
          "metadata": {
            "needs_background": "light"
          }
        }
      ],
      "source": [
        "history=fs_model.fit()"
      ]
    },
    {
      "cell_type": "code",
      "execution_count": 92,
      "metadata": {
        "id": "w4KI_nlKH7E0"
      },
      "outputs": [],
      "source": [
        "fs_model.save_model(fs_model.model)"
      ]
    },
    {
      "cell_type": "code",
      "execution_count": 93,
      "metadata": {
        "colab": {
          "base_uri": "https://localhost:8080/"
        },
        "id": "WlHFi7BwH7E0",
        "outputId": "1bbab46b-c2a0-4bf7-8059-efa1b7bd67da"
      },
      "outputs": [
        {
          "output_type": "stream",
          "name": "stdout",
          "text": [
            "445/445 [==============================] - 7s 16ms/step - loss: 0.5386 - accuracy: 0.8355 - mse: 0.1490 - mae: 0.2149\n"
          ]
        },
        {
          "output_type": "execute_result",
          "data": {
            "text/plain": [
              "[0.5385933518409729,\n",
              " 0.8354939222335815,\n",
              " 0.14895488321781158,\n",
              " 0.2149001806974411]"
            ]
          },
          "metadata": {},
          "execution_count": 93
        }
      ],
      "source": [
        "fs_new = fs_model.batch_prefetch_data(data2015_sf,labels2015_sf,split_data=False)\n",
        "fs_model.evaluate(fs_new)\n",
        "#base_model.evaluate(data_new,labels_new)"
      ]
    },
    {
      "cell_type": "code",
      "execution_count": 94,
      "metadata": {
        "colab": {
          "base_uri": "https://localhost:8080/",
          "height": 290
        },
        "id": "AYTQhAV4H7E0",
        "outputId": "9b046c9a-8b8b-4fa6-fda0-66e6cf4196e4"
      },
      "outputs": [
        {
          "output_type": "display_data",
          "data": {
            "text/plain": [
              "<Figure size 432x288 with 2 Axes>"
            ],
            "image/png": "[encoded data removed]"
          },
          "metadata": {
            "needs_background": "light"
          }
        }
      ],
      "source": [
        "#Form batches (does not shuffle, cuts off remainder)\n",
        "batched_2015_sf = fs_model.batch_prefetch_data(data2015_sf,split_data=False)\n",
        "#Cutoff matching remainder from labels\n",
        "true_labels_sf = labels2015_sf[:-(labels2015_sf.shape[0] % fs_model.batch_size)]\n",
        "#Do predictions and get confusion matrix\n",
        "conf_matrix_sf = fs_model.predict_conf_matrix(batched_2015_sf,true_labels_sf,make_plots=True)"
      ]
    },
    {
      "cell_type": "code",
      "execution_count": 95,
      "metadata": {
        "colab": {
          "base_uri": "https://localhost:8080/"
        },
        "id": "xwjPtOezH7E1",
        "outputId": "436e60b2-0660-4e41-a0bd-c69d11682a3b"
      },
      "outputs": [
        {
          "output_type": "execute_result",
          "data": {
            "text/plain": [
              "array([[  75400,  488240],\n",
              "       [ 249728, 2604232]])"
            ]
          },
          "metadata": {},
          "execution_count": 95
        }
      ],
      "source": [
        "conf_matrix_sf"
      ]
    },
    {
      "cell_type": "code",
      "execution_count": 96,
      "metadata": {
        "colab": {
          "base_uri": "https://localhost:8080/",
          "height": 81
        },
        "id": "LVCT7C7fH7E1",
        "outputId": "4217474b-8d23-4cbe-b78f-56e1b165440c"
      },
      "outputs": [
        {
          "output_type": "execute_result",
          "data": {
            "text/plain": [
              "   precision   recall       far       hss\n",
              "0   0.912498  0.84212  0.768091  0.056943"
            ],
            "text/html": [
              "\n",
              "  <div id=\"df-ff5e7c94-3dfe-4356-b354-2d048f67c6e7\">\n",
              "    <div class=\"colab-df-container\">\n",
              "      <div>\n",
              "<style scoped>\n",
              "    .dataframe tbody tr th:only-of-type {\n",
              "        vertical-align: middle;\n",
              "    }\n",
              "\n",
              "    .dataframe tbody tr th {\n",
              "        vertical-align: top;\n",
              "    }\n",
              "\n",
              "    .dataframe thead th {\n",
              "        text-align: right;\n",
              "    }\n",
              "</style>\n",
              "<table border=\"1\" class=\"dataframe\">\n",
              "  <thead>\n",
              "    <tr style=\"text-align: right;\">\n",
              "      <th></th>\n",
              "      <th>precision</th>\n",
              "      <th>recall</th>\n",
              "      <th>far</th>\n",
              "      <th>hss</th>\n",
              "    </tr>\n",
              "  </thead>\n",
              "  <tbody>\n",
              "    <tr>\n",
              "      <th>0</th>\n",
              "      <td>0.912498</td>\n",
              "      <td>0.84212</td>\n",
              "      <td>0.768091</td>\n",
              "      <td>0.056943</td>\n",
              "    </tr>\n",
              "  </tbody>\n",
              "</table>\n",
              "</div>\n",
              "      <button class=\"colab-df-convert\" onclick=\"convertToInteractive('df-ff5e7c94-3dfe-4356-b354-2d048f67c6e7')\"\n",
              "              title=\"Convert this dataframe to an interactive table.\"\n",
              "              style=\"display:none;\">\n",
              "        \n",
              "  <svg xmlns=\"http://www.w3.org/2000/svg\" height=\"24px\"viewBox=\"0 0 24 24\"\n",
              "       width=\"24px\">\n",
              "    <path d=\"M0 0h24v24H0V0z\" fill=\"none\"/>\n",
              "    <path d=\"M18.56 5.44l.94 2.06.94-2.06 2.06-.94-2.06-.94-.94-2.06-.94 2.06-2.06.94zm-11 1L8.5 8.5l.94-2.06 2.06-.94-2.06-.94L8.5 2.5l-.94 2.06-2.06.94zm10 10l.94 2.06.94-2.06 2.06-.94-2.06-.94-.94-2.06-.94 2.06-2.06.94z\"/><path d=\"M17.41 7.96l-1.37-1.37c-.4-.4-.92-.59-1.43-.59-.52 0-1.04.2-1.43.59L10.3 9.45l-7.72 7.72c-.78.78-.78 2.05 0 2.83L4 21.41c.39.39.9.59 1.41.59.51 0 1.02-.2 1.41-.59l7.78-7.78 2.81-2.81c.8-.78.8-2.07 0-2.86zM5.41 20L4 18.59l7.72-7.72 1.47 1.35L5.41 20z\"/>\n",
              "  </svg>\n",
              "      </button>\n",
              "      \n",
              "  <style>\n",
              "    .colab-df-container {\n",
              "      display:flex;\n",
              "      flex-wrap:wrap;\n",
              "      gap: 12px;\n",
              "    }\n",
              "\n",
              "    .colab-df-convert {\n",
              "      background-color: #E8F0FE;\n",
              "      border: none;\n",
              "      border-radius: 50%;\n",
              "      cursor: pointer;\n",
              "      display: none;\n",
              "      fill: #1967D2;\n",
              "      height: 32px;\n",
              "      padding: 0 0 0 0;\n",
              "      width: 32px;\n",
              "    }\n",
              "\n",
              "    .colab-df-convert:hover {\n",
              "      background-color: #E2EBFA;\n",
              "      box-shadow: 0px 1px 2px rgba(60, 64, 67, 0.3), 0px 1px 3px 1px rgba(60, 64, 67, 0.15);\n",
              "      fill: #174EA6;\n",
              "    }\n",
              "\n",
              "    [theme=dark] .colab-df-convert {\n",
              "      background-color: #3B4455;\n",
              "      fill: #D2E3FC;\n",
              "    }\n",
              "\n",
              "    [theme=dark] .colab-df-convert:hover {\n",
              "      background-color: #434B5C;\n",
              "      box-shadow: 0px 1px 3px 1px rgba(0, 0, 0, 0.15);\n",
              "      filter: drop-shadow(0px 1px 2px rgba(0, 0, 0, 0.3));\n",
              "      fill: #FFFFFF;\n",
              "    }\n",
              "  </style>\n",
              "\n",
              "      <script>\n",
              "        const buttonEl =\n",
              "          document.querySelector('#df-ff5e7c94-3dfe-4356-b354-2d048f67c6e7 button.colab-df-convert');\n",
              "        buttonEl.style.display =\n",
              "          google.colab.kernel.accessAllowed ? 'block' : 'none';\n",
              "\n",
              "        async function convertToInteractive(key) {\n",
              "          const element = document.querySelector('#df-ff5e7c94-3dfe-4356-b354-2d048f67c6e7');\n",
              "          const dataTable =\n",
              "            await google.colab.kernel.invokeFunction('convertToInteractive',\n",
              "                                                     [key], {});\n",
              "          if (!dataTable) return;\n",
              "\n",
              "          const docLinkHtml = 'Like what you see? Visit the ' +\n",
              "            '<a target=\"_blank\" href=https://colab.research.google.com/notebooks/data_table.ipynb>data table notebook</a>'\n",
              "            + ' to learn more about interactive tables.';\n",
              "          element.innerHTML = '';\n",
              "          dataTable['output_type'] = 'display_data';\n",
              "          await google.colab.output.renderOutput(dataTable, element);\n",
              "          const docLink = document.createElement('div');\n",
              "          docLink.innerHTML = docLinkHtml;\n",
              "          element.appendChild(docLink);\n",
              "        }\n",
              "      </script>\n",
              "    </div>\n",
              "  </div>\n",
              "  "
            ]
          },
          "metadata": {},
          "execution_count": 96
        }
      ],
      "source": [
        "fs_model.calculate_statistics(conf_matrix_sf)"
      ]
    },
    {
      "cell_type": "code",
      "execution_count": 97,
      "metadata": {
        "colab": {
          "base_uri": "https://localhost:8080/",
          "height": 336
        },
        "id": "epJK0ILmfCz8",
        "outputId": "b2a01591-b7f0-4a29-bd1c-bf0daf27ef42"
      },
      "outputs": [
        {
          "output_type": "stream",
          "name": "stderr",
          "text": [
            "/content/prediction_LSTM.py:219: VisibleDeprecationWarning: Creating an ndarray from ragged nested sequences (which is a list-or-tuple of lists-or-tuples-or ndarrays with different lengths or shapes) is deprecated. If you meant to do this, you must specify 'dtype=object' when creating the ndarray.\n",
            "  plt.boxplot(np.array([true_positive_logits, false_positive_logits]),\n"
          ]
        },
        {
          "output_type": "display_data",
          "data": {
            "text/plain": [
              "<Figure size 432x288 with 1 Axes>"
            ],
            "image/png": "[encoded data removed]"
          },
          "metadata": {
            "needs_background": "light"
          }
        }
      ],
      "source": [
        "tp_fs, fp_fs = fs_model.view_prediction_distributions(true_labels=true_labels_sf,data=batched_2015_sf)"
      ]
    },
    {
      "cell_type": "code",
      "execution_count": 98,
      "metadata": {
        "id": "qtl0-mps2QPX"
      },
      "outputs": [],
      "source": [
        "keras.backend.clear_session()"
      ]
    },
    {
      "cell_type": "code",
      "execution_count": 99,
      "metadata": {
        "id": "tO1eaMEE2baq"
      },
      "outputs": [],
      "source": [
        "tuned_fs_model = SolarLSTM(data2014_sf, labels2014_sf, \"./fs_model_tuned/fs_model_tuned.h5\", tune=True)"
      ]
    },
    {
      "cell_type": "code",
      "execution_count": 100,
      "metadata": {
        "id": "XMaV5iuR2bar"
      },
      "outputs": [],
      "source": [
        "tuned_fs_model.build_model()"
      ]
    },
    {
      "cell_type": "code",
      "execution_count": 101,
      "metadata": {
        "colab": {
          "base_uri": "https://localhost:8080/",
          "height": 1000
        },
        "id": "gD-EplZE2bas",
        "outputId": "f0a226d5-a403-4828-c973-88b0ae1a4167"
      },
      "outputs": [
        {
          "output_type": "stream",
          "name": "stdout",
          "text": [
            "Trial 10 Complete [00h 21m 14s]\n",
            "val_accuracy: 0.809374988079071\n",
            "\n",
            "Best val_accuracy So Far: 0.8096386790275574\n",
            "Total elapsed time: 02h 30m 09s\n",
            "INFO:tensorflow:Oracle triggered exit\n"
          ]
        },
        {
          "output_type": "stream",
          "name": "stderr",
          "text": [
            "INFO:tensorflow:Oracle triggered exit\n"
          ]
        },
        {
          "output_type": "stream",
          "name": "stdout",
          "text": [
            "Hyper Tuning Complete\n",
            "Epoch 1/50\n"
          ]
        },
        {
          "output_type": "stream",
          "name": "stderr",
          "text": [
            "/usr/local/lib/python3.7/dist-packages/tensorflow/python/util/dispatch.py:1082: UserWarning: \"`binary_crossentropy` received `from_logits=True`, but the `output` argument was produced by a sigmoid or softmax activation and thus does not represent logits. Was this intended?\"\n",
            "  return dispatch_target(*args, **kwargs)\n"
          ]
        },
        {
          "output_type": "stream",
          "name": "stdout",
          "text": [
            "320/320 [==============================] - ETA: 0s - loss: 0.3833 - accuracy: 0.8951 - mse: 0.1055 - mae: 0.1964"
          ]
        },
        {
          "output_type": "stream",
          "name": "stderr",
          "text": [
            "WARNING:absl:Found untraced functions such as lstm_cell_2_layer_call_fn, lstm_cell_2_layer_call_and_return_conditional_losses, lstm_cell_3_layer_call_fn, lstm_cell_3_layer_call_and_return_conditional_losses while saving (showing 4 of 4). These functions will not be directly callable after loading.\n"
          ]
        },
        {
          "output_type": "stream",
          "name": "stdout",
          "text": [
            "INFO:tensorflow:Assets written to: fs_model_tuned/model_checkpoints/assets\n"
          ]
        },
        {
          "output_type": "stream",
          "name": "stderr",
          "text": [
            "INFO:tensorflow:Assets written to: fs_model_tuned/model_checkpoints/assets\n",
            "WARNING:absl:<keras.layers.recurrent.LSTMCell object at 0x7fd0939c54d0> has the same name 'LSTMCell' as a built-in Keras object. Consider renaming <class 'keras.layers.recurrent.LSTMCell'> to avoid naming conflicts when loading with `tf.keras.models.load_model`. If renaming is not possible, pass the object in the `custom_objects` parameter of the load function.\n",
            "WARNING:absl:<keras.layers.recurrent.LSTMCell object at 0x7fd087326490> has the same name 'LSTMCell' as a built-in Keras object. Consider renaming <class 'keras.layers.recurrent.LSTMCell'> to avoid naming conflicts when loading with `tf.keras.models.load_model`. If renaming is not possible, pass the object in the `custom_objects` parameter of the load function.\n"
          ]
        },
        {
          "output_type": "stream",
          "name": "stdout",
          "text": [
            "\b\b\b\b\b\b\b\b\b\b\b\b\b\b\b\b\b\b\b\b\b\b\b\b\b\b\b\b\b\b\b\b\b\b\b\b\b\b\b\b\b\b\b\b\b\b\b\b\b\b\b\b\b\b\b\b\b\b\b\b\b\b\b\b\b\b\b\b\b\b\b\b\b\b\b\b\b\b\b\b\b\b\b\b\b\b\b\b\b\b\b\b\b\b\b\b\b\b\b\b\b\b\b\b\b\b\b\b\b\b\b\b\r320/320 [==============================] - 81s 246ms/step - loss: 0.3833 - accuracy: 0.8951 - mse: 0.1055 - mae: 0.1964 - val_loss: 0.7557 - val_accuracy: 0.8094 - val_mse: 0.1831 - val_mae: 0.2033\n",
            "Epoch 2/50\n",
            "320/320 [==============================] - ETA: 0s - loss: 0.3442 - accuracy: 0.8996 - mse: 0.0946 - mae: 0.1813"
          ]
        },
        {
          "output_type": "stream",
          "name": "stderr",
          "text": [
            "WARNING:absl:Found untraced functions such as lstm_cell_2_layer_call_fn, lstm_cell_2_layer_call_and_return_conditional_losses, lstm_cell_3_layer_call_fn, lstm_cell_3_layer_call_and_return_conditional_losses while saving (showing 4 of 4). These functions will not be directly callable after loading.\n"
          ]
        },
        {
          "output_type": "stream",
          "name": "stdout",
          "text": [
            "INFO:tensorflow:Assets written to: fs_model_tuned/model_checkpoints/assets\n"
          ]
        },
        {
          "output_type": "stream",
          "name": "stderr",
          "text": [
            "INFO:tensorflow:Assets written to: fs_model_tuned/model_checkpoints/assets\n",
            "WARNING:absl:<keras.layers.recurrent.LSTMCell object at 0x7fd0939c54d0> has the same name 'LSTMCell' as a built-in Keras object. Consider renaming <class 'keras.layers.recurrent.LSTMCell'> to avoid naming conflicts when loading with `tf.keras.models.load_model`. If renaming is not possible, pass the object in the `custom_objects` parameter of the load function.\n",
            "WARNING:absl:<keras.layers.recurrent.LSTMCell object at 0x7fd087326490> has the same name 'LSTMCell' as a built-in Keras object. Consider renaming <class 'keras.layers.recurrent.LSTMCell'> to avoid naming conflicts when loading with `tf.keras.models.load_model`. If renaming is not possible, pass the object in the `custom_objects` parameter of the load function.\n"
          ]
        },
        {
          "output_type": "stream",
          "name": "stdout",
          "text": [
            "\b\b\b\b\b\b\b\b\b\b\b\b\b\b\b\b\b\b\b\b\b\b\b\b\b\b\b\b\b\b\b\b\b\b\b\b\b\b\b\b\b\b\b\b\b\b\b\b\b\b\b\b\b\b\b\b\b\b\b\b\b\b\b\b\b\b\b\b\b\b\b\b\b\b\b\b\b\b\b\b\b\b\b\b\b\b\b\b\b\b\b\b\b\b\b\b\b\b\b\b\b\b\b\b\b\b\b\b\b\b\b\b\r320/320 [==============================] - 77s 239ms/step - loss: 0.3442 - accuracy: 0.8996 - mse: 0.0946 - mae: 0.1813 - val_loss: 0.6999 - val_accuracy: 0.8094 - val_mse: 0.1805 - val_mae: 0.2087\n",
            "Epoch 3/50\n",
            "320/320 [==============================] - ETA: 0s - loss: 0.3575 - accuracy: 0.8996 - mse: 0.0978 - mae: 0.1910"
          ]
        },
        {
          "output_type": "stream",
          "name": "stderr",
          "text": [
            "WARNING:absl:Found untraced functions such as lstm_cell_2_layer_call_fn, lstm_cell_2_layer_call_and_return_conditional_losses, lstm_cell_3_layer_call_fn, lstm_cell_3_layer_call_and_return_conditional_losses while saving (showing 4 of 4). These functions will not be directly callable after loading.\n"
          ]
        },
        {
          "output_type": "stream",
          "name": "stdout",
          "text": [
            "INFO:tensorflow:Assets written to: fs_model_tuned/model_checkpoints/assets\n"
          ]
        },
        {
          "output_type": "stream",
          "name": "stderr",
          "text": [
            "INFO:tensorflow:Assets written to: fs_model_tuned/model_checkpoints/assets\n",
            "WARNING:absl:<keras.layers.recurrent.LSTMCell object at 0x7fd0939c54d0> has the same name 'LSTMCell' as a built-in Keras object. Consider renaming <class 'keras.layers.recurrent.LSTMCell'> to avoid naming conflicts when loading with `tf.keras.models.load_model`. If renaming is not possible, pass the object in the `custom_objects` parameter of the load function.\n",
            "WARNING:absl:<keras.layers.recurrent.LSTMCell object at 0x7fd087326490> has the same name 'LSTMCell' as a built-in Keras object. Consider renaming <class 'keras.layers.recurrent.LSTMCell'> to avoid naming conflicts when loading with `tf.keras.models.load_model`. If renaming is not possible, pass the object in the `custom_objects` parameter of the load function.\n"
          ]
        },
        {
          "output_type": "stream",
          "name": "stdout",
          "text": [
            "\b\b\b\b\b\b\b\b\b\b\b\b\b\b\b\b\b\b\b\b\b\b\b\b\b\b\b\b\b\b\b\b\b\b\b\b\b\b\b\b\b\b\b\b\b\b\b\b\b\b\b\b\b\b\b\b\b\b\b\b\b\b\b\b\b\b\b\b\b\b\b\b\b\b\b\b\b\b\b\b\b\b\b\b\b\b\b\b\b\b\b\b\b\b\b\b\b\b\b\b\b\b\b\b\b\b\b\b\b\b\b\b\r320/320 [==============================] - 76s 237ms/step - loss: 0.3575 - accuracy: 0.8996 - mse: 0.0978 - mae: 0.1910 - val_loss: 0.5184 - val_accuracy: 0.8094 - val_mse: 0.1614 - val_mae: 0.2545\n",
            "Epoch 4/50\n",
            "320/320 [==============================] - 69s 216ms/step - loss: 0.3371 - accuracy: 0.8996 - mse: 0.0930 - mae: 0.1853 - val_loss: 0.6064 - val_accuracy: 0.8094 - val_mse: 0.1736 - val_mae: 0.2224\n",
            "Epoch 5/50\n",
            "320/320 [==============================] - 68s 212ms/step - loss: 0.3225 - accuracy: 0.8996 - mse: 0.0881 - mae: 0.1745 - val_loss: 0.5725 - val_accuracy: 0.8094 - val_mse: 0.1698 - val_mae: 0.2311\n",
            "Epoch 6/50\n",
            "320/320 [==============================] - 68s 214ms/step - loss: 0.3109 - accuracy: 0.8996 - mse: 0.0848 - mae: 0.1689 - val_loss: 0.5813 - val_accuracy: 0.8094 - val_mse: 0.1712 - val_mae: 0.2297\n",
            "Epoch 7/50\n",
            "320/320 [==============================] - 69s 215ms/step - loss: 0.3004 - accuracy: 0.8995 - mse: 0.0815 - mae: 0.1633 - val_loss: 0.6113 - val_accuracy: 0.8094 - val_mse: 0.1741 - val_mae: 0.2211\n",
            "Epoch 8/50\n",
            "320/320 [==============================] - 70s 218ms/step - loss: 0.3041 - accuracy: 0.8978 - mse: 0.0823 - mae: 0.1633 - val_loss: 0.5910 - val_accuracy: 0.8094 - val_mse: 0.1720 - val_mae: 0.2254\n",
            "Epoch 8: early stopping\n"
          ]
        },
        {
          "output_type": "display_data",
          "data": {
            "text/plain": [
              "<Figure size 576x360 with 1 Axes>"
            ],
            "image/png": "[encoded data removed]"
          },
          "metadata": {
            "needs_background": "light"
          }
        }
      ],
      "source": [
        "history=tuned_fs_model.fit()"
      ]
    },
    {
      "cell_type": "code",
      "execution_count": 102,
      "metadata": {
        "id": "FvRjWkA-fCz-"
      },
      "outputs": [],
      "source": [
        "tuned_fs_model.save_model(tuned_fs_model.model)"
      ]
    },
    {
      "cell_type": "code",
      "execution_count": 103,
      "metadata": {
        "colab": {
          "base_uri": "https://localhost:8080/"
        },
        "id": "VGjR94kc2g-b",
        "outputId": "bc179456-abba-4072-e646-63720277a7ae"
      },
      "outputs": [
        {
          "output_type": "stream",
          "name": "stdout",
          "text": [
            "445/445 [==============================] - 36s 81ms/step - loss: 0.4916 - accuracy: 0.8317 - mse: 0.1431 - mae: 0.2049\n"
          ]
        },
        {
          "output_type": "execute_result",
          "data": {
            "text/plain": [
              "[0.49163687229156494,\n",
              " 0.8316552639007568,\n",
              " 0.14313945174217224,\n",
              " 0.2049296796321869]"
            ]
          },
          "metadata": {},
          "execution_count": 103
        }
      ],
      "source": [
        "tuned_fs_new = tuned_fs_model.batch_prefetch_data(data2015_sf,labels2015_sf,split_data=False)\n",
        "tuned_fs_model.evaluate(tuned_fs_new)\n",
        "#base_model.evaluate(data_new,labels_new)"
      ]
    },
    {
      "cell_type": "code",
      "execution_count": 104,
      "metadata": {
        "colab": {
          "base_uri": "https://localhost:8080/",
          "height": 290
        },
        "id": "9tKveQ_92g-i",
        "outputId": "6c31f721-ef66-4f42-c791-293d10feb9ae"
      },
      "outputs": [
        {
          "output_type": "display_data",
          "data": {
            "text/plain": [
              "<Figure size 432x288 with 2 Axes>"
            ],
            "image/png": "[encoded data removed]"
          },
          "metadata": {
            "needs_background": "light"
          }
        }
      ],
      "source": [
        "#Form batches (does not shuffle, cuts off remainder)\n",
        "batched_2015_tuned_sf = tuned_fs_model.batch_prefetch_data(data2015_sf,split_data=False)\n",
        "#Cutoff matching remainder from labels\n",
        "true_labels_tuned_sf = labels2015_sf[:-(labels2015_sf.shape[0] % tuned_fs_model.batch_size)]\n",
        "#Do predictions and get confusion matrix\n",
        "conf_matrix_tuned_sf = tuned_fs_model.predict_conf_matrix(batched_2015_tuned_sf,true_labels_tuned_sf,make_plots=True)"
      ]
    },
    {
      "cell_type": "code",
      "execution_count": 105,
      "metadata": {
        "colab": {
          "base_uri": "https://localhost:8080/"
        },
        "id": "YE3lJpDa2g-i",
        "outputId": "a468299f-1a4b-48ad-98b7-0122eb1a9cd9"
      },
      "outputs": [
        {
          "output_type": "execute_result",
          "data": {
            "text/plain": [
              "array([[  54881,  508759],\n",
              "       [  82999, 2770961]])"
            ]
          },
          "metadata": {},
          "execution_count": 105
        }
      ],
      "source": [
        "conf_matrix_tuned_sf"
      ]
    },
    {
      "cell_type": "code",
      "execution_count": 106,
      "metadata": {
        "colab": {
          "base_uri": "https://localhost:8080/",
          "height": 81
        },
        "id": "wvn4pIpZ2g-j",
        "outputId": "4d891a02-70c6-4356-cbeb-ee04990cdc78"
      },
      "outputs": [
        {
          "output_type": "execute_result",
          "data": {
            "text/plain": [
              "   precision    recall       far       hss\n",
              "0   0.970918  0.844877  0.601965  0.098156"
            ],
            "text/html": [
              "\n",
              "  <div id=\"df-0735f8c7-b330-4232-add5-af5c08a8c4da\">\n",
              "    <div class=\"colab-df-container\">\n",
              "      <div>\n",
              "<style scoped>\n",
              "    .dataframe tbody tr th:only-of-type {\n",
              "        vertical-align: middle;\n",
              "    }\n",
              "\n",
              "    .dataframe tbody tr th {\n",
              "        vertical-align: top;\n",
              "    }\n",
              "\n",
              "    .dataframe thead th {\n",
              "        text-align: right;\n",
              "    }\n",
              "</style>\n",
              "<table border=\"1\" class=\"dataframe\">\n",
              "  <thead>\n",
              "    <tr style=\"text-align: right;\">\n",
              "      <th></th>\n",
              "      <th>precision</th>\n",
              "      <th>recall</th>\n",
              "      <th>far</th>\n",
              "      <th>hss</th>\n",
              "    </tr>\n",
              "  </thead>\n",
              "  <tbody>\n",
              "    <tr>\n",
              "      <th>0</th>\n",
              "      <td>0.970918</td>\n",
              "      <td>0.844877</td>\n",
              "      <td>0.601965</td>\n",
              "      <td>0.098156</td>\n",
              "    </tr>\n",
              "  </tbody>\n",
              "</table>\n",
              "</div>\n",
              "      <button class=\"colab-df-convert\" onclick=\"convertToInteractive('df-0735f8c7-b330-4232-add5-af5c08a8c4da')\"\n",
              "              title=\"Convert this dataframe to an interactive table.\"\n",
              "              style=\"display:none;\">\n",
              "        \n",
              "  <svg xmlns=\"http://www.w3.org/2000/svg\" height=\"24px\"viewBox=\"0 0 24 24\"\n",
              "       width=\"24px\">\n",
              "    <path d=\"M0 0h24v24H0V0z\" fill=\"none\"/>\n",
              "    <path d=\"M18.56 5.44l.94 2.06.94-2.06 2.06-.94-2.06-.94-.94-2.06-.94 2.06-2.06.94zm-11 1L8.5 8.5l.94-2.06 2.06-.94-2.06-.94L8.5 2.5l-.94 2.06-2.06.94zm10 10l.94 2.06.94-2.06 2.06-.94-2.06-.94-.94-2.06-.94 2.06-2.06.94z\"/><path d=\"M17.41 7.96l-1.37-1.37c-.4-.4-.92-.59-1.43-.59-.52 0-1.04.2-1.43.59L10.3 9.45l-7.72 7.72c-.78.78-.78 2.05 0 2.83L4 21.41c.39.39.9.59 1.41.59.51 0 1.02-.2 1.41-.59l7.78-7.78 2.81-2.81c.8-.78.8-2.07 0-2.86zM5.41 20L4 18.59l7.72-7.72 1.47 1.35L5.41 20z\"/>\n",
              "  </svg>\n",
              "      </button>\n",
              "      \n",
              "  <style>\n",
              "    .colab-df-container {\n",
              "      display:flex;\n",
              "      flex-wrap:wrap;\n",
              "      gap: 12px;\n",
              "    }\n",
              "\n",
              "    .colab-df-convert {\n",
              "      background-color: #E8F0FE;\n",
              "      border: none;\n",
              "      border-radius: 50%;\n",
              "      cursor: pointer;\n",
              "      display: none;\n",
              "      fill: #1967D2;\n",
              "      height: 32px;\n",
              "      padding: 0 0 0 0;\n",
              "      width: 32px;\n",
              "    }\n",
              "\n",
              "    .colab-df-convert:hover {\n",
              "      background-color: #E2EBFA;\n",
              "      box-shadow: 0px 1px 2px rgba(60, 64, 67, 0.3), 0px 1px 3px 1px rgba(60, 64, 67, 0.15);\n",
              "      fill: #174EA6;\n",
              "    }\n",
              "\n",
              "    [theme=dark] .colab-df-convert {\n",
              "      background-color: #3B4455;\n",
              "      fill: #D2E3FC;\n",
              "    }\n",
              "\n",
              "    [theme=dark] .colab-df-convert:hover {\n",
              "      background-color: #434B5C;\n",
              "      box-shadow: 0px 1px 3px 1px rgba(0, 0, 0, 0.15);\n",
              "      filter: drop-shadow(0px 1px 2px rgba(0, 0, 0, 0.3));\n",
              "      fill: #FFFFFF;\n",
              "    }\n",
              "  </style>\n",
              "\n",
              "      <script>\n",
              "        const buttonEl =\n",
              "          document.querySelector('#df-0735f8c7-b330-4232-add5-af5c08a8c4da button.colab-df-convert');\n",
              "        buttonEl.style.display =\n",
              "          google.colab.kernel.accessAllowed ? 'block' : 'none';\n",
              "\n",
              "        async function convertToInteractive(key) {\n",
              "          const element = document.querySelector('#df-0735f8c7-b330-4232-add5-af5c08a8c4da');\n",
              "          const dataTable =\n",
              "            await google.colab.kernel.invokeFunction('convertToInteractive',\n",
              "                                                     [key], {});\n",
              "          if (!dataTable) return;\n",
              "\n",
              "          const docLinkHtml = 'Like what you see? Visit the ' +\n",
              "            '<a target=\"_blank\" href=https://colab.research.google.com/notebooks/data_table.ipynb>data table notebook</a>'\n",
              "            + ' to learn more about interactive tables.';\n",
              "          element.innerHTML = '';\n",
              "          dataTable['output_type'] = 'display_data';\n",
              "          await google.colab.output.renderOutput(dataTable, element);\n",
              "          const docLink = document.createElement('div');\n",
              "          docLink.innerHTML = docLinkHtml;\n",
              "          element.appendChild(docLink);\n",
              "        }\n",
              "      </script>\n",
              "    </div>\n",
              "  </div>\n",
              "  "
            ]
          },
          "metadata": {},
          "execution_count": 106
        }
      ],
      "source": [
        "tuned_fs_model.calculate_statistics(conf_matrix_tuned_sf)"
      ]
    },
    {
      "cell_type": "code",
      "execution_count": 107,
      "metadata": {
        "colab": {
          "base_uri": "https://localhost:8080/"
        },
        "id": "tTgUryny2bar",
        "outputId": "e41bf838-9a0a-4934-d0cd-2bf024acfea6"
      },
      "outputs": [
        {
          "output_type": "stream",
          "name": "stdout",
          "text": [
            "Model: \"sequential_1\"\n",
            "_________________________________________________________________\n",
            " Layer (type)                Output Shape              Param #   \n",
            "=================================================================\n",
            " lstm_2 (LSTM)               (64, 120, 112)            56000     \n",
            "                                                                 \n",
            " lstm_3 (LSTM)               (64, 120, 112)            100800    \n",
            "                                                                 \n",
            " dropout_1 (Dropout)         (64, 120, 112)            0         \n",
            "                                                                 \n",
            " dense_1 (Dense)             (64, 120, 1)              113       \n",
            "                                                                 \n",
            "=================================================================\n",
            "Total params: 156,913\n",
            "Trainable params: 156,913\n",
            "Non-trainable params: 0\n",
            "_________________________________________________________________\n"
          ]
        }
      ],
      "source": [
        "tuned_fs_model.model.summary()"
      ]
    },
    {
      "cell_type": "code",
      "execution_count": 108,
      "metadata": {
        "colab": {
          "base_uri": "https://localhost:8080/",
          "height": 336
        },
        "id": "tn4K-FxxfC0A",
        "outputId": "46c025e2-496d-49f1-c3fd-7e3efb48a368"
      },
      "outputs": [
        {
          "output_type": "stream",
          "name": "stderr",
          "text": [
            "/content/prediction_LSTM.py:219: VisibleDeprecationWarning: Creating an ndarray from ragged nested sequences (which is a list-or-tuple of lists-or-tuples-or ndarrays with different lengths or shapes) is deprecated. If you meant to do this, you must specify 'dtype=object' when creating the ndarray.\n",
            "  plt.boxplot(np.array([true_positive_logits, false_positive_logits]),\n"
          ]
        },
        {
          "output_type": "display_data",
          "data": {
            "text/plain": [
              "<Figure size 432x288 with 1 Axes>"
            ],
            "image/png": "[encoded data removed]"
          },
          "metadata": {
            "needs_background": "light"
          }
        }
      ],
      "source": [
        "tp_tuned_fs, fp_tuned_fs = tuned_fs_model.view_prediction_distributions(true_labels=true_labels_tuned_sf,data=batched_2015_tuned_sf)"
      ]
    },
    {
      "cell_type": "code",
      "source": [
        "keras.backend.clear_session()"
      ],
      "metadata": {
        "id": "aG79OTmh_byF"
      },
      "execution_count": 109,
      "outputs": []
    },
    {
      "cell_type": "code",
      "source": [
        "shutil.rmtree('/content/untitled_project')"
      ],
      "metadata": {
        "id": "mTyj4u8s_Zel"
      },
      "execution_count": 110,
      "outputs": []
    },
    {
      "cell_type": "markdown",
      "metadata": {
        "id": "sHSk13KV4OUv"
      },
      "source": [
        "# Model with Recurrent Dropout and Lower Units Tuning\n",
        "\n",
        "* Using feature selection\n",
        "* Tuning with units from 10 to 16 with step size 1\n",
        "* Removed the Dropout layer and instead used the recurrent_dropout = .2 in the keras.layers.LSTM function call"
      ]
    },
    {
      "cell_type": "code",
      "execution_count": 111,
      "metadata": {
        "colab": {
          "base_uri": "https://localhost:8080/"
        },
        "id": "1NdW1Flk6TU_",
        "outputId": "aeeaa749-d50f-40eb-966c-7c8ae47002ef"
      },
      "outputs": [
        {
          "output_type": "stream",
          "name": "stdout",
          "text": [
            "Num GB used in data array: 0.0006008148193359375\n",
            "Num GB used in data array: 0.0008475780487060547\n",
            "Num GB used in data array: 0.001963376998901367\n",
            "Num GB used in data array: 0.003701448440551758\n",
            "Num GB used in data array: 0.004388093948364258\n",
            "Num GB used in data array: 0.004903078079223633\n",
            "Num GB used in data array: 0.005300045013427734\n",
            "Num GB used in data array: 0.0072634220123291016\n",
            "Num GB used in data array: 0.007381439208984375\n",
            "Num GB used in data array: 0.008465051651000977\n",
            "Num GB used in data array: 0.009065866470336914\n",
            "Num GB used in data array: 0.012778043746948242\n",
            "Num GB used in data array: 0.01337885856628418\n",
            "Num GB used in data array: 0.015106201171875\n",
            "Num GB used in data array: 0.017713308334350586\n",
            "Num GB used in data array: 0.018045902252197266\n",
            "Num GB used in data array: 0.03292679786682129\n",
            "Num GB used in data array: 0.034461021423339844\n",
            "Num GB used in data array: 0.03457903861999512\n",
            "Num GB used in data array: 0.03464341163635254\n",
            "Num GB used in data array: 0.03508329391479492\n",
            "Num GB used in data array: 0.03568410873413086\n",
            "Num GB used in data array: 0.03636002540588379\n",
            "Num GB used in data array: 0.040018558502197266\n",
            "Num GB used in data array: 0.04024386405944824\n",
            "Num GB used in data array: 0.04084467887878418\n",
            "Num GB used in data array: 0.04144549369812012\n",
            "Num GB used in data array: 0.04215359687805176\n",
            "Num GB used in data array: 0.042754411697387695\n",
            "Num GB used in data array: 0.04335522651672363\n",
            "Num GB used in data array: 0.04395604133605957\n",
            "Num GB used in data array: 0.048558712005615234\n",
            "Num GB used in data array: 0.04915952682495117\n",
            "Num GB used in data array: 0.0495457649230957\n",
            "Num GB used in data array: 0.04971742630004883\n",
            "Num GB used in data array: 0.0516057014465332\n",
            "Num GB used in data array: 0.05251765251159668\n",
            "Num GB used in data array: 0.05292534828186035\n",
            "Num GB used in data array: 0.053000450134277344\n",
            "Num GB used in data array: 0.05606889724731445\n",
            "Num GB used in data array: 0.0561976432800293\n",
            "Num GB used in data array: 0.05970597267150879\n",
            "Num GB used in data array: 0.06067156791687012\n",
            "Num GB used in data array: 0.06394386291503906\n",
            "Num GB used in data array: 0.06886839866638184\n",
            "Num GB used in data array: 0.08271932601928711\n",
            "Num GB used in data array: 0.09527206420898438\n",
            "Num GB used in data array: 0.09794354438781738\n",
            "Num GB used in data array: 0.09816884994506836\n",
            "Num GB used in data array: 0.09832978248596191\n",
            "Num GB used in data array: 0.09836196899414062\n",
            "Num GB used in data array: 0.10431647300720215\n",
            "Num GB used in data array: 0.10488510131835938\n",
            "Num GB used in data array: 0.10943412780761719\n",
            "Num GB used in data array: 0.10972380638122559\n",
            "Num GB used in data array: 0.10987401008605957\n",
            "Num GB used in data array: 0.11148333549499512\n",
            "Num GB used in data array: 0.11542081832885742\n",
            "Num GB used in data array: 0.12581706047058105\n",
            "Num GB used in data array: 0.12752294540405273\n",
            "Num GB used in data array: 0.13744711875915527\n",
            "Num GB used in data array: 0.14685630798339844\n",
            "Num GB used in data array: 0.1574993133544922\n",
            "Num GB used in data array: 0.18210053443908691\n",
            "Num GB used in data array: 0.1961982250213623\n",
            "Num GB used in data array: 0.2031397819519043\n",
            "Num GB used in data array: 0.2111220359802246\n",
            "Num GB used in data array: 0.21139025688171387\n",
            "Num GB used in data array: 0.21280646324157715\n",
            "Num GB used in data array: 0.2131819725036621\n",
            "Num GB used in data array: 0.21916866302490234\n",
            "Num GB used in data array: 0.22357821464538574\n",
            "Num GB used in data array: 0.22396445274353027\n",
            "Num GB used in data array: 0.2277839183807373\n",
            "Num GB used in data array: 0.24204254150390625\n",
            "Num GB used in data array: 0.24615168571472168\n",
            "Num GB used in data array: 0.26726603507995605\n",
            "Num GB used in data array: 0.2705061435699463\n",
            "Num GB used in data array: 0.27059197425842285\n",
            "Num GB used in data array: 0.2707099914550781\n",
            "Num GB used in data array: 0.2708280086517334\n",
            "Num GB used in data array: 0.27132153511047363\n",
            "Num GB used in data array: 0.2716541290283203\n",
            "Num GB used in data array: 0.2718043327331543\n",
            "Num GB used in data array: 0.27246952056884766\n",
            "Num GB used in data array: 0.27518391609191895\n"
          ]
        }
      ],
      "source": [
        "if rebuild_data:\n",
        "    with open(\"/content/all_data.pkl\", \"rb\") as file:\n",
        "        data = pickle.load(file)\n",
        "    DataSelection(data, 2014, \"./dropout/\", feature_selection=True, use_all=False)\n",
        "# DataSelection(data, 2015, \"./\")"
      ]
    },
    {
      "cell_type": "code",
      "execution_count": 112,
      "metadata": {
        "colab": {
          "base_uri": "https://localhost:8080/"
        },
        "id": "ar1C4lA-6TVA",
        "outputId": "23adaf44-e575-4f38-db05-ac0f6571446e"
      },
      "outputs": [
        {
          "output_type": "stream",
          "name": "stdout",
          "text": [
            "Num GB used in data array: 0.0006008148193359375\n",
            "Num GB used in data array: 0.0009870529174804688\n",
            "Num GB used in data array: 0.003465414047241211\n",
            "Num GB used in data array: 0.005525350570678711\n",
            "Num GB used in data array: 0.007628202438354492\n",
            "Num GB used in data array: 0.009924173355102539\n",
            "Num GB used in data array: 0.010524988174438477\n",
            "Num GB used in data array: 0.011125802993774414\n",
            "Num GB used in data array: 0.014623403549194336\n",
            "Num GB used in data array: 0.01474142074584961\n",
            "Num GB used in data array: 0.015031099319458008\n",
            "Num GB used in data array: 0.01855015754699707\n",
            "Num GB used in data array: 0.019150972366333008\n",
            "Num GB used in data array: 0.019429922103881836\n",
            "Num GB used in data array: 0.02233743667602539\n",
            "Num GB used in data array: 0.02267003059387207\n",
            "Num GB used in data array: 0.03632783889770508\n",
            "Num GB used in data array: 0.03875255584716797\n",
            "Num GB used in data array: 0.03983616828918457\n",
            "Num GB used in data array: 0.03990054130554199\n",
            "Num GB used in data array: 0.04019021987915039\n",
            "Num GB used in data array: 0.040340423583984375\n",
            "Num GB used in data array: 0.042775869369506836\n",
            "Num GB used in data array: 0.043473243713378906\n",
            "Num GB used in data array: 0.04494309425354004\n",
            "Num GB used in data array: 0.04739999771118164\n",
            "Num GB used in data array: 0.05635857582092285\n",
            "Num GB used in data array: 0.07331013679504395\n",
            "Num GB used in data array: 0.07647514343261719\n",
            "Num GB used in data array: 0.07691502571105957\n",
            "Num GB used in data array: 0.07707595825195312\n",
            "Num GB used in data array: 0.08452177047729492\n",
            "Num GB used in data array: 0.08635640144348145\n",
            "Num GB used in data array: 0.09290099143981934\n",
            "Num GB used in data array: 0.09535789489746094\n",
            "Num GB used in data array: 0.09757876396179199\n",
            "Num GB used in data array: 0.09959578514099121\n",
            "Num GB used in data array: 0.10178446769714355\n",
            "Num GB used in data array: 0.10193467140197754\n",
            "Num GB used in data array: 0.1020205020904541\n",
            "Num GB used in data array: 0.10972380638122559\n",
            "Num GB used in data array: 0.11030316352844238\n",
            "Num GB used in data array: 0.11579632759094238\n",
            "Num GB used in data array: 0.12237310409545898\n",
            "Num GB used in data array: 0.13662099838256836\n",
            "Num GB used in data array: 0.16004204750061035\n",
            "Num GB used in data array: 0.17594218254089355\n",
            "Num GB used in data array: 0.1844179630279541\n",
            "Num GB used in data array: 0.18906354904174805\n",
            "Num GB used in data array: 0.1893317699432373\n",
            "Num GB used in data array: 0.19072651863098145\n",
            "Num GB used in data array: 0.19165992736816406\n",
            "Num GB used in data array: 0.1997387409210205\n",
            "Num GB used in data array: 0.20645499229431152\n",
            "Num GB used in data array: 0.20723819732666016\n",
            "Num GB used in data array: 0.21366477012634277\n",
            "Num GB used in data array: 0.21390080451965332\n",
            "Num GB used in data array: 0.23647427558898926\n",
            "Num GB used in data array: 0.24596929550170898\n",
            "Num GB used in data array: 0.2782416343688965\n",
            "Num GB used in data array: 0.2816641330718994\n",
            "Num GB used in data array: 0.282747745513916\n",
            "Num GB used in data array: 0.2853119373321533\n",
            "Num GB used in data array: 0.28768301010131836\n",
            "Num GB used in data array: 0.28948545455932617\n",
            "Num GB used in data array: 0.2907085418701172\n",
            "Num GB used in data array: 0.2917492389678955\n",
            "Num GB used in data array: 0.2928006649017334\n",
            "Num GB used in data array: 0.2932298183441162\n",
            "Num GB used in data array: 0.2933049201965332\n",
            "Num GB used in data array: 0.2937018871307373\n",
            "Num GB used in data array: 0.29639482498168945\n",
            "Num GB used in data array: 0.3056216239929199\n"
          ]
        }
      ],
      "source": [
        "if rebuild_data:\n",
        "    with open(\"./dropout/norm_scaler.pkl\", \"rb\") as norm_file:\n",
        "        normalization = pickle.load(norm_file)\n",
        "\n",
        "    with open(\"./dropout/stand_scaler.pkl\", \"rb\") as stand_file:\n",
        "        standard = pickle.load(stand_file)\n",
        "\n",
        "    DataSelection(data, 2015,\"./dropout/\", feature_selection=True, use_all=False, norm_scaler=normalization, stand_scaler=standard)"
      ]
    },
    {
      "cell_type": "code",
      "execution_count": 113,
      "metadata": {
        "colab": {
          "base_uri": "https://localhost:8080/"
        },
        "id": "81F09RUw6Mli",
        "outputId": "7083a63e-06fc-4f56-dae1-0fae0092a6e1"
      },
      "outputs": [
        {
          "output_type": "execute_result",
          "data": {
            "text/plain": [
              "(25649, 120, 12)"
            ]
          },
          "metadata": {},
          "execution_count": 113
        }
      ],
      "source": [
        "data2014_sf = np.load(\"./dropout/data_2014.npy\")\n",
        "labels2014_sf = np.load(\"./dropout/labels_2014.npy\")\n",
        "data2014_sf.shape"
      ]
    },
    {
      "cell_type": "code",
      "execution_count": 114,
      "metadata": {
        "colab": {
          "base_uri": "https://localhost:8080/"
        },
        "id": "1qMP-14zfC0C",
        "outputId": "74711fd6-eb42-4e62-bb6b-83ee73cd2ac7"
      },
      "outputs": [
        {
          "output_type": "execute_result",
          "data": {
            "text/plain": [
              "(28486, 120, 12)"
            ]
          },
          "metadata": {},
          "execution_count": 114
        }
      ],
      "source": [
        "data2015_sf = np.load(\"./dropout/data_2015.npy\")\n",
        "labels2015_sf = np.load(\"./dropout/labels_2015.npy\")\n",
        "data2015_sf.shape"
      ]
    },
    {
      "cell_type": "code",
      "execution_count": 115,
      "metadata": {
        "id": "Gx1qEBNY6Mli"
      },
      "outputs": [],
      "source": [
        "model3 = SolarLSTM(data2014_sf, labels2014_sf, \"./dropout_model/dropout_model.h5\", tune=True,\n",
        "                   units=(10, 16, 1), regularization=(\"early stopping\"))"
      ]
    },
    {
      "cell_type": "code",
      "execution_count": 116,
      "metadata": {
        "id": "miYP26Zk6Mlj"
      },
      "outputs": [],
      "source": [
        "model3.build_model()"
      ]
    },
    {
      "cell_type": "code",
      "execution_count": 117,
      "metadata": {
        "id": "9FTAC_H66Mlj"
      },
      "outputs": [],
      "source": [
        "model3.model"
      ]
    },
    {
      "cell_type": "code",
      "execution_count": 118,
      "metadata": {
        "colab": {
          "base_uri": "https://localhost:8080/",
          "height": 998
        },
        "id": "SSwf9qlt6Mlj",
        "outputId": "439b6da1-b851-4ff2-a648-00b8be2d0b0e"
      },
      "outputs": [
        {
          "output_type": "stream",
          "name": "stdout",
          "text": [
            "Trial 10 Complete [00h 01m 55s]\n",
            "val_accuracy: 0.809374988079071\n",
            "\n",
            "Best val_accuracy So Far: 0.8230029344558716\n",
            "Total elapsed time: 00h 22m 44s\n",
            "INFO:tensorflow:Oracle triggered exit\n"
          ]
        },
        {
          "output_type": "stream",
          "name": "stderr",
          "text": [
            "INFO:tensorflow:Oracle triggered exit\n"
          ]
        },
        {
          "output_type": "stream",
          "name": "stdout",
          "text": [
            "Hyper Tuning Complete\n",
            "Epoch 1/50\n"
          ]
        },
        {
          "output_type": "stream",
          "name": "stderr",
          "text": [
            "/usr/local/lib/python3.7/dist-packages/tensorflow/python/util/dispatch.py:1082: UserWarning: \"`binary_crossentropy` received `from_logits=True`, but the `output` argument was produced by a sigmoid or softmax activation and thus does not represent logits. Was this intended?\"\n",
            "  return dispatch_target(*args, **kwargs)\n"
          ]
        },
        {
          "output_type": "stream",
          "name": "stdout",
          "text": [
            "320/320 [==============================] - ETA: 0s - loss: 0.3572 - accuracy: 0.8828 - mse: 0.1063 - mae: 0.2298"
          ]
        },
        {
          "output_type": "stream",
          "name": "stderr",
          "text": [
            "WARNING:absl:Found untraced functions such as lstm_cell_2_layer_call_fn, lstm_cell_2_layer_call_and_return_conditional_losses, lstm_cell_3_layer_call_fn, lstm_cell_3_layer_call_and_return_conditional_losses while saving (showing 4 of 4). These functions will not be directly callable after loading.\n"
          ]
        },
        {
          "output_type": "stream",
          "name": "stdout",
          "text": [
            "INFO:tensorflow:Assets written to: dropout_model/model_checkpoints/assets\n"
          ]
        },
        {
          "output_type": "stream",
          "name": "stderr",
          "text": [
            "INFO:tensorflow:Assets written to: dropout_model/model_checkpoints/assets\n",
            "WARNING:absl:<keras.layers.recurrent.LSTMCell object at 0x7fd0872f24d0> has the same name 'LSTMCell' as a built-in Keras object. Consider renaming <class 'keras.layers.recurrent.LSTMCell'> to avoid naming conflicts when loading with `tf.keras.models.load_model`. If renaming is not possible, pass the object in the `custom_objects` parameter of the load function.\n",
            "WARNING:absl:<keras.layers.recurrent.LSTMCell object at 0x7fd092bc2a90> has the same name 'LSTMCell' as a built-in Keras object. Consider renaming <class 'keras.layers.recurrent.LSTMCell'> to avoid naming conflicts when loading with `tf.keras.models.load_model`. If renaming is not possible, pass the object in the `custom_objects` parameter of the load function.\n"
          ]
        },
        {
          "output_type": "stream",
          "name": "stdout",
          "text": [
            "\b\b\b\b\b\b\b\b\b\b\b\b\b\b\b\b\b\b\b\b\b\b\b\b\b\b\b\b\b\b\b\b\b\b\b\b\b\b\b\b\b\b\b\b\b\b\b\b\b\b\b\b\b\b\b\b\b\b\b\b\b\b\b\b\b\b\b\b\b\b\b\b\b\b\b\b\b\b\b\b\b\b\b\b\b\b\b\b\b\b\b\b\b\b\b\b\b\b\b\b\b\b\b\b\b\b\b\b\b\b\b\b\r320/320 [==============================] - 27s 76ms/step - loss: 0.3572 - accuracy: 0.8828 - mse: 0.1063 - mae: 0.2298 - val_loss: 0.5999 - val_accuracy: 0.8094 - val_mse: 0.1711 - val_mae: 0.2305\n",
            "Epoch 2/50\n",
            "320/320 [==============================] - 17s 53ms/step - loss: 0.2684 - accuracy: 0.8979 - mse: 0.0751 - mae: 0.1467 - val_loss: 0.6333 - val_accuracy: 0.7849 - val_mse: 0.1759 - val_mae: 0.2356\n",
            "Epoch 3/50\n",
            "320/320 [==============================] - ETA: 0s - loss: 0.2624 - accuracy: 0.9118 - mse: 0.0713 - mae: 0.1404"
          ]
        },
        {
          "output_type": "stream",
          "name": "stderr",
          "text": [
            "WARNING:absl:Found untraced functions such as lstm_cell_2_layer_call_fn, lstm_cell_2_layer_call_and_return_conditional_losses, lstm_cell_3_layer_call_fn, lstm_cell_3_layer_call_and_return_conditional_losses while saving (showing 4 of 4). These functions will not be directly callable after loading.\n"
          ]
        },
        {
          "output_type": "stream",
          "name": "stdout",
          "text": [
            "INFO:tensorflow:Assets written to: dropout_model/model_checkpoints/assets\n"
          ]
        },
        {
          "output_type": "stream",
          "name": "stderr",
          "text": [
            "INFO:tensorflow:Assets written to: dropout_model/model_checkpoints/assets\n",
            "WARNING:absl:<keras.layers.recurrent.LSTMCell object at 0x7fd0872f24d0> has the same name 'LSTMCell' as a built-in Keras object. Consider renaming <class 'keras.layers.recurrent.LSTMCell'> to avoid naming conflicts when loading with `tf.keras.models.load_model`. If renaming is not possible, pass the object in the `custom_objects` parameter of the load function.\n",
            "WARNING:absl:<keras.layers.recurrent.LSTMCell object at 0x7fd092bc2a90> has the same name 'LSTMCell' as a built-in Keras object. Consider renaming <class 'keras.layers.recurrent.LSTMCell'> to avoid naming conflicts when loading with `tf.keras.models.load_model`. If renaming is not possible, pass the object in the `custom_objects` parameter of the load function.\n"
          ]
        },
        {
          "output_type": "stream",
          "name": "stdout",
          "text": [
            "\b\b\b\b\b\b\b\b\b\b\b\b\b\b\b\b\b\b\b\b\b\b\b\b\b\b\b\b\b\b\b\b\b\b\b\b\b\b\b\b\b\b\b\b\b\b\b\b\b\b\b\b\b\b\b\b\b\b\b\b\b\b\b\b\b\b\b\b\b\b\b\b\b\b\b\b\b\b\b\b\b\b\b\b\b\b\b\b\b\b\b\b\b\b\b\b\b\b\b\b\b\b\b\b\b\b\b\b\b\b\b\b\r320/320 [==============================] - 24s 76ms/step - loss: 0.2624 - accuracy: 0.9118 - mse: 0.0713 - mae: 0.1404 - val_loss: 0.5834 - val_accuracy: 0.7990 - val_mse: 0.1657 - val_mae: 0.2282\n",
            "Epoch 4/50\n",
            "320/320 [==============================] - 16s 51ms/step - loss: 0.2549 - accuracy: 0.9139 - mse: 0.0695 - mae: 0.1383 - val_loss: 0.6276 - val_accuracy: 0.7460 - val_mse: 0.1854 - val_mae: 0.2619\n",
            "Epoch 5/50\n",
            "320/320 [==============================] - 16s 51ms/step - loss: 0.2497 - accuracy: 0.9145 - mse: 0.0688 - mae: 0.1385 - val_loss: 0.5954 - val_accuracy: 0.8035 - val_mse: 0.1665 - val_mae: 0.2233\n",
            "Epoch 6/50\n",
            "320/320 [==============================] - 16s 52ms/step - loss: 0.2351 - accuracy: 0.9230 - mse: 0.0642 - mae: 0.1297 - val_loss: 0.5929 - val_accuracy: 0.8044 - val_mse: 0.1653 - val_mae: 0.2209\n",
            "Epoch 7/50\n",
            "320/320 [==============================] - 17s 52ms/step - loss: 0.2203 - accuracy: 0.9259 - mse: 0.0604 - mae: 0.1229 - val_loss: 0.6213 - val_accuracy: 0.8004 - val_mse: 0.1670 - val_mae: 0.2128\n",
            "Epoch 8/50\n",
            "320/320 [==============================] - 17s 52ms/step - loss: 0.2207 - accuracy: 0.9290 - mse: 0.0600 - mae: 0.1223 - val_loss: 0.6134 - val_accuracy: 0.8104 - val_mse: 0.1656 - val_mae: 0.2129\n",
            "Epoch 8: early stopping\n"
          ]
        },
        {
          "output_type": "display_data",
          "data": {
            "text/plain": [
              "<Figure size 576x360 with 1 Axes>"
            ],
            "image/png": "[encoded data removed]"
          },
          "metadata": {
            "needs_background": "light"
          }
        }
      ],
      "source": [
        "history=model3.fit()"
      ]
    },
    {
      "cell_type": "code",
      "execution_count": 119,
      "metadata": {
        "id": "-hjQhSGgfC0D"
      },
      "outputs": [],
      "source": [
        "model3.save_model(model3.model)"
      ]
    },
    {
      "cell_type": "code",
      "execution_count": 120,
      "metadata": {
        "colab": {
          "base_uri": "https://localhost:8080/"
        },
        "id": "6sV9cUAZ6Mlk",
        "outputId": "d87dbaf6-8291-4ccd-80e2-8b252b029312"
      },
      "outputs": [
        {
          "output_type": "stream",
          "name": "stdout",
          "text": [
            "445/445 [==============================] - 7s 16ms/step - loss: 0.5633 - accuracy: 0.8234 - mse: 0.1519 - mae: 0.2015\n"
          ]
        },
        {
          "output_type": "execute_result",
          "data": {
            "text/plain": [
              "[0.5633033514022827,\n",
              " 0.8234372138977051,\n",
              " 0.15189151465892792,\n",
              " 0.20153960585594177]"
            ]
          },
          "metadata": {},
          "execution_count": 120
        }
      ],
      "source": [
        "new3 = model3.batch_prefetch_data(data2015_sf,labels2015_sf,split_data=False)\n",
        "model3.evaluate(new3)\n",
        "#base_model.evaluate(data_new,labels_new)"
      ]
    },
    {
      "cell_type": "code",
      "execution_count": 121,
      "metadata": {
        "colab": {
          "base_uri": "https://localhost:8080/",
          "height": 290
        },
        "id": "F944mCUY6Mlk",
        "outputId": "ed2dd684-5535-4de2-f99b-cd9c9bd35b19"
      },
      "outputs": [
        {
          "output_type": "display_data",
          "data": {
            "text/plain": [
              "<Figure size 432x288 with 2 Axes>"
            ],
            "image/png": "[encoded data removed]"
          },
          "metadata": {
            "needs_background": "light"
          }
        }
      ],
      "source": [
        "#Form batches (does not shuffle, cuts off remainder)\n",
        "batched_2015_3 = model3.batch_prefetch_data(data2015_sf,split_data=False)\n",
        "#Cutoff matching remainder from labels\n",
        "true_labels_3 = labels2015_sf[:-(labels2015_sf.shape[0] % model3.batch_size)]\n",
        "#Do predictions and get confusion matrix\n",
        "conf_matrix_3 = model3.predict_conf_matrix(batched_2015_3,true_labels_3,make_plots=True)"
      ]
    },
    {
      "cell_type": "code",
      "execution_count": 122,
      "metadata": {
        "colab": {
          "base_uri": "https://localhost:8080/"
        },
        "id": "Q4yxcdSV6Mlk",
        "outputId": "1b49d160-2fc5-4b43-9744-daf427e4839d"
      },
      "outputs": [
        {
          "output_type": "execute_result",
          "data": {
            "text/plain": [
              "array([[  49031,  514609],\n",
              "       [ 133170, 2720790]])"
            ]
          },
          "metadata": {},
          "execution_count": 122
        }
      ],
      "source": [
        "conf_matrix_3"
      ]
    },
    {
      "cell_type": "code",
      "execution_count": 123,
      "metadata": {
        "colab": {
          "base_uri": "https://localhost:8080/",
          "height": 81
        },
        "id": "0yNfZt4v6Mlk",
        "outputId": "2dd9b16c-86c6-47f6-ce6c-df90db4a949e"
      },
      "outputs": [
        {
          "output_type": "execute_result",
          "data": {
            "text/plain": [
              "   precision    recall       far       hss\n",
              "0   0.953339  0.840944  0.730896  0.055726"
            ],
            "text/html": [
              "\n",
              "  <div id=\"df-ec3ec213-d0d1-4e97-98c2-b62f0cc4ae42\">\n",
              "    <div class=\"colab-df-container\">\n",
              "      <div>\n",
              "<style scoped>\n",
              "    .dataframe tbody tr th:only-of-type {\n",
              "        vertical-align: middle;\n",
              "    }\n",
              "\n",
              "    .dataframe tbody tr th {\n",
              "        vertical-align: top;\n",
              "    }\n",
              "\n",
              "    .dataframe thead th {\n",
              "        text-align: right;\n",
              "    }\n",
              "</style>\n",
              "<table border=\"1\" class=\"dataframe\">\n",
              "  <thead>\n",
              "    <tr style=\"text-align: right;\">\n",
              "      <th></th>\n",
              "      <th>precision</th>\n",
              "      <th>recall</th>\n",
              "      <th>far</th>\n",
              "      <th>hss</th>\n",
              "    </tr>\n",
              "  </thead>\n",
              "  <tbody>\n",
              "    <tr>\n",
              "      <th>0</th>\n",
              "      <td>0.953339</td>\n",
              "      <td>0.840944</td>\n",
              "      <td>0.730896</td>\n",
              "      <td>0.055726</td>\n",
              "    </tr>\n",
              "  </tbody>\n",
              "</table>\n",
              "</div>\n",
              "      <button class=\"colab-df-convert\" onclick=\"convertToInteractive('df-ec3ec213-d0d1-4e97-98c2-b62f0cc4ae42')\"\n",
              "              title=\"Convert this dataframe to an interactive table.\"\n",
              "              style=\"display:none;\">\n",
              "        \n",
              "  <svg xmlns=\"http://www.w3.org/2000/svg\" height=\"24px\"viewBox=\"0 0 24 24\"\n",
              "       width=\"24px\">\n",
              "    <path d=\"M0 0h24v24H0V0z\" fill=\"none\"/>\n",
              "    <path d=\"M18.56 5.44l.94 2.06.94-2.06 2.06-.94-2.06-.94-.94-2.06-.94 2.06-2.06.94zm-11 1L8.5 8.5l.94-2.06 2.06-.94-2.06-.94L8.5 2.5l-.94 2.06-2.06.94zm10 10l.94 2.06.94-2.06 2.06-.94-2.06-.94-.94-2.06-.94 2.06-2.06.94z\"/><path d=\"M17.41 7.96l-1.37-1.37c-.4-.4-.92-.59-1.43-.59-.52 0-1.04.2-1.43.59L10.3 9.45l-7.72 7.72c-.78.78-.78 2.05 0 2.83L4 21.41c.39.39.9.59 1.41.59.51 0 1.02-.2 1.41-.59l7.78-7.78 2.81-2.81c.8-.78.8-2.07 0-2.86zM5.41 20L4 18.59l7.72-7.72 1.47 1.35L5.41 20z\"/>\n",
              "  </svg>\n",
              "      </button>\n",
              "      \n",
              "  <style>\n",
              "    .colab-df-container {\n",
              "      display:flex;\n",
              "      flex-wrap:wrap;\n",
              "      gap: 12px;\n",
              "    }\n",
              "\n",
              "    .colab-df-convert {\n",
              "      background-color: #E8F0FE;\n",
              "      border: none;\n",
              "      border-radius: 50%;\n",
              "      cursor: pointer;\n",
              "      display: none;\n",
              "      fill: #1967D2;\n",
              "      height: 32px;\n",
              "      padding: 0 0 0 0;\n",
              "      width: 32px;\n",
              "    }\n",
              "\n",
              "    .colab-df-convert:hover {\n",
              "      background-color: #E2EBFA;\n",
              "      box-shadow: 0px 1px 2px rgba(60, 64, 67, 0.3), 0px 1px 3px 1px rgba(60, 64, 67, 0.15);\n",
              "      fill: #174EA6;\n",
              "    }\n",
              "\n",
              "    [theme=dark] .colab-df-convert {\n",
              "      background-color: #3B4455;\n",
              "      fill: #D2E3FC;\n",
              "    }\n",
              "\n",
              "    [theme=dark] .colab-df-convert:hover {\n",
              "      background-color: #434B5C;\n",
              "      box-shadow: 0px 1px 3px 1px rgba(0, 0, 0, 0.15);\n",
              "      filter: drop-shadow(0px 1px 2px rgba(0, 0, 0, 0.3));\n",
              "      fill: #FFFFFF;\n",
              "    }\n",
              "  </style>\n",
              "\n",
              "      <script>\n",
              "        const buttonEl =\n",
              "          document.querySelector('#df-ec3ec213-d0d1-4e97-98c2-b62f0cc4ae42 button.colab-df-convert');\n",
              "        buttonEl.style.display =\n",
              "          google.colab.kernel.accessAllowed ? 'block' : 'none';\n",
              "\n",
              "        async function convertToInteractive(key) {\n",
              "          const element = document.querySelector('#df-ec3ec213-d0d1-4e97-98c2-b62f0cc4ae42');\n",
              "          const dataTable =\n",
              "            await google.colab.kernel.invokeFunction('convertToInteractive',\n",
              "                                                     [key], {});\n",
              "          if (!dataTable) return;\n",
              "\n",
              "          const docLinkHtml = 'Like what you see? Visit the ' +\n",
              "            '<a target=\"_blank\" href=https://colab.research.google.com/notebooks/data_table.ipynb>data table notebook</a>'\n",
              "            + ' to learn more about interactive tables.';\n",
              "          element.innerHTML = '';\n",
              "          dataTable['output_type'] = 'display_data';\n",
              "          await google.colab.output.renderOutput(dataTable, element);\n",
              "          const docLink = document.createElement('div');\n",
              "          docLink.innerHTML = docLinkHtml;\n",
              "          element.appendChild(docLink);\n",
              "        }\n",
              "      </script>\n",
              "    </div>\n",
              "  </div>\n",
              "  "
            ]
          },
          "metadata": {},
          "execution_count": 123
        }
      ],
      "source": [
        "model3.calculate_statistics(conf_matrix_3)"
      ]
    },
    {
      "cell_type": "code",
      "execution_count": 124,
      "metadata": {
        "colab": {
          "base_uri": "https://localhost:8080/"
        },
        "id": "VcWFK1HF8Dmz",
        "outputId": "166f7c91-71d9-4987-9f33-0b479475e610"
      },
      "outputs": [
        {
          "output_type": "execute_result",
          "data": {
            "text/plain": [
              "(28480, 120, 1)"
            ]
          },
          "metadata": {},
          "execution_count": 124
        }
      ],
      "source": [
        "true_labels_3.shape"
      ]
    },
    {
      "cell_type": "code",
      "execution_count": 125,
      "metadata": {
        "id": "AaK5RF7LW5Ia",
        "colab": {
          "base_uri": "https://localhost:8080/",
          "height": 336
        },
        "outputId": "46f0f71d-9bcf-42a9-842f-d5cf06982cc9"
      },
      "outputs": [
        {
          "output_type": "stream",
          "name": "stderr",
          "text": [
            "/content/prediction_LSTM.py:219: VisibleDeprecationWarning: Creating an ndarray from ragged nested sequences (which is a list-or-tuple of lists-or-tuples-or ndarrays with different lengths or shapes) is deprecated. If you meant to do this, you must specify 'dtype=object' when creating the ndarray.\n",
            "  plt.boxplot(np.array([true_positive_logits, false_positive_logits]),\n"
          ]
        },
        {
          "output_type": "display_data",
          "data": {
            "text/plain": [
              "<Figure size 432x288 with 1 Axes>"
            ],
            "image/png": "[encoded data removed]"
          },
          "metadata": {
            "needs_background": "light"
          }
        }
      ],
      "source": [
        "tp_model3, fp_model3 = tuned_fs_model.view_prediction_distributions(true_labels=true_labels_3,data=batched_2015_3)"
      ]
    },
    {
      "cell_type": "code",
      "source": [
        "shutil.rmtree('/content/untitled_project')"
      ],
      "metadata": {
        "id": "4zCWJt_odEly"
      },
      "execution_count": 126,
      "outputs": []
    },
    {
      "cell_type": "markdown",
      "source": [
        "# Download Files from Google Colab (if necessary)"
      ],
      "metadata": {
        "id": "ZRu653Ukk6MA"
      }
    },
    {
      "cell_type": "code",
      "source": [
        "from google.colab import drive"
      ],
      "metadata": {
        "id": "vdBY_kJak9pM"
      },
      "execution_count": 127,
      "outputs": []
    },
    {
      "cell_type": "code",
      "source": [
        "drive.mount('/content/drive')"
      ],
      "metadata": {
        "colab": {
          "base_uri": "https://localhost:8080/"
        },
        "id": "WXL9VnKylXJh",
        "outputId": "96292e9c-325b-4bcb-ed85-d1691c1fedb6"
      },
      "execution_count": 129,
      "outputs": [
        {
          "output_type": "stream",
          "name": "stdout",
          "text": [
            "Mounted at /content/drive\n"
          ]
        }
      ]
    },
    {
      "cell_type": "code",
      "source": [
        "drive.flush_and_unmount()"
      ],
      "metadata": {
        "id": "95G2Z9oEczq6"
      },
      "execution_count": 130,
      "outputs": []
    },
    {
      "cell_type": "code",
      "source": [
        ""
      ],
      "metadata": {
        "id": "acEmF_mjeWXC"
      },
      "execution_count": null,
      "outputs": []
    }
  ],
  "metadata": {
    "colab": {
      "collapsed_sections": [
        "vMjoI39BfCze",
        "wetBz_EiNHYJ"
      ],
      "machine_shape": "hm",
      "name": "ColabNotebook_ModelPipeline.ipynb",
      "provenance": []
    },
    "kernelspec": {
      "display_name": "Python 3",
      "language": "python",
      "name": "python3"
    },
    "language_info": {
      "codemirror_mode": {
        "name": "ipython",
        "version": 3
      },
      "file_extension": ".py",
      "mimetype": "text/x-python",
      "name": "python",
      "nbconvert_exporter": "python",
      "pygments_lexer": "ipython3",
      "version": "3.8.3"
    }
  },
  "nbformat": 4,
  "nbformat_minor": 0
}