{
  "cells": [
    {
      "cell_type": "markdown",
      "metadata": {
        "id": "OepbSvctPysr"
      },
      "source": [
        "# Pip Install Keras-Tuner (if necessary)"
      ]
    },
    {
      "cell_type": "code",
      "execution_count": 2,
      "metadata": {
        "colab": {
          "base_uri": "https://localhost:8080/"
        },
        "id": "ky0FGKOwTBkL",
        "outputId": "6db98f43-8335-4ffe-8272-14d4cb4b65fe"
      },
      "outputs": [
        {
          "output_type": "stream",
          "name": "stdout",
          "text": [
            "Collecting keras-tuner\n",
            "  Downloading keras_tuner-1.1.2-py3-none-any.whl (133 kB)\n",
            "\u001b[?25l\r\u001b[K     |██▌                             | 10 kB 30.7 MB/s eta 0:00:01\r\u001b[K     |█████                           | 20 kB 34.6 MB/s eta 0:00:01\r\u001b[K     |███████▍                        | 30 kB 39.7 MB/s eta 0:00:01\r\u001b[K     |█████████▉                      | 40 kB 28.9 MB/s eta 0:00:01\r\u001b[K     |████████████▎                   | 51 kB 27.2 MB/s eta 0:00:01\r\u001b[K     |██████████████▊                 | 61 kB 30.3 MB/s eta 0:00:01\r\u001b[K     |█████████████████▏              | 71 kB 24.7 MB/s eta 0:00:01\r\u001b[K     |███████████████████▋            | 81 kB 25.7 MB/s eta 0:00:01\r\u001b[K     |██████████████████████          | 92 kB 27.8 MB/s eta 0:00:01\r\u001b[K     |████████████████████████▌       | 102 kB 25.7 MB/s eta 0:00:01\r\u001b[K     |███████████████████████████     | 112 kB 25.7 MB/s eta 0:00:01\r\u001b[K     |█████████████████████████████▍  | 122 kB 25.7 MB/s eta 0:00:01\r\u001b[K     |███████████████████████████████▉| 133 kB 25.7 MB/s eta 0:00:01\r\u001b[K     |████████████████████████████████| 133 kB 25.7 MB/s \n",
            "\u001b[?25hRequirement already satisfied: tensorboard in /usr/local/lib/python3.7/dist-packages (from keras-tuner) (2.8.0)\n",
            "Requirement already satisfied: packaging in /usr/local/lib/python3.7/dist-packages (from keras-tuner) (21.3)\n",
            "Requirement already satisfied: numpy in /usr/local/lib/python3.7/dist-packages (from keras-tuner) (1.21.6)\n",
            "Requirement already satisfied: requests in /usr/local/lib/python3.7/dist-packages (from keras-tuner) (2.23.0)\n",
            "Requirement already satisfied: ipython in /usr/local/lib/python3.7/dist-packages (from keras-tuner) (5.5.0)\n",
            "Collecting kt-legacy\n",
            "  Downloading kt_legacy-1.0.4-py3-none-any.whl (9.6 kB)\n",
            "Requirement already satisfied: prompt-toolkit<2.0.0,>=1.0.4 in /usr/local/lib/python3.7/dist-packages (from ipython->keras-tuner) (1.0.18)\n",
            "Requirement already satisfied: decorator in /usr/local/lib/python3.7/dist-packages (from ipython->keras-tuner) (4.4.2)\n",
            "Requirement already satisfied: pickleshare in /usr/local/lib/python3.7/dist-packages (from ipython->keras-tuner) (0.7.5)\n",
            "Requirement already satisfied: pexpect in /usr/local/lib/python3.7/dist-packages (from ipython->keras-tuner) (4.8.0)\n",
            "Requirement already satisfied: simplegeneric>0.8 in /usr/local/lib/python3.7/dist-packages (from ipython->keras-tuner) (0.8.1)\n",
            "Requirement already satisfied: pygments in /usr/local/lib/python3.7/dist-packages (from ipython->keras-tuner) (2.6.1)\n",
            "Requirement already satisfied: setuptools>=18.5 in /usr/local/lib/python3.7/dist-packages (from ipython->keras-tuner) (57.4.0)\n",
            "Requirement already satisfied: traitlets>=4.2 in /usr/local/lib/python3.7/dist-packages (from ipython->keras-tuner) (5.1.1)\n",
            "Requirement already satisfied: six>=1.9.0 in /usr/local/lib/python3.7/dist-packages (from prompt-toolkit<2.0.0,>=1.0.4->ipython->keras-tuner) (1.15.0)\n",
            "Requirement already satisfied: wcwidth in /usr/local/lib/python3.7/dist-packages (from prompt-toolkit<2.0.0,>=1.0.4->ipython->keras-tuner) (0.2.5)\n",
            "Requirement already satisfied: pyparsing!=3.0.5,>=2.0.2 in /usr/local/lib/python3.7/dist-packages (from packaging->keras-tuner) (3.0.8)\n",
            "Requirement already satisfied: ptyprocess>=0.5 in /usr/local/lib/python3.7/dist-packages (from pexpect->ipython->keras-tuner) (0.7.0)\n",
            "Requirement already satisfied: idna<3,>=2.5 in /usr/local/lib/python3.7/dist-packages (from requests->keras-tuner) (2.10)\n",
            "Requirement already satisfied: chardet<4,>=3.0.2 in /usr/local/lib/python3.7/dist-packages (from requests->keras-tuner) (3.0.4)\n",
            "Requirement already satisfied: certifi>=2017.4.17 in /usr/local/lib/python3.7/dist-packages (from requests->keras-tuner) (2021.10.8)\n",
            "Requirement already satisfied: urllib3!=1.25.0,!=1.25.1,<1.26,>=1.21.1 in /usr/local/lib/python3.7/dist-packages (from requests->keras-tuner) (1.24.3)\n",
            "Requirement already satisfied: google-auth-oauthlib<0.5,>=0.4.1 in /usr/local/lib/python3.7/dist-packages (from tensorboard->keras-tuner) (0.4.6)\n",
            "Requirement already satisfied: markdown>=2.6.8 in /usr/local/lib/python3.7/dist-packages (from tensorboard->keras-tuner) (3.3.6)\n",
            "Requirement already satisfied: absl-py>=0.4 in /usr/local/lib/python3.7/dist-packages (from tensorboard->keras-tuner) (1.0.0)\n",
            "Requirement already satisfied: tensorboard-data-server<0.7.0,>=0.6.0 in /usr/local/lib/python3.7/dist-packages (from tensorboard->keras-tuner) (0.6.1)\n",
            "Requirement already satisfied: tensorboard-plugin-wit>=1.6.0 in /usr/local/lib/python3.7/dist-packages (from tensorboard->keras-tuner) (1.8.1)\n",
            "Requirement already satisfied: werkzeug>=0.11.15 in /usr/local/lib/python3.7/dist-packages (from tensorboard->keras-tuner) (1.0.1)\n",
            "Requirement already satisfied: protobuf>=3.6.0 in /usr/local/lib/python3.7/dist-packages (from tensorboard->keras-tuner) (3.17.3)\n",
            "Requirement already satisfied: google-auth<3,>=1.6.3 in /usr/local/lib/python3.7/dist-packages (from tensorboard->keras-tuner) (1.35.0)\n",
            "Requirement already satisfied: grpcio>=1.24.3 in /usr/local/lib/python3.7/dist-packages (from tensorboard->keras-tuner) (1.44.0)\n",
            "Requirement already satisfied: wheel>=0.26 in /usr/local/lib/python3.7/dist-packages (from tensorboard->keras-tuner) (0.37.1)\n",
            "Requirement already satisfied: cachetools<5.0,>=2.0.0 in /usr/local/lib/python3.7/dist-packages (from google-auth<3,>=1.6.3->tensorboard->keras-tuner) (4.2.4)\n",
            "Requirement already satisfied: pyasn1-modules>=0.2.1 in /usr/local/lib/python3.7/dist-packages (from google-auth<3,>=1.6.3->tensorboard->keras-tuner) (0.2.8)\n",
            "Requirement already satisfied: rsa<5,>=3.1.4 in /usr/local/lib/python3.7/dist-packages (from google-auth<3,>=1.6.3->tensorboard->keras-tuner) (4.8)\n",
            "Requirement already satisfied: requests-oauthlib>=0.7.0 in /usr/local/lib/python3.7/dist-packages (from google-auth-oauthlib<0.5,>=0.4.1->tensorboard->keras-tuner) (1.3.1)\n",
            "Requirement already satisfied: importlib-metadata>=4.4 in /usr/local/lib/python3.7/dist-packages (from markdown>=2.6.8->tensorboard->keras-tuner) (4.11.3)\n",
            "Requirement already satisfied: zipp>=0.5 in /usr/local/lib/python3.7/dist-packages (from importlib-metadata>=4.4->markdown>=2.6.8->tensorboard->keras-tuner) (3.8.0)\n",
            "Requirement already satisfied: typing-extensions>=3.6.4 in /usr/local/lib/python3.7/dist-packages (from importlib-metadata>=4.4->markdown>=2.6.8->tensorboard->keras-tuner) (4.1.1)\n",
            "Requirement already satisfied: pyasn1<0.5.0,>=0.4.6 in /usr/local/lib/python3.7/dist-packages (from pyasn1-modules>=0.2.1->google-auth<3,>=1.6.3->tensorboard->keras-tuner) (0.4.8)\n",
            "Requirement already satisfied: oauthlib>=3.0.0 in /usr/local/lib/python3.7/dist-packages (from requests-oauthlib>=0.7.0->google-auth-oauthlib<0.5,>=0.4.1->tensorboard->keras-tuner) (3.2.0)\n",
            "Installing collected packages: kt-legacy, keras-tuner\n",
            "Successfully installed keras-tuner-1.1.2 kt-legacy-1.0.4\n"
          ]
        }
      ],
      "source": [
        "!pip install keras-tuner"
      ]
    },
    {
      "cell_type": "markdown",
      "metadata": {
        "id": "qZcbcS18P4n9"
      },
      "source": [
        "# Import Required Packages"
      ]
    },
    {
      "cell_type": "code",
      "execution_count": 1,
      "metadata": {
        "id": "10irgd5fQsTQ",
        "colab": {
          "base_uri": "https://localhost:8080/"
        },
        "outputId": "e27b3d59-772a-444b-fcf7-d428d4dd1c80"
      },
      "outputs": [
        {
          "output_type": "stream",
          "name": "stdout",
          "text": [
            "The Zen of Python, by Tim Peters\n",
            "\n",
            "Beautiful is better than ugly.\n",
            "Explicit is better than implicit.\n",
            "Simple is better than complex.\n",
            "Complex is better than complicated.\n",
            "Flat is better than nested.\n",
            "Sparse is better than dense.\n",
            "Readability counts.\n",
            "Special cases aren't special enough to break the rules.\n",
            "Although practicality beats purity.\n",
            "Errors should never pass silently.\n",
            "Unless explicitly silenced.\n",
            "In the face of ambiguity, refuse the temptation to guess.\n",
            "There should be one-- and preferably only one --obvious way to do it.\n",
            "Although that way may not be obvious at first unless you're Dutch.\n",
            "Now is better than never.\n",
            "Although never is often better than *right* now.\n",
            "If the implementation is hard to explain, it's a bad idea.\n",
            "If the implementation is easy to explain, it may be a good idea.\n",
            "Namespaces are one honking great idea -- let's do more of those!\n"
          ]
        }
      ],
      "source": [
        "from data_creation import DataSelection\n",
        "from prediction_LSTM import SolarLSTM\n",
        "import pickle\n",
        "import numpy as np\n",
        "import tensorflow as tf\n",
        "from tensorflow import keras"
      ]
    },
    {
      "cell_type": "markdown",
      "metadata": {
        "id": "-tIs0gOhPI7t"
      },
      "source": [
        "# Base Model with All Parameters"
      ]
    },
    {
      "cell_type": "code",
      "execution_count": null,
      "metadata": {
        "colab": {
          "base_uri": "https://localhost:8080/"
        },
        "id": "Zh4G0bs9Q1B8",
        "outputId": "deca20b9-b12d-46ff-be4e-9cdc23f2feb8"
      },
      "outputs": [
        {
          "output_type": "stream",
          "name": "stdout",
          "text": [
            "Num GB used in data array: 0.0\n",
            "Num GB used in data array: 0.0019025802612304688\n",
            "Num GB used in data array: 0.0019025802612304688\n",
            "Num GB used in data array: 0.00268399715423584\n",
            "Num GB used in data array: 0.00268399715423584\n",
            "Num GB used in data array: 0.006217360496520996\n",
            "Num GB used in data array: 0.006217360496520996\n",
            "Num GB used in data array: 0.011721253395080566\n",
            "Num GB used in data array: 0.011721253395080566\n",
            "Num GB used in data array: 0.013895630836486816\n",
            "Num GB used in data array: 0.013895630836486816\n",
            "Num GB used in data array: 0.015526413917541504\n",
            "Num GB used in data array: 0.015526413917541504\n",
            "Num GB used in data array: 0.015526413917541504\n",
            "Num GB used in data array: 0.016783475875854492\n",
            "Num GB used in data array: 0.016783475875854492\n",
            "Num GB used in data array: 0.02300083637237549\n",
            "Num GB used in data array: 0.02300083637237549\n",
            "Num GB used in data array: 0.023374557495117188\n",
            "Num GB used in data array: 0.023374557495117188\n",
            "Num GB used in data array: 0.026805996894836426\n",
            "Num GB used in data array: 0.026805996894836426\n",
            "Num GB used in data array: 0.028708577156066895\n",
            "Num GB used in data array: 0.028708577156066895\n",
            "Num GB used in data array: 0.040463805198669434\n",
            "Num GB used in data array: 0.040463805198669434\n",
            "Num GB used in data array: 0.0423663854598999\n",
            "Num GB used in data array: 0.0423663854598999\n",
            "Num GB used in data array: 0.0478363037109375\n",
            "Num GB used in data array: 0.0478363037109375\n",
            "Num GB used in data array: 0.0478363037109375\n",
            "Num GB used in data array: 0.056092143058776855\n",
            "Num GB used in data array: 0.056092143058776855\n",
            "Num GB used in data array: 0.05714535713195801\n",
            "Num GB used in data array: 0.05714535713195801\n",
            "Num GB used in data array: 0.10426819324493408\n",
            "Num GB used in data array: 0.10426819324493408\n",
            "Num GB used in data array: 0.10912656784057617\n",
            "Num GB used in data array: 0.10912656784057617\n",
            "Num GB used in data array: 0.10950028896331787\n",
            "Num GB used in data array: 0.10950028896331787\n",
            "Num GB used in data array: 0.10970413684844971\n",
            "Num GB used in data array: 0.10970413684844971\n",
            "Num GB used in data array: 0.11109709739685059\n",
            "Num GB used in data array: 0.11109709739685059\n",
            "Num GB used in data array: 0.11299967765808105\n",
            "Num GB used in data array: 0.11299967765808105\n",
            "Num GB used in data array: 0.11514008045196533\n",
            "Num GB used in data array: 0.11514008045196533\n",
            "Num GB used in data array: 0.126725435256958\n",
            "Num GB used in data array: 0.126725435256958\n",
            "Num GB used in data array: 0.12743890285491943\n",
            "Num GB used in data array: 0.12743890285491943\n",
            "Num GB used in data array: 0.1293414831161499\n",
            "Num GB used in data array: 0.1293414831161499\n",
            "Num GB used in data array: 0.13124406337738037\n",
            "Num GB used in data array: 0.13124406337738037\n",
            "Num GB used in data array: 0.13348639011383057\n",
            "Num GB used in data array: 0.13348639011383057\n",
            "Num GB used in data array: 0.13538897037506104\n",
            "Num GB used in data array: 0.13538897037506104\n",
            "Num GB used in data array: 0.1372915506362915\n",
            "Num GB used in data array: 0.1372915506362915\n",
            "Num GB used in data array: 0.13919413089752197\n",
            "Num GB used in data array: 0.13919413089752197\n",
            "Num GB used in data array: 0.15376925468444824\n",
            "Num GB used in data array: 0.15376925468444824\n",
            "Num GB used in data array: 0.1556718349456787\n",
            "Num GB used in data array: 0.1556718349456787\n",
            "Num GB used in data array: 0.15689492225646973\n",
            "Num GB used in data array: 0.15689492225646973\n",
            "Num GB used in data array: 0.1574385166168213\n",
            "Num GB used in data array: 0.1574385166168213\n",
            "Num GB used in data array: 0.16341805458068848\n",
            "Num GB used in data array: 0.16341805458068848\n",
            "Num GB used in data array: 0.16630589962005615\n",
            "Num GB used in data array: 0.16630589962005615\n",
            "Num GB used in data array: 0.1675969362258911\n",
            "Num GB used in data array: 0.1675969362258911\n",
            "Num GB used in data array: 0.16783475875854492\n",
            "Num GB used in data array: 0.16783475875854492\n",
            "Num GB used in data array: 0.16783475875854492\n",
            "Num GB used in data array: 0.16783475875854492\n",
            "Num GB used in data array: 0.16783475875854492\n",
            "Num GB used in data array: 0.16783475875854492\n",
            "Num GB used in data array: 0.16783475875854492\n",
            "Num GB used in data array: 0.16783475875854492\n",
            "Num GB used in data array: 0.16783475875854492\n",
            "Num GB used in data array: 0.16783475875854492\n",
            "Num GB used in data array: 0.16783475875854492\n",
            "Num GB used in data array: 0.16783475875854492\n",
            "Num GB used in data array: 0.16783475875854492\n",
            "Num GB used in data array: 0.16783475875854492\n",
            "Num GB used in data array: 0.16783475875854492\n",
            "Num GB used in data array: 0.16783475875854492\n",
            "Num GB used in data array: 0.16783475875854492\n",
            "Num GB used in data array: 0.16783475875854492\n",
            "Num GB used in data array: 0.16783475875854492\n",
            "Num GB used in data array: 0.16783475875854492\n",
            "Num GB used in data array: 0.16783475875854492\n",
            "Num GB used in data array: 0.16783475875854492\n",
            "Num GB used in data array: 0.16783475875854492\n",
            "Num GB used in data array: 0.16783475875854492\n",
            "Num GB used in data array: 0.16783475875854492\n",
            "Num GB used in data array: 0.16783475875854492\n",
            "Num GB used in data array: 0.16783475875854492\n",
            "Num GB used in data array: 0.16783475875854492\n",
            "Num GB used in data array: 0.16783475875854492\n",
            "Num GB used in data array: 0.16783475875854492\n",
            "Num GB used in data array: 0.16783475875854492\n",
            "Num GB used in data array: 0.16783475875854492\n",
            "Num GB used in data array: 0.16783475875854492\n",
            "Num GB used in data array: 0.16783475875854492\n",
            "Num GB used in data array: 0.16783475875854492\n",
            "Num GB used in data array: 0.16783475875854492\n",
            "Num GB used in data array: 0.16783475875854492\n",
            "Num GB used in data array: 0.16783475875854492\n",
            "Num GB used in data array: 0.16783475875854492\n",
            "Num GB used in data array: 0.16783475875854492\n",
            "Num GB used in data array: 0.16783475875854492\n",
            "Num GB used in data array: 0.1775515079498291\n",
            "Num GB used in data array: 0.1775515079498291\n",
            "Num GB used in data array: 0.17795920372009277\n",
            "Num GB used in data array: 0.17795920372009277\n",
            "Num GB used in data array: 0.17795920372009277\n",
            "Num GB used in data array: 0.18906891345977783\n",
            "Num GB used in data array: 0.18906891345977783\n",
            "Num GB used in data array: 0.18906891345977783\n",
            "Num GB used in data array: 0.19212663173675537\n",
            "Num GB used in data array: 0.19212663173675537\n",
            "Num GB used in data array: 0.20248889923095703\n",
            "Num GB used in data array: 0.20248889923095703\n",
            "Num GB used in data array: 0.21808326244354248\n",
            "Num GB used in data array: 0.21808326244354248\n",
            "Num GB used in data array: 0.2619445323944092\n",
            "Num GB used in data array: 0.2619445323944092\n",
            "Num GB used in data array: 0.3016948699951172\n",
            "Num GB used in data array: 0.3016948699951172\n",
            "Num GB used in data array: 0.3101545572280884\n",
            "Num GB used in data array: 0.3101545572280884\n",
            "Num GB used in data array: 0.3108680248260498\n",
            "Num GB used in data array: 0.3108680248260498\n",
            "Num GB used in data array: 0.3113776445388794\n",
            "Num GB used in data array: 0.3113776445388794\n",
            "Num GB used in data array: 0.3114795684814453\n",
            "Num GB used in data array: 0.3114795684814453\n",
            "Num GB used in data array: 0.3114795684814453\n",
            "Num GB used in data array: 0.33033549785614014\n",
            "Num GB used in data array: 0.33033549785614014\n",
            "Num GB used in data array: 0.3321361541748047\n",
            "Num GB used in data array: 0.3321361541748047\n",
            "Num GB used in data array: 0.3465414047241211\n",
            "Num GB used in data array: 0.3465414047241211\n",
            "Num GB used in data array: 0.34745872020721436\n",
            "Num GB used in data array: 0.34745872020721436\n",
            "Num GB used in data array: 0.347934365272522\n",
            "Num GB used in data array: 0.347934365272522\n",
            "Num GB used in data array: 0.347934365272522\n",
            "Num GB used in data array: 0.347934365272522\n",
            "Num GB used in data array: 0.35303056240081787\n",
            "Num GB used in data array: 0.35303056240081787\n",
            "Num GB used in data array: 0.36549925804138184\n",
            "Num GB used in data array: 0.36549925804138184\n",
            "Num GB used in data array: 0.36549925804138184\n",
            "Num GB used in data array: 0.36549925804138184\n",
            "Num GB used in data array: 0.36549925804138184\n",
            "Num GB used in data array: 0.36549925804138184\n",
            "Num GB used in data array: 0.36549925804138184\n",
            "Num GB used in data array: 0.36549925804138184\n",
            "Num GB used in data array: 0.36549925804138184\n",
            "Num GB used in data array: 0.36549925804138184\n",
            "Num GB used in data array: 0.36549925804138184\n",
            "Num GB used in data array: 0.36549925804138184\n",
            "Num GB used in data array: 0.36549925804138184\n",
            "Num GB used in data array: 0.36549925804138184\n",
            "Num GB used in data array: 0.36549925804138184\n",
            "Num GB used in data array: 0.36549925804138184\n",
            "Num GB used in data array: 0.36549925804138184\n",
            "Num GB used in data array: 0.36549925804138184\n",
            "Num GB used in data array: 0.39842069149017334\n",
            "Num GB used in data array: 0.39842069149017334\n",
            "Num GB used in data array: 0.403822660446167\n",
            "Num GB used in data array: 0.403822660446167\n",
            "Num GB used in data array: 0.403822660446167\n",
            "Num GB used in data array: 0.4352492094039917\n",
            "Num GB used in data array: 0.4352492094039917\n",
            "Num GB used in data array: 0.4650449752807617\n",
            "Num GB used in data array: 0.4650449752807617\n",
            "Num GB used in data array: 0.4650449752807617\n",
            "Num GB used in data array: 0.4987478256225586\n",
            "Num GB used in data array: 0.4987478256225586\n",
            "Num GB used in data array: 0.5766516923904419\n",
            "Num GB used in data array: 0.5766516923904419\n",
            "Num GB used in data array: 0.5766516923904419\n",
            "Num GB used in data array: 0.621294379234314\n",
            "Num GB used in data array: 0.621294379234314\n",
            "Num GB used in data array: 0.6432759761810303\n",
            "Num GB used in data array: 0.6432759761810303\n",
            "Num GB used in data array: 0.6685531139373779\n",
            "Num GB used in data array: 0.6685531139373779\n",
            "Num GB used in data array: 0.6694024801254272\n",
            "Num GB used in data array: 0.6694024801254272\n",
            "Num GB used in data array: 0.6738871335983276\n",
            "Num GB used in data array: 0.6738871335983276\n",
            "Num GB used in data array: 0.6750762462615967\n",
            "Num GB used in data array: 0.6750762462615967\n",
            "Num GB used in data array: 0.6940340995788574\n",
            "Num GB used in data array: 0.6940340995788574\n",
            "Num GB used in data array: 0.7079976797103882\n",
            "Num GB used in data array: 0.7079976797103882\n",
            "Num GB used in data array: 0.7079976797103882\n",
            "Num GB used in data array: 0.7092207670211792\n",
            "Num GB used in data array: 0.7092207670211792\n",
            "Num GB used in data array: 0.7213157415390015\n",
            "Num GB used in data array: 0.7213157415390015\n",
            "Num GB used in data array: 0.7213157415390015\n",
            "Num GB used in data array: 0.7664680480957031\n",
            "Num GB used in data array: 0.7664680480957031\n",
            "Num GB used in data array: 0.7794803380966187\n",
            "Num GB used in data array: 0.7794803380966187\n",
            "Num GB used in data array: 0.8463424444198608\n",
            "Num GB used in data array: 0.8463424444198608\n",
            "Num GB used in data array: 0.8566027879714966\n",
            "Num GB used in data array: 0.8566027879714966\n",
            "Num GB used in data array: 0.8566027879714966\n",
            "Num GB used in data array: 0.8568745851516724\n",
            "Num GB used in data array: 0.8568745851516724\n",
            "Num GB used in data array: 0.8568745851516724\n",
            "Num GB used in data array: 0.8572483062744141\n",
            "Num GB used in data array: 0.8572483062744141\n",
            "Num GB used in data array: 0.8572483062744141\n",
            "Num GB used in data array: 0.8576220273971558\n",
            "Num GB used in data array: 0.8576220273971558\n",
            "Num GB used in data array: 0.8591848611831665\n",
            "Num GB used in data array: 0.8591848611831665\n",
            "Num GB used in data array: 0.8591848611831665\n",
            "Num GB used in data array: 0.8591848611831665\n",
            "Num GB used in data array: 0.8591848611831665\n",
            "Num GB used in data array: 0.8591848611831665\n",
            "Num GB used in data array: 0.8591848611831665\n",
            "Num GB used in data array: 0.8591848611831665\n",
            "Num GB used in data array: 0.8602380752563477\n",
            "Num GB used in data array: 0.8602380752563477\n",
            "Num GB used in data array: 0.8607137203216553\n",
            "Num GB used in data array: 0.8607137203216553\n",
            "Num GB used in data array: 0.8607137203216553\n",
            "Num GB used in data array: 0.8607137203216553\n",
            "Num GB used in data array: 0.8607137203216553\n",
            "Num GB used in data array: 0.8607137203216553\n",
            "Num GB used in data array: 0.8607137203216553\n",
            "Num GB used in data array: 0.8607137203216553\n",
            "Num GB used in data array: 0.8607137203216553\n",
            "Num GB used in data array: 0.8628201484680176\n",
            "Num GB used in data array: 0.8628201484680176\n",
            "Num GB used in data array: 0.8714157342910767\n",
            "Num GB used in data array: 0.8714157342910767\n",
            "Num GB used in data array: 0.8714157342910767\n",
            "Num GB used in data array: 0.8714157342910767\n",
            "Num GB used in data array: 0.8714157342910767\n",
            "Num GB used in data array: 0.8714157342910767\n",
            "Num GB used in data array: 0.8714157342910767\n",
            "Num GB used in data array: 0.8714157342910767\n",
            "Num GB used in data array: 0.8714157342910767\n",
            "Num GB used in data array: 0.8714157342910767\n",
            "Num GB used in data array: 0.8714157342910767\n",
            "Num GB used in data array: 0.8714157342910767\n",
            "Num GB used in data array: 0.8714157342910767\n",
            "Num GB used in data array: 0.8714157342910767\n",
            "Num GB used in data array: 0.8714157342910767\n",
            "Num GB used in data array: 0.8714157342910767\n",
            "Num GB used in data array: 0.8714157342910767\n",
            "Num GB used in data array: 0.8714157342910767\n",
            "Num GB used in data array: 0.8714157342910767\n",
            "Num GB used in data array: 0.8714157342910767\n",
            "Num GB used in data array: 0.8714157342910767\n",
            "Num GB used in data array: 0.8714157342910767\n",
            "Num GB used in data array: 0.8714157342910767\n",
            "Num GB used in data array: 0.8714157342910767\n",
            "Num GB used in data array: 0.8714157342910767\n",
            "Num GB used in data array: 0.8714157342910767\n",
            "Num GB used in data array: 0.8714157342910767\n",
            "Num GB used in data array: 0.8714157342910767\n",
            "Num GB used in data array: 0.8714157342910767\n",
            "Num GB used in data array: 0.8714157342910767\n",
            "Num GB used in data array: 0.8714157342910767\n",
            "Num GB used in data array: 0.8714157342910767\n",
            "Num GB used in data array: 0.8714157342910767\n",
            "Num GB used in data array: 0.8714157342910767\n",
            "Num GB used in data array: 0.8714157342910767\n",
            "Num GB used in data array: 0.8714157342910767\n",
            "Num GB used in data array: 0.8714157342910767\n",
            "Num GB used in data array: 0.8714157342910767\n",
            "Num GB used in data array: 0.8714157342910767\n",
            "Num GB used in data array: 0.8714157342910767\n",
            "Num GB used in data array: 0.8714157342910767\n",
            "Num GB used in data array: 0.8714157342910767\n",
            "Num GB used in data array: 0.8714157342910767\n",
            "Num GB used in data array: 0.8714157342910767\n",
            "Num GB used in data array: 0.8714157342910767\n",
            "Num GB used in data array: 0.8714157342910767\n",
            "Num GB used in data array: 0.8714157342910767\n",
            "Num GB used in data array: 0.8714157342910767\n",
            "Num GB used in data array: 0.8714157342910767\n",
            "Num GB used in data array: 0.8714157342910767\n",
            "Num GB used in data array: 0.8714157342910767\n",
            "Num GB used in data array: 0.8714157342910767\n",
            "Num GB used in data array: 0.8714157342910767\n",
            "Num GB used in data array: 0.8714157342910767\n",
            "Num GB used in data array: 0.8714157342910767\n",
            "Num GB used in data array: 0.8714157342910767\n",
            "Num GB used in data array: 0.8714157342910767\n",
            "Num GB used in data array: 0.8714157342910767\n",
            "Num GB used in data array: 0.8714157342910767\n",
            "Num GB used in data array: 0.8714157342910767\n",
            "Num GB used in data array: 0.8714157342910767\n",
            "Num GB used in data array: 0.8714157342910767\n",
            "Num GB used in data array: 0.8714157342910767\n",
            "Num GB used in data array: 0.8714157342910767\n",
            "Num GB used in data array: 0.8714157342910767\n",
            "Num GB used in data array: 0.8714157342910767\n",
            "Num GB used in data array: 0.8714157342910767\n",
            "Num GB used in data array: 0.8714157342910767\n",
            "Num GB used in data array: 0.8714157342910767\n",
            "Num GB used in data array: 0.8714157342910767\n",
            "Num GB used in data array: 0.8714157342910767\n",
            "Num GB used in data array: 0.8714157342910767\n",
            "Num GB used in data array: 0.8714157342910767\n",
            "Num GB used in data array: 0.8714157342910767\n",
            "Num GB used in data array: 0.8714157342910767\n",
            "Num GB used in data array: 0.8714157342910767\n",
            "Num GB used in data array: 0.8714157342910767\n",
            "Num GB used in data array: 0.8714157342910767\n",
            "Num GB used in data array: 0.8714157342910767\n",
            "Num GB used in data array: 0.8714157342910767\n",
            "Num GB used in data array: 0.8714157342910767\n",
            "Num GB used in data array: 0.8714157342910767\n",
            "Num GB used in data array: 0.8714157342910767\n",
            "Num GB used in data array: 0.8714157342910767\n",
            "Num GB used in data array: 0.8714157342910767\n",
            "Num GB used in data array: 0.8714157342910767\n",
            "Num GB used in data array: 0.8714157342910767\n",
            "Num GB used in data array: 0.8714157342910767\n",
            "Num GB used in data array: 0.8714157342910767\n",
            "Num GB used in data array: 0.8714157342910767\n",
            "Num GB used in data array: 0.8714157342910767\n",
            "Num GB used in data array: 0.8714157342910767\n",
            "Num GB used in data array: 0.8714157342910767\n",
            "Num GB used in data array: 0.8714157342910767\n",
            "Num GB used in data array: 0.8714157342910767\n",
            "Num GB used in data array: 0.8714157342910767\n",
            "Num GB used in data array: 0.8714157342910767\n",
            "Num GB used in data array: 0.8714157342910767\n",
            "Num GB used in data array: 0.8714157342910767\n",
            "Num GB used in data array: 0.8714157342910767\n",
            "Num GB used in data array: 0.8714157342910767\n",
            "Num GB used in data array: 0.8714157342910767\n",
            "Num GB used in data array: 0.8714157342910767\n",
            "Num GB used in data array: 0.8714157342910767\n",
            "Num GB used in data array: 0.8714157342910767\n",
            "Num GB used in data array: 0.8714157342910767\n",
            "Num GB used in data array: 0.8714157342910767\n",
            "Num GB used in data array: 0.8714157342910767\n",
            "Num GB used in data array: 0.8714157342910767\n",
            "Num GB used in data array: 0.8714157342910767\n",
            "Num GB used in data array: 0.8714157342910767\n",
            "Num GB used in data array: 0.8714157342910767\n",
            "Num GB used in data array: 0.8714157342910767\n",
            "Num GB used in data array: 0.8714157342910767\n",
            "Num GB used in data array: 0.8714157342910767\n",
            "Num GB used in data array: 0.8714157342910767\n",
            "Num GB used in data array: 0.8714157342910767\n",
            "Num GB used in data array: 0.8714157342910767\n",
            "Num GB used in data array: 0.8714157342910767\n",
            "Num GB used in data array: 0.8714157342910767\n",
            "Num GB used in data array: 0.8714157342910767\n",
            "Num GB used in data array: 0.8714157342910767\n",
            "Num GB used in data array: 0.8714157342910767\n",
            "Num GB used in data array: 0.8714157342910767\n",
            "Num GB used in data array: 0.8714157342910767\n",
            "Num GB used in data array: 0.8714157342910767\n",
            "Num GB used in data array: 0.8714157342910767\n",
            "Num GB used in data array: 0.8714157342910767\n",
            "Num GB used in data array: 0.8714157342910767\n",
            "Num GB used in data array: 0.8714157342910767\n",
            "Num GB used in data array: 0.8714157342910767\n",
            "Num GB used in data array: 0.8714157342910767\n",
            "Num GB used in data array: 0.8714157342910767\n"
          ]
        },
        {
          "output_type": "execute_result",
          "data": {
            "text/plain": [
              "<data_creation.DataSelection at 0x7fead1cc0b10>"
            ]
          },
          "metadata": {},
          "execution_count": 3
        }
      ],
      "source": [
        "with open(\"/content/all_data.pkl\", \"rb\") as file:\n",
        "    data = pickle.load(file)\n",
        "\n",
        "DataSelection(data, 2014, \"./\", 38)\n",
        "# DataSelection(data, 2015, \"./\")"
      ]
    },
    {
      "cell_type": "code",
      "execution_count": null,
      "metadata": {
        "colab": {
          "base_uri": "https://localhost:8080/"
        },
        "id": "Z0Mm90v8_rMd",
        "outputId": "1040420e-33e1-4e5c-a4ee-404aa3b5fae4"
      },
      "outputs": [
        {
          "output_type": "stream",
          "name": "stdout",
          "text": [
            "Num GB used in data array: 0.0\n",
            "Num GB used in data array: 0.0019025802612304688\n",
            "Num GB used in data array: 0.0019025802612304688\n",
            "Num GB used in data array: 0.0031256675720214844\n",
            "Num GB used in data array: 0.0031256675720214844\n",
            "Num GB used in data array: 0.010973811149597168\n",
            "Num GB used in data array: 0.010973811149597168\n",
            "Num GB used in data array: 0.017496943473815918\n",
            "Num GB used in data array: 0.017496943473815918\n",
            "Num GB used in data array: 0.02415597438812256\n",
            "Num GB used in data array: 0.02415597438812256\n",
            "Num GB used in data array: 0.03142654895782471\n",
            "Num GB used in data array: 0.03142654895782471\n",
            "Num GB used in data array: 0.033329129219055176\n",
            "Num GB used in data array: 0.033329129219055176\n",
            "Num GB used in data array: 0.035231709480285645\n",
            "Num GB used in data array: 0.035231709480285645\n",
            "Num GB used in data array: 0.04630744457244873\n",
            "Num GB used in data array: 0.04630744457244873\n",
            "Num GB used in data array: 0.04668116569519043\n",
            "Num GB used in data array: 0.04668116569519043\n",
            "Num GB used in data array: 0.04759848117828369\n",
            "Num GB used in data array: 0.04759848117828369\n",
            "Num GB used in data array: 0.04759848117828369\n",
            "Num GB used in data array: 0.05874216556549072\n",
            "Num GB used in data array: 0.05874216556549072\n",
            "Num GB used in data array: 0.06064474582672119\n",
            "Num GB used in data array: 0.06064474582672119\n",
            "Num GB used in data array: 0.06152808666229248\n",
            "Num GB used in data array: 0.06152808666229248\n",
            "Num GB used in data array: 0.06152808666229248\n",
            "Num GB used in data array: 0.07073521614074707\n",
            "Num GB used in data array: 0.07073521614074707\n",
            "Num GB used in data array: 0.07178843021392822\n",
            "Num GB used in data array: 0.07178843021392822\n",
            "Num GB used in data array: 0.11503815650939941\n",
            "Num GB used in data array: 0.11503815650939941\n",
            "Num GB used in data array: 0.12271642684936523\n",
            "Num GB used in data array: 0.12271642684936523\n",
            "Num GB used in data array: 0.12614786624908447\n",
            "Num GB used in data array: 0.12614786624908447\n",
            "Num GB used in data array: 0.1263517141342163\n",
            "Num GB used in data array: 0.1263517141342163\n",
            "Num GB used in data array: 0.1263517141342163\n",
            "Num GB used in data array: 0.12726902961730957\n",
            "Num GB used in data array: 0.12726902961730957\n",
            "Num GB used in data array: 0.12726902961730957\n",
            "Num GB used in data array: 0.12726902961730957\n",
            "Num GB used in data array: 0.12726902961730957\n",
            "Num GB used in data array: 0.12726902961730957\n",
            "Num GB used in data array: 0.12726902961730957\n",
            "Num GB used in data array: 0.12726902961730957\n",
            "Num GB used in data array: 0.12726902961730957\n",
            "Num GB used in data array: 0.12726902961730957\n",
            "Num GB used in data array: 0.12726902961730957\n",
            "Num GB used in data array: 0.12726902961730957\n",
            "Num GB used in data array: 0.12726902961730957\n",
            "Num GB used in data array: 0.12726902961730957\n",
            "Num GB used in data array: 0.12726902961730957\n",
            "Num GB used in data array: 0.12726902961730957\n",
            "Num GB used in data array: 0.12726902961730957\n",
            "Num GB used in data array: 0.12726902961730957\n",
            "Num GB used in data array: 0.12726902961730957\n",
            "Num GB used in data array: 0.12726902961730957\n",
            "Num GB used in data array: 0.12726902961730957\n",
            "Num GB used in data array: 0.12726902961730957\n",
            "Num GB used in data array: 0.12726902961730957\n",
            "Num GB used in data array: 0.12726902961730957\n",
            "Num GB used in data array: 0.12726902961730957\n",
            "Num GB used in data array: 0.12726902961730957\n",
            "Num GB used in data array: 0.12726902961730957\n",
            "Num GB used in data array: 0.12726902961730957\n",
            "Num GB used in data array: 0.1277446746826172\n",
            "Num GB used in data array: 0.1277446746826172\n",
            "Num GB used in data array: 0.1277446746826172\n",
            "Num GB used in data array: 0.1277446746826172\n",
            "Num GB used in data array: 0.1277446746826172\n",
            "Num GB used in data array: 0.1277446746826172\n",
            "Num GB used in data array: 0.1277446746826172\n",
            "Num GB used in data array: 0.1277446746826172\n",
            "Num GB used in data array: 0.1277446746826172\n",
            "Num GB used in data array: 0.1277446746826172\n",
            "Num GB used in data array: 0.1277446746826172\n",
            "Num GB used in data array: 0.1277446746826172\n",
            "Num GB used in data array: 0.1277446746826172\n",
            "Num GB used in data array: 0.1277446746826172\n",
            "Num GB used in data array: 0.1277446746826172\n",
            "Num GB used in data array: 0.1277446746826172\n",
            "Num GB used in data array: 0.1277446746826172\n",
            "Num GB used in data array: 0.1277446746826172\n",
            "Num GB used in data array: 0.1277446746826172\n",
            "Num GB used in data array: 0.1277446746826172\n",
            "Num GB used in data array: 0.1277446746826172\n",
            "Num GB used in data array: 0.1277446746826172\n",
            "Num GB used in data array: 0.1277446746826172\n",
            "Num GB used in data array: 0.1277446746826172\n",
            "Num GB used in data array: 0.1277446746826172\n",
            "Num GB used in data array: 0.1277446746826172\n",
            "Num GB used in data array: 0.1277446746826172\n",
            "Num GB used in data array: 0.1277446746826172\n",
            "Num GB used in data array: 0.1277446746826172\n",
            "Num GB used in data array: 0.1277446746826172\n",
            "Num GB used in data array: 0.1277446746826172\n",
            "Num GB used in data array: 0.13545691967010498\n",
            "Num GB used in data array: 0.13545691967010498\n",
            "Num GB used in data array: 0.13545691967010498\n",
            "Num GB used in data array: 0.13545691967010498\n",
            "Num GB used in data array: 0.1376652717590332\n",
            "Num GB used in data array: 0.1376652717590332\n",
            "Num GB used in data array: 0.1376652717590332\n",
            "Num GB used in data array: 0.1376652717590332\n",
            "Num GB used in data array: 0.14231979846954346\n",
            "Num GB used in data array: 0.14231979846954346\n",
            "Num GB used in data array: 0.1500999927520752\n",
            "Num GB used in data array: 0.1500999927520752\n",
            "Num GB used in data array: 0.17846882343292236\n",
            "Num GB used in data array: 0.17846882343292236\n",
            "Num GB used in data array: 0.23214876651763916\n",
            "Num GB used in data array: 0.23214876651763916\n",
            "Num GB used in data array: 0.2421712875366211\n",
            "Num GB used in data array: 0.2421712875366211\n",
            "Num GB used in data array: 0.24356424808502197\n",
            "Num GB used in data array: 0.24356424808502197\n",
            "Num GB used in data array: 0.24407386779785156\n",
            "Num GB used in data array: 0.24407386779785156\n",
            "Num GB used in data array: 0.24407386779785156\n",
            "Num GB used in data array: 0.24407386779785156\n",
            "Num GB used in data array: 0.2676522731781006\n",
            "Num GB used in data array: 0.2676522731781006\n",
            "Num GB used in data array: 0.2734619379043579\n",
            "Num GB used in data array: 0.2734619379043579\n",
            "Num GB used in data array: 0.29418647289276123\n",
            "Num GB used in data array: 0.29418647289276123\n",
            "Num GB used in data array: 0.30196666717529297\n",
            "Num GB used in data array: 0.30196666717529297\n",
            "Num GB used in data array: 0.3089994192123413\n",
            "Num GB used in data array: 0.3089994192123413\n",
            "Num GB used in data array: 0.3089994192123413\n",
            "Num GB used in data array: 0.3089994192123413\n",
            "Num GB used in data array: 0.31538665294647217\n",
            "Num GB used in data array: 0.31538665294647217\n",
            "Num GB used in data array: 0.3223174810409546\n",
            "Num GB used in data array: 0.3223174810409546\n",
            "Num GB used in data array: 0.3223174810409546\n",
            "Num GB used in data array: 0.3223174810409546\n",
            "Num GB used in data array: 0.3223174810409546\n",
            "Num GB used in data array: 0.3223174810409546\n",
            "Num GB used in data array: 0.3223174810409546\n",
            "Num GB used in data array: 0.3223174810409546\n",
            "Num GB used in data array: 0.3227931261062622\n",
            "Num GB used in data array: 0.3227931261062622\n",
            "Num GB used in data array: 0.323064923286438\n",
            "Num GB used in data array: 0.323064923286438\n",
            "Num GB used in data array: 0.323064923286438\n",
            "Num GB used in data array: 0.323064923286438\n",
            "Num GB used in data array: 0.323064923286438\n",
            "Num GB used in data array: 0.323064923286438\n",
            "Num GB used in data array: 0.323064923286438\n",
            "Num GB used in data array: 0.323064923286438\n",
            "Num GB used in data array: 0.323064923286438\n",
            "Num GB used in data array: 0.323064923286438\n",
            "Num GB used in data array: 0.34745872020721436\n",
            "Num GB used in data array: 0.34745872020721436\n",
            "Num GB used in data array: 0.3492933511734009\n",
            "Num GB used in data array: 0.3492933511734009\n",
            "Num GB used in data array: 0.3492933511734009\n",
            "Num GB used in data array: 0.3666883707046509\n",
            "Num GB used in data array: 0.3666883707046509\n",
            "Num GB used in data array: 0.3875148296356201\n",
            "Num GB used in data array: 0.3875148296356201\n",
            "Num GB used in data array: 0.3875148296356201\n",
            "Num GB used in data array: 0.4326331615447998\n",
            "Num GB used in data array: 0.4326331615447998\n",
            "Num GB used in data array: 0.5067998170852661\n",
            "Num GB used in data array: 0.5067998170852661\n",
            "Num GB used in data array: 0.5067998170852661\n",
            "Num GB used in data array: 0.5571502447128296\n",
            "Num GB used in data array: 0.5571502447128296\n",
            "Num GB used in data array: 0.583990216255188\n",
            "Num GB used in data array: 0.583990216255188\n",
            "Num GB used in data array: 0.5987012386322021\n",
            "Num GB used in data array: 0.5987012386322021\n",
            "Num GB used in data array: 0.5995506048202515\n",
            "Num GB used in data array: 0.5995506048202515\n",
            "Num GB used in data array: 0.6039673089981079\n",
            "Num GB used in data array: 0.6039673089981079\n",
            "Num GB used in data array: 0.6069231033325195\n",
            "Num GB used in data array: 0.6069231033325195\n",
            "Num GB used in data array: 0.6325060129165649\n",
            "Num GB used in data array: 0.6325060129165649\n",
            "Num GB used in data array: 0.6537741422653198\n",
            "Num GB used in data array: 0.6537741422653198\n",
            "Num GB used in data array: 0.6537741422653198\n",
            "Num GB used in data array: 0.6562542915344238\n",
            "Num GB used in data array: 0.6562542915344238\n",
            "Num GB used in data array: 0.6766051054000854\n",
            "Num GB used in data array: 0.6766051054000854\n",
            "Num GB used in data array: 0.6773525476455688\n",
            "Num GB used in data array: 0.6773525476455688\n",
            "Num GB used in data array: 0.7488352060317993\n",
            "Num GB used in data array: 0.7488352060317993\n",
            "Num GB used in data array: 0.7789027690887451\n",
            "Num GB used in data array: 0.7789027690887451\n",
            "Num GB used in data array: 0.8810985088348389\n",
            "Num GB used in data array: 0.8810985088348389\n",
            "Num GB used in data array: 0.8919364213943481\n",
            "Num GB used in data array: 0.8919364213943481\n",
            "Num GB used in data array: 0.8953678607940674\n",
            "Num GB used in data array: 0.8953678607940674\n",
            "Num GB used in data array: 0.9034878015518188\n",
            "Num GB used in data array: 0.9034878015518188\n",
            "Num GB used in data array: 0.9109961986541748\n",
            "Num GB used in data array: 0.9109961986541748\n",
            "Num GB used in data array: 0.9167039394378662\n",
            "Num GB used in data array: 0.9167039394378662\n",
            "Num GB used in data array: 0.9205770492553711\n",
            "Num GB used in data array: 0.9205770492553711\n",
            "Num GB used in data array: 0.9238725900650024\n",
            "Num GB used in data array: 0.9238725900650024\n",
            "Num GB used in data array: 0.9272021055221558\n",
            "Num GB used in data array: 0.9272021055221558\n",
            "Num GB used in data array: 0.9272021055221558\n",
            "Num GB used in data array: 0.9272021055221558\n",
            "Num GB used in data array: 0.9272021055221558\n",
            "Num GB used in data array: 0.9272021055221558\n",
            "Num GB used in data array: 0.9272021055221558\n",
            "Num GB used in data array: 0.9272021055221558\n",
            "Num GB used in data array: 0.9285610914230347\n",
            "Num GB used in data array: 0.9285610914230347\n",
            "Num GB used in data array: 0.9287989139556885\n",
            "Num GB used in data array: 0.9287989139556885\n",
            "Num GB used in data array: 0.9287989139556885\n",
            "Num GB used in data array: 0.9287989139556885\n",
            "Num GB used in data array: 0.9287989139556885\n",
            "Num GB used in data array: 0.9287989139556885\n",
            "Num GB used in data array: 0.9287989139556885\n",
            "Num GB used in data array: 0.9300559759140015\n",
            "Num GB used in data array: 0.9300559759140015\n",
            "Num GB used in data array: 0.9300559759140015\n",
            "Num GB used in data array: 0.9385836124420166\n",
            "Num GB used in data array: 0.9385836124420166\n",
            "Num GB used in data array: 0.9678018093109131\n",
            "Num GB used in data array: 0.9678018093109131\n",
            "Num GB used in data array: 0.9678018093109131\n",
            "Num GB used in data array: 0.9678018093109131\n",
            "Num GB used in data array: 0.9678018093109131\n",
            "Num GB used in data array: 0.9678018093109131\n",
            "Num GB used in data array: 0.9678018093109131\n",
            "Num GB used in data array: 0.9678018093109131\n",
            "Num GB used in data array: 0.9678018093109131\n",
            "Num GB used in data array: 0.9678018093109131\n",
            "Num GB used in data array: 0.9678018093109131\n",
            "Num GB used in data array: 0.9678018093109131\n",
            "Num GB used in data array: 0.9678018093109131\n",
            "Num GB used in data array: 0.9678018093109131\n",
            "Num GB used in data array: 0.9678018093109131\n",
            "Num GB used in data array: 0.9678018093109131\n",
            "Num GB used in data array: 0.9678018093109131\n",
            "Num GB used in data array: 0.9678018093109131\n",
            "Num GB used in data array: 0.9678018093109131\n",
            "Num GB used in data array: 0.9678018093109131\n",
            "Num GB used in data array: 0.9678018093109131\n",
            "Num GB used in data array: 0.9678018093109131\n",
            "Num GB used in data array: 0.9678018093109131\n",
            "Num GB used in data array: 0.9678018093109131\n",
            "Num GB used in data array: 0.9678018093109131\n",
            "Num GB used in data array: 0.9678018093109131\n",
            "Num GB used in data array: 0.9678018093109131\n",
            "Num GB used in data array: 0.9678018093109131\n",
            "Num GB used in data array: 0.9678018093109131\n",
            "Num GB used in data array: 0.9678018093109131\n",
            "Num GB used in data array: 0.9678018093109131\n",
            "Num GB used in data array: 0.9678018093109131\n",
            "Num GB used in data array: 0.9678018093109131\n",
            "Num GB used in data array: 0.9678018093109131\n",
            "Num GB used in data array: 0.9678018093109131\n",
            "Num GB used in data array: 0.9678018093109131\n",
            "Num GB used in data array: 0.9678018093109131\n",
            "Num GB used in data array: 0.9678018093109131\n",
            "Num GB used in data array: 0.9678018093109131\n",
            "Num GB used in data array: 0.9678018093109131\n",
            "Num GB used in data array: 0.9678018093109131\n",
            "Num GB used in data array: 0.9678018093109131\n",
            "Num GB used in data array: 0.9678018093109131\n",
            "Num GB used in data array: 0.9678018093109131\n",
            "Num GB used in data array: 0.9678018093109131\n",
            "Num GB used in data array: 0.9678018093109131\n",
            "Num GB used in data array: 0.9678018093109131\n",
            "Num GB used in data array: 0.9678018093109131\n",
            "Num GB used in data array: 0.9678018093109131\n",
            "Num GB used in data array: 0.9678018093109131\n",
            "Num GB used in data array: 0.9678018093109131\n",
            "Num GB used in data array: 0.9678018093109131\n",
            "Num GB used in data array: 0.9678018093109131\n",
            "Num GB used in data array: 0.9678018093109131\n",
            "Num GB used in data array: 0.9678018093109131\n",
            "Num GB used in data array: 0.9678018093109131\n",
            "Num GB used in data array: 0.9678018093109131\n",
            "Num GB used in data array: 0.9678018093109131\n",
            "Num GB used in data array: 0.9678018093109131\n",
            "Num GB used in data array: 0.9678018093109131\n",
            "Num GB used in data array: 0.9678018093109131\n",
            "Num GB used in data array: 0.9678018093109131\n",
            "Num GB used in data array: 0.9678018093109131\n",
            "Num GB used in data array: 0.9678018093109131\n",
            "Num GB used in data array: 0.9678018093109131\n",
            "Num GB used in data array: 0.9678018093109131\n",
            "Num GB used in data array: 0.9678018093109131\n",
            "Num GB used in data array: 0.9678018093109131\n",
            "Num GB used in data array: 0.9678018093109131\n",
            "Num GB used in data array: 0.9678018093109131\n",
            "Num GB used in data array: 0.9678018093109131\n",
            "Num GB used in data array: 0.9678018093109131\n",
            "Num GB used in data array: 0.9678018093109131\n",
            "Num GB used in data array: 0.9678018093109131\n",
            "Num GB used in data array: 0.9678018093109131\n",
            "Num GB used in data array: 0.9678018093109131\n",
            "Num GB used in data array: 0.9678018093109131\n",
            "Num GB used in data array: 0.9678018093109131\n",
            "Num GB used in data array: 0.9678018093109131\n",
            "Num GB used in data array: 0.9678018093109131\n",
            "Num GB used in data array: 0.9678018093109131\n",
            "Num GB used in data array: 0.9678018093109131\n",
            "Num GB used in data array: 0.9678018093109131\n",
            "Num GB used in data array: 0.9678018093109131\n",
            "Num GB used in data array: 0.9678018093109131\n",
            "Num GB used in data array: 0.9678018093109131\n",
            "Num GB used in data array: 0.9678018093109131\n",
            "Num GB used in data array: 0.9678018093109131\n",
            "Num GB used in data array: 0.9678018093109131\n",
            "Num GB used in data array: 0.9678018093109131\n",
            "Num GB used in data array: 0.9678018093109131\n",
            "Num GB used in data array: 0.9678018093109131\n",
            "Num GB used in data array: 0.9678018093109131\n",
            "Num GB used in data array: 0.9678018093109131\n",
            "Num GB used in data array: 0.9678018093109131\n",
            "Num GB used in data array: 0.9678018093109131\n",
            "Num GB used in data array: 0.9678018093109131\n",
            "Num GB used in data array: 0.9678018093109131\n",
            "Num GB used in data array: 0.9678018093109131\n",
            "Num GB used in data array: 0.9678018093109131\n",
            "Num GB used in data array: 0.9678018093109131\n",
            "Num GB used in data array: 0.9678018093109131\n",
            "Num GB used in data array: 0.9678018093109131\n",
            "Num GB used in data array: 0.9678018093109131\n",
            "Num GB used in data array: 0.9678018093109131\n",
            "Num GB used in data array: 0.9678018093109131\n",
            "Num GB used in data array: 0.9678018093109131\n",
            "Num GB used in data array: 0.9678018093109131\n",
            "Num GB used in data array: 0.9678018093109131\n",
            "Num GB used in data array: 0.9678018093109131\n",
            "Num GB used in data array: 0.9678018093109131\n",
            "Num GB used in data array: 0.9678018093109131\n",
            "Num GB used in data array: 0.9678018093109131\n",
            "Num GB used in data array: 0.9678018093109131\n",
            "Num GB used in data array: 0.9678018093109131\n",
            "Num GB used in data array: 0.9678018093109131\n",
            "Num GB used in data array: 0.9678018093109131\n",
            "Num GB used in data array: 0.9678018093109131\n",
            "Num GB used in data array: 0.9678018093109131\n",
            "Num GB used in data array: 0.9678018093109131\n",
            "Num GB used in data array: 0.9678018093109131\n",
            "Num GB used in data array: 0.9678018093109131\n",
            "Num GB used in data array: 0.9678018093109131\n",
            "Num GB used in data array: 0.9678018093109131\n",
            "Num GB used in data array: 0.9678018093109131\n",
            "Num GB used in data array: 0.9678018093109131\n",
            "Num GB used in data array: 0.9678018093109131\n",
            "Num GB used in data array: 0.9678018093109131\n",
            "Num GB used in data array: 0.9678018093109131\n",
            "Num GB used in data array: 0.9678018093109131\n",
            "Num GB used in data array: 0.9678018093109131\n",
            "Num GB used in data array: 0.9678018093109131\n",
            "Num GB used in data array: 0.9678018093109131\n"
          ]
        },
        {
          "output_type": "execute_result",
          "data": {
            "text/plain": [
              "<data_creation.DataSelection at 0x7fead1cfcad0>"
            ]
          },
          "metadata": {},
          "execution_count": 4
        }
      ],
      "source": [
        "with open(\"norm_scaler.pkl\", \"rb\") as norm_file:\n",
        "    normalization = pickle.load(norm_file)\n",
        "\n",
        "with open(\"stand_scaler.pkl\", \"rb\") as stand_file:\n",
        "    standard = pickle.load(stand_file)\n",
        "\n",
        "DataSelection(data, 2015,\"./\", 38, norm_scaler=normalization, stand_scaler=standard)"
      ]
    },
    {
      "cell_type": "code",
      "execution_count": null,
      "metadata": {
        "id": "5caJAPMcssGm"
      },
      "outputs": [],
      "source": [
        "data2014 = np.load(\"data_2014.npy\")\n",
        "labels2014 = np.load(\"labels_2014.npy\")"
      ]
    },
    {
      "cell_type": "code",
      "execution_count": null,
      "metadata": {
        "id": "IvtuPAVJZ1HO",
        "colab": {
          "base_uri": "https://localhost:8080/"
        },
        "outputId": "0a290222-2c6e-49fe-ed29-d516d3dcc16b"
      },
      "outputs": [
        {
          "output_type": "execute_result",
          "data": {
            "text/plain": [
              "(25649, 120, 38)"
            ]
          },
          "metadata": {},
          "execution_count": 9
        }
      ],
      "source": [
        "data2014.shape"
      ]
    },
    {
      "cell_type": "code",
      "execution_count": null,
      "metadata": {
        "id": "kCjIZIOZZ6zL"
      },
      "outputs": [],
      "source": [
        "# # Need to adjust data size to ensure that each batch is of size 64\n",
        "# adjusted_data = data2014[:data2014.shape[0]-18, :, :]\n",
        "# adjusted_labels = labels2014[:labels2014.shape[0]-18, :, :]"
      ]
    },
    {
      "cell_type": "code",
      "execution_count": null,
      "metadata": {
        "id": "im3EwZyNYK6-"
      },
      "outputs": [],
      "source": [
        "base_model = SolarLSTM(data2014, labels2014, save_path=\"./\")"
      ]
    },
    {
      "cell_type": "code",
      "execution_count": null,
      "metadata": {
        "id": "Hx82BYHwQ7bb"
      },
      "outputs": [],
      "source": [
        "base_model.build_model()"
      ]
    },
    {
      "cell_type": "code",
      "execution_count": null,
      "metadata": {
        "id": "csd-wHI8Q9u-"
      },
      "outputs": [],
      "source": [
        "base_model.model"
      ]
    },
    {
      "cell_type": "code",
      "execution_count": null,
      "metadata": {
        "id": "PTJij7KnQ_ye"
      },
      "outputs": [],
      "source": [
        "history=base_model.fit()"
      ]
    },
    {
      "cell_type": "code",
      "execution_count": null,
      "metadata": {
        "id": "NXnJGhmM-Dxp"
      },
      "outputs": [],
      "source": [
        "data2015 = np.load(\"data_2015.npy\")\n",
        "labels2015 = np.load(\"labels_2015.npy\")"
      ]
    },
    {
      "cell_type": "code",
      "execution_count": null,
      "metadata": {
        "colab": {
          "base_uri": "https://localhost:8080/"
        },
        "id": "jpUoXB0L-Dxp",
        "outputId": "a6852d91-dfde-4ac6-9f0f-54d8ebeee2d8"
      },
      "outputs": [
        {
          "output_type": "execute_result",
          "data": {
            "text/plain": [
              "(28486, 120, 38)"
            ]
          },
          "metadata": {},
          "execution_count": 7
        }
      ],
      "source": [
        "data2015.shape"
      ]
    },
    {
      "cell_type": "code",
      "execution_count": null,
      "metadata": {
        "colab": {
          "base_uri": "https://localhost:8080/",
          "height": 200
        },
        "id": "h8GEjC8_Uufd",
        "outputId": "561ac5cf-9f1c-471d-a26d-04dade3e4852"
      },
      "outputs": [
        {
          "output_type": "error",
          "ename": "NameError",
          "evalue": "ignored",
          "traceback": [
            "\u001b[0;31m---------------------------------------------------------------------------\u001b[0m",
            "\u001b[0;31mNameError\u001b[0m                                 Traceback (most recent call last)",
            "\u001b[0;32m<ipython-input-8-df88321978e3>\u001b[0m in \u001b[0;36m<module>\u001b[0;34m()\u001b[0m\n\u001b[0;32m----> 1\u001b[0;31m \u001b[0mdata_new\u001b[0m \u001b[0;34m=\u001b[0m \u001b[0mbase_model\u001b[0m\u001b[0;34m.\u001b[0m\u001b[0mbatch_prefetch_data\u001b[0m\u001b[0;34m(\u001b[0m\u001b[0mdata2015\u001b[0m\u001b[0;34m,\u001b[0m\u001b[0mlabels2015\u001b[0m\u001b[0;34m,\u001b[0m\u001b[0msplit_data\u001b[0m\u001b[0;34m=\u001b[0m\u001b[0;32mFalse\u001b[0m\u001b[0;34m)\u001b[0m\u001b[0;34m\u001b[0m\u001b[0;34m\u001b[0m\u001b[0m\n\u001b[0m\u001b[1;32m      2\u001b[0m \u001b[0mbase_model\u001b[0m\u001b[0;34m.\u001b[0m\u001b[0mevaluate\u001b[0m\u001b[0;34m(\u001b[0m\u001b[0mdata_new\u001b[0m\u001b[0;34m)\u001b[0m\u001b[0;34m\u001b[0m\u001b[0;34m\u001b[0m\u001b[0m\n\u001b[1;32m      3\u001b[0m \u001b[0;31m#base_model.evaluate(data_new,labels_new)\u001b[0m\u001b[0;34m\u001b[0m\u001b[0;34m\u001b[0m\u001b[0;34m\u001b[0m\u001b[0m\n",
            "\u001b[0;31mNameError\u001b[0m: name 'base_model' is not defined"
          ]
        }
      ],
      "source": [
        "data_new = base_model.batch_prefetch_data(data2015,labels2015,split_data=False)\n",
        "base_model.evaluate(data_new)\n",
        "#base_model.evaluate(data_new,labels_new)"
      ]
    },
    {
      "cell_type": "code",
      "execution_count": null,
      "metadata": {
        "id": "CrsOmPlY-Dxr"
      },
      "outputs": [],
      "source": [
        "#Form batches (does not shuffle, cuts off remainder)\n",
        "batched_2015 = base_model.batch_prefetch_data(data2015,split_data=False)\n",
        "#Cutoff matching remainder from labels\n",
        "true_labels = labels2015[:-(labels2015.shape[0]%base_model.batch_size)]"
      ]
    },
    {
      "cell_type": "code",
      "source": [
        "#Do predictions and get confusion matrix\n",
        "conf_matrix = base_model.predict_conf_matrix(batched_2015,true_labels,make_plots=True)"
      ],
      "metadata": {
        "id": "GiX56d-Rc3kK"
      },
      "execution_count": null,
      "outputs": []
    },
    {
      "cell_type": "code",
      "execution_count": null,
      "metadata": {
        "id": "pebutn87-Dxs"
      },
      "outputs": [],
      "source": [
        "#If you want to customize the confusion matrix plot, can uncomment below and use the plot handle below\n",
        "#conf_plt_handle=base_model.plot_confusion_matrix(conf_matrix)"
      ]
    },
    {
      "cell_type": "code",
      "execution_count": null,
      "metadata": {
        "colab": {
          "base_uri": "https://localhost:8080/"
        },
        "id": "dJbqDGxO-Dxt",
        "outputId": "c596e407-33f2-46e2-c7b3-7d6cad0af8d9"
      },
      "outputs": [
        {
          "data": {
            "text/plain": [
              "array([[  90185,  473455],\n",
              "       [ 204978, 2648982]])"
            ]
          },
          "execution_count": 16,
          "metadata": {},
          "output_type": "execute_result"
        }
      ],
      "source": [
        "conf_matrix"
      ]
    },
    {
      "cell_type": "code",
      "execution_count": null,
      "metadata": {
        "id": "NxlmTtkt-Dxt"
      },
      "outputs": [],
      "source": [
        "#Example of using the __call__ dunder method to pass data\n",
        "call_preds=base_model(batched_2015)"
      ]
    },
    {
      "cell_type": "code",
      "execution_count": null,
      "metadata": {
        "id": "TJ15elvZFqpC"
      },
      "outputs": [],
      "source": [
        "import pandas as pd\n",
        "\n",
        "def calculate_statistics(conf_matrix):\n",
        "  tp = conf_matrix[1][1]\n",
        "  fp = conf_matrix[1][0]\n",
        "  tn = conf_matrix[0][0]\n",
        "  fn = conf_matrix[0][1]\n",
        "\n",
        "  # Precision - TP/(TP+FP)\n",
        "  precision = tp / np.sum([tp, fp])\n",
        "\n",
        "  # Recall - TP/(TP+FN)\n",
        "  recall = tp / np.sum([tp, fn])\n",
        "\n",
        "  # False Alarm Rate/Probability of False Alarm - FP/(FP+TN)\n",
        "  far = fp / np.sum([fp, tn])\n",
        "\n",
        "  # Heidke Skill Score (HSS) - 2*(TP * TN - FP * FN) / (TP+FN)*(FN+TN)+(TP+FP)*(FP+TN)\n",
        "  hss = (2 * ((tp*tn) - (fp*fn))) / (((tp+fn)*(fn+tn)) + ((tp+tn)*(fp+tn)))\n",
        "\n",
        "  return pd.DataFrame({\"precision\": precision, \"recall\": recall, \"far\": far, \"hss\": hss}, index=[0])"
      ]
    },
    {
      "cell_type": "code",
      "execution_count": null,
      "metadata": {
        "colab": {
          "base_uri": "https://localhost:8080/",
          "height": 129
        },
        "id": "rTb2TlYgHPAf",
        "outputId": "982788cb-4251-44fe-d2ab-4691b2f3823f"
      },
      "outputs": [
        {
          "data": {
            "text/html": [
              "\n",
              "  <div id=\"df-6af8f563-de77-45ab-b57e-ccd30b8f7f8d\">\n",
              "    <div class=\"colab-df-container\">\n",
              "      <div>\n",
              "<style scoped>\n",
              "    .dataframe tbody tr th:only-of-type {\n",
              "        vertical-align: middle;\n",
              "    }\n",
              "\n",
              "    .dataframe tbody tr th {\n",
              "        vertical-align: top;\n",
              "    }\n",
              "\n",
              "    .dataframe thead th {\n",
              "        text-align: right;\n",
              "    }\n",
              "</style>\n",
              "<table border=\"1\" class=\"dataframe\">\n",
              "  <thead>\n",
              "    <tr style=\"text-align: right;\">\n",
              "      <th></th>\n",
              "      <th>precision</th>\n",
              "      <th>recall</th>\n",
              "      <th>far</th>\n",
              "      <th>hss</th>\n",
              "    </tr>\n",
              "  </thead>\n",
              "  <tbody>\n",
              "    <tr>\n",
              "      <th>0</th>\n",
              "      <td>0.928178</td>\n",
              "      <td>0.84837</td>\n",
              "      <td>0.694457</td>\n",
              "      <td>0.110457</td>\n",
              "    </tr>\n",
              "  </tbody>\n",
              "</table>\n",
              "</div>\n",
              "      <button class=\"colab-df-convert\" onclick=\"convertToInteractive('df-6af8f563-de77-45ab-b57e-ccd30b8f7f8d')\"\n",
              "              title=\"Convert this dataframe to an interactive table.\"\n",
              "              style=\"display:none;\">\n",
              "        \n",
              "  <svg xmlns=\"http://www.w3.org/2000/svg\" height=\"24px\"viewBox=\"0 0 24 24\"\n",
              "       width=\"24px\">\n",
              "    <path d=\"M0 0h24v24H0V0z\" fill=\"none\"/>\n",
              "    <path d=\"M18.56 5.44l.94 2.06.94-2.06 2.06-.94-2.06-.94-.94-2.06-.94 2.06-2.06.94zm-11 1L8.5 8.5l.94-2.06 2.06-.94-2.06-.94L8.5 2.5l-.94 2.06-2.06.94zm10 10l.94 2.06.94-2.06 2.06-.94-2.06-.94-.94-2.06-.94 2.06-2.06.94z\"/><path d=\"M17.41 7.96l-1.37-1.37c-.4-.4-.92-.59-1.43-.59-.52 0-1.04.2-1.43.59L10.3 9.45l-7.72 7.72c-.78.78-.78 2.05 0 2.83L4 21.41c.39.39.9.59 1.41.59.51 0 1.02-.2 1.41-.59l7.78-7.78 2.81-2.81c.8-.78.8-2.07 0-2.86zM5.41 20L4 18.59l7.72-7.72 1.47 1.35L5.41 20z\"/>\n",
              "  </svg>\n",
              "      </button>\n",
              "      \n",
              "  <style>\n",
              "    .colab-df-container {\n",
              "      display:flex;\n",
              "      flex-wrap:wrap;\n",
              "      gap: 12px;\n",
              "    }\n",
              "\n",
              "    .colab-df-convert {\n",
              "      background-color: #E8F0FE;\n",
              "      border: none;\n",
              "      border-radius: 50%;\n",
              "      cursor: pointer;\n",
              "      display: none;\n",
              "      fill: #1967D2;\n",
              "      height: 32px;\n",
              "      padding: 0 0 0 0;\n",
              "      width: 32px;\n",
              "    }\n",
              "\n",
              "    .colab-df-convert:hover {\n",
              "      background-color: #E2EBFA;\n",
              "      box-shadow: 0px 1px 2px rgba(60, 64, 67, 0.3), 0px 1px 3px 1px rgba(60, 64, 67, 0.15);\n",
              "      fill: #174EA6;\n",
              "    }\n",
              "\n",
              "    [theme=dark] .colab-df-convert {\n",
              "      background-color: #3B4455;\n",
              "      fill: #D2E3FC;\n",
              "    }\n",
              "\n",
              "    [theme=dark] .colab-df-convert:hover {\n",
              "      background-color: #434B5C;\n",
              "      box-shadow: 0px 1px 3px 1px rgba(0, 0, 0, 0.15);\n",
              "      filter: drop-shadow(0px 1px 2px rgba(0, 0, 0, 0.3));\n",
              "      fill: #FFFFFF;\n",
              "    }\n",
              "  </style>\n",
              "\n",
              "      <script>\n",
              "        const buttonEl =\n",
              "          document.querySelector('#df-6af8f563-de77-45ab-b57e-ccd30b8f7f8d button.colab-df-convert');\n",
              "        buttonEl.style.display =\n",
              "          google.colab.kernel.accessAllowed ? 'block' : 'none';\n",
              "\n",
              "        async function convertToInteractive(key) {\n",
              "          const element = document.querySelector('#df-6af8f563-de77-45ab-b57e-ccd30b8f7f8d');\n",
              "          const dataTable =\n",
              "            await google.colab.kernel.invokeFunction('convertToInteractive',\n",
              "                                                     [key], {});\n",
              "          if (!dataTable) return;\n",
              "\n",
              "          const docLinkHtml = 'Like what you see? Visit the ' +\n",
              "            '<a target=\"_blank\" href=https://colab.research.google.com/notebooks/data_table.ipynb>data table notebook</a>'\n",
              "            + ' to learn more about interactive tables.';\n",
              "          element.innerHTML = '';\n",
              "          dataTable['output_type'] = 'display_data';\n",
              "          await google.colab.output.renderOutput(dataTable, element);\n",
              "          const docLink = document.createElement('div');\n",
              "          docLink.innerHTML = docLinkHtml;\n",
              "          element.appendChild(docLink);\n",
              "        }\n",
              "      </script>\n",
              "    </div>\n",
              "  </div>\n",
              "  "
            ],
            "text/plain": [
              "   precision   recall       far       hss\n",
              "0   0.928178  0.84837  0.694457  0.110457"
            ]
          },
          "execution_count": 32,
          "metadata": {},
          "output_type": "execute_result"
        }
      ],
      "source": [
        "calculate_statistics(conf_matrix)"
      ]
    },
    {
      "cell_type": "code",
      "execution_count": null,
      "metadata": {
        "id": "oqkOENaJHSXV"
      },
      "outputs": [],
      "source": [
        "keras.backend.clear_session()"
      ]
    },
    {
      "cell_type": "code",
      "execution_count": null,
      "metadata": {
        "id": "n66-9WADHrwv"
      },
      "outputs": [],
      "source": [
        "tuned_model = SolarLSTM(data2014, labels2014, \"./\", tune=True)"
      ]
    },
    {
      "cell_type": "code",
      "execution_count": null,
      "metadata": {
        "colab": {
          "base_uri": "https://localhost:8080/",
          "height": 1000
        },
        "id": "ABq_7_PCI0AA",
        "outputId": "a5dff7a5-567d-4c38-d8e4-4e8530448a46"
      },
      "outputs": [
        {
          "name": "stdout",
          "output_type": "stream",
          "text": [
            "Trial 10 Complete [00h 06m 59s]\n",
            "val_accuracy: 0.8156917095184326\n",
            "\n",
            "Best val_accuracy So Far: 0.8275374174118042\n",
            "Total elapsed time: 01h 50m 10s\n",
            "INFO:tensorflow:Oracle triggered exit\n"
          ]
        },
        {
          "name": "stderr",
          "output_type": "stream",
          "text": [
            "INFO:tensorflow:Oracle triggered exit\n"
          ]
        },
        {
          "name": "stdout",
          "output_type": "stream",
          "text": [
            "Hyper Tuning Complete\n",
            "Epoch 1/50\n"
          ]
        },
        {
          "name": "stderr",
          "output_type": "stream",
          "text": [
            "/usr/local/lib/python3.7/dist-packages/tensorflow/python/util/dispatch.py:1082: UserWarning: \"`binary_crossentropy` received `from_logits=True`, but the `output` argument was produced by a sigmoid or softmax activation and thus does not represent logits. Was this intended?\"\n",
            "  return dispatch_target(*args, **kwargs)\n"
          ]
        },
        {
          "name": "stdout",
          "output_type": "stream",
          "text": [
            "320/320 [==============================] - ETA: 0s - loss: 0.3907 - accuracy: 0.8826 - mse: 0.1095 - mae: 0.2211"
          ]
        },
        {
          "name": "stderr",
          "output_type": "stream",
          "text": [
            "WARNING:absl:Found untraced functions such as lstm_cell_2_layer_call_fn, lstm_cell_2_layer_call_and_return_conditional_losses, lstm_cell_3_layer_call_fn, lstm_cell_3_layer_call_and_return_conditional_losses while saving (showing 4 of 4). These functions will not be directly callable after loading.\n"
          ]
        },
        {
          "name": "stdout",
          "output_type": "stream",
          "text": [
            "INFO:tensorflow:Assets written to: model_checkpoints/assets\n"
          ]
        },
        {
          "name": "stderr",
          "output_type": "stream",
          "text": [
            "INFO:tensorflow:Assets written to: model_checkpoints/assets\n",
            "WARNING:absl:<keras.layers.recurrent.LSTMCell object at 0x7f4da4b43850> has the same name 'LSTMCell' as a built-in Keras object. Consider renaming <class 'keras.layers.recurrent.LSTMCell'> to avoid naming conflicts when loading with `tf.keras.models.load_model`. If renaming is not possible, pass the object in the `custom_objects` parameter of the load function.\n",
            "WARNING:absl:<keras.layers.recurrent.LSTMCell object at 0x7f4d9eb8a690> has the same name 'LSTMCell' as a built-in Keras object. Consider renaming <class 'keras.layers.recurrent.LSTMCell'> to avoid naming conflicts when loading with `tf.keras.models.load_model`. If renaming is not possible, pass the object in the `custom_objects` parameter of the load function.\n"
          ]
        },
        {
          "name": "stdout",
          "output_type": "stream",
          "text": [
            "\b\b\b\b\b\b\b\b\b\b\b\b\b\b\b\b\b\b\b\b\b\b\b\b\b\b\b\b\b\b\b\b\b\b\b\b\b\b\b\b\b\b\b\b\b\b\b\b\b\b\b\b\b\b\b\b\b\b\b\b\b\b\b\b\b\b\b\b\b\b\b\b\b\b\b\b\b\b\b\b\b\b\b\b\b\b\b\b\b\b\b\b\b\b\b\b\b\b\b\b\b\b\b\b\b\b\b\b\b\b\b\b\r320/320 [==============================] - 34s 95ms/step - loss: 0.3907 - accuracy: 0.8826 - mse: 0.1095 - mae: 0.2211 - val_loss: 0.5295 - val_accuracy: 0.8094 - val_mse: 0.1634 - val_mae: 0.2496\n",
            "Epoch 2/50\n",
            "320/320 [==============================] - 22s 69ms/step - loss: 0.3341 - accuracy: 0.8996 - mse: 0.0922 - mae: 0.1833 - val_loss: 0.5519 - val_accuracy: 0.8094 - val_mse: 0.1668 - val_mae: 0.2391\n",
            "Epoch 3/50\n",
            "320/320 [==============================] - 22s 68ms/step - loss: 0.3180 - accuracy: 0.8996 - mse: 0.0886 - mae: 0.1743 - val_loss: 0.5776 - val_accuracy: 0.8094 - val_mse: 0.1699 - val_mae: 0.2281\n",
            "Epoch 4/50\n",
            "320/320 [==============================] - 21s 67ms/step - loss: 0.3006 - accuracy: 0.8938 - mse: 0.0831 - mae: 0.1658 - val_loss: 0.5367 - val_accuracy: 0.8094 - val_mse: 0.1589 - val_mae: 0.2173\n",
            "Epoch 5/50\n",
            "320/320 [==============================] - 21s 67ms/step - loss: 0.2843 - accuracy: 0.8936 - mse: 0.0789 - mae: 0.1564 - val_loss: 0.6038 - val_accuracy: 0.8158 - val_mse: 0.1661 - val_mae: 0.2137\n",
            "Epoch 6/50\n",
            "320/320 [==============================] - 21s 67ms/step - loss: 0.2655 - accuracy: 0.9144 - mse: 0.0719 - mae: 0.1460 - val_loss: 0.6692 - val_accuracy: 0.8094 - val_mse: 0.1784 - val_mae: 0.2157\n",
            "Epoch 7/50\n",
            "320/320 [==============================] - 22s 68ms/step - loss: 0.2815 - accuracy: 0.9131 - mse: 0.0761 - mae: 0.1524 - val_loss: 0.5891 - val_accuracy: 0.8097 - val_mse: 0.1701 - val_mae: 0.2289\n",
            "Epoch 8/50\n",
            "320/320 [==============================] - 22s 69ms/step - loss: 0.2459 - accuracy: 0.9273 - mse: 0.0648 - mae: 0.1345 - val_loss: 0.6608 - val_accuracy: 0.8094 - val_mse: 0.1769 - val_mae: 0.2198\n",
            "Epoch 9/50\n",
            "320/320 [==============================] - 23s 71ms/step - loss: 0.2346 - accuracy: 0.9299 - mse: 0.0616 - mae: 0.1255 - val_loss: 0.6974 - val_accuracy: 0.8094 - val_mse: 0.1803 - val_mae: 0.2237\n",
            "Epoch 10/50\n",
            "320/320 [==============================] - 23s 72ms/step - loss: 0.2365 - accuracy: 0.9262 - mse: 0.0624 - mae: 0.1258 - val_loss: 0.6617 - val_accuracy: 0.8094 - val_mse: 0.1759 - val_mae: 0.2304\n",
            "Epoch 11/50\n",
            "320/320 [==============================] - 23s 71ms/step - loss: 0.2579 - accuracy: 0.9152 - mse: 0.0701 - mae: 0.1374 - val_loss: 0.5810 - val_accuracy: 0.8094 - val_mse: 0.1673 - val_mae: 0.2424\n",
            "Epoch 12/50\n",
            "320/320 [==============================] - 24s 74ms/step - loss: 0.2290 - accuracy: 0.9236 - mse: 0.0635 - mae: 0.1296 - val_loss: 0.6377 - val_accuracy: 0.8065 - val_mse: 0.1725 - val_mae: 0.2408\n",
            "Epoch 13/50\n",
            "320/320 [==============================] - 23s 71ms/step - loss: 0.2133 - accuracy: 0.9320 - mse: 0.0575 - mae: 0.1189 - val_loss: 0.6473 - val_accuracy: 0.7859 - val_mse: 0.1770 - val_mae: 0.2558\n",
            "Epoch 14/50\n",
            "320/320 [==============================] - 22s 70ms/step - loss: 0.2042 - accuracy: 0.9355 - mse: 0.0550 - mae: 0.1125 - val_loss: 0.6899 - val_accuracy: 0.8094 - val_mse: 0.1777 - val_mae: 0.2453\n",
            "Epoch 15/50\n",
            "320/320 [==============================] - 23s 71ms/step - loss: 0.1985 - accuracy: 0.9354 - mse: 0.0539 - mae: 0.1093 - val_loss: 0.7145 - val_accuracy: 0.8047 - val_mse: 0.1866 - val_mae: 0.2578\n",
            "Epoch 16/50\n",
            "320/320 [==============================] - 22s 68ms/step - loss: 0.1902 - accuracy: 0.9378 - mse: 0.0517 - mae: 0.1047 - val_loss: 0.6792 - val_accuracy: 0.7518 - val_mse: 0.1908 - val_mae: 0.2859\n",
            "Epoch 16: early stopping\n"
          ]
        },
        {
          "data": {
            "image/png": "[encoded data removed]",
            "text/plain": [
              "<Figure size 576x360 with 1 Axes>"
            ]
          },
          "metadata": {},
          "output_type": "display_data"
        },
        {
          "data": {
            "text/plain": [
              "<keras.callbacks.History at 0x7f4d9ebb4650>"
            ]
          },
          "execution_count": 6,
          "metadata": {},
          "output_type": "execute_result"
        }
      ],
      "source": [
        "tuned_model.fit()"
      ]
    },
    {
      "cell_type": "code",
      "execution_count": null,
      "metadata": {
        "id": "HvQOPbinpi9a"
      },
      "outputs": [],
      "source": [
        "#Form batches (does not shuffle, cuts off remainder)\n",
        "batched_2015 = tuned_model.batch_prefetch_data(data2015,split_data=False)\n",
        "#Cutoff matching remainder from labels\n",
        "true_labels = labels2015[:-(labels2015.shape[0]%tuned_model.batch_size)]"
      ]
    },
    {
      "cell_type": "code",
      "execution_count": null,
      "metadata": {
        "colab": {
          "base_uri": "https://localhost:8080/",
          "height": 290
        },
        "id": "m-XMZyf6I4YG",
        "outputId": "dbfa3ea3-83f0-4208-b2d4-f1c750763aca"
      },
      "outputs": [
        {
          "data": {
            "image/png": "[encoded data removed]",
            "text/plain": [
              "<Figure size 432x288 with 2 Axes>"
            ]
          },
          "metadata": {},
          "output_type": "display_data"
        }
      ],
      "source": [
        "conf_matrix = tuned_model.predict_conf_matrix(batched_2015,true_labels,make_plots=True)"
      ]
    },
    {
      "cell_type": "code",
      "execution_count": null,
      "metadata": {
        "colab": {
          "base_uri": "https://localhost:8080/",
          "height": 81
        },
        "id": "Mi-VaL6epXf3",
        "outputId": "8eb8b5a5-5325-4c34-9b0a-2cb0adf1e658"
      },
      "outputs": [
        {
          "data": {
            "text/html": [
              "\n",
              "  <div id=\"df-ab07f2e0-0734-4e75-898e-e64b6ad72339\">\n",
              "    <div class=\"colab-df-container\">\n",
              "      <div>\n",
              "<style scoped>\n",
              "    .dataframe tbody tr th:only-of-type {\n",
              "        vertical-align: middle;\n",
              "    }\n",
              "\n",
              "    .dataframe tbody tr th {\n",
              "        vertical-align: top;\n",
              "    }\n",
              "\n",
              "    .dataframe thead th {\n",
              "        text-align: right;\n",
              "    }\n",
              "</style>\n",
              "<table border=\"1\" class=\"dataframe\">\n",
              "  <thead>\n",
              "    <tr style=\"text-align: right;\">\n",
              "      <th></th>\n",
              "      <th>precision</th>\n",
              "      <th>recall</th>\n",
              "      <th>far</th>\n",
              "      <th>hss</th>\n",
              "    </tr>\n",
              "  </thead>\n",
              "  <tbody>\n",
              "    <tr>\n",
              "      <th>0</th>\n",
              "      <td>0.927086</td>\n",
              "      <td>0.839449</td>\n",
              "      <td>0.78322</td>\n",
              "      <td>0.037748</td>\n",
              "    </tr>\n",
              "  </tbody>\n",
              "</table>\n",
              "</div>\n",
              "      <button class=\"colab-df-convert\" onclick=\"convertToInteractive('df-ab07f2e0-0734-4e75-898e-e64b6ad72339')\"\n",
              "              title=\"Convert this dataframe to an interactive table.\"\n",
              "              style=\"display:none;\">\n",
              "        \n",
              "  <svg xmlns=\"http://www.w3.org/2000/svg\" height=\"24px\"viewBox=\"0 0 24 24\"\n",
              "       width=\"24px\">\n",
              "    <path d=\"M0 0h24v24H0V0z\" fill=\"none\"/>\n",
              "    <path d=\"M18.56 5.44l.94 2.06.94-2.06 2.06-.94-2.06-.94-.94-2.06-.94 2.06-2.06.94zm-11 1L8.5 8.5l.94-2.06 2.06-.94-2.06-.94L8.5 2.5l-.94 2.06-2.06.94zm10 10l.94 2.06.94-2.06 2.06-.94-2.06-.94-.94-2.06-.94 2.06-2.06.94z\"/><path d=\"M17.41 7.96l-1.37-1.37c-.4-.4-.92-.59-1.43-.59-.52 0-1.04.2-1.43.59L10.3 9.45l-7.72 7.72c-.78.78-.78 2.05 0 2.83L4 21.41c.39.39.9.59 1.41.59.51 0 1.02-.2 1.41-.59l7.78-7.78 2.81-2.81c.8-.78.8-2.07 0-2.86zM5.41 20L4 18.59l7.72-7.72 1.47 1.35L5.41 20z\"/>\n",
              "  </svg>\n",
              "      </button>\n",
              "      \n",
              "  <style>\n",
              "    .colab-df-container {\n",
              "      display:flex;\n",
              "      flex-wrap:wrap;\n",
              "      gap: 12px;\n",
              "    }\n",
              "\n",
              "    .colab-df-convert {\n",
              "      background-color: #E8F0FE;\n",
              "      border: none;\n",
              "      border-radius: 50%;\n",
              "      cursor: pointer;\n",
              "      display: none;\n",
              "      fill: #1967D2;\n",
              "      height: 32px;\n",
              "      padding: 0 0 0 0;\n",
              "      width: 32px;\n",
              "    }\n",
              "\n",
              "    .colab-df-convert:hover {\n",
              "      background-color: #E2EBFA;\n",
              "      box-shadow: 0px 1px 2px rgba(60, 64, 67, 0.3), 0px 1px 3px 1px rgba(60, 64, 67, 0.15);\n",
              "      fill: #174EA6;\n",
              "    }\n",
              "\n",
              "    [theme=dark] .colab-df-convert {\n",
              "      background-color: #3B4455;\n",
              "      fill: #D2E3FC;\n",
              "    }\n",
              "\n",
              "    [theme=dark] .colab-df-convert:hover {\n",
              "      background-color: #434B5C;\n",
              "      box-shadow: 0px 1px 3px 1px rgba(0, 0, 0, 0.15);\n",
              "      filter: drop-shadow(0px 1px 2px rgba(0, 0, 0, 0.3));\n",
              "      fill: #FFFFFF;\n",
              "    }\n",
              "  </style>\n",
              "\n",
              "      <script>\n",
              "        const buttonEl =\n",
              "          document.querySelector('#df-ab07f2e0-0734-4e75-898e-e64b6ad72339 button.colab-df-convert');\n",
              "        buttonEl.style.display =\n",
              "          google.colab.kernel.accessAllowed ? 'block' : 'none';\n",
              "\n",
              "        async function convertToInteractive(key) {\n",
              "          const element = document.querySelector('#df-ab07f2e0-0734-4e75-898e-e64b6ad72339');\n",
              "          const dataTable =\n",
              "            await google.colab.kernel.invokeFunction('convertToInteractive',\n",
              "                                                     [key], {});\n",
              "          if (!dataTable) return;\n",
              "\n",
              "          const docLinkHtml = 'Like what you see? Visit the ' +\n",
              "            '<a target=\"_blank\" href=https://colab.research.google.com/notebooks/data_table.ipynb>data table notebook</a>'\n",
              "            + ' to learn more about interactive tables.';\n",
              "          element.innerHTML = '';\n",
              "          dataTable['output_type'] = 'display_data';\n",
              "          await google.colab.output.renderOutput(dataTable, element);\n",
              "          const docLink = document.createElement('div');\n",
              "          docLink.innerHTML = docLinkHtml;\n",
              "          element.appendChild(docLink);\n",
              "        }\n",
              "      </script>\n",
              "    </div>\n",
              "  </div>\n",
              "  "
            ],
            "text/plain": [
              "   precision    recall      far       hss\n",
              "0   0.927086  0.839449  0.78322  0.037748"
            ]
          },
          "execution_count": 16,
          "metadata": {},
          "output_type": "execute_result"
        }
      ],
      "source": [
        "calculate_statistics(conf_matrix)"
      ]
    },
    {
      "cell_type": "code",
      "execution_count": null,
      "metadata": {
        "colab": {
          "base_uri": "https://localhost:8080/"
        },
        "id": "8uM0OL9QpujF",
        "outputId": "a7bfe20a-3d2b-44f9-8d73-3d30dbe2ff3a"
      },
      "outputs": [
        {
          "name": "stdout",
          "output_type": "stream",
          "text": [
            "Model: \"sequential_1\"\n",
            "_________________________________________________________________\n",
            " Layer (type)                Output Shape              Param #   \n",
            "=================================================================\n",
            " lstm_2 (LSTM)               (64, 120, 16)             3520      \n",
            "                                                                 \n",
            " lstm_3 (LSTM)               (64, 120, 16)             2112      \n",
            "                                                                 \n",
            " dropout_1 (Dropout)         (64, 120, 16)             0         \n",
            "                                                                 \n",
            " dense_1 (Dense)             (64, 120, 1)              17        \n",
            "                                                                 \n",
            "=================================================================\n",
            "Total params: 5,649\n",
            "Trainable params: 5,649\n",
            "Non-trainable params: 0\n",
            "_________________________________________________________________\n"
          ]
        }
      ],
      "source": [
        "tuned_model.model.summary()"
      ]
    },
    {
      "cell_type": "markdown",
      "metadata": {
        "id": "wetBz_EiNHYJ"
      },
      "source": [
        "# Models for ONLY Magnetic Field Parameters\n",
        "\n",
        "In DataSelection() set the following arguments:\n",
        "\n",
        "* use_all=False\n",
        "* select_columns=[magnetic field parameters]"
      ]
    },
    {
      "cell_type": "code",
      "execution_count": null,
      "metadata": {
        "id": "kcnRhTHHNgb5"
      },
      "outputs": [],
      "source": [
        "mf_parameters = [\"TOTUSJH\", \"TOTBSQ\", \"TOTPOT\", \"TOTUSJZ\", \"ABSNJZH\", \"SAVNCPP\",\n",
        "                 \"USFLUX\", \"TOTFZ\", \"MEANPOT\", \"EPSZ\", \"MEANSHR\", \"SHRGT45\", \n",
        "                 \"MEANGAM\", \"MEANGBT\", \"MEANGBZ\", \"MEANGBH\", \"MEANJZH\", \"TOTFY\",\n",
        "                 \"MEANJZD\", \"MEANALP\", \"TOTFX\", \"EPSY\", \"EPSX\", \"R_VALUE\"]"
      ]
    },
    {
      "cell_type": "markdown",
      "metadata": {
        "id": "OX0yhFFYUWzF"
      },
      "source": [
        "## Creating Data"
      ]
    },
    {
      "cell_type": "code",
      "execution_count": null,
      "metadata": {
        "colab": {
          "base_uri": "https://localhost:8080/"
        },
        "id": "LHepG4AUNDtX",
        "outputId": "eb814aad-d2b5-49bd-bfb3-7a8bef1ac4e4"
      },
      "outputs": [
        {
          "name": "stdout",
          "output_type": "stream",
          "text": [
            "Num GB used in data array: 0.0\n",
            "Num GB used in data array: 0.001201629638671875\n",
            "Num GB used in data array: 0.001201629638671875\n",
            "Num GB used in data array: 0.0016951560974121094\n",
            "Num GB used in data array: 0.0016951560974121094\n",
            "Num GB used in data array: 0.003926753997802734\n",
            "Num GB used in data array: 0.003926753997802734\n",
            "Num GB used in data array: 0.007402896881103516\n",
            "Num GB used in data array: 0.007402896881103516\n",
            "Num GB used in data array: 0.008776187896728516\n",
            "Num GB used in data array: 0.008776187896728516\n",
            "Num GB used in data array: 0.009806156158447266\n",
            "Num GB used in data array: 0.009806156158447266\n",
            "Num GB used in data array: 0.009806156158447266\n",
            "Num GB used in data array: 0.010600090026855469\n",
            "Num GB used in data array: 0.010600090026855469\n",
            "Num GB used in data array: 0.014526844024658203\n",
            "Num GB used in data array: 0.014526844024658203\n",
            "Num GB used in data array: 0.01476287841796875\n",
            "Num GB used in data array: 0.01476287841796875\n",
            "Num GB used in data array: 0.016930103302001953\n",
            "Num GB used in data array: 0.016930103302001953\n",
            "Num GB used in data array: 0.018131732940673828\n",
            "Num GB used in data array: 0.018131732940673828\n",
            "Num GB used in data array: 0.025556087493896484\n",
            "Num GB used in data array: 0.025556087493896484\n",
            "Num GB used in data array: 0.02675771713256836\n",
            "Num GB used in data array: 0.02675771713256836\n",
            "Num GB used in data array: 0.03021240234375\n",
            "Num GB used in data array: 0.03021240234375\n",
            "Num GB used in data array: 0.03021240234375\n",
            "Num GB used in data array: 0.03542661666870117\n",
            "Num GB used in data array: 0.03542661666870117\n",
            "Num GB used in data array: 0.03609180450439453\n",
            "Num GB used in data array: 0.03609180450439453\n",
            "Num GB used in data array: 0.06585359573364258\n",
            "Num GB used in data array: 0.06585359573364258\n",
            "Num GB used in data array: 0.06892204284667969\n",
            "Num GB used in data array: 0.06892204284667969\n",
            "Num GB used in data array: 0.06915807723999023\n",
            "Num GB used in data array: 0.06915807723999023\n",
            "Num GB used in data array: 0.06928682327270508\n",
            "Num GB used in data array: 0.06928682327270508\n",
            "Num GB used in data array: 0.07016658782958984\n",
            "Num GB used in data array: 0.07016658782958984\n",
            "Num GB used in data array: 0.07136821746826172\n",
            "Num GB used in data array: 0.07136821746826172\n",
            "Num GB used in data array: 0.07272005081176758\n",
            "Num GB used in data array: 0.07272005081176758\n",
            "Num GB used in data array: 0.08003711700439453\n",
            "Num GB used in data array: 0.08003711700439453\n",
            "Num GB used in data array: 0.08048772811889648\n",
            "Num GB used in data array: 0.08048772811889648\n",
            "Num GB used in data array: 0.08168935775756836\n",
            "Num GB used in data array: 0.08168935775756836\n",
            "Num GB used in data array: 0.08289098739624023\n",
            "Num GB used in data array: 0.08289098739624023\n",
            "Num GB used in data array: 0.08430719375610352\n",
            "Num GB used in data array: 0.08430719375610352\n",
            "Num GB used in data array: 0.08550882339477539\n",
            "Num GB used in data array: 0.08550882339477539\n",
            "Num GB used in data array: 0.08671045303344727\n",
            "Num GB used in data array: 0.08671045303344727\n",
            "Num GB used in data array: 0.08791208267211914\n",
            "Num GB used in data array: 0.08791208267211914\n",
            "Num GB used in data array: 0.09711742401123047\n",
            "Num GB used in data array: 0.09711742401123047\n",
            "Num GB used in data array: 0.09831905364990234\n",
            "Num GB used in data array: 0.09831905364990234\n",
            "Num GB used in data array: 0.0990915298461914\n",
            "Num GB used in data array: 0.0990915298461914\n",
            "Num GB used in data array: 0.09943485260009766\n",
            "Num GB used in data array: 0.09943485260009766\n",
            "Num GB used in data array: 0.1032114028930664\n",
            "Num GB used in data array: 0.1032114028930664\n",
            "Num GB used in data array: 0.10503530502319336\n",
            "Num GB used in data array: 0.10503530502319336\n",
            "Num GB used in data array: 0.1058506965637207\n",
            "Num GB used in data array: 0.1058506965637207\n",
            "Num GB used in data array: 0.10600090026855469\n",
            "Num GB used in data array: 0.10600090026855469\n",
            "Num GB used in data array: 0.10600090026855469\n",
            "Num GB used in data array: 0.10600090026855469\n",
            "Num GB used in data array: 0.10600090026855469\n",
            "Num GB used in data array: 0.10600090026855469\n",
            "Num GB used in data array: 0.10600090026855469\n",
            "Num GB used in data array: 0.10600090026855469\n",
            "Num GB used in data array: 0.10600090026855469\n",
            "Num GB used in data array: 0.10600090026855469\n",
            "Num GB used in data array: 0.10600090026855469\n",
            "Num GB used in data array: 0.10600090026855469\n",
            "Num GB used in data array: 0.10600090026855469\n",
            "Num GB used in data array: 0.10600090026855469\n",
            "Num GB used in data array: 0.10600090026855469\n",
            "Num GB used in data array: 0.10600090026855469\n",
            "Num GB used in data array: 0.10600090026855469\n",
            "Num GB used in data array: 0.10600090026855469\n",
            "Num GB used in data array: 0.10600090026855469\n",
            "Num GB used in data array: 0.10600090026855469\n",
            "Num GB used in data array: 0.10600090026855469\n",
            "Num GB used in data array: 0.10600090026855469\n",
            "Num GB used in data array: 0.10600090026855469\n",
            "Num GB used in data array: 0.10600090026855469\n",
            "Num GB used in data array: 0.10600090026855469\n",
            "Num GB used in data array: 0.10600090026855469\n",
            "Num GB used in data array: 0.10600090026855469\n",
            "Num GB used in data array: 0.10600090026855469\n",
            "Num GB used in data array: 0.10600090026855469\n",
            "Num GB used in data array: 0.10600090026855469\n",
            "Num GB used in data array: 0.10600090026855469\n",
            "Num GB used in data array: 0.10600090026855469\n",
            "Num GB used in data array: 0.10600090026855469\n",
            "Num GB used in data array: 0.10600090026855469\n",
            "Num GB used in data array: 0.10600090026855469\n",
            "Num GB used in data array: 0.10600090026855469\n",
            "Num GB used in data array: 0.10600090026855469\n",
            "Num GB used in data array: 0.10600090026855469\n",
            "Num GB used in data array: 0.10600090026855469\n",
            "Num GB used in data array: 0.10600090026855469\n",
            "Num GB used in data array: 0.10600090026855469\n",
            "Num GB used in data array: 0.1121377944946289\n",
            "Num GB used in data array: 0.1121377944946289\n",
            "Num GB used in data array: 0.1123952865600586\n",
            "Num GB used in data array: 0.1123952865600586\n",
            "Num GB used in data array: 0.1123952865600586\n",
            "Num GB used in data array: 0.11941194534301758\n",
            "Num GB used in data array: 0.11941194534301758\n",
            "Num GB used in data array: 0.11941194534301758\n",
            "Num GB used in data array: 0.12134313583374023\n",
            "Num GB used in data array: 0.12134313583374023\n",
            "Num GB used in data array: 0.12788772583007812\n",
            "Num GB used in data array: 0.12788772583007812\n",
            "Num GB used in data array: 0.13773679733276367\n",
            "Num GB used in data array: 0.13773679733276367\n",
            "Num GB used in data array: 0.16543865203857422\n",
            "Num GB used in data array: 0.16543865203857422\n",
            "Num GB used in data array: 0.19054412841796875\n",
            "Num GB used in data array: 0.19054412841796875\n",
            "Num GB used in data array: 0.19588708877563477\n",
            "Num GB used in data array: 0.19588708877563477\n",
            "Num GB used in data array: 0.19633769989013672\n",
            "Num GB used in data array: 0.19633769989013672\n",
            "Num GB used in data array: 0.19665956497192383\n",
            "Num GB used in data array: 0.19665956497192383\n",
            "Num GB used in data array: 0.19672393798828125\n",
            "Num GB used in data array: 0.19672393798828125\n",
            "Num GB used in data array: 0.19672393798828125\n",
            "Num GB used in data array: 0.2086329460144043\n",
            "Num GB used in data array: 0.2086329460144043\n",
            "Num GB used in data array: 0.20977020263671875\n",
            "Num GB used in data array: 0.20977020263671875\n",
            "Num GB used in data array: 0.21886825561523438\n",
            "Num GB used in data array: 0.21886825561523438\n",
            "Num GB used in data array: 0.21944761276245117\n",
            "Num GB used in data array: 0.21944761276245117\n",
            "Num GB used in data array: 0.21974802017211914\n",
            "Num GB used in data array: 0.21974802017211914\n",
            "Num GB used in data array: 0.21974802017211914\n",
            "Num GB used in data array: 0.21974802017211914\n",
            "Num GB used in data array: 0.22296667098999023\n",
            "Num GB used in data array: 0.22296667098999023\n",
            "Num GB used in data array: 0.23084163665771484\n",
            "Num GB used in data array: 0.23084163665771484\n",
            "Num GB used in data array: 0.23084163665771484\n",
            "Num GB used in data array: 0.23084163665771484\n",
            "Num GB used in data array: 0.23084163665771484\n",
            "Num GB used in data array: 0.23084163665771484\n",
            "Num GB used in data array: 0.23084163665771484\n",
            "Num GB used in data array: 0.23084163665771484\n",
            "Num GB used in data array: 0.23084163665771484\n",
            "Num GB used in data array: 0.23084163665771484\n",
            "Num GB used in data array: 0.23084163665771484\n",
            "Num GB used in data array: 0.23084163665771484\n",
            "Num GB used in data array: 0.23084163665771484\n",
            "Num GB used in data array: 0.23084163665771484\n",
            "Num GB used in data array: 0.23084163665771484\n",
            "Num GB used in data array: 0.23084163665771484\n",
            "Num GB used in data array: 0.23084163665771484\n",
            "Num GB used in data array: 0.23084163665771484\n",
            "Num GB used in data array: 0.2516341209411621\n",
            "Num GB used in data array: 0.2516341209411621\n",
            "Num GB used in data array: 0.25504589080810547\n",
            "Num GB used in data array: 0.25504589080810547\n",
            "Num GB used in data array: 0.25504589080810547\n",
            "Num GB used in data array: 0.27489423751831055\n",
            "Num GB used in data array: 0.27489423751831055\n",
            "Num GB used in data array: 0.2937126159667969\n",
            "Num GB used in data array: 0.2937126159667969\n",
            "Num GB used in data array: 0.2937126159667969\n",
            "Num GB used in data array: 0.3149986267089844\n",
            "Num GB used in data array: 0.3149986267089844\n",
            "Num GB used in data array: 0.36420106887817383\n",
            "Num GB used in data array: 0.36420106887817383\n",
            "Num GB used in data array: 0.36420106887817383\n",
            "Num GB used in data array: 0.3923964500427246\n",
            "Num GB used in data array: 0.3923964500427246\n",
            "Num GB used in data array: 0.4062795639038086\n",
            "Num GB used in data array: 0.4062795639038086\n",
            "Num GB used in data array: 0.4222440719604492\n",
            "Num GB used in data array: 0.4222440719604492\n",
            "Num GB used in data array: 0.42278051376342773\n",
            "Num GB used in data array: 0.42278051376342773\n",
            "Num GB used in data array: 0.4256129264831543\n",
            "Num GB used in data array: 0.4256129264831543\n",
            "Num GB used in data array: 0.4263639450073242\n",
            "Num GB used in data array: 0.4263639450073242\n",
            "Num GB used in data array: 0.4383373260498047\n",
            "Num GB used in data array: 0.4383373260498047\n",
            "Num GB used in data array: 0.4471564292907715\n",
            "Num GB used in data array: 0.4471564292907715\n",
            "Num GB used in data array: 0.4471564292907715\n",
            "Num GB used in data array: 0.44792890548706055\n",
            "Num GB used in data array: 0.44792890548706055\n",
            "Num GB used in data array: 0.4555678367614746\n",
            "Num GB used in data array: 0.4555678367614746\n",
            "Num GB used in data array: 0.4555678367614746\n",
            "Num GB used in data array: 0.4840850830078125\n",
            "Num GB used in data array: 0.4840850830078125\n",
            "Num GB used in data array: 0.49230337142944336\n",
            "Num GB used in data array: 0.49230337142944336\n",
            "Num GB used in data array: 0.5345320701599121\n",
            "Num GB used in data array: 0.5345320701599121\n",
            "Num GB used in data array: 0.5410122871398926\n",
            "Num GB used in data array: 0.5410122871398926\n",
            "Num GB used in data array: 0.5410122871398926\n",
            "Num GB used in data array: 0.5411839485168457\n",
            "Num GB used in data array: 0.5411839485168457\n",
            "Num GB used in data array: 0.5411839485168457\n",
            "Num GB used in data array: 0.5414199829101562\n",
            "Num GB used in data array: 0.5414199829101562\n",
            "Num GB used in data array: 0.5414199829101562\n",
            "Num GB used in data array: 0.5416560173034668\n",
            "Num GB used in data array: 0.5416560173034668\n",
            "Num GB used in data array: 0.5426430702209473\n",
            "Num GB used in data array: 0.5426430702209473\n",
            "Num GB used in data array: 0.5426430702209473\n",
            "Num GB used in data array: 0.5426430702209473\n",
            "Num GB used in data array: 0.5426430702209473\n",
            "Num GB used in data array: 0.5426430702209473\n",
            "Num GB used in data array: 0.5426430702209473\n",
            "Num GB used in data array: 0.5426430702209473\n",
            "Num GB used in data array: 0.5433082580566406\n",
            "Num GB used in data array: 0.5433082580566406\n",
            "Num GB used in data array: 0.5436086654663086\n",
            "Num GB used in data array: 0.5436086654663086\n",
            "Num GB used in data array: 0.5436086654663086\n",
            "Num GB used in data array: 0.5436086654663086\n",
            "Num GB used in data array: 0.5436086654663086\n",
            "Num GB used in data array: 0.5436086654663086\n",
            "Num GB used in data array: 0.5436086654663086\n",
            "Num GB used in data array: 0.5436086654663086\n",
            "Num GB used in data array: 0.5436086654663086\n",
            "Num GB used in data array: 0.5449390411376953\n",
            "Num GB used in data array: 0.5449390411376953\n",
            "Num GB used in data array: 0.5503678321838379\n",
            "Num GB used in data array: 0.5503678321838379\n",
            "Num GB used in data array: 0.5503678321838379\n",
            "Num GB used in data array: 0.5503678321838379\n",
            "Num GB used in data array: 0.5503678321838379\n",
            "Num GB used in data array: 0.5503678321838379\n",
            "Num GB used in data array: 0.5503678321838379\n",
            "Num GB used in data array: 0.5503678321838379\n",
            "Num GB used in data array: 0.5503678321838379\n",
            "Num GB used in data array: 0.5503678321838379\n",
            "Num GB used in data array: 0.5503678321838379\n",
            "Num GB used in data array: 0.5503678321838379\n",
            "Num GB used in data array: 0.5503678321838379\n",
            "Num GB used in data array: 0.5503678321838379\n",
            "Num GB used in data array: 0.5503678321838379\n",
            "Num GB used in data array: 0.5503678321838379\n",
            "Num GB used in data array: 0.5503678321838379\n",
            "Num GB used in data array: 0.5503678321838379\n",
            "Num GB used in data array: 0.5503678321838379\n",
            "Num GB used in data array: 0.5503678321838379\n",
            "Num GB used in data array: 0.5503678321838379\n",
            "Num GB used in data array: 0.5503678321838379\n",
            "Num GB used in data array: 0.5503678321838379\n",
            "Num GB used in data array: 0.5503678321838379\n",
            "Num GB used in data array: 0.5503678321838379\n",
            "Num GB used in data array: 0.5503678321838379\n",
            "Num GB used in data array: 0.5503678321838379\n",
            "Num GB used in data array: 0.5503678321838379\n",
            "Num GB used in data array: 0.5503678321838379\n",
            "Num GB used in data array: 0.5503678321838379\n",
            "Num GB used in data array: 0.5503678321838379\n",
            "Num GB used in data array: 0.5503678321838379\n",
            "Num GB used in data array: 0.5503678321838379\n",
            "Num GB used in data array: 0.5503678321838379\n",
            "Num GB used in data array: 0.5503678321838379\n",
            "Num GB used in data array: 0.5503678321838379\n",
            "Num GB used in data array: 0.5503678321838379\n",
            "Num GB used in data array: 0.5503678321838379\n",
            "Num GB used in data array: 0.5503678321838379\n",
            "Num GB used in data array: 0.5503678321838379\n",
            "Num GB used in data array: 0.5503678321838379\n",
            "Num GB used in data array: 0.5503678321838379\n",
            "Num GB used in data array: 0.5503678321838379\n",
            "Num GB used in data array: 0.5503678321838379\n",
            "Num GB used in data array: 0.5503678321838379\n",
            "Num GB used in data array: 0.5503678321838379\n",
            "Num GB used in data array: 0.5503678321838379\n",
            "Num GB used in data array: 0.5503678321838379\n",
            "Num GB used in data array: 0.5503678321838379\n",
            "Num GB used in data array: 0.5503678321838379\n",
            "Num GB used in data array: 0.5503678321838379\n",
            "Num GB used in data array: 0.5503678321838379\n",
            "Num GB used in data array: 0.5503678321838379\n",
            "Num GB used in data array: 0.5503678321838379\n",
            "Num GB used in data array: 0.5503678321838379\n",
            "Num GB used in data array: 0.5503678321838379\n",
            "Num GB used in data array: 0.5503678321838379\n",
            "Num GB used in data array: 0.5503678321838379\n",
            "Num GB used in data array: 0.5503678321838379\n",
            "Num GB used in data array: 0.5503678321838379\n",
            "Num GB used in data array: 0.5503678321838379\n",
            "Num GB used in data array: 0.5503678321838379\n",
            "Num GB used in data array: 0.5503678321838379\n",
            "Num GB used in data array: 0.5503678321838379\n",
            "Num GB used in data array: 0.5503678321838379\n",
            "Num GB used in data array: 0.5503678321838379\n",
            "Num GB used in data array: 0.5503678321838379\n",
            "Num GB used in data array: 0.5503678321838379\n",
            "Num GB used in data array: 0.5503678321838379\n",
            "Num GB used in data array: 0.5503678321838379\n",
            "Num GB used in data array: 0.5503678321838379\n",
            "Num GB used in data array: 0.5503678321838379\n",
            "Num GB used in data array: 0.5503678321838379\n",
            "Num GB used in data array: 0.5503678321838379\n",
            "Num GB used in data array: 0.5503678321838379\n",
            "Num GB used in data array: 0.5503678321838379\n",
            "Num GB used in data array: 0.5503678321838379\n",
            "Num GB used in data array: 0.5503678321838379\n",
            "Num GB used in data array: 0.5503678321838379\n",
            "Num GB used in data array: 0.5503678321838379\n",
            "Num GB used in data array: 0.5503678321838379\n",
            "Num GB used in data array: 0.5503678321838379\n",
            "Num GB used in data array: 0.5503678321838379\n",
            "Num GB used in data array: 0.5503678321838379\n",
            "Num GB used in data array: 0.5503678321838379\n",
            "Num GB used in data array: 0.5503678321838379\n",
            "Num GB used in data array: 0.5503678321838379\n",
            "Num GB used in data array: 0.5503678321838379\n",
            "Num GB used in data array: 0.5503678321838379\n",
            "Num GB used in data array: 0.5503678321838379\n",
            "Num GB used in data array: 0.5503678321838379\n",
            "Num GB used in data array: 0.5503678321838379\n",
            "Num GB used in data array: 0.5503678321838379\n",
            "Num GB used in data array: 0.5503678321838379\n",
            "Num GB used in data array: 0.5503678321838379\n",
            "Num GB used in data array: 0.5503678321838379\n",
            "Num GB used in data array: 0.5503678321838379\n",
            "Num GB used in data array: 0.5503678321838379\n",
            "Num GB used in data array: 0.5503678321838379\n",
            "Num GB used in data array: 0.5503678321838379\n",
            "Num GB used in data array: 0.5503678321838379\n",
            "Num GB used in data array: 0.5503678321838379\n",
            "Num GB used in data array: 0.5503678321838379\n",
            "Num GB used in data array: 0.5503678321838379\n",
            "Num GB used in data array: 0.5503678321838379\n",
            "Num GB used in data array: 0.5503678321838379\n",
            "Num GB used in data array: 0.5503678321838379\n",
            "Num GB used in data array: 0.5503678321838379\n",
            "Num GB used in data array: 0.5503678321838379\n",
            "Num GB used in data array: 0.5503678321838379\n",
            "Num GB used in data array: 0.5503678321838379\n",
            "Num GB used in data array: 0.5503678321838379\n",
            "Num GB used in data array: 0.5503678321838379\n",
            "Num GB used in data array: 0.5503678321838379\n",
            "Num GB used in data array: 0.5503678321838379\n",
            "Num GB used in data array: 0.5503678321838379\n",
            "Num GB used in data array: 0.5503678321838379\n",
            "Num GB used in data array: 0.5503678321838379\n",
            "Num GB used in data array: 0.5503678321838379\n",
            "Num GB used in data array: 0.5503678321838379\n",
            "Num GB used in data array: 0.5503678321838379\n",
            "Num GB used in data array: 0.5503678321838379\n",
            "Num GB used in data array: 0.5503678321838379\n",
            "Num GB used in data array: 0.5503678321838379\n",
            "Num GB used in data array: 0.5503678321838379\n",
            "Num GB used in data array: 0.5503678321838379\n",
            "Num GB used in data array: 0.5503678321838379\n",
            "Num GB used in data array: 0.5503678321838379\n",
            "Num GB used in data array: 0.5503678321838379\n",
            "Num GB used in data array: 0.5503678321838379\n",
            "Num GB used in data array: 0.5503678321838379\n",
            "Num GB used in data array: 0.5503678321838379\n",
            "Num GB used in data array: 0.5503678321838379\n"
          ]
        },
        {
          "data": {
            "text/plain": [
              "<data_creation.DataSelection at 0x7fa1ae3a5210>"
            ]
          },
          "execution_count": 3,
          "metadata": {},
          "output_type": "execute_result"
        }
      ],
      "source": [
        "with open(\"/content/all_data.pkl\", \"rb\") as file:\n",
        "    data = pickle.load(file)\n",
        "\n",
        "DataSelection(data, 2014, \"./\", 24, use_all=False, select_columns=mf_parameters)"
      ]
    },
    {
      "cell_type": "code",
      "execution_count": null,
      "metadata": {
        "colab": {
          "base_uri": "https://localhost:8080/"
        },
        "id": "OkzYmlzhNDtq",
        "outputId": "3725d16a-663e-402e-826f-62d32a7de357"
      },
      "outputs": [
        {
          "name": "stdout",
          "output_type": "stream",
          "text": [
            "Num GB used in data array: 0.0\n",
            "Num GB used in data array: 0.001201629638671875\n",
            "Num GB used in data array: 0.001201629638671875\n",
            "Num GB used in data array: 0.0019741058349609375\n",
            "Num GB used in data array: 0.0019741058349609375\n",
            "Num GB used in data array: 0.006930828094482422\n",
            "Num GB used in data array: 0.006930828094482422\n",
            "Num GB used in data array: 0.011050701141357422\n",
            "Num GB used in data array: 0.011050701141357422\n",
            "Num GB used in data array: 0.015256404876708984\n",
            "Num GB used in data array: 0.015256404876708984\n",
            "Num GB used in data array: 0.019848346710205078\n",
            "Num GB used in data array: 0.019848346710205078\n",
            "Num GB used in data array: 0.021049976348876953\n",
            "Num GB used in data array: 0.021049976348876953\n",
            "Num GB used in data array: 0.022251605987548828\n",
            "Num GB used in data array: 0.022251605987548828\n",
            "Num GB used in data array: 0.029246807098388672\n",
            "Num GB used in data array: 0.029246807098388672\n",
            "Num GB used in data array: 0.02948284149169922\n",
            "Num GB used in data array: 0.02948284149169922\n",
            "Num GB used in data array: 0.030062198638916016\n",
            "Num GB used in data array: 0.030062198638916016\n",
            "Num GB used in data array: 0.030062198638916016\n",
            "Num GB used in data array: 0.03710031509399414\n",
            "Num GB used in data array: 0.03710031509399414\n",
            "Num GB used in data array: 0.038301944732666016\n",
            "Num GB used in data array: 0.038301944732666016\n",
            "Num GB used in data array: 0.03885984420776367\n",
            "Num GB used in data array: 0.03885984420776367\n",
            "Num GB used in data array: 0.03885984420776367\n",
            "Num GB used in data array: 0.04467487335205078\n",
            "Num GB used in data array: 0.04467487335205078\n",
            "Num GB used in data array: 0.04534006118774414\n",
            "Num GB used in data array: 0.04534006118774414\n",
            "Num GB used in data array: 0.07265567779541016\n",
            "Num GB used in data array: 0.07265567779541016\n",
            "Num GB used in data array: 0.07750511169433594\n",
            "Num GB used in data array: 0.07750511169433594\n",
            "Num GB used in data array: 0.07967233657836914\n",
            "Num GB used in data array: 0.07967233657836914\n",
            "Num GB used in data array: 0.07980108261108398\n",
            "Num GB used in data array: 0.07980108261108398\n",
            "Num GB used in data array: 0.07980108261108398\n",
            "Num GB used in data array: 0.08038043975830078\n",
            "Num GB used in data array: 0.08038043975830078\n",
            "Num GB used in data array: 0.08038043975830078\n",
            "Num GB used in data array: 0.08038043975830078\n",
            "Num GB used in data array: 0.08038043975830078\n",
            "Num GB used in data array: 0.08038043975830078\n",
            "Num GB used in data array: 0.08038043975830078\n",
            "Num GB used in data array: 0.08038043975830078\n",
            "Num GB used in data array: 0.08038043975830078\n",
            "Num GB used in data array: 0.08038043975830078\n",
            "Num GB used in data array: 0.08038043975830078\n",
            "Num GB used in data array: 0.08038043975830078\n",
            "Num GB used in data array: 0.08038043975830078\n",
            "Num GB used in data array: 0.08038043975830078\n",
            "Num GB used in data array: 0.08038043975830078\n",
            "Num GB used in data array: 0.08038043975830078\n",
            "Num GB used in data array: 0.08038043975830078\n",
            "Num GB used in data array: 0.08038043975830078\n",
            "Num GB used in data array: 0.08038043975830078\n",
            "Num GB used in data array: 0.08038043975830078\n",
            "Num GB used in data array: 0.08038043975830078\n",
            "Num GB used in data array: 0.08038043975830078\n",
            "Num GB used in data array: 0.08038043975830078\n",
            "Num GB used in data array: 0.08038043975830078\n",
            "Num GB used in data array: 0.08038043975830078\n",
            "Num GB used in data array: 0.08038043975830078\n",
            "Num GB used in data array: 0.08038043975830078\n",
            "Num GB used in data array: 0.08038043975830078\n",
            "Num GB used in data array: 0.08068084716796875\n",
            "Num GB used in data array: 0.08068084716796875\n",
            "Num GB used in data array: 0.08068084716796875\n",
            "Num GB used in data array: 0.08068084716796875\n",
            "Num GB used in data array: 0.08068084716796875\n",
            "Num GB used in data array: 0.08068084716796875\n",
            "Num GB used in data array: 0.08068084716796875\n",
            "Num GB used in data array: 0.08068084716796875\n",
            "Num GB used in data array: 0.08068084716796875\n",
            "Num GB used in data array: 0.08068084716796875\n",
            "Num GB used in data array: 0.08068084716796875\n",
            "Num GB used in data array: 0.08068084716796875\n",
            "Num GB used in data array: 0.08068084716796875\n",
            "Num GB used in data array: 0.08068084716796875\n",
            "Num GB used in data array: 0.08068084716796875\n",
            "Num GB used in data array: 0.08068084716796875\n",
            "Num GB used in data array: 0.08068084716796875\n",
            "Num GB used in data array: 0.08068084716796875\n",
            "Num GB used in data array: 0.08068084716796875\n",
            "Num GB used in data array: 0.08068084716796875\n",
            "Num GB used in data array: 0.08068084716796875\n",
            "Num GB used in data array: 0.08068084716796875\n",
            "Num GB used in data array: 0.08068084716796875\n",
            "Num GB used in data array: 0.08068084716796875\n",
            "Num GB used in data array: 0.08068084716796875\n",
            "Num GB used in data array: 0.08068084716796875\n",
            "Num GB used in data array: 0.08068084716796875\n",
            "Num GB used in data array: 0.08068084716796875\n",
            "Num GB used in data array: 0.08068084716796875\n",
            "Num GB used in data array: 0.08068084716796875\n",
            "Num GB used in data array: 0.08068084716796875\n",
            "Num GB used in data array: 0.08555173873901367\n",
            "Num GB used in data array: 0.08555173873901367\n",
            "Num GB used in data array: 0.08555173873901367\n",
            "Num GB used in data array: 0.08555173873901367\n",
            "Num GB used in data array: 0.08694648742675781\n",
            "Num GB used in data array: 0.08694648742675781\n",
            "Num GB used in data array: 0.08694648742675781\n",
            "Num GB used in data array: 0.08694648742675781\n",
            "Num GB used in data array: 0.08988618850708008\n",
            "Num GB used in data array: 0.08988618850708008\n",
            "Num GB used in data array: 0.09479999542236328\n",
            "Num GB used in data array: 0.09479999542236328\n",
            "Num GB used in data array: 0.1127171516418457\n",
            "Num GB used in data array: 0.1127171516418457\n",
            "Num GB used in data array: 0.1466202735900879\n",
            "Num GB used in data array: 0.1466202735900879\n",
            "Num GB used in data array: 0.15295028686523438\n",
            "Num GB used in data array: 0.15295028686523438\n",
            "Num GB used in data array: 0.15383005142211914\n",
            "Num GB used in data array: 0.15383005142211914\n",
            "Num GB used in data array: 0.15415191650390625\n",
            "Num GB used in data array: 0.15415191650390625\n",
            "Num GB used in data array: 0.15415191650390625\n",
            "Num GB used in data array: 0.15415191650390625\n",
            "Num GB used in data array: 0.16904354095458984\n",
            "Num GB used in data array: 0.16904354095458984\n",
            "Num GB used in data array: 0.1727128028869629\n",
            "Num GB used in data array: 0.1727128028869629\n",
            "Num GB used in data array: 0.18580198287963867\n",
            "Num GB used in data array: 0.18580198287963867\n",
            "Num GB used in data array: 0.19071578979492188\n",
            "Num GB used in data array: 0.19071578979492188\n",
            "Num GB used in data array: 0.19515752792358398\n",
            "Num GB used in data array: 0.19515752792358398\n",
            "Num GB used in data array: 0.19515752792358398\n",
            "Num GB used in data array: 0.19515752792358398\n",
            "Num GB used in data array: 0.19919157028198242\n",
            "Num GB used in data array: 0.19919157028198242\n",
            "Num GB used in data array: 0.2035689353942871\n",
            "Num GB used in data array: 0.2035689353942871\n",
            "Num GB used in data array: 0.2035689353942871\n",
            "Num GB used in data array: 0.2035689353942871\n",
            "Num GB used in data array: 0.2035689353942871\n",
            "Num GB used in data array: 0.2035689353942871\n",
            "Num GB used in data array: 0.2035689353942871\n",
            "Num GB used in data array: 0.2035689353942871\n",
            "Num GB used in data array: 0.20386934280395508\n",
            "Num GB used in data array: 0.20386934280395508\n",
            "Num GB used in data array: 0.2040410041809082\n",
            "Num GB used in data array: 0.2040410041809082\n",
            "Num GB used in data array: 0.2040410041809082\n",
            "Num GB used in data array: 0.2040410041809082\n",
            "Num GB used in data array: 0.2040410041809082\n",
            "Num GB used in data array: 0.2040410041809082\n",
            "Num GB used in data array: 0.2040410041809082\n",
            "Num GB used in data array: 0.2040410041809082\n",
            "Num GB used in data array: 0.2040410041809082\n",
            "Num GB used in data array: 0.2040410041809082\n",
            "Num GB used in data array: 0.21944761276245117\n",
            "Num GB used in data array: 0.21944761276245117\n",
            "Num GB used in data array: 0.22060632705688477\n",
            "Num GB used in data array: 0.22060632705688477\n",
            "Num GB used in data array: 0.22060632705688477\n",
            "Num GB used in data array: 0.23159265518188477\n",
            "Num GB used in data array: 0.23159265518188477\n",
            "Num GB used in data array: 0.24474620819091797\n",
            "Num GB used in data array: 0.24474620819091797\n",
            "Num GB used in data array: 0.24474620819091797\n",
            "Num GB used in data array: 0.2732419967651367\n",
            "Num GB used in data array: 0.2732419967651367\n",
            "Num GB used in data array: 0.3200840950012207\n",
            "Num GB used in data array: 0.3200840950012207\n",
            "Num GB used in data array: 0.3200840950012207\n",
            "Num GB used in data array: 0.3518843650817871\n",
            "Num GB used in data array: 0.3518843650817871\n",
            "Num GB used in data array: 0.3688359260559082\n",
            "Num GB used in data array: 0.3688359260559082\n",
            "Num GB used in data array: 0.3781270980834961\n",
            "Num GB used in data array: 0.3781270980834961\n",
            "Num GB used in data array: 0.3786635398864746\n",
            "Num GB used in data array: 0.3786635398864746\n",
            "Num GB used in data array: 0.3814530372619629\n",
            "Num GB used in data array: 0.3814530372619629\n",
            "Num GB used in data array: 0.3833198547363281\n",
            "Num GB used in data array: 0.3833198547363281\n",
            "Num GB used in data array: 0.399477481842041\n",
            "Num GB used in data array: 0.399477481842041\n",
            "Num GB used in data array: 0.41290998458862305\n",
            "Num GB used in data array: 0.41290998458862305\n",
            "Num GB used in data array: 0.41290998458862305\n",
            "Num GB used in data array: 0.4144763946533203\n",
            "Num GB used in data array: 0.4144763946533203\n",
            "Num GB used in data array: 0.42732954025268555\n",
            "Num GB used in data array: 0.42732954025268555\n",
            "Num GB used in data array: 0.42780160903930664\n",
            "Num GB used in data array: 0.42780160903930664\n",
            "Num GB used in data array: 0.4729485511779785\n",
            "Num GB used in data array: 0.4729485511779785\n",
            "Num GB used in data array: 0.49193859100341797\n",
            "Num GB used in data array: 0.49193859100341797\n",
            "Num GB used in data array: 0.556483268737793\n",
            "Num GB used in data array: 0.556483268737793\n",
            "Num GB used in data array: 0.5633282661437988\n",
            "Num GB used in data array: 0.5633282661437988\n",
            "Num GB used in data array: 0.565495491027832\n",
            "Num GB used in data array: 0.565495491027832\n",
            "Num GB used in data array: 0.5706238746643066\n",
            "Num GB used in data array: 0.5706238746643066\n",
            "Num GB used in data array: 0.5753660202026367\n",
            "Num GB used in data array: 0.5753660202026367\n",
            "Num GB used in data array: 0.5789709091186523\n",
            "Num GB used in data array: 0.5789709091186523\n",
            "Num GB used in data array: 0.5814170837402344\n",
            "Num GB used in data array: 0.5814170837402344\n",
            "Num GB used in data array: 0.583498477935791\n",
            "Num GB used in data array: 0.583498477935791\n",
            "Num GB used in data array: 0.5856013298034668\n",
            "Num GB used in data array: 0.5856013298034668\n",
            "Num GB used in data array: 0.5856013298034668\n",
            "Num GB used in data array: 0.5856013298034668\n",
            "Num GB used in data array: 0.5856013298034668\n",
            "Num GB used in data array: 0.5856013298034668\n",
            "Num GB used in data array: 0.5856013298034668\n",
            "Num GB used in data array: 0.5856013298034668\n",
            "Num GB used in data array: 0.5864596366882324\n",
            "Num GB used in data array: 0.5864596366882324\n",
            "Num GB used in data array: 0.5866098403930664\n",
            "Num GB used in data array: 0.5866098403930664\n",
            "Num GB used in data array: 0.5866098403930664\n",
            "Num GB used in data array: 0.5866098403930664\n",
            "Num GB used in data array: 0.5866098403930664\n",
            "Num GB used in data array: 0.5866098403930664\n",
            "Num GB used in data array: 0.5866098403930664\n",
            "Num GB used in data array: 0.5874037742614746\n",
            "Num GB used in data array: 0.5874037742614746\n",
            "Num GB used in data array: 0.5874037742614746\n",
            "Num GB used in data array: 0.5927896499633789\n",
            "Num GB used in data array: 0.5927896499633789\n",
            "Num GB used in data array: 0.6112432479858398\n",
            "Num GB used in data array: 0.6112432479858398\n",
            "Num GB used in data array: 0.6112432479858398\n",
            "Num GB used in data array: 0.6112432479858398\n",
            "Num GB used in data array: 0.6112432479858398\n",
            "Num GB used in data array: 0.6112432479858398\n",
            "Num GB used in data array: 0.6112432479858398\n",
            "Num GB used in data array: 0.6112432479858398\n",
            "Num GB used in data array: 0.6112432479858398\n",
            "Num GB used in data array: 0.6112432479858398\n",
            "Num GB used in data array: 0.6112432479858398\n",
            "Num GB used in data array: 0.6112432479858398\n",
            "Num GB used in data array: 0.6112432479858398\n",
            "Num GB used in data array: 0.6112432479858398\n",
            "Num GB used in data array: 0.6112432479858398\n",
            "Num GB used in data array: 0.6112432479858398\n",
            "Num GB used in data array: 0.6112432479858398\n",
            "Num GB used in data array: 0.6112432479858398\n",
            "Num GB used in data array: 0.6112432479858398\n",
            "Num GB used in data array: 0.6112432479858398\n",
            "Num GB used in data array: 0.6112432479858398\n",
            "Num GB used in data array: 0.6112432479858398\n",
            "Num GB used in data array: 0.6112432479858398\n",
            "Num GB used in data array: 0.6112432479858398\n",
            "Num GB used in data array: 0.6112432479858398\n",
            "Num GB used in data array: 0.6112432479858398\n",
            "Num GB used in data array: 0.6112432479858398\n",
            "Num GB used in data array: 0.6112432479858398\n",
            "Num GB used in data array: 0.6112432479858398\n",
            "Num GB used in data array: 0.6112432479858398\n",
            "Num GB used in data array: 0.6112432479858398\n",
            "Num GB used in data array: 0.6112432479858398\n",
            "Num GB used in data array: 0.6112432479858398\n",
            "Num GB used in data array: 0.6112432479858398\n",
            "Num GB used in data array: 0.6112432479858398\n",
            "Num GB used in data array: 0.6112432479858398\n",
            "Num GB used in data array: 0.6112432479858398\n",
            "Num GB used in data array: 0.6112432479858398\n",
            "Num GB used in data array: 0.6112432479858398\n",
            "Num GB used in data array: 0.6112432479858398\n",
            "Num GB used in data array: 0.6112432479858398\n",
            "Num GB used in data array: 0.6112432479858398\n",
            "Num GB used in data array: 0.6112432479858398\n",
            "Num GB used in data array: 0.6112432479858398\n",
            "Num GB used in data array: 0.6112432479858398\n",
            "Num GB used in data array: 0.6112432479858398\n",
            "Num GB used in data array: 0.6112432479858398\n",
            "Num GB used in data array: 0.6112432479858398\n",
            "Num GB used in data array: 0.6112432479858398\n",
            "Num GB used in data array: 0.6112432479858398\n",
            "Num GB used in data array: 0.6112432479858398\n",
            "Num GB used in data array: 0.6112432479858398\n",
            "Num GB used in data array: 0.6112432479858398\n",
            "Num GB used in data array: 0.6112432479858398\n",
            "Num GB used in data array: 0.6112432479858398\n",
            "Num GB used in data array: 0.6112432479858398\n",
            "Num GB used in data array: 0.6112432479858398\n",
            "Num GB used in data array: 0.6112432479858398\n",
            "Num GB used in data array: 0.6112432479858398\n",
            "Num GB used in data array: 0.6112432479858398\n",
            "Num GB used in data array: 0.6112432479858398\n",
            "Num GB used in data array: 0.6112432479858398\n",
            "Num GB used in data array: 0.6112432479858398\n",
            "Num GB used in data array: 0.6112432479858398\n",
            "Num GB used in data array: 0.6112432479858398\n",
            "Num GB used in data array: 0.6112432479858398\n",
            "Num GB used in data array: 0.6112432479858398\n",
            "Num GB used in data array: 0.6112432479858398\n",
            "Num GB used in data array: 0.6112432479858398\n",
            "Num GB used in data array: 0.6112432479858398\n",
            "Num GB used in data array: 0.6112432479858398\n",
            "Num GB used in data array: 0.6112432479858398\n",
            "Num GB used in data array: 0.6112432479858398\n",
            "Num GB used in data array: 0.6112432479858398\n",
            "Num GB used in data array: 0.6112432479858398\n",
            "Num GB used in data array: 0.6112432479858398\n",
            "Num GB used in data array: 0.6112432479858398\n",
            "Num GB used in data array: 0.6112432479858398\n",
            "Num GB used in data array: 0.6112432479858398\n",
            "Num GB used in data array: 0.6112432479858398\n",
            "Num GB used in data array: 0.6112432479858398\n",
            "Num GB used in data array: 0.6112432479858398\n",
            "Num GB used in data array: 0.6112432479858398\n",
            "Num GB used in data array: 0.6112432479858398\n",
            "Num GB used in data array: 0.6112432479858398\n",
            "Num GB used in data array: 0.6112432479858398\n",
            "Num GB used in data array: 0.6112432479858398\n",
            "Num GB used in data array: 0.6112432479858398\n",
            "Num GB used in data array: 0.6112432479858398\n",
            "Num GB used in data array: 0.6112432479858398\n",
            "Num GB used in data array: 0.6112432479858398\n",
            "Num GB used in data array: 0.6112432479858398\n",
            "Num GB used in data array: 0.6112432479858398\n",
            "Num GB used in data array: 0.6112432479858398\n",
            "Num GB used in data array: 0.6112432479858398\n",
            "Num GB used in data array: 0.6112432479858398\n",
            "Num GB used in data array: 0.6112432479858398\n",
            "Num GB used in data array: 0.6112432479858398\n",
            "Num GB used in data array: 0.6112432479858398\n",
            "Num GB used in data array: 0.6112432479858398\n",
            "Num GB used in data array: 0.6112432479858398\n",
            "Num GB used in data array: 0.6112432479858398\n",
            "Num GB used in data array: 0.6112432479858398\n",
            "Num GB used in data array: 0.6112432479858398\n",
            "Num GB used in data array: 0.6112432479858398\n",
            "Num GB used in data array: 0.6112432479858398\n",
            "Num GB used in data array: 0.6112432479858398\n",
            "Num GB used in data array: 0.6112432479858398\n",
            "Num GB used in data array: 0.6112432479858398\n",
            "Num GB used in data array: 0.6112432479858398\n",
            "Num GB used in data array: 0.6112432479858398\n",
            "Num GB used in data array: 0.6112432479858398\n",
            "Num GB used in data array: 0.6112432479858398\n",
            "Num GB used in data array: 0.6112432479858398\n",
            "Num GB used in data array: 0.6112432479858398\n",
            "Num GB used in data array: 0.6112432479858398\n",
            "Num GB used in data array: 0.6112432479858398\n",
            "Num GB used in data array: 0.6112432479858398\n",
            "Num GB used in data array: 0.6112432479858398\n",
            "Num GB used in data array: 0.6112432479858398\n",
            "Num GB used in data array: 0.6112432479858398\n",
            "Num GB used in data array: 0.6112432479858398\n",
            "Num GB used in data array: 0.6112432479858398\n",
            "Num GB used in data array: 0.6112432479858398\n",
            "Num GB used in data array: 0.6112432479858398\n",
            "Num GB used in data array: 0.6112432479858398\n",
            "Num GB used in data array: 0.6112432479858398\n",
            "Num GB used in data array: 0.6112432479858398\n",
            "Num GB used in data array: 0.6112432479858398\n",
            "Num GB used in data array: 0.6112432479858398\n",
            "Num GB used in data array: 0.6112432479858398\n",
            "Num GB used in data array: 0.6112432479858398\n",
            "Num GB used in data array: 0.6112432479858398\n"
          ]
        },
        {
          "data": {
            "text/plain": [
              "<data_creation.DataSelection at 0x7fa1965e2310>"
            ]
          },
          "execution_count": 4,
          "metadata": {},
          "output_type": "execute_result"
        }
      ],
      "source": [
        "with open(\"norm_scaler.pkl\", \"rb\") as norm_file:\n",
        "    normalization = pickle.load(norm_file)\n",
        "\n",
        "with open(\"stand_scaler.pkl\", \"rb\") as stand_file:\n",
        "    standard = pickle.load(stand_file)\n",
        "\n",
        "DataSelection(data, 2015,\"./\", 24, use_all=False, select_columns=mf_parameters,\n",
        "              norm_scaler=normalization, stand_scaler=standard)"
      ]
    },
    {
      "cell_type": "markdown",
      "metadata": {
        "id": "jJkOJWHpUbEW"
      },
      "source": [
        "## Load Data and Run Models"
      ]
    },
    {
      "cell_type": "code",
      "execution_count": null,
      "metadata": {
        "id": "_2vrpSwNNDtq"
      },
      "outputs": [],
      "source": [
        "data2014_mf = np.load(\"data_2014.npy\")\n",
        "labels2014_mf = np.load(\"labels_2014.npy\")"
      ]
    },
    {
      "cell_type": "code",
      "execution_count": null,
      "metadata": {
        "id": "EK4QoBskNDtr"
      },
      "outputs": [],
      "source": [
        "mf_model = SolarLSTM(data2014_mf, labels2014_mf, \"./\", 24)"
      ]
    },
    {
      "cell_type": "code",
      "execution_count": null,
      "metadata": {
        "id": "o64p85LENDtr"
      },
      "outputs": [],
      "source": [
        "mf_model.build_model()"
      ]
    },
    {
      "cell_type": "code",
      "execution_count": null,
      "metadata": {
        "colab": {
          "base_uri": "https://localhost:8080/"
        },
        "id": "1a6nHcNHNDtr",
        "outputId": "5efa38e3-78b0-496f-9b5b-a9c86a2e7e53"
      },
      "outputs": [
        {
          "data": {
            "text/plain": [
              "<keras.engine.sequential.Sequential at 0x7f5997ebd350>"
            ]
          },
          "execution_count": 5,
          "metadata": {},
          "output_type": "execute_result"
        }
      ],
      "source": [
        "mf_model.model"
      ]
    },
    {
      "cell_type": "code",
      "execution_count": null,
      "metadata": {
        "colab": {
          "base_uri": "https://localhost:8080/",
          "height": 1000
        },
        "id": "AzkfkXdTNDts",
        "outputId": "3bbcd700-de18-45d9-bcce-8e321e8cc9e7"
      },
      "outputs": [
        {
          "name": "stdout",
          "output_type": "stream",
          "text": [
            "Epoch 1/50\n"
          ]
        },
        {
          "name": "stderr",
          "output_type": "stream",
          "text": [
            "/usr/local/lib/python3.7/dist-packages/tensorflow/python/util/dispatch.py:1082: UserWarning: \"`binary_crossentropy` received `from_logits=True`, but the `output` argument was produced by a sigmoid or softmax activation and thus does not represent logits. Was this intended?\"\n",
            "  return dispatch_target(*args, **kwargs)\n"
          ]
        },
        {
          "name": "stdout",
          "output_type": "stream",
          "text": [
            "320/320 [==============================] - ETA: 0s - loss: 0.3993 - accuracy: 0.8578 - mse: 0.1182 - mae: 0.2402"
          ]
        },
        {
          "name": "stderr",
          "output_type": "stream",
          "text": [
            "WARNING:absl:Found untraced functions such as lstm_cell_layer_call_fn, lstm_cell_layer_call_and_return_conditional_losses, lstm_cell_1_layer_call_fn, lstm_cell_1_layer_call_and_return_conditional_losses while saving (showing 4 of 4). These functions will not be directly callable after loading.\n"
          ]
        },
        {
          "name": "stdout",
          "output_type": "stream",
          "text": [
            "INFO:tensorflow:Assets written to: model_checkpoints/assets\n"
          ]
        },
        {
          "name": "stderr",
          "output_type": "stream",
          "text": [
            "INFO:tensorflow:Assets written to: model_checkpoints/assets\n",
            "WARNING:absl:<keras.layers.recurrent.LSTMCell object at 0x7f5997e498d0> has the same name 'LSTMCell' as a built-in Keras object. Consider renaming <class 'keras.layers.recurrent.LSTMCell'> to avoid naming conflicts when loading with `tf.keras.models.load_model`. If renaming is not possible, pass the object in the `custom_objects` parameter of the load function.\n",
            "WARNING:absl:<keras.layers.recurrent.LSTMCell object at 0x7f598dc82310> has the same name 'LSTMCell' as a built-in Keras object. Consider renaming <class 'keras.layers.recurrent.LSTMCell'> to avoid naming conflicts when loading with `tf.keras.models.load_model`. If renaming is not possible, pass the object in the `custom_objects` parameter of the load function.\n"
          ]
        },
        {
          "name": "stdout",
          "output_type": "stream",
          "text": [
            "\b\b\b\b\b\b\b\b\b\b\b\b\b\b\b\b\b\b\b\b\b\b\b\b\b\b\b\b\b\b\b\b\b\b\b\b\b\b\b\b\b\b\b\b\b\b\b\b\b\b\b\b\b\b\b\b\b\b\b\b\b\b\b\b\b\b\b\b\b\b\b\b\b\b\b\b\b\b\b\b\b\b\b\b\b\b\b\b\b\b\b\b\b\b\b\b\b\b\b\b\b\b\b\b\b\b\b\b\b\b\b\b\r320/320 [==============================] - 30s 83ms/step - loss: 0.3993 - accuracy: 0.8578 - mse: 0.1182 - mae: 0.2402 - val_loss: 0.5826 - val_accuracy: 0.8094 - val_mse: 0.1701 - val_mae: 0.2405\n",
            "Epoch 2/50\n",
            "320/320 [==============================] - 17s 54ms/step - loss: 0.3142 - accuracy: 0.8994 - mse: 0.0883 - mae: 0.1725 - val_loss: 0.6397 - val_accuracy: 0.8094 - val_mse: 0.1765 - val_mae: 0.2323\n",
            "Epoch 3/50\n",
            "319/320 [============================>.] - ETA: 0s - loss: 0.3118 - accuracy: 0.8803 - mse: 0.0877 - mae: 0.1718"
          ]
        },
        {
          "name": "stderr",
          "output_type": "stream",
          "text": [
            "WARNING:absl:Found untraced functions such as lstm_cell_layer_call_fn, lstm_cell_layer_call_and_return_conditional_losses, lstm_cell_1_layer_call_fn, lstm_cell_1_layer_call_and_return_conditional_losses while saving (showing 4 of 4). These functions will not be directly callable after loading.\n"
          ]
        },
        {
          "name": "stdout",
          "output_type": "stream",
          "text": [
            "INFO:tensorflow:Assets written to: model_checkpoints/assets\n"
          ]
        },
        {
          "name": "stderr",
          "output_type": "stream",
          "text": [
            "INFO:tensorflow:Assets written to: model_checkpoints/assets\n",
            "WARNING:absl:<keras.layers.recurrent.LSTMCell object at 0x7f5997e498d0> has the same name 'LSTMCell' as a built-in Keras object. Consider renaming <class 'keras.layers.recurrent.LSTMCell'> to avoid naming conflicts when loading with `tf.keras.models.load_model`. If renaming is not possible, pass the object in the `custom_objects` parameter of the load function.\n",
            "WARNING:absl:<keras.layers.recurrent.LSTMCell object at 0x7f598dc82310> has the same name 'LSTMCell' as a built-in Keras object. Consider renaming <class 'keras.layers.recurrent.LSTMCell'> to avoid naming conflicts when loading with `tf.keras.models.load_model`. If renaming is not possible, pass the object in the `custom_objects` parameter of the load function.\n"
          ]
        },
        {
          "name": "stdout",
          "output_type": "stream",
          "text": [
            "\b\b\b\b\b\b\b\b\b\b\b\b\b\b\b\b\b\b\b\b\b\b\b\b\b\b\b\b\b\b\b\b\b\b\b\b\b\b\b\b\b\b\b\b\b\b\b\b\b\b\b\b\b\b\b\b\b\b\b\b\b\b\b\b\b\b\b\b\b\b\b\b\b\b\b\b\b\b\b\b\b\b\b\b\b\b\b\b\b\b\b\b\b\b\b\b\b\b\b\b\b\b\b\b\b\b\b\b\b\b\b\b\r320/320 [==============================] - 25s 77ms/step - loss: 0.3111 - accuracy: 0.8807 - mse: 0.0874 - mae: 0.1714 - val_loss: 0.5797 - val_accuracy: 0.8094 - val_mse: 0.1696 - val_mae: 0.2501\n",
            "Epoch 4/50\n",
            "320/320 [==============================] - 18s 55ms/step - loss: 0.2931 - accuracy: 0.8973 - mse: 0.0822 - mae: 0.1668 - val_loss: 0.6261 - val_accuracy: 0.8094 - val_mse: 0.1757 - val_mae: 0.2573\n",
            "Epoch 5/50\n",
            "320/320 [==============================] - 18s 55ms/step - loss: 0.2734 - accuracy: 0.8978 - mse: 0.0765 - mae: 0.1538 - val_loss: 0.6836 - val_accuracy: 0.8094 - val_mse: 0.1791 - val_mae: 0.2203\n",
            "Epoch 6/50\n",
            "320/320 [==============================] - 17s 54ms/step - loss: 0.2711 - accuracy: 0.9018 - mse: 0.0761 - mae: 0.1518 - val_loss: 0.6502 - val_accuracy: 0.8093 - val_mse: 0.1786 - val_mae: 0.2733\n",
            "Epoch 7/50\n",
            "320/320 [==============================] - 17s 54ms/step - loss: 0.2490 - accuracy: 0.9051 - mse: 0.0703 - mae: 0.1418 - val_loss: 0.7692 - val_accuracy: 0.8093 - val_mse: 0.1835 - val_mae: 0.2115\n",
            "Epoch 8/50\n",
            "320/320 [==============================] - 17s 53ms/step - loss: 0.2489 - accuracy: 0.9209 - mse: 0.0683 - mae: 0.1413 - val_loss: 0.7044 - val_accuracy: 0.7659 - val_mse: 0.1912 - val_mae: 0.2653\n",
            "Epoch 9/50\n",
            "320/320 [==============================] - 17s 54ms/step - loss: 0.2276 - accuracy: 0.9245 - mse: 0.0633 - mae: 0.1254 - val_loss: 0.8422 - val_accuracy: 0.7256 - val_mse: 0.2171 - val_mae: 0.2925\n",
            "Epoch 10/50\n",
            "320/320 [==============================] - 17s 54ms/step - loss: 0.2313 - accuracy: 0.9249 - mse: 0.0645 - mae: 0.1307 - val_loss: 0.8839 - val_accuracy: 0.7031 - val_mse: 0.2239 - val_mae: 0.3063\n",
            "Epoch 11/50\n",
            "320/320 [==============================] - 17s 53ms/step - loss: 0.2179 - accuracy: 0.9302 - mse: 0.0605 - mae: 0.1240 - val_loss: 0.9550 - val_accuracy: 0.6232 - val_mse: 0.2796 - val_mae: 0.3655\n",
            "Epoch 12/50\n",
            "320/320 [==============================] - 18s 55ms/step - loss: 0.2122 - accuracy: 0.9292 - mse: 0.0595 - mae: 0.1181 - val_loss: 0.9136 - val_accuracy: 0.6908 - val_mse: 0.2424 - val_mae: 0.3239\n",
            "Epoch 13/50\n",
            "320/320 [==============================] - 17s 54ms/step - loss: 0.2029 - accuracy: 0.9310 - mse: 0.0568 - mae: 0.1124 - val_loss: 0.8230 - val_accuracy: 0.8132 - val_mse: 0.1833 - val_mae: 0.2556\n",
            "Epoch 14/50\n",
            "320/320 [==============================] - 17s 54ms/step - loss: 0.1926 - accuracy: 0.9326 - mse: 0.0544 - mae: 0.1093 - val_loss: 0.8187 - val_accuracy: 0.8018 - val_mse: 0.1886 - val_mae: 0.2742\n",
            "Epoch 15/50\n",
            "320/320 [==============================] - 17s 53ms/step - loss: 0.1942 - accuracy: 0.9330 - mse: 0.0547 - mae: 0.1092 - val_loss: 0.8789 - val_accuracy: 0.8114 - val_mse: 0.1904 - val_mae: 0.2698\n",
            "Epoch 16/50\n",
            "320/320 [==============================] - 17s 54ms/step - loss: 0.1878 - accuracy: 0.9335 - mse: 0.0530 - mae: 0.1064 - val_loss: 0.8019 - val_accuracy: 0.8114 - val_mse: 0.1863 - val_mae: 0.2802\n",
            "Epoch 17/50\n",
            "320/320 [==============================] - 17s 53ms/step - loss: 0.1817 - accuracy: 0.9332 - mse: 0.0515 - mae: 0.1030 - val_loss: 0.8173 - val_accuracy: 0.8091 - val_mse: 0.1892 - val_mae: 0.2895\n",
            "Epoch 18/50\n",
            "320/320 [==============================] - 17s 54ms/step - loss: 0.1752 - accuracy: 0.9332 - mse: 0.0496 - mae: 0.1008 - val_loss: 0.8103 - val_accuracy: 0.8043 - val_mse: 0.1905 - val_mae: 0.2905\n",
            "Epoch 18: early stopping\n"
          ]
        },
        {
          "data": {
            "image/png": "[encoded data removed]",
            "text/plain": [
              "<Figure size 576x360 with 1 Axes>"
            ]
          },
          "metadata": {},
          "output_type": "display_data"
        }
      ],
      "source": [
        "history=mf_model.fit()"
      ]
    },
    {
      "cell_type": "code",
      "execution_count": null,
      "metadata": {
        "id": "-WghMSriNDts"
      },
      "outputs": [],
      "source": [
        "data2015_mf = np.load(\"data_2015.npy\")\n",
        "labels2015_mf = np.load(\"labels_2015.npy\")"
      ]
    },
    {
      "cell_type": "code",
      "execution_count": null,
      "metadata": {
        "colab": {
          "base_uri": "https://localhost:8080/"
        },
        "id": "imdWAVM3NDtt",
        "outputId": "48d690e0-4dd8-4b0a-df2d-63e2bd90ca07"
      },
      "outputs": [
        {
          "data": {
            "text/plain": [
              "(28486, 120, 24)"
            ]
          },
          "execution_count": 8,
          "metadata": {},
          "output_type": "execute_result"
        }
      ],
      "source": [
        "data2015_mf.shape"
      ]
    },
    {
      "cell_type": "code",
      "execution_count": null,
      "metadata": {
        "colab": {
          "base_uri": "https://localhost:8080/"
        },
        "id": "i0zr1gAGNDtt",
        "outputId": "558b5987-7d4e-4233-8b96-8ef0bad970cc"
      },
      "outputs": [
        {
          "name": "stdout",
          "output_type": "stream",
          "text": [
            "445/445 [==============================] - 8s 17ms/step - loss: 0.6813 - accuracy: 0.8208 - mse: 0.1606 - mae: 0.2046\n"
          ]
        },
        {
          "data": {
            "text/plain": [
              "[0.6813469529151917,\n",
              " 0.8208236694335938,\n",
              " 0.16059425473213196,\n",
              " 0.20464786887168884]"
            ]
          },
          "execution_count": 11,
          "metadata": {},
          "output_type": "execute_result"
        }
      ],
      "source": [
        "mf_new = mf_model.batch_prefetch_data(data2015_mf,labels2015_mf,split_data=False)\n",
        "mf_model.evaluate(mf_new)\n",
        "#base_model.evaluate(data_new,labels_new)"
      ]
    },
    {
      "cell_type": "code",
      "execution_count": null,
      "metadata": {
        "colab": {
          "base_uri": "https://localhost:8080/",
          "height": 290
        },
        "id": "e4IDRyleNDtt",
        "outputId": "ae79fa65-9fd1-4cf9-fa97-ead92727bf5a"
      },
      "outputs": [
        {
          "data": {
            "image/png": "[encoded data removed]",
            "text/plain": [
              "<Figure size 432x288 with 2 Axes>"
            ]
          },
          "metadata": {},
          "output_type": "display_data"
        }
      ],
      "source": [
        "#Form batches (does not shuffle, cuts off remainder)\n",
        "batched_2015_mf = mf_model.batch_prefetch_data(data2015_mf,split_data=False)\n",
        "#Cutoff matching remainder from labels\n",
        "true_labels_mf = labels2015_mf[:-(labels2015_mf.shape[0] % mf_model.batch_size)]\n",
        "#Do predictions and get confusion matrix\n",
        "conf_matrix_mf = mf_model.predict_conf_matrix(batched_2015_mf,true_labels_mf,make_plots=True)"
      ]
    },
    {
      "cell_type": "code",
      "execution_count": null,
      "metadata": {
        "colab": {
          "base_uri": "https://localhost:8080/"
        },
        "id": "T52Qg_7zNDtu",
        "outputId": "70990b70-49ba-4211-bd78-e0772caecbce"
      },
      "outputs": [
        {
          "data": {
            "text/plain": [
              "array([[   5774,  557866],\n",
              "       [  50102, 2803858]])"
            ]
          },
          "execution_count": 13,
          "metadata": {},
          "output_type": "execute_result"
        }
      ],
      "source": [
        "conf_matrix_mf"
      ]
    },
    {
      "cell_type": "code",
      "execution_count": null,
      "metadata": {
        "colab": {
          "base_uri": "https://localhost:8080/",
          "height": 81
        },
        "id": "gVnEX3bwSS6n",
        "outputId": "fdd5f79b-44b0-4d76-b40a-6cbb6829da40"
      },
      "outputs": [
        {
          "data": {
            "text/html": [
              "\n",
              "  <div id=\"df-663d3175-c334-4d0d-b255-e9386852dfe4\">\n",
              "    <div class=\"colab-df-container\">\n",
              "      <div>\n",
              "<style scoped>\n",
              "    .dataframe tbody tr th:only-of-type {\n",
              "        vertical-align: middle;\n",
              "    }\n",
              "\n",
              "    .dataframe tbody tr th {\n",
              "        vertical-align: top;\n",
              "    }\n",
              "\n",
              "    .dataframe thead th {\n",
              "        text-align: right;\n",
              "    }\n",
              "</style>\n",
              "<table border=\"1\" class=\"dataframe\">\n",
              "  <thead>\n",
              "    <tr style=\"text-align: right;\">\n",
              "      <th></th>\n",
              "      <th>precision</th>\n",
              "      <th>recall</th>\n",
              "      <th>far</th>\n",
              "      <th>hss</th>\n",
              "    </tr>\n",
              "  </thead>\n",
              "  <tbody>\n",
              "    <tr>\n",
              "      <th>0</th>\n",
              "      <td>0.982445</td>\n",
              "      <td>0.834054</td>\n",
              "      <td>0.896664</td>\n",
              "      <td>-0.011464</td>\n",
              "    </tr>\n",
              "  </tbody>\n",
              "</table>\n",
              "</div>\n",
              "      <button class=\"colab-df-convert\" onclick=\"convertToInteractive('df-663d3175-c334-4d0d-b255-e9386852dfe4')\"\n",
              "              title=\"Convert this dataframe to an interactive table.\"\n",
              "              style=\"display:none;\">\n",
              "        \n",
              "  <svg xmlns=\"http://www.w3.org/2000/svg\" height=\"24px\"viewBox=\"0 0 24 24\"\n",
              "       width=\"24px\">\n",
              "    <path d=\"M0 0h24v24H0V0z\" fill=\"none\"/>\n",
              "    <path d=\"M18.56 5.44l.94 2.06.94-2.06 2.06-.94-2.06-.94-.94-2.06-.94 2.06-2.06.94zm-11 1L8.5 8.5l.94-2.06 2.06-.94-2.06-.94L8.5 2.5l-.94 2.06-2.06.94zm10 10l.94 2.06.94-2.06 2.06-.94-2.06-.94-.94-2.06-.94 2.06-2.06.94z\"/><path d=\"M17.41 7.96l-1.37-1.37c-.4-.4-.92-.59-1.43-.59-.52 0-1.04.2-1.43.59L10.3 9.45l-7.72 7.72c-.78.78-.78 2.05 0 2.83L4 21.41c.39.39.9.59 1.41.59.51 0 1.02-.2 1.41-.59l7.78-7.78 2.81-2.81c.8-.78.8-2.07 0-2.86zM5.41 20L4 18.59l7.72-7.72 1.47 1.35L5.41 20z\"/>\n",
              "  </svg>\n",
              "      </button>\n",
              "      \n",
              "  <style>\n",
              "    .colab-df-container {\n",
              "      display:flex;\n",
              "      flex-wrap:wrap;\n",
              "      gap: 12px;\n",
              "    }\n",
              "\n",
              "    .colab-df-convert {\n",
              "      background-color: #E8F0FE;\n",
              "      border: none;\n",
              "      border-radius: 50%;\n",
              "      cursor: pointer;\n",
              "      display: none;\n",
              "      fill: #1967D2;\n",
              "      height: 32px;\n",
              "      padding: 0 0 0 0;\n",
              "      width: 32px;\n",
              "    }\n",
              "\n",
              "    .colab-df-convert:hover {\n",
              "      background-color: #E2EBFA;\n",
              "      box-shadow: 0px 1px 2px rgba(60, 64, 67, 0.3), 0px 1px 3px 1px rgba(60, 64, 67, 0.15);\n",
              "      fill: #174EA6;\n",
              "    }\n",
              "\n",
              "    [theme=dark] .colab-df-convert {\n",
              "      background-color: #3B4455;\n",
              "      fill: #D2E3FC;\n",
              "    }\n",
              "\n",
              "    [theme=dark] .colab-df-convert:hover {\n",
              "      background-color: #434B5C;\n",
              "      box-shadow: 0px 1px 3px 1px rgba(0, 0, 0, 0.15);\n",
              "      filter: drop-shadow(0px 1px 2px rgba(0, 0, 0, 0.3));\n",
              "      fill: #FFFFFF;\n",
              "    }\n",
              "  </style>\n",
              "\n",
              "      <script>\n",
              "        const buttonEl =\n",
              "          document.querySelector('#df-663d3175-c334-4d0d-b255-e9386852dfe4 button.colab-df-convert');\n",
              "        buttonEl.style.display =\n",
              "          google.colab.kernel.accessAllowed ? 'block' : 'none';\n",
              "\n",
              "        async function convertToInteractive(key) {\n",
              "          const element = document.querySelector('#df-663d3175-c334-4d0d-b255-e9386852dfe4');\n",
              "          const dataTable =\n",
              "            await google.colab.kernel.invokeFunction('convertToInteractive',\n",
              "                                                     [key], {});\n",
              "          if (!dataTable) return;\n",
              "\n",
              "          const docLinkHtml = 'Like what you see? Visit the ' +\n",
              "            '<a target=\"_blank\" href=https://colab.research.google.com/notebooks/data_table.ipynb>data table notebook</a>'\n",
              "            + ' to learn more about interactive tables.';\n",
              "          element.innerHTML = '';\n",
              "          dataTable['output_type'] = 'display_data';\n",
              "          await google.colab.output.renderOutput(dataTable, element);\n",
              "          const docLink = document.createElement('div');\n",
              "          docLink.innerHTML = docLinkHtml;\n",
              "          element.appendChild(docLink);\n",
              "        }\n",
              "      </script>\n",
              "    </div>\n",
              "  </div>\n",
              "  "
            ],
            "text/plain": [
              "   precision    recall       far       hss\n",
              "0   0.982445  0.834054  0.896664 -0.011464"
            ]
          },
          "execution_count": 14,
          "metadata": {},
          "output_type": "execute_result"
        }
      ],
      "source": [
        "mf_model.calculate_statistics(conf_matrix_mf)"
      ]
    },
    {
      "cell_type": "code",
      "execution_count": null,
      "metadata": {
        "id": "nyDt0SuuNDtu"
      },
      "outputs": [],
      "source": [
        "keras.backend.clear_session()"
      ]
    },
    {
      "cell_type": "code",
      "execution_count": null,
      "metadata": {
        "id": "BRSqPRIHNDtu"
      },
      "outputs": [],
      "source": [
        "tuned_model_mf = SolarLSTM(data2014_mf, labels2014_mf, \"./\", 24, tune=True)"
      ]
    },
    {
      "cell_type": "code",
      "execution_count": null,
      "metadata": {
        "colab": {
          "background_save": true,
          "base_uri": "https://localhost:8080/"
        },
        "id": "j65L5DwbNDtv",
        "outputId": "c317a563-d2ad-4f81-c4c1-1ae705fd1e2d"
      },
      "outputs": [
        {
          "name": "stdout",
          "output_type": "stream",
          "text": [
            "Trial 1 Complete [00h 24m 41s]\n",
            "val_accuracy: 0.8131054639816284\n",
            "\n",
            "Best val_accuracy So Far: 0.8131054639816284\n",
            "Total elapsed time: 00h 24m 41s\n",
            "\n",
            "Search: Running Trial #2\n",
            "\n",
            "Value             |Best Value So Far |Hyperparameter\n",
            "96                |80                |units\n",
            "\n",
            "Epoch 1/50\n"
          ]
        },
        {
          "name": "stderr",
          "output_type": "stream",
          "text": [
            "/usr/local/lib/python3.7/dist-packages/tensorflow/python/util/dispatch.py:1082: UserWarning: \"`binary_crossentropy` received `from_logits=True`, but the `output` argument was produced by a sigmoid or softmax activation and thus does not represent logits. Was this intended?\"\n",
            "  return dispatch_target(*args, **kwargs)\n"
          ]
        },
        {
          "name": "stdout",
          "output_type": "stream",
          "text": [
            "320/320 [==============================] - ETA: 0s - loss: 0.3789 - accuracy: 0.8859 - mse: 0.1061 - mae: 0.2029"
          ]
        },
        {
          "name": "stderr",
          "output_type": "stream",
          "text": [
            "WARNING:absl:Found untraced functions such as lstm_cell_layer_call_fn, lstm_cell_layer_call_and_return_conditional_losses, lstm_cell_1_layer_call_fn, lstm_cell_1_layer_call_and_return_conditional_losses while saving (showing 4 of 4). These functions will not be directly callable after loading.\n"
          ]
        },
        {
          "name": "stdout",
          "output_type": "stream",
          "text": [
            "INFO:tensorflow:Assets written to: model_checkpoints/assets\n"
          ]
        },
        {
          "name": "stderr",
          "output_type": "stream",
          "text": [
            "INFO:tensorflow:Assets written to: model_checkpoints/assets\n",
            "WARNING:absl:<keras.layers.recurrent.LSTMCell object at 0x7f598c4a1b10> has the same name 'LSTMCell' as a built-in Keras object. Consider renaming <class 'keras.layers.recurrent.LSTMCell'> to avoid naming conflicts when loading with `tf.keras.models.load_model`. If renaming is not possible, pass the object in the `custom_objects` parameter of the load function.\n",
            "WARNING:absl:<keras.layers.recurrent.LSTMCell object at 0x7f598b5a8850> has the same name 'LSTMCell' as a built-in Keras object. Consider renaming <class 'keras.layers.recurrent.LSTMCell'> to avoid naming conflicts when loading with `tf.keras.models.load_model`. If renaming is not possible, pass the object in the `custom_objects` parameter of the load function.\n"
          ]
        },
        {
          "name": "stdout",
          "output_type": "stream",
          "text": [
            "320/320 [==============================] - 65s 196ms/step - loss: 0.3789 - accuracy: 0.8859 - mse: 0.1061 - mae: 0.2029 - val_loss: 0.6714 - val_accuracy: 0.8094 - val_mse: 0.1787 - val_mae: 0.2124\n",
            "Epoch 2/50\n",
            "320/320 [==============================] - ETA: 0s - loss: 0.3519 - accuracy: 0.8996 - mse: 0.0967 - mae: 0.1887"
          ]
        },
        {
          "name": "stderr",
          "output_type": "stream",
          "text": [
            "WARNING:absl:Found untraced functions such as lstm_cell_layer_call_fn, lstm_cell_layer_call_and_return_conditional_losses, lstm_cell_1_layer_call_fn, lstm_cell_1_layer_call_and_return_conditional_losses while saving (showing 4 of 4). These functions will not be directly callable after loading.\n"
          ]
        },
        {
          "name": "stdout",
          "output_type": "stream",
          "text": [
            "INFO:tensorflow:Assets written to: model_checkpoints/assets\n"
          ]
        },
        {
          "name": "stderr",
          "output_type": "stream",
          "text": [
            "INFO:tensorflow:Assets written to: model_checkpoints/assets\n",
            "WARNING:absl:<keras.layers.recurrent.LSTMCell object at 0x7f598c4a1b10> has the same name 'LSTMCell' as a built-in Keras object. Consider renaming <class 'keras.layers.recurrent.LSTMCell'> to avoid naming conflicts when loading with `tf.keras.models.load_model`. If renaming is not possible, pass the object in the `custom_objects` parameter of the load function.\n",
            "WARNING:absl:<keras.layers.recurrent.LSTMCell object at 0x7f598b5a8850> has the same name 'LSTMCell' as a built-in Keras object. Consider renaming <class 'keras.layers.recurrent.LSTMCell'> to avoid naming conflicts when loading with `tf.keras.models.load_model`. If renaming is not possible, pass the object in the `custom_objects` parameter of the load function.\n"
          ]
        },
        {
          "name": "stdout",
          "output_type": "stream",
          "text": [
            "320/320 [==============================] - 62s 195ms/step - loss: 0.3519 - accuracy: 0.8996 - mse: 0.0967 - mae: 0.1887 - val_loss: 0.5413 - val_accuracy: 0.8094 - val_mse: 0.1653 - val_mae: 0.2447\n",
            "Epoch 3/50\n",
            "320/320 [==============================] - 56s 176ms/step - loss: 0.3002 - accuracy: 0.8964 - mse: 0.0858 - mae: 0.1587 - val_loss: 0.9811 - val_accuracy: 0.8094 - val_mse: 0.1882 - val_mae: 0.1956\n",
            "Epoch 4/50\n",
            "320/320 [==============================] - 56s 176ms/step - loss: 0.3691 - accuracy: 0.8996 - mse: 0.0992 - mae: 0.1852 - val_loss: 0.5535 - val_accuracy: 0.8094 - val_mse: 0.1672 - val_mae: 0.2383\n",
            "Epoch 5/50\n",
            "320/320 [==============================] - 56s 174ms/step - loss: 0.3049 - accuracy: 0.8981 - mse: 0.0882 - mae: 0.1561 - val_loss: 0.8987 - val_accuracy: 0.8094 - val_mse: 0.1871 - val_mae: 0.1965\n"
          ]
        }
      ],
      "source": [
        "tuned_model_mf.fit()"
      ]
    },
    {
      "cell_type": "code",
      "execution_count": null,
      "metadata": {
        "id": "OovIefUyNDtv"
      },
      "outputs": [],
      "source": [
        "#Form batches (does not shuffle, cuts off remainder)\n",
        "# batched_2015 = tuned_model.batch_prefetch_data(data2015,split_data=False)\n",
        "#Cutoff matching remainder from labels\n",
        "# true_labels = labels2015[:-(labels2015.shape[0]%tuned_model.batch_size)]"
      ]
    },
    {
      "cell_type": "code",
      "execution_count": null,
      "metadata": {
        "colab": {
          "base_uri": "https://localhost:8080/",
          "height": 290
        },
        "id": "Dyx83sDtNDtv",
        "outputId": "dbfa3ea3-83f0-4208-b2d4-f1c750763aca"
      },
      "outputs": [
        {
          "data": {
            "image/png": "[encoded data removed]",
            "text/plain": [
              "<Figure size 432x288 with 2 Axes>"
            ]
          },
          "metadata": {},
          "output_type": "display_data"
        }
      ],
      "source": [
        "conf_matrix = tuned_model_mf.predict_conf_matrix(batched_2015,true_labels,make_plots=True)"
      ]
    },
    {
      "cell_type": "code",
      "execution_count": null,
      "metadata": {
        "id": "K8-6Cl53W8oF"
      },
      "outputs": [],
      "source": [
        ""
      ]
    },
    {
      "cell_type": "code",
      "source": [
        ""
      ],
      "metadata": {
        "id": "oX7WKdrHg_gP"
      },
      "execution_count": null,
      "outputs": []
    },
    {
      "cell_type": "markdown",
      "source": [
        "# Feature Selection Model"
      ],
      "metadata": {
        "id": "pVmLjpZYhDub"
      }
    },
    {
      "cell_type": "code",
      "source": [
        "with open(\"/content/all_data.pkl\", \"rb\") as file:\n",
        "    data = pickle.load(file)"
      ],
      "metadata": {
        "id": "3Fc6kB1cI53t"
      },
      "execution_count": 4,
      "outputs": []
    },
    {
      "cell_type": "code",
      "execution_count": 5,
      "metadata": {
        "colab": {
          "base_uri": "https://localhost:8080/"
        },
        "outputId": "9cc74c19-d61d-4997-90e2-d48bd2aa7fc0",
        "id": "-dBYnhAXhG96"
      },
      "outputs": [
        {
          "output_type": "stream",
          "name": "stdout",
          "text": [
            "Num GB used in data array: 0.0006008148193359375\n",
            "Num GB used in data array: 0.0008475780487060547\n",
            "Num GB used in data array: 0.001963376998901367\n",
            "Num GB used in data array: 0.003701448440551758\n",
            "Num GB used in data array: 0.004388093948364258\n",
            "Num GB used in data array: 0.004903078079223633\n",
            "Num GB used in data array: 0.005300045013427734\n",
            "Num GB used in data array: 0.0072634220123291016\n",
            "Num GB used in data array: 0.007381439208984375\n",
            "Num GB used in data array: 0.008465051651000977\n",
            "Num GB used in data array: 0.009065866470336914\n",
            "Num GB used in data array: 0.012778043746948242\n",
            "Num GB used in data array: 0.01337885856628418\n",
            "Num GB used in data array: 0.015106201171875\n",
            "Num GB used in data array: 0.017713308334350586\n",
            "Num GB used in data array: 0.018045902252197266\n",
            "Num GB used in data array: 0.03292679786682129\n",
            "Num GB used in data array: 0.034461021423339844\n",
            "Num GB used in data array: 0.03457903861999512\n",
            "Num GB used in data array: 0.03464341163635254\n",
            "Num GB used in data array: 0.03508329391479492\n",
            "Num GB used in data array: 0.03568410873413086\n",
            "Num GB used in data array: 0.03636002540588379\n",
            "Num GB used in data array: 0.040018558502197266\n",
            "Num GB used in data array: 0.04024386405944824\n",
            "Num GB used in data array: 0.04084467887878418\n",
            "Num GB used in data array: 0.04144549369812012\n",
            "Num GB used in data array: 0.04215359687805176\n",
            "Num GB used in data array: 0.042754411697387695\n",
            "Num GB used in data array: 0.04335522651672363\n",
            "Num GB used in data array: 0.04395604133605957\n",
            "Num GB used in data array: 0.048558712005615234\n",
            "Num GB used in data array: 0.04915952682495117\n",
            "Num GB used in data array: 0.0495457649230957\n",
            "Num GB used in data array: 0.04971742630004883\n",
            "Num GB used in data array: 0.0516057014465332\n",
            "Num GB used in data array: 0.05251765251159668\n",
            "Num GB used in data array: 0.05292534828186035\n",
            "Num GB used in data array: 0.053000450134277344\n",
            "Num GB used in data array: 0.05606889724731445\n",
            "Num GB used in data array: 0.0561976432800293\n",
            "Num GB used in data array: 0.05970597267150879\n",
            "Num GB used in data array: 0.06067156791687012\n",
            "Num GB used in data array: 0.06394386291503906\n",
            "Num GB used in data array: 0.06886839866638184\n",
            "Num GB used in data array: 0.08271932601928711\n",
            "Num GB used in data array: 0.09527206420898438\n",
            "Num GB used in data array: 0.09794354438781738\n",
            "Num GB used in data array: 0.09816884994506836\n",
            "Num GB used in data array: 0.09832978248596191\n",
            "Num GB used in data array: 0.09836196899414062\n",
            "Num GB used in data array: 0.10431647300720215\n",
            "Num GB used in data array: 0.10488510131835938\n",
            "Num GB used in data array: 0.10943412780761719\n",
            "Num GB used in data array: 0.10972380638122559\n",
            "Num GB used in data array: 0.10987401008605957\n",
            "Num GB used in data array: 0.11148333549499512\n",
            "Num GB used in data array: 0.11542081832885742\n",
            "Num GB used in data array: 0.12581706047058105\n",
            "Num GB used in data array: 0.12752294540405273\n",
            "Num GB used in data array: 0.13744711875915527\n",
            "Num GB used in data array: 0.14685630798339844\n",
            "Num GB used in data array: 0.1574993133544922\n",
            "Num GB used in data array: 0.18210053443908691\n",
            "Num GB used in data array: 0.1961982250213623\n",
            "Num GB used in data array: 0.2031397819519043\n",
            "Num GB used in data array: 0.2111220359802246\n",
            "Num GB used in data array: 0.21139025688171387\n",
            "Num GB used in data array: 0.21280646324157715\n",
            "Num GB used in data array: 0.2131819725036621\n",
            "Num GB used in data array: 0.21916866302490234\n",
            "Num GB used in data array: 0.22357821464538574\n",
            "Num GB used in data array: 0.22396445274353027\n",
            "Num GB used in data array: 0.2277839183807373\n",
            "Num GB used in data array: 0.24204254150390625\n",
            "Num GB used in data array: 0.24615168571472168\n",
            "Num GB used in data array: 0.26726603507995605\n",
            "Num GB used in data array: 0.2705061435699463\n",
            "Num GB used in data array: 0.27059197425842285\n",
            "Num GB used in data array: 0.2707099914550781\n",
            "Num GB used in data array: 0.2708280086517334\n",
            "Num GB used in data array: 0.27132153511047363\n",
            "Num GB used in data array: 0.2716541290283203\n",
            "Num GB used in data array: 0.2718043327331543\n",
            "Num GB used in data array: 0.27246952056884766\n",
            "Num GB used in data array: 0.27518391609191895\n"
          ]
        },
        {
          "output_type": "execute_result",
          "data": {
            "text/plain": [
              "<data_creation.DataSelection at 0x7f761f576110>"
            ]
          },
          "metadata": {},
          "execution_count": 5
        }
      ],
      "source": [
        "DataSelection(data, 2014, \"./\", feature_selection=True, use_all=False)\n",
        "# DataSelection(data, 2015, \"./\")"
      ]
    },
    {
      "cell_type": "code",
      "execution_count": 6,
      "metadata": {
        "colab": {
          "base_uri": "https://localhost:8080/"
        },
        "outputId": "d48dbf80-2028-4cb7-d818-3a6834e27968",
        "id": "jMLlvKP-hG97"
      },
      "outputs": [
        {
          "output_type": "stream",
          "name": "stdout",
          "text": [
            "Num GB used in data array: 0.0006008148193359375\n",
            "Num GB used in data array: 0.0009870529174804688\n",
            "Num GB used in data array: 0.003465414047241211\n",
            "Num GB used in data array: 0.005525350570678711\n",
            "Num GB used in data array: 0.007628202438354492\n",
            "Num GB used in data array: 0.009924173355102539\n",
            "Num GB used in data array: 0.010524988174438477\n",
            "Num GB used in data array: 0.011125802993774414\n",
            "Num GB used in data array: 0.014623403549194336\n",
            "Num GB used in data array: 0.01474142074584961\n",
            "Num GB used in data array: 0.015031099319458008\n",
            "Num GB used in data array: 0.01855015754699707\n",
            "Num GB used in data array: 0.019150972366333008\n",
            "Num GB used in data array: 0.019429922103881836\n",
            "Num GB used in data array: 0.02233743667602539\n",
            "Num GB used in data array: 0.02267003059387207\n",
            "Num GB used in data array: 0.03632783889770508\n",
            "Num GB used in data array: 0.03875255584716797\n",
            "Num GB used in data array: 0.03983616828918457\n",
            "Num GB used in data array: 0.03990054130554199\n",
            "Num GB used in data array: 0.04019021987915039\n",
            "Num GB used in data array: 0.040340423583984375\n",
            "Num GB used in data array: 0.042775869369506836\n",
            "Num GB used in data array: 0.043473243713378906\n",
            "Num GB used in data array: 0.04494309425354004\n",
            "Num GB used in data array: 0.04739999771118164\n",
            "Num GB used in data array: 0.05635857582092285\n",
            "Num GB used in data array: 0.07331013679504395\n",
            "Num GB used in data array: 0.07647514343261719\n",
            "Num GB used in data array: 0.07691502571105957\n",
            "Num GB used in data array: 0.07707595825195312\n",
            "Num GB used in data array: 0.08452177047729492\n",
            "Num GB used in data array: 0.08635640144348145\n",
            "Num GB used in data array: 0.09290099143981934\n",
            "Num GB used in data array: 0.09535789489746094\n",
            "Num GB used in data array: 0.09757876396179199\n",
            "Num GB used in data array: 0.09959578514099121\n",
            "Num GB used in data array: 0.10178446769714355\n",
            "Num GB used in data array: 0.10193467140197754\n",
            "Num GB used in data array: 0.1020205020904541\n",
            "Num GB used in data array: 0.10972380638122559\n",
            "Num GB used in data array: 0.11030316352844238\n",
            "Num GB used in data array: 0.11579632759094238\n",
            "Num GB used in data array: 0.12237310409545898\n",
            "Num GB used in data array: 0.13662099838256836\n",
            "Num GB used in data array: 0.16004204750061035\n",
            "Num GB used in data array: 0.17594218254089355\n",
            "Num GB used in data array: 0.1844179630279541\n",
            "Num GB used in data array: 0.18906354904174805\n",
            "Num GB used in data array: 0.1893317699432373\n",
            "Num GB used in data array: 0.19072651863098145\n",
            "Num GB used in data array: 0.19165992736816406\n",
            "Num GB used in data array: 0.1997387409210205\n",
            "Num GB used in data array: 0.20645499229431152\n",
            "Num GB used in data array: 0.20723819732666016\n",
            "Num GB used in data array: 0.21366477012634277\n",
            "Num GB used in data array: 0.21390080451965332\n",
            "Num GB used in data array: 0.23647427558898926\n",
            "Num GB used in data array: 0.24596929550170898\n",
            "Num GB used in data array: 0.2782416343688965\n",
            "Num GB used in data array: 0.2816641330718994\n",
            "Num GB used in data array: 0.282747745513916\n",
            "Num GB used in data array: 0.2853119373321533\n",
            "Num GB used in data array: 0.28768301010131836\n",
            "Num GB used in data array: 0.28948545455932617\n",
            "Num GB used in data array: 0.2907085418701172\n",
            "Num GB used in data array: 0.2917492389678955\n",
            "Num GB used in data array: 0.2928006649017334\n",
            "Num GB used in data array: 0.2932298183441162\n",
            "Num GB used in data array: 0.2933049201965332\n",
            "Num GB used in data array: 0.2937018871307373\n",
            "Num GB used in data array: 0.29639482498168945\n",
            "Num GB used in data array: 0.3056216239929199\n"
          ]
        },
        {
          "output_type": "execute_result",
          "data": {
            "text/plain": [
              "<data_creation.DataSelection at 0x7f7607ea4b50>"
            ]
          },
          "metadata": {},
          "execution_count": 6
        }
      ],
      "source": [
        "with open(\"norm_scaler.pkl\", \"rb\") as norm_file:\n",
        "    normalization = pickle.load(norm_file)\n",
        "\n",
        "with open(\"stand_scaler.pkl\", \"rb\") as stand_file:\n",
        "    standard = pickle.load(stand_file)\n",
        "\n",
        "DataSelection(data, 2015,\"./\", feature_selection=True, use_all=False, norm_scaler=normalization, stand_scaler=standard)"
      ]
    },
    {
      "cell_type": "code",
      "execution_count": 7,
      "metadata": {
        "id": "8rKk8YO2hG97"
      },
      "outputs": [],
      "source": [
        "data2014_sf = np.load(\"data_2014.npy\")\n",
        "labels2014_sf = np.load(\"labels_2014.npy\")"
      ]
    },
    {
      "cell_type": "code",
      "execution_count": 8,
      "metadata": {
        "colab": {
          "base_uri": "https://localhost:8080/"
        },
        "outputId": "0a925cde-deef-438b-ea2c-e28db53d79f1",
        "id": "Xolz75lMhG97"
      },
      "outputs": [
        {
          "output_type": "execute_result",
          "data": {
            "text/plain": [
              "(25649, 120, 12)"
            ]
          },
          "metadata": {},
          "execution_count": 8
        }
      ],
      "source": [
        "data2014_sf.shape"
      ]
    },
    {
      "cell_type": "code",
      "source": [
        "fs_model = SolarLSTM(data2014_sf, labels2014_sf, \"./\")"
      ],
      "metadata": {
        "id": "ixX_7DZvEA0I"
      },
      "execution_count": 9,
      "outputs": []
    },
    {
      "cell_type": "code",
      "source": [
        "fs_model.build_model()"
      ],
      "metadata": {
        "id": "umCn_dZEHquP"
      },
      "execution_count": 10,
      "outputs": []
    },
    {
      "cell_type": "code",
      "execution_count": 11,
      "metadata": {
        "colab": {
          "base_uri": "https://localhost:8080/"
        },
        "outputId": "546eae5a-c7ca-4464-c59f-91221ac1aa55",
        "id": "uJOMus6HH7Ez"
      },
      "outputs": [
        {
          "output_type": "execute_result",
          "data": {
            "text/plain": [
              "<keras.engine.sequential.Sequential at 0x7f7607e85fd0>"
            ]
          },
          "metadata": {},
          "execution_count": 11
        }
      ],
      "source": [
        "fs_model.model"
      ]
    },
    {
      "cell_type": "code",
      "execution_count": 12,
      "metadata": {
        "colab": {
          "base_uri": "https://localhost:8080/",
          "height": 1000
        },
        "outputId": "54a68ae3-65a0-4203-9a93-1a97bf72c460",
        "id": "PhW8KmUkH7Ez"
      },
      "outputs": [
        {
          "output_type": "stream",
          "name": "stdout",
          "text": [
            "Epoch 1/50\n"
          ]
        },
        {
          "output_type": "stream",
          "name": "stderr",
          "text": [
            "/usr/local/lib/python3.7/dist-packages/tensorflow/python/util/dispatch.py:1082: UserWarning: \"`binary_crossentropy` received `from_logits=True`, but the `output` argument was produced by a sigmoid or softmax activation and thus does not represent logits. Was this intended?\"\n",
            "  return dispatch_target(*args, **kwargs)\n"
          ]
        },
        {
          "output_type": "stream",
          "name": "stdout",
          "text": [
            "320/320 [==============================] - ETA: 0s - loss: 0.3544 - accuracy: 0.8877 - mse: 0.1049 - mae: 0.2200"
          ]
        },
        {
          "output_type": "stream",
          "name": "stderr",
          "text": [
            "WARNING:absl:Found untraced functions such as lstm_cell_layer_call_fn, lstm_cell_layer_call_and_return_conditional_losses, lstm_cell_1_layer_call_fn, lstm_cell_1_layer_call_and_return_conditional_losses while saving (showing 4 of 4). These functions will not be directly callable after loading.\n"
          ]
        },
        {
          "output_type": "stream",
          "name": "stdout",
          "text": [
            "INFO:tensorflow:Assets written to: model_checkpoints/assets\n"
          ]
        },
        {
          "output_type": "stream",
          "name": "stderr",
          "text": [
            "INFO:tensorflow:Assets written to: model_checkpoints/assets\n",
            "WARNING:absl:<keras.layers.recurrent.LSTMCell object at 0x7f7607e8c350> has the same name 'LSTMCell' as a built-in Keras object. Consider renaming <class 'keras.layers.recurrent.LSTMCell'> to avoid naming conflicts when loading with `tf.keras.models.load_model`. If renaming is not possible, pass the object in the `custom_objects` parameter of the load function.\n",
            "WARNING:absl:<keras.layers.recurrent.LSTMCell object at 0x7f75ffcfc310> has the same name 'LSTMCell' as a built-in Keras object. Consider renaming <class 'keras.layers.recurrent.LSTMCell'> to avoid naming conflicts when loading with `tf.keras.models.load_model`. If renaming is not possible, pass the object in the `custom_objects` parameter of the load function.\n"
          ]
        },
        {
          "output_type": "stream",
          "name": "stdout",
          "text": [
            "\b\b\b\b\b\b\b\b\b\b\b\b\b\b\b\b\b\b\b\b\b\b\b\b\b\b\b\b\b\b\b\b\b\b\b\b\b\b\b\b\b\b\b\b\b\b\b\b\b\b\b\b\b\b\b\b\b\b\b\b\b\b\b\b\b\b\b\b\b\b\b\b\b\b\b\b\b\b\b\b\b\b\b\b\b\b\b\b\b\b\b\b\b\b\b\b\b\b\b\b\b\b\b\b\b\b\b\b\b\b\b\b\r320/320 [==============================] - 31s 88ms/step - loss: 0.3544 - accuracy: 0.8877 - mse: 0.1049 - mae: 0.2200 - val_loss: 0.5660 - val_accuracy: 0.8094 - val_mse: 0.1606 - val_mae: 0.2337\n",
            "Epoch 2/50\n",
            "320/320 [==============================] - 19s 60ms/step - loss: 0.2803 - accuracy: 0.8978 - mse: 0.0790 - mae: 0.1526 - val_loss: 0.6811 - val_accuracy: 0.8094 - val_mse: 0.1760 - val_mae: 0.2076\n",
            "Epoch 3/50\n",
            "320/320 [==============================] - 19s 60ms/step - loss: 0.2627 - accuracy: 0.9042 - mse: 0.0718 - mae: 0.1410 - val_loss: 0.6165 - val_accuracy: 0.8110 - val_mse: 0.1643 - val_mae: 0.2110\n",
            "Epoch 4/50\n",
            "320/320 [==============================] - 19s 59ms/step - loss: 0.2630 - accuracy: 0.9109 - mse: 0.0722 - mae: 0.1419 - val_loss: 0.6632 - val_accuracy: 0.7712 - val_mse: 0.1833 - val_mae: 0.2392\n",
            "Epoch 5/50\n",
            "320/320 [==============================] - 19s 60ms/step - loss: 0.2474 - accuracy: 0.9170 - mse: 0.0678 - mae: 0.1348 - val_loss: 0.6381 - val_accuracy: 0.8096 - val_mse: 0.1698 - val_mae: 0.2147\n",
            "Epoch 6/50\n",
            "320/320 [==============================] - 19s 59ms/step - loss: 0.2307 - accuracy: 0.9227 - mse: 0.0632 - mae: 0.1277 - val_loss: 0.6631 - val_accuracy: 0.7979 - val_mse: 0.1758 - val_mae: 0.2171\n",
            "Epoch 7/50\n",
            "320/320 [==============================] - 19s 60ms/step - loss: 0.2170 - accuracy: 0.9295 - mse: 0.0583 - mae: 0.1189 - val_loss: 0.6857 - val_accuracy: 0.8063 - val_mse: 0.1763 - val_mae: 0.2160\n",
            "Epoch 8/50\n",
            "320/320 [==============================] - 19s 60ms/step - loss: 0.2216 - accuracy: 0.9188 - mse: 0.0616 - mae: 0.1203 - val_loss: 0.6759 - val_accuracy: 0.8015 - val_mse: 0.1736 - val_mae: 0.2152\n",
            "Epoch 9/50\n",
            "320/320 [==============================] - 19s 60ms/step - loss: 0.2199 - accuracy: 0.9286 - mse: 0.0587 - mae: 0.1189 - val_loss: 0.6670 - val_accuracy: 0.8032 - val_mse: 0.1756 - val_mae: 0.2225\n",
            "Epoch 10/50\n",
            "320/320 [==============================] - 19s 59ms/step - loss: 0.1979 - accuracy: 0.9361 - mse: 0.0535 - mae: 0.1108 - val_loss: 0.6651 - val_accuracy: 0.8068 - val_mse: 0.1695 - val_mae: 0.2210\n",
            "Epoch 11/50\n",
            "320/320 [==============================] - 19s 59ms/step - loss: 0.1905 - accuracy: 0.9376 - mse: 0.0513 - mae: 0.1044 - val_loss: 0.6855 - val_accuracy: 0.8051 - val_mse: 0.1701 - val_mae: 0.2193\n",
            "Epoch 12/50\n",
            "320/320 [==============================] - 19s 59ms/step - loss: 0.1897 - accuracy: 0.9381 - mse: 0.0511 - mae: 0.1033 - val_loss: 0.6961 - val_accuracy: 0.8057 - val_mse: 0.1717 - val_mae: 0.2197\n",
            "Epoch 13/50\n",
            "320/320 [==============================] - 19s 60ms/step - loss: 0.1819 - accuracy: 0.9414 - mse: 0.0487 - mae: 0.0987 - val_loss: 0.7404 - val_accuracy: 0.7680 - val_mse: 0.1890 - val_mae: 0.2469\n",
            "Epoch 14/50\n",
            "320/320 [==============================] - 19s 59ms/step - loss: 0.1897 - accuracy: 0.9415 - mse: 0.0492 - mae: 0.0990 - val_loss: 0.7317 - val_accuracy: 0.7523 - val_mse: 0.1950 - val_mae: 0.2583\n",
            "Epoch 15/50\n",
            "320/320 [==============================] - 19s 59ms/step - loss: 0.1743 - accuracy: 0.9436 - mse: 0.0463 - mae: 0.0946 - val_loss: 0.7234 - val_accuracy: 0.7793 - val_mse: 0.1827 - val_mae: 0.2348\n",
            "Epoch 16/50\n",
            "320/320 [==============================] - 19s 59ms/step - loss: 0.1749 - accuracy: 0.9415 - mse: 0.0466 - mae: 0.0931 - val_loss: 0.7140 - val_accuracy: 0.7919 - val_mse: 0.1791 - val_mae: 0.2263\n",
            "Epoch 16: early stopping\n"
          ]
        },
        {
          "output_type": "display_data",
          "data": {
            "text/plain": [
              "<Figure size 576x360 with 1 Axes>"
            ],
            "image/png": "[encoded data removed]"
          },
          "metadata": {
            "needs_background": "light"
          }
        }
      ],
      "source": [
        "history=fs_model.fit()"
      ]
    },
    {
      "cell_type": "code",
      "execution_count": 13,
      "metadata": {
        "id": "w4KI_nlKH7E0"
      },
      "outputs": [],
      "source": [
        "data2015_sf = np.load(\"data_2015.npy\")\n",
        "labels2015_sf = np.load(\"labels_2015.npy\")"
      ]
    },
    {
      "cell_type": "code",
      "execution_count": 14,
      "metadata": {
        "colab": {
          "base_uri": "https://localhost:8080/"
        },
        "outputId": "cc7f5506-7add-45fa-9c21-3aeff3f96b75",
        "id": "WWSJtU3KH7E0"
      },
      "outputs": [
        {
          "output_type": "execute_result",
          "data": {
            "text/plain": [
              "(28486, 120, 12)"
            ]
          },
          "metadata": {},
          "execution_count": 14
        }
      ],
      "source": [
        "data2015_sf.shape"
      ]
    },
    {
      "cell_type": "code",
      "execution_count": 15,
      "metadata": {
        "colab": {
          "base_uri": "https://localhost:8080/"
        },
        "outputId": "2ee36a8f-1097-4c99-dea5-6284b7635de8",
        "id": "WlHFi7BwH7E0"
      },
      "outputs": [
        {
          "output_type": "stream",
          "name": "stdout",
          "text": [
            "445/445 [==============================] - 8s 18ms/step - loss: 0.6731 - accuracy: 0.7699 - mse: 0.1864 - mae: 0.2391\n"
          ]
        },
        {
          "output_type": "execute_result",
          "data": {
            "text/plain": [
              "[0.6731253862380981,\n",
              " 0.7698897123336792,\n",
              " 0.1863974779844284,\n",
              " 0.23908112943172455]"
            ]
          },
          "metadata": {},
          "execution_count": 15
        }
      ],
      "source": [
        "fs_new = fs_model.batch_prefetch_data(data2015_sf,labels2015_sf,split_data=False)\n",
        "fs_model.evaluate(fs_new)\n",
        "#base_model.evaluate(data_new,labels_new)"
      ]
    },
    {
      "cell_type": "code",
      "execution_count": 16,
      "metadata": {
        "id": "AYTQhAV4H7E0",
        "colab": {
          "base_uri": "https://localhost:8080/",
          "height": 290
        },
        "outputId": "3c2ba19a-6168-4828-990f-910ef99bbf17"
      },
      "outputs": [
        {
          "output_type": "display_data",
          "data": {
            "text/plain": [
              "<Figure size 432x288 with 2 Axes>"
            ],
            "image/png": "[encoded data removed]"
          },
          "metadata": {
            "needs_background": "light"
          }
        }
      ],
      "source": [
        "#Form batches (does not shuffle, cuts off remainder)\n",
        "batched_2015_sf = fs_model.batch_prefetch_data(data2015_sf,split_data=False)\n",
        "#Cutoff matching remainder from labels\n",
        "true_labels_sf = labels2015_sf[:-(labels2015_sf.shape[0] % fs_model.batch_size)]\n",
        "#Do predictions and get confusion matrix\n",
        "conf_matrix_sf = fs_model.predict_conf_matrix(batched_2015_sf,true_labels_sf,make_plots=True)"
      ]
    },
    {
      "cell_type": "code",
      "execution_count": 17,
      "metadata": {
        "id": "xwjPtOezH7E1",
        "colab": {
          "base_uri": "https://localhost:8080/"
        },
        "outputId": "595a6251-3e65-41ea-8112-081ae13d1c7e"
      },
      "outputs": [
        {
          "output_type": "execute_result",
          "data": {
            "text/plain": [
              "array([[ 137406,  426234],\n",
              "       [ 370368, 2483592]])"
            ]
          },
          "metadata": {},
          "execution_count": 17
        }
      ],
      "source": [
        "conf_matrix_sf"
      ]
    },
    {
      "cell_type": "code",
      "execution_count": 18,
      "metadata": {
        "id": "LVCT7C7fH7E1",
        "colab": {
          "base_uri": "https://localhost:8080/",
          "height": 81
        },
        "outputId": "8f702c2a-e8ec-4fd7-9a4a-3d55970ae378"
      },
      "outputs": [
        {
          "output_type": "execute_result",
          "data": {
            "text/plain": [
              "   precision    recall       far       hss\n",
              "0   0.870227  0.853519  0.729395  0.123459"
            ],
            "text/html": [
              "\n",
              "  <div id=\"df-b39c1940-cc74-4fb6-91ad-fa99d1b8d5f8\">\n",
              "    <div class=\"colab-df-container\">\n",
              "      <div>\n",
              "<style scoped>\n",
              "    .dataframe tbody tr th:only-of-type {\n",
              "        vertical-align: middle;\n",
              "    }\n",
              "\n",
              "    .dataframe tbody tr th {\n",
              "        vertical-align: top;\n",
              "    }\n",
              "\n",
              "    .dataframe thead th {\n",
              "        text-align: right;\n",
              "    }\n",
              "</style>\n",
              "<table border=\"1\" class=\"dataframe\">\n",
              "  <thead>\n",
              "    <tr style=\"text-align: right;\">\n",
              "      <th></th>\n",
              "      <th>precision</th>\n",
              "      <th>recall</th>\n",
              "      <th>far</th>\n",
              "      <th>hss</th>\n",
              "    </tr>\n",
              "  </thead>\n",
              "  <tbody>\n",
              "    <tr>\n",
              "      <th>0</th>\n",
              "      <td>0.870227</td>\n",
              "      <td>0.853519</td>\n",
              "      <td>0.729395</td>\n",
              "      <td>0.123459</td>\n",
              "    </tr>\n",
              "  </tbody>\n",
              "</table>\n",
              "</div>\n",
              "      <button class=\"colab-df-convert\" onclick=\"convertToInteractive('df-b39c1940-cc74-4fb6-91ad-fa99d1b8d5f8')\"\n",
              "              title=\"Convert this dataframe to an interactive table.\"\n",
              "              style=\"display:none;\">\n",
              "        \n",
              "  <svg xmlns=\"http://www.w3.org/2000/svg\" height=\"24px\"viewBox=\"0 0 24 24\"\n",
              "       width=\"24px\">\n",
              "    <path d=\"M0 0h24v24H0V0z\" fill=\"none\"/>\n",
              "    <path d=\"M18.56 5.44l.94 2.06.94-2.06 2.06-.94-2.06-.94-.94-2.06-.94 2.06-2.06.94zm-11 1L8.5 8.5l.94-2.06 2.06-.94-2.06-.94L8.5 2.5l-.94 2.06-2.06.94zm10 10l.94 2.06.94-2.06 2.06-.94-2.06-.94-.94-2.06-.94 2.06-2.06.94z\"/><path d=\"M17.41 7.96l-1.37-1.37c-.4-.4-.92-.59-1.43-.59-.52 0-1.04.2-1.43.59L10.3 9.45l-7.72 7.72c-.78.78-.78 2.05 0 2.83L4 21.41c.39.39.9.59 1.41.59.51 0 1.02-.2 1.41-.59l7.78-7.78 2.81-2.81c.8-.78.8-2.07 0-2.86zM5.41 20L4 18.59l7.72-7.72 1.47 1.35L5.41 20z\"/>\n",
              "  </svg>\n",
              "      </button>\n",
              "      \n",
              "  <style>\n",
              "    .colab-df-container {\n",
              "      display:flex;\n",
              "      flex-wrap:wrap;\n",
              "      gap: 12px;\n",
              "    }\n",
              "\n",
              "    .colab-df-convert {\n",
              "      background-color: #E8F0FE;\n",
              "      border: none;\n",
              "      border-radius: 50%;\n",
              "      cursor: pointer;\n",
              "      display: none;\n",
              "      fill: #1967D2;\n",
              "      height: 32px;\n",
              "      padding: 0 0 0 0;\n",
              "      width: 32px;\n",
              "    }\n",
              "\n",
              "    .colab-df-convert:hover {\n",
              "      background-color: #E2EBFA;\n",
              "      box-shadow: 0px 1px 2px rgba(60, 64, 67, 0.3), 0px 1px 3px 1px rgba(60, 64, 67, 0.15);\n",
              "      fill: #174EA6;\n",
              "    }\n",
              "\n",
              "    [theme=dark] .colab-df-convert {\n",
              "      background-color: #3B4455;\n",
              "      fill: #D2E3FC;\n",
              "    }\n",
              "\n",
              "    [theme=dark] .colab-df-convert:hover {\n",
              "      background-color: #434B5C;\n",
              "      box-shadow: 0px 1px 3px 1px rgba(0, 0, 0, 0.15);\n",
              "      filter: drop-shadow(0px 1px 2px rgba(0, 0, 0, 0.3));\n",
              "      fill: #FFFFFF;\n",
              "    }\n",
              "  </style>\n",
              "\n",
              "      <script>\n",
              "        const buttonEl =\n",
              "          document.querySelector('#df-b39c1940-cc74-4fb6-91ad-fa99d1b8d5f8 button.colab-df-convert');\n",
              "        buttonEl.style.display =\n",
              "          google.colab.kernel.accessAllowed ? 'block' : 'none';\n",
              "\n",
              "        async function convertToInteractive(key) {\n",
              "          const element = document.querySelector('#df-b39c1940-cc74-4fb6-91ad-fa99d1b8d5f8');\n",
              "          const dataTable =\n",
              "            await google.colab.kernel.invokeFunction('convertToInteractive',\n",
              "                                                     [key], {});\n",
              "          if (!dataTable) return;\n",
              "\n",
              "          const docLinkHtml = 'Like what you see? Visit the ' +\n",
              "            '<a target=\"_blank\" href=https://colab.research.google.com/notebooks/data_table.ipynb>data table notebook</a>'\n",
              "            + ' to learn more about interactive tables.';\n",
              "          element.innerHTML = '';\n",
              "          dataTable['output_type'] = 'display_data';\n",
              "          await google.colab.output.renderOutput(dataTable, element);\n",
              "          const docLink = document.createElement('div');\n",
              "          docLink.innerHTML = docLinkHtml;\n",
              "          element.appendChild(docLink);\n",
              "        }\n",
              "      </script>\n",
              "    </div>\n",
              "  </div>\n",
              "  "
            ]
          },
          "metadata": {},
          "execution_count": 18
        }
      ],
      "source": [
        "fs_model.calculate_statistics(conf_matrix_sf)"
      ]
    },
    {
      "cell_type": "markdown",
      "source": [
        "# Model with Recurrent Dropout and Lower Units Tuning\n",
        "\n",
        "* Using feature selection\n",
        "* Tuning with units from 10 to 16 with step size 1\n",
        "* Removed the Dropout layer and instead used the recurrent_dropout = .2 in the keras.layers.LSTM function call"
      ],
      "metadata": {
        "id": "sHSk13KV4OUv"
      }
    },
    {
      "cell_type": "code",
      "source": [
        "with open(\"/content/all_data.pkl\", \"rb\") as file:\n",
        "    data = pickle.load(file)"
      ],
      "metadata": {
        "id": "agmwUNUC6TU-"
      },
      "execution_count": null,
      "outputs": []
    },
    {
      "cell_type": "code",
      "execution_count": null,
      "metadata": {
        "colab": {
          "base_uri": "https://localhost:8080/"
        },
        "outputId": "9cc74c19-d61d-4997-90e2-d48bd2aa7fc0",
        "id": "1NdW1Flk6TU_"
      },
      "outputs": [
        {
          "output_type": "stream",
          "name": "stdout",
          "text": [
            "Num GB used in data array: 0.0006008148193359375\n",
            "Num GB used in data array: 0.0008475780487060547\n",
            "Num GB used in data array: 0.001963376998901367\n",
            "Num GB used in data array: 0.003701448440551758\n",
            "Num GB used in data array: 0.004388093948364258\n",
            "Num GB used in data array: 0.004903078079223633\n",
            "Num GB used in data array: 0.005300045013427734\n",
            "Num GB used in data array: 0.0072634220123291016\n",
            "Num GB used in data array: 0.007381439208984375\n",
            "Num GB used in data array: 0.008465051651000977\n",
            "Num GB used in data array: 0.009065866470336914\n",
            "Num GB used in data array: 0.012778043746948242\n",
            "Num GB used in data array: 0.01337885856628418\n",
            "Num GB used in data array: 0.015106201171875\n",
            "Num GB used in data array: 0.017713308334350586\n",
            "Num GB used in data array: 0.018045902252197266\n",
            "Num GB used in data array: 0.03292679786682129\n",
            "Num GB used in data array: 0.034461021423339844\n",
            "Num GB used in data array: 0.03457903861999512\n",
            "Num GB used in data array: 0.03464341163635254\n",
            "Num GB used in data array: 0.03508329391479492\n",
            "Num GB used in data array: 0.03568410873413086\n",
            "Num GB used in data array: 0.03636002540588379\n",
            "Num GB used in data array: 0.040018558502197266\n",
            "Num GB used in data array: 0.04024386405944824\n",
            "Num GB used in data array: 0.04084467887878418\n",
            "Num GB used in data array: 0.04144549369812012\n",
            "Num GB used in data array: 0.04215359687805176\n",
            "Num GB used in data array: 0.042754411697387695\n",
            "Num GB used in data array: 0.04335522651672363\n",
            "Num GB used in data array: 0.04395604133605957\n",
            "Num GB used in data array: 0.048558712005615234\n",
            "Num GB used in data array: 0.04915952682495117\n",
            "Num GB used in data array: 0.0495457649230957\n",
            "Num GB used in data array: 0.04971742630004883\n",
            "Num GB used in data array: 0.0516057014465332\n",
            "Num GB used in data array: 0.05251765251159668\n",
            "Num GB used in data array: 0.05292534828186035\n",
            "Num GB used in data array: 0.053000450134277344\n",
            "Num GB used in data array: 0.05606889724731445\n",
            "Num GB used in data array: 0.0561976432800293\n",
            "Num GB used in data array: 0.05970597267150879\n",
            "Num GB used in data array: 0.06067156791687012\n",
            "Num GB used in data array: 0.06394386291503906\n",
            "Num GB used in data array: 0.06886839866638184\n",
            "Num GB used in data array: 0.08271932601928711\n",
            "Num GB used in data array: 0.09527206420898438\n",
            "Num GB used in data array: 0.09794354438781738\n",
            "Num GB used in data array: 0.09816884994506836\n",
            "Num GB used in data array: 0.09832978248596191\n",
            "Num GB used in data array: 0.09836196899414062\n",
            "Num GB used in data array: 0.10431647300720215\n",
            "Num GB used in data array: 0.10488510131835938\n",
            "Num GB used in data array: 0.10943412780761719\n",
            "Num GB used in data array: 0.10972380638122559\n",
            "Num GB used in data array: 0.10987401008605957\n",
            "Num GB used in data array: 0.11148333549499512\n",
            "Num GB used in data array: 0.11542081832885742\n",
            "Num GB used in data array: 0.12581706047058105\n",
            "Num GB used in data array: 0.12752294540405273\n",
            "Num GB used in data array: 0.13744711875915527\n",
            "Num GB used in data array: 0.14685630798339844\n",
            "Num GB used in data array: 0.1574993133544922\n",
            "Num GB used in data array: 0.18210053443908691\n",
            "Num GB used in data array: 0.1961982250213623\n",
            "Num GB used in data array: 0.2031397819519043\n",
            "Num GB used in data array: 0.2111220359802246\n",
            "Num GB used in data array: 0.21139025688171387\n",
            "Num GB used in data array: 0.21280646324157715\n",
            "Num GB used in data array: 0.2131819725036621\n",
            "Num GB used in data array: 0.21916866302490234\n",
            "Num GB used in data array: 0.22357821464538574\n",
            "Num GB used in data array: 0.22396445274353027\n",
            "Num GB used in data array: 0.2277839183807373\n",
            "Num GB used in data array: 0.24204254150390625\n",
            "Num GB used in data array: 0.24615168571472168\n",
            "Num GB used in data array: 0.26726603507995605\n",
            "Num GB used in data array: 0.2705061435699463\n",
            "Num GB used in data array: 0.27059197425842285\n",
            "Num GB used in data array: 0.2707099914550781\n",
            "Num GB used in data array: 0.2708280086517334\n",
            "Num GB used in data array: 0.27132153511047363\n",
            "Num GB used in data array: 0.2716541290283203\n",
            "Num GB used in data array: 0.2718043327331543\n",
            "Num GB used in data array: 0.27246952056884766\n",
            "Num GB used in data array: 0.27518391609191895\n"
          ]
        },
        {
          "output_type": "execute_result",
          "data": {
            "text/plain": [
              "<data_creation.DataSelection at 0x7f761f576110>"
            ]
          },
          "metadata": {},
          "execution_count": 5
        }
      ],
      "source": [
        "DataSelection(data, 2014, \"./\", feature_selection=True, use_all=False)\n",
        "# DataSelection(data, 2015, \"./\")"
      ]
    },
    {
      "cell_type": "code",
      "execution_count": null,
      "metadata": {
        "colab": {
          "base_uri": "https://localhost:8080/"
        },
        "outputId": "d48dbf80-2028-4cb7-d818-3a6834e27968",
        "id": "ar1C4lA-6TVA"
      },
      "outputs": [
        {
          "output_type": "stream",
          "name": "stdout",
          "text": [
            "Num GB used in data array: 0.0006008148193359375\n",
            "Num GB used in data array: 0.0009870529174804688\n",
            "Num GB used in data array: 0.003465414047241211\n",
            "Num GB used in data array: 0.005525350570678711\n",
            "Num GB used in data array: 0.007628202438354492\n",
            "Num GB used in data array: 0.009924173355102539\n",
            "Num GB used in data array: 0.010524988174438477\n",
            "Num GB used in data array: 0.011125802993774414\n",
            "Num GB used in data array: 0.014623403549194336\n",
            "Num GB used in data array: 0.01474142074584961\n",
            "Num GB used in data array: 0.015031099319458008\n",
            "Num GB used in data array: 0.01855015754699707\n",
            "Num GB used in data array: 0.019150972366333008\n",
            "Num GB used in data array: 0.019429922103881836\n",
            "Num GB used in data array: 0.02233743667602539\n",
            "Num GB used in data array: 0.02267003059387207\n",
            "Num GB used in data array: 0.03632783889770508\n",
            "Num GB used in data array: 0.03875255584716797\n",
            "Num GB used in data array: 0.03983616828918457\n",
            "Num GB used in data array: 0.03990054130554199\n",
            "Num GB used in data array: 0.04019021987915039\n",
            "Num GB used in data array: 0.040340423583984375\n",
            "Num GB used in data array: 0.042775869369506836\n",
            "Num GB used in data array: 0.043473243713378906\n",
            "Num GB used in data array: 0.04494309425354004\n",
            "Num GB used in data array: 0.04739999771118164\n",
            "Num GB used in data array: 0.05635857582092285\n",
            "Num GB used in data array: 0.07331013679504395\n",
            "Num GB used in data array: 0.07647514343261719\n",
            "Num GB used in data array: 0.07691502571105957\n",
            "Num GB used in data array: 0.07707595825195312\n",
            "Num GB used in data array: 0.08452177047729492\n",
            "Num GB used in data array: 0.08635640144348145\n",
            "Num GB used in data array: 0.09290099143981934\n",
            "Num GB used in data array: 0.09535789489746094\n",
            "Num GB used in data array: 0.09757876396179199\n",
            "Num GB used in data array: 0.09959578514099121\n",
            "Num GB used in data array: 0.10178446769714355\n",
            "Num GB used in data array: 0.10193467140197754\n",
            "Num GB used in data array: 0.1020205020904541\n",
            "Num GB used in data array: 0.10972380638122559\n",
            "Num GB used in data array: 0.11030316352844238\n",
            "Num GB used in data array: 0.11579632759094238\n",
            "Num GB used in data array: 0.12237310409545898\n",
            "Num GB used in data array: 0.13662099838256836\n",
            "Num GB used in data array: 0.16004204750061035\n",
            "Num GB used in data array: 0.17594218254089355\n",
            "Num GB used in data array: 0.1844179630279541\n",
            "Num GB used in data array: 0.18906354904174805\n",
            "Num GB used in data array: 0.1893317699432373\n",
            "Num GB used in data array: 0.19072651863098145\n",
            "Num GB used in data array: 0.19165992736816406\n",
            "Num GB used in data array: 0.1997387409210205\n",
            "Num GB used in data array: 0.20645499229431152\n",
            "Num GB used in data array: 0.20723819732666016\n",
            "Num GB used in data array: 0.21366477012634277\n",
            "Num GB used in data array: 0.21390080451965332\n",
            "Num GB used in data array: 0.23647427558898926\n",
            "Num GB used in data array: 0.24596929550170898\n",
            "Num GB used in data array: 0.2782416343688965\n",
            "Num GB used in data array: 0.2816641330718994\n",
            "Num GB used in data array: 0.282747745513916\n",
            "Num GB used in data array: 0.2853119373321533\n",
            "Num GB used in data array: 0.28768301010131836\n",
            "Num GB used in data array: 0.28948545455932617\n",
            "Num GB used in data array: 0.2907085418701172\n",
            "Num GB used in data array: 0.2917492389678955\n",
            "Num GB used in data array: 0.2928006649017334\n",
            "Num GB used in data array: 0.2932298183441162\n",
            "Num GB used in data array: 0.2933049201965332\n",
            "Num GB used in data array: 0.2937018871307373\n",
            "Num GB used in data array: 0.29639482498168945\n",
            "Num GB used in data array: 0.3056216239929199\n"
          ]
        },
        {
          "output_type": "execute_result",
          "data": {
            "text/plain": [
              "<data_creation.DataSelection at 0x7f7607ea4b50>"
            ]
          },
          "metadata": {},
          "execution_count": 6
        }
      ],
      "source": [
        "with open(\"norm_scaler.pkl\", \"rb\") as norm_file:\n",
        "    normalization = pickle.load(norm_file)\n",
        "\n",
        "with open(\"stand_scaler.pkl\", \"rb\") as stand_file:\n",
        "    standard = pickle.load(stand_file)\n",
        "\n",
        "DataSelection(data, 2015,\"./\", feature_selection=True, use_all=False, norm_scaler=normalization, stand_scaler=standard)"
      ]
    },
    {
      "cell_type": "code",
      "execution_count": 3,
      "metadata": {
        "id": "GCbZm6De6TVB"
      },
      "outputs": [],
      "source": [
        "data2014_sf = np.load(\"data_2014.npy\")\n",
        "labels2014_sf = np.load(\"labels_2014.npy\")"
      ]
    },
    {
      "cell_type": "code",
      "execution_count": 4,
      "metadata": {
        "colab": {
          "base_uri": "https://localhost:8080/"
        },
        "outputId": "73974b7f-53a8-44cf-fcfd-9fdfcd737bcd",
        "id": "81F09RUw6Mli"
      },
      "outputs": [
        {
          "output_type": "execute_result",
          "data": {
            "text/plain": [
              "(25649, 120, 12)"
            ]
          },
          "metadata": {},
          "execution_count": 4
        }
      ],
      "source": [
        "data2014_sf.shape"
      ]
    },
    {
      "cell_type": "code",
      "source": [
        "model3 = SolarLSTM(data2014_sf, labels2014_sf, \"./\", tune=True,\n",
        "                   units=(10, 16, 1), regularization=(\"early stopping\"))"
      ],
      "metadata": {
        "id": "Gx1qEBNY6Mli"
      },
      "execution_count": 9,
      "outputs": []
    },
    {
      "cell_type": "code",
      "source": [
        "model3.build_model()"
      ],
      "metadata": {
        "id": "miYP26Zk6Mlj"
      },
      "execution_count": 10,
      "outputs": []
    },
    {
      "cell_type": "code",
      "execution_count": 11,
      "metadata": {
        "id": "9FTAC_H66Mlj"
      },
      "outputs": [],
      "source": [
        "model3.model"
      ]
    },
    {
      "cell_type": "code",
      "execution_count": 12,
      "metadata": {
        "colab": {
          "base_uri": "https://localhost:8080/",
          "height": 1000
        },
        "outputId": "07d1ab57-438b-4364-c6bd-aeb1c6bff279",
        "id": "SSwf9qlt6Mlj"
      },
      "outputs": [
        {
          "output_type": "stream",
          "name": "stdout",
          "text": [
            "Trial 10 Complete [00h 10m 22s]\n",
            "val_accuracy: 0.8107714653015137\n",
            "\n",
            "Best val_accuracy So Far: 0.8234326243400574\n",
            "Total elapsed time: 01h 46m 08s\n",
            "INFO:tensorflow:Oracle triggered exit\n"
          ]
        },
        {
          "output_type": "stream",
          "name": "stderr",
          "text": [
            "INFO:tensorflow:Oracle triggered exit\n"
          ]
        },
        {
          "output_type": "stream",
          "name": "stdout",
          "text": [
            "Hyper Tuning Complete\n",
            "Epoch 1/50\n"
          ]
        },
        {
          "output_type": "stream",
          "name": "stderr",
          "text": [
            "/usr/local/lib/python3.7/dist-packages/tensorflow/python/util/dispatch.py:1082: UserWarning: \"`binary_crossentropy` received `from_logits=True`, but the `output` argument was produced by a sigmoid or softmax activation and thus does not represent logits. Was this intended?\"\n",
            "  return dispatch_target(*args, **kwargs)\n"
          ]
        },
        {
          "output_type": "stream",
          "name": "stdout",
          "text": [
            "320/320 [==============================] - ETA: 0s - loss: 0.3670 - accuracy: 0.8748 - mse: 0.1108 - mae: 0.2415INFO:tensorflow:Assets written to: model_checkpoints/assets\n"
          ]
        },
        {
          "output_type": "stream",
          "name": "stderr",
          "text": [
            "INFO:tensorflow:Assets written to: model_checkpoints/assets\n",
            "WARNING:absl:<keras.layers.recurrent.LSTMCell object at 0x7f85b0600550> has the same name 'LSTMCell' as a built-in Keras object. Consider renaming <class 'keras.layers.recurrent.LSTMCell'> to avoid naming conflicts when loading with `tf.keras.models.load_model`. If renaming is not possible, pass the object in the `custom_objects` parameter of the load function.\n",
            "WARNING:absl:<keras.layers.recurrent.LSTMCell object at 0x7f85ae85c050> has the same name 'LSTMCell' as a built-in Keras object. Consider renaming <class 'keras.layers.recurrent.LSTMCell'> to avoid naming conflicts when loading with `tf.keras.models.load_model`. If renaming is not possible, pass the object in the `custom_objects` parameter of the load function.\n"
          ]
        },
        {
          "output_type": "stream",
          "name": "stdout",
          "text": [
            "\b\b\b\b\b\b\b\b\b\b\b\b\b\b\b\b\b\b\b\b\b\b\b\b\b\b\b\b\b\b\b\b\b\b\b\b\b\b\b\b\b\b\b\b\b\b\b\b\b\b\b\b\b\b\b\b\b\b\b\b\b\b\b\b\b\b\b\b\b\b\b\b\b\b\b\b\b\b\b\b\b\b\b\b\b\b\b\b\b\b\b\b\b\b\b\b\b\b\b\b\b\b\b\b\b\b\b\b\b\b\b\b\r320/320 [==============================] - 42s 122ms/step - loss: 0.3670 - accuracy: 0.8748 - mse: 0.1108 - mae: 0.2415 - val_loss: 0.6097 - val_accuracy: 0.7730 - val_mse: 0.1791 - val_mae: 0.2626\n",
            "Epoch 2/50\n",
            "320/320 [==============================] - ETA: 0s - loss: 0.2665 - accuracy: 0.9151 - mse: 0.0729 - mae: 0.1464INFO:tensorflow:Assets written to: model_checkpoints/assets\n"
          ]
        },
        {
          "output_type": "stream",
          "name": "stderr",
          "text": [
            "INFO:tensorflow:Assets written to: model_checkpoints/assets\n",
            "WARNING:absl:<keras.layers.recurrent.LSTMCell object at 0x7f85b0600550> has the same name 'LSTMCell' as a built-in Keras object. Consider renaming <class 'keras.layers.recurrent.LSTMCell'> to avoid naming conflicts when loading with `tf.keras.models.load_model`. If renaming is not possible, pass the object in the `custom_objects` parameter of the load function.\n",
            "WARNING:absl:<keras.layers.recurrent.LSTMCell object at 0x7f85ae85c050> has the same name 'LSTMCell' as a built-in Keras object. Consider renaming <class 'keras.layers.recurrent.LSTMCell'> to avoid naming conflicts when loading with `tf.keras.models.load_model`. If renaming is not possible, pass the object in the `custom_objects` parameter of the load function.\n"
          ]
        },
        {
          "output_type": "stream",
          "name": "stdout",
          "text": [
            "\b\b\b\b\b\b\b\b\b\b\b\b\b\b\b\b\b\b\b\b\b\b\b\b\b\b\b\b\b\b\b\b\b\b\b\b\b\b\b\b\b\b\b\b\b\b\b\b\b\b\b\b\b\b\b\b\b\b\b\b\b\b\b\b\b\b\b\b\b\b\b\b\b\b\b\b\b\b\b\b\b\b\b\b\b\b\b\b\b\b\b\b\b\b\b\b\b\b\b\b\b\b\b\b\b\b\b\b\b\b\b\b\r320/320 [==============================] - 39s 123ms/step - loss: 0.2665 - accuracy: 0.9151 - mse: 0.0729 - mae: 0.1464 - val_loss: 0.6022 - val_accuracy: 0.7784 - val_mse: 0.1739 - val_mae: 0.2499\n",
            "Epoch 3/50\n",
            "320/320 [==============================] - 32s 100ms/step - loss: 0.2606 - accuracy: 0.9103 - mse: 0.0719 - mae: 0.1425 - val_loss: 0.6618 - val_accuracy: 0.7271 - val_mse: 0.1944 - val_mae: 0.2767\n",
            "Epoch 4/50\n",
            "320/320 [==============================] - ETA: 0s - loss: 0.2572 - accuracy: 0.9094 - mse: 0.0713 - mae: 0.1428INFO:tensorflow:Assets written to: model_checkpoints/assets\n"
          ]
        },
        {
          "output_type": "stream",
          "name": "stderr",
          "text": [
            "INFO:tensorflow:Assets written to: model_checkpoints/assets\n",
            "WARNING:absl:<keras.layers.recurrent.LSTMCell object at 0x7f85b0600550> has the same name 'LSTMCell' as a built-in Keras object. Consider renaming <class 'keras.layers.recurrent.LSTMCell'> to avoid naming conflicts when loading with `tf.keras.models.load_model`. If renaming is not possible, pass the object in the `custom_objects` parameter of the load function.\n",
            "WARNING:absl:<keras.layers.recurrent.LSTMCell object at 0x7f85ae85c050> has the same name 'LSTMCell' as a built-in Keras object. Consider renaming <class 'keras.layers.recurrent.LSTMCell'> to avoid naming conflicts when loading with `tf.keras.models.load_model`. If renaming is not possible, pass the object in the `custom_objects` parameter of the load function.\n"
          ]
        },
        {
          "output_type": "stream",
          "name": "stdout",
          "text": [
            "\b\b\b\b\b\b\b\b\b\b\b\b\b\b\b\b\b\b\b\b\b\b\b\b\b\b\b\b\b\b\b\b\b\b\b\b\b\b\b\b\b\b\b\b\b\b\b\b\b\b\b\b\b\b\b\b\b\b\b\b\b\b\b\b\b\b\b\b\b\b\b\b\b\b\b\b\b\b\b\b\b\b\b\b\b\b\b\b\b\b\b\b\b\b\b\b\b\b\b\b\b\b\b\b\b\b\b\b\b\b\b\b\r320/320 [==============================] - 38s 119ms/step - loss: 0.2572 - accuracy: 0.9094 - mse: 0.0713 - mae: 0.1428 - val_loss: 0.5946 - val_accuracy: 0.7873 - val_mse: 0.1675 - val_mae: 0.2334\n",
            "Epoch 5/50\n",
            "320/320 [==============================] - 32s 100ms/step - loss: 0.2394 - accuracy: 0.9249 - mse: 0.0649 - mae: 0.1310 - val_loss: 0.6305 - val_accuracy: 0.7758 - val_mse: 0.1752 - val_mae: 0.2348\n",
            "Epoch 6/50\n",
            "320/320 [==============================] - 32s 101ms/step - loss: 0.2322 - accuracy: 0.9255 - mse: 0.0633 - mae: 0.1265 - val_loss: 0.6533 - val_accuracy: 0.7732 - val_mse: 0.1797 - val_mae: 0.2367\n",
            "Epoch 7/50\n",
            "320/320 [==============================] - 32s 99ms/step - loss: 0.2261 - accuracy: 0.9280 - mse: 0.0615 - mae: 0.1253 - val_loss: 0.6459 - val_accuracy: 0.8078 - val_mse: 0.1702 - val_mae: 0.2256\n",
            "Epoch 8/50\n",
            "320/320 [==============================] - 32s 99ms/step - loss: 0.2196 - accuracy: 0.9241 - mse: 0.0611 - mae: 0.1228 - val_loss: 0.6933 - val_accuracy: 0.7763 - val_mse: 0.1837 - val_mae: 0.2423\n",
            "Epoch 9/50\n",
            "320/320 [==============================] - 32s 99ms/step - loss: 0.2131 - accuracy: 0.9224 - mse: 0.0597 - mae: 0.1196 - val_loss: 0.7147 - val_accuracy: 0.7732 - val_mse: 0.1843 - val_mae: 0.2372\n",
            "Epoch 10/50\n",
            "320/320 [==============================] - 32s 100ms/step - loss: 0.2034 - accuracy: 0.9299 - mse: 0.0563 - mae: 0.1166 - val_loss: 0.6689 - val_accuracy: 0.8068 - val_mse: 0.1701 - val_mae: 0.2211\n",
            "Epoch 11/50\n",
            "320/320 [==============================] - 32s 100ms/step - loss: 0.1943 - accuracy: 0.9313 - mse: 0.0539 - mae: 0.1080 - val_loss: 0.6455 - val_accuracy: 0.8106 - val_mse: 0.1627 - val_mae: 0.2173\n",
            "Epoch 12/50\n",
            "320/320 [==============================] - 32s 101ms/step - loss: 0.1884 - accuracy: 0.9331 - mse: 0.0520 - mae: 0.1055 - val_loss: 0.6642 - val_accuracy: 0.8027 - val_mse: 0.1685 - val_mae: 0.2235\n",
            "Epoch 13/50\n",
            "320/320 [==============================] - 32s 101ms/step - loss: 0.1855 - accuracy: 0.9335 - mse: 0.0513 - mae: 0.1048 - val_loss: 0.6929 - val_accuracy: 0.8105 - val_mse: 0.1723 - val_mae: 0.2136\n",
            "Epoch 14/50\n",
            "320/320 [==============================] - 33s 102ms/step - loss: 0.1828 - accuracy: 0.9329 - mse: 0.0504 - mae: 0.1018 - val_loss: 0.6134 - val_accuracy: 0.8129 - val_mse: 0.1581 - val_mae: 0.2198\n",
            "Epoch 15/50\n",
            "320/320 [==============================] - 33s 103ms/step - loss: 0.1784 - accuracy: 0.9322 - mse: 0.0496 - mae: 0.0990 - val_loss: 0.7086 - val_accuracy: 0.8002 - val_mse: 0.1785 - val_mae: 0.2313\n",
            "Epoch 16/50\n",
            "320/320 [==============================] - 33s 102ms/step - loss: 0.1761 - accuracy: 0.9310 - mse: 0.0488 - mae: 0.0976 - val_loss: 0.6496 - val_accuracy: 0.8208 - val_mse: 0.1643 - val_mae: 0.2221\n",
            "Epoch 17/50\n",
            "320/320 [==============================] - 32s 101ms/step - loss: 0.1690 - accuracy: 0.9373 - mse: 0.0462 - mae: 0.0935 - val_loss: 0.8049 - val_accuracy: 0.8090 - val_mse: 0.1843 - val_mae: 0.2047\n",
            "Epoch 18/50\n",
            "320/320 [==============================] - 32s 100ms/step - loss: 0.1779 - accuracy: 0.9396 - mse: 0.0479 - mae: 0.0965 - val_loss: 0.5952 - val_accuracy: 0.8120 - val_mse: 0.1520 - val_mae: 0.2156\n",
            "Epoch 19/50\n",
            "320/320 [==============================] - 32s 101ms/step - loss: 0.1721 - accuracy: 0.9386 - mse: 0.0475 - mae: 0.0951 - val_loss: 0.6480 - val_accuracy: 0.7599 - val_mse: 0.1720 - val_mae: 0.2386\n",
            "Epoch 19: early stopping\n"
          ]
        },
        {
          "output_type": "display_data",
          "data": {
            "text/plain": [
              "<Figure size 576x360 with 1 Axes>"
            ],
            "image/png": "[encoded data removed]"
          },
          "metadata": {
            "needs_background": "light"
          }
        }
      ],
      "source": [
        "history=model3.fit()"
      ]
    },
    {
      "cell_type": "code",
      "execution_count": 13,
      "metadata": {
        "id": "KI024EGh6Mlj"
      },
      "outputs": [],
      "source": [
        "data2015_sf = np.load(\"data_2015.npy\")\n",
        "labels2015_sf = np.load(\"labels_2015.npy\")"
      ]
    },
    {
      "cell_type": "code",
      "execution_count": 14,
      "metadata": {
        "colab": {
          "base_uri": "https://localhost:8080/"
        },
        "outputId": "ec8cd740-a649-4049-8d92-f092fdb0f7dc",
        "id": "JfCdTltf6Mlk"
      },
      "outputs": [
        {
          "output_type": "execute_result",
          "data": {
            "text/plain": [
              "(28486, 120, 12)"
            ]
          },
          "metadata": {},
          "execution_count": 14
        }
      ],
      "source": [
        "data2015_sf.shape"
      ]
    },
    {
      "cell_type": "code",
      "execution_count": 15,
      "metadata": {
        "colab": {
          "base_uri": "https://localhost:8080/"
        },
        "outputId": "211e0407-86ae-4c87-8d96-86e7cc0a4c00",
        "id": "6sV9cUAZ6Mlk"
      },
      "outputs": [
        {
          "output_type": "stream",
          "name": "stdout",
          "text": [
            "445/445 [==============================] - 11s 25ms/step - loss: 0.6049 - accuracy: 0.7821 - mse: 0.1647 - mae: 0.2305\n"
          ]
        },
        {
          "output_type": "execute_result",
          "data": {
            "text/plain": [
              "[0.6049373745918274,\n",
              " 0.7820546627044678,\n",
              " 0.1646636724472046,\n",
              " 0.23050378262996674]"
            ]
          },
          "metadata": {},
          "execution_count": 15
        }
      ],
      "source": [
        "new3 = model3.batch_prefetch_data(data2015_sf,labels2015_sf,split_data=False)\n",
        "model3.evaluate(new3)\n",
        "#base_model.evaluate(data_new,labels_new)"
      ]
    },
    {
      "cell_type": "code",
      "execution_count": 16,
      "metadata": {
        "colab": {
          "base_uri": "https://localhost:8080/",
          "height": 290
        },
        "outputId": "ed755f4c-1b51-47f3-e683-a8bbd416179b",
        "id": "F944mCUY6Mlk"
      },
      "outputs": [
        {
          "output_type": "display_data",
          "data": {
            "text/plain": [
              "<Figure size 432x288 with 2 Axes>"
            ],
            "image/png": "[encoded data removed]"
          },
          "metadata": {
            "needs_background": "light"
          }
        }
      ],
      "source": [
        "#Form batches (does not shuffle, cuts off remainder)\n",
        "batched_2015_3 = model3.batch_prefetch_data(data2015_sf,split_data=False)\n",
        "#Cutoff matching remainder from labels\n",
        "true_labels_3 = labels2015_sf[:-(labels2015_sf.shape[0] % model3.batch_size)]\n",
        "#Do predictions and get confusion matrix\n",
        "conf_matrix_3 = model3.predict_conf_matrix(batched_2015_3,true_labels_3,make_plots=True)"
      ]
    },
    {
      "cell_type": "code",
      "execution_count": 17,
      "metadata": {
        "colab": {
          "base_uri": "https://localhost:8080/"
        },
        "outputId": "cad0f540-9745-4fa0-fdad-a4085cb2d737",
        "id": "Q4yxcdSV6Mlk"
      },
      "outputs": [
        {
          "output_type": "execute_result",
          "data": {
            "text/plain": [
              "array([[ 117489,  446151],\n",
              "       [ 324725, 2529235]])"
            ]
          },
          "metadata": {},
          "execution_count": 17
        }
      ],
      "source": [
        "conf_matrix_3"
      ]
    },
    {
      "cell_type": "code",
      "execution_count": 18,
      "metadata": {
        "colab": {
          "base_uri": "https://localhost:8080/",
          "height": 81
        },
        "outputId": "8c063ef8-d8f7-452b-feb1-a58d3cb8d636",
        "id": "0yNfZt4v6Mlk"
      },
      "outputs": [
        {
          "output_type": "execute_result",
          "data": {
            "text/plain": [
              "   precision    recall       far       hss\n",
              "0   0.886219  0.850053  0.734316  0.106959"
            ],
            "text/html": [
              "\n",
              "  <div id=\"df-ebe84cbf-4bfd-4e7e-8301-556794e13a00\">\n",
              "    <div class=\"colab-df-container\">\n",
              "      <div>\n",
              "<style scoped>\n",
              "    .dataframe tbody tr th:only-of-type {\n",
              "        vertical-align: middle;\n",
              "    }\n",
              "\n",
              "    .dataframe tbody tr th {\n",
              "        vertical-align: top;\n",
              "    }\n",
              "\n",
              "    .dataframe thead th {\n",
              "        text-align: right;\n",
              "    }\n",
              "</style>\n",
              "<table border=\"1\" class=\"dataframe\">\n",
              "  <thead>\n",
              "    <tr style=\"text-align: right;\">\n",
              "      <th></th>\n",
              "      <th>precision</th>\n",
              "      <th>recall</th>\n",
              "      <th>far</th>\n",
              "      <th>hss</th>\n",
              "    </tr>\n",
              "  </thead>\n",
              "  <tbody>\n",
              "    <tr>\n",
              "      <th>0</th>\n",
              "      <td>0.886219</td>\n",
              "      <td>0.850053</td>\n",
              "      <td>0.734316</td>\n",
              "      <td>0.106959</td>\n",
              "    </tr>\n",
              "  </tbody>\n",
              "</table>\n",
              "</div>\n",
              "      <button class=\"colab-df-convert\" onclick=\"convertToInteractive('df-ebe84cbf-4bfd-4e7e-8301-556794e13a00')\"\n",
              "              title=\"Convert this dataframe to an interactive table.\"\n",
              "              style=\"display:none;\">\n",
              "        \n",
              "  <svg xmlns=\"http://www.w3.org/2000/svg\" height=\"24px\"viewBox=\"0 0 24 24\"\n",
              "       width=\"24px\">\n",
              "    <path d=\"M0 0h24v24H0V0z\" fill=\"none\"/>\n",
              "    <path d=\"M18.56 5.44l.94 2.06.94-2.06 2.06-.94-2.06-.94-.94-2.06-.94 2.06-2.06.94zm-11 1L8.5 8.5l.94-2.06 2.06-.94-2.06-.94L8.5 2.5l-.94 2.06-2.06.94zm10 10l.94 2.06.94-2.06 2.06-.94-2.06-.94-.94-2.06-.94 2.06-2.06.94z\"/><path d=\"M17.41 7.96l-1.37-1.37c-.4-.4-.92-.59-1.43-.59-.52 0-1.04.2-1.43.59L10.3 9.45l-7.72 7.72c-.78.78-.78 2.05 0 2.83L4 21.41c.39.39.9.59 1.41.59.51 0 1.02-.2 1.41-.59l7.78-7.78 2.81-2.81c.8-.78.8-2.07 0-2.86zM5.41 20L4 18.59l7.72-7.72 1.47 1.35L5.41 20z\"/>\n",
              "  </svg>\n",
              "      </button>\n",
              "      \n",
              "  <style>\n",
              "    .colab-df-container {\n",
              "      display:flex;\n",
              "      flex-wrap:wrap;\n",
              "      gap: 12px;\n",
              "    }\n",
              "\n",
              "    .colab-df-convert {\n",
              "      background-color: #E8F0FE;\n",
              "      border: none;\n",
              "      border-radius: 50%;\n",
              "      cursor: pointer;\n",
              "      display: none;\n",
              "      fill: #1967D2;\n",
              "      height: 32px;\n",
              "      padding: 0 0 0 0;\n",
              "      width: 32px;\n",
              "    }\n",
              "\n",
              "    .colab-df-convert:hover {\n",
              "      background-color: #E2EBFA;\n",
              "      box-shadow: 0px 1px 2px rgba(60, 64, 67, 0.3), 0px 1px 3px 1px rgba(60, 64, 67, 0.15);\n",
              "      fill: #174EA6;\n",
              "    }\n",
              "\n",
              "    [theme=dark] .colab-df-convert {\n",
              "      background-color: #3B4455;\n",
              "      fill: #D2E3FC;\n",
              "    }\n",
              "\n",
              "    [theme=dark] .colab-df-convert:hover {\n",
              "      background-color: #434B5C;\n",
              "      box-shadow: 0px 1px 3px 1px rgba(0, 0, 0, 0.15);\n",
              "      filter: drop-shadow(0px 1px 2px rgba(0, 0, 0, 0.3));\n",
              "      fill: #FFFFFF;\n",
              "    }\n",
              "  </style>\n",
              "\n",
              "      <script>\n",
              "        const buttonEl =\n",
              "          document.querySelector('#df-ebe84cbf-4bfd-4e7e-8301-556794e13a00 button.colab-df-convert');\n",
              "        buttonEl.style.display =\n",
              "          google.colab.kernel.accessAllowed ? 'block' : 'none';\n",
              "\n",
              "        async function convertToInteractive(key) {\n",
              "          const element = document.querySelector('#df-ebe84cbf-4bfd-4e7e-8301-556794e13a00');\n",
              "          const dataTable =\n",
              "            await google.colab.kernel.invokeFunction('convertToInteractive',\n",
              "                                                     [key], {});\n",
              "          if (!dataTable) return;\n",
              "\n",
              "          const docLinkHtml = 'Like what you see? Visit the ' +\n",
              "            '<a target=\"_blank\" href=https://colab.research.google.com/notebooks/data_table.ipynb>data table notebook</a>'\n",
              "            + ' to learn more about interactive tables.';\n",
              "          element.innerHTML = '';\n",
              "          dataTable['output_type'] = 'display_data';\n",
              "          await google.colab.output.renderOutput(dataTable, element);\n",
              "          const docLink = document.createElement('div');\n",
              "          docLink.innerHTML = docLinkHtml;\n",
              "          element.appendChild(docLink);\n",
              "        }\n",
              "      </script>\n",
              "    </div>\n",
              "  </div>\n",
              "  "
            ]
          },
          "metadata": {},
          "execution_count": 18
        }
      ],
      "source": [
        "model3.calculate_statistics(conf_matrix_3)"
      ]
    },
    {
      "cell_type": "code",
      "source": [
        "true_labels_3.shape"
      ],
      "metadata": {
        "colab": {
          "base_uri": "https://localhost:8080/"
        },
        "id": "VcWFK1HF8Dmz",
        "outputId": "99edf0a0-5f87-4453-ab3f-c8fae9b03088"
      },
      "execution_count": 19,
      "outputs": [
        {
          "output_type": "execute_result",
          "data": {
            "text/plain": [
              "(28480, 120, 1)"
            ]
          },
          "metadata": {},
          "execution_count": 19
        }
      ]
    },
    {
      "cell_type": "code",
      "source": [
        ""
      ],
      "metadata": {
        "id": "AaK5RF7LW5Ia"
      },
      "execution_count": null,
      "outputs": []
    }
  ],
  "metadata": {
    "colab": {
      "collapsed_sections": [
        "OepbSvctPysr",
        "-tIs0gOhPI7t",
        "wetBz_EiNHYJ",
        "pVmLjpZYhDub"
      ],
      "machine_shape": "hm",
      "name": "ColabNotebook_ModelPipeline.ipynb",
      "provenance": []
    },
    "kernelspec": {
      "display_name": "Python 3",
      "name": "python3"
    },
    "language_info": {
      "codemirror_mode": {
        "name": "ipython",
        "version": 3
      },
      "file_extension": ".py",
      "mimetype": "text/x-python",
      "name": "python",
      "nbconvert_exporter": "python",
      "pygments_lexer": "ipython3",
      "version": "3.8.3"
    }
  },
  "nbformat": 4,
  "nbformat_minor": 0
}