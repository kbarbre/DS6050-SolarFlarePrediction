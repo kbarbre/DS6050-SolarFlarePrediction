{
  "cells": [
    {
      "cell_type": "markdown",
      "source": [
        "# Pip Install Keras-Tuner (if necessary)"
      ],
      "metadata": {
        "id": "OepbSvctPysr"
      }
    },
    {
      "cell_type": "code",
      "execution_count": 1,
      "metadata": {
        "colab": {
          "base_uri": "https://localhost:8080/"
        },
        "id": "ky0FGKOwTBkL",
        "outputId": "edb897ce-b3a5-4615-a14f-8cbbc32de538"
      },
      "outputs": [
        {
          "output_type": "stream",
          "name": "stdout",
          "text": [
            "Collecting keras-tuner\n",
            "  Downloading keras_tuner-1.1.2-py3-none-any.whl (133 kB)\n",
            "\u001b[?25l\r\u001b[K     |██▌                             | 10 kB 37.7 MB/s eta 0:00:01\r\u001b[K     |█████                           | 20 kB 8.9 MB/s eta 0:00:01\r\u001b[K     |███████▍                        | 30 kB 7.8 MB/s eta 0:00:01\r\u001b[K     |█████████▉                      | 40 kB 3.6 MB/s eta 0:00:01\r\u001b[K     |████████████▎                   | 51 kB 3.6 MB/s eta 0:00:01\r\u001b[K     |██████████████▊                 | 61 kB 4.3 MB/s eta 0:00:01\r\u001b[K     |█████████████████▏              | 71 kB 4.5 MB/s eta 0:00:01\r\u001b[K     |███████████████████▋            | 81 kB 4.8 MB/s eta 0:00:01\r\u001b[K     |██████████████████████          | 92 kB 5.4 MB/s eta 0:00:01\r\u001b[K     |████████████████████████▌       | 102 kB 4.3 MB/s eta 0:00:01\r\u001b[K     |███████████████████████████     | 112 kB 4.3 MB/s eta 0:00:01\r\u001b[K     |█████████████████████████████▍  | 122 kB 4.3 MB/s eta 0:00:01\r\u001b[K     |███████████████████████████████▉| 133 kB 4.3 MB/s eta 0:00:01\r\u001b[K     |████████████████████████████████| 133 kB 4.3 MB/s \n",
            "\u001b[?25hRequirement already satisfied: numpy in /usr/local/lib/python3.7/dist-packages (from keras-tuner) (1.21.5)\n",
            "Collecting kt-legacy\n",
            "  Downloading kt_legacy-1.0.4-py3-none-any.whl (9.6 kB)\n",
            "Requirement already satisfied: packaging in /usr/local/lib/python3.7/dist-packages (from keras-tuner) (21.3)\n",
            "Requirement already satisfied: ipython in /usr/local/lib/python3.7/dist-packages (from keras-tuner) (5.5.0)\n",
            "Requirement already satisfied: tensorboard in /usr/local/lib/python3.7/dist-packages (from keras-tuner) (2.8.0)\n",
            "Requirement already satisfied: requests in /usr/local/lib/python3.7/dist-packages (from keras-tuner) (2.23.0)\n",
            "Requirement already satisfied: decorator in /usr/local/lib/python3.7/dist-packages (from ipython->keras-tuner) (4.4.2)\n",
            "Requirement already satisfied: simplegeneric>0.8 in /usr/local/lib/python3.7/dist-packages (from ipython->keras-tuner) (0.8.1)\n",
            "Requirement already satisfied: pexpect in /usr/local/lib/python3.7/dist-packages (from ipython->keras-tuner) (4.8.0)\n",
            "Requirement already satisfied: prompt-toolkit<2.0.0,>=1.0.4 in /usr/local/lib/python3.7/dist-packages (from ipython->keras-tuner) (1.0.18)\n",
            "Requirement already satisfied: traitlets>=4.2 in /usr/local/lib/python3.7/dist-packages (from ipython->keras-tuner) (5.1.1)\n",
            "Requirement already satisfied: pygments in /usr/local/lib/python3.7/dist-packages (from ipython->keras-tuner) (2.6.1)\n",
            "Requirement already satisfied: setuptools>=18.5 in /usr/local/lib/python3.7/dist-packages (from ipython->keras-tuner) (57.4.0)\n",
            "Requirement already satisfied: pickleshare in /usr/local/lib/python3.7/dist-packages (from ipython->keras-tuner) (0.7.5)\n",
            "Requirement already satisfied: six>=1.9.0 in /usr/local/lib/python3.7/dist-packages (from prompt-toolkit<2.0.0,>=1.0.4->ipython->keras-tuner) (1.15.0)\n",
            "Requirement already satisfied: wcwidth in /usr/local/lib/python3.7/dist-packages (from prompt-toolkit<2.0.0,>=1.0.4->ipython->keras-tuner) (0.2.5)\n",
            "Requirement already satisfied: pyparsing!=3.0.5,>=2.0.2 in /usr/local/lib/python3.7/dist-packages (from packaging->keras-tuner) (3.0.8)\n",
            "Requirement already satisfied: ptyprocess>=0.5 in /usr/local/lib/python3.7/dist-packages (from pexpect->ipython->keras-tuner) (0.7.0)\n",
            "Requirement already satisfied: certifi>=2017.4.17 in /usr/local/lib/python3.7/dist-packages (from requests->keras-tuner) (2021.10.8)\n",
            "Requirement already satisfied: urllib3!=1.25.0,!=1.25.1,<1.26,>=1.21.1 in /usr/local/lib/python3.7/dist-packages (from requests->keras-tuner) (1.24.3)\n",
            "Requirement already satisfied: chardet<4,>=3.0.2 in /usr/local/lib/python3.7/dist-packages (from requests->keras-tuner) (3.0.4)\n",
            "Requirement already satisfied: idna<3,>=2.5 in /usr/local/lib/python3.7/dist-packages (from requests->keras-tuner) (2.10)\n",
            "Requirement already satisfied: absl-py>=0.4 in /usr/local/lib/python3.7/dist-packages (from tensorboard->keras-tuner) (1.0.0)\n",
            "Requirement already satisfied: wheel>=0.26 in /usr/local/lib/python3.7/dist-packages (from tensorboard->keras-tuner) (0.37.1)\n",
            "Requirement already satisfied: protobuf>=3.6.0 in /usr/local/lib/python3.7/dist-packages (from tensorboard->keras-tuner) (3.17.3)\n",
            "Requirement already satisfied: grpcio>=1.24.3 in /usr/local/lib/python3.7/dist-packages (from tensorboard->keras-tuner) (1.44.0)\n",
            "Requirement already satisfied: google-auth-oauthlib<0.5,>=0.4.1 in /usr/local/lib/python3.7/dist-packages (from tensorboard->keras-tuner) (0.4.6)\n",
            "Requirement already satisfied: google-auth<3,>=1.6.3 in /usr/local/lib/python3.7/dist-packages (from tensorboard->keras-tuner) (1.35.0)\n",
            "Requirement already satisfied: werkzeug>=0.11.15 in /usr/local/lib/python3.7/dist-packages (from tensorboard->keras-tuner) (1.0.1)\n",
            "Requirement already satisfied: tensorboard-data-server<0.7.0,>=0.6.0 in /usr/local/lib/python3.7/dist-packages (from tensorboard->keras-tuner) (0.6.1)\n",
            "Requirement already satisfied: markdown>=2.6.8 in /usr/local/lib/python3.7/dist-packages (from tensorboard->keras-tuner) (3.3.6)\n",
            "Requirement already satisfied: tensorboard-plugin-wit>=1.6.0 in /usr/local/lib/python3.7/dist-packages (from tensorboard->keras-tuner) (1.8.1)\n",
            "Requirement already satisfied: pyasn1-modules>=0.2.1 in /usr/local/lib/python3.7/dist-packages (from google-auth<3,>=1.6.3->tensorboard->keras-tuner) (0.2.8)\n",
            "Requirement already satisfied: rsa<5,>=3.1.4 in /usr/local/lib/python3.7/dist-packages (from google-auth<3,>=1.6.3->tensorboard->keras-tuner) (4.8)\n",
            "Requirement already satisfied: cachetools<5.0,>=2.0.0 in /usr/local/lib/python3.7/dist-packages (from google-auth<3,>=1.6.3->tensorboard->keras-tuner) (4.2.4)\n",
            "Requirement already satisfied: requests-oauthlib>=0.7.0 in /usr/local/lib/python3.7/dist-packages (from google-auth-oauthlib<0.5,>=0.4.1->tensorboard->keras-tuner) (1.3.1)\n",
            "Requirement already satisfied: importlib-metadata>=4.4 in /usr/local/lib/python3.7/dist-packages (from markdown>=2.6.8->tensorboard->keras-tuner) (4.11.3)\n",
            "Requirement already satisfied: typing-extensions>=3.6.4 in /usr/local/lib/python3.7/dist-packages (from importlib-metadata>=4.4->markdown>=2.6.8->tensorboard->keras-tuner) (4.1.1)\n",
            "Requirement already satisfied: zipp>=0.5 in /usr/local/lib/python3.7/dist-packages (from importlib-metadata>=4.4->markdown>=2.6.8->tensorboard->keras-tuner) (3.8.0)\n",
            "Requirement already satisfied: pyasn1<0.5.0,>=0.4.6 in /usr/local/lib/python3.7/dist-packages (from pyasn1-modules>=0.2.1->google-auth<3,>=1.6.3->tensorboard->keras-tuner) (0.4.8)\n",
            "Requirement already satisfied: oauthlib>=3.0.0 in /usr/local/lib/python3.7/dist-packages (from requests-oauthlib>=0.7.0->google-auth-oauthlib<0.5,>=0.4.1->tensorboard->keras-tuner) (3.2.0)\n",
            "Installing collected packages: kt-legacy, keras-tuner\n",
            "Successfully installed keras-tuner-1.1.2 kt-legacy-1.0.4\n"
          ]
        }
      ],
      "source": [
        "!pip install keras-tuner"
      ]
    },
    {
      "cell_type": "markdown",
      "source": [
        "# Import Required Packages"
      ],
      "metadata": {
        "id": "qZcbcS18P4n9"
      }
    },
    {
      "cell_type": "code",
      "execution_count": 1,
      "metadata": {
        "id": "10irgd5fQsTQ"
      },
      "outputs": [],
      "source": [
        "from data_creation import DataSelection\n",
        "from prediction_LSTM import SolarLSTM\n",
        "import pickle\n",
        "import numpy as np\n",
        "import tensorflow as tf\n",
        "from tensorflow import keras"
      ]
    },
    {
      "cell_type": "markdown",
      "source": [
        "# Base Model with All Parameters"
      ],
      "metadata": {
        "id": "-tIs0gOhPI7t"
      }
    },
    {
      "cell_type": "code",
      "execution_count": null,
      "metadata": {
        "colab": {
          "base_uri": "https://localhost:8080/"
        },
        "id": "Zh4G0bs9Q1B8",
        "outputId": "bdd0a9e2-82fd-4301-94a1-e2365e738a2a"
      },
      "outputs": [
        {
          "output_type": "stream",
          "name": "stdout",
          "text": [
            "Num GB used in data array: 0.0\n",
            "Num GB used in data array: 0.0019025802612304688\n",
            "Num GB used in data array: 0.0019025802612304688\n",
            "Num GB used in data array: 0.00268399715423584\n",
            "Num GB used in data array: 0.00268399715423584\n",
            "Num GB used in data array: 0.006217360496520996\n",
            "Num GB used in data array: 0.006217360496520996\n",
            "Num GB used in data array: 0.011721253395080566\n",
            "Num GB used in data array: 0.011721253395080566\n",
            "Num GB used in data array: 0.013895630836486816\n",
            "Num GB used in data array: 0.013895630836486816\n",
            "Num GB used in data array: 0.015526413917541504\n",
            "Num GB used in data array: 0.015526413917541504\n",
            "Num GB used in data array: 0.015526413917541504\n",
            "Num GB used in data array: 0.016783475875854492\n",
            "Num GB used in data array: 0.016783475875854492\n",
            "Num GB used in data array: 0.02300083637237549\n",
            "Num GB used in data array: 0.02300083637237549\n",
            "Num GB used in data array: 0.023374557495117188\n",
            "Num GB used in data array: 0.023374557495117188\n",
            "Num GB used in data array: 0.026805996894836426\n",
            "Num GB used in data array: 0.026805996894836426\n",
            "Num GB used in data array: 0.028708577156066895\n",
            "Num GB used in data array: 0.028708577156066895\n",
            "Num GB used in data array: 0.040463805198669434\n",
            "Num GB used in data array: 0.040463805198669434\n",
            "Num GB used in data array: 0.0423663854598999\n",
            "Num GB used in data array: 0.0423663854598999\n",
            "Num GB used in data array: 0.0478363037109375\n",
            "Num GB used in data array: 0.0478363037109375\n",
            "Num GB used in data array: 0.0478363037109375\n",
            "Num GB used in data array: 0.056092143058776855\n",
            "Num GB used in data array: 0.056092143058776855\n",
            "Num GB used in data array: 0.05714535713195801\n",
            "Num GB used in data array: 0.05714535713195801\n",
            "Num GB used in data array: 0.10426819324493408\n",
            "Num GB used in data array: 0.10426819324493408\n",
            "Num GB used in data array: 0.10912656784057617\n",
            "Num GB used in data array: 0.10912656784057617\n",
            "Num GB used in data array: 0.10950028896331787\n",
            "Num GB used in data array: 0.10950028896331787\n",
            "Num GB used in data array: 0.10970413684844971\n",
            "Num GB used in data array: 0.10970413684844971\n",
            "Num GB used in data array: 0.11109709739685059\n",
            "Num GB used in data array: 0.11109709739685059\n",
            "Num GB used in data array: 0.11299967765808105\n",
            "Num GB used in data array: 0.11299967765808105\n",
            "Num GB used in data array: 0.11514008045196533\n",
            "Num GB used in data array: 0.11514008045196533\n",
            "Num GB used in data array: 0.126725435256958\n",
            "Num GB used in data array: 0.126725435256958\n",
            "Num GB used in data array: 0.12743890285491943\n",
            "Num GB used in data array: 0.12743890285491943\n",
            "Num GB used in data array: 0.1293414831161499\n",
            "Num GB used in data array: 0.1293414831161499\n",
            "Num GB used in data array: 0.13124406337738037\n",
            "Num GB used in data array: 0.13124406337738037\n",
            "Num GB used in data array: 0.13348639011383057\n",
            "Num GB used in data array: 0.13348639011383057\n",
            "Num GB used in data array: 0.13538897037506104\n",
            "Num GB used in data array: 0.13538897037506104\n",
            "Num GB used in data array: 0.1372915506362915\n",
            "Num GB used in data array: 0.1372915506362915\n",
            "Num GB used in data array: 0.13919413089752197\n",
            "Num GB used in data array: 0.13919413089752197\n",
            "Num GB used in data array: 0.15376925468444824\n",
            "Num GB used in data array: 0.15376925468444824\n",
            "Num GB used in data array: 0.1556718349456787\n",
            "Num GB used in data array: 0.1556718349456787\n",
            "Num GB used in data array: 0.15689492225646973\n",
            "Num GB used in data array: 0.15689492225646973\n",
            "Num GB used in data array: 0.1574385166168213\n",
            "Num GB used in data array: 0.1574385166168213\n",
            "Num GB used in data array: 0.16341805458068848\n",
            "Num GB used in data array: 0.16341805458068848\n",
            "Num GB used in data array: 0.16630589962005615\n",
            "Num GB used in data array: 0.16630589962005615\n",
            "Num GB used in data array: 0.1675969362258911\n",
            "Num GB used in data array: 0.1675969362258911\n",
            "Num GB used in data array: 0.16783475875854492\n",
            "Num GB used in data array: 0.16783475875854492\n",
            "Num GB used in data array: 0.16783475875854492\n",
            "Num GB used in data array: 0.16783475875854492\n",
            "Num GB used in data array: 0.16783475875854492\n",
            "Num GB used in data array: 0.16783475875854492\n",
            "Num GB used in data array: 0.16783475875854492\n",
            "Num GB used in data array: 0.16783475875854492\n",
            "Num GB used in data array: 0.16783475875854492\n",
            "Num GB used in data array: 0.16783475875854492\n",
            "Num GB used in data array: 0.16783475875854492\n",
            "Num GB used in data array: 0.16783475875854492\n",
            "Num GB used in data array: 0.16783475875854492\n",
            "Num GB used in data array: 0.16783475875854492\n",
            "Num GB used in data array: 0.16783475875854492\n",
            "Num GB used in data array: 0.16783475875854492\n",
            "Num GB used in data array: 0.16783475875854492\n",
            "Num GB used in data array: 0.16783475875854492\n",
            "Num GB used in data array: 0.16783475875854492\n",
            "Num GB used in data array: 0.16783475875854492\n",
            "Num GB used in data array: 0.16783475875854492\n",
            "Num GB used in data array: 0.16783475875854492\n",
            "Num GB used in data array: 0.16783475875854492\n",
            "Num GB used in data array: 0.16783475875854492\n",
            "Num GB used in data array: 0.16783475875854492\n",
            "Num GB used in data array: 0.16783475875854492\n",
            "Num GB used in data array: 0.16783475875854492\n",
            "Num GB used in data array: 0.16783475875854492\n",
            "Num GB used in data array: 0.16783475875854492\n",
            "Num GB used in data array: 0.16783475875854492\n",
            "Num GB used in data array: 0.16783475875854492\n",
            "Num GB used in data array: 0.16783475875854492\n",
            "Num GB used in data array: 0.16783475875854492\n",
            "Num GB used in data array: 0.16783475875854492\n",
            "Num GB used in data array: 0.16783475875854492\n",
            "Num GB used in data array: 0.16783475875854492\n",
            "Num GB used in data array: 0.16783475875854492\n",
            "Num GB used in data array: 0.16783475875854492\n",
            "Num GB used in data array: 0.16783475875854492\n",
            "Num GB used in data array: 0.16783475875854492\n",
            "Num GB used in data array: 0.16783475875854492\n",
            "Num GB used in data array: 0.1775515079498291\n",
            "Num GB used in data array: 0.1775515079498291\n",
            "Num GB used in data array: 0.17795920372009277\n",
            "Num GB used in data array: 0.17795920372009277\n",
            "Num GB used in data array: 0.17795920372009277\n",
            "Num GB used in data array: 0.18906891345977783\n",
            "Num GB used in data array: 0.18906891345977783\n",
            "Num GB used in data array: 0.18906891345977783\n",
            "Num GB used in data array: 0.19212663173675537\n",
            "Num GB used in data array: 0.19212663173675537\n",
            "Num GB used in data array: 0.20248889923095703\n",
            "Num GB used in data array: 0.20248889923095703\n",
            "Num GB used in data array: 0.21808326244354248\n",
            "Num GB used in data array: 0.21808326244354248\n",
            "Num GB used in data array: 0.2619445323944092\n",
            "Num GB used in data array: 0.2619445323944092\n",
            "Num GB used in data array: 0.3016948699951172\n",
            "Num GB used in data array: 0.3016948699951172\n",
            "Num GB used in data array: 0.3101545572280884\n",
            "Num GB used in data array: 0.3101545572280884\n",
            "Num GB used in data array: 0.3108680248260498\n",
            "Num GB used in data array: 0.3108680248260498\n",
            "Num GB used in data array: 0.3113776445388794\n",
            "Num GB used in data array: 0.3113776445388794\n",
            "Num GB used in data array: 0.3114795684814453\n",
            "Num GB used in data array: 0.3114795684814453\n",
            "Num GB used in data array: 0.3114795684814453\n",
            "Num GB used in data array: 0.33033549785614014\n",
            "Num GB used in data array: 0.33033549785614014\n",
            "Num GB used in data array: 0.3321361541748047\n",
            "Num GB used in data array: 0.3321361541748047\n",
            "Num GB used in data array: 0.3465414047241211\n",
            "Num GB used in data array: 0.3465414047241211\n",
            "Num GB used in data array: 0.34745872020721436\n",
            "Num GB used in data array: 0.34745872020721436\n",
            "Num GB used in data array: 0.347934365272522\n",
            "Num GB used in data array: 0.347934365272522\n",
            "Num GB used in data array: 0.347934365272522\n",
            "Num GB used in data array: 0.347934365272522\n",
            "Num GB used in data array: 0.35303056240081787\n",
            "Num GB used in data array: 0.35303056240081787\n",
            "Num GB used in data array: 0.36549925804138184\n",
            "Num GB used in data array: 0.36549925804138184\n",
            "Num GB used in data array: 0.36549925804138184\n",
            "Num GB used in data array: 0.36549925804138184\n",
            "Num GB used in data array: 0.36549925804138184\n",
            "Num GB used in data array: 0.36549925804138184\n",
            "Num GB used in data array: 0.36549925804138184\n",
            "Num GB used in data array: 0.36549925804138184\n",
            "Num GB used in data array: 0.36549925804138184\n",
            "Num GB used in data array: 0.36549925804138184\n",
            "Num GB used in data array: 0.36549925804138184\n",
            "Num GB used in data array: 0.36549925804138184\n",
            "Num GB used in data array: 0.36549925804138184\n",
            "Num GB used in data array: 0.36549925804138184\n",
            "Num GB used in data array: 0.36549925804138184\n",
            "Num GB used in data array: 0.36549925804138184\n",
            "Num GB used in data array: 0.36549925804138184\n",
            "Num GB used in data array: 0.36549925804138184\n",
            "Num GB used in data array: 0.39842069149017334\n",
            "Num GB used in data array: 0.39842069149017334\n",
            "Num GB used in data array: 0.403822660446167\n",
            "Num GB used in data array: 0.403822660446167\n",
            "Num GB used in data array: 0.403822660446167\n",
            "Num GB used in data array: 0.4352492094039917\n",
            "Num GB used in data array: 0.4352492094039917\n",
            "Num GB used in data array: 0.4650449752807617\n",
            "Num GB used in data array: 0.4650449752807617\n",
            "Num GB used in data array: 0.4650449752807617\n",
            "Num GB used in data array: 0.4987478256225586\n",
            "Num GB used in data array: 0.4987478256225586\n",
            "Num GB used in data array: 0.5766516923904419\n",
            "Num GB used in data array: 0.5766516923904419\n",
            "Num GB used in data array: 0.5766516923904419\n",
            "Num GB used in data array: 0.621294379234314\n",
            "Num GB used in data array: 0.621294379234314\n",
            "Num GB used in data array: 0.6432759761810303\n",
            "Num GB used in data array: 0.6432759761810303\n",
            "Num GB used in data array: 0.6685531139373779\n",
            "Num GB used in data array: 0.6685531139373779\n",
            "Num GB used in data array: 0.6694024801254272\n",
            "Num GB used in data array: 0.6694024801254272\n",
            "Num GB used in data array: 0.6738871335983276\n",
            "Num GB used in data array: 0.6738871335983276\n",
            "Num GB used in data array: 0.6750762462615967\n",
            "Num GB used in data array: 0.6750762462615967\n",
            "Num GB used in data array: 0.6940340995788574\n",
            "Num GB used in data array: 0.6940340995788574\n",
            "Num GB used in data array: 0.7079976797103882\n",
            "Num GB used in data array: 0.7079976797103882\n",
            "Num GB used in data array: 0.7079976797103882\n",
            "Num GB used in data array: 0.7092207670211792\n",
            "Num GB used in data array: 0.7092207670211792\n",
            "Num GB used in data array: 0.7213157415390015\n",
            "Num GB used in data array: 0.7213157415390015\n",
            "Num GB used in data array: 0.7213157415390015\n",
            "Num GB used in data array: 0.7664680480957031\n",
            "Num GB used in data array: 0.7664680480957031\n",
            "Num GB used in data array: 0.7794803380966187\n",
            "Num GB used in data array: 0.7794803380966187\n",
            "Num GB used in data array: 0.8463424444198608\n",
            "Num GB used in data array: 0.8463424444198608\n",
            "Num GB used in data array: 0.8566027879714966\n",
            "Num GB used in data array: 0.8566027879714966\n",
            "Num GB used in data array: 0.8566027879714966\n",
            "Num GB used in data array: 0.8568745851516724\n",
            "Num GB used in data array: 0.8568745851516724\n",
            "Num GB used in data array: 0.8568745851516724\n",
            "Num GB used in data array: 0.8572483062744141\n",
            "Num GB used in data array: 0.8572483062744141\n",
            "Num GB used in data array: 0.8572483062744141\n",
            "Num GB used in data array: 0.8576220273971558\n",
            "Num GB used in data array: 0.8576220273971558\n",
            "Num GB used in data array: 0.8591848611831665\n",
            "Num GB used in data array: 0.8591848611831665\n",
            "Num GB used in data array: 0.8591848611831665\n",
            "Num GB used in data array: 0.8591848611831665\n",
            "Num GB used in data array: 0.8591848611831665\n",
            "Num GB used in data array: 0.8591848611831665\n",
            "Num GB used in data array: 0.8591848611831665\n",
            "Num GB used in data array: 0.8591848611831665\n",
            "Num GB used in data array: 0.8602380752563477\n",
            "Num GB used in data array: 0.8602380752563477\n",
            "Num GB used in data array: 0.8607137203216553\n",
            "Num GB used in data array: 0.8607137203216553\n",
            "Num GB used in data array: 0.8607137203216553\n",
            "Num GB used in data array: 0.8607137203216553\n",
            "Num GB used in data array: 0.8607137203216553\n",
            "Num GB used in data array: 0.8607137203216553\n",
            "Num GB used in data array: 0.8607137203216553\n",
            "Num GB used in data array: 0.8607137203216553\n",
            "Num GB used in data array: 0.8607137203216553\n",
            "Num GB used in data array: 0.8628201484680176\n",
            "Num GB used in data array: 0.8628201484680176\n",
            "Num GB used in data array: 0.8714157342910767\n",
            "Num GB used in data array: 0.8714157342910767\n",
            "Num GB used in data array: 0.8714157342910767\n",
            "Num GB used in data array: 0.8714157342910767\n",
            "Num GB used in data array: 0.8714157342910767\n",
            "Num GB used in data array: 0.8714157342910767\n",
            "Num GB used in data array: 0.8714157342910767\n",
            "Num GB used in data array: 0.8714157342910767\n",
            "Num GB used in data array: 0.8714157342910767\n",
            "Num GB used in data array: 0.8714157342910767\n",
            "Num GB used in data array: 0.8714157342910767\n",
            "Num GB used in data array: 0.8714157342910767\n",
            "Num GB used in data array: 0.8714157342910767\n",
            "Num GB used in data array: 0.8714157342910767\n",
            "Num GB used in data array: 0.8714157342910767\n",
            "Num GB used in data array: 0.8714157342910767\n",
            "Num GB used in data array: 0.8714157342910767\n",
            "Num GB used in data array: 0.8714157342910767\n",
            "Num GB used in data array: 0.8714157342910767\n",
            "Num GB used in data array: 0.8714157342910767\n",
            "Num GB used in data array: 0.8714157342910767\n",
            "Num GB used in data array: 0.8714157342910767\n",
            "Num GB used in data array: 0.8714157342910767\n",
            "Num GB used in data array: 0.8714157342910767\n",
            "Num GB used in data array: 0.8714157342910767\n",
            "Num GB used in data array: 0.8714157342910767\n",
            "Num GB used in data array: 0.8714157342910767\n",
            "Num GB used in data array: 0.8714157342910767\n",
            "Num GB used in data array: 0.8714157342910767\n",
            "Num GB used in data array: 0.8714157342910767\n",
            "Num GB used in data array: 0.8714157342910767\n",
            "Num GB used in data array: 0.8714157342910767\n",
            "Num GB used in data array: 0.8714157342910767\n",
            "Num GB used in data array: 0.8714157342910767\n",
            "Num GB used in data array: 0.8714157342910767\n",
            "Num GB used in data array: 0.8714157342910767\n",
            "Num GB used in data array: 0.8714157342910767\n",
            "Num GB used in data array: 0.8714157342910767\n",
            "Num GB used in data array: 0.8714157342910767\n",
            "Num GB used in data array: 0.8714157342910767\n",
            "Num GB used in data array: 0.8714157342910767\n",
            "Num GB used in data array: 0.8714157342910767\n",
            "Num GB used in data array: 0.8714157342910767\n",
            "Num GB used in data array: 0.8714157342910767\n",
            "Num GB used in data array: 0.8714157342910767\n",
            "Num GB used in data array: 0.8714157342910767\n",
            "Num GB used in data array: 0.8714157342910767\n",
            "Num GB used in data array: 0.8714157342910767\n",
            "Num GB used in data array: 0.8714157342910767\n",
            "Num GB used in data array: 0.8714157342910767\n",
            "Num GB used in data array: 0.8714157342910767\n",
            "Num GB used in data array: 0.8714157342910767\n",
            "Num GB used in data array: 0.8714157342910767\n",
            "Num GB used in data array: 0.8714157342910767\n",
            "Num GB used in data array: 0.8714157342910767\n",
            "Num GB used in data array: 0.8714157342910767\n",
            "Num GB used in data array: 0.8714157342910767\n",
            "Num GB used in data array: 0.8714157342910767\n",
            "Num GB used in data array: 0.8714157342910767\n",
            "Num GB used in data array: 0.8714157342910767\n",
            "Num GB used in data array: 0.8714157342910767\n",
            "Num GB used in data array: 0.8714157342910767\n",
            "Num GB used in data array: 0.8714157342910767\n",
            "Num GB used in data array: 0.8714157342910767\n",
            "Num GB used in data array: 0.8714157342910767\n",
            "Num GB used in data array: 0.8714157342910767\n",
            "Num GB used in data array: 0.8714157342910767\n",
            "Num GB used in data array: 0.8714157342910767\n",
            "Num GB used in data array: 0.8714157342910767\n",
            "Num GB used in data array: 0.8714157342910767\n",
            "Num GB used in data array: 0.8714157342910767\n",
            "Num GB used in data array: 0.8714157342910767\n",
            "Num GB used in data array: 0.8714157342910767\n",
            "Num GB used in data array: 0.8714157342910767\n",
            "Num GB used in data array: 0.8714157342910767\n",
            "Num GB used in data array: 0.8714157342910767\n",
            "Num GB used in data array: 0.8714157342910767\n",
            "Num GB used in data array: 0.8714157342910767\n",
            "Num GB used in data array: 0.8714157342910767\n",
            "Num GB used in data array: 0.8714157342910767\n",
            "Num GB used in data array: 0.8714157342910767\n",
            "Num GB used in data array: 0.8714157342910767\n",
            "Num GB used in data array: 0.8714157342910767\n",
            "Num GB used in data array: 0.8714157342910767\n",
            "Num GB used in data array: 0.8714157342910767\n",
            "Num GB used in data array: 0.8714157342910767\n",
            "Num GB used in data array: 0.8714157342910767\n",
            "Num GB used in data array: 0.8714157342910767\n",
            "Num GB used in data array: 0.8714157342910767\n",
            "Num GB used in data array: 0.8714157342910767\n",
            "Num GB used in data array: 0.8714157342910767\n",
            "Num GB used in data array: 0.8714157342910767\n",
            "Num GB used in data array: 0.8714157342910767\n",
            "Num GB used in data array: 0.8714157342910767\n",
            "Num GB used in data array: 0.8714157342910767\n",
            "Num GB used in data array: 0.8714157342910767\n",
            "Num GB used in data array: 0.8714157342910767\n",
            "Num GB used in data array: 0.8714157342910767\n",
            "Num GB used in data array: 0.8714157342910767\n",
            "Num GB used in data array: 0.8714157342910767\n",
            "Num GB used in data array: 0.8714157342910767\n",
            "Num GB used in data array: 0.8714157342910767\n",
            "Num GB used in data array: 0.8714157342910767\n",
            "Num GB used in data array: 0.8714157342910767\n",
            "Num GB used in data array: 0.8714157342910767\n",
            "Num GB used in data array: 0.8714157342910767\n",
            "Num GB used in data array: 0.8714157342910767\n",
            "Num GB used in data array: 0.8714157342910767\n",
            "Num GB used in data array: 0.8714157342910767\n",
            "Num GB used in data array: 0.8714157342910767\n",
            "Num GB used in data array: 0.8714157342910767\n",
            "Num GB used in data array: 0.8714157342910767\n",
            "Num GB used in data array: 0.8714157342910767\n",
            "Num GB used in data array: 0.8714157342910767\n",
            "Num GB used in data array: 0.8714157342910767\n",
            "Num GB used in data array: 0.8714157342910767\n",
            "Num GB used in data array: 0.8714157342910767\n",
            "Num GB used in data array: 0.8714157342910767\n",
            "Num GB used in data array: 0.8714157342910767\n",
            "Num GB used in data array: 0.8714157342910767\n",
            "Num GB used in data array: 0.8714157342910767\n",
            "Num GB used in data array: 0.8714157342910767\n",
            "Num GB used in data array: 0.8714157342910767\n",
            "Num GB used in data array: 0.8714157342910767\n",
            "Num GB used in data array: 0.8714157342910767\n",
            "Num GB used in data array: 0.8714157342910767\n",
            "Num GB used in data array: 0.8714157342910767\n",
            "Num GB used in data array: 0.8714157342910767\n",
            "Num GB used in data array: 0.8714157342910767\n",
            "Num GB used in data array: 0.8714157342910767\n",
            "Num GB used in data array: 0.8714157342910767\n",
            "Num GB used in data array: 0.8714157342910767\n",
            "Num GB used in data array: 0.8714157342910767\n"
          ]
        },
        {
          "output_type": "execute_result",
          "data": {
            "text/plain": [
              "<data_creation.DataSelection at 0x7f3765820190>"
            ]
          },
          "metadata": {},
          "execution_count": 3
        }
      ],
      "source": [
        "with open(\"/content/all_data.pkl\", \"rb\") as file:\n",
        "    data = pickle.load(file)\n",
        "\n",
        "DataSelection(data, 2014, \"./\", 38)\n",
        "# DataSelection(data, 2015, \"./\")"
      ]
    },
    {
      "cell_type": "code",
      "source": [
        "with open(\"norm_scaler.pkl\", \"rb\") as norm_file:\n",
        "    normalization = pickle.load(norm_file)\n",
        "\n",
        "with open(\"stand_scaler.pkl\", \"rb\") as stand_file:\n",
        "    standard = pickle.load(stand_file)\n",
        "\n",
        "DataSelection(data, 2015,\"./\", 38, norm_scaler=normalization, stand_scaler=standard)"
      ],
      "metadata": {
        "colab": {
          "base_uri": "https://localhost:8080/"
        },
        "id": "Z0Mm90v8_rMd",
        "outputId": "97447ce3-17fa-4013-a539-802500fd88c4"
      },
      "execution_count": null,
      "outputs": [
        {
          "output_type": "stream",
          "name": "stdout",
          "text": [
            "Num GB used in data array: 0.0\n",
            "Num GB used in data array: 0.0019025802612304688\n",
            "Num GB used in data array: 0.0019025802612304688\n",
            "Num GB used in data array: 0.0031256675720214844\n",
            "Num GB used in data array: 0.0031256675720214844\n",
            "Num GB used in data array: 0.010973811149597168\n",
            "Num GB used in data array: 0.010973811149597168\n",
            "Num GB used in data array: 0.017496943473815918\n",
            "Num GB used in data array: 0.017496943473815918\n",
            "Num GB used in data array: 0.02415597438812256\n",
            "Num GB used in data array: 0.02415597438812256\n",
            "Num GB used in data array: 0.03142654895782471\n",
            "Num GB used in data array: 0.03142654895782471\n",
            "Num GB used in data array: 0.033329129219055176\n",
            "Num GB used in data array: 0.033329129219055176\n",
            "Num GB used in data array: 0.035231709480285645\n",
            "Num GB used in data array: 0.035231709480285645\n",
            "Num GB used in data array: 0.04630744457244873\n",
            "Num GB used in data array: 0.04630744457244873\n",
            "Num GB used in data array: 0.04668116569519043\n",
            "Num GB used in data array: 0.04668116569519043\n",
            "Num GB used in data array: 0.04759848117828369\n",
            "Num GB used in data array: 0.04759848117828369\n",
            "Num GB used in data array: 0.04759848117828369\n",
            "Num GB used in data array: 0.05874216556549072\n",
            "Num GB used in data array: 0.05874216556549072\n",
            "Num GB used in data array: 0.06064474582672119\n",
            "Num GB used in data array: 0.06064474582672119\n",
            "Num GB used in data array: 0.06152808666229248\n",
            "Num GB used in data array: 0.06152808666229248\n",
            "Num GB used in data array: 0.06152808666229248\n",
            "Num GB used in data array: 0.07073521614074707\n",
            "Num GB used in data array: 0.07073521614074707\n",
            "Num GB used in data array: 0.07178843021392822\n",
            "Num GB used in data array: 0.07178843021392822\n",
            "Num GB used in data array: 0.11503815650939941\n",
            "Num GB used in data array: 0.11503815650939941\n",
            "Num GB used in data array: 0.12271642684936523\n",
            "Num GB used in data array: 0.12271642684936523\n",
            "Num GB used in data array: 0.12614786624908447\n",
            "Num GB used in data array: 0.12614786624908447\n",
            "Num GB used in data array: 0.1263517141342163\n",
            "Num GB used in data array: 0.1263517141342163\n",
            "Num GB used in data array: 0.1263517141342163\n",
            "Num GB used in data array: 0.12726902961730957\n",
            "Num GB used in data array: 0.12726902961730957\n",
            "Num GB used in data array: 0.12726902961730957\n",
            "Num GB used in data array: 0.12726902961730957\n",
            "Num GB used in data array: 0.12726902961730957\n",
            "Num GB used in data array: 0.12726902961730957\n",
            "Num GB used in data array: 0.12726902961730957\n",
            "Num GB used in data array: 0.12726902961730957\n",
            "Num GB used in data array: 0.12726902961730957\n",
            "Num GB used in data array: 0.12726902961730957\n",
            "Num GB used in data array: 0.12726902961730957\n",
            "Num GB used in data array: 0.12726902961730957\n",
            "Num GB used in data array: 0.12726902961730957\n",
            "Num GB used in data array: 0.12726902961730957\n",
            "Num GB used in data array: 0.12726902961730957\n",
            "Num GB used in data array: 0.12726902961730957\n",
            "Num GB used in data array: 0.12726902961730957\n",
            "Num GB used in data array: 0.12726902961730957\n",
            "Num GB used in data array: 0.12726902961730957\n",
            "Num GB used in data array: 0.12726902961730957\n",
            "Num GB used in data array: 0.12726902961730957\n",
            "Num GB used in data array: 0.12726902961730957\n",
            "Num GB used in data array: 0.12726902961730957\n",
            "Num GB used in data array: 0.12726902961730957\n",
            "Num GB used in data array: 0.12726902961730957\n",
            "Num GB used in data array: 0.12726902961730957\n",
            "Num GB used in data array: 0.12726902961730957\n",
            "Num GB used in data array: 0.12726902961730957\n",
            "Num GB used in data array: 0.1277446746826172\n",
            "Num GB used in data array: 0.1277446746826172\n",
            "Num GB used in data array: 0.1277446746826172\n",
            "Num GB used in data array: 0.1277446746826172\n",
            "Num GB used in data array: 0.1277446746826172\n",
            "Num GB used in data array: 0.1277446746826172\n",
            "Num GB used in data array: 0.1277446746826172\n",
            "Num GB used in data array: 0.1277446746826172\n",
            "Num GB used in data array: 0.1277446746826172\n",
            "Num GB used in data array: 0.1277446746826172\n",
            "Num GB used in data array: 0.1277446746826172\n",
            "Num GB used in data array: 0.1277446746826172\n",
            "Num GB used in data array: 0.1277446746826172\n",
            "Num GB used in data array: 0.1277446746826172\n",
            "Num GB used in data array: 0.1277446746826172\n",
            "Num GB used in data array: 0.1277446746826172\n",
            "Num GB used in data array: 0.1277446746826172\n",
            "Num GB used in data array: 0.1277446746826172\n",
            "Num GB used in data array: 0.1277446746826172\n",
            "Num GB used in data array: 0.1277446746826172\n",
            "Num GB used in data array: 0.1277446746826172\n",
            "Num GB used in data array: 0.1277446746826172\n",
            "Num GB used in data array: 0.1277446746826172\n",
            "Num GB used in data array: 0.1277446746826172\n",
            "Num GB used in data array: 0.1277446746826172\n",
            "Num GB used in data array: 0.1277446746826172\n",
            "Num GB used in data array: 0.1277446746826172\n",
            "Num GB used in data array: 0.1277446746826172\n",
            "Num GB used in data array: 0.1277446746826172\n",
            "Num GB used in data array: 0.1277446746826172\n",
            "Num GB used in data array: 0.1277446746826172\n",
            "Num GB used in data array: 0.13545691967010498\n",
            "Num GB used in data array: 0.13545691967010498\n",
            "Num GB used in data array: 0.13545691967010498\n",
            "Num GB used in data array: 0.13545691967010498\n",
            "Num GB used in data array: 0.1376652717590332\n",
            "Num GB used in data array: 0.1376652717590332\n",
            "Num GB used in data array: 0.1376652717590332\n",
            "Num GB used in data array: 0.1376652717590332\n",
            "Num GB used in data array: 0.14231979846954346\n",
            "Num GB used in data array: 0.14231979846954346\n",
            "Num GB used in data array: 0.1500999927520752\n",
            "Num GB used in data array: 0.1500999927520752\n",
            "Num GB used in data array: 0.17846882343292236\n",
            "Num GB used in data array: 0.17846882343292236\n",
            "Num GB used in data array: 0.23214876651763916\n",
            "Num GB used in data array: 0.23214876651763916\n",
            "Num GB used in data array: 0.2421712875366211\n",
            "Num GB used in data array: 0.2421712875366211\n",
            "Num GB used in data array: 0.24356424808502197\n",
            "Num GB used in data array: 0.24356424808502197\n",
            "Num GB used in data array: 0.24407386779785156\n",
            "Num GB used in data array: 0.24407386779785156\n",
            "Num GB used in data array: 0.24407386779785156\n",
            "Num GB used in data array: 0.24407386779785156\n",
            "Num GB used in data array: 0.2676522731781006\n",
            "Num GB used in data array: 0.2676522731781006\n",
            "Num GB used in data array: 0.2734619379043579\n",
            "Num GB used in data array: 0.2734619379043579\n",
            "Num GB used in data array: 0.29418647289276123\n",
            "Num GB used in data array: 0.29418647289276123\n",
            "Num GB used in data array: 0.30196666717529297\n",
            "Num GB used in data array: 0.30196666717529297\n",
            "Num GB used in data array: 0.3089994192123413\n",
            "Num GB used in data array: 0.3089994192123413\n",
            "Num GB used in data array: 0.3089994192123413\n",
            "Num GB used in data array: 0.3089994192123413\n",
            "Num GB used in data array: 0.31538665294647217\n",
            "Num GB used in data array: 0.31538665294647217\n",
            "Num GB used in data array: 0.3223174810409546\n",
            "Num GB used in data array: 0.3223174810409546\n",
            "Num GB used in data array: 0.3223174810409546\n",
            "Num GB used in data array: 0.3223174810409546\n",
            "Num GB used in data array: 0.3223174810409546\n",
            "Num GB used in data array: 0.3223174810409546\n",
            "Num GB used in data array: 0.3223174810409546\n",
            "Num GB used in data array: 0.3223174810409546\n",
            "Num GB used in data array: 0.3227931261062622\n",
            "Num GB used in data array: 0.3227931261062622\n",
            "Num GB used in data array: 0.323064923286438\n",
            "Num GB used in data array: 0.323064923286438\n",
            "Num GB used in data array: 0.323064923286438\n",
            "Num GB used in data array: 0.323064923286438\n",
            "Num GB used in data array: 0.323064923286438\n",
            "Num GB used in data array: 0.323064923286438\n",
            "Num GB used in data array: 0.323064923286438\n",
            "Num GB used in data array: 0.323064923286438\n",
            "Num GB used in data array: 0.323064923286438\n",
            "Num GB used in data array: 0.323064923286438\n",
            "Num GB used in data array: 0.34745872020721436\n",
            "Num GB used in data array: 0.34745872020721436\n",
            "Num GB used in data array: 0.3492933511734009\n",
            "Num GB used in data array: 0.3492933511734009\n",
            "Num GB used in data array: 0.3492933511734009\n",
            "Num GB used in data array: 0.3666883707046509\n",
            "Num GB used in data array: 0.3666883707046509\n",
            "Num GB used in data array: 0.3875148296356201\n",
            "Num GB used in data array: 0.3875148296356201\n",
            "Num GB used in data array: 0.3875148296356201\n",
            "Num GB used in data array: 0.4326331615447998\n",
            "Num GB used in data array: 0.4326331615447998\n",
            "Num GB used in data array: 0.5067998170852661\n",
            "Num GB used in data array: 0.5067998170852661\n",
            "Num GB used in data array: 0.5067998170852661\n",
            "Num GB used in data array: 0.5571502447128296\n",
            "Num GB used in data array: 0.5571502447128296\n",
            "Num GB used in data array: 0.583990216255188\n",
            "Num GB used in data array: 0.583990216255188\n",
            "Num GB used in data array: 0.5987012386322021\n",
            "Num GB used in data array: 0.5987012386322021\n",
            "Num GB used in data array: 0.5995506048202515\n",
            "Num GB used in data array: 0.5995506048202515\n",
            "Num GB used in data array: 0.6039673089981079\n",
            "Num GB used in data array: 0.6039673089981079\n",
            "Num GB used in data array: 0.6069231033325195\n",
            "Num GB used in data array: 0.6069231033325195\n",
            "Num GB used in data array: 0.6325060129165649\n",
            "Num GB used in data array: 0.6325060129165649\n",
            "Num GB used in data array: 0.6537741422653198\n",
            "Num GB used in data array: 0.6537741422653198\n",
            "Num GB used in data array: 0.6537741422653198\n",
            "Num GB used in data array: 0.6562542915344238\n",
            "Num GB used in data array: 0.6562542915344238\n",
            "Num GB used in data array: 0.6766051054000854\n",
            "Num GB used in data array: 0.6766051054000854\n",
            "Num GB used in data array: 0.6773525476455688\n",
            "Num GB used in data array: 0.6773525476455688\n",
            "Num GB used in data array: 0.7488352060317993\n",
            "Num GB used in data array: 0.7488352060317993\n",
            "Num GB used in data array: 0.7789027690887451\n",
            "Num GB used in data array: 0.7789027690887451\n",
            "Num GB used in data array: 0.8810985088348389\n",
            "Num GB used in data array: 0.8810985088348389\n",
            "Num GB used in data array: 0.8919364213943481\n",
            "Num GB used in data array: 0.8919364213943481\n",
            "Num GB used in data array: 0.8953678607940674\n",
            "Num GB used in data array: 0.8953678607940674\n",
            "Num GB used in data array: 0.9034878015518188\n",
            "Num GB used in data array: 0.9034878015518188\n",
            "Num GB used in data array: 0.9109961986541748\n",
            "Num GB used in data array: 0.9109961986541748\n",
            "Num GB used in data array: 0.9167039394378662\n",
            "Num GB used in data array: 0.9167039394378662\n",
            "Num GB used in data array: 0.9205770492553711\n",
            "Num GB used in data array: 0.9205770492553711\n",
            "Num GB used in data array: 0.9238725900650024\n",
            "Num GB used in data array: 0.9238725900650024\n",
            "Num GB used in data array: 0.9272021055221558\n",
            "Num GB used in data array: 0.9272021055221558\n",
            "Num GB used in data array: 0.9272021055221558\n",
            "Num GB used in data array: 0.9272021055221558\n",
            "Num GB used in data array: 0.9272021055221558\n",
            "Num GB used in data array: 0.9272021055221558\n",
            "Num GB used in data array: 0.9272021055221558\n",
            "Num GB used in data array: 0.9272021055221558\n",
            "Num GB used in data array: 0.9285610914230347\n",
            "Num GB used in data array: 0.9285610914230347\n",
            "Num GB used in data array: 0.9287989139556885\n",
            "Num GB used in data array: 0.9287989139556885\n",
            "Num GB used in data array: 0.9287989139556885\n",
            "Num GB used in data array: 0.9287989139556885\n",
            "Num GB used in data array: 0.9287989139556885\n",
            "Num GB used in data array: 0.9287989139556885\n",
            "Num GB used in data array: 0.9287989139556885\n",
            "Num GB used in data array: 0.9300559759140015\n",
            "Num GB used in data array: 0.9300559759140015\n",
            "Num GB used in data array: 0.9300559759140015\n",
            "Num GB used in data array: 0.9385836124420166\n",
            "Num GB used in data array: 0.9385836124420166\n",
            "Num GB used in data array: 0.9678018093109131\n",
            "Num GB used in data array: 0.9678018093109131\n",
            "Num GB used in data array: 0.9678018093109131\n",
            "Num GB used in data array: 0.9678018093109131\n",
            "Num GB used in data array: 0.9678018093109131\n",
            "Num GB used in data array: 0.9678018093109131\n",
            "Num GB used in data array: 0.9678018093109131\n",
            "Num GB used in data array: 0.9678018093109131\n",
            "Num GB used in data array: 0.9678018093109131\n",
            "Num GB used in data array: 0.9678018093109131\n",
            "Num GB used in data array: 0.9678018093109131\n",
            "Num GB used in data array: 0.9678018093109131\n",
            "Num GB used in data array: 0.9678018093109131\n",
            "Num GB used in data array: 0.9678018093109131\n",
            "Num GB used in data array: 0.9678018093109131\n",
            "Num GB used in data array: 0.9678018093109131\n",
            "Num GB used in data array: 0.9678018093109131\n",
            "Num GB used in data array: 0.9678018093109131\n",
            "Num GB used in data array: 0.9678018093109131\n",
            "Num GB used in data array: 0.9678018093109131\n",
            "Num GB used in data array: 0.9678018093109131\n",
            "Num GB used in data array: 0.9678018093109131\n",
            "Num GB used in data array: 0.9678018093109131\n",
            "Num GB used in data array: 0.9678018093109131\n",
            "Num GB used in data array: 0.9678018093109131\n",
            "Num GB used in data array: 0.9678018093109131\n",
            "Num GB used in data array: 0.9678018093109131\n",
            "Num GB used in data array: 0.9678018093109131\n",
            "Num GB used in data array: 0.9678018093109131\n",
            "Num GB used in data array: 0.9678018093109131\n",
            "Num GB used in data array: 0.9678018093109131\n",
            "Num GB used in data array: 0.9678018093109131\n",
            "Num GB used in data array: 0.9678018093109131\n",
            "Num GB used in data array: 0.9678018093109131\n",
            "Num GB used in data array: 0.9678018093109131\n",
            "Num GB used in data array: 0.9678018093109131\n",
            "Num GB used in data array: 0.9678018093109131\n",
            "Num GB used in data array: 0.9678018093109131\n",
            "Num GB used in data array: 0.9678018093109131\n",
            "Num GB used in data array: 0.9678018093109131\n",
            "Num GB used in data array: 0.9678018093109131\n",
            "Num GB used in data array: 0.9678018093109131\n",
            "Num GB used in data array: 0.9678018093109131\n",
            "Num GB used in data array: 0.9678018093109131\n",
            "Num GB used in data array: 0.9678018093109131\n",
            "Num GB used in data array: 0.9678018093109131\n",
            "Num GB used in data array: 0.9678018093109131\n",
            "Num GB used in data array: 0.9678018093109131\n",
            "Num GB used in data array: 0.9678018093109131\n",
            "Num GB used in data array: 0.9678018093109131\n",
            "Num GB used in data array: 0.9678018093109131\n",
            "Num GB used in data array: 0.9678018093109131\n",
            "Num GB used in data array: 0.9678018093109131\n",
            "Num GB used in data array: 0.9678018093109131\n",
            "Num GB used in data array: 0.9678018093109131\n",
            "Num GB used in data array: 0.9678018093109131\n",
            "Num GB used in data array: 0.9678018093109131\n",
            "Num GB used in data array: 0.9678018093109131\n",
            "Num GB used in data array: 0.9678018093109131\n",
            "Num GB used in data array: 0.9678018093109131\n",
            "Num GB used in data array: 0.9678018093109131\n",
            "Num GB used in data array: 0.9678018093109131\n",
            "Num GB used in data array: 0.9678018093109131\n",
            "Num GB used in data array: 0.9678018093109131\n",
            "Num GB used in data array: 0.9678018093109131\n",
            "Num GB used in data array: 0.9678018093109131\n",
            "Num GB used in data array: 0.9678018093109131\n",
            "Num GB used in data array: 0.9678018093109131\n",
            "Num GB used in data array: 0.9678018093109131\n",
            "Num GB used in data array: 0.9678018093109131\n",
            "Num GB used in data array: 0.9678018093109131\n",
            "Num GB used in data array: 0.9678018093109131\n",
            "Num GB used in data array: 0.9678018093109131\n",
            "Num GB used in data array: 0.9678018093109131\n",
            "Num GB used in data array: 0.9678018093109131\n",
            "Num GB used in data array: 0.9678018093109131\n",
            "Num GB used in data array: 0.9678018093109131\n",
            "Num GB used in data array: 0.9678018093109131\n",
            "Num GB used in data array: 0.9678018093109131\n",
            "Num GB used in data array: 0.9678018093109131\n",
            "Num GB used in data array: 0.9678018093109131\n",
            "Num GB used in data array: 0.9678018093109131\n",
            "Num GB used in data array: 0.9678018093109131\n",
            "Num GB used in data array: 0.9678018093109131\n",
            "Num GB used in data array: 0.9678018093109131\n",
            "Num GB used in data array: 0.9678018093109131\n",
            "Num GB used in data array: 0.9678018093109131\n",
            "Num GB used in data array: 0.9678018093109131\n",
            "Num GB used in data array: 0.9678018093109131\n",
            "Num GB used in data array: 0.9678018093109131\n",
            "Num GB used in data array: 0.9678018093109131\n",
            "Num GB used in data array: 0.9678018093109131\n",
            "Num GB used in data array: 0.9678018093109131\n",
            "Num GB used in data array: 0.9678018093109131\n",
            "Num GB used in data array: 0.9678018093109131\n",
            "Num GB used in data array: 0.9678018093109131\n",
            "Num GB used in data array: 0.9678018093109131\n",
            "Num GB used in data array: 0.9678018093109131\n",
            "Num GB used in data array: 0.9678018093109131\n",
            "Num GB used in data array: 0.9678018093109131\n",
            "Num GB used in data array: 0.9678018093109131\n",
            "Num GB used in data array: 0.9678018093109131\n",
            "Num GB used in data array: 0.9678018093109131\n",
            "Num GB used in data array: 0.9678018093109131\n",
            "Num GB used in data array: 0.9678018093109131\n",
            "Num GB used in data array: 0.9678018093109131\n",
            "Num GB used in data array: 0.9678018093109131\n",
            "Num GB used in data array: 0.9678018093109131\n",
            "Num GB used in data array: 0.9678018093109131\n",
            "Num GB used in data array: 0.9678018093109131\n",
            "Num GB used in data array: 0.9678018093109131\n",
            "Num GB used in data array: 0.9678018093109131\n",
            "Num GB used in data array: 0.9678018093109131\n",
            "Num GB used in data array: 0.9678018093109131\n",
            "Num GB used in data array: 0.9678018093109131\n",
            "Num GB used in data array: 0.9678018093109131\n",
            "Num GB used in data array: 0.9678018093109131\n",
            "Num GB used in data array: 0.9678018093109131\n",
            "Num GB used in data array: 0.9678018093109131\n",
            "Num GB used in data array: 0.9678018093109131\n",
            "Num GB used in data array: 0.9678018093109131\n",
            "Num GB used in data array: 0.9678018093109131\n",
            "Num GB used in data array: 0.9678018093109131\n",
            "Num GB used in data array: 0.9678018093109131\n",
            "Num GB used in data array: 0.9678018093109131\n",
            "Num GB used in data array: 0.9678018093109131\n",
            "Num GB used in data array: 0.9678018093109131\n",
            "Num GB used in data array: 0.9678018093109131\n",
            "Num GB used in data array: 0.9678018093109131\n",
            "Num GB used in data array: 0.9678018093109131\n",
            "Num GB used in data array: 0.9678018093109131\n",
            "Num GB used in data array: 0.9678018093109131\n",
            "Num GB used in data array: 0.9678018093109131\n"
          ]
        },
        {
          "output_type": "execute_result",
          "data": {
            "text/plain": [
              "<data_creation.DataSelection at 0x7f374ce79490>"
            ]
          },
          "metadata": {},
          "execution_count": 4
        }
      ]
    },
    {
      "cell_type": "code",
      "execution_count": null,
      "metadata": {
        "id": "5caJAPMcssGm"
      },
      "outputs": [],
      "source": [
        "data2014 = np.load(\"data_2014.npy\")\n",
        "labels2014 = np.load(\"labels_2014.npy\")"
      ]
    },
    {
      "cell_type": "code",
      "execution_count": null,
      "metadata": {
        "id": "IvtuPAVJZ1HO"
      },
      "outputs": [],
      "source": [
        "# data2014.shape[0] % 64"
      ]
    },
    {
      "cell_type": "code",
      "execution_count": null,
      "metadata": {
        "id": "kCjIZIOZZ6zL"
      },
      "outputs": [],
      "source": [
        "# # Need to adjust data size to ensure that each batch is of size 64\n",
        "# adjusted_data = data2014[:data2014.shape[0]-18, :, :]\n",
        "# adjusted_labels = labels2014[:labels2014.shape[0]-18, :, :]"
      ]
    },
    {
      "cell_type": "code",
      "execution_count": null,
      "metadata": {
        "id": "im3EwZyNYK6-"
      },
      "outputs": [],
      "source": [
        "base_model = SolarLSTM(data2014, labels2014, save_path=\"./\")"
      ]
    },
    {
      "cell_type": "code",
      "execution_count": null,
      "metadata": {
        "id": "Hx82BYHwQ7bb"
      },
      "outputs": [],
      "source": [
        "base_model.build_model()"
      ]
    },
    {
      "cell_type": "code",
      "execution_count": null,
      "metadata": {
        "colab": {
          "base_uri": "https://localhost:8080/"
        },
        "id": "csd-wHI8Q9u-",
        "outputId": "16b1d480-785d-4360-bf68-eff73109b2a9"
      },
      "outputs": [
        {
          "output_type": "execute_result",
          "data": {
            "text/plain": [
              "<keras.engine.sequential.Sequential at 0x7f37f98d5050>"
            ]
          },
          "metadata": {},
          "execution_count": 9
        }
      ],
      "source": [
        "base_model.model"
      ]
    },
    {
      "cell_type": "code",
      "execution_count": null,
      "metadata": {
        "colab": {
          "base_uri": "https://localhost:8080/",
          "height": 1000
        },
        "id": "PTJij7KnQ_ye",
        "outputId": "8bf5c2bf-d2b0-4c4a-f1e8-038ae4805468"
      },
      "outputs": [
        {
          "output_type": "stream",
          "name": "stdout",
          "text": [
            "Epoch 1/50\n"
          ]
        },
        {
          "output_type": "stream",
          "name": "stderr",
          "text": [
            "/usr/local/lib/python3.7/dist-packages/tensorflow/python/util/dispatch.py:1082: UserWarning: \"`binary_crossentropy` received `from_logits=True`, but the `output` argument was produced by a sigmoid or softmax activation and thus does not represent logits. Was this intended?\"\n",
            "  return dispatch_target(*args, **kwargs)\n"
          ]
        },
        {
          "output_type": "stream",
          "name": "stdout",
          "text": [
            "320/320 [==============================] - ETA: 0s - loss: 0.3654 - accuracy: 0.8766 - mse: 0.1046 - mae: 0.2127"
          ]
        },
        {
          "output_type": "stream",
          "name": "stderr",
          "text": [
            "WARNING:absl:Found untraced functions such as lstm_cell_layer_call_fn, lstm_cell_layer_call_and_return_conditional_losses, lstm_cell_1_layer_call_fn, lstm_cell_1_layer_call_and_return_conditional_losses while saving (showing 4 of 4). These functions will not be directly callable after loading.\n"
          ]
        },
        {
          "output_type": "stream",
          "name": "stdout",
          "text": [
            "INFO:tensorflow:Assets written to: model_checkpoints/assets\n"
          ]
        },
        {
          "output_type": "stream",
          "name": "stderr",
          "text": [
            "INFO:tensorflow:Assets written to: model_checkpoints/assets\n",
            "WARNING:absl:<keras.layers.recurrent.LSTMCell object at 0x7f3742d52890> has the same name 'LSTMCell' as a built-in Keras object. Consider renaming <class 'keras.layers.recurrent.LSTMCell'> to avoid naming conflicts when loading with `tf.keras.models.load_model`. If renaming is not possible, pass the object in the `custom_objects` parameter of the load function.\n",
            "WARNING:absl:<keras.layers.recurrent.LSTMCell object at 0x7f374ce16c50> has the same name 'LSTMCell' as a built-in Keras object. Consider renaming <class 'keras.layers.recurrent.LSTMCell'> to avoid naming conflicts when loading with `tf.keras.models.load_model`. If renaming is not possible, pass the object in the `custom_objects` parameter of the load function.\n"
          ]
        },
        {
          "output_type": "stream",
          "name": "stdout",
          "text": [
            "\b\b\b\b\b\b\b\b\b\b\b\b\b\b\b\b\b\b\b\b\b\b\b\b\b\b\b\b\b\b\b\b\b\b\b\b\b\b\b\b\b\b\b\b\b\b\b\b\b\b\b\b\b\b\b\b\b\b\b\b\b\b\b\b\b\b\b\b\b\b\b\b\b\b\b\b\b\b\b\b\b\b\b\b\b\b\b\b\b\b\b\b\b\b\b\b\b\b\b\b\b\b\b\b\b\b\b\b\b\b\b\b\r320/320 [==============================] - 33s 92ms/step - loss: 0.3654 - accuracy: 0.8766 - mse: 0.1046 - mae: 0.2127 - val_loss: 0.5875 - val_accuracy: 0.8094 - val_mse: 0.1735 - val_mae: 0.2412\n",
            "Epoch 2/50\n",
            "320/320 [==============================] - 21s 64ms/step - loss: 0.2932 - accuracy: 0.8930 - mse: 0.0821 - mae: 0.1647 - val_loss: 0.6178 - val_accuracy: 0.8094 - val_mse: 0.1739 - val_mae: 0.2568\n",
            "Epoch 3/50\n",
            "320/320 [==============================] - 20s 64ms/step - loss: 0.2838 - accuracy: 0.9012 - mse: 0.0770 - mae: 0.1553 - val_loss: 0.6368 - val_accuracy: 0.6891 - val_mse: 0.1928 - val_mae: 0.3107\n",
            "Epoch 4/50\n",
            "320/320 [==============================] - 21s 65ms/step - loss: 0.2580 - accuracy: 0.9191 - mse: 0.0692 - mae: 0.1419 - val_loss: 0.6476 - val_accuracy: 0.8094 - val_mse: 0.1757 - val_mae: 0.2160\n",
            "Epoch 5/50\n",
            "320/320 [==============================] - ETA: 0s - loss: 0.2803 - accuracy: 0.9088 - mse: 0.0760 - mae: 0.1492"
          ]
        },
        {
          "output_type": "stream",
          "name": "stderr",
          "text": [
            "WARNING:absl:Found untraced functions such as lstm_cell_layer_call_fn, lstm_cell_layer_call_and_return_conditional_losses, lstm_cell_1_layer_call_fn, lstm_cell_1_layer_call_and_return_conditional_losses while saving (showing 4 of 4). These functions will not be directly callable after loading.\n"
          ]
        },
        {
          "output_type": "stream",
          "name": "stdout",
          "text": [
            "INFO:tensorflow:Assets written to: model_checkpoints/assets\n"
          ]
        },
        {
          "output_type": "stream",
          "name": "stderr",
          "text": [
            "INFO:tensorflow:Assets written to: model_checkpoints/assets\n",
            "WARNING:absl:<keras.layers.recurrent.LSTMCell object at 0x7f3742d52890> has the same name 'LSTMCell' as a built-in Keras object. Consider renaming <class 'keras.layers.recurrent.LSTMCell'> to avoid naming conflicts when loading with `tf.keras.models.load_model`. If renaming is not possible, pass the object in the `custom_objects` parameter of the load function.\n",
            "WARNING:absl:<keras.layers.recurrent.LSTMCell object at 0x7f374ce16c50> has the same name 'LSTMCell' as a built-in Keras object. Consider renaming <class 'keras.layers.recurrent.LSTMCell'> to avoid naming conflicts when loading with `tf.keras.models.load_model`. If renaming is not possible, pass the object in the `custom_objects` parameter of the load function.\n"
          ]
        },
        {
          "output_type": "stream",
          "name": "stdout",
          "text": [
            "\b\b\b\b\b\b\b\b\b\b\b\b\b\b\b\b\b\b\b\b\b\b\b\b\b\b\b\b\b\b\b\b\b\b\b\b\b\b\b\b\b\b\b\b\b\b\b\b\b\b\b\b\b\b\b\b\b\b\b\b\b\b\b\b\b\b\b\b\b\b\b\b\b\b\b\b\b\b\b\b\b\b\b\b\b\b\b\b\b\b\b\b\b\b\b\b\b\b\b\b\b\b\b\b\b\b\b\b\b\b\b\b\r320/320 [==============================] - 29s 91ms/step - loss: 0.2803 - accuracy: 0.9088 - mse: 0.0760 - mae: 0.1492 - val_loss: 0.5329 - val_accuracy: 0.8175 - val_mse: 0.1567 - val_mae: 0.2227\n",
            "Epoch 6/50\n",
            "320/320 [==============================] - 21s 64ms/step - loss: 0.2605 - accuracy: 0.9099 - mse: 0.0724 - mae: 0.1470 - val_loss: 0.5902 - val_accuracy: 0.8082 - val_mse: 0.1618 - val_mae: 0.2323\n",
            "Epoch 7/50\n",
            "320/320 [==============================] - 21s 65ms/step - loss: 0.2589 - accuracy: 0.9266 - mse: 0.0670 - mae: 0.1339 - val_loss: 0.6152 - val_accuracy: 0.8093 - val_mse: 0.1712 - val_mae: 0.2219\n",
            "Epoch 8/50\n",
            "320/320 [==============================] - 21s 66ms/step - loss: 0.2380 - accuracy: 0.9259 - mse: 0.0630 - mae: 0.1306 - val_loss: 0.6009 - val_accuracy: 0.7776 - val_mse: 0.1747 - val_mae: 0.2550\n",
            "Epoch 9/50\n",
            "320/320 [==============================] - 21s 65ms/step - loss: 0.2298 - accuracy: 0.9283 - mse: 0.0617 - mae: 0.1249 - val_loss: 0.6347 - val_accuracy: 0.8078 - val_mse: 0.1711 - val_mae: 0.2152\n",
            "Epoch 10/50\n",
            "320/320 [==============================] - 21s 65ms/step - loss: 0.2230 - accuracy: 0.9290 - mse: 0.0602 - mae: 0.1226 - val_loss: 0.6761 - val_accuracy: 0.7461 - val_mse: 0.2021 - val_mae: 0.2689\n",
            "Epoch 11/50\n",
            "320/320 [==============================] - 21s 65ms/step - loss: 0.2152 - accuracy: 0.9305 - mse: 0.0583 - mae: 0.1177 - val_loss: 0.7362 - val_accuracy: 0.7375 - val_mse: 0.2135 - val_mae: 0.2770\n",
            "Epoch 12/50\n",
            "320/320 [==============================] - 21s 64ms/step - loss: 0.2042 - accuracy: 0.9299 - mse: 0.0567 - mae: 0.1127 - val_loss: 0.6841 - val_accuracy: 0.8125 - val_mse: 0.1726 - val_mae: 0.2147\n",
            "Epoch 13/50\n",
            "320/320 [==============================] - 20s 64ms/step - loss: 0.1980 - accuracy: 0.9326 - mse: 0.0540 - mae: 0.1115 - val_loss: 0.6226 - val_accuracy: 0.8126 - val_mse: 0.1628 - val_mae: 0.1988\n",
            "Epoch 14/50\n",
            "320/320 [==============================] - 21s 66ms/step - loss: 0.2116 - accuracy: 0.9292 - mse: 0.0578 - mae: 0.1136 - val_loss: 0.6940 - val_accuracy: 0.7418 - val_mse: 0.1985 - val_mae: 0.2742\n",
            "Epoch 15/50\n",
            "320/320 [==============================] - 22s 67ms/step - loss: 0.1974 - accuracy: 0.9338 - mse: 0.0532 - mae: 0.1091 - val_loss: 0.6201 - val_accuracy: 0.8129 - val_mse: 0.1626 - val_mae: 0.2300\n",
            "Epoch 16/50\n",
            "320/320 [==============================] - 21s 66ms/step - loss: 0.1761 - accuracy: 0.9421 - mse: 0.0473 - mae: 0.1005 - val_loss: 0.6790 - val_accuracy: 0.8132 - val_mse: 0.1709 - val_mae: 0.2214\n",
            "Epoch 17/50\n",
            "320/320 [==============================] - 21s 66ms/step - loss: 0.1816 - accuracy: 0.9358 - mse: 0.0501 - mae: 0.0989 - val_loss: 0.8822 - val_accuracy: 0.7343 - val_mse: 0.2401 - val_mae: 0.2986\n",
            "Epoch 18/50\n",
            "320/320 [==============================] - 21s 66ms/step - loss: 0.1626 - accuracy: 0.9435 - mse: 0.0435 - mae: 0.0891 - val_loss: 0.7832 - val_accuracy: 0.8018 - val_mse: 0.1868 - val_mae: 0.2216\n",
            "Epoch 19/50\n",
            "320/320 [==============================] - 21s 67ms/step - loss: 0.1533 - accuracy: 0.9499 - mse: 0.0403 - mae: 0.0815 - val_loss: 0.7149 - val_accuracy: 0.8045 - val_mse: 0.1784 - val_mae: 0.2276\n",
            "Epoch 20/50\n",
            "320/320 [==============================] - 21s 66ms/step - loss: 0.1469 - accuracy: 0.9510 - mse: 0.0390 - mae: 0.0806 - val_loss: 0.7064 - val_accuracy: 0.8089 - val_mse: 0.1762 - val_mae: 0.2351\n",
            "Epoch 20: early stopping\n"
          ]
        },
        {
          "output_type": "display_data",
          "data": {
            "text/plain": [
              "<Figure size 576x360 with 1 Axes>"
            ],
            "image/png": "[encoded data removed]"
          },
          "metadata": {
            "needs_background": "light"
          }
        }
      ],
      "source": [
        "history=base_model.fit()"
      ]
    },
    {
      "cell_type": "code",
      "execution_count": null,
      "metadata": {
        "id": "NXnJGhmM-Dxp"
      },
      "outputs": [],
      "source": [
        "data2015 = np.load(\"data_2015.npy\")\n",
        "labels2015 = np.load(\"labels_2015.npy\")"
      ]
    },
    {
      "cell_type": "code",
      "execution_count": null,
      "metadata": {
        "colab": {
          "base_uri": "https://localhost:8080/"
        },
        "id": "jpUoXB0L-Dxp",
        "outputId": "efc1f8a5-d10f-4afa-85e8-856d3ffe7552"
      },
      "outputs": [
        {
          "output_type": "execute_result",
          "data": {
            "text/plain": [
              "(28486, 120, 38)"
            ]
          },
          "metadata": {},
          "execution_count": 9
        }
      ],
      "source": [
        "data2015.shape"
      ]
    },
    {
      "cell_type": "code",
      "execution_count": null,
      "metadata": {
        "id": "h8GEjC8_Uufd",
        "colab": {
          "base_uri": "https://localhost:8080/"
        },
        "outputId": "ca6484c7-4288-4df8-80b9-0e65145264f4"
      },
      "outputs": [
        {
          "output_type": "stream",
          "name": "stdout",
          "text": [
            "445/445 [==============================] - 10s 21ms/step - loss: 0.6691 - accuracy: 0.8023 - mse: 0.1629 - mae: 0.2075\n"
          ]
        },
        {
          "output_type": "execute_result",
          "data": {
            "text/plain": [
              "[0.6690995693206787,\n",
              " 0.8022840619087219,\n",
              " 0.16289202868938446,\n",
              " 0.20747098326683044]"
            ]
          },
          "metadata": {},
          "execution_count": 13
        }
      ],
      "source": [
        "data_new = base_model.batch_prefetch_data(data2015,labels2015,split_data=False)\n",
        "base_model.evaluate(data_new)\n",
        "#base_model.evaluate(data_new,labels_new)"
      ]
    },
    {
      "cell_type": "code",
      "execution_count": null,
      "metadata": {
        "id": "CrsOmPlY-Dxr"
      },
      "outputs": [],
      "source": [
        "#Form batches (does not shuffle, cuts off remainder)\n",
        "batched_2015 = base_model.batch_prefetch_data(data2015,split_data=False)\n",
        "#Cutoff matching remainder from labels\n",
        "true_labels = labels2015[:-(labels2015.shape[0]%base_model.batch_size)]\n",
        "#Do predictions and get confusion matrix\n",
        "conf_matrix = base_model.predict_conf_matrix(batched_2015,true_labels,make_plots=True)"
      ]
    },
    {
      "cell_type": "code",
      "execution_count": null,
      "metadata": {
        "id": "pebutn87-Dxs"
      },
      "outputs": [],
      "source": [
        "#If you want to customize the confusion matrix plot, can uncomment below and use the plot handle below\n",
        "#conf_plt_handle=base_model.plot_confusion_matrix(conf_matrix)"
      ]
    },
    {
      "cell_type": "code",
      "execution_count": null,
      "metadata": {
        "colab": {
          "base_uri": "https://localhost:8080/"
        },
        "id": "dJbqDGxO-Dxt",
        "outputId": "c596e407-33f2-46e2-c7b3-7d6cad0af8d9"
      },
      "outputs": [
        {
          "output_type": "execute_result",
          "data": {
            "text/plain": [
              "array([[  90185,  473455],\n",
              "       [ 204978, 2648982]])"
            ]
          },
          "metadata": {},
          "execution_count": 16
        }
      ],
      "source": [
        "conf_matrix"
      ]
    },
    {
      "cell_type": "code",
      "execution_count": null,
      "metadata": {
        "id": "NxlmTtkt-Dxt"
      },
      "outputs": [],
      "source": [
        "#Example of using the __call__ dunder method to pass data\n",
        "call_preds=base_model(batched_2015)"
      ]
    },
    {
      "cell_type": "code",
      "source": [
        "import pandas as pd\n",
        "\n",
        "def calculate_statistics(conf_matrix):\n",
        "  tp = conf_matrix[1][1]\n",
        "  fp = conf_matrix[1][0]\n",
        "  tn = conf_matrix[0][0]\n",
        "  fn = conf_matrix[0][1]\n",
        "\n",
        "  # Precision - TP/(TP+FP)\n",
        "  precision = tp / np.sum([tp, fp])\n",
        "\n",
        "  # Recall - TP/(TP+FN)\n",
        "  recall = tp / np.sum([tp, fn])\n",
        "\n",
        "  # False Alarm Rate/Probability of False Alarm - FP/(FP+TN)\n",
        "  far = fp / np.sum([fp, tn])\n",
        "\n",
        "  # Heidke Skill Score (HSS) - 2*(TP * TN - FP * FN) / (TP+FN)*(FN+TN)+(TP+FP)*(FP+TN)\n",
        "  hss = (2 * ((tp*tn) - (fp*fn))) / (((tp+fn)*(fn+tn)) + ((tp+tn)*(fp+tn)))\n",
        "\n",
        "  return pd.DataFrame({\"precision\": precision, \"recall\": recall, \"far\": far, \"hss\": hss}, index=[0])"
      ],
      "metadata": {
        "id": "TJ15elvZFqpC"
      },
      "execution_count": null,
      "outputs": []
    },
    {
      "cell_type": "code",
      "source": [
        "calculate_statistics(conf_matrix)"
      ],
      "metadata": {
        "colab": {
          "base_uri": "https://localhost:8080/",
          "height": 129
        },
        "id": "rTb2TlYgHPAf",
        "outputId": "982788cb-4251-44fe-d2ab-4691b2f3823f"
      },
      "execution_count": null,
      "outputs": [
        {
          "output_type": "execute_result",
          "data": {
            "text/plain": [
              "   precision   recall       far       hss\n",
              "0   0.928178  0.84837  0.694457  0.110457"
            ],
            "text/html": [
              "\n",
              "  <div id=\"df-6af8f563-de77-45ab-b57e-ccd30b8f7f8d\">\n",
              "    <div class=\"colab-df-container\">\n",
              "      <div>\n",
              "<style scoped>\n",
              "    .dataframe tbody tr th:only-of-type {\n",
              "        vertical-align: middle;\n",
              "    }\n",
              "\n",
              "    .dataframe tbody tr th {\n",
              "        vertical-align: top;\n",
              "    }\n",
              "\n",
              "    .dataframe thead th {\n",
              "        text-align: right;\n",
              "    }\n",
              "</style>\n",
              "<table border=\"1\" class=\"dataframe\">\n",
              "  <thead>\n",
              "    <tr style=\"text-align: right;\">\n",
              "      <th></th>\n",
              "      <th>precision</th>\n",
              "      <th>recall</th>\n",
              "      <th>far</th>\n",
              "      <th>hss</th>\n",
              "    </tr>\n",
              "  </thead>\n",
              "  <tbody>\n",
              "    <tr>\n",
              "      <th>0</th>\n",
              "      <td>0.928178</td>\n",
              "      <td>0.84837</td>\n",
              "      <td>0.694457</td>\n",
              "      <td>0.110457</td>\n",
              "    </tr>\n",
              "  </tbody>\n",
              "</table>\n",
              "</div>\n",
              "      <button class=\"colab-df-convert\" onclick=\"convertToInteractive('df-6af8f563-de77-45ab-b57e-ccd30b8f7f8d')\"\n",
              "              title=\"Convert this dataframe to an interactive table.\"\n",
              "              style=\"display:none;\">\n",
              "        \n",
              "  <svg xmlns=\"http://www.w3.org/2000/svg\" height=\"24px\"viewBox=\"0 0 24 24\"\n",
              "       width=\"24px\">\n",
              "    <path d=\"M0 0h24v24H0V0z\" fill=\"none\"/>\n",
              "    <path d=\"M18.56 5.44l.94 2.06.94-2.06 2.06-.94-2.06-.94-.94-2.06-.94 2.06-2.06.94zm-11 1L8.5 8.5l.94-2.06 2.06-.94-2.06-.94L8.5 2.5l-.94 2.06-2.06.94zm10 10l.94 2.06.94-2.06 2.06-.94-2.06-.94-.94-2.06-.94 2.06-2.06.94z\"/><path d=\"M17.41 7.96l-1.37-1.37c-.4-.4-.92-.59-1.43-.59-.52 0-1.04.2-1.43.59L10.3 9.45l-7.72 7.72c-.78.78-.78 2.05 0 2.83L4 21.41c.39.39.9.59 1.41.59.51 0 1.02-.2 1.41-.59l7.78-7.78 2.81-2.81c.8-.78.8-2.07 0-2.86zM5.41 20L4 18.59l7.72-7.72 1.47 1.35L5.41 20z\"/>\n",
              "  </svg>\n",
              "      </button>\n",
              "      \n",
              "  <style>\n",
              "    .colab-df-container {\n",
              "      display:flex;\n",
              "      flex-wrap:wrap;\n",
              "      gap: 12px;\n",
              "    }\n",
              "\n",
              "    .colab-df-convert {\n",
              "      background-color: #E8F0FE;\n",
              "      border: none;\n",
              "      border-radius: 50%;\n",
              "      cursor: pointer;\n",
              "      display: none;\n",
              "      fill: #1967D2;\n",
              "      height: 32px;\n",
              "      padding: 0 0 0 0;\n",
              "      width: 32px;\n",
              "    }\n",
              "\n",
              "    .colab-df-convert:hover {\n",
              "      background-color: #E2EBFA;\n",
              "      box-shadow: 0px 1px 2px rgba(60, 64, 67, 0.3), 0px 1px 3px 1px rgba(60, 64, 67, 0.15);\n",
              "      fill: #174EA6;\n",
              "    }\n",
              "\n",
              "    [theme=dark] .colab-df-convert {\n",
              "      background-color: #3B4455;\n",
              "      fill: #D2E3FC;\n",
              "    }\n",
              "\n",
              "    [theme=dark] .colab-df-convert:hover {\n",
              "      background-color: #434B5C;\n",
              "      box-shadow: 0px 1px 3px 1px rgba(0, 0, 0, 0.15);\n",
              "      filter: drop-shadow(0px 1px 2px rgba(0, 0, 0, 0.3));\n",
              "      fill: #FFFFFF;\n",
              "    }\n",
              "  </style>\n",
              "\n",
              "      <script>\n",
              "        const buttonEl =\n",
              "          document.querySelector('#df-6af8f563-de77-45ab-b57e-ccd30b8f7f8d button.colab-df-convert');\n",
              "        buttonEl.style.display =\n",
              "          google.colab.kernel.accessAllowed ? 'block' : 'none';\n",
              "\n",
              "        async function convertToInteractive(key) {\n",
              "          const element = document.querySelector('#df-6af8f563-de77-45ab-b57e-ccd30b8f7f8d');\n",
              "          const dataTable =\n",
              "            await google.colab.kernel.invokeFunction('convertToInteractive',\n",
              "                                                     [key], {});\n",
              "          if (!dataTable) return;\n",
              "\n",
              "          const docLinkHtml = 'Like what you see? Visit the ' +\n",
              "            '<a target=\"_blank\" href=https://colab.research.google.com/notebooks/data_table.ipynb>data table notebook</a>'\n",
              "            + ' to learn more about interactive tables.';\n",
              "          element.innerHTML = '';\n",
              "          dataTable['output_type'] = 'display_data';\n",
              "          await google.colab.output.renderOutput(dataTable, element);\n",
              "          const docLink = document.createElement('div');\n",
              "          docLink.innerHTML = docLinkHtml;\n",
              "          element.appendChild(docLink);\n",
              "        }\n",
              "      </script>\n",
              "    </div>\n",
              "  </div>\n",
              "  "
            ]
          },
          "metadata": {},
          "execution_count": 32
        }
      ]
    },
    {
      "cell_type": "code",
      "source": [
        "keras.backend.clear_session()"
      ],
      "metadata": {
        "id": "oqkOENaJHSXV"
      },
      "execution_count": null,
      "outputs": []
    },
    {
      "cell_type": "code",
      "source": [
        "tuned_model = SolarLSTM(data2014, labels2014, \"./\", tune=True)"
      ],
      "metadata": {
        "id": "n66-9WADHrwv"
      },
      "execution_count": null,
      "outputs": []
    },
    {
      "cell_type": "code",
      "source": [
        "tuned_model.fit()"
      ],
      "metadata": {
        "colab": {
          "base_uri": "https://localhost:8080/",
          "height": 1000
        },
        "id": "ABq_7_PCI0AA",
        "outputId": "a5dff7a5-567d-4c38-d8e4-4e8530448a46"
      },
      "execution_count": null,
      "outputs": [
        {
          "output_type": "stream",
          "name": "stdout",
          "text": [
            "Trial 10 Complete [00h 06m 59s]\n",
            "val_accuracy: 0.8156917095184326\n",
            "\n",
            "Best val_accuracy So Far: 0.8275374174118042\n",
            "Total elapsed time: 01h 50m 10s\n",
            "INFO:tensorflow:Oracle triggered exit\n"
          ]
        },
        {
          "output_type": "stream",
          "name": "stderr",
          "text": [
            "INFO:tensorflow:Oracle triggered exit\n"
          ]
        },
        {
          "output_type": "stream",
          "name": "stdout",
          "text": [
            "Hyper Tuning Complete\n",
            "Epoch 1/50\n"
          ]
        },
        {
          "output_type": "stream",
          "name": "stderr",
          "text": [
            "/usr/local/lib/python3.7/dist-packages/tensorflow/python/util/dispatch.py:1082: UserWarning: \"`binary_crossentropy` received `from_logits=True`, but the `output` argument was produced by a sigmoid or softmax activation and thus does not represent logits. Was this intended?\"\n",
            "  return dispatch_target(*args, **kwargs)\n"
          ]
        },
        {
          "output_type": "stream",
          "name": "stdout",
          "text": [
            "320/320 [==============================] - ETA: 0s - loss: 0.3907 - accuracy: 0.8826 - mse: 0.1095 - mae: 0.2211"
          ]
        },
        {
          "output_type": "stream",
          "name": "stderr",
          "text": [
            "WARNING:absl:Found untraced functions such as lstm_cell_2_layer_call_fn, lstm_cell_2_layer_call_and_return_conditional_losses, lstm_cell_3_layer_call_fn, lstm_cell_3_layer_call_and_return_conditional_losses while saving (showing 4 of 4). These functions will not be directly callable after loading.\n"
          ]
        },
        {
          "output_type": "stream",
          "name": "stdout",
          "text": [
            "INFO:tensorflow:Assets written to: model_checkpoints/assets\n"
          ]
        },
        {
          "output_type": "stream",
          "name": "stderr",
          "text": [
            "INFO:tensorflow:Assets written to: model_checkpoints/assets\n",
            "WARNING:absl:<keras.layers.recurrent.LSTMCell object at 0x7f4da4b43850> has the same name 'LSTMCell' as a built-in Keras object. Consider renaming <class 'keras.layers.recurrent.LSTMCell'> to avoid naming conflicts when loading with `tf.keras.models.load_model`. If renaming is not possible, pass the object in the `custom_objects` parameter of the load function.\n",
            "WARNING:absl:<keras.layers.recurrent.LSTMCell object at 0x7f4d9eb8a690> has the same name 'LSTMCell' as a built-in Keras object. Consider renaming <class 'keras.layers.recurrent.LSTMCell'> to avoid naming conflicts when loading with `tf.keras.models.load_model`. If renaming is not possible, pass the object in the `custom_objects` parameter of the load function.\n"
          ]
        },
        {
          "output_type": "stream",
          "name": "stdout",
          "text": [
            "\b\b\b\b\b\b\b\b\b\b\b\b\b\b\b\b\b\b\b\b\b\b\b\b\b\b\b\b\b\b\b\b\b\b\b\b\b\b\b\b\b\b\b\b\b\b\b\b\b\b\b\b\b\b\b\b\b\b\b\b\b\b\b\b\b\b\b\b\b\b\b\b\b\b\b\b\b\b\b\b\b\b\b\b\b\b\b\b\b\b\b\b\b\b\b\b\b\b\b\b\b\b\b\b\b\b\b\b\b\b\b\b\r320/320 [==============================] - 34s 95ms/step - loss: 0.3907 - accuracy: 0.8826 - mse: 0.1095 - mae: 0.2211 - val_loss: 0.5295 - val_accuracy: 0.8094 - val_mse: 0.1634 - val_mae: 0.2496\n",
            "Epoch 2/50\n",
            "320/320 [==============================] - 22s 69ms/step - loss: 0.3341 - accuracy: 0.8996 - mse: 0.0922 - mae: 0.1833 - val_loss: 0.5519 - val_accuracy: 0.8094 - val_mse: 0.1668 - val_mae: 0.2391\n",
            "Epoch 3/50\n",
            "320/320 [==============================] - 22s 68ms/step - loss: 0.3180 - accuracy: 0.8996 - mse: 0.0886 - mae: 0.1743 - val_loss: 0.5776 - val_accuracy: 0.8094 - val_mse: 0.1699 - val_mae: 0.2281\n",
            "Epoch 4/50\n",
            "320/320 [==============================] - 21s 67ms/step - loss: 0.3006 - accuracy: 0.8938 - mse: 0.0831 - mae: 0.1658 - val_loss: 0.5367 - val_accuracy: 0.8094 - val_mse: 0.1589 - val_mae: 0.2173\n",
            "Epoch 5/50\n",
            "320/320 [==============================] - 21s 67ms/step - loss: 0.2843 - accuracy: 0.8936 - mse: 0.0789 - mae: 0.1564 - val_loss: 0.6038 - val_accuracy: 0.8158 - val_mse: 0.1661 - val_mae: 0.2137\n",
            "Epoch 6/50\n",
            "320/320 [==============================] - 21s 67ms/step - loss: 0.2655 - accuracy: 0.9144 - mse: 0.0719 - mae: 0.1460 - val_loss: 0.6692 - val_accuracy: 0.8094 - val_mse: 0.1784 - val_mae: 0.2157\n",
            "Epoch 7/50\n",
            "320/320 [==============================] - 22s 68ms/step - loss: 0.2815 - accuracy: 0.9131 - mse: 0.0761 - mae: 0.1524 - val_loss: 0.5891 - val_accuracy: 0.8097 - val_mse: 0.1701 - val_mae: 0.2289\n",
            "Epoch 8/50\n",
            "320/320 [==============================] - 22s 69ms/step - loss: 0.2459 - accuracy: 0.9273 - mse: 0.0648 - mae: 0.1345 - val_loss: 0.6608 - val_accuracy: 0.8094 - val_mse: 0.1769 - val_mae: 0.2198\n",
            "Epoch 9/50\n",
            "320/320 [==============================] - 23s 71ms/step - loss: 0.2346 - accuracy: 0.9299 - mse: 0.0616 - mae: 0.1255 - val_loss: 0.6974 - val_accuracy: 0.8094 - val_mse: 0.1803 - val_mae: 0.2237\n",
            "Epoch 10/50\n",
            "320/320 [==============================] - 23s 72ms/step - loss: 0.2365 - accuracy: 0.9262 - mse: 0.0624 - mae: 0.1258 - val_loss: 0.6617 - val_accuracy: 0.8094 - val_mse: 0.1759 - val_mae: 0.2304\n",
            "Epoch 11/50\n",
            "320/320 [==============================] - 23s 71ms/step - loss: 0.2579 - accuracy: 0.9152 - mse: 0.0701 - mae: 0.1374 - val_loss: 0.5810 - val_accuracy: 0.8094 - val_mse: 0.1673 - val_mae: 0.2424\n",
            "Epoch 12/50\n",
            "320/320 [==============================] - 24s 74ms/step - loss: 0.2290 - accuracy: 0.9236 - mse: 0.0635 - mae: 0.1296 - val_loss: 0.6377 - val_accuracy: 0.8065 - val_mse: 0.1725 - val_mae: 0.2408\n",
            "Epoch 13/50\n",
            "320/320 [==============================] - 23s 71ms/step - loss: 0.2133 - accuracy: 0.9320 - mse: 0.0575 - mae: 0.1189 - val_loss: 0.6473 - val_accuracy: 0.7859 - val_mse: 0.1770 - val_mae: 0.2558\n",
            "Epoch 14/50\n",
            "320/320 [==============================] - 22s 70ms/step - loss: 0.2042 - accuracy: 0.9355 - mse: 0.0550 - mae: 0.1125 - val_loss: 0.6899 - val_accuracy: 0.8094 - val_mse: 0.1777 - val_mae: 0.2453\n",
            "Epoch 15/50\n",
            "320/320 [==============================] - 23s 71ms/step - loss: 0.1985 - accuracy: 0.9354 - mse: 0.0539 - mae: 0.1093 - val_loss: 0.7145 - val_accuracy: 0.8047 - val_mse: 0.1866 - val_mae: 0.2578\n",
            "Epoch 16/50\n",
            "320/320 [==============================] - 22s 68ms/step - loss: 0.1902 - accuracy: 0.9378 - mse: 0.0517 - mae: 0.1047 - val_loss: 0.6792 - val_accuracy: 0.7518 - val_mse: 0.1908 - val_mae: 0.2859\n",
            "Epoch 16: early stopping\n"
          ]
        },
        {
          "output_type": "display_data",
          "data": {
            "text/plain": [
              "<Figure size 576x360 with 1 Axes>"
            ],
            "image/png": "[encoded data removed]"
          },
          "metadata": {
            "needs_background": "light"
          }
        },
        {
          "output_type": "execute_result",
          "data": {
            "text/plain": [
              "<keras.callbacks.History at 0x7f4d9ebb4650>"
            ]
          },
          "metadata": {},
          "execution_count": 6
        }
      ]
    },
    {
      "cell_type": "code",
      "source": [
        "#Form batches (does not shuffle, cuts off remainder)\n",
        "batched_2015 = tuned_model.batch_prefetch_data(data2015,split_data=False)\n",
        "#Cutoff matching remainder from labels\n",
        "true_labels = labels2015[:-(labels2015.shape[0]%tuned_model.batch_size)]"
      ],
      "metadata": {
        "id": "HvQOPbinpi9a"
      },
      "execution_count": null,
      "outputs": []
    },
    {
      "cell_type": "code",
      "source": [
        "conf_matrix = tuned_model.predict_conf_matrix(batched_2015,true_labels,make_plots=True)"
      ],
      "metadata": {
        "colab": {
          "base_uri": "https://localhost:8080/",
          "height": 290
        },
        "id": "m-XMZyf6I4YG",
        "outputId": "dbfa3ea3-83f0-4208-b2d4-f1c750763aca"
      },
      "execution_count": null,
      "outputs": [
        {
          "output_type": "display_data",
          "data": {
            "text/plain": [
              "<Figure size 432x288 with 2 Axes>"
            ],
            "image/png": "[encoded data removed]"
          },
          "metadata": {
            "needs_background": "light"
          }
        }
      ]
    },
    {
      "cell_type": "code",
      "source": [
        "calculate_statistics(conf_matrix)"
      ],
      "metadata": {
        "colab": {
          "base_uri": "https://localhost:8080/",
          "height": 81
        },
        "id": "Mi-VaL6epXf3",
        "outputId": "8eb8b5a5-5325-4c34-9b0a-2cb0adf1e658"
      },
      "execution_count": null,
      "outputs": [
        {
          "output_type": "execute_result",
          "data": {
            "text/plain": [
              "   precision    recall      far       hss\n",
              "0   0.927086  0.839449  0.78322  0.037748"
            ],
            "text/html": [
              "\n",
              "  <div id=\"df-ab07f2e0-0734-4e75-898e-e64b6ad72339\">\n",
              "    <div class=\"colab-df-container\">\n",
              "      <div>\n",
              "<style scoped>\n",
              "    .dataframe tbody tr th:only-of-type {\n",
              "        vertical-align: middle;\n",
              "    }\n",
              "\n",
              "    .dataframe tbody tr th {\n",
              "        vertical-align: top;\n",
              "    }\n",
              "\n",
              "    .dataframe thead th {\n",
              "        text-align: right;\n",
              "    }\n",
              "</style>\n",
              "<table border=\"1\" class=\"dataframe\">\n",
              "  <thead>\n",
              "    <tr style=\"text-align: right;\">\n",
              "      <th></th>\n",
              "      <th>precision</th>\n",
              "      <th>recall</th>\n",
              "      <th>far</th>\n",
              "      <th>hss</th>\n",
              "    </tr>\n",
              "  </thead>\n",
              "  <tbody>\n",
              "    <tr>\n",
              "      <th>0</th>\n",
              "      <td>0.927086</td>\n",
              "      <td>0.839449</td>\n",
              "      <td>0.78322</td>\n",
              "      <td>0.037748</td>\n",
              "    </tr>\n",
              "  </tbody>\n",
              "</table>\n",
              "</div>\n",
              "      <button class=\"colab-df-convert\" onclick=\"convertToInteractive('df-ab07f2e0-0734-4e75-898e-e64b6ad72339')\"\n",
              "              title=\"Convert this dataframe to an interactive table.\"\n",
              "              style=\"display:none;\">\n",
              "        \n",
              "  <svg xmlns=\"http://www.w3.org/2000/svg\" height=\"24px\"viewBox=\"0 0 24 24\"\n",
              "       width=\"24px\">\n",
              "    <path d=\"M0 0h24v24H0V0z\" fill=\"none\"/>\n",
              "    <path d=\"M18.56 5.44l.94 2.06.94-2.06 2.06-.94-2.06-.94-.94-2.06-.94 2.06-2.06.94zm-11 1L8.5 8.5l.94-2.06 2.06-.94-2.06-.94L8.5 2.5l-.94 2.06-2.06.94zm10 10l.94 2.06.94-2.06 2.06-.94-2.06-.94-.94-2.06-.94 2.06-2.06.94z\"/><path d=\"M17.41 7.96l-1.37-1.37c-.4-.4-.92-.59-1.43-.59-.52 0-1.04.2-1.43.59L10.3 9.45l-7.72 7.72c-.78.78-.78 2.05 0 2.83L4 21.41c.39.39.9.59 1.41.59.51 0 1.02-.2 1.41-.59l7.78-7.78 2.81-2.81c.8-.78.8-2.07 0-2.86zM5.41 20L4 18.59l7.72-7.72 1.47 1.35L5.41 20z\"/>\n",
              "  </svg>\n",
              "      </button>\n",
              "      \n",
              "  <style>\n",
              "    .colab-df-container {\n",
              "      display:flex;\n",
              "      flex-wrap:wrap;\n",
              "      gap: 12px;\n",
              "    }\n",
              "\n",
              "    .colab-df-convert {\n",
              "      background-color: #E8F0FE;\n",
              "      border: none;\n",
              "      border-radius: 50%;\n",
              "      cursor: pointer;\n",
              "      display: none;\n",
              "      fill: #1967D2;\n",
              "      height: 32px;\n",
              "      padding: 0 0 0 0;\n",
              "      width: 32px;\n",
              "    }\n",
              "\n",
              "    .colab-df-convert:hover {\n",
              "      background-color: #E2EBFA;\n",
              "      box-shadow: 0px 1px 2px rgba(60, 64, 67, 0.3), 0px 1px 3px 1px rgba(60, 64, 67, 0.15);\n",
              "      fill: #174EA6;\n",
              "    }\n",
              "\n",
              "    [theme=dark] .colab-df-convert {\n",
              "      background-color: #3B4455;\n",
              "      fill: #D2E3FC;\n",
              "    }\n",
              "\n",
              "    [theme=dark] .colab-df-convert:hover {\n",
              "      background-color: #434B5C;\n",
              "      box-shadow: 0px 1px 3px 1px rgba(0, 0, 0, 0.15);\n",
              "      filter: drop-shadow(0px 1px 2px rgba(0, 0, 0, 0.3));\n",
              "      fill: #FFFFFF;\n",
              "    }\n",
              "  </style>\n",
              "\n",
              "      <script>\n",
              "        const buttonEl =\n",
              "          document.querySelector('#df-ab07f2e0-0734-4e75-898e-e64b6ad72339 button.colab-df-convert');\n",
              "        buttonEl.style.display =\n",
              "          google.colab.kernel.accessAllowed ? 'block' : 'none';\n",
              "\n",
              "        async function convertToInteractive(key) {\n",
              "          const element = document.querySelector('#df-ab07f2e0-0734-4e75-898e-e64b6ad72339');\n",
              "          const dataTable =\n",
              "            await google.colab.kernel.invokeFunction('convertToInteractive',\n",
              "                                                     [key], {});\n",
              "          if (!dataTable) return;\n",
              "\n",
              "          const docLinkHtml = 'Like what you see? Visit the ' +\n",
              "            '<a target=\"_blank\" href=https://colab.research.google.com/notebooks/data_table.ipynb>data table notebook</a>'\n",
              "            + ' to learn more about interactive tables.';\n",
              "          element.innerHTML = '';\n",
              "          dataTable['output_type'] = 'display_data';\n",
              "          await google.colab.output.renderOutput(dataTable, element);\n",
              "          const docLink = document.createElement('div');\n",
              "          docLink.innerHTML = docLinkHtml;\n",
              "          element.appendChild(docLink);\n",
              "        }\n",
              "      </script>\n",
              "    </div>\n",
              "  </div>\n",
              "  "
            ]
          },
          "metadata": {},
          "execution_count": 16
        }
      ]
    },
    {
      "cell_type": "code",
      "source": [
        "tuned_model.model.summary()"
      ],
      "metadata": {
        "colab": {
          "base_uri": "https://localhost:8080/"
        },
        "id": "8uM0OL9QpujF",
        "outputId": "a7bfe20a-3d2b-44f9-8d73-3d30dbe2ff3a"
      },
      "execution_count": null,
      "outputs": [
        {
          "output_type": "stream",
          "name": "stdout",
          "text": [
            "Model: \"sequential_1\"\n",
            "_________________________________________________________________\n",
            " Layer (type)                Output Shape              Param #   \n",
            "=================================================================\n",
            " lstm_2 (LSTM)               (64, 120, 16)             3520      \n",
            "                                                                 \n",
            " lstm_3 (LSTM)               (64, 120, 16)             2112      \n",
            "                                                                 \n",
            " dropout_1 (Dropout)         (64, 120, 16)             0         \n",
            "                                                                 \n",
            " dense_1 (Dense)             (64, 120, 1)              17        \n",
            "                                                                 \n",
            "=================================================================\n",
            "Total params: 5,649\n",
            "Trainable params: 5,649\n",
            "Non-trainable params: 0\n",
            "_________________________________________________________________\n"
          ]
        }
      ]
    },
    {
      "cell_type": "markdown",
      "source": [
        "# Models for ONLY Magnetic Field Parameters\n",
        "\n",
        "In DataSelection() set the following arguments:\n",
        "\n",
        "* use_all=False\n",
        "* select_columns=[magnetic field parameters]"
      ],
      "metadata": {
        "id": "wetBz_EiNHYJ"
      }
    },
    {
      "cell_type": "code",
      "source": [
        "mf_parameters = [\"TOTUSJH\", \"TOTBSQ\", \"TOTPOT\", \"TOTUSJZ\", \"ABSNJZH\", \"SAVNCPP\",\n",
        "                 \"USFLUX\", \"TOTFZ\", \"MEANPOT\", \"EPSZ\", \"MEANSHR\", \"SHRGT45\", \n",
        "                 \"MEANGAM\", \"MEANGBT\", \"MEANGBZ\", \"MEANGBH\", \"MEANJZH\", \"TOTFY\",\n",
        "                 \"MEANJZD\", \"MEANALP\", \"TOTFX\", \"EPSY\", \"EPSX\", \"R_VALUE\"]"
      ],
      "metadata": {
        "id": "kcnRhTHHNgb5"
      },
      "execution_count": 2,
      "outputs": []
    },
    {
      "cell_type": "markdown",
      "source": [
        "## Creating Data"
      ],
      "metadata": {
        "id": "OX0yhFFYUWzF"
      }
    },
    {
      "cell_type": "code",
      "execution_count": 3,
      "metadata": {
        "colab": {
          "base_uri": "https://localhost:8080/"
        },
        "outputId": "eb814aad-d2b5-49bd-bfb3-7a8bef1ac4e4",
        "id": "LHepG4AUNDtX"
      },
      "outputs": [
        {
          "output_type": "stream",
          "name": "stdout",
          "text": [
            "Num GB used in data array: 0.0\n",
            "Num GB used in data array: 0.001201629638671875\n",
            "Num GB used in data array: 0.001201629638671875\n",
            "Num GB used in data array: 0.0016951560974121094\n",
            "Num GB used in data array: 0.0016951560974121094\n",
            "Num GB used in data array: 0.003926753997802734\n",
            "Num GB used in data array: 0.003926753997802734\n",
            "Num GB used in data array: 0.007402896881103516\n",
            "Num GB used in data array: 0.007402896881103516\n",
            "Num GB used in data array: 0.008776187896728516\n",
            "Num GB used in data array: 0.008776187896728516\n",
            "Num GB used in data array: 0.009806156158447266\n",
            "Num GB used in data array: 0.009806156158447266\n",
            "Num GB used in data array: 0.009806156158447266\n",
            "Num GB used in data array: 0.010600090026855469\n",
            "Num GB used in data array: 0.010600090026855469\n",
            "Num GB used in data array: 0.014526844024658203\n",
            "Num GB used in data array: 0.014526844024658203\n",
            "Num GB used in data array: 0.01476287841796875\n",
            "Num GB used in data array: 0.01476287841796875\n",
            "Num GB used in data array: 0.016930103302001953\n",
            "Num GB used in data array: 0.016930103302001953\n",
            "Num GB used in data array: 0.018131732940673828\n",
            "Num GB used in data array: 0.018131732940673828\n",
            "Num GB used in data array: 0.025556087493896484\n",
            "Num GB used in data array: 0.025556087493896484\n",
            "Num GB used in data array: 0.02675771713256836\n",
            "Num GB used in data array: 0.02675771713256836\n",
            "Num GB used in data array: 0.03021240234375\n",
            "Num GB used in data array: 0.03021240234375\n",
            "Num GB used in data array: 0.03021240234375\n",
            "Num GB used in data array: 0.03542661666870117\n",
            "Num GB used in data array: 0.03542661666870117\n",
            "Num GB used in data array: 0.03609180450439453\n",
            "Num GB used in data array: 0.03609180450439453\n",
            "Num GB used in data array: 0.06585359573364258\n",
            "Num GB used in data array: 0.06585359573364258\n",
            "Num GB used in data array: 0.06892204284667969\n",
            "Num GB used in data array: 0.06892204284667969\n",
            "Num GB used in data array: 0.06915807723999023\n",
            "Num GB used in data array: 0.06915807723999023\n",
            "Num GB used in data array: 0.06928682327270508\n",
            "Num GB used in data array: 0.06928682327270508\n",
            "Num GB used in data array: 0.07016658782958984\n",
            "Num GB used in data array: 0.07016658782958984\n",
            "Num GB used in data array: 0.07136821746826172\n",
            "Num GB used in data array: 0.07136821746826172\n",
            "Num GB used in data array: 0.07272005081176758\n",
            "Num GB used in data array: 0.07272005081176758\n",
            "Num GB used in data array: 0.08003711700439453\n",
            "Num GB used in data array: 0.08003711700439453\n",
            "Num GB used in data array: 0.08048772811889648\n",
            "Num GB used in data array: 0.08048772811889648\n",
            "Num GB used in data array: 0.08168935775756836\n",
            "Num GB used in data array: 0.08168935775756836\n",
            "Num GB used in data array: 0.08289098739624023\n",
            "Num GB used in data array: 0.08289098739624023\n",
            "Num GB used in data array: 0.08430719375610352\n",
            "Num GB used in data array: 0.08430719375610352\n",
            "Num GB used in data array: 0.08550882339477539\n",
            "Num GB used in data array: 0.08550882339477539\n",
            "Num GB used in data array: 0.08671045303344727\n",
            "Num GB used in data array: 0.08671045303344727\n",
            "Num GB used in data array: 0.08791208267211914\n",
            "Num GB used in data array: 0.08791208267211914\n",
            "Num GB used in data array: 0.09711742401123047\n",
            "Num GB used in data array: 0.09711742401123047\n",
            "Num GB used in data array: 0.09831905364990234\n",
            "Num GB used in data array: 0.09831905364990234\n",
            "Num GB used in data array: 0.0990915298461914\n",
            "Num GB used in data array: 0.0990915298461914\n",
            "Num GB used in data array: 0.09943485260009766\n",
            "Num GB used in data array: 0.09943485260009766\n",
            "Num GB used in data array: 0.1032114028930664\n",
            "Num GB used in data array: 0.1032114028930664\n",
            "Num GB used in data array: 0.10503530502319336\n",
            "Num GB used in data array: 0.10503530502319336\n",
            "Num GB used in data array: 0.1058506965637207\n",
            "Num GB used in data array: 0.1058506965637207\n",
            "Num GB used in data array: 0.10600090026855469\n",
            "Num GB used in data array: 0.10600090026855469\n",
            "Num GB used in data array: 0.10600090026855469\n",
            "Num GB used in data array: 0.10600090026855469\n",
            "Num GB used in data array: 0.10600090026855469\n",
            "Num GB used in data array: 0.10600090026855469\n",
            "Num GB used in data array: 0.10600090026855469\n",
            "Num GB used in data array: 0.10600090026855469\n",
            "Num GB used in data array: 0.10600090026855469\n",
            "Num GB used in data array: 0.10600090026855469\n",
            "Num GB used in data array: 0.10600090026855469\n",
            "Num GB used in data array: 0.10600090026855469\n",
            "Num GB used in data array: 0.10600090026855469\n",
            "Num GB used in data array: 0.10600090026855469\n",
            "Num GB used in data array: 0.10600090026855469\n",
            "Num GB used in data array: 0.10600090026855469\n",
            "Num GB used in data array: 0.10600090026855469\n",
            "Num GB used in data array: 0.10600090026855469\n",
            "Num GB used in data array: 0.10600090026855469\n",
            "Num GB used in data array: 0.10600090026855469\n",
            "Num GB used in data array: 0.10600090026855469\n",
            "Num GB used in data array: 0.10600090026855469\n",
            "Num GB used in data array: 0.10600090026855469\n",
            "Num GB used in data array: 0.10600090026855469\n",
            "Num GB used in data array: 0.10600090026855469\n",
            "Num GB used in data array: 0.10600090026855469\n",
            "Num GB used in data array: 0.10600090026855469\n",
            "Num GB used in data array: 0.10600090026855469\n",
            "Num GB used in data array: 0.10600090026855469\n",
            "Num GB used in data array: 0.10600090026855469\n",
            "Num GB used in data array: 0.10600090026855469\n",
            "Num GB used in data array: 0.10600090026855469\n",
            "Num GB used in data array: 0.10600090026855469\n",
            "Num GB used in data array: 0.10600090026855469\n",
            "Num GB used in data array: 0.10600090026855469\n",
            "Num GB used in data array: 0.10600090026855469\n",
            "Num GB used in data array: 0.10600090026855469\n",
            "Num GB used in data array: 0.10600090026855469\n",
            "Num GB used in data array: 0.10600090026855469\n",
            "Num GB used in data array: 0.10600090026855469\n",
            "Num GB used in data array: 0.10600090026855469\n",
            "Num GB used in data array: 0.1121377944946289\n",
            "Num GB used in data array: 0.1121377944946289\n",
            "Num GB used in data array: 0.1123952865600586\n",
            "Num GB used in data array: 0.1123952865600586\n",
            "Num GB used in data array: 0.1123952865600586\n",
            "Num GB used in data array: 0.11941194534301758\n",
            "Num GB used in data array: 0.11941194534301758\n",
            "Num GB used in data array: 0.11941194534301758\n",
            "Num GB used in data array: 0.12134313583374023\n",
            "Num GB used in data array: 0.12134313583374023\n",
            "Num GB used in data array: 0.12788772583007812\n",
            "Num GB used in data array: 0.12788772583007812\n",
            "Num GB used in data array: 0.13773679733276367\n",
            "Num GB used in data array: 0.13773679733276367\n",
            "Num GB used in data array: 0.16543865203857422\n",
            "Num GB used in data array: 0.16543865203857422\n",
            "Num GB used in data array: 0.19054412841796875\n",
            "Num GB used in data array: 0.19054412841796875\n",
            "Num GB used in data array: 0.19588708877563477\n",
            "Num GB used in data array: 0.19588708877563477\n",
            "Num GB used in data array: 0.19633769989013672\n",
            "Num GB used in data array: 0.19633769989013672\n",
            "Num GB used in data array: 0.19665956497192383\n",
            "Num GB used in data array: 0.19665956497192383\n",
            "Num GB used in data array: 0.19672393798828125\n",
            "Num GB used in data array: 0.19672393798828125\n",
            "Num GB used in data array: 0.19672393798828125\n",
            "Num GB used in data array: 0.2086329460144043\n",
            "Num GB used in data array: 0.2086329460144043\n",
            "Num GB used in data array: 0.20977020263671875\n",
            "Num GB used in data array: 0.20977020263671875\n",
            "Num GB used in data array: 0.21886825561523438\n",
            "Num GB used in data array: 0.21886825561523438\n",
            "Num GB used in data array: 0.21944761276245117\n",
            "Num GB used in data array: 0.21944761276245117\n",
            "Num GB used in data array: 0.21974802017211914\n",
            "Num GB used in data array: 0.21974802017211914\n",
            "Num GB used in data array: 0.21974802017211914\n",
            "Num GB used in data array: 0.21974802017211914\n",
            "Num GB used in data array: 0.22296667098999023\n",
            "Num GB used in data array: 0.22296667098999023\n",
            "Num GB used in data array: 0.23084163665771484\n",
            "Num GB used in data array: 0.23084163665771484\n",
            "Num GB used in data array: 0.23084163665771484\n",
            "Num GB used in data array: 0.23084163665771484\n",
            "Num GB used in data array: 0.23084163665771484\n",
            "Num GB used in data array: 0.23084163665771484\n",
            "Num GB used in data array: 0.23084163665771484\n",
            "Num GB used in data array: 0.23084163665771484\n",
            "Num GB used in data array: 0.23084163665771484\n",
            "Num GB used in data array: 0.23084163665771484\n",
            "Num GB used in data array: 0.23084163665771484\n",
            "Num GB used in data array: 0.23084163665771484\n",
            "Num GB used in data array: 0.23084163665771484\n",
            "Num GB used in data array: 0.23084163665771484\n",
            "Num GB used in data array: 0.23084163665771484\n",
            "Num GB used in data array: 0.23084163665771484\n",
            "Num GB used in data array: 0.23084163665771484\n",
            "Num GB used in data array: 0.23084163665771484\n",
            "Num GB used in data array: 0.2516341209411621\n",
            "Num GB used in data array: 0.2516341209411621\n",
            "Num GB used in data array: 0.25504589080810547\n",
            "Num GB used in data array: 0.25504589080810547\n",
            "Num GB used in data array: 0.25504589080810547\n",
            "Num GB used in data array: 0.27489423751831055\n",
            "Num GB used in data array: 0.27489423751831055\n",
            "Num GB used in data array: 0.2937126159667969\n",
            "Num GB used in data array: 0.2937126159667969\n",
            "Num GB used in data array: 0.2937126159667969\n",
            "Num GB used in data array: 0.3149986267089844\n",
            "Num GB used in data array: 0.3149986267089844\n",
            "Num GB used in data array: 0.36420106887817383\n",
            "Num GB used in data array: 0.36420106887817383\n",
            "Num GB used in data array: 0.36420106887817383\n",
            "Num GB used in data array: 0.3923964500427246\n",
            "Num GB used in data array: 0.3923964500427246\n",
            "Num GB used in data array: 0.4062795639038086\n",
            "Num GB used in data array: 0.4062795639038086\n",
            "Num GB used in data array: 0.4222440719604492\n",
            "Num GB used in data array: 0.4222440719604492\n",
            "Num GB used in data array: 0.42278051376342773\n",
            "Num GB used in data array: 0.42278051376342773\n",
            "Num GB used in data array: 0.4256129264831543\n",
            "Num GB used in data array: 0.4256129264831543\n",
            "Num GB used in data array: 0.4263639450073242\n",
            "Num GB used in data array: 0.4263639450073242\n",
            "Num GB used in data array: 0.4383373260498047\n",
            "Num GB used in data array: 0.4383373260498047\n",
            "Num GB used in data array: 0.4471564292907715\n",
            "Num GB used in data array: 0.4471564292907715\n",
            "Num GB used in data array: 0.4471564292907715\n",
            "Num GB used in data array: 0.44792890548706055\n",
            "Num GB used in data array: 0.44792890548706055\n",
            "Num GB used in data array: 0.4555678367614746\n",
            "Num GB used in data array: 0.4555678367614746\n",
            "Num GB used in data array: 0.4555678367614746\n",
            "Num GB used in data array: 0.4840850830078125\n",
            "Num GB used in data array: 0.4840850830078125\n",
            "Num GB used in data array: 0.49230337142944336\n",
            "Num GB used in data array: 0.49230337142944336\n",
            "Num GB used in data array: 0.5345320701599121\n",
            "Num GB used in data array: 0.5345320701599121\n",
            "Num GB used in data array: 0.5410122871398926\n",
            "Num GB used in data array: 0.5410122871398926\n",
            "Num GB used in data array: 0.5410122871398926\n",
            "Num GB used in data array: 0.5411839485168457\n",
            "Num GB used in data array: 0.5411839485168457\n",
            "Num GB used in data array: 0.5411839485168457\n",
            "Num GB used in data array: 0.5414199829101562\n",
            "Num GB used in data array: 0.5414199829101562\n",
            "Num GB used in data array: 0.5414199829101562\n",
            "Num GB used in data array: 0.5416560173034668\n",
            "Num GB used in data array: 0.5416560173034668\n",
            "Num GB used in data array: 0.5426430702209473\n",
            "Num GB used in data array: 0.5426430702209473\n",
            "Num GB used in data array: 0.5426430702209473\n",
            "Num GB used in data array: 0.5426430702209473\n",
            "Num GB used in data array: 0.5426430702209473\n",
            "Num GB used in data array: 0.5426430702209473\n",
            "Num GB used in data array: 0.5426430702209473\n",
            "Num GB used in data array: 0.5426430702209473\n",
            "Num GB used in data array: 0.5433082580566406\n",
            "Num GB used in data array: 0.5433082580566406\n",
            "Num GB used in data array: 0.5436086654663086\n",
            "Num GB used in data array: 0.5436086654663086\n",
            "Num GB used in data array: 0.5436086654663086\n",
            "Num GB used in data array: 0.5436086654663086\n",
            "Num GB used in data array: 0.5436086654663086\n",
            "Num GB used in data array: 0.5436086654663086\n",
            "Num GB used in data array: 0.5436086654663086\n",
            "Num GB used in data array: 0.5436086654663086\n",
            "Num GB used in data array: 0.5436086654663086\n",
            "Num GB used in data array: 0.5449390411376953\n",
            "Num GB used in data array: 0.5449390411376953\n",
            "Num GB used in data array: 0.5503678321838379\n",
            "Num GB used in data array: 0.5503678321838379\n",
            "Num GB used in data array: 0.5503678321838379\n",
            "Num GB used in data array: 0.5503678321838379\n",
            "Num GB used in data array: 0.5503678321838379\n",
            "Num GB used in data array: 0.5503678321838379\n",
            "Num GB used in data array: 0.5503678321838379\n",
            "Num GB used in data array: 0.5503678321838379\n",
            "Num GB used in data array: 0.5503678321838379\n",
            "Num GB used in data array: 0.5503678321838379\n",
            "Num GB used in data array: 0.5503678321838379\n",
            "Num GB used in data array: 0.5503678321838379\n",
            "Num GB used in data array: 0.5503678321838379\n",
            "Num GB used in data array: 0.5503678321838379\n",
            "Num GB used in data array: 0.5503678321838379\n",
            "Num GB used in data array: 0.5503678321838379\n",
            "Num GB used in data array: 0.5503678321838379\n",
            "Num GB used in data array: 0.5503678321838379\n",
            "Num GB used in data array: 0.5503678321838379\n",
            "Num GB used in data array: 0.5503678321838379\n",
            "Num GB used in data array: 0.5503678321838379\n",
            "Num GB used in data array: 0.5503678321838379\n",
            "Num GB used in data array: 0.5503678321838379\n",
            "Num GB used in data array: 0.5503678321838379\n",
            "Num GB used in data array: 0.5503678321838379\n",
            "Num GB used in data array: 0.5503678321838379\n",
            "Num GB used in data array: 0.5503678321838379\n",
            "Num GB used in data array: 0.5503678321838379\n",
            "Num GB used in data array: 0.5503678321838379\n",
            "Num GB used in data array: 0.5503678321838379\n",
            "Num GB used in data array: 0.5503678321838379\n",
            "Num GB used in data array: 0.5503678321838379\n",
            "Num GB used in data array: 0.5503678321838379\n",
            "Num GB used in data array: 0.5503678321838379\n",
            "Num GB used in data array: 0.5503678321838379\n",
            "Num GB used in data array: 0.5503678321838379\n",
            "Num GB used in data array: 0.5503678321838379\n",
            "Num GB used in data array: 0.5503678321838379\n",
            "Num GB used in data array: 0.5503678321838379\n",
            "Num GB used in data array: 0.5503678321838379\n",
            "Num GB used in data array: 0.5503678321838379\n",
            "Num GB used in data array: 0.5503678321838379\n",
            "Num GB used in data array: 0.5503678321838379\n",
            "Num GB used in data array: 0.5503678321838379\n",
            "Num GB used in data array: 0.5503678321838379\n",
            "Num GB used in data array: 0.5503678321838379\n",
            "Num GB used in data array: 0.5503678321838379\n",
            "Num GB used in data array: 0.5503678321838379\n",
            "Num GB used in data array: 0.5503678321838379\n",
            "Num GB used in data array: 0.5503678321838379\n",
            "Num GB used in data array: 0.5503678321838379\n",
            "Num GB used in data array: 0.5503678321838379\n",
            "Num GB used in data array: 0.5503678321838379\n",
            "Num GB used in data array: 0.5503678321838379\n",
            "Num GB used in data array: 0.5503678321838379\n",
            "Num GB used in data array: 0.5503678321838379\n",
            "Num GB used in data array: 0.5503678321838379\n",
            "Num GB used in data array: 0.5503678321838379\n",
            "Num GB used in data array: 0.5503678321838379\n",
            "Num GB used in data array: 0.5503678321838379\n",
            "Num GB used in data array: 0.5503678321838379\n",
            "Num GB used in data array: 0.5503678321838379\n",
            "Num GB used in data array: 0.5503678321838379\n",
            "Num GB used in data array: 0.5503678321838379\n",
            "Num GB used in data array: 0.5503678321838379\n",
            "Num GB used in data array: 0.5503678321838379\n",
            "Num GB used in data array: 0.5503678321838379\n",
            "Num GB used in data array: 0.5503678321838379\n",
            "Num GB used in data array: 0.5503678321838379\n",
            "Num GB used in data array: 0.5503678321838379\n",
            "Num GB used in data array: 0.5503678321838379\n",
            "Num GB used in data array: 0.5503678321838379\n",
            "Num GB used in data array: 0.5503678321838379\n",
            "Num GB used in data array: 0.5503678321838379\n",
            "Num GB used in data array: 0.5503678321838379\n",
            "Num GB used in data array: 0.5503678321838379\n",
            "Num GB used in data array: 0.5503678321838379\n",
            "Num GB used in data array: 0.5503678321838379\n",
            "Num GB used in data array: 0.5503678321838379\n",
            "Num GB used in data array: 0.5503678321838379\n",
            "Num GB used in data array: 0.5503678321838379\n",
            "Num GB used in data array: 0.5503678321838379\n",
            "Num GB used in data array: 0.5503678321838379\n",
            "Num GB used in data array: 0.5503678321838379\n",
            "Num GB used in data array: 0.5503678321838379\n",
            "Num GB used in data array: 0.5503678321838379\n",
            "Num GB used in data array: 0.5503678321838379\n",
            "Num GB used in data array: 0.5503678321838379\n",
            "Num GB used in data array: 0.5503678321838379\n",
            "Num GB used in data array: 0.5503678321838379\n",
            "Num GB used in data array: 0.5503678321838379\n",
            "Num GB used in data array: 0.5503678321838379\n",
            "Num GB used in data array: 0.5503678321838379\n",
            "Num GB used in data array: 0.5503678321838379\n",
            "Num GB used in data array: 0.5503678321838379\n",
            "Num GB used in data array: 0.5503678321838379\n",
            "Num GB used in data array: 0.5503678321838379\n",
            "Num GB used in data array: 0.5503678321838379\n",
            "Num GB used in data array: 0.5503678321838379\n",
            "Num GB used in data array: 0.5503678321838379\n",
            "Num GB used in data array: 0.5503678321838379\n",
            "Num GB used in data array: 0.5503678321838379\n",
            "Num GB used in data array: 0.5503678321838379\n",
            "Num GB used in data array: 0.5503678321838379\n",
            "Num GB used in data array: 0.5503678321838379\n",
            "Num GB used in data array: 0.5503678321838379\n",
            "Num GB used in data array: 0.5503678321838379\n",
            "Num GB used in data array: 0.5503678321838379\n",
            "Num GB used in data array: 0.5503678321838379\n",
            "Num GB used in data array: 0.5503678321838379\n",
            "Num GB used in data array: 0.5503678321838379\n",
            "Num GB used in data array: 0.5503678321838379\n",
            "Num GB used in data array: 0.5503678321838379\n",
            "Num GB used in data array: 0.5503678321838379\n",
            "Num GB used in data array: 0.5503678321838379\n",
            "Num GB used in data array: 0.5503678321838379\n",
            "Num GB used in data array: 0.5503678321838379\n",
            "Num GB used in data array: 0.5503678321838379\n",
            "Num GB used in data array: 0.5503678321838379\n",
            "Num GB used in data array: 0.5503678321838379\n",
            "Num GB used in data array: 0.5503678321838379\n",
            "Num GB used in data array: 0.5503678321838379\n",
            "Num GB used in data array: 0.5503678321838379\n",
            "Num GB used in data array: 0.5503678321838379\n",
            "Num GB used in data array: 0.5503678321838379\n",
            "Num GB used in data array: 0.5503678321838379\n",
            "Num GB used in data array: 0.5503678321838379\n",
            "Num GB used in data array: 0.5503678321838379\n",
            "Num GB used in data array: 0.5503678321838379\n",
            "Num GB used in data array: 0.5503678321838379\n",
            "Num GB used in data array: 0.5503678321838379\n",
            "Num GB used in data array: 0.5503678321838379\n",
            "Num GB used in data array: 0.5503678321838379\n"
          ]
        },
        {
          "output_type": "execute_result",
          "data": {
            "text/plain": [
              "<data_creation.DataSelection at 0x7fa1ae3a5210>"
            ]
          },
          "metadata": {},
          "execution_count": 3
        }
      ],
      "source": [
        "with open(\"/content/all_data.pkl\", \"rb\") as file:\n",
        "    data = pickle.load(file)\n",
        "\n",
        "DataSelection(data, 2014, \"./\", 24, use_all=False, select_columns=mf_parameters)"
      ]
    },
    {
      "cell_type": "code",
      "source": [
        "with open(\"norm_scaler.pkl\", \"rb\") as norm_file:\n",
        "    normalization = pickle.load(norm_file)\n",
        "\n",
        "with open(\"stand_scaler.pkl\", \"rb\") as stand_file:\n",
        "    standard = pickle.load(stand_file)\n",
        "\n",
        "DataSelection(data, 2015,\"./\", 24, use_all=False, select_columns=mf_parameters,\n",
        "              norm_scaler=normalization, stand_scaler=standard)"
      ],
      "metadata": {
        "colab": {
          "base_uri": "https://localhost:8080/"
        },
        "outputId": "3725d16a-663e-402e-826f-62d32a7de357",
        "id": "OkzYmlzhNDtq"
      },
      "execution_count": 4,
      "outputs": [
        {
          "output_type": "stream",
          "name": "stdout",
          "text": [
            "Num GB used in data array: 0.0\n",
            "Num GB used in data array: 0.001201629638671875\n",
            "Num GB used in data array: 0.001201629638671875\n",
            "Num GB used in data array: 0.0019741058349609375\n",
            "Num GB used in data array: 0.0019741058349609375\n",
            "Num GB used in data array: 0.006930828094482422\n",
            "Num GB used in data array: 0.006930828094482422\n",
            "Num GB used in data array: 0.011050701141357422\n",
            "Num GB used in data array: 0.011050701141357422\n",
            "Num GB used in data array: 0.015256404876708984\n",
            "Num GB used in data array: 0.015256404876708984\n",
            "Num GB used in data array: 0.019848346710205078\n",
            "Num GB used in data array: 0.019848346710205078\n",
            "Num GB used in data array: 0.021049976348876953\n",
            "Num GB used in data array: 0.021049976348876953\n",
            "Num GB used in data array: 0.022251605987548828\n",
            "Num GB used in data array: 0.022251605987548828\n",
            "Num GB used in data array: 0.029246807098388672\n",
            "Num GB used in data array: 0.029246807098388672\n",
            "Num GB used in data array: 0.02948284149169922\n",
            "Num GB used in data array: 0.02948284149169922\n",
            "Num GB used in data array: 0.030062198638916016\n",
            "Num GB used in data array: 0.030062198638916016\n",
            "Num GB used in data array: 0.030062198638916016\n",
            "Num GB used in data array: 0.03710031509399414\n",
            "Num GB used in data array: 0.03710031509399414\n",
            "Num GB used in data array: 0.038301944732666016\n",
            "Num GB used in data array: 0.038301944732666016\n",
            "Num GB used in data array: 0.03885984420776367\n",
            "Num GB used in data array: 0.03885984420776367\n",
            "Num GB used in data array: 0.03885984420776367\n",
            "Num GB used in data array: 0.04467487335205078\n",
            "Num GB used in data array: 0.04467487335205078\n",
            "Num GB used in data array: 0.04534006118774414\n",
            "Num GB used in data array: 0.04534006118774414\n",
            "Num GB used in data array: 0.07265567779541016\n",
            "Num GB used in data array: 0.07265567779541016\n",
            "Num GB used in data array: 0.07750511169433594\n",
            "Num GB used in data array: 0.07750511169433594\n",
            "Num GB used in data array: 0.07967233657836914\n",
            "Num GB used in data array: 0.07967233657836914\n",
            "Num GB used in data array: 0.07980108261108398\n",
            "Num GB used in data array: 0.07980108261108398\n",
            "Num GB used in data array: 0.07980108261108398\n",
            "Num GB used in data array: 0.08038043975830078\n",
            "Num GB used in data array: 0.08038043975830078\n",
            "Num GB used in data array: 0.08038043975830078\n",
            "Num GB used in data array: 0.08038043975830078\n",
            "Num GB used in data array: 0.08038043975830078\n",
            "Num GB used in data array: 0.08038043975830078\n",
            "Num GB used in data array: 0.08038043975830078\n",
            "Num GB used in data array: 0.08038043975830078\n",
            "Num GB used in data array: 0.08038043975830078\n",
            "Num GB used in data array: 0.08038043975830078\n",
            "Num GB used in data array: 0.08038043975830078\n",
            "Num GB used in data array: 0.08038043975830078\n",
            "Num GB used in data array: 0.08038043975830078\n",
            "Num GB used in data array: 0.08038043975830078\n",
            "Num GB used in data array: 0.08038043975830078\n",
            "Num GB used in data array: 0.08038043975830078\n",
            "Num GB used in data array: 0.08038043975830078\n",
            "Num GB used in data array: 0.08038043975830078\n",
            "Num GB used in data array: 0.08038043975830078\n",
            "Num GB used in data array: 0.08038043975830078\n",
            "Num GB used in data array: 0.08038043975830078\n",
            "Num GB used in data array: 0.08038043975830078\n",
            "Num GB used in data array: 0.08038043975830078\n",
            "Num GB used in data array: 0.08038043975830078\n",
            "Num GB used in data array: 0.08038043975830078\n",
            "Num GB used in data array: 0.08038043975830078\n",
            "Num GB used in data array: 0.08038043975830078\n",
            "Num GB used in data array: 0.08038043975830078\n",
            "Num GB used in data array: 0.08068084716796875\n",
            "Num GB used in data array: 0.08068084716796875\n",
            "Num GB used in data array: 0.08068084716796875\n",
            "Num GB used in data array: 0.08068084716796875\n",
            "Num GB used in data array: 0.08068084716796875\n",
            "Num GB used in data array: 0.08068084716796875\n",
            "Num GB used in data array: 0.08068084716796875\n",
            "Num GB used in data array: 0.08068084716796875\n",
            "Num GB used in data array: 0.08068084716796875\n",
            "Num GB used in data array: 0.08068084716796875\n",
            "Num GB used in data array: 0.08068084716796875\n",
            "Num GB used in data array: 0.08068084716796875\n",
            "Num GB used in data array: 0.08068084716796875\n",
            "Num GB used in data array: 0.08068084716796875\n",
            "Num GB used in data array: 0.08068084716796875\n",
            "Num GB used in data array: 0.08068084716796875\n",
            "Num GB used in data array: 0.08068084716796875\n",
            "Num GB used in data array: 0.08068084716796875\n",
            "Num GB used in data array: 0.08068084716796875\n",
            "Num GB used in data array: 0.08068084716796875\n",
            "Num GB used in data array: 0.08068084716796875\n",
            "Num GB used in data array: 0.08068084716796875\n",
            "Num GB used in data array: 0.08068084716796875\n",
            "Num GB used in data array: 0.08068084716796875\n",
            "Num GB used in data array: 0.08068084716796875\n",
            "Num GB used in data array: 0.08068084716796875\n",
            "Num GB used in data array: 0.08068084716796875\n",
            "Num GB used in data array: 0.08068084716796875\n",
            "Num GB used in data array: 0.08068084716796875\n",
            "Num GB used in data array: 0.08068084716796875\n",
            "Num GB used in data array: 0.08068084716796875\n",
            "Num GB used in data array: 0.08555173873901367\n",
            "Num GB used in data array: 0.08555173873901367\n",
            "Num GB used in data array: 0.08555173873901367\n",
            "Num GB used in data array: 0.08555173873901367\n",
            "Num GB used in data array: 0.08694648742675781\n",
            "Num GB used in data array: 0.08694648742675781\n",
            "Num GB used in data array: 0.08694648742675781\n",
            "Num GB used in data array: 0.08694648742675781\n",
            "Num GB used in data array: 0.08988618850708008\n",
            "Num GB used in data array: 0.08988618850708008\n",
            "Num GB used in data array: 0.09479999542236328\n",
            "Num GB used in data array: 0.09479999542236328\n",
            "Num GB used in data array: 0.1127171516418457\n",
            "Num GB used in data array: 0.1127171516418457\n",
            "Num GB used in data array: 0.1466202735900879\n",
            "Num GB used in data array: 0.1466202735900879\n",
            "Num GB used in data array: 0.15295028686523438\n",
            "Num GB used in data array: 0.15295028686523438\n",
            "Num GB used in data array: 0.15383005142211914\n",
            "Num GB used in data array: 0.15383005142211914\n",
            "Num GB used in data array: 0.15415191650390625\n",
            "Num GB used in data array: 0.15415191650390625\n",
            "Num GB used in data array: 0.15415191650390625\n",
            "Num GB used in data array: 0.15415191650390625\n",
            "Num GB used in data array: 0.16904354095458984\n",
            "Num GB used in data array: 0.16904354095458984\n",
            "Num GB used in data array: 0.1727128028869629\n",
            "Num GB used in data array: 0.1727128028869629\n",
            "Num GB used in data array: 0.18580198287963867\n",
            "Num GB used in data array: 0.18580198287963867\n",
            "Num GB used in data array: 0.19071578979492188\n",
            "Num GB used in data array: 0.19071578979492188\n",
            "Num GB used in data array: 0.19515752792358398\n",
            "Num GB used in data array: 0.19515752792358398\n",
            "Num GB used in data array: 0.19515752792358398\n",
            "Num GB used in data array: 0.19515752792358398\n",
            "Num GB used in data array: 0.19919157028198242\n",
            "Num GB used in data array: 0.19919157028198242\n",
            "Num GB used in data array: 0.2035689353942871\n",
            "Num GB used in data array: 0.2035689353942871\n",
            "Num GB used in data array: 0.2035689353942871\n",
            "Num GB used in data array: 0.2035689353942871\n",
            "Num GB used in data array: 0.2035689353942871\n",
            "Num GB used in data array: 0.2035689353942871\n",
            "Num GB used in data array: 0.2035689353942871\n",
            "Num GB used in data array: 0.2035689353942871\n",
            "Num GB used in data array: 0.20386934280395508\n",
            "Num GB used in data array: 0.20386934280395508\n",
            "Num GB used in data array: 0.2040410041809082\n",
            "Num GB used in data array: 0.2040410041809082\n",
            "Num GB used in data array: 0.2040410041809082\n",
            "Num GB used in data array: 0.2040410041809082\n",
            "Num GB used in data array: 0.2040410041809082\n",
            "Num GB used in data array: 0.2040410041809082\n",
            "Num GB used in data array: 0.2040410041809082\n",
            "Num GB used in data array: 0.2040410041809082\n",
            "Num GB used in data array: 0.2040410041809082\n",
            "Num GB used in data array: 0.2040410041809082\n",
            "Num GB used in data array: 0.21944761276245117\n",
            "Num GB used in data array: 0.21944761276245117\n",
            "Num GB used in data array: 0.22060632705688477\n",
            "Num GB used in data array: 0.22060632705688477\n",
            "Num GB used in data array: 0.22060632705688477\n",
            "Num GB used in data array: 0.23159265518188477\n",
            "Num GB used in data array: 0.23159265518188477\n",
            "Num GB used in data array: 0.24474620819091797\n",
            "Num GB used in data array: 0.24474620819091797\n",
            "Num GB used in data array: 0.24474620819091797\n",
            "Num GB used in data array: 0.2732419967651367\n",
            "Num GB used in data array: 0.2732419967651367\n",
            "Num GB used in data array: 0.3200840950012207\n",
            "Num GB used in data array: 0.3200840950012207\n",
            "Num GB used in data array: 0.3200840950012207\n",
            "Num GB used in data array: 0.3518843650817871\n",
            "Num GB used in data array: 0.3518843650817871\n",
            "Num GB used in data array: 0.3688359260559082\n",
            "Num GB used in data array: 0.3688359260559082\n",
            "Num GB used in data array: 0.3781270980834961\n",
            "Num GB used in data array: 0.3781270980834961\n",
            "Num GB used in data array: 0.3786635398864746\n",
            "Num GB used in data array: 0.3786635398864746\n",
            "Num GB used in data array: 0.3814530372619629\n",
            "Num GB used in data array: 0.3814530372619629\n",
            "Num GB used in data array: 0.3833198547363281\n",
            "Num GB used in data array: 0.3833198547363281\n",
            "Num GB used in data array: 0.399477481842041\n",
            "Num GB used in data array: 0.399477481842041\n",
            "Num GB used in data array: 0.41290998458862305\n",
            "Num GB used in data array: 0.41290998458862305\n",
            "Num GB used in data array: 0.41290998458862305\n",
            "Num GB used in data array: 0.4144763946533203\n",
            "Num GB used in data array: 0.4144763946533203\n",
            "Num GB used in data array: 0.42732954025268555\n",
            "Num GB used in data array: 0.42732954025268555\n",
            "Num GB used in data array: 0.42780160903930664\n",
            "Num GB used in data array: 0.42780160903930664\n",
            "Num GB used in data array: 0.4729485511779785\n",
            "Num GB used in data array: 0.4729485511779785\n",
            "Num GB used in data array: 0.49193859100341797\n",
            "Num GB used in data array: 0.49193859100341797\n",
            "Num GB used in data array: 0.556483268737793\n",
            "Num GB used in data array: 0.556483268737793\n",
            "Num GB used in data array: 0.5633282661437988\n",
            "Num GB used in data array: 0.5633282661437988\n",
            "Num GB used in data array: 0.565495491027832\n",
            "Num GB used in data array: 0.565495491027832\n",
            "Num GB used in data array: 0.5706238746643066\n",
            "Num GB used in data array: 0.5706238746643066\n",
            "Num GB used in data array: 0.5753660202026367\n",
            "Num GB used in data array: 0.5753660202026367\n",
            "Num GB used in data array: 0.5789709091186523\n",
            "Num GB used in data array: 0.5789709091186523\n",
            "Num GB used in data array: 0.5814170837402344\n",
            "Num GB used in data array: 0.5814170837402344\n",
            "Num GB used in data array: 0.583498477935791\n",
            "Num GB used in data array: 0.583498477935791\n",
            "Num GB used in data array: 0.5856013298034668\n",
            "Num GB used in data array: 0.5856013298034668\n",
            "Num GB used in data array: 0.5856013298034668\n",
            "Num GB used in data array: 0.5856013298034668\n",
            "Num GB used in data array: 0.5856013298034668\n",
            "Num GB used in data array: 0.5856013298034668\n",
            "Num GB used in data array: 0.5856013298034668\n",
            "Num GB used in data array: 0.5856013298034668\n",
            "Num GB used in data array: 0.5864596366882324\n",
            "Num GB used in data array: 0.5864596366882324\n",
            "Num GB used in data array: 0.5866098403930664\n",
            "Num GB used in data array: 0.5866098403930664\n",
            "Num GB used in data array: 0.5866098403930664\n",
            "Num GB used in data array: 0.5866098403930664\n",
            "Num GB used in data array: 0.5866098403930664\n",
            "Num GB used in data array: 0.5866098403930664\n",
            "Num GB used in data array: 0.5866098403930664\n",
            "Num GB used in data array: 0.5874037742614746\n",
            "Num GB used in data array: 0.5874037742614746\n",
            "Num GB used in data array: 0.5874037742614746\n",
            "Num GB used in data array: 0.5927896499633789\n",
            "Num GB used in data array: 0.5927896499633789\n",
            "Num GB used in data array: 0.6112432479858398\n",
            "Num GB used in data array: 0.6112432479858398\n",
            "Num GB used in data array: 0.6112432479858398\n",
            "Num GB used in data array: 0.6112432479858398\n",
            "Num GB used in data array: 0.6112432479858398\n",
            "Num GB used in data array: 0.6112432479858398\n",
            "Num GB used in data array: 0.6112432479858398\n",
            "Num GB used in data array: 0.6112432479858398\n",
            "Num GB used in data array: 0.6112432479858398\n",
            "Num GB used in data array: 0.6112432479858398\n",
            "Num GB used in data array: 0.6112432479858398\n",
            "Num GB used in data array: 0.6112432479858398\n",
            "Num GB used in data array: 0.6112432479858398\n",
            "Num GB used in data array: 0.6112432479858398\n",
            "Num GB used in data array: 0.6112432479858398\n",
            "Num GB used in data array: 0.6112432479858398\n",
            "Num GB used in data array: 0.6112432479858398\n",
            "Num GB used in data array: 0.6112432479858398\n",
            "Num GB used in data array: 0.6112432479858398\n",
            "Num GB used in data array: 0.6112432479858398\n",
            "Num GB used in data array: 0.6112432479858398\n",
            "Num GB used in data array: 0.6112432479858398\n",
            "Num GB used in data array: 0.6112432479858398\n",
            "Num GB used in data array: 0.6112432479858398\n",
            "Num GB used in data array: 0.6112432479858398\n",
            "Num GB used in data array: 0.6112432479858398\n",
            "Num GB used in data array: 0.6112432479858398\n",
            "Num GB used in data array: 0.6112432479858398\n",
            "Num GB used in data array: 0.6112432479858398\n",
            "Num GB used in data array: 0.6112432479858398\n",
            "Num GB used in data array: 0.6112432479858398\n",
            "Num GB used in data array: 0.6112432479858398\n",
            "Num GB used in data array: 0.6112432479858398\n",
            "Num GB used in data array: 0.6112432479858398\n",
            "Num GB used in data array: 0.6112432479858398\n",
            "Num GB used in data array: 0.6112432479858398\n",
            "Num GB used in data array: 0.6112432479858398\n",
            "Num GB used in data array: 0.6112432479858398\n",
            "Num GB used in data array: 0.6112432479858398\n",
            "Num GB used in data array: 0.6112432479858398\n",
            "Num GB used in data array: 0.6112432479858398\n",
            "Num GB used in data array: 0.6112432479858398\n",
            "Num GB used in data array: 0.6112432479858398\n",
            "Num GB used in data array: 0.6112432479858398\n",
            "Num GB used in data array: 0.6112432479858398\n",
            "Num GB used in data array: 0.6112432479858398\n",
            "Num GB used in data array: 0.6112432479858398\n",
            "Num GB used in data array: 0.6112432479858398\n",
            "Num GB used in data array: 0.6112432479858398\n",
            "Num GB used in data array: 0.6112432479858398\n",
            "Num GB used in data array: 0.6112432479858398\n",
            "Num GB used in data array: 0.6112432479858398\n",
            "Num GB used in data array: 0.6112432479858398\n",
            "Num GB used in data array: 0.6112432479858398\n",
            "Num GB used in data array: 0.6112432479858398\n",
            "Num GB used in data array: 0.6112432479858398\n",
            "Num GB used in data array: 0.6112432479858398\n",
            "Num GB used in data array: 0.6112432479858398\n",
            "Num GB used in data array: 0.6112432479858398\n",
            "Num GB used in data array: 0.6112432479858398\n",
            "Num GB used in data array: 0.6112432479858398\n",
            "Num GB used in data array: 0.6112432479858398\n",
            "Num GB used in data array: 0.6112432479858398\n",
            "Num GB used in data array: 0.6112432479858398\n",
            "Num GB used in data array: 0.6112432479858398\n",
            "Num GB used in data array: 0.6112432479858398\n",
            "Num GB used in data array: 0.6112432479858398\n",
            "Num GB used in data array: 0.6112432479858398\n",
            "Num GB used in data array: 0.6112432479858398\n",
            "Num GB used in data array: 0.6112432479858398\n",
            "Num GB used in data array: 0.6112432479858398\n",
            "Num GB used in data array: 0.6112432479858398\n",
            "Num GB used in data array: 0.6112432479858398\n",
            "Num GB used in data array: 0.6112432479858398\n",
            "Num GB used in data array: 0.6112432479858398\n",
            "Num GB used in data array: 0.6112432479858398\n",
            "Num GB used in data array: 0.6112432479858398\n",
            "Num GB used in data array: 0.6112432479858398\n",
            "Num GB used in data array: 0.6112432479858398\n",
            "Num GB used in data array: 0.6112432479858398\n",
            "Num GB used in data array: 0.6112432479858398\n",
            "Num GB used in data array: 0.6112432479858398\n",
            "Num GB used in data array: 0.6112432479858398\n",
            "Num GB used in data array: 0.6112432479858398\n",
            "Num GB used in data array: 0.6112432479858398\n",
            "Num GB used in data array: 0.6112432479858398\n",
            "Num GB used in data array: 0.6112432479858398\n",
            "Num GB used in data array: 0.6112432479858398\n",
            "Num GB used in data array: 0.6112432479858398\n",
            "Num GB used in data array: 0.6112432479858398\n",
            "Num GB used in data array: 0.6112432479858398\n",
            "Num GB used in data array: 0.6112432479858398\n",
            "Num GB used in data array: 0.6112432479858398\n",
            "Num GB used in data array: 0.6112432479858398\n",
            "Num GB used in data array: 0.6112432479858398\n",
            "Num GB used in data array: 0.6112432479858398\n",
            "Num GB used in data array: 0.6112432479858398\n",
            "Num GB used in data array: 0.6112432479858398\n",
            "Num GB used in data array: 0.6112432479858398\n",
            "Num GB used in data array: 0.6112432479858398\n",
            "Num GB used in data array: 0.6112432479858398\n",
            "Num GB used in data array: 0.6112432479858398\n",
            "Num GB used in data array: 0.6112432479858398\n",
            "Num GB used in data array: 0.6112432479858398\n",
            "Num GB used in data array: 0.6112432479858398\n",
            "Num GB used in data array: 0.6112432479858398\n",
            "Num GB used in data array: 0.6112432479858398\n",
            "Num GB used in data array: 0.6112432479858398\n",
            "Num GB used in data array: 0.6112432479858398\n",
            "Num GB used in data array: 0.6112432479858398\n",
            "Num GB used in data array: 0.6112432479858398\n",
            "Num GB used in data array: 0.6112432479858398\n",
            "Num GB used in data array: 0.6112432479858398\n",
            "Num GB used in data array: 0.6112432479858398\n",
            "Num GB used in data array: 0.6112432479858398\n",
            "Num GB used in data array: 0.6112432479858398\n",
            "Num GB used in data array: 0.6112432479858398\n",
            "Num GB used in data array: 0.6112432479858398\n",
            "Num GB used in data array: 0.6112432479858398\n",
            "Num GB used in data array: 0.6112432479858398\n",
            "Num GB used in data array: 0.6112432479858398\n",
            "Num GB used in data array: 0.6112432479858398\n",
            "Num GB used in data array: 0.6112432479858398\n",
            "Num GB used in data array: 0.6112432479858398\n",
            "Num GB used in data array: 0.6112432479858398\n",
            "Num GB used in data array: 0.6112432479858398\n",
            "Num GB used in data array: 0.6112432479858398\n",
            "Num GB used in data array: 0.6112432479858398\n",
            "Num GB used in data array: 0.6112432479858398\n",
            "Num GB used in data array: 0.6112432479858398\n",
            "Num GB used in data array: 0.6112432479858398\n",
            "Num GB used in data array: 0.6112432479858398\n",
            "Num GB used in data array: 0.6112432479858398\n"
          ]
        },
        {
          "output_type": "execute_result",
          "data": {
            "text/plain": [
              "<data_creation.DataSelection at 0x7fa1965e2310>"
            ]
          },
          "metadata": {},
          "execution_count": 4
        }
      ]
    },
    {
      "cell_type": "markdown",
      "source": [
        "## Load Data and Run Models"
      ],
      "metadata": {
        "id": "jJkOJWHpUbEW"
      }
    },
    {
      "cell_type": "code",
      "execution_count": 2,
      "metadata": {
        "id": "_2vrpSwNNDtq"
      },
      "outputs": [],
      "source": [
        "data2014_mf = np.load(\"data_2014.npy\")\n",
        "labels2014_mf = np.load(\"labels_2014.npy\")"
      ]
    },
    {
      "cell_type": "code",
      "execution_count": 3,
      "metadata": {
        "id": "EK4QoBskNDtr"
      },
      "outputs": [],
      "source": [
        "mf_model = SolarLSTM(data2014_mf, labels2014_mf, \"./\", 24)"
      ]
    },
    {
      "cell_type": "code",
      "execution_count": 4,
      "metadata": {
        "id": "o64p85LENDtr"
      },
      "outputs": [],
      "source": [
        "mf_model.build_model()"
      ]
    },
    {
      "cell_type": "code",
      "execution_count": 5,
      "metadata": {
        "colab": {
          "base_uri": "https://localhost:8080/"
        },
        "outputId": "5efa38e3-78b0-496f-9b5b-a9c86a2e7e53",
        "id": "1a6nHcNHNDtr"
      },
      "outputs": [
        {
          "output_type": "execute_result",
          "data": {
            "text/plain": [
              "<keras.engine.sequential.Sequential at 0x7f5997ebd350>"
            ]
          },
          "metadata": {},
          "execution_count": 5
        }
      ],
      "source": [
        "mf_model.model"
      ]
    },
    {
      "cell_type": "code",
      "execution_count": 6,
      "metadata": {
        "colab": {
          "base_uri": "https://localhost:8080/",
          "height": 1000
        },
        "outputId": "3bbcd700-de18-45d9-bcce-8e321e8cc9e7",
        "id": "AzkfkXdTNDts"
      },
      "outputs": [
        {
          "output_type": "stream",
          "name": "stdout",
          "text": [
            "Epoch 1/50\n"
          ]
        },
        {
          "output_type": "stream",
          "name": "stderr",
          "text": [
            "/usr/local/lib/python3.7/dist-packages/tensorflow/python/util/dispatch.py:1082: UserWarning: \"`binary_crossentropy` received `from_logits=True`, but the `output` argument was produced by a sigmoid or softmax activation and thus does not represent logits. Was this intended?\"\n",
            "  return dispatch_target(*args, **kwargs)\n"
          ]
        },
        {
          "output_type": "stream",
          "name": "stdout",
          "text": [
            "320/320 [==============================] - ETA: 0s - loss: 0.3993 - accuracy: 0.8578 - mse: 0.1182 - mae: 0.2402"
          ]
        },
        {
          "output_type": "stream",
          "name": "stderr",
          "text": [
            "WARNING:absl:Found untraced functions such as lstm_cell_layer_call_fn, lstm_cell_layer_call_and_return_conditional_losses, lstm_cell_1_layer_call_fn, lstm_cell_1_layer_call_and_return_conditional_losses while saving (showing 4 of 4). These functions will not be directly callable after loading.\n"
          ]
        },
        {
          "output_type": "stream",
          "name": "stdout",
          "text": [
            "INFO:tensorflow:Assets written to: model_checkpoints/assets\n"
          ]
        },
        {
          "output_type": "stream",
          "name": "stderr",
          "text": [
            "INFO:tensorflow:Assets written to: model_checkpoints/assets\n",
            "WARNING:absl:<keras.layers.recurrent.LSTMCell object at 0x7f5997e498d0> has the same name 'LSTMCell' as a built-in Keras object. Consider renaming <class 'keras.layers.recurrent.LSTMCell'> to avoid naming conflicts when loading with `tf.keras.models.load_model`. If renaming is not possible, pass the object in the `custom_objects` parameter of the load function.\n",
            "WARNING:absl:<keras.layers.recurrent.LSTMCell object at 0x7f598dc82310> has the same name 'LSTMCell' as a built-in Keras object. Consider renaming <class 'keras.layers.recurrent.LSTMCell'> to avoid naming conflicts when loading with `tf.keras.models.load_model`. If renaming is not possible, pass the object in the `custom_objects` parameter of the load function.\n"
          ]
        },
        {
          "output_type": "stream",
          "name": "stdout",
          "text": [
            "\b\b\b\b\b\b\b\b\b\b\b\b\b\b\b\b\b\b\b\b\b\b\b\b\b\b\b\b\b\b\b\b\b\b\b\b\b\b\b\b\b\b\b\b\b\b\b\b\b\b\b\b\b\b\b\b\b\b\b\b\b\b\b\b\b\b\b\b\b\b\b\b\b\b\b\b\b\b\b\b\b\b\b\b\b\b\b\b\b\b\b\b\b\b\b\b\b\b\b\b\b\b\b\b\b\b\b\b\b\b\b\b\r320/320 [==============================] - 30s 83ms/step - loss: 0.3993 - accuracy: 0.8578 - mse: 0.1182 - mae: 0.2402 - val_loss: 0.5826 - val_accuracy: 0.8094 - val_mse: 0.1701 - val_mae: 0.2405\n",
            "Epoch 2/50\n",
            "320/320 [==============================] - 17s 54ms/step - loss: 0.3142 - accuracy: 0.8994 - mse: 0.0883 - mae: 0.1725 - val_loss: 0.6397 - val_accuracy: 0.8094 - val_mse: 0.1765 - val_mae: 0.2323\n",
            "Epoch 3/50\n",
            "319/320 [============================>.] - ETA: 0s - loss: 0.3118 - accuracy: 0.8803 - mse: 0.0877 - mae: 0.1718"
          ]
        },
        {
          "output_type": "stream",
          "name": "stderr",
          "text": [
            "WARNING:absl:Found untraced functions such as lstm_cell_layer_call_fn, lstm_cell_layer_call_and_return_conditional_losses, lstm_cell_1_layer_call_fn, lstm_cell_1_layer_call_and_return_conditional_losses while saving (showing 4 of 4). These functions will not be directly callable after loading.\n"
          ]
        },
        {
          "output_type": "stream",
          "name": "stdout",
          "text": [
            "INFO:tensorflow:Assets written to: model_checkpoints/assets\n"
          ]
        },
        {
          "output_type": "stream",
          "name": "stderr",
          "text": [
            "INFO:tensorflow:Assets written to: model_checkpoints/assets\n",
            "WARNING:absl:<keras.layers.recurrent.LSTMCell object at 0x7f5997e498d0> has the same name 'LSTMCell' as a built-in Keras object. Consider renaming <class 'keras.layers.recurrent.LSTMCell'> to avoid naming conflicts when loading with `tf.keras.models.load_model`. If renaming is not possible, pass the object in the `custom_objects` parameter of the load function.\n",
            "WARNING:absl:<keras.layers.recurrent.LSTMCell object at 0x7f598dc82310> has the same name 'LSTMCell' as a built-in Keras object. Consider renaming <class 'keras.layers.recurrent.LSTMCell'> to avoid naming conflicts when loading with `tf.keras.models.load_model`. If renaming is not possible, pass the object in the `custom_objects` parameter of the load function.\n"
          ]
        },
        {
          "output_type": "stream",
          "name": "stdout",
          "text": [
            "\b\b\b\b\b\b\b\b\b\b\b\b\b\b\b\b\b\b\b\b\b\b\b\b\b\b\b\b\b\b\b\b\b\b\b\b\b\b\b\b\b\b\b\b\b\b\b\b\b\b\b\b\b\b\b\b\b\b\b\b\b\b\b\b\b\b\b\b\b\b\b\b\b\b\b\b\b\b\b\b\b\b\b\b\b\b\b\b\b\b\b\b\b\b\b\b\b\b\b\b\b\b\b\b\b\b\b\b\b\b\b\b\r320/320 [==============================] - 25s 77ms/step - loss: 0.3111 - accuracy: 0.8807 - mse: 0.0874 - mae: 0.1714 - val_loss: 0.5797 - val_accuracy: 0.8094 - val_mse: 0.1696 - val_mae: 0.2501\n",
            "Epoch 4/50\n",
            "320/320 [==============================] - 18s 55ms/step - loss: 0.2931 - accuracy: 0.8973 - mse: 0.0822 - mae: 0.1668 - val_loss: 0.6261 - val_accuracy: 0.8094 - val_mse: 0.1757 - val_mae: 0.2573\n",
            "Epoch 5/50\n",
            "320/320 [==============================] - 18s 55ms/step - loss: 0.2734 - accuracy: 0.8978 - mse: 0.0765 - mae: 0.1538 - val_loss: 0.6836 - val_accuracy: 0.8094 - val_mse: 0.1791 - val_mae: 0.2203\n",
            "Epoch 6/50\n",
            "320/320 [==============================] - 17s 54ms/step - loss: 0.2711 - accuracy: 0.9018 - mse: 0.0761 - mae: 0.1518 - val_loss: 0.6502 - val_accuracy: 0.8093 - val_mse: 0.1786 - val_mae: 0.2733\n",
            "Epoch 7/50\n",
            "320/320 [==============================] - 17s 54ms/step - loss: 0.2490 - accuracy: 0.9051 - mse: 0.0703 - mae: 0.1418 - val_loss: 0.7692 - val_accuracy: 0.8093 - val_mse: 0.1835 - val_mae: 0.2115\n",
            "Epoch 8/50\n",
            "320/320 [==============================] - 17s 53ms/step - loss: 0.2489 - accuracy: 0.9209 - mse: 0.0683 - mae: 0.1413 - val_loss: 0.7044 - val_accuracy: 0.7659 - val_mse: 0.1912 - val_mae: 0.2653\n",
            "Epoch 9/50\n",
            "320/320 [==============================] - 17s 54ms/step - loss: 0.2276 - accuracy: 0.9245 - mse: 0.0633 - mae: 0.1254 - val_loss: 0.8422 - val_accuracy: 0.7256 - val_mse: 0.2171 - val_mae: 0.2925\n",
            "Epoch 10/50\n",
            "320/320 [==============================] - 17s 54ms/step - loss: 0.2313 - accuracy: 0.9249 - mse: 0.0645 - mae: 0.1307 - val_loss: 0.8839 - val_accuracy: 0.7031 - val_mse: 0.2239 - val_mae: 0.3063\n",
            "Epoch 11/50\n",
            "320/320 [==============================] - 17s 53ms/step - loss: 0.2179 - accuracy: 0.9302 - mse: 0.0605 - mae: 0.1240 - val_loss: 0.9550 - val_accuracy: 0.6232 - val_mse: 0.2796 - val_mae: 0.3655\n",
            "Epoch 12/50\n",
            "320/320 [==============================] - 18s 55ms/step - loss: 0.2122 - accuracy: 0.9292 - mse: 0.0595 - mae: 0.1181 - val_loss: 0.9136 - val_accuracy: 0.6908 - val_mse: 0.2424 - val_mae: 0.3239\n",
            "Epoch 13/50\n",
            "320/320 [==============================] - 17s 54ms/step - loss: 0.2029 - accuracy: 0.9310 - mse: 0.0568 - mae: 0.1124 - val_loss: 0.8230 - val_accuracy: 0.8132 - val_mse: 0.1833 - val_mae: 0.2556\n",
            "Epoch 14/50\n",
            "320/320 [==============================] - 17s 54ms/step - loss: 0.1926 - accuracy: 0.9326 - mse: 0.0544 - mae: 0.1093 - val_loss: 0.8187 - val_accuracy: 0.8018 - val_mse: 0.1886 - val_mae: 0.2742\n",
            "Epoch 15/50\n",
            "320/320 [==============================] - 17s 53ms/step - loss: 0.1942 - accuracy: 0.9330 - mse: 0.0547 - mae: 0.1092 - val_loss: 0.8789 - val_accuracy: 0.8114 - val_mse: 0.1904 - val_mae: 0.2698\n",
            "Epoch 16/50\n",
            "320/320 [==============================] - 17s 54ms/step - loss: 0.1878 - accuracy: 0.9335 - mse: 0.0530 - mae: 0.1064 - val_loss: 0.8019 - val_accuracy: 0.8114 - val_mse: 0.1863 - val_mae: 0.2802\n",
            "Epoch 17/50\n",
            "320/320 [==============================] - 17s 53ms/step - loss: 0.1817 - accuracy: 0.9332 - mse: 0.0515 - mae: 0.1030 - val_loss: 0.8173 - val_accuracy: 0.8091 - val_mse: 0.1892 - val_mae: 0.2895\n",
            "Epoch 18/50\n",
            "320/320 [==============================] - 17s 54ms/step - loss: 0.1752 - accuracy: 0.9332 - mse: 0.0496 - mae: 0.1008 - val_loss: 0.8103 - val_accuracy: 0.8043 - val_mse: 0.1905 - val_mae: 0.2905\n",
            "Epoch 18: early stopping\n"
          ]
        },
        {
          "output_type": "display_data",
          "data": {
            "text/plain": [
              "<Figure size 576x360 with 1 Axes>"
            ],
            "image/png": "[encoded data removed]"
          },
          "metadata": {
            "needs_background": "light"
          }
        }
      ],
      "source": [
        "history=mf_model.fit()"
      ]
    },
    {
      "cell_type": "code",
      "execution_count": 7,
      "metadata": {
        "id": "-WghMSriNDts"
      },
      "outputs": [],
      "source": [
        "data2015_mf = np.load(\"data_2015.npy\")\n",
        "labels2015_mf = np.load(\"labels_2015.npy\")"
      ]
    },
    {
      "cell_type": "code",
      "execution_count": 8,
      "metadata": {
        "colab": {
          "base_uri": "https://localhost:8080/"
        },
        "outputId": "48d690e0-4dd8-4b0a-df2d-63e2bd90ca07",
        "id": "imdWAVM3NDtt"
      },
      "outputs": [
        {
          "output_type": "execute_result",
          "data": {
            "text/plain": [
              "(28486, 120, 24)"
            ]
          },
          "metadata": {},
          "execution_count": 8
        }
      ],
      "source": [
        "data2015_mf.shape"
      ]
    },
    {
      "cell_type": "code",
      "execution_count": 11,
      "metadata": {
        "colab": {
          "base_uri": "https://localhost:8080/"
        },
        "outputId": "558b5987-7d4e-4233-8b96-8ef0bad970cc",
        "id": "i0zr1gAGNDtt"
      },
      "outputs": [
        {
          "output_type": "stream",
          "name": "stdout",
          "text": [
            "445/445 [==============================] - 8s 17ms/step - loss: 0.6813 - accuracy: 0.8208 - mse: 0.1606 - mae: 0.2046\n"
          ]
        },
        {
          "output_type": "execute_result",
          "data": {
            "text/plain": [
              "[0.6813469529151917,\n",
              " 0.8208236694335938,\n",
              " 0.16059425473213196,\n",
              " 0.20464786887168884]"
            ]
          },
          "metadata": {},
          "execution_count": 11
        }
      ],
      "source": [
        "mf_new = mf_model.batch_prefetch_data(data2015_mf,labels2015_mf,split_data=False)\n",
        "mf_model.evaluate(mf_new)\n",
        "#base_model.evaluate(data_new,labels_new)"
      ]
    },
    {
      "cell_type": "code",
      "execution_count": 12,
      "metadata": {
        "colab": {
          "base_uri": "https://localhost:8080/",
          "height": 290
        },
        "id": "e4IDRyleNDtt",
        "outputId": "ae79fa65-9fd1-4cf9-fa97-ead92727bf5a"
      },
      "outputs": [
        {
          "output_type": "display_data",
          "data": {
            "text/plain": [
              "<Figure size 432x288 with 2 Axes>"
            ],
            "image/png": "[encoded data removed]"
          },
          "metadata": {
            "needs_background": "light"
          }
        }
      ],
      "source": [
        "#Form batches (does not shuffle, cuts off remainder)\n",
        "batched_2015_mf = mf_model.batch_prefetch_data(data2015_mf,split_data=False)\n",
        "#Cutoff matching remainder from labels\n",
        "true_labels_mf = labels2015_mf[:-(labels2015_mf.shape[0] % mf_model.batch_size)]\n",
        "#Do predictions and get confusion matrix\n",
        "conf_matrix_mf = mf_model.predict_conf_matrix(batched_2015_mf,true_labels_mf,make_plots=True)"
      ]
    },
    {
      "cell_type": "code",
      "execution_count": 13,
      "metadata": {
        "colab": {
          "base_uri": "https://localhost:8080/"
        },
        "outputId": "70990b70-49ba-4211-bd78-e0772caecbce",
        "id": "T52Qg_7zNDtu"
      },
      "outputs": [
        {
          "output_type": "execute_result",
          "data": {
            "text/plain": [
              "array([[   5774,  557866],\n",
              "       [  50102, 2803858]])"
            ]
          },
          "metadata": {},
          "execution_count": 13
        }
      ],
      "source": [
        "conf_matrix_mf"
      ]
    },
    {
      "cell_type": "code",
      "source": [
        "mf_model.calculate_statistics(conf_matrix_mf)"
      ],
      "metadata": {
        "colab": {
          "base_uri": "https://localhost:8080/",
          "height": 81
        },
        "id": "gVnEX3bwSS6n",
        "outputId": "fdd5f79b-44b0-4d76-b40a-6cbb6829da40"
      },
      "execution_count": 14,
      "outputs": [
        {
          "output_type": "execute_result",
          "data": {
            "text/plain": [
              "   precision    recall       far       hss\n",
              "0   0.982445  0.834054  0.896664 -0.011464"
            ],
            "text/html": [
              "\n",
              "  <div id=\"df-663d3175-c334-4d0d-b255-e9386852dfe4\">\n",
              "    <div class=\"colab-df-container\">\n",
              "      <div>\n",
              "<style scoped>\n",
              "    .dataframe tbody tr th:only-of-type {\n",
              "        vertical-align: middle;\n",
              "    }\n",
              "\n",
              "    .dataframe tbody tr th {\n",
              "        vertical-align: top;\n",
              "    }\n",
              "\n",
              "    .dataframe thead th {\n",
              "        text-align: right;\n",
              "    }\n",
              "</style>\n",
              "<table border=\"1\" class=\"dataframe\">\n",
              "  <thead>\n",
              "    <tr style=\"text-align: right;\">\n",
              "      <th></th>\n",
              "      <th>precision</th>\n",
              "      <th>recall</th>\n",
              "      <th>far</th>\n",
              "      <th>hss</th>\n",
              "    </tr>\n",
              "  </thead>\n",
              "  <tbody>\n",
              "    <tr>\n",
              "      <th>0</th>\n",
              "      <td>0.982445</td>\n",
              "      <td>0.834054</td>\n",
              "      <td>0.896664</td>\n",
              "      <td>-0.011464</td>\n",
              "    </tr>\n",
              "  </tbody>\n",
              "</table>\n",
              "</div>\n",
              "      <button class=\"colab-df-convert\" onclick=\"convertToInteractive('df-663d3175-c334-4d0d-b255-e9386852dfe4')\"\n",
              "              title=\"Convert this dataframe to an interactive table.\"\n",
              "              style=\"display:none;\">\n",
              "        \n",
              "  <svg xmlns=\"http://www.w3.org/2000/svg\" height=\"24px\"viewBox=\"0 0 24 24\"\n",
              "       width=\"24px\">\n",
              "    <path d=\"M0 0h24v24H0V0z\" fill=\"none\"/>\n",
              "    <path d=\"M18.56 5.44l.94 2.06.94-2.06 2.06-.94-2.06-.94-.94-2.06-.94 2.06-2.06.94zm-11 1L8.5 8.5l.94-2.06 2.06-.94-2.06-.94L8.5 2.5l-.94 2.06-2.06.94zm10 10l.94 2.06.94-2.06 2.06-.94-2.06-.94-.94-2.06-.94 2.06-2.06.94z\"/><path d=\"M17.41 7.96l-1.37-1.37c-.4-.4-.92-.59-1.43-.59-.52 0-1.04.2-1.43.59L10.3 9.45l-7.72 7.72c-.78.78-.78 2.05 0 2.83L4 21.41c.39.39.9.59 1.41.59.51 0 1.02-.2 1.41-.59l7.78-7.78 2.81-2.81c.8-.78.8-2.07 0-2.86zM5.41 20L4 18.59l7.72-7.72 1.47 1.35L5.41 20z\"/>\n",
              "  </svg>\n",
              "      </button>\n",
              "      \n",
              "  <style>\n",
              "    .colab-df-container {\n",
              "      display:flex;\n",
              "      flex-wrap:wrap;\n",
              "      gap: 12px;\n",
              "    }\n",
              "\n",
              "    .colab-df-convert {\n",
              "      background-color: #E8F0FE;\n",
              "      border: none;\n",
              "      border-radius: 50%;\n",
              "      cursor: pointer;\n",
              "      display: none;\n",
              "      fill: #1967D2;\n",
              "      height: 32px;\n",
              "      padding: 0 0 0 0;\n",
              "      width: 32px;\n",
              "    }\n",
              "\n",
              "    .colab-df-convert:hover {\n",
              "      background-color: #E2EBFA;\n",
              "      box-shadow: 0px 1px 2px rgba(60, 64, 67, 0.3), 0px 1px 3px 1px rgba(60, 64, 67, 0.15);\n",
              "      fill: #174EA6;\n",
              "    }\n",
              "\n",
              "    [theme=dark] .colab-df-convert {\n",
              "      background-color: #3B4455;\n",
              "      fill: #D2E3FC;\n",
              "    }\n",
              "\n",
              "    [theme=dark] .colab-df-convert:hover {\n",
              "      background-color: #434B5C;\n",
              "      box-shadow: 0px 1px 3px 1px rgba(0, 0, 0, 0.15);\n",
              "      filter: drop-shadow(0px 1px 2px rgba(0, 0, 0, 0.3));\n",
              "      fill: #FFFFFF;\n",
              "    }\n",
              "  </style>\n",
              "\n",
              "      <script>\n",
              "        const buttonEl =\n",
              "          document.querySelector('#df-663d3175-c334-4d0d-b255-e9386852dfe4 button.colab-df-convert');\n",
              "        buttonEl.style.display =\n",
              "          google.colab.kernel.accessAllowed ? 'block' : 'none';\n",
              "\n",
              "        async function convertToInteractive(key) {\n",
              "          const element = document.querySelector('#df-663d3175-c334-4d0d-b255-e9386852dfe4');\n",
              "          const dataTable =\n",
              "            await google.colab.kernel.invokeFunction('convertToInteractive',\n",
              "                                                     [key], {});\n",
              "          if (!dataTable) return;\n",
              "\n",
              "          const docLinkHtml = 'Like what you see? Visit the ' +\n",
              "            '<a target=\"_blank\" href=https://colab.research.google.com/notebooks/data_table.ipynb>data table notebook</a>'\n",
              "            + ' to learn more about interactive tables.';\n",
              "          element.innerHTML = '';\n",
              "          dataTable['output_type'] = 'display_data';\n",
              "          await google.colab.output.renderOutput(dataTable, element);\n",
              "          const docLink = document.createElement('div');\n",
              "          docLink.innerHTML = docLinkHtml;\n",
              "          element.appendChild(docLink);\n",
              "        }\n",
              "      </script>\n",
              "    </div>\n",
              "  </div>\n",
              "  "
            ]
          },
          "metadata": {},
          "execution_count": 14
        }
      ]
    },
    {
      "cell_type": "code",
      "source": [
        "keras.backend.clear_session()"
      ],
      "metadata": {
        "id": "nyDt0SuuNDtu"
      },
      "execution_count": 15,
      "outputs": []
    },
    {
      "cell_type": "code",
      "source": [
        "tuned_model_mf = SolarLSTM(data2014_mf, labels2014_mf, \"./\", 24, tune=True)"
      ],
      "metadata": {
        "id": "BRSqPRIHNDtu"
      },
      "execution_count": 16,
      "outputs": []
    },
    {
      "cell_type": "code",
      "source": [
        "tuned_model_mf.fit()"
      ],
      "metadata": {
        "colab": {
          "base_uri": "https://localhost:8080/",
          "height": 1000
        },
        "outputId": "4505947b-cf1c-4caf-a5bc-ce97fe83f581",
        "id": "j65L5DwbNDtv"
      },
      "execution_count": 17,
      "outputs": [
        {
          "output_type": "stream",
          "name": "stdout",
          "text": [
            "Trial 10 Complete [00h 24m 33s]\n",
            "val_accuracy: 0.809374988079071\n",
            "\n",
            "Best val_accuracy So Far: 0.8286556005477905\n",
            "Total elapsed time: 03h 03m 38s\n",
            "INFO:tensorflow:Oracle triggered exit\n"
          ]
        },
        {
          "output_type": "stream",
          "name": "stderr",
          "text": [
            "INFO:tensorflow:Oracle triggered exit\n"
          ]
        },
        {
          "output_type": "stream",
          "name": "stdout",
          "text": [
            "Hyper Tuning Complete\n",
            "Epoch 1/50\n"
          ]
        },
        {
          "output_type": "stream",
          "name": "stderr",
          "text": [
            "/usr/local/lib/python3.7/dist-packages/tensorflow/python/util/dispatch.py:1082: UserWarning: \"`binary_crossentropy` received `from_logits=True`, but the `output` argument was produced by a sigmoid or softmax activation and thus does not represent logits. Was this intended?\"\n",
            "  return dispatch_target(*args, **kwargs)\n"
          ]
        },
        {
          "output_type": "stream",
          "name": "stdout",
          "text": [
            "320/320 [==============================] - ETA: 0s - loss: 0.3782 - accuracy: 0.8676 - mse: 0.1084 - mae: 0.2090"
          ]
        },
        {
          "output_type": "stream",
          "name": "stderr",
          "text": [
            "WARNING:absl:Found untraced functions such as lstm_cell_2_layer_call_fn, lstm_cell_2_layer_call_and_return_conditional_losses, lstm_cell_3_layer_call_fn, lstm_cell_3_layer_call_and_return_conditional_losses while saving (showing 4 of 4). These functions will not be directly callable after loading.\n"
          ]
        },
        {
          "output_type": "stream",
          "name": "stdout",
          "text": [
            "INFO:tensorflow:Assets written to: model_checkpoints/assets\n"
          ]
        },
        {
          "output_type": "stream",
          "name": "stderr",
          "text": [
            "INFO:tensorflow:Assets written to: model_checkpoints/assets\n",
            "WARNING:absl:<keras.layers.recurrent.LSTMCell object at 0x7f598c8eb790> has the same name 'LSTMCell' as a built-in Keras object. Consider renaming <class 'keras.layers.recurrent.LSTMCell'> to avoid naming conflicts when loading with `tf.keras.models.load_model`. If renaming is not possible, pass the object in the `custom_objects` parameter of the load function.\n",
            "WARNING:absl:<keras.layers.recurrent.LSTMCell object at 0x7f598c839a10> has the same name 'LSTMCell' as a built-in Keras object. Consider renaming <class 'keras.layers.recurrent.LSTMCell'> to avoid naming conflicts when loading with `tf.keras.models.load_model`. If renaming is not possible, pass the object in the `custom_objects` parameter of the load function.\n"
          ]
        },
        {
          "output_type": "stream",
          "name": "stdout",
          "text": [
            "\b\b\b\b\b\b\b\b\b\b\b\b\b\b\b\b\b\b\b\b\b\b\b\b\b\b\b\b\b\b\b\b\b\b\b\b\b\b\b\b\b\b\b\b\b\b\b\b\b\b\b\b\b\b\b\b\b\b\b\b\b\b\b\b\b\b\b\b\b\b\b\b\b\b\b\b\b\b\b\b\b\b\b\b\b\b\b\b\b\b\b\b\b\b\b\b\b\b\b\b\b\b\b\b\b\b\b\b\b\b\b\b\r320/320 [==============================] - 53s 158ms/step - loss: 0.3782 - accuracy: 0.8676 - mse: 0.1084 - mae: 0.2090 - val_loss: 0.6585 - val_accuracy: 0.8094 - val_mse: 0.1775 - val_mae: 0.2126\n",
            "Epoch 2/50\n",
            "320/320 [==============================] - 43s 133ms/step - loss: 0.3207 - accuracy: 0.8996 - mse: 0.0911 - mae: 0.1707 - val_loss: 0.9197 - val_accuracy: 0.8094 - val_mse: 0.1874 - val_mae: 0.1963\n",
            "Epoch 3/50\n",
            "320/320 [==============================] - 42s 131ms/step - loss: 0.3212 - accuracy: 0.8997 - mse: 0.0899 - mae: 0.1762 - val_loss: 0.8081 - val_accuracy: 0.8094 - val_mse: 0.1849 - val_mae: 0.2014\n",
            "Epoch 4/50\n",
            "320/320 [==============================] - 42s 132ms/step - loss: 0.3080 - accuracy: 0.8995 - mse: 0.0871 - mae: 0.1729 - val_loss: 0.7071 - val_accuracy: 0.8094 - val_mse: 0.1799 - val_mae: 0.2239\n",
            "Epoch 5/50\n",
            "320/320 [==============================] - 42s 132ms/step - loss: 0.2920 - accuracy: 0.8996 - mse: 0.0838 - mae: 0.1622 - val_loss: 0.8207 - val_accuracy: 0.8094 - val_mse: 0.1834 - val_mae: 0.2105\n",
            "Epoch 6/50\n",
            "320/320 [==============================] - 42s 131ms/step - loss: 0.3020 - accuracy: 0.8996 - mse: 0.0849 - mae: 0.1686 - val_loss: 0.8171 - val_accuracy: 0.8094 - val_mse: 0.2007 - val_mae: 0.2794\n",
            "Epoch 7/50\n",
            "320/320 [==============================] - 43s 135ms/step - loss: 0.2985 - accuracy: 0.8996 - mse: 0.0830 - mae: 0.1686 - val_loss: 0.7325 - val_accuracy: 0.8094 - val_mse: 0.1819 - val_mae: 0.2094\n",
            "Epoch 8/50\n",
            "320/320 [==============================] - 43s 133ms/step - loss: 0.2816 - accuracy: 0.8996 - mse: 0.0794 - mae: 0.1565 - val_loss: 0.7672 - val_accuracy: 0.8094 - val_mse: 0.1901 - val_mae: 0.2466\n",
            "Epoch 9/50\n",
            "320/320 [==============================] - 43s 134ms/step - loss: 0.2779 - accuracy: 0.8996 - mse: 0.0787 - mae: 0.1550 - val_loss: 0.9215 - val_accuracy: 0.8094 - val_mse: 0.2078 - val_mae: 0.2771\n",
            "Epoch 10/50\n",
            "320/320 [==============================] - 43s 135ms/step - loss: 0.2884 - accuracy: 0.8996 - mse: 0.0788 - mae: 0.1586 - val_loss: 0.7153 - val_accuracy: 0.8094 - val_mse: 0.1811 - val_mae: 0.2087\n",
            "Epoch 11/50\n",
            "320/320 [==============================] - 44s 137ms/step - loss: 0.2899 - accuracy: 0.8996 - mse: 0.0820 - mae: 0.1624 - val_loss: 0.7669 - val_accuracy: 0.8094 - val_mse: 0.1836 - val_mae: 0.2030\n",
            "Epoch 12/50\n",
            "320/320 [==============================] - 43s 134ms/step - loss: 0.2612 - accuracy: 0.8996 - mse: 0.0711 - mae: 0.1416 - val_loss: 0.7538 - val_accuracy: 0.8094 - val_mse: 0.1833 - val_mae: 0.2058\n",
            "Epoch 13/50\n",
            "320/320 [==============================] - 43s 133ms/step - loss: 0.2838 - accuracy: 0.8982 - mse: 0.0784 - mae: 0.1563 - val_loss: 0.7481 - val_accuracy: 0.8094 - val_mse: 0.2033 - val_mae: 0.2961\n",
            "Epoch 14/50\n",
            "320/320 [==============================] - 43s 134ms/step - loss: 0.2564 - accuracy: 0.8996 - mse: 0.0705 - mae: 0.1441 - val_loss: 0.7509 - val_accuracy: 0.8094 - val_mse: 0.1830 - val_mae: 0.2052\n",
            "Epoch 15/50\n",
            "320/320 [==============================] - 42s 132ms/step - loss: 0.2564 - accuracy: 0.8924 - mse: 0.0709 - mae: 0.1418 - val_loss: 0.7545 - val_accuracy: 0.8094 - val_mse: 0.1831 - val_mae: 0.2050\n",
            "Epoch 16/50\n",
            "320/320 [==============================] - 42s 132ms/step - loss: 0.2491 - accuracy: 0.8999 - mse: 0.0684 - mae: 0.1382 - val_loss: 0.7572 - val_accuracy: 0.8094 - val_mse: 0.1832 - val_mae: 0.2051\n",
            "Epoch 16: early stopping\n"
          ]
        },
        {
          "output_type": "display_data",
          "data": {
            "text/plain": [
              "<Figure size 576x360 with 1 Axes>"
            ],
            "image/png": "[encoded data removed]"
          },
          "metadata": {
            "needs_background": "light"
          }
        },
        {
          "output_type": "execute_result",
          "data": {
            "text/plain": [
              "<keras.callbacks.History at 0x7f598bb609d0>"
            ]
          },
          "metadata": {},
          "execution_count": 17
        }
      ]
    },
    {
      "cell_type": "code",
      "source": [
        "#Form batches (does not shuffle, cuts off remainder)\n",
        "# batched_2015 = tuned_model.batch_prefetch_data(data2015,split_data=False)\n",
        "#Cutoff matching remainder from labels\n",
        "# true_labels = labels2015[:-(labels2015.shape[0]%tuned_model.batch_size)]"
      ],
      "metadata": {
        "id": "OovIefUyNDtv"
      },
      "execution_count": null,
      "outputs": []
    },
    {
      "cell_type": "code",
      "source": [
        "conf_matrix = tuned_model_mf.predict_conf_matrix(batched_2015,true_labels,make_plots=True)"
      ],
      "metadata": {
        "colab": {
          "base_uri": "https://localhost:8080/",
          "height": 290
        },
        "outputId": "dbfa3ea3-83f0-4208-b2d4-f1c750763aca",
        "id": "Dyx83sDtNDtv"
      },
      "execution_count": null,
      "outputs": [
        {
          "output_type": "display_data",
          "data": {
            "text/plain": [
              "<Figure size 432x288 with 2 Axes>"
            ],
            "image/png": "[encoded data removed]"
          },
          "metadata": {
            "needs_background": "light"
          }
        }
      ]
    },
    {
      "cell_type": "code",
      "source": [
        ""
      ],
      "metadata": {
        "id": "K8-6Cl53W8oF"
      },
      "execution_count": null,
      "outputs": []
    }
  ],
  "metadata": {
    "colab": {
      "collapsed_sections": [
        "OepbSvctPysr",
        "-tIs0gOhPI7t",
        "OX0yhFFYUWzF"
      ],
      "machine_shape": "hm",
      "name": "ColabNotebook_ModelPipeline.ipynb",
      "provenance": []
    },
    "kernelspec": {
      "display_name": "Python 3",
      "name": "python3"
    },
    "language_info": {
      "codemirror_mode": {
        "name": "ipython",
        "version": 3
      },
      "file_extension": ".py",
      "mimetype": "text/x-python",
      "name": "python",
      "nbconvert_exporter": "python",
      "pygments_lexer": "ipython3",
      "version": "3.8.3"
    }
  },
  "nbformat": 4,
  "nbformat_minor": 0
}