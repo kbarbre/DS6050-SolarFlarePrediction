{
  "cells": [
    {
      "cell_type": "markdown",
      "metadata": {
        "id": "OepbSvctPysr"
      },
      "source": [
        "# Pip Install Keras-Tuner (if necessary)"
      ]
    },
    {
      "cell_type": "code",
      "execution_count": 25,
      "metadata": {
        "colab": {
          "base_uri": "https://localhost:8080/"
        },
        "id": "ky0FGKOwTBkL",
        "outputId": "edb897ce-b3a5-4615-a14f-8cbbc32de538"
      },
      "outputs": [
        {
          "name": "stdout",
          "output_type": "stream",
          "text": [
            "Requirement already satisfied: keras-tuner in c:\\users\\dave\\.conda\\envs\\dlproj\\lib\\site-packages (1.1.2)\n",
            "Requirement already satisfied: packaging in c:\\users\\dave\\.conda\\envs\\dlproj\\lib\\site-packages (from keras-tuner) (21.3)\n",
            "Requirement already satisfied: requests in c:\\users\\dave\\.conda\\envs\\dlproj\\lib\\site-packages (from keras-tuner) (2.27.1)\n",
            "Requirement already satisfied: ipython in c:\\users\\dave\\.conda\\envs\\dlproj\\lib\\site-packages (from keras-tuner) (8.2.0)\n",
            "Requirement already satisfied: numpy in c:\\users\\dave\\.conda\\envs\\dlproj\\lib\\site-packages (from keras-tuner) (1.22.3)\n",
            "Requirement already satisfied: kt-legacy in c:\\users\\dave\\.conda\\envs\\dlproj\\lib\\site-packages (from keras-tuner) (1.0.4)\n",
            "Requirement already satisfied: tensorboard in c:\\users\\dave\\.conda\\envs\\dlproj\\lib\\site-packages (from keras-tuner) (2.8.0)\n",
            "Requirement already satisfied: prompt-toolkit!=3.0.0,!=3.0.1,<3.1.0,>=2.0.0 in c:\\users\\dave\\.conda\\envs\\dlproj\\lib\\site-packages (from ipython->keras-tuner) (3.0.29)\n",
            "Requirement already satisfied: pickleshare in c:\\users\\dave\\.conda\\envs\\dlproj\\lib\\site-packages (from ipython->keras-tuner) (0.7.5)\n",
            "Requirement already satisfied: matplotlib-inline in c:\\users\\dave\\.conda\\envs\\dlproj\\lib\\site-packages (from ipython->keras-tuner) (0.1.3)\n",
            "Requirement already satisfied: setuptools>=18.5 in c:\\users\\dave\\.conda\\envs\\dlproj\\lib\\site-packages (from ipython->keras-tuner) (61.2.0)\n",
            "Requirement already satisfied: backcall in c:\\users\\dave\\.conda\\envs\\dlproj\\lib\\site-packages (from ipython->keras-tuner) (0.2.0)\n",
            "Requirement already satisfied: colorama in c:\\users\\dave\\.conda\\envs\\dlproj\\lib\\site-packages (from ipython->keras-tuner) (0.4.4)\n",
            "Requirement already satisfied: stack-data in c:\\users\\dave\\.conda\\envs\\dlproj\\lib\\site-packages (from ipython->keras-tuner) (0.2.0)\n",
            "Requirement already satisfied: pygments>=2.4.0 in c:\\users\\dave\\.conda\\envs\\dlproj\\lib\\site-packages (from ipython->keras-tuner) (2.11.2)\n",
            "Requirement already satisfied: decorator in c:\\users\\dave\\.conda\\envs\\dlproj\\lib\\site-packages (from ipython->keras-tuner) (5.1.1)\n",
            "Requirement already satisfied: jedi>=0.16 in c:\\users\\dave\\.conda\\envs\\dlproj\\lib\\site-packages (from ipython->keras-tuner) (0.18.1)\n",
            "Requirement already satisfied: traitlets>=5 in c:\\users\\dave\\.conda\\envs\\dlproj\\lib\\site-packages (from ipython->keras-tuner) (5.1.1)\n",
            "Requirement already satisfied: parso<0.9.0,>=0.8.0 in c:\\users\\dave\\.conda\\envs\\dlproj\\lib\\site-packages (from jedi>=0.16->ipython->keras-tuner) (0.8.3)\n",
            "Requirement already satisfied: wcwidth in c:\\users\\dave\\.conda\\envs\\dlproj\\lib\\site-packages (from prompt-toolkit!=3.0.0,!=3.0.1,<3.1.0,>=2.0.0->ipython->keras-tuner) (0.2.5)\n",
            "Requirement already satisfied: pyparsing!=3.0.5,>=2.0.2 in c:\\users\\dave\\.conda\\envs\\dlproj\\lib\\site-packages (from packaging->keras-tuner) (3.0.8)\n",
            "Requirement already satisfied: urllib3<1.27,>=1.21.1 in c:\\users\\dave\\.conda\\envs\\dlproj\\lib\\site-packages (from requests->keras-tuner) (1.26.9)\n",
            "Requirement already satisfied: idna<4,>=2.5 in c:\\users\\dave\\.conda\\envs\\dlproj\\lib\\site-packages (from requests->keras-tuner) (3.3)\n",
            "Requirement already satisfied: charset-normalizer~=2.0.0 in c:\\users\\dave\\.conda\\envs\\dlproj\\lib\\site-packages (from requests->keras-tuner) (2.0.12)\n",
            "Requirement already satisfied: certifi>=2017.4.17 in c:\\users\\dave\\.conda\\envs\\dlproj\\lib\\site-packages (from requests->keras-tuner) (2021.10.8)\n",
            "Requirement already satisfied: executing in c:\\users\\dave\\.conda\\envs\\dlproj\\lib\\site-packages (from stack-data->ipython->keras-tuner) (0.8.3)\n",
            "Requirement already satisfied: asttokens in c:\\users\\dave\\.conda\\envs\\dlproj\\lib\\site-packages (from stack-data->ipython->keras-tuner) (2.0.5)\n",
            "Requirement already satisfied: pure-eval in c:\\users\\dave\\.conda\\envs\\dlproj\\lib\\site-packages (from stack-data->ipython->keras-tuner) (0.2.2)\n",
            "Requirement already satisfied: six in c:\\users\\dave\\.conda\\envs\\dlproj\\lib\\site-packages (from asttokens->stack-data->ipython->keras-tuner) (1.16.0)\n",
            "Requirement already satisfied: tensorboard-plugin-wit>=1.6.0 in c:\\users\\dave\\.conda\\envs\\dlproj\\lib\\site-packages (from tensorboard->keras-tuner) (1.8.1)\n",
            "Requirement already satisfied: markdown>=2.6.8 in c:\\users\\dave\\.conda\\envs\\dlproj\\lib\\site-packages (from tensorboard->keras-tuner) (3.3.6)\n",
            "Requirement already satisfied: werkzeug>=0.11.15 in c:\\users\\dave\\.conda\\envs\\dlproj\\lib\\site-packages (from tensorboard->keras-tuner) (2.1.1)\n",
            "Requirement already satisfied: wheel>=0.26 in c:\\users\\dave\\.conda\\envs\\dlproj\\lib\\site-packages (from tensorboard->keras-tuner) (0.37.1)\n",
            "Requirement already satisfied: absl-py>=0.4 in c:\\users\\dave\\.conda\\envs\\dlproj\\lib\\site-packages (from tensorboard->keras-tuner) (1.0.0)\n",
            "Requirement already satisfied: grpcio>=1.24.3 in c:\\users\\dave\\.conda\\envs\\dlproj\\lib\\site-packages (from tensorboard->keras-tuner) (1.44.0)\n",
            "Requirement already satisfied: tensorboard-data-server<0.7.0,>=0.6.0 in c:\\users\\dave\\.conda\\envs\\dlproj\\lib\\site-packages (from tensorboard->keras-tuner) (0.6.1)\n",
            "Requirement already satisfied: protobuf>=3.6.0 in c:\\users\\dave\\.conda\\envs\\dlproj\\lib\\site-packages (from tensorboard->keras-tuner) (3.20.0)\n",
            "Requirement already satisfied: google-auth<3,>=1.6.3 in c:\\users\\dave\\.conda\\envs\\dlproj\\lib\\site-packages (from tensorboard->keras-tuner) (2.6.5)\n",
            "Requirement already satisfied: google-auth-oauthlib<0.5,>=0.4.1 in c:\\users\\dave\\.conda\\envs\\dlproj\\lib\\site-packages (from tensorboard->keras-tuner) (0.4.6)\n",
            "Requirement already satisfied: rsa<5,>=3.1.4 in c:\\users\\dave\\.conda\\envs\\dlproj\\lib\\site-packages (from google-auth<3,>=1.6.3->tensorboard->keras-tuner) (4.8)\n",
            "Requirement already satisfied: pyasn1-modules>=0.2.1 in c:\\users\\dave\\.conda\\envs\\dlproj\\lib\\site-packages (from google-auth<3,>=1.6.3->tensorboard->keras-tuner) (0.2.8)\n",
            "Requirement already satisfied: cachetools<6.0,>=2.0.0 in c:\\users\\dave\\.conda\\envs\\dlproj\\lib\\site-packages (from google-auth<3,>=1.6.3->tensorboard->keras-tuner) (5.0.0)\n",
            "Requirement already satisfied: requests-oauthlib>=0.7.0 in c:\\users\\dave\\.conda\\envs\\dlproj\\lib\\site-packages (from google-auth-oauthlib<0.5,>=0.4.1->tensorboard->keras-tuner) (1.3.1)\n",
            "Requirement already satisfied: importlib-metadata>=4.4 in c:\\users\\dave\\.conda\\envs\\dlproj\\lib\\site-packages (from markdown>=2.6.8->tensorboard->keras-tuner) (4.11.3)\n",
            "Requirement already satisfied: zipp>=0.5 in c:\\users\\dave\\.conda\\envs\\dlproj\\lib\\site-packages (from importlib-metadata>=4.4->markdown>=2.6.8->tensorboard->keras-tuner) (3.8.0)\n",
            "Requirement already satisfied: pyasn1<0.5.0,>=0.4.6 in c:\\users\\dave\\.conda\\envs\\dlproj\\lib\\site-packages (from pyasn1-modules>=0.2.1->google-auth<3,>=1.6.3->tensorboard->keras-tuner) (0.4.8)\n",
            "Requirement already satisfied: oauthlib>=3.0.0 in c:\\users\\dave\\.conda\\envs\\dlproj\\lib\\site-packages (from requests-oauthlib>=0.7.0->google-auth-oauthlib<0.5,>=0.4.1->tensorboard->keras-tuner) (3.2.0)\n"
          ]
        }
      ],
      "source": [
        "!pip install keras-tuner"
      ]
    },
    {
      "cell_type": "markdown",
      "metadata": {
        "id": "qZcbcS18P4n9"
      },
      "source": [
        "# Import Required Packages"
      ]
    },
    {
      "cell_type": "code",
      "execution_count": 1,
      "metadata": {
        "id": "10irgd5fQsTQ"
      },
      "outputs": [
        {
          "name": "stdout",
          "output_type": "stream",
          "text": [
            "The Zen of Python, by Tim Peters\n",
            "\n",
            "Beautiful is better than ugly.\n",
            "Explicit is better than implicit.\n",
            "Simple is better than complex.\n",
            "Complex is better than complicated.\n",
            "Flat is better than nested.\n",
            "Sparse is better than dense.\n",
            "Readability counts.\n",
            "Special cases aren't special enough to break the rules.\n",
            "Although practicality beats purity.\n",
            "Errors should never pass silently.\n",
            "Unless explicitly silenced.\n",
            "In the face of ambiguity, refuse the temptation to guess.\n",
            "There should be one-- and preferably only one --obvious way to do it.\n",
            "Although that way may not be obvious at first unless you're Dutch.\n",
            "Now is better than never.\n",
            "Although never is often better than *right* now.\n",
            "If the implementation is hard to explain, it's a bad idea.\n",
            "If the implementation is easy to explain, it may be a good idea.\n",
            "Namespaces are one honking great idea -- let's do more of those!\n"
          ]
        }
      ],
      "source": [
        "from data_creation import DataSelection\n",
        "from prediction_LSTM import SolarLSTM\n",
        "import pickle\n",
        "import numpy as np\n",
        "import tensorflow as tf\n",
        "from tensorflow import keras"
      ]
    },
    {
      "cell_type": "markdown",
      "metadata": {
        "id": "-tIs0gOhPI7t"
      },
      "source": [
        "# Base Model with All Parameters"
      ]
    },
    {
      "cell_type": "code",
      "execution_count": 27,
      "metadata": {
        "colab": {
          "base_uri": "https://localhost:8080/"
        },
        "id": "Zh4G0bs9Q1B8",
        "outputId": "bdd0a9e2-82fd-4301-94a1-e2365e738a2a"
      },
      "outputs": [
        {
          "ename": "FileNotFoundError",
          "evalue": "[Errno 2] No such file or directory: '/content/all_data.pkl'",
          "output_type": "error",
          "traceback": [
            "\u001b[1;31m---------------------------------------------------------------------------\u001b[0m",
            "\u001b[1;31mFileNotFoundError\u001b[0m                         Traceback (most recent call last)",
            "\u001b[1;32mc:\\Users\\Dave\\Documents\\UVA\\DS6050\\Group project\\DS6050-SolarFlarePrediction\\ColabNotebook_ModelPipeline.ipynb Cell 6'\u001b[0m in \u001b[0;36m<cell line: 1>\u001b[1;34m()\u001b[0m\n\u001b[1;32m----> <a href='vscode-notebook-cell:/c%3A/Users/Dave/Documents/UVA/DS6050/Group%20project/DS6050-SolarFlarePrediction/ColabNotebook_ModelPipeline.ipynb#ch0000005?line=0'>1</a>\u001b[0m \u001b[39mwith\u001b[39;00m \u001b[39mopen\u001b[39;49m(\u001b[39m\"\u001b[39;49m\u001b[39m/content/all_data.pkl\u001b[39;49m\u001b[39m\"\u001b[39;49m, \u001b[39m\"\u001b[39;49m\u001b[39mrb\u001b[39;49m\u001b[39m\"\u001b[39;49m) \u001b[39mas\u001b[39;00m file:\n\u001b[0;32m      <a href='vscode-notebook-cell:/c%3A/Users/Dave/Documents/UVA/DS6050/Group%20project/DS6050-SolarFlarePrediction/ColabNotebook_ModelPipeline.ipynb#ch0000005?line=1'>2</a>\u001b[0m     data \u001b[39m=\u001b[39m pickle\u001b[39m.\u001b[39mload(file)\n\u001b[0;32m      <a href='vscode-notebook-cell:/c%3A/Users/Dave/Documents/UVA/DS6050/Group%20project/DS6050-SolarFlarePrediction/ColabNotebook_ModelPipeline.ipynb#ch0000005?line=3'>4</a>\u001b[0m DataSelection(data, \u001b[39m2014\u001b[39m, \u001b[39m\"\u001b[39m\u001b[39m./\u001b[39m\u001b[39m\"\u001b[39m, \u001b[39m38\u001b[39m)\n",
            "\u001b[1;31mFileNotFoundError\u001b[0m: [Errno 2] No such file or directory: '/content/all_data.pkl'"
          ]
        }
      ],
      "source": [
        "with open(\"/content/all_data.pkl\", \"rb\") as file:\n",
        "    data = pickle.load(file)\n",
        "\n",
        "DataSelection(data, 2014, \"./\", 38)\n",
        "# DataSelection(data, 2015, \"./\")"
      ]
    },
    {
      "cell_type": "code",
      "execution_count": null,
      "metadata": {
        "colab": {
          "base_uri": "https://localhost:8080/"
        },
        "id": "Z0Mm90v8_rMd",
        "outputId": "97447ce3-17fa-4013-a539-802500fd88c4"
      },
      "outputs": [
        {
          "name": "stdout",
          "output_type": "stream",
          "text": [
            "Num GB used in data array: 0.0\n",
            "Num GB used in data array: 0.0019025802612304688\n",
            "Num GB used in data array: 0.0019025802612304688\n",
            "Num GB used in data array: 0.0031256675720214844\n",
            "Num GB used in data array: 0.0031256675720214844\n",
            "Num GB used in data array: 0.010973811149597168\n",
            "Num GB used in data array: 0.010973811149597168\n",
            "Num GB used in data array: 0.017496943473815918\n",
            "Num GB used in data array: 0.017496943473815918\n",
            "Num GB used in data array: 0.02415597438812256\n",
            "Num GB used in data array: 0.02415597438812256\n",
            "Num GB used in data array: 0.03142654895782471\n",
            "Num GB used in data array: 0.03142654895782471\n",
            "Num GB used in data array: 0.033329129219055176\n",
            "Num GB used in data array: 0.033329129219055176\n",
            "Num GB used in data array: 0.035231709480285645\n",
            "Num GB used in data array: 0.035231709480285645\n",
            "Num GB used in data array: 0.04630744457244873\n",
            "Num GB used in data array: 0.04630744457244873\n",
            "Num GB used in data array: 0.04668116569519043\n",
            "Num GB used in data array: 0.04668116569519043\n",
            "Num GB used in data array: 0.04759848117828369\n",
            "Num GB used in data array: 0.04759848117828369\n",
            "Num GB used in data array: 0.04759848117828369\n",
            "Num GB used in data array: 0.05874216556549072\n",
            "Num GB used in data array: 0.05874216556549072\n",
            "Num GB used in data array: 0.06064474582672119\n",
            "Num GB used in data array: 0.06064474582672119\n",
            "Num GB used in data array: 0.06152808666229248\n",
            "Num GB used in data array: 0.06152808666229248\n",
            "Num GB used in data array: 0.06152808666229248\n",
            "Num GB used in data array: 0.07073521614074707\n",
            "Num GB used in data array: 0.07073521614074707\n",
            "Num GB used in data array: 0.07178843021392822\n",
            "Num GB used in data array: 0.07178843021392822\n",
            "Num GB used in data array: 0.11503815650939941\n",
            "Num GB used in data array: 0.11503815650939941\n",
            "Num GB used in data array: 0.12271642684936523\n",
            "Num GB used in data array: 0.12271642684936523\n",
            "Num GB used in data array: 0.12614786624908447\n",
            "Num GB used in data array: 0.12614786624908447\n",
            "Num GB used in data array: 0.1263517141342163\n",
            "Num GB used in data array: 0.1263517141342163\n",
            "Num GB used in data array: 0.1263517141342163\n",
            "Num GB used in data array: 0.12726902961730957\n",
            "Num GB used in data array: 0.12726902961730957\n",
            "Num GB used in data array: 0.12726902961730957\n",
            "Num GB used in data array: 0.12726902961730957\n",
            "Num GB used in data array: 0.12726902961730957\n",
            "Num GB used in data array: 0.12726902961730957\n",
            "Num GB used in data array: 0.12726902961730957\n",
            "Num GB used in data array: 0.12726902961730957\n",
            "Num GB used in data array: 0.12726902961730957\n",
            "Num GB used in data array: 0.12726902961730957\n",
            "Num GB used in data array: 0.12726902961730957\n",
            "Num GB used in data array: 0.12726902961730957\n",
            "Num GB used in data array: 0.12726902961730957\n",
            "Num GB used in data array: 0.12726902961730957\n",
            "Num GB used in data array: 0.12726902961730957\n",
            "Num GB used in data array: 0.12726902961730957\n",
            "Num GB used in data array: 0.12726902961730957\n",
            "Num GB used in data array: 0.12726902961730957\n",
            "Num GB used in data array: 0.12726902961730957\n",
            "Num GB used in data array: 0.12726902961730957\n",
            "Num GB used in data array: 0.12726902961730957\n",
            "Num GB used in data array: 0.12726902961730957\n",
            "Num GB used in data array: 0.12726902961730957\n",
            "Num GB used in data array: 0.12726902961730957\n",
            "Num GB used in data array: 0.12726902961730957\n",
            "Num GB used in data array: 0.12726902961730957\n",
            "Num GB used in data array: 0.12726902961730957\n",
            "Num GB used in data array: 0.12726902961730957\n",
            "Num GB used in data array: 0.1277446746826172\n",
            "Num GB used in data array: 0.1277446746826172\n",
            "Num GB used in data array: 0.1277446746826172\n",
            "Num GB used in data array: 0.1277446746826172\n",
            "Num GB used in data array: 0.1277446746826172\n",
            "Num GB used in data array: 0.1277446746826172\n",
            "Num GB used in data array: 0.1277446746826172\n",
            "Num GB used in data array: 0.1277446746826172\n",
            "Num GB used in data array: 0.1277446746826172\n",
            "Num GB used in data array: 0.1277446746826172\n",
            "Num GB used in data array: 0.1277446746826172\n",
            "Num GB used in data array: 0.1277446746826172\n",
            "Num GB used in data array: 0.1277446746826172\n",
            "Num GB used in data array: 0.1277446746826172\n",
            "Num GB used in data array: 0.1277446746826172\n",
            "Num GB used in data array: 0.1277446746826172\n",
            "Num GB used in data array: 0.1277446746826172\n",
            "Num GB used in data array: 0.1277446746826172\n",
            "Num GB used in data array: 0.1277446746826172\n",
            "Num GB used in data array: 0.1277446746826172\n",
            "Num GB used in data array: 0.1277446746826172\n",
            "Num GB used in data array: 0.1277446746826172\n",
            "Num GB used in data array: 0.1277446746826172\n",
            "Num GB used in data array: 0.1277446746826172\n",
            "Num GB used in data array: 0.1277446746826172\n",
            "Num GB used in data array: 0.1277446746826172\n",
            "Num GB used in data array: 0.1277446746826172\n",
            "Num GB used in data array: 0.1277446746826172\n",
            "Num GB used in data array: 0.1277446746826172\n",
            "Num GB used in data array: 0.1277446746826172\n",
            "Num GB used in data array: 0.1277446746826172\n",
            "Num GB used in data array: 0.13545691967010498\n",
            "Num GB used in data array: 0.13545691967010498\n",
            "Num GB used in data array: 0.13545691967010498\n",
            "Num GB used in data array: 0.13545691967010498\n",
            "Num GB used in data array: 0.1376652717590332\n",
            "Num GB used in data array: 0.1376652717590332\n",
            "Num GB used in data array: 0.1376652717590332\n",
            "Num GB used in data array: 0.1376652717590332\n",
            "Num GB used in data array: 0.14231979846954346\n",
            "Num GB used in data array: 0.14231979846954346\n",
            "Num GB used in data array: 0.1500999927520752\n",
            "Num GB used in data array: 0.1500999927520752\n",
            "Num GB used in data array: 0.17846882343292236\n",
            "Num GB used in data array: 0.17846882343292236\n",
            "Num GB used in data array: 0.23214876651763916\n",
            "Num GB used in data array: 0.23214876651763916\n",
            "Num GB used in data array: 0.2421712875366211\n",
            "Num GB used in data array: 0.2421712875366211\n",
            "Num GB used in data array: 0.24356424808502197\n",
            "Num GB used in data array: 0.24356424808502197\n",
            "Num GB used in data array: 0.24407386779785156\n",
            "Num GB used in data array: 0.24407386779785156\n",
            "Num GB used in data array: 0.24407386779785156\n",
            "Num GB used in data array: 0.24407386779785156\n",
            "Num GB used in data array: 0.2676522731781006\n",
            "Num GB used in data array: 0.2676522731781006\n",
            "Num GB used in data array: 0.2734619379043579\n",
            "Num GB used in data array: 0.2734619379043579\n",
            "Num GB used in data array: 0.29418647289276123\n",
            "Num GB used in data array: 0.29418647289276123\n",
            "Num GB used in data array: 0.30196666717529297\n",
            "Num GB used in data array: 0.30196666717529297\n",
            "Num GB used in data array: 0.3089994192123413\n",
            "Num GB used in data array: 0.3089994192123413\n",
            "Num GB used in data array: 0.3089994192123413\n",
            "Num GB used in data array: 0.3089994192123413\n",
            "Num GB used in data array: 0.31538665294647217\n",
            "Num GB used in data array: 0.31538665294647217\n",
            "Num GB used in data array: 0.3223174810409546\n",
            "Num GB used in data array: 0.3223174810409546\n",
            "Num GB used in data array: 0.3223174810409546\n",
            "Num GB used in data array: 0.3223174810409546\n",
            "Num GB used in data array: 0.3223174810409546\n",
            "Num GB used in data array: 0.3223174810409546\n",
            "Num GB used in data array: 0.3223174810409546\n",
            "Num GB used in data array: 0.3223174810409546\n",
            "Num GB used in data array: 0.3227931261062622\n",
            "Num GB used in data array: 0.3227931261062622\n",
            "Num GB used in data array: 0.323064923286438\n",
            "Num GB used in data array: 0.323064923286438\n",
            "Num GB used in data array: 0.323064923286438\n",
            "Num GB used in data array: 0.323064923286438\n",
            "Num GB used in data array: 0.323064923286438\n",
            "Num GB used in data array: 0.323064923286438\n",
            "Num GB used in data array: 0.323064923286438\n",
            "Num GB used in data array: 0.323064923286438\n",
            "Num GB used in data array: 0.323064923286438\n",
            "Num GB used in data array: 0.323064923286438\n",
            "Num GB used in data array: 0.34745872020721436\n",
            "Num GB used in data array: 0.34745872020721436\n",
            "Num GB used in data array: 0.3492933511734009\n",
            "Num GB used in data array: 0.3492933511734009\n",
            "Num GB used in data array: 0.3492933511734009\n",
            "Num GB used in data array: 0.3666883707046509\n",
            "Num GB used in data array: 0.3666883707046509\n",
            "Num GB used in data array: 0.3875148296356201\n",
            "Num GB used in data array: 0.3875148296356201\n",
            "Num GB used in data array: 0.3875148296356201\n",
            "Num GB used in data array: 0.4326331615447998\n",
            "Num GB used in data array: 0.4326331615447998\n",
            "Num GB used in data array: 0.5067998170852661\n",
            "Num GB used in data array: 0.5067998170852661\n",
            "Num GB used in data array: 0.5067998170852661\n",
            "Num GB used in data array: 0.5571502447128296\n",
            "Num GB used in data array: 0.5571502447128296\n",
            "Num GB used in data array: 0.583990216255188\n",
            "Num GB used in data array: 0.583990216255188\n",
            "Num GB used in data array: 0.5987012386322021\n",
            "Num GB used in data array: 0.5987012386322021\n",
            "Num GB used in data array: 0.5995506048202515\n",
            "Num GB used in data array: 0.5995506048202515\n",
            "Num GB used in data array: 0.6039673089981079\n",
            "Num GB used in data array: 0.6039673089981079\n",
            "Num GB used in data array: 0.6069231033325195\n",
            "Num GB used in data array: 0.6069231033325195\n",
            "Num GB used in data array: 0.6325060129165649\n",
            "Num GB used in data array: 0.6325060129165649\n",
            "Num GB used in data array: 0.6537741422653198\n",
            "Num GB used in data array: 0.6537741422653198\n",
            "Num GB used in data array: 0.6537741422653198\n",
            "Num GB used in data array: 0.6562542915344238\n",
            "Num GB used in data array: 0.6562542915344238\n",
            "Num GB used in data array: 0.6766051054000854\n",
            "Num GB used in data array: 0.6766051054000854\n",
            "Num GB used in data array: 0.6773525476455688\n",
            "Num GB used in data array: 0.6773525476455688\n",
            "Num GB used in data array: 0.7488352060317993\n",
            "Num GB used in data array: 0.7488352060317993\n",
            "Num GB used in data array: 0.7789027690887451\n",
            "Num GB used in data array: 0.7789027690887451\n",
            "Num GB used in data array: 0.8810985088348389\n",
            "Num GB used in data array: 0.8810985088348389\n",
            "Num GB used in data array: 0.8919364213943481\n",
            "Num GB used in data array: 0.8919364213943481\n",
            "Num GB used in data array: 0.8953678607940674\n",
            "Num GB used in data array: 0.8953678607940674\n",
            "Num GB used in data array: 0.9034878015518188\n",
            "Num GB used in data array: 0.9034878015518188\n",
            "Num GB used in data array: 0.9109961986541748\n",
            "Num GB used in data array: 0.9109961986541748\n",
            "Num GB used in data array: 0.9167039394378662\n",
            "Num GB used in data array: 0.9167039394378662\n",
            "Num GB used in data array: 0.9205770492553711\n",
            "Num GB used in data array: 0.9205770492553711\n",
            "Num GB used in data array: 0.9238725900650024\n",
            "Num GB used in data array: 0.9238725900650024\n",
            "Num GB used in data array: 0.9272021055221558\n",
            "Num GB used in data array: 0.9272021055221558\n",
            "Num GB used in data array: 0.9272021055221558\n",
            "Num GB used in data array: 0.9272021055221558\n",
            "Num GB used in data array: 0.9272021055221558\n",
            "Num GB used in data array: 0.9272021055221558\n",
            "Num GB used in data array: 0.9272021055221558\n",
            "Num GB used in data array: 0.9272021055221558\n",
            "Num GB used in data array: 0.9285610914230347\n",
            "Num GB used in data array: 0.9285610914230347\n",
            "Num GB used in data array: 0.9287989139556885\n",
            "Num GB used in data array: 0.9287989139556885\n",
            "Num GB used in data array: 0.9287989139556885\n",
            "Num GB used in data array: 0.9287989139556885\n",
            "Num GB used in data array: 0.9287989139556885\n",
            "Num GB used in data array: 0.9287989139556885\n",
            "Num GB used in data array: 0.9287989139556885\n",
            "Num GB used in data array: 0.9300559759140015\n",
            "Num GB used in data array: 0.9300559759140015\n",
            "Num GB used in data array: 0.9300559759140015\n",
            "Num GB used in data array: 0.9385836124420166\n",
            "Num GB used in data array: 0.9385836124420166\n",
            "Num GB used in data array: 0.9678018093109131\n",
            "Num GB used in data array: 0.9678018093109131\n",
            "Num GB used in data array: 0.9678018093109131\n",
            "Num GB used in data array: 0.9678018093109131\n",
            "Num GB used in data array: 0.9678018093109131\n",
            "Num GB used in data array: 0.9678018093109131\n",
            "Num GB used in data array: 0.9678018093109131\n",
            "Num GB used in data array: 0.9678018093109131\n",
            "Num GB used in data array: 0.9678018093109131\n",
            "Num GB used in data array: 0.9678018093109131\n",
            "Num GB used in data array: 0.9678018093109131\n",
            "Num GB used in data array: 0.9678018093109131\n",
            "Num GB used in data array: 0.9678018093109131\n",
            "Num GB used in data array: 0.9678018093109131\n",
            "Num GB used in data array: 0.9678018093109131\n",
            "Num GB used in data array: 0.9678018093109131\n",
            "Num GB used in data array: 0.9678018093109131\n",
            "Num GB used in data array: 0.9678018093109131\n",
            "Num GB used in data array: 0.9678018093109131\n",
            "Num GB used in data array: 0.9678018093109131\n",
            "Num GB used in data array: 0.9678018093109131\n",
            "Num GB used in data array: 0.9678018093109131\n",
            "Num GB used in data array: 0.9678018093109131\n",
            "Num GB used in data array: 0.9678018093109131\n",
            "Num GB used in data array: 0.9678018093109131\n",
            "Num GB used in data array: 0.9678018093109131\n",
            "Num GB used in data array: 0.9678018093109131\n",
            "Num GB used in data array: 0.9678018093109131\n",
            "Num GB used in data array: 0.9678018093109131\n",
            "Num GB used in data array: 0.9678018093109131\n",
            "Num GB used in data array: 0.9678018093109131\n",
            "Num GB used in data array: 0.9678018093109131\n",
            "Num GB used in data array: 0.9678018093109131\n",
            "Num GB used in data array: 0.9678018093109131\n",
            "Num GB used in data array: 0.9678018093109131\n",
            "Num GB used in data array: 0.9678018093109131\n",
            "Num GB used in data array: 0.9678018093109131\n",
            "Num GB used in data array: 0.9678018093109131\n",
            "Num GB used in data array: 0.9678018093109131\n",
            "Num GB used in data array: 0.9678018093109131\n",
            "Num GB used in data array: 0.9678018093109131\n",
            "Num GB used in data array: 0.9678018093109131\n",
            "Num GB used in data array: 0.9678018093109131\n",
            "Num GB used in data array: 0.9678018093109131\n",
            "Num GB used in data array: 0.9678018093109131\n",
            "Num GB used in data array: 0.9678018093109131\n",
            "Num GB used in data array: 0.9678018093109131\n",
            "Num GB used in data array: 0.9678018093109131\n",
            "Num GB used in data array: 0.9678018093109131\n",
            "Num GB used in data array: 0.9678018093109131\n",
            "Num GB used in data array: 0.9678018093109131\n",
            "Num GB used in data array: 0.9678018093109131\n",
            "Num GB used in data array: 0.9678018093109131\n",
            "Num GB used in data array: 0.9678018093109131\n",
            "Num GB used in data array: 0.9678018093109131\n",
            "Num GB used in data array: 0.9678018093109131\n",
            "Num GB used in data array: 0.9678018093109131\n",
            "Num GB used in data array: 0.9678018093109131\n",
            "Num GB used in data array: 0.9678018093109131\n",
            "Num GB used in data array: 0.9678018093109131\n",
            "Num GB used in data array: 0.9678018093109131\n",
            "Num GB used in data array: 0.9678018093109131\n",
            "Num GB used in data array: 0.9678018093109131\n",
            "Num GB used in data array: 0.9678018093109131\n",
            "Num GB used in data array: 0.9678018093109131\n",
            "Num GB used in data array: 0.9678018093109131\n",
            "Num GB used in data array: 0.9678018093109131\n",
            "Num GB used in data array: 0.9678018093109131\n",
            "Num GB used in data array: 0.9678018093109131\n",
            "Num GB used in data array: 0.9678018093109131\n",
            "Num GB used in data array: 0.9678018093109131\n",
            "Num GB used in data array: 0.9678018093109131\n",
            "Num GB used in data array: 0.9678018093109131\n",
            "Num GB used in data array: 0.9678018093109131\n",
            "Num GB used in data array: 0.9678018093109131\n",
            "Num GB used in data array: 0.9678018093109131\n",
            "Num GB used in data array: 0.9678018093109131\n",
            "Num GB used in data array: 0.9678018093109131\n",
            "Num GB used in data array: 0.9678018093109131\n",
            "Num GB used in data array: 0.9678018093109131\n",
            "Num GB used in data array: 0.9678018093109131\n",
            "Num GB used in data array: 0.9678018093109131\n",
            "Num GB used in data array: 0.9678018093109131\n",
            "Num GB used in data array: 0.9678018093109131\n",
            "Num GB used in data array: 0.9678018093109131\n",
            "Num GB used in data array: 0.9678018093109131\n",
            "Num GB used in data array: 0.9678018093109131\n",
            "Num GB used in data array: 0.9678018093109131\n",
            "Num GB used in data array: 0.9678018093109131\n",
            "Num GB used in data array: 0.9678018093109131\n",
            "Num GB used in data array: 0.9678018093109131\n",
            "Num GB used in data array: 0.9678018093109131\n",
            "Num GB used in data array: 0.9678018093109131\n",
            "Num GB used in data array: 0.9678018093109131\n",
            "Num GB used in data array: 0.9678018093109131\n",
            "Num GB used in data array: 0.9678018093109131\n",
            "Num GB used in data array: 0.9678018093109131\n",
            "Num GB used in data array: 0.9678018093109131\n",
            "Num GB used in data array: 0.9678018093109131\n",
            "Num GB used in data array: 0.9678018093109131\n",
            "Num GB used in data array: 0.9678018093109131\n",
            "Num GB used in data array: 0.9678018093109131\n",
            "Num GB used in data array: 0.9678018093109131\n",
            "Num GB used in data array: 0.9678018093109131\n",
            "Num GB used in data array: 0.9678018093109131\n",
            "Num GB used in data array: 0.9678018093109131\n",
            "Num GB used in data array: 0.9678018093109131\n",
            "Num GB used in data array: 0.9678018093109131\n",
            "Num GB used in data array: 0.9678018093109131\n",
            "Num GB used in data array: 0.9678018093109131\n",
            "Num GB used in data array: 0.9678018093109131\n",
            "Num GB used in data array: 0.9678018093109131\n",
            "Num GB used in data array: 0.9678018093109131\n",
            "Num GB used in data array: 0.9678018093109131\n",
            "Num GB used in data array: 0.9678018093109131\n",
            "Num GB used in data array: 0.9678018093109131\n",
            "Num GB used in data array: 0.9678018093109131\n",
            "Num GB used in data array: 0.9678018093109131\n",
            "Num GB used in data array: 0.9678018093109131\n",
            "Num GB used in data array: 0.9678018093109131\n",
            "Num GB used in data array: 0.9678018093109131\n",
            "Num GB used in data array: 0.9678018093109131\n",
            "Num GB used in data array: 0.9678018093109131\n",
            "Num GB used in data array: 0.9678018093109131\n",
            "Num GB used in data array: 0.9678018093109131\n",
            "Num GB used in data array: 0.9678018093109131\n",
            "Num GB used in data array: 0.9678018093109131\n",
            "Num GB used in data array: 0.9678018093109131\n",
            "Num GB used in data array: 0.9678018093109131\n",
            "Num GB used in data array: 0.9678018093109131\n",
            "Num GB used in data array: 0.9678018093109131\n",
            "Num GB used in data array: 0.9678018093109131\n",
            "Num GB used in data array: 0.9678018093109131\n"
          ]
        },
        {
          "data": {
            "text/plain": [
              "<data_creation.DataSelection at 0x7f374ce79490>"
            ]
          },
          "execution_count": 4,
          "metadata": {},
          "output_type": "execute_result"
        }
      ],
      "source": [
        "with open(\"norm_scaler.pkl\", \"rb\") as norm_file:\n",
        "    normalization = pickle.load(norm_file)\n",
        "\n",
        "with open(\"stand_scaler.pkl\", \"rb\") as stand_file:\n",
        "    standard = pickle.load(stand_file)\n",
        "\n",
        "DataSelection(data, 2015,\"./\", 38, norm_scaler=normalization, stand_scaler=standard)"
      ]
    },
    {
      "cell_type": "code",
      "execution_count": 2,
      "metadata": {
        "id": "5caJAPMcssGm"
      },
      "outputs": [],
      "source": [
        "data2014 = np.load(\"data_2014.npy\")\n",
        "labels2014 = np.load(\"labels_2014.npy\")"
      ]
    },
    {
      "cell_type": "code",
      "execution_count": null,
      "metadata": {
        "id": "IvtuPAVJZ1HO"
      },
      "outputs": [],
      "source": [
        "# data2014.shape[0] % 64"
      ]
    },
    {
      "cell_type": "code",
      "execution_count": null,
      "metadata": {
        "id": "kCjIZIOZZ6zL"
      },
      "outputs": [],
      "source": [
        "# # Need to adjust data size to ensure that each batch is of size 64\n",
        "# adjusted_data = data2014[:data2014.shape[0]-18, :, :]\n",
        "# adjusted_labels = labels2014[:labels2014.shape[0]-18, :, :]"
      ]
    },
    {
      "cell_type": "code",
      "execution_count": 4,
      "metadata": {
        "id": "im3EwZyNYK6-"
      },
      "outputs": [],
      "source": [
        "base_model = SolarLSTM(data2014, labels2014, save_path=\"./\",num_variables=38)"
      ]
    },
    {
      "cell_type": "code",
      "execution_count": 5,
      "metadata": {
        "id": "Hx82BYHwQ7bb"
      },
      "outputs": [],
      "source": [
        "base_model.build_model()"
      ]
    },
    {
      "cell_type": "code",
      "execution_count": 6,
      "metadata": {
        "colab": {
          "base_uri": "https://localhost:8080/"
        },
        "id": "csd-wHI8Q9u-",
        "outputId": "16b1d480-785d-4360-bf68-eff73109b2a9"
      },
      "outputs": [
        {
          "data": {
            "text/plain": [
              "<keras.engine.sequential.Sequential at 0x28aaf3f4700>"
            ]
          },
          "execution_count": 6,
          "metadata": {},
          "output_type": "execute_result"
        }
      ],
      "source": [
        "base_model.model"
      ]
    },
    {
      "cell_type": "code",
      "execution_count": 7,
      "metadata": {
        "colab": {
          "base_uri": "https://localhost:8080/",
          "height": 1000
        },
        "id": "PTJij7KnQ_ye",
        "outputId": "8bf5c2bf-d2b0-4c4a-f1e8-038ae4805468"
      },
      "outputs": [
        {
          "name": "stdout",
          "output_type": "stream",
          "text": [
            "Epoch 1/50\n"
          ]
        },
        {
          "name": "stderr",
          "output_type": "stream",
          "text": [
            "C:\\Users\\Dave\\.conda\\envs\\dlproj\\lib\\site-packages\\tensorflow\\python\\util\\dispatch.py:1082: UserWarning: \"`binary_crossentropy` received `from_logits=True`, but the `output` argument was produced by a sigmoid or softmax activation and thus does not represent logits. Was this intended?\"\n",
            "  return dispatch_target(*args, **kwargs)\n"
          ]
        },
        {
          "name": "stdout",
          "output_type": "stream",
          "text": [
            "1344/1345 [============================>.] - ETA: 0s - loss: 0.6278 - accuracy: 0.6825 - mse: 0.2147 - mae: 0.4153"
          ]
        },
        {
          "name": "stderr",
          "output_type": "stream",
          "text": [
            "WARNING:absl:Found untraced functions such as lstm_cell_layer_call_fn, lstm_cell_layer_call_and_return_conditional_losses, lstm_cell_1_layer_call_fn, lstm_cell_1_layer_call_and_return_conditional_losses while saving (showing 4 of 4). These functions will not be directly callable after loading.\n"
          ]
        },
        {
          "name": "stdout",
          "output_type": "stream",
          "text": [
            "INFO:tensorflow:Assets written to: model_checkpoints\\assets\n"
          ]
        },
        {
          "name": "stderr",
          "output_type": "stream",
          "text": [
            "INFO:tensorflow:Assets written to: model_checkpoints\\assets\n",
            "WARNING:absl:<keras.layers.recurrent.LSTMCell object at 0x0000028AB0A75460> has the same name 'LSTMCell' as a built-in Keras object. Consider renaming <class 'keras.layers.recurrent.LSTMCell'> to avoid naming conflicts when loading with `tf.keras.models.load_model`. If renaming is not possible, pass the object in the `custom_objects` parameter of the load function.\n",
            "WARNING:absl:<keras.layers.recurrent.LSTMCell object at 0x0000028AB0BF6970> has the same name 'LSTMCell' as a built-in Keras object. Consider renaming <class 'keras.layers.recurrent.LSTMCell'> to avoid naming conflicts when loading with `tf.keras.models.load_model`. If renaming is not possible, pass the object in the `custom_objects` parameter of the load function.\n"
          ]
        },
        {
          "name": "stdout",
          "output_type": "stream",
          "text": [
            "1345/1345 [==============================] - 88s 63ms/step - loss: 0.6280 - accuracy: 0.6823 - mse: 0.2148 - mae: 0.4154 - val_loss: 0.6808 - val_accuracy: 0.6404 - val_mse: 0.2415 - val_mae: 0.4313\n",
            "Epoch 2/50\n",
            "1344/1345 [============================>.] - ETA: 0s - loss: 0.6110 - accuracy: 0.6927 - mse: 0.2097 - mae: 0.4133"
          ]
        },
        {
          "name": "stderr",
          "output_type": "stream",
          "text": [
            "WARNING:absl:Found untraced functions such as lstm_cell_layer_call_fn, lstm_cell_layer_call_and_return_conditional_losses, lstm_cell_1_layer_call_fn, lstm_cell_1_layer_call_and_return_conditional_losses while saving (showing 4 of 4). These functions will not be directly callable after loading.\n"
          ]
        },
        {
          "name": "stdout",
          "output_type": "stream",
          "text": [
            "INFO:tensorflow:Assets written to: model_checkpoints\\assets\n"
          ]
        },
        {
          "name": "stderr",
          "output_type": "stream",
          "text": [
            "INFO:tensorflow:Assets written to: model_checkpoints\\assets\n",
            "WARNING:absl:<keras.layers.recurrent.LSTMCell object at 0x0000028AB0A75460> has the same name 'LSTMCell' as a built-in Keras object. Consider renaming <class 'keras.layers.recurrent.LSTMCell'> to avoid naming conflicts when loading with `tf.keras.models.load_model`. If renaming is not possible, pass the object in the `custom_objects` parameter of the load function.\n",
            "WARNING:absl:<keras.layers.recurrent.LSTMCell object at 0x0000028AB0BF6970> has the same name 'LSTMCell' as a built-in Keras object. Consider renaming <class 'keras.layers.recurrent.LSTMCell'> to avoid naming conflicts when loading with `tf.keras.models.load_model`. If renaming is not possible, pass the object in the `custom_objects` parameter of the load function.\n"
          ]
        },
        {
          "name": "stdout",
          "output_type": "stream",
          "text": [
            "1345/1345 [==============================] - 82s 61ms/step - loss: 0.6112 - accuracy: 0.6925 - mse: 0.2098 - mae: 0.4133 - val_loss: 0.6736 - val_accuracy: 0.6403 - val_mse: 0.2387 - val_mae: 0.4334\n",
            "Epoch 3/50\n",
            "1345/1345 [==============================] - 73s 54ms/step - loss: 0.6024 - accuracy: 0.6917 - mse: 0.2073 - mae: 0.4130 - val_loss: 0.6751 - val_accuracy: 0.6405 - val_mse: 0.2393 - val_mae: 0.4391\n",
            "Epoch 4/50\n",
            "1344/1345 [============================>.] - ETA: 0s - loss: 0.5862 - accuracy: 0.7038 - mse: 0.2007 - mae: 0.4011"
          ]
        },
        {
          "name": "stderr",
          "output_type": "stream",
          "text": [
            "WARNING:absl:Found untraced functions such as lstm_cell_layer_call_fn, lstm_cell_layer_call_and_return_conditional_losses, lstm_cell_1_layer_call_fn, lstm_cell_1_layer_call_and_return_conditional_losses while saving (showing 4 of 4). These functions will not be directly callable after loading.\n"
          ]
        },
        {
          "name": "stdout",
          "output_type": "stream",
          "text": [
            "INFO:tensorflow:Assets written to: model_checkpoints\\assets\n"
          ]
        },
        {
          "name": "stderr",
          "output_type": "stream",
          "text": [
            "INFO:tensorflow:Assets written to: model_checkpoints\\assets\n",
            "WARNING:absl:<keras.layers.recurrent.LSTMCell object at 0x0000028AB0A75460> has the same name 'LSTMCell' as a built-in Keras object. Consider renaming <class 'keras.layers.recurrent.LSTMCell'> to avoid naming conflicts when loading with `tf.keras.models.load_model`. If renaming is not possible, pass the object in the `custom_objects` parameter of the load function.\n",
            "WARNING:absl:<keras.layers.recurrent.LSTMCell object at 0x0000028AB0BF6970> has the same name 'LSTMCell' as a built-in Keras object. Consider renaming <class 'keras.layers.recurrent.LSTMCell'> to avoid naming conflicts when loading with `tf.keras.models.load_model`. If renaming is not possible, pass the object in the `custom_objects` parameter of the load function.\n"
          ]
        },
        {
          "name": "stdout",
          "output_type": "stream",
          "text": [
            "1345/1345 [==============================] - 87s 65ms/step - loss: 0.5863 - accuracy: 0.7036 - mse: 0.2007 - mae: 0.4011 - val_loss: 0.6688 - val_accuracy: 0.6391 - val_mse: 0.2369 - val_mae: 0.4454\n",
            "Epoch 5/50\n",
            "1344/1345 [============================>.] - ETA: 0s - loss: 0.5778 - accuracy: 0.7086 - mse: 0.1969 - mae: 0.3884"
          ]
        },
        {
          "name": "stderr",
          "output_type": "stream",
          "text": [
            "WARNING:absl:Found untraced functions such as lstm_cell_layer_call_fn, lstm_cell_layer_call_and_return_conditional_losses, lstm_cell_1_layer_call_fn, lstm_cell_1_layer_call_and_return_conditional_losses while saving (showing 4 of 4). These functions will not be directly callable after loading.\n"
          ]
        },
        {
          "name": "stdout",
          "output_type": "stream",
          "text": [
            "INFO:tensorflow:Assets written to: model_checkpoints\\assets\n"
          ]
        },
        {
          "name": "stderr",
          "output_type": "stream",
          "text": [
            "INFO:tensorflow:Assets written to: model_checkpoints\\assets\n",
            "WARNING:absl:<keras.layers.recurrent.LSTMCell object at 0x0000028AB0A75460> has the same name 'LSTMCell' as a built-in Keras object. Consider renaming <class 'keras.layers.recurrent.LSTMCell'> to avoid naming conflicts when loading with `tf.keras.models.load_model`. If renaming is not possible, pass the object in the `custom_objects` parameter of the load function.\n",
            "WARNING:absl:<keras.layers.recurrent.LSTMCell object at 0x0000028AB0BF6970> has the same name 'LSTMCell' as a built-in Keras object. Consider renaming <class 'keras.layers.recurrent.LSTMCell'> to avoid naming conflicts when loading with `tf.keras.models.load_model`. If renaming is not possible, pass the object in the `custom_objects` parameter of the load function.\n"
          ]
        },
        {
          "name": "stdout",
          "output_type": "stream",
          "text": [
            "1345/1345 [==============================] - 85s 63ms/step - loss: 0.5780 - accuracy: 0.7085 - mse: 0.1970 - mae: 0.3885 - val_loss: 0.6456 - val_accuracy: 0.6313 - val_mse: 0.2276 - val_mae: 0.4477\n",
            "Epoch 6/50\n",
            "1345/1345 [==============================] - 80s 59ms/step - loss: 0.5781 - accuracy: 0.7081 - mse: 0.1974 - mae: 0.3973 - val_loss: 0.6664 - val_accuracy: 0.6268 - val_mse: 0.2361 - val_mae: 0.4417\n",
            "Epoch 7/50\n",
            "1345/1345 [==============================] - 82s 61ms/step - loss: 0.5726 - accuracy: 0.7118 - mse: 0.1953 - mae: 0.3911 - val_loss: 0.6851 - val_accuracy: 0.5963 - val_mse: 0.2449 - val_mae: 0.4497\n",
            "Epoch 8/50\n",
            "1345/1345 [==============================] - 79s 59ms/step - loss: 0.5629 - accuracy: 0.7150 - mse: 0.1912 - mae: 0.3820 - val_loss: 0.7031 - val_accuracy: 0.5813 - val_mse: 0.2525 - val_mae: 0.4533\n",
            "Epoch 9/50\n",
            "1345/1345 [==============================] - 80s 59ms/step - loss: 0.5521 - accuracy: 0.7238 - mse: 0.1867 - mae: 0.3728 - val_loss: 0.6800 - val_accuracy: 0.6217 - val_mse: 0.2428 - val_mae: 0.4444\n",
            "Epoch 10/50\n",
            "1345/1345 [==============================] - 79s 59ms/step - loss: 0.5338 - accuracy: 0.7287 - mse: 0.1795 - mae: 0.3571 - val_loss: 0.6787 - val_accuracy: 0.6134 - val_mse: 0.2421 - val_mae: 0.4348\n",
            "Epoch 11/50\n",
            "1345/1345 [==============================] - 79s 59ms/step - loss: 0.5249 - accuracy: 0.7246 - mse: 0.1760 - mae: 0.3525 - val_loss: 0.6859 - val_accuracy: 0.6191 - val_mse: 0.2438 - val_mae: 0.4302\n",
            "Epoch 12/50\n",
            "1345/1345 [==============================] - 78s 58ms/step - loss: 0.5208 - accuracy: 0.7268 - mse: 0.1747 - mae: 0.3505 - val_loss: 0.6868 - val_accuracy: 0.6165 - val_mse: 0.2442 - val_mae: 0.4124\n",
            "Epoch 13/50\n",
            "1345/1345 [==============================] - 76s 57ms/step - loss: 0.5086 - accuracy: 0.7424 - mse: 0.1690 - mae: 0.3371 - val_loss: 0.6781 - val_accuracy: 0.6218 - val_mse: 0.2399 - val_mae: 0.4031\n",
            "Epoch 14/50\n",
            "1345/1345 [==============================] - 78s 58ms/step - loss: 0.5030 - accuracy: 0.7396 - mse: 0.1675 - mae: 0.3354 - val_loss: 0.6880 - val_accuracy: 0.6192 - val_mse: 0.2427 - val_mae: 0.4040\n",
            "Epoch 15/50\n",
            "1345/1345 [==============================] - 80s 59ms/step - loss: 0.4929 - accuracy: 0.7531 - mse: 0.1636 - mae: 0.3278 - val_loss: 0.6723 - val_accuracy: 0.6137 - val_mse: 0.2381 - val_mae: 0.4132\n",
            "Epoch 16/50\n",
            "1345/1345 [==============================] - 80s 60ms/step - loss: 0.4873 - accuracy: 0.7564 - mse: 0.1616 - mae: 0.3224 - val_loss: 0.6668 - val_accuracy: 0.6102 - val_mse: 0.2341 - val_mae: 0.4069\n",
            "Epoch 17/50\n",
            "1345/1345 [==============================] - 80s 59ms/step - loss: 0.4802 - accuracy: 0.7616 - mse: 0.1584 - mae: 0.3174 - val_loss: 0.6617 - val_accuracy: 0.6131 - val_mse: 0.2314 - val_mae: 0.4068\n",
            "Epoch 18/50\n",
            "1345/1345 [==============================] - 81s 60ms/step - loss: 0.4740 - accuracy: 0.7658 - mse: 0.1564 - mae: 0.3141 - val_loss: 0.7021 - val_accuracy: 0.6125 - val_mse: 0.2431 - val_mae: 0.4072\n",
            "Epoch 19/50\n",
            "1345/1345 [==============================] - 84s 62ms/step - loss: 0.4667 - accuracy: 0.7654 - mse: 0.1539 - mae: 0.3078 - val_loss: 0.7145 - val_accuracy: 0.6221 - val_mse: 0.2457 - val_mae: 0.4016\n",
            "Epoch 20/50\n",
            "1345/1345 [==============================] - 78s 58ms/step - loss: 0.4608 - accuracy: 0.7707 - mse: 0.1517 - mae: 0.3036 - val_loss: 0.7514 - val_accuracy: 0.5916 - val_mse: 0.2547 - val_mae: 0.4142\n",
            "Epoch 20: early stopping\n"
          ]
        },
        {
          "data": {
            "image/png": "[encoded data removed]",
            "text/plain": [
              "<Figure size 576x360 with 1 Axes>"
            ]
          },
          "metadata": {
            "needs_background": "light"
          },
          "output_type": "display_data"
        }
      ],
      "source": [
        "history=base_model.fit()"
      ]
    },
    {
      "cell_type": "code",
      "execution_count": 8,
      "metadata": {
        "id": "NXnJGhmM-Dxp"
      },
      "outputs": [],
      "source": [
        "data2015 = np.load(\"data_2015.npy\")\n",
        "labels2015 = np.load(\"labels_2015.npy\")"
      ]
    },
    {
      "cell_type": "code",
      "execution_count": 9,
      "metadata": {
        "colab": {
          "base_uri": "https://localhost:8080/"
        },
        "id": "jpUoXB0L-Dxp",
        "outputId": "efc1f8a5-d10f-4afa-85e8-856d3ffe7552"
      },
      "outputs": [
        {
          "data": {
            "text/plain": [
              "(107666, 120, 38)"
            ]
          },
          "execution_count": 9,
          "metadata": {},
          "output_type": "execute_result"
        }
      ],
      "source": [
        "data2015.shape"
      ]
    },
    {
      "cell_type": "code",
      "execution_count": 10,
      "metadata": {
        "colab": {
          "base_uri": "https://localhost:8080/"
        },
        "id": "h8GEjC8_Uufd",
        "outputId": "ca6484c7-4288-4df8-80b9-0e65145264f4"
      },
      "outputs": [
        {
          "name": "stdout",
          "output_type": "stream",
          "text": [
            "1682/1682 [==============================] - 42s 24ms/step - loss: 0.6682 - accuracy: 0.7190 - mse: 0.2158 - mae: 0.3654\n"
          ]
        },
        {
          "data": {
            "text/plain": [
              "[0.6682418584823608,\n",
              " 0.7190070748329163,\n",
              " 0.21580879390239716,\n",
              " 0.36544856429100037]"
            ]
          },
          "execution_count": 10,
          "metadata": {},
          "output_type": "execute_result"
        }
      ],
      "source": [
        "data_new = base_model.batch_prefetch_data(data2015,labels2015,split_data=False)\n",
        "base_model.evaluate(data_new)\n",
        "#base_model.evaluate(data_new,labels_new)"
      ]
    },
    {
      "cell_type": "code",
      "execution_count": 11,
      "metadata": {
        "id": "CrsOmPlY-Dxr"
      },
      "outputs": [
        {
          "data": {
            "image/png": "[encoded data removed]",
            "text/plain": [
              "<Figure size 432x288 with 2 Axes>"
            ]
          },
          "metadata": {
            "needs_background": "light"
          },
          "output_type": "display_data"
        }
      ],
      "source": [
        "#Form batches (does not shuffle, cuts off remainder)\n",
        "batched_2015 = base_model.batch_prefetch_data(data2015,split_data=False)\n",
        "#Cutoff matching remainder from labels\n",
        "true_labels = labels2015[:-(labels2015.shape[0]%base_model.batch_size)]\n",
        "#Do predictions and get confusion matrix\n",
        "conf_matrix = base_model.predict_conf_matrix(batched_2015,true_labels,make_plots=True)"
      ]
    },
    {
      "cell_type": "code",
      "execution_count": 12,
      "metadata": {},
      "outputs": [
        {
          "name": "stderr",
          "output_type": "stream",
          "text": [
            "c:\\Users\\Dave\\Documents\\UVA\\DS6050\\Group project\\DS6050-SolarFlarePrediction\\prediction_LSTM.py:218: VisibleDeprecationWarning: Creating an ndarray from ragged nested sequences (which is a list-or-tuple of lists-or-tuples-or ndarrays with different lengths or shapes) is deprecated. If you meant to do this, you must specify 'dtype=object' when creating the ndarray.\n",
            "  plt.boxplot(np.array([true_positive_logits,false_positive_logits]),labels=['True Positives','False Positives'])\n"
          ]
        },
        {
          "data": {
            "image/png": "[encoded data removed]",
            "text/plain": [
              "<Figure size 432x288 with 1 Axes>"
            ]
          },
          "metadata": {
            "needs_background": "light"
          },
          "output_type": "display_data"
        }
      ],
      "source": [
        "true_positive_logits,false_positive_logits = base_model.view_prediction_distributions(true_labels,data=batched_2015)"
      ]
    },
    {
      "cell_type": "code",
      "execution_count": 13,
      "metadata": {},
      "outputs": [
        {
          "data": {
            "image/png": "[encoded data removed]",
            "text/plain": [
              "<Figure size 432x288 with 2 Axes>"
            ]
          },
          "metadata": {
            "needs_background": "light"
          },
          "output_type": "display_data"
        }
      ],
      "source": [
        "base_model.cutoff = 0.65\n",
        "conf_matrix_updated_cutoff = base_model.predict_conf_matrix(batched_2015,true_labels,make_plots=True)"
      ]
    },
    {
      "cell_type": "code",
      "execution_count": null,
      "metadata": {
        "id": "pebutn87-Dxs"
      },
      "outputs": [],
      "source": [
        "#If you want to customize the confusion matrix plot, can uncomment below and use the plot handle below\n",
        "#conf_plt_handle=base_model.plot_confusion_matrix(conf_matrix)"
      ]
    },
    {
      "cell_type": "code",
      "execution_count": null,
      "metadata": {
        "colab": {
          "base_uri": "https://localhost:8080/"
        },
        "id": "dJbqDGxO-Dxt",
        "outputId": "c596e407-33f2-46e2-c7b3-7d6cad0af8d9"
      },
      "outputs": [
        {
          "data": {
            "text/plain": [
              "array([[  90185,  473455],\n",
              "       [ 204978, 2648982]])"
            ]
          },
          "execution_count": 16,
          "metadata": {},
          "output_type": "execute_result"
        }
      ],
      "source": [
        "conf_matrix"
      ]
    },
    {
      "cell_type": "code",
      "execution_count": null,
      "metadata": {
        "id": "NxlmTtkt-Dxt"
      },
      "outputs": [],
      "source": [
        "#Example of using the __call__ dunder method to pass data\n",
        "call_preds=base_model(batched_2015)"
      ]
    },
    {
      "cell_type": "code",
      "execution_count": null,
      "metadata": {
        "id": "TJ15elvZFqpC"
      },
      "outputs": [],
      "source": [
        "import pandas as pd\n",
        "\n",
        "def calculate_statistics(conf_matrix):\n",
        "  tp = conf_matrix[1][1]\n",
        "  fp = conf_matrix[1][0]\n",
        "  tn = conf_matrix[0][0]\n",
        "  fn = conf_matrix[0][1]\n",
        "\n",
        "  # Precision - TP/(TP+FP)\n",
        "  precision = tp / np.sum([tp, fp])\n",
        "\n",
        "  # Recall - TP/(TP+FN)\n",
        "  recall = tp / np.sum([tp, fn])\n",
        "\n",
        "  # False Alarm Rate/Probability of False Alarm - FP/(FP+TN)\n",
        "  far = fp / np.sum([fp, tn])\n",
        "\n",
        "  # Heidke Skill Score (HSS) - 2*(TP * TN - FP * FN) / (TP+FN)*(FN+TN)+(TP+FP)*(FP+TN)\n",
        "  hss = (2 * ((tp*tn) - (fp*fn))) / (((tp+fn)*(fn+tn)) + ((tp+tn)*(fp+tn)))\n",
        "\n",
        "  return pd.DataFrame({\"precision\": precision, \"recall\": recall, \"far\": far, \"hss\": hss}, index=[0])"
      ]
    },
    {
      "cell_type": "code",
      "execution_count": null,
      "metadata": {
        "colab": {
          "base_uri": "https://localhost:8080/",
          "height": 129
        },
        "id": "rTb2TlYgHPAf",
        "outputId": "982788cb-4251-44fe-d2ab-4691b2f3823f"
      },
      "outputs": [
        {
          "data": {
            "text/html": [
              "\n",
              "  <div id=\"df-6af8f563-de77-45ab-b57e-ccd30b8f7f8d\">\n",
              "    <div class=\"colab-df-container\">\n",
              "      <div>\n",
              "<style scoped>\n",
              "    .dataframe tbody tr th:only-of-type {\n",
              "        vertical-align: middle;\n",
              "    }\n",
              "\n",
              "    .dataframe tbody tr th {\n",
              "        vertical-align: top;\n",
              "    }\n",
              "\n",
              "    .dataframe thead th {\n",
              "        text-align: right;\n",
              "    }\n",
              "</style>\n",
              "<table border=\"1\" class=\"dataframe\">\n",
              "  <thead>\n",
              "    <tr style=\"text-align: right;\">\n",
              "      <th></th>\n",
              "      <th>precision</th>\n",
              "      <th>recall</th>\n",
              "      <th>far</th>\n",
              "      <th>hss</th>\n",
              "    </tr>\n",
              "  </thead>\n",
              "  <tbody>\n",
              "    <tr>\n",
              "      <th>0</th>\n",
              "      <td>0.928178</td>\n",
              "      <td>0.84837</td>\n",
              "      <td>0.694457</td>\n",
              "      <td>0.110457</td>\n",
              "    </tr>\n",
              "  </tbody>\n",
              "</table>\n",
              "</div>\n",
              "      <button class=\"colab-df-convert\" onclick=\"convertToInteractive('df-6af8f563-de77-45ab-b57e-ccd30b8f7f8d')\"\n",
              "              title=\"Convert this dataframe to an interactive table.\"\n",
              "              style=\"display:none;\">\n",
              "        \n",
              "  <svg xmlns=\"http://www.w3.org/2000/svg\" height=\"24px\"viewBox=\"0 0 24 24\"\n",
              "       width=\"24px\">\n",
              "    <path d=\"M0 0h24v24H0V0z\" fill=\"none\"/>\n",
              "    <path d=\"M18.56 5.44l.94 2.06.94-2.06 2.06-.94-2.06-.94-.94-2.06-.94 2.06-2.06.94zm-11 1L8.5 8.5l.94-2.06 2.06-.94-2.06-.94L8.5 2.5l-.94 2.06-2.06.94zm10 10l.94 2.06.94-2.06 2.06-.94-2.06-.94-.94-2.06-.94 2.06-2.06.94z\"/><path d=\"M17.41 7.96l-1.37-1.37c-.4-.4-.92-.59-1.43-.59-.52 0-1.04.2-1.43.59L10.3 9.45l-7.72 7.72c-.78.78-.78 2.05 0 2.83L4 21.41c.39.39.9.59 1.41.59.51 0 1.02-.2 1.41-.59l7.78-7.78 2.81-2.81c.8-.78.8-2.07 0-2.86zM5.41 20L4 18.59l7.72-7.72 1.47 1.35L5.41 20z\"/>\n",
              "  </svg>\n",
              "      </button>\n",
              "      \n",
              "  <style>\n",
              "    .colab-df-container {\n",
              "      display:flex;\n",
              "      flex-wrap:wrap;\n",
              "      gap: 12px;\n",
              "    }\n",
              "\n",
              "    .colab-df-convert {\n",
              "      background-color: #E8F0FE;\n",
              "      border: none;\n",
              "      border-radius: 50%;\n",
              "      cursor: pointer;\n",
              "      display: none;\n",
              "      fill: #1967D2;\n",
              "      height: 32px;\n",
              "      padding: 0 0 0 0;\n",
              "      width: 32px;\n",
              "    }\n",
              "\n",
              "    .colab-df-convert:hover {\n",
              "      background-color: #E2EBFA;\n",
              "      box-shadow: 0px 1px 2px rgba(60, 64, 67, 0.3), 0px 1px 3px 1px rgba(60, 64, 67, 0.15);\n",
              "      fill: #174EA6;\n",
              "    }\n",
              "\n",
              "    [theme=dark] .colab-df-convert {\n",
              "      background-color: #3B4455;\n",
              "      fill: #D2E3FC;\n",
              "    }\n",
              "\n",
              "    [theme=dark] .colab-df-convert:hover {\n",
              "      background-color: #434B5C;\n",
              "      box-shadow: 0px 1px 3px 1px rgba(0, 0, 0, 0.15);\n",
              "      filter: drop-shadow(0px 1px 2px rgba(0, 0, 0, 0.3));\n",
              "      fill: #FFFFFF;\n",
              "    }\n",
              "  </style>\n",
              "\n",
              "      <script>\n",
              "        const buttonEl =\n",
              "          document.querySelector('#df-6af8f563-de77-45ab-b57e-ccd30b8f7f8d button.colab-df-convert');\n",
              "        buttonEl.style.display =\n",
              "          google.colab.kernel.accessAllowed ? 'block' : 'none';\n",
              "\n",
              "        async function convertToInteractive(key) {\n",
              "          const element = document.querySelector('#df-6af8f563-de77-45ab-b57e-ccd30b8f7f8d');\n",
              "          const dataTable =\n",
              "            await google.colab.kernel.invokeFunction('convertToInteractive',\n",
              "                                                     [key], {});\n",
              "          if (!dataTable) return;\n",
              "\n",
              "          const docLinkHtml = 'Like what you see? Visit the ' +\n",
              "            '<a target=\"_blank\" href=https://colab.research.google.com/notebooks/data_table.ipynb>data table notebook</a>'\n",
              "            + ' to learn more about interactive tables.';\n",
              "          element.innerHTML = '';\n",
              "          dataTable['output_type'] = 'display_data';\n",
              "          await google.colab.output.renderOutput(dataTable, element);\n",
              "          const docLink = document.createElement('div');\n",
              "          docLink.innerHTML = docLinkHtml;\n",
              "          element.appendChild(docLink);\n",
              "        }\n",
              "      </script>\n",
              "    </div>\n",
              "  </div>\n",
              "  "
            ],
            "text/plain": [
              "   precision   recall       far       hss\n",
              "0   0.928178  0.84837  0.694457  0.110457"
            ]
          },
          "execution_count": 32,
          "metadata": {},
          "output_type": "execute_result"
        }
      ],
      "source": [
        "calculate_statistics(conf_matrix)"
      ]
    },
    {
      "cell_type": "code",
      "execution_count": null,
      "metadata": {
        "id": "oqkOENaJHSXV"
      },
      "outputs": [],
      "source": [
        "keras.backend.clear_session()"
      ]
    },
    {
      "cell_type": "code",
      "execution_count": null,
      "metadata": {
        "id": "n66-9WADHrwv"
      },
      "outputs": [],
      "source": [
        "tuned_model = SolarLSTM(data2014, labels2014, \"./\", tune=True)"
      ]
    },
    {
      "cell_type": "code",
      "execution_count": null,
      "metadata": {
        "colab": {
          "base_uri": "https://localhost:8080/",
          "height": 1000
        },
        "id": "ABq_7_PCI0AA",
        "outputId": "a5dff7a5-567d-4c38-d8e4-4e8530448a46"
      },
      "outputs": [
        {
          "name": "stdout",
          "output_type": "stream",
          "text": [
            "Trial 10 Complete [00h 06m 59s]\n",
            "val_accuracy: 0.8156917095184326\n",
            "\n",
            "Best val_accuracy So Far: 0.8275374174118042\n",
            "Total elapsed time: 01h 50m 10s\n",
            "INFO:tensorflow:Oracle triggered exit\n"
          ]
        },
        {
          "name": "stderr",
          "output_type": "stream",
          "text": [
            "INFO:tensorflow:Oracle triggered exit\n"
          ]
        },
        {
          "name": "stdout",
          "output_type": "stream",
          "text": [
            "Hyper Tuning Complete\n",
            "Epoch 1/50\n"
          ]
        },
        {
          "name": "stderr",
          "output_type": "stream",
          "text": [
            "/usr/local/lib/python3.7/dist-packages/tensorflow/python/util/dispatch.py:1082: UserWarning: \"`binary_crossentropy` received `from_logits=True`, but the `output` argument was produced by a sigmoid or softmax activation and thus does not represent logits. Was this intended?\"\n",
            "  return dispatch_target(*args, **kwargs)\n"
          ]
        },
        {
          "name": "stdout",
          "output_type": "stream",
          "text": [
            "320/320 [==============================] - ETA: 0s - loss: 0.3907 - accuracy: 0.8826 - mse: 0.1095 - mae: 0.2211"
          ]
        },
        {
          "name": "stderr",
          "output_type": "stream",
          "text": [
            "WARNING:absl:Found untraced functions such as lstm_cell_2_layer_call_fn, lstm_cell_2_layer_call_and_return_conditional_losses, lstm_cell_3_layer_call_fn, lstm_cell_3_layer_call_and_return_conditional_losses while saving (showing 4 of 4). These functions will not be directly callable after loading.\n"
          ]
        },
        {
          "name": "stdout",
          "output_type": "stream",
          "text": [
            "INFO:tensorflow:Assets written to: model_checkpoints/assets\n"
          ]
        },
        {
          "name": "stderr",
          "output_type": "stream",
          "text": [
            "INFO:tensorflow:Assets written to: model_checkpoints/assets\n",
            "WARNING:absl:<keras.layers.recurrent.LSTMCell object at 0x7f4da4b43850> has the same name 'LSTMCell' as a built-in Keras object. Consider renaming <class 'keras.layers.recurrent.LSTMCell'> to avoid naming conflicts when loading with `tf.keras.models.load_model`. If renaming is not possible, pass the object in the `custom_objects` parameter of the load function.\n",
            "WARNING:absl:<keras.layers.recurrent.LSTMCell object at 0x7f4d9eb8a690> has the same name 'LSTMCell' as a built-in Keras object. Consider renaming <class 'keras.layers.recurrent.LSTMCell'> to avoid naming conflicts when loading with `tf.keras.models.load_model`. If renaming is not possible, pass the object in the `custom_objects` parameter of the load function.\n"
          ]
        },
        {
          "name": "stdout",
          "output_type": "stream",
          "text": [
            "\b\b\b\b\b\b\b\b\b\b\b\b\b\b\b\b\b\b\b\b\b\b\b\b\b\b\b\b\b\b\b\b\b\b\b\b\b\b\b\b\b\b\b\b\b\b\b\b\b\b\b\b\b\b\b\b\b\b\b\b\b\b\b\b\b\b\b\b\b\b\b\b\b\b\b\b\b\b\b\b\b\b\b\b\b\b\b\b\b\b\b\b\b\b\b\b\b\b\b\b\b\b\b\b\b\b\b\b\b\b\b\b\r320/320 [==============================] - 34s 95ms/step - loss: 0.3907 - accuracy: 0.8826 - mse: 0.1095 - mae: 0.2211 - val_loss: 0.5295 - val_accuracy: 0.8094 - val_mse: 0.1634 - val_mae: 0.2496\n",
            "Epoch 2/50\n",
            "320/320 [==============================] - 22s 69ms/step - loss: 0.3341 - accuracy: 0.8996 - mse: 0.0922 - mae: 0.1833 - val_loss: 0.5519 - val_accuracy: 0.8094 - val_mse: 0.1668 - val_mae: 0.2391\n",
            "Epoch 3/50\n",
            "320/320 [==============================] - 22s 68ms/step - loss: 0.3180 - accuracy: 0.8996 - mse: 0.0886 - mae: 0.1743 - val_loss: 0.5776 - val_accuracy: 0.8094 - val_mse: 0.1699 - val_mae: 0.2281\n",
            "Epoch 4/50\n",
            "320/320 [==============================] - 21s 67ms/step - loss: 0.3006 - accuracy: 0.8938 - mse: 0.0831 - mae: 0.1658 - val_loss: 0.5367 - val_accuracy: 0.8094 - val_mse: 0.1589 - val_mae: 0.2173\n",
            "Epoch 5/50\n",
            "320/320 [==============================] - 21s 67ms/step - loss: 0.2843 - accuracy: 0.8936 - mse: 0.0789 - mae: 0.1564 - val_loss: 0.6038 - val_accuracy: 0.8158 - val_mse: 0.1661 - val_mae: 0.2137\n",
            "Epoch 6/50\n",
            "320/320 [==============================] - 21s 67ms/step - loss: 0.2655 - accuracy: 0.9144 - mse: 0.0719 - mae: 0.1460 - val_loss: 0.6692 - val_accuracy: 0.8094 - val_mse: 0.1784 - val_mae: 0.2157\n",
            "Epoch 7/50\n",
            "320/320 [==============================] - 22s 68ms/step - loss: 0.2815 - accuracy: 0.9131 - mse: 0.0761 - mae: 0.1524 - val_loss: 0.5891 - val_accuracy: 0.8097 - val_mse: 0.1701 - val_mae: 0.2289\n",
            "Epoch 8/50\n",
            "320/320 [==============================] - 22s 69ms/step - loss: 0.2459 - accuracy: 0.9273 - mse: 0.0648 - mae: 0.1345 - val_loss: 0.6608 - val_accuracy: 0.8094 - val_mse: 0.1769 - val_mae: 0.2198\n",
            "Epoch 9/50\n",
            "320/320 [==============================] - 23s 71ms/step - loss: 0.2346 - accuracy: 0.9299 - mse: 0.0616 - mae: 0.1255 - val_loss: 0.6974 - val_accuracy: 0.8094 - val_mse: 0.1803 - val_mae: 0.2237\n",
            "Epoch 10/50\n",
            "320/320 [==============================] - 23s 72ms/step - loss: 0.2365 - accuracy: 0.9262 - mse: 0.0624 - mae: 0.1258 - val_loss: 0.6617 - val_accuracy: 0.8094 - val_mse: 0.1759 - val_mae: 0.2304\n",
            "Epoch 11/50\n",
            "320/320 [==============================] - 23s 71ms/step - loss: 0.2579 - accuracy: 0.9152 - mse: 0.0701 - mae: 0.1374 - val_loss: 0.5810 - val_accuracy: 0.8094 - val_mse: 0.1673 - val_mae: 0.2424\n",
            "Epoch 12/50\n",
            "320/320 [==============================] - 24s 74ms/step - loss: 0.2290 - accuracy: 0.9236 - mse: 0.0635 - mae: 0.1296 - val_loss: 0.6377 - val_accuracy: 0.8065 - val_mse: 0.1725 - val_mae: 0.2408\n",
            "Epoch 13/50\n",
            "320/320 [==============================] - 23s 71ms/step - loss: 0.2133 - accuracy: 0.9320 - mse: 0.0575 - mae: 0.1189 - val_loss: 0.6473 - val_accuracy: 0.7859 - val_mse: 0.1770 - val_mae: 0.2558\n",
            "Epoch 14/50\n",
            "320/320 [==============================] - 22s 70ms/step - loss: 0.2042 - accuracy: 0.9355 - mse: 0.0550 - mae: 0.1125 - val_loss: 0.6899 - val_accuracy: 0.8094 - val_mse: 0.1777 - val_mae: 0.2453\n",
            "Epoch 15/50\n",
            "320/320 [==============================] - 23s 71ms/step - loss: 0.1985 - accuracy: 0.9354 - mse: 0.0539 - mae: 0.1093 - val_loss: 0.7145 - val_accuracy: 0.8047 - val_mse: 0.1866 - val_mae: 0.2578\n",
            "Epoch 16/50\n",
            "320/320 [==============================] - 22s 68ms/step - loss: 0.1902 - accuracy: 0.9378 - mse: 0.0517 - mae: 0.1047 - val_loss: 0.6792 - val_accuracy: 0.7518 - val_mse: 0.1908 - val_mae: 0.2859\n",
            "Epoch 16: early stopping\n"
          ]
        },
        {
          "data": {
            "image/png": "[encoded data removed]",
            "text/plain": [
              "<Figure size 576x360 with 1 Axes>"
            ]
          },
          "metadata": {
            "needs_background": "light"
          },
          "output_type": "display_data"
        },
        {
          "data": {
            "text/plain": [
              "<keras.callbacks.History at 0x7f4d9ebb4650>"
            ]
          },
          "execution_count": 6,
          "metadata": {},
          "output_type": "execute_result"
        }
      ],
      "source": [
        "tuned_model.fit()"
      ]
    },
    {
      "cell_type": "code",
      "execution_count": null,
      "metadata": {
        "id": "HvQOPbinpi9a"
      },
      "outputs": [],
      "source": [
        "#Form batches (does not shuffle, cuts off remainder)\n",
        "batched_2015 = tuned_model.batch_prefetch_data(data2015,split_data=False)\n",
        "#Cutoff matching remainder from labels\n",
        "true_labels = labels2015[:-(labels2015.shape[0]%tuned_model.batch_size)]"
      ]
    },
    {
      "cell_type": "code",
      "execution_count": null,
      "metadata": {
        "colab": {
          "base_uri": "https://localhost:8080/",
          "height": 290
        },
        "id": "m-XMZyf6I4YG",
        "outputId": "dbfa3ea3-83f0-4208-b2d4-f1c750763aca"
      },
      "outputs": [
        {
          "data": {
            "image/png": "[encoded data removed]",
            "text/plain": [
              "<Figure size 432x288 with 2 Axes>"
            ]
          },
          "metadata": {
            "needs_background": "light"
          },
          "output_type": "display_data"
        }
      ],
      "source": [
        "conf_matrix = tuned_model.predict_conf_matrix(batched_2015,true_labels,make_plots=True)"
      ]
    },
    {
      "cell_type": "code",
      "execution_count": null,
      "metadata": {
        "colab": {
          "base_uri": "https://localhost:8080/",
          "height": 81
        },
        "id": "Mi-VaL6epXf3",
        "outputId": "8eb8b5a5-5325-4c34-9b0a-2cb0adf1e658"
      },
      "outputs": [
        {
          "data": {
            "text/html": [
              "\n",
              "  <div id=\"df-ab07f2e0-0734-4e75-898e-e64b6ad72339\">\n",
              "    <div class=\"colab-df-container\">\n",
              "      <div>\n",
              "<style scoped>\n",
              "    .dataframe tbody tr th:only-of-type {\n",
              "        vertical-align: middle;\n",
              "    }\n",
              "\n",
              "    .dataframe tbody tr th {\n",
              "        vertical-align: top;\n",
              "    }\n",
              "\n",
              "    .dataframe thead th {\n",
              "        text-align: right;\n",
              "    }\n",
              "</style>\n",
              "<table border=\"1\" class=\"dataframe\">\n",
              "  <thead>\n",
              "    <tr style=\"text-align: right;\">\n",
              "      <th></th>\n",
              "      <th>precision</th>\n",
              "      <th>recall</th>\n",
              "      <th>far</th>\n",
              "      <th>hss</th>\n",
              "    </tr>\n",
              "  </thead>\n",
              "  <tbody>\n",
              "    <tr>\n",
              "      <th>0</th>\n",
              "      <td>0.927086</td>\n",
              "      <td>0.839449</td>\n",
              "      <td>0.78322</td>\n",
              "      <td>0.037748</td>\n",
              "    </tr>\n",
              "  </tbody>\n",
              "</table>\n",
              "</div>\n",
              "      <button class=\"colab-df-convert\" onclick=\"convertToInteractive('df-ab07f2e0-0734-4e75-898e-e64b6ad72339')\"\n",
              "              title=\"Convert this dataframe to an interactive table.\"\n",
              "              style=\"display:none;\">\n",
              "        \n",
              "  <svg xmlns=\"http://www.w3.org/2000/svg\" height=\"24px\"viewBox=\"0 0 24 24\"\n",
              "       width=\"24px\">\n",
              "    <path d=\"M0 0h24v24H0V0z\" fill=\"none\"/>\n",
              "    <path d=\"M18.56 5.44l.94 2.06.94-2.06 2.06-.94-2.06-.94-.94-2.06-.94 2.06-2.06.94zm-11 1L8.5 8.5l.94-2.06 2.06-.94-2.06-.94L8.5 2.5l-.94 2.06-2.06.94zm10 10l.94 2.06.94-2.06 2.06-.94-2.06-.94-.94-2.06-.94 2.06-2.06.94z\"/><path d=\"M17.41 7.96l-1.37-1.37c-.4-.4-.92-.59-1.43-.59-.52 0-1.04.2-1.43.59L10.3 9.45l-7.72 7.72c-.78.78-.78 2.05 0 2.83L4 21.41c.39.39.9.59 1.41.59.51 0 1.02-.2 1.41-.59l7.78-7.78 2.81-2.81c.8-.78.8-2.07 0-2.86zM5.41 20L4 18.59l7.72-7.72 1.47 1.35L5.41 20z\"/>\n",
              "  </svg>\n",
              "      </button>\n",
              "      \n",
              "  <style>\n",
              "    .colab-df-container {\n",
              "      display:flex;\n",
              "      flex-wrap:wrap;\n",
              "      gap: 12px;\n",
              "    }\n",
              "\n",
              "    .colab-df-convert {\n",
              "      background-color: #E8F0FE;\n",
              "      border: none;\n",
              "      border-radius: 50%;\n",
              "      cursor: pointer;\n",
              "      display: none;\n",
              "      fill: #1967D2;\n",
              "      height: 32px;\n",
              "      padding: 0 0 0 0;\n",
              "      width: 32px;\n",
              "    }\n",
              "\n",
              "    .colab-df-convert:hover {\n",
              "      background-color: #E2EBFA;\n",
              "      box-shadow: 0px 1px 2px rgba(60, 64, 67, 0.3), 0px 1px 3px 1px rgba(60, 64, 67, 0.15);\n",
              "      fill: #174EA6;\n",
              "    }\n",
              "\n",
              "    [theme=dark] .colab-df-convert {\n",
              "      background-color: #3B4455;\n",
              "      fill: #D2E3FC;\n",
              "    }\n",
              "\n",
              "    [theme=dark] .colab-df-convert:hover {\n",
              "      background-color: #434B5C;\n",
              "      box-shadow: 0px 1px 3px 1px rgba(0, 0, 0, 0.15);\n",
              "      filter: drop-shadow(0px 1px 2px rgba(0, 0, 0, 0.3));\n",
              "      fill: #FFFFFF;\n",
              "    }\n",
              "  </style>\n",
              "\n",
              "      <script>\n",
              "        const buttonEl =\n",
              "          document.querySelector('#df-ab07f2e0-0734-4e75-898e-e64b6ad72339 button.colab-df-convert');\n",
              "        buttonEl.style.display =\n",
              "          google.colab.kernel.accessAllowed ? 'block' : 'none';\n",
              "\n",
              "        async function convertToInteractive(key) {\n",
              "          const element = document.querySelector('#df-ab07f2e0-0734-4e75-898e-e64b6ad72339');\n",
              "          const dataTable =\n",
              "            await google.colab.kernel.invokeFunction('convertToInteractive',\n",
              "                                                     [key], {});\n",
              "          if (!dataTable) return;\n",
              "\n",
              "          const docLinkHtml = 'Like what you see? Visit the ' +\n",
              "            '<a target=\"_blank\" href=https://colab.research.google.com/notebooks/data_table.ipynb>data table notebook</a>'\n",
              "            + ' to learn more about interactive tables.';\n",
              "          element.innerHTML = '';\n",
              "          dataTable['output_type'] = 'display_data';\n",
              "          await google.colab.output.renderOutput(dataTable, element);\n",
              "          const docLink = document.createElement('div');\n",
              "          docLink.innerHTML = docLinkHtml;\n",
              "          element.appendChild(docLink);\n",
              "        }\n",
              "      </script>\n",
              "    </div>\n",
              "  </div>\n",
              "  "
            ],
            "text/plain": [
              "   precision    recall      far       hss\n",
              "0   0.927086  0.839449  0.78322  0.037748"
            ]
          },
          "execution_count": 16,
          "metadata": {},
          "output_type": "execute_result"
        }
      ],
      "source": [
        "calculate_statistics(conf_matrix)"
      ]
    },
    {
      "cell_type": "code",
      "execution_count": null,
      "metadata": {
        "colab": {
          "base_uri": "https://localhost:8080/"
        },
        "id": "8uM0OL9QpujF",
        "outputId": "a7bfe20a-3d2b-44f9-8d73-3d30dbe2ff3a"
      },
      "outputs": [
        {
          "name": "stdout",
          "output_type": "stream",
          "text": [
            "Model: \"sequential_1\"\n",
            "_________________________________________________________________\n",
            " Layer (type)                Output Shape              Param #   \n",
            "=================================================================\n",
            " lstm_2 (LSTM)               (64, 120, 16)             3520      \n",
            "                                                                 \n",
            " lstm_3 (LSTM)               (64, 120, 16)             2112      \n",
            "                                                                 \n",
            " dropout_1 (Dropout)         (64, 120, 16)             0         \n",
            "                                                                 \n",
            " dense_1 (Dense)             (64, 120, 1)              17        \n",
            "                                                                 \n",
            "=================================================================\n",
            "Total params: 5,649\n",
            "Trainable params: 5,649\n",
            "Non-trainable params: 0\n",
            "_________________________________________________________________\n"
          ]
        }
      ],
      "source": [
        "tuned_model.model.summary()"
      ]
    },
    {
      "cell_type": "markdown",
      "metadata": {
        "id": "wetBz_EiNHYJ"
      },
      "source": [
        "# Models for ONLY Magnetic Field Parameters\n",
        "\n",
        "In DataSelection() set the following arguments:\n",
        "\n",
        "* use_all=False\n",
        "* select_columns=[magnetic field parameters]"
      ]
    },
    {
      "cell_type": "code",
      "execution_count": 2,
      "metadata": {
        "id": "kcnRhTHHNgb5"
      },
      "outputs": [],
      "source": [
        "mf_parameters = [\"TOTUSJH\", \"TOTBSQ\", \"TOTPOT\", \"TOTUSJZ\", \"ABSNJZH\", \"SAVNCPP\",\n",
        "                 \"USFLUX\", \"TOTFZ\", \"MEANPOT\", \"EPSZ\", \"MEANSHR\", \"SHRGT45\", \n",
        "                 \"MEANGAM\", \"MEANGBT\", \"MEANGBZ\", \"MEANGBH\", \"MEANJZH\", \"TOTFY\",\n",
        "                 \"MEANJZD\", \"MEANALP\", \"TOTFX\", \"EPSY\", \"EPSX\", \"R_VALUE\"]"
      ]
    },
    {
      "cell_type": "markdown",
      "metadata": {
        "id": "OX0yhFFYUWzF"
      },
      "source": [
        "## Creating Data"
      ]
    },
    {
      "cell_type": "code",
      "execution_count": 3,
      "metadata": {
        "colab": {
          "base_uri": "https://localhost:8080/"
        },
        "id": "LHepG4AUNDtX",
        "outputId": "eb814aad-d2b5-49bd-bfb3-7a8bef1ac4e4"
      },
      "outputs": [
        {
          "name": "stdout",
          "output_type": "stream",
          "text": [
            "Num GB used in data array: 0.0\n",
            "Num GB used in data array: 0.001201629638671875\n",
            "Num GB used in data array: 0.001201629638671875\n",
            "Num GB used in data array: 0.0016951560974121094\n",
            "Num GB used in data array: 0.0016951560974121094\n",
            "Num GB used in data array: 0.003926753997802734\n",
            "Num GB used in data array: 0.003926753997802734\n",
            "Num GB used in data array: 0.007402896881103516\n",
            "Num GB used in data array: 0.007402896881103516\n",
            "Num GB used in data array: 0.008776187896728516\n",
            "Num GB used in data array: 0.008776187896728516\n",
            "Num GB used in data array: 0.009806156158447266\n",
            "Num GB used in data array: 0.009806156158447266\n",
            "Num GB used in data array: 0.009806156158447266\n",
            "Num GB used in data array: 0.010600090026855469\n",
            "Num GB used in data array: 0.010600090026855469\n",
            "Num GB used in data array: 0.014526844024658203\n",
            "Num GB used in data array: 0.014526844024658203\n",
            "Num GB used in data array: 0.01476287841796875\n",
            "Num GB used in data array: 0.01476287841796875\n",
            "Num GB used in data array: 0.016930103302001953\n",
            "Num GB used in data array: 0.016930103302001953\n",
            "Num GB used in data array: 0.018131732940673828\n",
            "Num GB used in data array: 0.018131732940673828\n",
            "Num GB used in data array: 0.025556087493896484\n",
            "Num GB used in data array: 0.025556087493896484\n",
            "Num GB used in data array: 0.02675771713256836\n",
            "Num GB used in data array: 0.02675771713256836\n",
            "Num GB used in data array: 0.03021240234375\n",
            "Num GB used in data array: 0.03021240234375\n",
            "Num GB used in data array: 0.03021240234375\n",
            "Num GB used in data array: 0.03542661666870117\n",
            "Num GB used in data array: 0.03542661666870117\n",
            "Num GB used in data array: 0.03609180450439453\n",
            "Num GB used in data array: 0.03609180450439453\n",
            "Num GB used in data array: 0.06585359573364258\n",
            "Num GB used in data array: 0.06585359573364258\n",
            "Num GB used in data array: 0.06892204284667969\n",
            "Num GB used in data array: 0.06892204284667969\n",
            "Num GB used in data array: 0.06915807723999023\n",
            "Num GB used in data array: 0.06915807723999023\n",
            "Num GB used in data array: 0.06928682327270508\n",
            "Num GB used in data array: 0.06928682327270508\n",
            "Num GB used in data array: 0.07016658782958984\n",
            "Num GB used in data array: 0.07016658782958984\n",
            "Num GB used in data array: 0.07136821746826172\n",
            "Num GB used in data array: 0.07136821746826172\n",
            "Num GB used in data array: 0.07272005081176758\n",
            "Num GB used in data array: 0.07272005081176758\n",
            "Num GB used in data array: 0.08003711700439453\n",
            "Num GB used in data array: 0.08003711700439453\n",
            "Num GB used in data array: 0.08048772811889648\n",
            "Num GB used in data array: 0.08048772811889648\n",
            "Num GB used in data array: 0.08168935775756836\n",
            "Num GB used in data array: 0.08168935775756836\n",
            "Num GB used in data array: 0.08289098739624023\n",
            "Num GB used in data array: 0.08289098739624023\n",
            "Num GB used in data array: 0.08430719375610352\n",
            "Num GB used in data array: 0.08430719375610352\n",
            "Num GB used in data array: 0.08550882339477539\n",
            "Num GB used in data array: 0.08550882339477539\n",
            "Num GB used in data array: 0.08671045303344727\n",
            "Num GB used in data array: 0.08671045303344727\n",
            "Num GB used in data array: 0.08791208267211914\n",
            "Num GB used in data array: 0.08791208267211914\n",
            "Num GB used in data array: 0.09711742401123047\n",
            "Num GB used in data array: 0.09711742401123047\n",
            "Num GB used in data array: 0.09831905364990234\n",
            "Num GB used in data array: 0.09831905364990234\n",
            "Num GB used in data array: 0.0990915298461914\n",
            "Num GB used in data array: 0.0990915298461914\n",
            "Num GB used in data array: 0.09943485260009766\n",
            "Num GB used in data array: 0.09943485260009766\n",
            "Num GB used in data array: 0.1032114028930664\n",
            "Num GB used in data array: 0.1032114028930664\n",
            "Num GB used in data array: 0.10503530502319336\n",
            "Num GB used in data array: 0.10503530502319336\n",
            "Num GB used in data array: 0.1058506965637207\n",
            "Num GB used in data array: 0.1058506965637207\n",
            "Num GB used in data array: 0.10600090026855469\n",
            "Num GB used in data array: 0.10600090026855469\n",
            "Num GB used in data array: 0.10600090026855469\n",
            "Num GB used in data array: 0.10600090026855469\n",
            "Num GB used in data array: 0.10600090026855469\n",
            "Num GB used in data array: 0.10600090026855469\n",
            "Num GB used in data array: 0.10600090026855469\n",
            "Num GB used in data array: 0.10600090026855469\n",
            "Num GB used in data array: 0.10600090026855469\n",
            "Num GB used in data array: 0.10600090026855469\n",
            "Num GB used in data array: 0.10600090026855469\n",
            "Num GB used in data array: 0.10600090026855469\n",
            "Num GB used in data array: 0.10600090026855469\n",
            "Num GB used in data array: 0.10600090026855469\n",
            "Num GB used in data array: 0.10600090026855469\n",
            "Num GB used in data array: 0.10600090026855469\n",
            "Num GB used in data array: 0.10600090026855469\n",
            "Num GB used in data array: 0.10600090026855469\n",
            "Num GB used in data array: 0.10600090026855469\n",
            "Num GB used in data array: 0.10600090026855469\n",
            "Num GB used in data array: 0.10600090026855469\n",
            "Num GB used in data array: 0.10600090026855469\n",
            "Num GB used in data array: 0.10600090026855469\n",
            "Num GB used in data array: 0.10600090026855469\n",
            "Num GB used in data array: 0.10600090026855469\n",
            "Num GB used in data array: 0.10600090026855469\n",
            "Num GB used in data array: 0.10600090026855469\n",
            "Num GB used in data array: 0.10600090026855469\n",
            "Num GB used in data array: 0.10600090026855469\n",
            "Num GB used in data array: 0.10600090026855469\n",
            "Num GB used in data array: 0.10600090026855469\n",
            "Num GB used in data array: 0.10600090026855469\n",
            "Num GB used in data array: 0.10600090026855469\n",
            "Num GB used in data array: 0.10600090026855469\n",
            "Num GB used in data array: 0.10600090026855469\n",
            "Num GB used in data array: 0.10600090026855469\n",
            "Num GB used in data array: 0.10600090026855469\n",
            "Num GB used in data array: 0.10600090026855469\n",
            "Num GB used in data array: 0.10600090026855469\n",
            "Num GB used in data array: 0.10600090026855469\n",
            "Num GB used in data array: 0.10600090026855469\n",
            "Num GB used in data array: 0.1121377944946289\n",
            "Num GB used in data array: 0.1121377944946289\n",
            "Num GB used in data array: 0.1123952865600586\n",
            "Num GB used in data array: 0.1123952865600586\n",
            "Num GB used in data array: 0.1123952865600586\n",
            "Num GB used in data array: 0.11941194534301758\n",
            "Num GB used in data array: 0.11941194534301758\n",
            "Num GB used in data array: 0.11941194534301758\n",
            "Num GB used in data array: 0.12134313583374023\n",
            "Num GB used in data array: 0.12134313583374023\n",
            "Num GB used in data array: 0.12788772583007812\n",
            "Num GB used in data array: 0.12788772583007812\n",
            "Num GB used in data array: 0.13773679733276367\n",
            "Num GB used in data array: 0.13773679733276367\n",
            "Num GB used in data array: 0.16543865203857422\n",
            "Num GB used in data array: 0.16543865203857422\n",
            "Num GB used in data array: 0.19054412841796875\n",
            "Num GB used in data array: 0.19054412841796875\n",
            "Num GB used in data array: 0.19588708877563477\n",
            "Num GB used in data array: 0.19588708877563477\n",
            "Num GB used in data array: 0.19633769989013672\n",
            "Num GB used in data array: 0.19633769989013672\n",
            "Num GB used in data array: 0.19665956497192383\n",
            "Num GB used in data array: 0.19665956497192383\n",
            "Num GB used in data array: 0.19672393798828125\n",
            "Num GB used in data array: 0.19672393798828125\n",
            "Num GB used in data array: 0.19672393798828125\n",
            "Num GB used in data array: 0.2086329460144043\n",
            "Num GB used in data array: 0.2086329460144043\n",
            "Num GB used in data array: 0.20977020263671875\n",
            "Num GB used in data array: 0.20977020263671875\n",
            "Num GB used in data array: 0.21886825561523438\n",
            "Num GB used in data array: 0.21886825561523438\n",
            "Num GB used in data array: 0.21944761276245117\n",
            "Num GB used in data array: 0.21944761276245117\n",
            "Num GB used in data array: 0.21974802017211914\n",
            "Num GB used in data array: 0.21974802017211914\n",
            "Num GB used in data array: 0.21974802017211914\n",
            "Num GB used in data array: 0.21974802017211914\n",
            "Num GB used in data array: 0.22296667098999023\n",
            "Num GB used in data array: 0.22296667098999023\n",
            "Num GB used in data array: 0.23084163665771484\n",
            "Num GB used in data array: 0.23084163665771484\n",
            "Num GB used in data array: 0.23084163665771484\n",
            "Num GB used in data array: 0.23084163665771484\n",
            "Num GB used in data array: 0.23084163665771484\n",
            "Num GB used in data array: 0.23084163665771484\n",
            "Num GB used in data array: 0.23084163665771484\n",
            "Num GB used in data array: 0.23084163665771484\n",
            "Num GB used in data array: 0.23084163665771484\n",
            "Num GB used in data array: 0.23084163665771484\n",
            "Num GB used in data array: 0.23084163665771484\n",
            "Num GB used in data array: 0.23084163665771484\n",
            "Num GB used in data array: 0.23084163665771484\n",
            "Num GB used in data array: 0.23084163665771484\n",
            "Num GB used in data array: 0.23084163665771484\n",
            "Num GB used in data array: 0.23084163665771484\n",
            "Num GB used in data array: 0.23084163665771484\n",
            "Num GB used in data array: 0.23084163665771484\n",
            "Num GB used in data array: 0.2516341209411621\n",
            "Num GB used in data array: 0.2516341209411621\n",
            "Num GB used in data array: 0.25504589080810547\n",
            "Num GB used in data array: 0.25504589080810547\n",
            "Num GB used in data array: 0.25504589080810547\n",
            "Num GB used in data array: 0.27489423751831055\n",
            "Num GB used in data array: 0.27489423751831055\n",
            "Num GB used in data array: 0.2937126159667969\n",
            "Num GB used in data array: 0.2937126159667969\n",
            "Num GB used in data array: 0.2937126159667969\n",
            "Num GB used in data array: 0.3149986267089844\n",
            "Num GB used in data array: 0.3149986267089844\n",
            "Num GB used in data array: 0.36420106887817383\n",
            "Num GB used in data array: 0.36420106887817383\n",
            "Num GB used in data array: 0.36420106887817383\n",
            "Num GB used in data array: 0.3923964500427246\n",
            "Num GB used in data array: 0.3923964500427246\n",
            "Num GB used in data array: 0.4062795639038086\n",
            "Num GB used in data array: 0.4062795639038086\n",
            "Num GB used in data array: 0.4222440719604492\n",
            "Num GB used in data array: 0.4222440719604492\n",
            "Num GB used in data array: 0.42278051376342773\n",
            "Num GB used in data array: 0.42278051376342773\n",
            "Num GB used in data array: 0.4256129264831543\n",
            "Num GB used in data array: 0.4256129264831543\n",
            "Num GB used in data array: 0.4263639450073242\n",
            "Num GB used in data array: 0.4263639450073242\n",
            "Num GB used in data array: 0.4383373260498047\n",
            "Num GB used in data array: 0.4383373260498047\n",
            "Num GB used in data array: 0.4471564292907715\n",
            "Num GB used in data array: 0.4471564292907715\n",
            "Num GB used in data array: 0.4471564292907715\n",
            "Num GB used in data array: 0.44792890548706055\n",
            "Num GB used in data array: 0.44792890548706055\n",
            "Num GB used in data array: 0.4555678367614746\n",
            "Num GB used in data array: 0.4555678367614746\n",
            "Num GB used in data array: 0.4555678367614746\n",
            "Num GB used in data array: 0.4840850830078125\n",
            "Num GB used in data array: 0.4840850830078125\n",
            "Num GB used in data array: 0.49230337142944336\n",
            "Num GB used in data array: 0.49230337142944336\n",
            "Num GB used in data array: 0.5345320701599121\n",
            "Num GB used in data array: 0.5345320701599121\n",
            "Num GB used in data array: 0.5410122871398926\n",
            "Num GB used in data array: 0.5410122871398926\n",
            "Num GB used in data array: 0.5410122871398926\n",
            "Num GB used in data array: 0.5411839485168457\n",
            "Num GB used in data array: 0.5411839485168457\n",
            "Num GB used in data array: 0.5411839485168457\n",
            "Num GB used in data array: 0.5414199829101562\n",
            "Num GB used in data array: 0.5414199829101562\n",
            "Num GB used in data array: 0.5414199829101562\n",
            "Num GB used in data array: 0.5416560173034668\n",
            "Num GB used in data array: 0.5416560173034668\n",
            "Num GB used in data array: 0.5426430702209473\n",
            "Num GB used in data array: 0.5426430702209473\n",
            "Num GB used in data array: 0.5426430702209473\n",
            "Num GB used in data array: 0.5426430702209473\n",
            "Num GB used in data array: 0.5426430702209473\n",
            "Num GB used in data array: 0.5426430702209473\n",
            "Num GB used in data array: 0.5426430702209473\n",
            "Num GB used in data array: 0.5426430702209473\n",
            "Num GB used in data array: 0.5433082580566406\n",
            "Num GB used in data array: 0.5433082580566406\n",
            "Num GB used in data array: 0.5436086654663086\n",
            "Num GB used in data array: 0.5436086654663086\n",
            "Num GB used in data array: 0.5436086654663086\n",
            "Num GB used in data array: 0.5436086654663086\n",
            "Num GB used in data array: 0.5436086654663086\n",
            "Num GB used in data array: 0.5436086654663086\n",
            "Num GB used in data array: 0.5436086654663086\n",
            "Num GB used in data array: 0.5436086654663086\n",
            "Num GB used in data array: 0.5436086654663086\n",
            "Num GB used in data array: 0.5449390411376953\n",
            "Num GB used in data array: 0.5449390411376953\n",
            "Num GB used in data array: 0.5503678321838379\n",
            "Num GB used in data array: 0.5503678321838379\n",
            "Num GB used in data array: 0.5503678321838379\n",
            "Num GB used in data array: 0.5503678321838379\n",
            "Num GB used in data array: 0.5503678321838379\n",
            "Num GB used in data array: 0.5503678321838379\n",
            "Num GB used in data array: 0.5503678321838379\n",
            "Num GB used in data array: 0.5503678321838379\n",
            "Num GB used in data array: 0.5503678321838379\n",
            "Num GB used in data array: 0.5503678321838379\n",
            "Num GB used in data array: 0.5503678321838379\n",
            "Num GB used in data array: 0.5503678321838379\n",
            "Num GB used in data array: 0.5503678321838379\n",
            "Num GB used in data array: 0.5503678321838379\n",
            "Num GB used in data array: 0.5503678321838379\n",
            "Num GB used in data array: 0.5503678321838379\n",
            "Num GB used in data array: 0.5503678321838379\n",
            "Num GB used in data array: 0.5503678321838379\n",
            "Num GB used in data array: 0.5503678321838379\n",
            "Num GB used in data array: 0.5503678321838379\n",
            "Num GB used in data array: 0.5503678321838379\n",
            "Num GB used in data array: 0.5503678321838379\n",
            "Num GB used in data array: 0.5503678321838379\n",
            "Num GB used in data array: 0.5503678321838379\n",
            "Num GB used in data array: 0.5503678321838379\n",
            "Num GB used in data array: 0.5503678321838379\n",
            "Num GB used in data array: 0.5503678321838379\n",
            "Num GB used in data array: 0.5503678321838379\n",
            "Num GB used in data array: 0.5503678321838379\n",
            "Num GB used in data array: 0.5503678321838379\n",
            "Num GB used in data array: 0.5503678321838379\n",
            "Num GB used in data array: 0.5503678321838379\n",
            "Num GB used in data array: 0.5503678321838379\n",
            "Num GB used in data array: 0.5503678321838379\n",
            "Num GB used in data array: 0.5503678321838379\n",
            "Num GB used in data array: 0.5503678321838379\n",
            "Num GB used in data array: 0.5503678321838379\n",
            "Num GB used in data array: 0.5503678321838379\n",
            "Num GB used in data array: 0.5503678321838379\n",
            "Num GB used in data array: 0.5503678321838379\n",
            "Num GB used in data array: 0.5503678321838379\n",
            "Num GB used in data array: 0.5503678321838379\n",
            "Num GB used in data array: 0.5503678321838379\n",
            "Num GB used in data array: 0.5503678321838379\n",
            "Num GB used in data array: 0.5503678321838379\n",
            "Num GB used in data array: 0.5503678321838379\n",
            "Num GB used in data array: 0.5503678321838379\n",
            "Num GB used in data array: 0.5503678321838379\n",
            "Num GB used in data array: 0.5503678321838379\n",
            "Num GB used in data array: 0.5503678321838379\n",
            "Num GB used in data array: 0.5503678321838379\n",
            "Num GB used in data array: 0.5503678321838379\n",
            "Num GB used in data array: 0.5503678321838379\n",
            "Num GB used in data array: 0.5503678321838379\n",
            "Num GB used in data array: 0.5503678321838379\n",
            "Num GB used in data array: 0.5503678321838379\n",
            "Num GB used in data array: 0.5503678321838379\n",
            "Num GB used in data array: 0.5503678321838379\n",
            "Num GB used in data array: 0.5503678321838379\n",
            "Num GB used in data array: 0.5503678321838379\n",
            "Num GB used in data array: 0.5503678321838379\n",
            "Num GB used in data array: 0.5503678321838379\n",
            "Num GB used in data array: 0.5503678321838379\n",
            "Num GB used in data array: 0.5503678321838379\n",
            "Num GB used in data array: 0.5503678321838379\n",
            "Num GB used in data array: 0.5503678321838379\n",
            "Num GB used in data array: 0.5503678321838379\n",
            "Num GB used in data array: 0.5503678321838379\n",
            "Num GB used in data array: 0.5503678321838379\n",
            "Num GB used in data array: 0.5503678321838379\n",
            "Num GB used in data array: 0.5503678321838379\n",
            "Num GB used in data array: 0.5503678321838379\n",
            "Num GB used in data array: 0.5503678321838379\n",
            "Num GB used in data array: 0.5503678321838379\n",
            "Num GB used in data array: 0.5503678321838379\n",
            "Num GB used in data array: 0.5503678321838379\n",
            "Num GB used in data array: 0.5503678321838379\n",
            "Num GB used in data array: 0.5503678321838379\n",
            "Num GB used in data array: 0.5503678321838379\n",
            "Num GB used in data array: 0.5503678321838379\n",
            "Num GB used in data array: 0.5503678321838379\n",
            "Num GB used in data array: 0.5503678321838379\n",
            "Num GB used in data array: 0.5503678321838379\n",
            "Num GB used in data array: 0.5503678321838379\n",
            "Num GB used in data array: 0.5503678321838379\n",
            "Num GB used in data array: 0.5503678321838379\n",
            "Num GB used in data array: 0.5503678321838379\n",
            "Num GB used in data array: 0.5503678321838379\n",
            "Num GB used in data array: 0.5503678321838379\n",
            "Num GB used in data array: 0.5503678321838379\n",
            "Num GB used in data array: 0.5503678321838379\n",
            "Num GB used in data array: 0.5503678321838379\n",
            "Num GB used in data array: 0.5503678321838379\n",
            "Num GB used in data array: 0.5503678321838379\n",
            "Num GB used in data array: 0.5503678321838379\n",
            "Num GB used in data array: 0.5503678321838379\n",
            "Num GB used in data array: 0.5503678321838379\n",
            "Num GB used in data array: 0.5503678321838379\n",
            "Num GB used in data array: 0.5503678321838379\n",
            "Num GB used in data array: 0.5503678321838379\n",
            "Num GB used in data array: 0.5503678321838379\n",
            "Num GB used in data array: 0.5503678321838379\n",
            "Num GB used in data array: 0.5503678321838379\n",
            "Num GB used in data array: 0.5503678321838379\n",
            "Num GB used in data array: 0.5503678321838379\n",
            "Num GB used in data array: 0.5503678321838379\n",
            "Num GB used in data array: 0.5503678321838379\n",
            "Num GB used in data array: 0.5503678321838379\n",
            "Num GB used in data array: 0.5503678321838379\n",
            "Num GB used in data array: 0.5503678321838379\n",
            "Num GB used in data array: 0.5503678321838379\n",
            "Num GB used in data array: 0.5503678321838379\n",
            "Num GB used in data array: 0.5503678321838379\n",
            "Num GB used in data array: 0.5503678321838379\n",
            "Num GB used in data array: 0.5503678321838379\n",
            "Num GB used in data array: 0.5503678321838379\n",
            "Num GB used in data array: 0.5503678321838379\n",
            "Num GB used in data array: 0.5503678321838379\n",
            "Num GB used in data array: 0.5503678321838379\n",
            "Num GB used in data array: 0.5503678321838379\n",
            "Num GB used in data array: 0.5503678321838379\n",
            "Num GB used in data array: 0.5503678321838379\n",
            "Num GB used in data array: 0.5503678321838379\n",
            "Num GB used in data array: 0.5503678321838379\n",
            "Num GB used in data array: 0.5503678321838379\n",
            "Num GB used in data array: 0.5503678321838379\n",
            "Num GB used in data array: 0.5503678321838379\n",
            "Num GB used in data array: 0.5503678321838379\n",
            "Num GB used in data array: 0.5503678321838379\n",
            "Num GB used in data array: 0.5503678321838379\n",
            "Num GB used in data array: 0.5503678321838379\n",
            "Num GB used in data array: 0.5503678321838379\n",
            "Num GB used in data array: 0.5503678321838379\n"
          ]
        },
        {
          "data": {
            "text/plain": [
              "<data_creation.DataSelection at 0x7fa1ae3a5210>"
            ]
          },
          "execution_count": 3,
          "metadata": {},
          "output_type": "execute_result"
        }
      ],
      "source": [
        "with open(\"/content/all_data.pkl\", \"rb\") as file:\n",
        "    data = pickle.load(file)\n",
        "\n",
        "DataSelection(data, 2014, \"./\", 24, use_all=False, select_columns=mf_parameters)"
      ]
    },
    {
      "cell_type": "code",
      "execution_count": 4,
      "metadata": {
        "colab": {
          "base_uri": "https://localhost:8080/"
        },
        "id": "OkzYmlzhNDtq",
        "outputId": "3725d16a-663e-402e-826f-62d32a7de357"
      },
      "outputs": [
        {
          "name": "stdout",
          "output_type": "stream",
          "text": [
            "Num GB used in data array: 0.0\n",
            "Num GB used in data array: 0.001201629638671875\n",
            "Num GB used in data array: 0.001201629638671875\n",
            "Num GB used in data array: 0.0019741058349609375\n",
            "Num GB used in data array: 0.0019741058349609375\n",
            "Num GB used in data array: 0.006930828094482422\n",
            "Num GB used in data array: 0.006930828094482422\n",
            "Num GB used in data array: 0.011050701141357422\n",
            "Num GB used in data array: 0.011050701141357422\n",
            "Num GB used in data array: 0.015256404876708984\n",
            "Num GB used in data array: 0.015256404876708984\n",
            "Num GB used in data array: 0.019848346710205078\n",
            "Num GB used in data array: 0.019848346710205078\n",
            "Num GB used in data array: 0.021049976348876953\n",
            "Num GB used in data array: 0.021049976348876953\n",
            "Num GB used in data array: 0.022251605987548828\n",
            "Num GB used in data array: 0.022251605987548828\n",
            "Num GB used in data array: 0.029246807098388672\n",
            "Num GB used in data array: 0.029246807098388672\n",
            "Num GB used in data array: 0.02948284149169922\n",
            "Num GB used in data array: 0.02948284149169922\n",
            "Num GB used in data array: 0.030062198638916016\n",
            "Num GB used in data array: 0.030062198638916016\n",
            "Num GB used in data array: 0.030062198638916016\n",
            "Num GB used in data array: 0.03710031509399414\n",
            "Num GB used in data array: 0.03710031509399414\n",
            "Num GB used in data array: 0.038301944732666016\n",
            "Num GB used in data array: 0.038301944732666016\n",
            "Num GB used in data array: 0.03885984420776367\n",
            "Num GB used in data array: 0.03885984420776367\n",
            "Num GB used in data array: 0.03885984420776367\n",
            "Num GB used in data array: 0.04467487335205078\n",
            "Num GB used in data array: 0.04467487335205078\n",
            "Num GB used in data array: 0.04534006118774414\n",
            "Num GB used in data array: 0.04534006118774414\n",
            "Num GB used in data array: 0.07265567779541016\n",
            "Num GB used in data array: 0.07265567779541016\n",
            "Num GB used in data array: 0.07750511169433594\n",
            "Num GB used in data array: 0.07750511169433594\n",
            "Num GB used in data array: 0.07967233657836914\n",
            "Num GB used in data array: 0.07967233657836914\n",
            "Num GB used in data array: 0.07980108261108398\n",
            "Num GB used in data array: 0.07980108261108398\n",
            "Num GB used in data array: 0.07980108261108398\n",
            "Num GB used in data array: 0.08038043975830078\n",
            "Num GB used in data array: 0.08038043975830078\n",
            "Num GB used in data array: 0.08038043975830078\n",
            "Num GB used in data array: 0.08038043975830078\n",
            "Num GB used in data array: 0.08038043975830078\n",
            "Num GB used in data array: 0.08038043975830078\n",
            "Num GB used in data array: 0.08038043975830078\n",
            "Num GB used in data array: 0.08038043975830078\n",
            "Num GB used in data array: 0.08038043975830078\n",
            "Num GB used in data array: 0.08038043975830078\n",
            "Num GB used in data array: 0.08038043975830078\n",
            "Num GB used in data array: 0.08038043975830078\n",
            "Num GB used in data array: 0.08038043975830078\n",
            "Num GB used in data array: 0.08038043975830078\n",
            "Num GB used in data array: 0.08038043975830078\n",
            "Num GB used in data array: 0.08038043975830078\n",
            "Num GB used in data array: 0.08038043975830078\n",
            "Num GB used in data array: 0.08038043975830078\n",
            "Num GB used in data array: 0.08038043975830078\n",
            "Num GB used in data array: 0.08038043975830078\n",
            "Num GB used in data array: 0.08038043975830078\n",
            "Num GB used in data array: 0.08038043975830078\n",
            "Num GB used in data array: 0.08038043975830078\n",
            "Num GB used in data array: 0.08038043975830078\n",
            "Num GB used in data array: 0.08038043975830078\n",
            "Num GB used in data array: 0.08038043975830078\n",
            "Num GB used in data array: 0.08038043975830078\n",
            "Num GB used in data array: 0.08038043975830078\n",
            "Num GB used in data array: 0.08068084716796875\n",
            "Num GB used in data array: 0.08068084716796875\n",
            "Num GB used in data array: 0.08068084716796875\n",
            "Num GB used in data array: 0.08068084716796875\n",
            "Num GB used in data array: 0.08068084716796875\n",
            "Num GB used in data array: 0.08068084716796875\n",
            "Num GB used in data array: 0.08068084716796875\n",
            "Num GB used in data array: 0.08068084716796875\n",
            "Num GB used in data array: 0.08068084716796875\n",
            "Num GB used in data array: 0.08068084716796875\n",
            "Num GB used in data array: 0.08068084716796875\n",
            "Num GB used in data array: 0.08068084716796875\n",
            "Num GB used in data array: 0.08068084716796875\n",
            "Num GB used in data array: 0.08068084716796875\n",
            "Num GB used in data array: 0.08068084716796875\n",
            "Num GB used in data array: 0.08068084716796875\n",
            "Num GB used in data array: 0.08068084716796875\n",
            "Num GB used in data array: 0.08068084716796875\n",
            "Num GB used in data array: 0.08068084716796875\n",
            "Num GB used in data array: 0.08068084716796875\n",
            "Num GB used in data array: 0.08068084716796875\n",
            "Num GB used in data array: 0.08068084716796875\n",
            "Num GB used in data array: 0.08068084716796875\n",
            "Num GB used in data array: 0.08068084716796875\n",
            "Num GB used in data array: 0.08068084716796875\n",
            "Num GB used in data array: 0.08068084716796875\n",
            "Num GB used in data array: 0.08068084716796875\n",
            "Num GB used in data array: 0.08068084716796875\n",
            "Num GB used in data array: 0.08068084716796875\n",
            "Num GB used in data array: 0.08068084716796875\n",
            "Num GB used in data array: 0.08068084716796875\n",
            "Num GB used in data array: 0.08555173873901367\n",
            "Num GB used in data array: 0.08555173873901367\n",
            "Num GB used in data array: 0.08555173873901367\n",
            "Num GB used in data array: 0.08555173873901367\n",
            "Num GB used in data array: 0.08694648742675781\n",
            "Num GB used in data array: 0.08694648742675781\n",
            "Num GB used in data array: 0.08694648742675781\n",
            "Num GB used in data array: 0.08694648742675781\n",
            "Num GB used in data array: 0.08988618850708008\n",
            "Num GB used in data array: 0.08988618850708008\n",
            "Num GB used in data array: 0.09479999542236328\n",
            "Num GB used in data array: 0.09479999542236328\n",
            "Num GB used in data array: 0.1127171516418457\n",
            "Num GB used in data array: 0.1127171516418457\n",
            "Num GB used in data array: 0.1466202735900879\n",
            "Num GB used in data array: 0.1466202735900879\n",
            "Num GB used in data array: 0.15295028686523438\n",
            "Num GB used in data array: 0.15295028686523438\n",
            "Num GB used in data array: 0.15383005142211914\n",
            "Num GB used in data array: 0.15383005142211914\n",
            "Num GB used in data array: 0.15415191650390625\n",
            "Num GB used in data array: 0.15415191650390625\n",
            "Num GB used in data array: 0.15415191650390625\n",
            "Num GB used in data array: 0.15415191650390625\n",
            "Num GB used in data array: 0.16904354095458984\n",
            "Num GB used in data array: 0.16904354095458984\n",
            "Num GB used in data array: 0.1727128028869629\n",
            "Num GB used in data array: 0.1727128028869629\n",
            "Num GB used in data array: 0.18580198287963867\n",
            "Num GB used in data array: 0.18580198287963867\n",
            "Num GB used in data array: 0.19071578979492188\n",
            "Num GB used in data array: 0.19071578979492188\n",
            "Num GB used in data array: 0.19515752792358398\n",
            "Num GB used in data array: 0.19515752792358398\n",
            "Num GB used in data array: 0.19515752792358398\n",
            "Num GB used in data array: 0.19515752792358398\n",
            "Num GB used in data array: 0.19919157028198242\n",
            "Num GB used in data array: 0.19919157028198242\n",
            "Num GB used in data array: 0.2035689353942871\n",
            "Num GB used in data array: 0.2035689353942871\n",
            "Num GB used in data array: 0.2035689353942871\n",
            "Num GB used in data array: 0.2035689353942871\n",
            "Num GB used in data array: 0.2035689353942871\n",
            "Num GB used in data array: 0.2035689353942871\n",
            "Num GB used in data array: 0.2035689353942871\n",
            "Num GB used in data array: 0.2035689353942871\n",
            "Num GB used in data array: 0.20386934280395508\n",
            "Num GB used in data array: 0.20386934280395508\n",
            "Num GB used in data array: 0.2040410041809082\n",
            "Num GB used in data array: 0.2040410041809082\n",
            "Num GB used in data array: 0.2040410041809082\n",
            "Num GB used in data array: 0.2040410041809082\n",
            "Num GB used in data array: 0.2040410041809082\n",
            "Num GB used in data array: 0.2040410041809082\n",
            "Num GB used in data array: 0.2040410041809082\n",
            "Num GB used in data array: 0.2040410041809082\n",
            "Num GB used in data array: 0.2040410041809082\n",
            "Num GB used in data array: 0.2040410041809082\n",
            "Num GB used in data array: 0.21944761276245117\n",
            "Num GB used in data array: 0.21944761276245117\n",
            "Num GB used in data array: 0.22060632705688477\n",
            "Num GB used in data array: 0.22060632705688477\n",
            "Num GB used in data array: 0.22060632705688477\n",
            "Num GB used in data array: 0.23159265518188477\n",
            "Num GB used in data array: 0.23159265518188477\n",
            "Num GB used in data array: 0.24474620819091797\n",
            "Num GB used in data array: 0.24474620819091797\n",
            "Num GB used in data array: 0.24474620819091797\n",
            "Num GB used in data array: 0.2732419967651367\n",
            "Num GB used in data array: 0.2732419967651367\n",
            "Num GB used in data array: 0.3200840950012207\n",
            "Num GB used in data array: 0.3200840950012207\n",
            "Num GB used in data array: 0.3200840950012207\n",
            "Num GB used in data array: 0.3518843650817871\n",
            "Num GB used in data array: 0.3518843650817871\n",
            "Num GB used in data array: 0.3688359260559082\n",
            "Num GB used in data array: 0.3688359260559082\n",
            "Num GB used in data array: 0.3781270980834961\n",
            "Num GB used in data array: 0.3781270980834961\n",
            "Num GB used in data array: 0.3786635398864746\n",
            "Num GB used in data array: 0.3786635398864746\n",
            "Num GB used in data array: 0.3814530372619629\n",
            "Num GB used in data array: 0.3814530372619629\n",
            "Num GB used in data array: 0.3833198547363281\n",
            "Num GB used in data array: 0.3833198547363281\n",
            "Num GB used in data array: 0.399477481842041\n",
            "Num GB used in data array: 0.399477481842041\n",
            "Num GB used in data array: 0.41290998458862305\n",
            "Num GB used in data array: 0.41290998458862305\n",
            "Num GB used in data array: 0.41290998458862305\n",
            "Num GB used in data array: 0.4144763946533203\n",
            "Num GB used in data array: 0.4144763946533203\n",
            "Num GB used in data array: 0.42732954025268555\n",
            "Num GB used in data array: 0.42732954025268555\n",
            "Num GB used in data array: 0.42780160903930664\n",
            "Num GB used in data array: 0.42780160903930664\n",
            "Num GB used in data array: 0.4729485511779785\n",
            "Num GB used in data array: 0.4729485511779785\n",
            "Num GB used in data array: 0.49193859100341797\n",
            "Num GB used in data array: 0.49193859100341797\n",
            "Num GB used in data array: 0.556483268737793\n",
            "Num GB used in data array: 0.556483268737793\n",
            "Num GB used in data array: 0.5633282661437988\n",
            "Num GB used in data array: 0.5633282661437988\n",
            "Num GB used in data array: 0.565495491027832\n",
            "Num GB used in data array: 0.565495491027832\n",
            "Num GB used in data array: 0.5706238746643066\n",
            "Num GB used in data array: 0.5706238746643066\n",
            "Num GB used in data array: 0.5753660202026367\n",
            "Num GB used in data array: 0.5753660202026367\n",
            "Num GB used in data array: 0.5789709091186523\n",
            "Num GB used in data array: 0.5789709091186523\n",
            "Num GB used in data array: 0.5814170837402344\n",
            "Num GB used in data array: 0.5814170837402344\n",
            "Num GB used in data array: 0.583498477935791\n",
            "Num GB used in data array: 0.583498477935791\n",
            "Num GB used in data array: 0.5856013298034668\n",
            "Num GB used in data array: 0.5856013298034668\n",
            "Num GB used in data array: 0.5856013298034668\n",
            "Num GB used in data array: 0.5856013298034668\n",
            "Num GB used in data array: 0.5856013298034668\n",
            "Num GB used in data array: 0.5856013298034668\n",
            "Num GB used in data array: 0.5856013298034668\n",
            "Num GB used in data array: 0.5856013298034668\n",
            "Num GB used in data array: 0.5864596366882324\n",
            "Num GB used in data array: 0.5864596366882324\n",
            "Num GB used in data array: 0.5866098403930664\n",
            "Num GB used in data array: 0.5866098403930664\n",
            "Num GB used in data array: 0.5866098403930664\n",
            "Num GB used in data array: 0.5866098403930664\n",
            "Num GB used in data array: 0.5866098403930664\n",
            "Num GB used in data array: 0.5866098403930664\n",
            "Num GB used in data array: 0.5866098403930664\n",
            "Num GB used in data array: 0.5874037742614746\n",
            "Num GB used in data array: 0.5874037742614746\n",
            "Num GB used in data array: 0.5874037742614746\n",
            "Num GB used in data array: 0.5927896499633789\n",
            "Num GB used in data array: 0.5927896499633789\n",
            "Num GB used in data array: 0.6112432479858398\n",
            "Num GB used in data array: 0.6112432479858398\n",
            "Num GB used in data array: 0.6112432479858398\n",
            "Num GB used in data array: 0.6112432479858398\n",
            "Num GB used in data array: 0.6112432479858398\n",
            "Num GB used in data array: 0.6112432479858398\n",
            "Num GB used in data array: 0.6112432479858398\n",
            "Num GB used in data array: 0.6112432479858398\n",
            "Num GB used in data array: 0.6112432479858398\n",
            "Num GB used in data array: 0.6112432479858398\n",
            "Num GB used in data array: 0.6112432479858398\n",
            "Num GB used in data array: 0.6112432479858398\n",
            "Num GB used in data array: 0.6112432479858398\n",
            "Num GB used in data array: 0.6112432479858398\n",
            "Num GB used in data array: 0.6112432479858398\n",
            "Num GB used in data array: 0.6112432479858398\n",
            "Num GB used in data array: 0.6112432479858398\n",
            "Num GB used in data array: 0.6112432479858398\n",
            "Num GB used in data array: 0.6112432479858398\n",
            "Num GB used in data array: 0.6112432479858398\n",
            "Num GB used in data array: 0.6112432479858398\n",
            "Num GB used in data array: 0.6112432479858398\n",
            "Num GB used in data array: 0.6112432479858398\n",
            "Num GB used in data array: 0.6112432479858398\n",
            "Num GB used in data array: 0.6112432479858398\n",
            "Num GB used in data array: 0.6112432479858398\n",
            "Num GB used in data array: 0.6112432479858398\n",
            "Num GB used in data array: 0.6112432479858398\n",
            "Num GB used in data array: 0.6112432479858398\n",
            "Num GB used in data array: 0.6112432479858398\n",
            "Num GB used in data array: 0.6112432479858398\n",
            "Num GB used in data array: 0.6112432479858398\n",
            "Num GB used in data array: 0.6112432479858398\n",
            "Num GB used in data array: 0.6112432479858398\n",
            "Num GB used in data array: 0.6112432479858398\n",
            "Num GB used in data array: 0.6112432479858398\n",
            "Num GB used in data array: 0.6112432479858398\n",
            "Num GB used in data array: 0.6112432479858398\n",
            "Num GB used in data array: 0.6112432479858398\n",
            "Num GB used in data array: 0.6112432479858398\n",
            "Num GB used in data array: 0.6112432479858398\n",
            "Num GB used in data array: 0.6112432479858398\n",
            "Num GB used in data array: 0.6112432479858398\n",
            "Num GB used in data array: 0.6112432479858398\n",
            "Num GB used in data array: 0.6112432479858398\n",
            "Num GB used in data array: 0.6112432479858398\n",
            "Num GB used in data array: 0.6112432479858398\n",
            "Num GB used in data array: 0.6112432479858398\n",
            "Num GB used in data array: 0.6112432479858398\n",
            "Num GB used in data array: 0.6112432479858398\n",
            "Num GB used in data array: 0.6112432479858398\n",
            "Num GB used in data array: 0.6112432479858398\n",
            "Num GB used in data array: 0.6112432479858398\n",
            "Num GB used in data array: 0.6112432479858398\n",
            "Num GB used in data array: 0.6112432479858398\n",
            "Num GB used in data array: 0.6112432479858398\n",
            "Num GB used in data array: 0.6112432479858398\n",
            "Num GB used in data array: 0.6112432479858398\n",
            "Num GB used in data array: 0.6112432479858398\n",
            "Num GB used in data array: 0.6112432479858398\n",
            "Num GB used in data array: 0.6112432479858398\n",
            "Num GB used in data array: 0.6112432479858398\n",
            "Num GB used in data array: 0.6112432479858398\n",
            "Num GB used in data array: 0.6112432479858398\n",
            "Num GB used in data array: 0.6112432479858398\n",
            "Num GB used in data array: 0.6112432479858398\n",
            "Num GB used in data array: 0.6112432479858398\n",
            "Num GB used in data array: 0.6112432479858398\n",
            "Num GB used in data array: 0.6112432479858398\n",
            "Num GB used in data array: 0.6112432479858398\n",
            "Num GB used in data array: 0.6112432479858398\n",
            "Num GB used in data array: 0.6112432479858398\n",
            "Num GB used in data array: 0.6112432479858398\n",
            "Num GB used in data array: 0.6112432479858398\n",
            "Num GB used in data array: 0.6112432479858398\n",
            "Num GB used in data array: 0.6112432479858398\n",
            "Num GB used in data array: 0.6112432479858398\n",
            "Num GB used in data array: 0.6112432479858398\n",
            "Num GB used in data array: 0.6112432479858398\n",
            "Num GB used in data array: 0.6112432479858398\n",
            "Num GB used in data array: 0.6112432479858398\n",
            "Num GB used in data array: 0.6112432479858398\n",
            "Num GB used in data array: 0.6112432479858398\n",
            "Num GB used in data array: 0.6112432479858398\n",
            "Num GB used in data array: 0.6112432479858398\n",
            "Num GB used in data array: 0.6112432479858398\n",
            "Num GB used in data array: 0.6112432479858398\n",
            "Num GB used in data array: 0.6112432479858398\n",
            "Num GB used in data array: 0.6112432479858398\n",
            "Num GB used in data array: 0.6112432479858398\n",
            "Num GB used in data array: 0.6112432479858398\n",
            "Num GB used in data array: 0.6112432479858398\n",
            "Num GB used in data array: 0.6112432479858398\n",
            "Num GB used in data array: 0.6112432479858398\n",
            "Num GB used in data array: 0.6112432479858398\n",
            "Num GB used in data array: 0.6112432479858398\n",
            "Num GB used in data array: 0.6112432479858398\n",
            "Num GB used in data array: 0.6112432479858398\n",
            "Num GB used in data array: 0.6112432479858398\n",
            "Num GB used in data array: 0.6112432479858398\n",
            "Num GB used in data array: 0.6112432479858398\n",
            "Num GB used in data array: 0.6112432479858398\n",
            "Num GB used in data array: 0.6112432479858398\n",
            "Num GB used in data array: 0.6112432479858398\n",
            "Num GB used in data array: 0.6112432479858398\n",
            "Num GB used in data array: 0.6112432479858398\n",
            "Num GB used in data array: 0.6112432479858398\n",
            "Num GB used in data array: 0.6112432479858398\n",
            "Num GB used in data array: 0.6112432479858398\n",
            "Num GB used in data array: 0.6112432479858398\n",
            "Num GB used in data array: 0.6112432479858398\n",
            "Num GB used in data array: 0.6112432479858398\n",
            "Num GB used in data array: 0.6112432479858398\n",
            "Num GB used in data array: 0.6112432479858398\n",
            "Num GB used in data array: 0.6112432479858398\n",
            "Num GB used in data array: 0.6112432479858398\n",
            "Num GB used in data array: 0.6112432479858398\n",
            "Num GB used in data array: 0.6112432479858398\n",
            "Num GB used in data array: 0.6112432479858398\n",
            "Num GB used in data array: 0.6112432479858398\n",
            "Num GB used in data array: 0.6112432479858398\n",
            "Num GB used in data array: 0.6112432479858398\n",
            "Num GB used in data array: 0.6112432479858398\n",
            "Num GB used in data array: 0.6112432479858398\n",
            "Num GB used in data array: 0.6112432479858398\n",
            "Num GB used in data array: 0.6112432479858398\n",
            "Num GB used in data array: 0.6112432479858398\n",
            "Num GB used in data array: 0.6112432479858398\n",
            "Num GB used in data array: 0.6112432479858398\n",
            "Num GB used in data array: 0.6112432479858398\n",
            "Num GB used in data array: 0.6112432479858398\n",
            "Num GB used in data array: 0.6112432479858398\n",
            "Num GB used in data array: 0.6112432479858398\n"
          ]
        },
        {
          "data": {
            "text/plain": [
              "<data_creation.DataSelection at 0x7fa1965e2310>"
            ]
          },
          "execution_count": 4,
          "metadata": {},
          "output_type": "execute_result"
        }
      ],
      "source": [
        "with open(\"norm_scaler.pkl\", \"rb\") as norm_file:\n",
        "    normalization = pickle.load(norm_file)\n",
        "\n",
        "with open(\"stand_scaler.pkl\", \"rb\") as stand_file:\n",
        "    standard = pickle.load(stand_file)\n",
        "\n",
        "DataSelection(data, 2015,\"./\", 24, use_all=False, select_columns=mf_parameters,\n",
        "              norm_scaler=normalization, stand_scaler=standard)"
      ]
    },
    {
      "cell_type": "markdown",
      "metadata": {
        "id": "jJkOJWHpUbEW"
      },
      "source": [
        "## Load Data and Run Models"
      ]
    },
    {
      "cell_type": "code",
      "execution_count": 2,
      "metadata": {
        "id": "_2vrpSwNNDtq"
      },
      "outputs": [],
      "source": [
        "data2014_mf = np.load(\"data_2014.npy\")\n",
        "labels2014_mf = np.load(\"labels_2014.npy\")"
      ]
    },
    {
      "cell_type": "code",
      "execution_count": 3,
      "metadata": {
        "id": "EK4QoBskNDtr"
      },
      "outputs": [],
      "source": [
        "mf_model = SolarLSTM(data2014_mf, labels2014_mf, \"./\", 24)"
      ]
    },
    {
      "cell_type": "code",
      "execution_count": 4,
      "metadata": {
        "id": "o64p85LENDtr"
      },
      "outputs": [],
      "source": [
        "mf_model.build_model()"
      ]
    },
    {
      "cell_type": "code",
      "execution_count": 5,
      "metadata": {
        "colab": {
          "base_uri": "https://localhost:8080/"
        },
        "id": "1a6nHcNHNDtr",
        "outputId": "5efa38e3-78b0-496f-9b5b-a9c86a2e7e53"
      },
      "outputs": [
        {
          "data": {
            "text/plain": [
              "<keras.engine.sequential.Sequential at 0x7f5997ebd350>"
            ]
          },
          "execution_count": 5,
          "metadata": {},
          "output_type": "execute_result"
        }
      ],
      "source": [
        "mf_model.model"
      ]
    },
    {
      "cell_type": "code",
      "execution_count": 6,
      "metadata": {
        "colab": {
          "base_uri": "https://localhost:8080/",
          "height": 1000
        },
        "id": "AzkfkXdTNDts",
        "outputId": "3bbcd700-de18-45d9-bcce-8e321e8cc9e7"
      },
      "outputs": [
        {
          "name": "stdout",
          "output_type": "stream",
          "text": [
            "Epoch 1/50\n"
          ]
        },
        {
          "name": "stderr",
          "output_type": "stream",
          "text": [
            "/usr/local/lib/python3.7/dist-packages/tensorflow/python/util/dispatch.py:1082: UserWarning: \"`binary_crossentropy` received `from_logits=True`, but the `output` argument was produced by a sigmoid or softmax activation and thus does not represent logits. Was this intended?\"\n",
            "  return dispatch_target(*args, **kwargs)\n"
          ]
        },
        {
          "name": "stdout",
          "output_type": "stream",
          "text": [
            "320/320 [==============================] - ETA: 0s - loss: 0.3993 - accuracy: 0.8578 - mse: 0.1182 - mae: 0.2402"
          ]
        },
        {
          "name": "stderr",
          "output_type": "stream",
          "text": [
            "WARNING:absl:Found untraced functions such as lstm_cell_layer_call_fn, lstm_cell_layer_call_and_return_conditional_losses, lstm_cell_1_layer_call_fn, lstm_cell_1_layer_call_and_return_conditional_losses while saving (showing 4 of 4). These functions will not be directly callable after loading.\n"
          ]
        },
        {
          "name": "stdout",
          "output_type": "stream",
          "text": [
            "INFO:tensorflow:Assets written to: model_checkpoints/assets\n"
          ]
        },
        {
          "name": "stderr",
          "output_type": "stream",
          "text": [
            "INFO:tensorflow:Assets written to: model_checkpoints/assets\n",
            "WARNING:absl:<keras.layers.recurrent.LSTMCell object at 0x7f5997e498d0> has the same name 'LSTMCell' as a built-in Keras object. Consider renaming <class 'keras.layers.recurrent.LSTMCell'> to avoid naming conflicts when loading with `tf.keras.models.load_model`. If renaming is not possible, pass the object in the `custom_objects` parameter of the load function.\n",
            "WARNING:absl:<keras.layers.recurrent.LSTMCell object at 0x7f598dc82310> has the same name 'LSTMCell' as a built-in Keras object. Consider renaming <class 'keras.layers.recurrent.LSTMCell'> to avoid naming conflicts when loading with `tf.keras.models.load_model`. If renaming is not possible, pass the object in the `custom_objects` parameter of the load function.\n"
          ]
        },
        {
          "name": "stdout",
          "output_type": "stream",
          "text": [
            "\b\b\b\b\b\b\b\b\b\b\b\b\b\b\b\b\b\b\b\b\b\b\b\b\b\b\b\b\b\b\b\b\b\b\b\b\b\b\b\b\b\b\b\b\b\b\b\b\b\b\b\b\b\b\b\b\b\b\b\b\b\b\b\b\b\b\b\b\b\b\b\b\b\b\b\b\b\b\b\b\b\b\b\b\b\b\b\b\b\b\b\b\b\b\b\b\b\b\b\b\b\b\b\b\b\b\b\b\b\b\b\b\r320/320 [==============================] - 30s 83ms/step - loss: 0.3993 - accuracy: 0.8578 - mse: 0.1182 - mae: 0.2402 - val_loss: 0.5826 - val_accuracy: 0.8094 - val_mse: 0.1701 - val_mae: 0.2405\n",
            "Epoch 2/50\n",
            "320/320 [==============================] - 17s 54ms/step - loss: 0.3142 - accuracy: 0.8994 - mse: 0.0883 - mae: 0.1725 - val_loss: 0.6397 - val_accuracy: 0.8094 - val_mse: 0.1765 - val_mae: 0.2323\n",
            "Epoch 3/50\n",
            "319/320 [============================>.] - ETA: 0s - loss: 0.3118 - accuracy: 0.8803 - mse: 0.0877 - mae: 0.1718"
          ]
        },
        {
          "name": "stderr",
          "output_type": "stream",
          "text": [
            "WARNING:absl:Found untraced functions such as lstm_cell_layer_call_fn, lstm_cell_layer_call_and_return_conditional_losses, lstm_cell_1_layer_call_fn, lstm_cell_1_layer_call_and_return_conditional_losses while saving (showing 4 of 4). These functions will not be directly callable after loading.\n"
          ]
        },
        {
          "name": "stdout",
          "output_type": "stream",
          "text": [
            "INFO:tensorflow:Assets written to: model_checkpoints/assets\n"
          ]
        },
        {
          "name": "stderr",
          "output_type": "stream",
          "text": [
            "INFO:tensorflow:Assets written to: model_checkpoints/assets\n",
            "WARNING:absl:<keras.layers.recurrent.LSTMCell object at 0x7f5997e498d0> has the same name 'LSTMCell' as a built-in Keras object. Consider renaming <class 'keras.layers.recurrent.LSTMCell'> to avoid naming conflicts when loading with `tf.keras.models.load_model`. If renaming is not possible, pass the object in the `custom_objects` parameter of the load function.\n",
            "WARNING:absl:<keras.layers.recurrent.LSTMCell object at 0x7f598dc82310> has the same name 'LSTMCell' as a built-in Keras object. Consider renaming <class 'keras.layers.recurrent.LSTMCell'> to avoid naming conflicts when loading with `tf.keras.models.load_model`. If renaming is not possible, pass the object in the `custom_objects` parameter of the load function.\n"
          ]
        },
        {
          "name": "stdout",
          "output_type": "stream",
          "text": [
            "\b\b\b\b\b\b\b\b\b\b\b\b\b\b\b\b\b\b\b\b\b\b\b\b\b\b\b\b\b\b\b\b\b\b\b\b\b\b\b\b\b\b\b\b\b\b\b\b\b\b\b\b\b\b\b\b\b\b\b\b\b\b\b\b\b\b\b\b\b\b\b\b\b\b\b\b\b\b\b\b\b\b\b\b\b\b\b\b\b\b\b\b\b\b\b\b\b\b\b\b\b\b\b\b\b\b\b\b\b\b\b\b\r320/320 [==============================] - 25s 77ms/step - loss: 0.3111 - accuracy: 0.8807 - mse: 0.0874 - mae: 0.1714 - val_loss: 0.5797 - val_accuracy: 0.8094 - val_mse: 0.1696 - val_mae: 0.2501\n",
            "Epoch 4/50\n",
            "320/320 [==============================] - 18s 55ms/step - loss: 0.2931 - accuracy: 0.8973 - mse: 0.0822 - mae: 0.1668 - val_loss: 0.6261 - val_accuracy: 0.8094 - val_mse: 0.1757 - val_mae: 0.2573\n",
            "Epoch 5/50\n",
            "320/320 [==============================] - 18s 55ms/step - loss: 0.2734 - accuracy: 0.8978 - mse: 0.0765 - mae: 0.1538 - val_loss: 0.6836 - val_accuracy: 0.8094 - val_mse: 0.1791 - val_mae: 0.2203\n",
            "Epoch 6/50\n",
            "320/320 [==============================] - 17s 54ms/step - loss: 0.2711 - accuracy: 0.9018 - mse: 0.0761 - mae: 0.1518 - val_loss: 0.6502 - val_accuracy: 0.8093 - val_mse: 0.1786 - val_mae: 0.2733\n",
            "Epoch 7/50\n",
            "320/320 [==============================] - 17s 54ms/step - loss: 0.2490 - accuracy: 0.9051 - mse: 0.0703 - mae: 0.1418 - val_loss: 0.7692 - val_accuracy: 0.8093 - val_mse: 0.1835 - val_mae: 0.2115\n",
            "Epoch 8/50\n",
            "320/320 [==============================] - 17s 53ms/step - loss: 0.2489 - accuracy: 0.9209 - mse: 0.0683 - mae: 0.1413 - val_loss: 0.7044 - val_accuracy: 0.7659 - val_mse: 0.1912 - val_mae: 0.2653\n",
            "Epoch 9/50\n",
            "320/320 [==============================] - 17s 54ms/step - loss: 0.2276 - accuracy: 0.9245 - mse: 0.0633 - mae: 0.1254 - val_loss: 0.8422 - val_accuracy: 0.7256 - val_mse: 0.2171 - val_mae: 0.2925\n",
            "Epoch 10/50\n",
            "320/320 [==============================] - 17s 54ms/step - loss: 0.2313 - accuracy: 0.9249 - mse: 0.0645 - mae: 0.1307 - val_loss: 0.8839 - val_accuracy: 0.7031 - val_mse: 0.2239 - val_mae: 0.3063\n",
            "Epoch 11/50\n",
            "320/320 [==============================] - 17s 53ms/step - loss: 0.2179 - accuracy: 0.9302 - mse: 0.0605 - mae: 0.1240 - val_loss: 0.9550 - val_accuracy: 0.6232 - val_mse: 0.2796 - val_mae: 0.3655\n",
            "Epoch 12/50\n",
            "320/320 [==============================] - 18s 55ms/step - loss: 0.2122 - accuracy: 0.9292 - mse: 0.0595 - mae: 0.1181 - val_loss: 0.9136 - val_accuracy: 0.6908 - val_mse: 0.2424 - val_mae: 0.3239\n",
            "Epoch 13/50\n",
            "320/320 [==============================] - 17s 54ms/step - loss: 0.2029 - accuracy: 0.9310 - mse: 0.0568 - mae: 0.1124 - val_loss: 0.8230 - val_accuracy: 0.8132 - val_mse: 0.1833 - val_mae: 0.2556\n",
            "Epoch 14/50\n",
            "320/320 [==============================] - 17s 54ms/step - loss: 0.1926 - accuracy: 0.9326 - mse: 0.0544 - mae: 0.1093 - val_loss: 0.8187 - val_accuracy: 0.8018 - val_mse: 0.1886 - val_mae: 0.2742\n",
            "Epoch 15/50\n",
            "320/320 [==============================] - 17s 53ms/step - loss: 0.1942 - accuracy: 0.9330 - mse: 0.0547 - mae: 0.1092 - val_loss: 0.8789 - val_accuracy: 0.8114 - val_mse: 0.1904 - val_mae: 0.2698\n",
            "Epoch 16/50\n",
            "320/320 [==============================] - 17s 54ms/step - loss: 0.1878 - accuracy: 0.9335 - mse: 0.0530 - mae: 0.1064 - val_loss: 0.8019 - val_accuracy: 0.8114 - val_mse: 0.1863 - val_mae: 0.2802\n",
            "Epoch 17/50\n",
            "320/320 [==============================] - 17s 53ms/step - loss: 0.1817 - accuracy: 0.9332 - mse: 0.0515 - mae: 0.1030 - val_loss: 0.8173 - val_accuracy: 0.8091 - val_mse: 0.1892 - val_mae: 0.2895\n",
            "Epoch 18/50\n",
            "320/320 [==============================] - 17s 54ms/step - loss: 0.1752 - accuracy: 0.9332 - mse: 0.0496 - mae: 0.1008 - val_loss: 0.8103 - val_accuracy: 0.8043 - val_mse: 0.1905 - val_mae: 0.2905\n",
            "Epoch 18: early stopping\n"
          ]
        },
        {
          "data": {
            "image/png": "[encoded data removed]",
            "text/plain": [
              "<Figure size 576x360 with 1 Axes>"
            ]
          },
          "metadata": {
            "needs_background": "light"
          },
          "output_type": "display_data"
        }
      ],
      "source": [
        "history=mf_model.fit()"
      ]
    },
    {
      "cell_type": "code",
      "execution_count": 7,
      "metadata": {
        "id": "-WghMSriNDts"
      },
      "outputs": [],
      "source": [
        "data2015_mf = np.load(\"data_2015.npy\")\n",
        "labels2015_mf = np.load(\"labels_2015.npy\")"
      ]
    },
    {
      "cell_type": "code",
      "execution_count": 8,
      "metadata": {
        "colab": {
          "base_uri": "https://localhost:8080/"
        },
        "id": "imdWAVM3NDtt",
        "outputId": "48d690e0-4dd8-4b0a-df2d-63e2bd90ca07"
      },
      "outputs": [
        {
          "data": {
            "text/plain": [
              "(28486, 120, 24)"
            ]
          },
          "execution_count": 8,
          "metadata": {},
          "output_type": "execute_result"
        }
      ],
      "source": [
        "data2015_mf.shape"
      ]
    },
    {
      "cell_type": "code",
      "execution_count": 11,
      "metadata": {
        "colab": {
          "base_uri": "https://localhost:8080/"
        },
        "id": "i0zr1gAGNDtt",
        "outputId": "558b5987-7d4e-4233-8b96-8ef0bad970cc"
      },
      "outputs": [
        {
          "name": "stdout",
          "output_type": "stream",
          "text": [
            "445/445 [==============================] - 8s 17ms/step - loss: 0.6813 - accuracy: 0.8208 - mse: 0.1606 - mae: 0.2046\n"
          ]
        },
        {
          "data": {
            "text/plain": [
              "[0.6813469529151917,\n",
              " 0.8208236694335938,\n",
              " 0.16059425473213196,\n",
              " 0.20464786887168884]"
            ]
          },
          "execution_count": 11,
          "metadata": {},
          "output_type": "execute_result"
        }
      ],
      "source": [
        "mf_new = mf_model.batch_prefetch_data(data2015_mf,labels2015_mf,split_data=False)\n",
        "mf_model.evaluate(mf_new)\n",
        "#base_model.evaluate(data_new,labels_new)"
      ]
    },
    {
      "cell_type": "code",
      "execution_count": 12,
      "metadata": {
        "colab": {
          "base_uri": "https://localhost:8080/",
          "height": 290
        },
        "id": "e4IDRyleNDtt",
        "outputId": "ae79fa65-9fd1-4cf9-fa97-ead92727bf5a"
      },
      "outputs": [
        {
          "data": {
            "image/png": "[encoded data removed]",
            "text/plain": [
              "<Figure size 432x288 with 2 Axes>"
            ]
          },
          "metadata": {
            "needs_background": "light"
          },
          "output_type": "display_data"
        }
      ],
      "source": [
        "#Form batches (does not shuffle, cuts off remainder)\n",
        "batched_2015_mf = mf_model.batch_prefetch_data(data2015_mf,split_data=False)\n",
        "#Cutoff matching remainder from labels\n",
        "true_labels_mf = labels2015_mf[:-(labels2015_mf.shape[0] % mf_model.batch_size)]\n",
        "#Do predictions and get confusion matrix\n",
        "conf_matrix_mf = mf_model.predict_conf_matrix(batched_2015_mf,true_labels_mf,make_plots=True)"
      ]
    },
    {
      "cell_type": "code",
      "execution_count": 13,
      "metadata": {
        "colab": {
          "base_uri": "https://localhost:8080/"
        },
        "id": "T52Qg_7zNDtu",
        "outputId": "70990b70-49ba-4211-bd78-e0772caecbce"
      },
      "outputs": [
        {
          "data": {
            "text/plain": [
              "array([[   5774,  557866],\n",
              "       [  50102, 2803858]])"
            ]
          },
          "execution_count": 13,
          "metadata": {},
          "output_type": "execute_result"
        }
      ],
      "source": [
        "conf_matrix_mf"
      ]
    },
    {
      "cell_type": "code",
      "execution_count": 14,
      "metadata": {
        "colab": {
          "base_uri": "https://localhost:8080/",
          "height": 81
        },
        "id": "gVnEX3bwSS6n",
        "outputId": "fdd5f79b-44b0-4d76-b40a-6cbb6829da40"
      },
      "outputs": [
        {
          "data": {
            "text/html": [
              "\n",
              "  <div id=\"df-663d3175-c334-4d0d-b255-e9386852dfe4\">\n",
              "    <div class=\"colab-df-container\">\n",
              "      <div>\n",
              "<style scoped>\n",
              "    .dataframe tbody tr th:only-of-type {\n",
              "        vertical-align: middle;\n",
              "    }\n",
              "\n",
              "    .dataframe tbody tr th {\n",
              "        vertical-align: top;\n",
              "    }\n",
              "\n",
              "    .dataframe thead th {\n",
              "        text-align: right;\n",
              "    }\n",
              "</style>\n",
              "<table border=\"1\" class=\"dataframe\">\n",
              "  <thead>\n",
              "    <tr style=\"text-align: right;\">\n",
              "      <th></th>\n",
              "      <th>precision</th>\n",
              "      <th>recall</th>\n",
              "      <th>far</th>\n",
              "      <th>hss</th>\n",
              "    </tr>\n",
              "  </thead>\n",
              "  <tbody>\n",
              "    <tr>\n",
              "      <th>0</th>\n",
              "      <td>0.982445</td>\n",
              "      <td>0.834054</td>\n",
              "      <td>0.896664</td>\n",
              "      <td>-0.011464</td>\n",
              "    </tr>\n",
              "  </tbody>\n",
              "</table>\n",
              "</div>\n",
              "      <button class=\"colab-df-convert\" onclick=\"convertToInteractive('df-663d3175-c334-4d0d-b255-e9386852dfe4')\"\n",
              "              title=\"Convert this dataframe to an interactive table.\"\n",
              "              style=\"display:none;\">\n",
              "        \n",
              "  <svg xmlns=\"http://www.w3.org/2000/svg\" height=\"24px\"viewBox=\"0 0 24 24\"\n",
              "       width=\"24px\">\n",
              "    <path d=\"M0 0h24v24H0V0z\" fill=\"none\"/>\n",
              "    <path d=\"M18.56 5.44l.94 2.06.94-2.06 2.06-.94-2.06-.94-.94-2.06-.94 2.06-2.06.94zm-11 1L8.5 8.5l.94-2.06 2.06-.94-2.06-.94L8.5 2.5l-.94 2.06-2.06.94zm10 10l.94 2.06.94-2.06 2.06-.94-2.06-.94-.94-2.06-.94 2.06-2.06.94z\"/><path d=\"M17.41 7.96l-1.37-1.37c-.4-.4-.92-.59-1.43-.59-.52 0-1.04.2-1.43.59L10.3 9.45l-7.72 7.72c-.78.78-.78 2.05 0 2.83L4 21.41c.39.39.9.59 1.41.59.51 0 1.02-.2 1.41-.59l7.78-7.78 2.81-2.81c.8-.78.8-2.07 0-2.86zM5.41 20L4 18.59l7.72-7.72 1.47 1.35L5.41 20z\"/>\n",
              "  </svg>\n",
              "      </button>\n",
              "      \n",
              "  <style>\n",
              "    .colab-df-container {\n",
              "      display:flex;\n",
              "      flex-wrap:wrap;\n",
              "      gap: 12px;\n",
              "    }\n",
              "\n",
              "    .colab-df-convert {\n",
              "      background-color: #E8F0FE;\n",
              "      border: none;\n",
              "      border-radius: 50%;\n",
              "      cursor: pointer;\n",
              "      display: none;\n",
              "      fill: #1967D2;\n",
              "      height: 32px;\n",
              "      padding: 0 0 0 0;\n",
              "      width: 32px;\n",
              "    }\n",
              "\n",
              "    .colab-df-convert:hover {\n",
              "      background-color: #E2EBFA;\n",
              "      box-shadow: 0px 1px 2px rgba(60, 64, 67, 0.3), 0px 1px 3px 1px rgba(60, 64, 67, 0.15);\n",
              "      fill: #174EA6;\n",
              "    }\n",
              "\n",
              "    [theme=dark] .colab-df-convert {\n",
              "      background-color: #3B4455;\n",
              "      fill: #D2E3FC;\n",
              "    }\n",
              "\n",
              "    [theme=dark] .colab-df-convert:hover {\n",
              "      background-color: #434B5C;\n",
              "      box-shadow: 0px 1px 3px 1px rgba(0, 0, 0, 0.15);\n",
              "      filter: drop-shadow(0px 1px 2px rgba(0, 0, 0, 0.3));\n",
              "      fill: #FFFFFF;\n",
              "    }\n",
              "  </style>\n",
              "\n",
              "      <script>\n",
              "        const buttonEl =\n",
              "          document.querySelector('#df-663d3175-c334-4d0d-b255-e9386852dfe4 button.colab-df-convert');\n",
              "        buttonEl.style.display =\n",
              "          google.colab.kernel.accessAllowed ? 'block' : 'none';\n",
              "\n",
              "        async function convertToInteractive(key) {\n",
              "          const element = document.querySelector('#df-663d3175-c334-4d0d-b255-e9386852dfe4');\n",
              "          const dataTable =\n",
              "            await google.colab.kernel.invokeFunction('convertToInteractive',\n",
              "                                                     [key], {});\n",
              "          if (!dataTable) return;\n",
              "\n",
              "          const docLinkHtml = 'Like what you see? Visit the ' +\n",
              "            '<a target=\"_blank\" href=https://colab.research.google.com/notebooks/data_table.ipynb>data table notebook</a>'\n",
              "            + ' to learn more about interactive tables.';\n",
              "          element.innerHTML = '';\n",
              "          dataTable['output_type'] = 'display_data';\n",
              "          await google.colab.output.renderOutput(dataTable, element);\n",
              "          const docLink = document.createElement('div');\n",
              "          docLink.innerHTML = docLinkHtml;\n",
              "          element.appendChild(docLink);\n",
              "        }\n",
              "      </script>\n",
              "    </div>\n",
              "  </div>\n",
              "  "
            ],
            "text/plain": [
              "   precision    recall       far       hss\n",
              "0   0.982445  0.834054  0.896664 -0.011464"
            ]
          },
          "execution_count": 14,
          "metadata": {},
          "output_type": "execute_result"
        }
      ],
      "source": [
        "mf_model.calculate_statistics(conf_matrix_mf)"
      ]
    },
    {
      "cell_type": "code",
      "execution_count": 15,
      "metadata": {
        "id": "nyDt0SuuNDtu"
      },
      "outputs": [],
      "source": [
        "keras.backend.clear_session()"
      ]
    },
    {
      "cell_type": "code",
      "execution_count": 16,
      "metadata": {
        "id": "BRSqPRIHNDtu"
      },
      "outputs": [],
      "source": [
        "tuned_model_mf = SolarLSTM(data2014_mf, labels2014_mf, \"./\", 24, tune=True)"
      ]
    },
    {
      "cell_type": "code",
      "execution_count": 17,
      "metadata": {
        "colab": {
          "base_uri": "https://localhost:8080/",
          "height": 1000
        },
        "id": "j65L5DwbNDtv",
        "outputId": "4505947b-cf1c-4caf-a5bc-ce97fe83f581"
      },
      "outputs": [
        {
          "name": "stdout",
          "output_type": "stream",
          "text": [
            "Trial 10 Complete [00h 24m 33s]\n",
            "val_accuracy: 0.809374988079071\n",
            "\n",
            "Best val_accuracy So Far: 0.8286556005477905\n",
            "Total elapsed time: 03h 03m 38s\n",
            "INFO:tensorflow:Oracle triggered exit\n"
          ]
        },
        {
          "name": "stderr",
          "output_type": "stream",
          "text": [
            "INFO:tensorflow:Oracle triggered exit\n"
          ]
        },
        {
          "name": "stdout",
          "output_type": "stream",
          "text": [
            "Hyper Tuning Complete\n",
            "Epoch 1/50\n"
          ]
        },
        {
          "name": "stderr",
          "output_type": "stream",
          "text": [
            "/usr/local/lib/python3.7/dist-packages/tensorflow/python/util/dispatch.py:1082: UserWarning: \"`binary_crossentropy` received `from_logits=True`, but the `output` argument was produced by a sigmoid or softmax activation and thus does not represent logits. Was this intended?\"\n",
            "  return dispatch_target(*args, **kwargs)\n"
          ]
        },
        {
          "name": "stdout",
          "output_type": "stream",
          "text": [
            "320/320 [==============================] - ETA: 0s - loss: 0.3782 - accuracy: 0.8676 - mse: 0.1084 - mae: 0.2090"
          ]
        },
        {
          "name": "stderr",
          "output_type": "stream",
          "text": [
            "WARNING:absl:Found untraced functions such as lstm_cell_2_layer_call_fn, lstm_cell_2_layer_call_and_return_conditional_losses, lstm_cell_3_layer_call_fn, lstm_cell_3_layer_call_and_return_conditional_losses while saving (showing 4 of 4). These functions will not be directly callable after loading.\n"
          ]
        },
        {
          "name": "stdout",
          "output_type": "stream",
          "text": [
            "INFO:tensorflow:Assets written to: model_checkpoints/assets\n"
          ]
        },
        {
          "name": "stderr",
          "output_type": "stream",
          "text": [
            "INFO:tensorflow:Assets written to: model_checkpoints/assets\n",
            "WARNING:absl:<keras.layers.recurrent.LSTMCell object at 0x7f598c8eb790> has the same name 'LSTMCell' as a built-in Keras object. Consider renaming <class 'keras.layers.recurrent.LSTMCell'> to avoid naming conflicts when loading with `tf.keras.models.load_model`. If renaming is not possible, pass the object in the `custom_objects` parameter of the load function.\n",
            "WARNING:absl:<keras.layers.recurrent.LSTMCell object at 0x7f598c839a10> has the same name 'LSTMCell' as a built-in Keras object. Consider renaming <class 'keras.layers.recurrent.LSTMCell'> to avoid naming conflicts when loading with `tf.keras.models.load_model`. If renaming is not possible, pass the object in the `custom_objects` parameter of the load function.\n"
          ]
        },
        {
          "name": "stdout",
          "output_type": "stream",
          "text": [
            "\b\b\b\b\b\b\b\b\b\b\b\b\b\b\b\b\b\b\b\b\b\b\b\b\b\b\b\b\b\b\b\b\b\b\b\b\b\b\b\b\b\b\b\b\b\b\b\b\b\b\b\b\b\b\b\b\b\b\b\b\b\b\b\b\b\b\b\b\b\b\b\b\b\b\b\b\b\b\b\b\b\b\b\b\b\b\b\b\b\b\b\b\b\b\b\b\b\b\b\b\b\b\b\b\b\b\b\b\b\b\b\b\r320/320 [==============================] - 53s 158ms/step - loss: 0.3782 - accuracy: 0.8676 - mse: 0.1084 - mae: 0.2090 - val_loss: 0.6585 - val_accuracy: 0.8094 - val_mse: 0.1775 - val_mae: 0.2126\n",
            "Epoch 2/50\n",
            "320/320 [==============================] - 43s 133ms/step - loss: 0.3207 - accuracy: 0.8996 - mse: 0.0911 - mae: 0.1707 - val_loss: 0.9197 - val_accuracy: 0.8094 - val_mse: 0.1874 - val_mae: 0.1963\n",
            "Epoch 3/50\n",
            "320/320 [==============================] - 42s 131ms/step - loss: 0.3212 - accuracy: 0.8997 - mse: 0.0899 - mae: 0.1762 - val_loss: 0.8081 - val_accuracy: 0.8094 - val_mse: 0.1849 - val_mae: 0.2014\n",
            "Epoch 4/50\n",
            "320/320 [==============================] - 42s 132ms/step - loss: 0.3080 - accuracy: 0.8995 - mse: 0.0871 - mae: 0.1729 - val_loss: 0.7071 - val_accuracy: 0.8094 - val_mse: 0.1799 - val_mae: 0.2239\n",
            "Epoch 5/50\n",
            "320/320 [==============================] - 42s 132ms/step - loss: 0.2920 - accuracy: 0.8996 - mse: 0.0838 - mae: 0.1622 - val_loss: 0.8207 - val_accuracy: 0.8094 - val_mse: 0.1834 - val_mae: 0.2105\n",
            "Epoch 6/50\n",
            "320/320 [==============================] - 42s 131ms/step - loss: 0.3020 - accuracy: 0.8996 - mse: 0.0849 - mae: 0.1686 - val_loss: 0.8171 - val_accuracy: 0.8094 - val_mse: 0.2007 - val_mae: 0.2794\n",
            "Epoch 7/50\n",
            "320/320 [==============================] - 43s 135ms/step - loss: 0.2985 - accuracy: 0.8996 - mse: 0.0830 - mae: 0.1686 - val_loss: 0.7325 - val_accuracy: 0.8094 - val_mse: 0.1819 - val_mae: 0.2094\n",
            "Epoch 8/50\n",
            "320/320 [==============================] - 43s 133ms/step - loss: 0.2816 - accuracy: 0.8996 - mse: 0.0794 - mae: 0.1565 - val_loss: 0.7672 - val_accuracy: 0.8094 - val_mse: 0.1901 - val_mae: 0.2466\n",
            "Epoch 9/50\n",
            "320/320 [==============================] - 43s 134ms/step - loss: 0.2779 - accuracy: 0.8996 - mse: 0.0787 - mae: 0.1550 - val_loss: 0.9215 - val_accuracy: 0.8094 - val_mse: 0.2078 - val_mae: 0.2771\n",
            "Epoch 10/50\n",
            "320/320 [==============================] - 43s 135ms/step - loss: 0.2884 - accuracy: 0.8996 - mse: 0.0788 - mae: 0.1586 - val_loss: 0.7153 - val_accuracy: 0.8094 - val_mse: 0.1811 - val_mae: 0.2087\n",
            "Epoch 11/50\n",
            "320/320 [==============================] - 44s 137ms/step - loss: 0.2899 - accuracy: 0.8996 - mse: 0.0820 - mae: 0.1624 - val_loss: 0.7669 - val_accuracy: 0.8094 - val_mse: 0.1836 - val_mae: 0.2030\n",
            "Epoch 12/50\n",
            "320/320 [==============================] - 43s 134ms/step - loss: 0.2612 - accuracy: 0.8996 - mse: 0.0711 - mae: 0.1416 - val_loss: 0.7538 - val_accuracy: 0.8094 - val_mse: 0.1833 - val_mae: 0.2058\n",
            "Epoch 13/50\n",
            "320/320 [==============================] - 43s 133ms/step - loss: 0.2838 - accuracy: 0.8982 - mse: 0.0784 - mae: 0.1563 - val_loss: 0.7481 - val_accuracy: 0.8094 - val_mse: 0.2033 - val_mae: 0.2961\n",
            "Epoch 14/50\n",
            "320/320 [==============================] - 43s 134ms/step - loss: 0.2564 - accuracy: 0.8996 - mse: 0.0705 - mae: 0.1441 - val_loss: 0.7509 - val_accuracy: 0.8094 - val_mse: 0.1830 - val_mae: 0.2052\n",
            "Epoch 15/50\n",
            "320/320 [==============================] - 42s 132ms/step - loss: 0.2564 - accuracy: 0.8924 - mse: 0.0709 - mae: 0.1418 - val_loss: 0.7545 - val_accuracy: 0.8094 - val_mse: 0.1831 - val_mae: 0.2050\n",
            "Epoch 16/50\n",
            "320/320 [==============================] - 42s 132ms/step - loss: 0.2491 - accuracy: 0.8999 - mse: 0.0684 - mae: 0.1382 - val_loss: 0.7572 - val_accuracy: 0.8094 - val_mse: 0.1832 - val_mae: 0.2051\n",
            "Epoch 16: early stopping\n"
          ]
        },
        {
          "data": {
            "image/png": "[encoded data removed]",
            "text/plain": [
              "<Figure size 576x360 with 1 Axes>"
            ]
          },
          "metadata": {
            "needs_background": "light"
          },
          "output_type": "display_data"
        },
        {
          "data": {
            "text/plain": [
              "<keras.callbacks.History at 0x7f598bb609d0>"
            ]
          },
          "execution_count": 17,
          "metadata": {},
          "output_type": "execute_result"
        }
      ],
      "source": [
        "tuned_model_mf.fit()"
      ]
    },
    {
      "cell_type": "code",
      "execution_count": null,
      "metadata": {
        "id": "OovIefUyNDtv"
      },
      "outputs": [],
      "source": [
        "#Form batches (does not shuffle, cuts off remainder)\n",
        "# batched_2015 = tuned_model.batch_prefetch_data(data2015,split_data=False)\n",
        "#Cutoff matching remainder from labels\n",
        "# true_labels = labels2015[:-(labels2015.shape[0]%tuned_model.batch_size)]"
      ]
    },
    {
      "cell_type": "code",
      "execution_count": null,
      "metadata": {
        "colab": {
          "base_uri": "https://localhost:8080/",
          "height": 290
        },
        "id": "Dyx83sDtNDtv",
        "outputId": "dbfa3ea3-83f0-4208-b2d4-f1c750763aca"
      },
      "outputs": [
        {
          "data": {
            "image/png": "[encoded data removed]",
            "text/plain": [
              "<Figure size 432x288 with 2 Axes>"
            ]
          },
          "metadata": {
            "needs_background": "light"
          },
          "output_type": "display_data"
        }
      ],
      "source": [
        "conf_matrix = tuned_model_mf.predict_conf_matrix(batched_2015,true_labels,make_plots=True)"
      ]
    },
    {
      "cell_type": "code",
      "execution_count": null,
      "metadata": {
        "id": "K8-6Cl53W8oF"
      },
      "outputs": [],
      "source": []
    }
  ],
  "metadata": {
    "colab": {
      "collapsed_sections": [
        "OepbSvctPysr",
        "-tIs0gOhPI7t",
        "OX0yhFFYUWzF"
      ],
      "machine_shape": "hm",
      "name": "ColabNotebook_ModelPipeline.ipynb",
      "provenance": []
    },
    "kernelspec": {
      "display_name": "Python 3",
      "name": "python3"
    },
    "language_info": {
      "codemirror_mode": {
        "name": "ipython",
        "version": 3
      },
      "file_extension": ".py",
      "mimetype": "text/x-python",
      "name": "python",
      "nbconvert_exporter": "python",
      "pygments_lexer": "ipython3",
      "version": "3.8.3"
    }
  },
  "nbformat": 4,
  "nbformat_minor": 0
}
