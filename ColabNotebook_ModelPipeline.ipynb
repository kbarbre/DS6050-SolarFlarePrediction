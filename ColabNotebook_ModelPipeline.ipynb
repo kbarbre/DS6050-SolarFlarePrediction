{
 "cells": [
  {
   "cell_type": "markdown",
   "metadata": {
    "id": "OepbSvctPysr"
   },
   "source": [
    "# Pip Install Keras-Tuner (if necessary)"
   ]
  },
  {
   "cell_type": "code",
   "execution_count": 1,
   "metadata": {
    "colab": {
     "base_uri": "https://localhost:8080/"
    },
    "id": "ky0FGKOwTBkL",
    "outputId": "6a6fa0be-56eb-4511-e5d6-32042732a03e"
   },
   "outputs": [],
   "source": [
    "#!pip install keras-tuner"
   ]
  },
  {
   "cell_type": "markdown",
   "metadata": {
    "id": "qZcbcS18P4n9"
   },
   "source": [
    "# Import Required Packages"
   ]
  },
  {
   "cell_type": "code",
   "execution_count": 2,
   "metadata": {
    "id": "10irgd5fQsTQ"
   },
   "outputs": [],
   "source": [
    "from data_creation import DataSelection\n",
    "from prediction_LSTM import SolarLSTM\n",
    "import pickle\n",
    "import numpy as np\n",
    "import tensorflow as tf\n",
    "from tensorflow import keras"
   ]
  },
  {
   "cell_type": "markdown",
   "metadata": {},
   "source": [
    "# Build Datasets"
   ]
  },
  {
   "cell_type": "code",
   "execution_count": 3,
   "metadata": {},
   "outputs": [],
   "source": [
    "rebuild_data = True #Turn to false to skip building datasets"
   ]
  },
  {
   "cell_type": "code",
   "execution_count": 4,
   "metadata": {},
   "outputs": [
    {
     "name": "stdout",
     "output_type": "stream",
     "text": [
      "Num GB used in data array: 0.0019025802612304688\n",
      "Num GB used in data array: 0.00268399715423584\n",
      "Num GB used in data array: 0.006217360496520996\n",
      "Num GB used in data array: 0.011721253395080566\n",
      "Num GB used in data array: 0.013895630836486816\n",
      "Num GB used in data array: 0.015526413917541504\n",
      "Num GB used in data array: 0.016783475875854492\n",
      "Num GB used in data array: 0.02300083637237549\n",
      "Num GB used in data array: 0.023374557495117188\n",
      "Num GB used in data array: 0.026805996894836426\n",
      "Num GB used in data array: 0.028708577156066895\n",
      "Num GB used in data array: 0.040463805198669434\n",
      "Num GB used in data array: 0.0423663854598999\n",
      "Num GB used in data array: 0.0478363037109375\n",
      "Num GB used in data array: 0.056092143058776855\n",
      "Num GB used in data array: 0.05714535713195801\n",
      "Num GB used in data array: 0.10426819324493408\n",
      "Num GB used in data array: 0.10912656784057617\n",
      "Num GB used in data array: 0.10950028896331787\n",
      "Num GB used in data array: 0.10970413684844971\n",
      "Num GB used in data array: 0.11109709739685059\n",
      "Num GB used in data array: 0.11299967765808105\n",
      "Num GB used in data array: 0.11514008045196533\n",
      "Num GB used in data array: 0.126725435256958\n",
      "Num GB used in data array: 0.12743890285491943\n",
      "Num GB used in data array: 0.1293414831161499\n",
      "Num GB used in data array: 0.13124406337738037\n",
      "Num GB used in data array: 0.13348639011383057\n",
      "Num GB used in data array: 0.13538897037506104\n",
      "Num GB used in data array: 0.1372915506362915\n",
      "Num GB used in data array: 0.13919413089752197\n",
      "Num GB used in data array: 0.15376925468444824\n",
      "Num GB used in data array: 0.1556718349456787\n",
      "Num GB used in data array: 0.15689492225646973\n",
      "Num GB used in data array: 0.1574385166168213\n",
      "Num GB used in data array: 0.16341805458068848\n",
      "Num GB used in data array: 0.16630589962005615\n",
      "Num GB used in data array: 0.1675969362258911\n",
      "Num GB used in data array: 0.16783475875854492\n",
      "Num GB used in data array: 0.1775515079498291\n",
      "Num GB used in data array: 0.17795920372009277\n",
      "Num GB used in data array: 0.18906891345977783\n",
      "Num GB used in data array: 0.19212663173675537\n",
      "Num GB used in data array: 0.20248889923095703\n",
      "Num GB used in data array: 0.21808326244354248\n",
      "Num GB used in data array: 0.2619445323944092\n",
      "Num GB used in data array: 0.3016948699951172\n",
      "Num GB used in data array: 0.3101545572280884\n",
      "Num GB used in data array: 0.3108680248260498\n",
      "Num GB used in data array: 0.3113776445388794\n",
      "Num GB used in data array: 0.3114795684814453\n",
      "Num GB used in data array: 0.33033549785614014\n",
      "Num GB used in data array: 0.3321361541748047\n",
      "Num GB used in data array: 0.3465414047241211\n",
      "Num GB used in data array: 0.34745872020721436\n",
      "Num GB used in data array: 0.347934365272522\n",
      "Num GB used in data array: 0.35303056240081787\n",
      "Num GB used in data array: 0.36549925804138184\n",
      "Num GB used in data array: 0.39842069149017334\n",
      "Num GB used in data array: 0.403822660446167\n",
      "Num GB used in data array: 0.4352492094039917\n",
      "Num GB used in data array: 0.4650449752807617\n",
      "Num GB used in data array: 0.4987478256225586\n",
      "Num GB used in data array: 0.5766516923904419\n",
      "Num GB used in data array: 0.621294379234314\n",
      "Num GB used in data array: 0.6432759761810303\n",
      "Num GB used in data array: 0.6685531139373779\n",
      "Num GB used in data array: 0.6694024801254272\n",
      "Num GB used in data array: 0.6738871335983276\n",
      "Num GB used in data array: 0.6750762462615967\n",
      "Num GB used in data array: 0.6940340995788574\n",
      "Num GB used in data array: 0.7079976797103882\n",
      "Num GB used in data array: 0.7092207670211792\n",
      "Num GB used in data array: 0.7213157415390015\n",
      "Num GB used in data array: 0.7664680480957031\n",
      "Num GB used in data array: 0.7794803380966187\n",
      "Num GB used in data array: 0.8463424444198608\n",
      "Num GB used in data array: 0.8566027879714966\n",
      "Num GB used in data array: 0.8568745851516724\n",
      "Num GB used in data array: 0.8572483062744141\n",
      "Num GB used in data array: 0.8576220273971558\n",
      "Num GB used in data array: 0.8591848611831665\n",
      "Num GB used in data array: 0.8602380752563477\n",
      "Num GB used in data array: 0.8607137203216553\n",
      "Num GB used in data array: 0.8628201484680176\n",
      "Num GB used in data array: 0.8714157342910767\n"
     ]
    }
   ],
   "source": [
    "if rebuild_data:\n",
    "    with open(\"content/all_data.pkl\", \"rb\") as file:\n",
    "        data = pickle.load(file)\n",
    "    #Extract 2014 data as a training set\n",
    "    DataSelection(data, 2014, \"./\", 38)"
   ]
  },
  {
   "cell_type": "code",
   "execution_count": 5,
   "metadata": {},
   "outputs": [
    {
     "name": "stdout",
     "output_type": "stream",
     "text": [
      "Num GB used in data array: 0.0019025802612304688\n",
      "Num GB used in data array: 0.0031256675720214844\n",
      "Num GB used in data array: 0.010973811149597168\n",
      "Num GB used in data array: 0.017496943473815918\n",
      "Num GB used in data array: 0.02415597438812256\n",
      "Num GB used in data array: 0.03142654895782471\n",
      "Num GB used in data array: 0.033329129219055176\n",
      "Num GB used in data array: 0.035231709480285645\n",
      "Num GB used in data array: 0.04630744457244873\n",
      "Num GB used in data array: 0.04668116569519043\n",
      "Num GB used in data array: 0.04759848117828369\n",
      "Num GB used in data array: 0.05874216556549072\n",
      "Num GB used in data array: 0.06064474582672119\n",
      "Num GB used in data array: 0.06152808666229248\n",
      "Num GB used in data array: 0.07073521614074707\n",
      "Num GB used in data array: 0.07178843021392822\n",
      "Num GB used in data array: 0.11503815650939941\n",
      "Num GB used in data array: 0.12271642684936523\n",
      "Num GB used in data array: 0.12614786624908447\n",
      "Num GB used in data array: 0.1263517141342163\n",
      "Num GB used in data array: 0.12726902961730957\n",
      "Num GB used in data array: 0.1277446746826172\n",
      "Num GB used in data array: 0.13545691967010498\n",
      "Num GB used in data array: 0.1376652717590332\n",
      "Num GB used in data array: 0.14231979846954346\n",
      "Num GB used in data array: 0.1500999927520752\n",
      "Num GB used in data array: 0.17846882343292236\n",
      "Num GB used in data array: 0.23214876651763916\n",
      "Num GB used in data array: 0.2421712875366211\n",
      "Num GB used in data array: 0.24356424808502197\n",
      "Num GB used in data array: 0.24407386779785156\n",
      "Num GB used in data array: 0.2676522731781006\n",
      "Num GB used in data array: 0.2734619379043579\n",
      "Num GB used in data array: 0.29418647289276123\n",
      "Num GB used in data array: 0.30196666717529297\n",
      "Num GB used in data array: 0.3089994192123413\n",
      "Num GB used in data array: 0.31538665294647217\n",
      "Num GB used in data array: 0.3223174810409546\n",
      "Num GB used in data array: 0.3227931261062622\n",
      "Num GB used in data array: 0.323064923286438\n",
      "Num GB used in data array: 0.34745872020721436\n",
      "Num GB used in data array: 0.3492933511734009\n",
      "Num GB used in data array: 0.3666883707046509\n",
      "Num GB used in data array: 0.3875148296356201\n",
      "Num GB used in data array: 0.4326331615447998\n",
      "Num GB used in data array: 0.5067998170852661\n",
      "Num GB used in data array: 0.5571502447128296\n",
      "Num GB used in data array: 0.583990216255188\n",
      "Num GB used in data array: 0.5987012386322021\n",
      "Num GB used in data array: 0.5995506048202515\n",
      "Num GB used in data array: 0.6039673089981079\n",
      "Num GB used in data array: 0.6069231033325195\n",
      "Num GB used in data array: 0.6325060129165649\n",
      "Num GB used in data array: 0.6537741422653198\n",
      "Num GB used in data array: 0.6562542915344238\n",
      "Num GB used in data array: 0.6766051054000854\n",
      "Num GB used in data array: 0.6773525476455688\n",
      "Num GB used in data array: 0.7488352060317993\n",
      "Num GB used in data array: 0.7789027690887451\n",
      "Num GB used in data array: 0.8810985088348389\n",
      "Num GB used in data array: 0.8919364213943481\n",
      "Num GB used in data array: 0.8953678607940674\n",
      "Num GB used in data array: 0.9034878015518188\n",
      "Num GB used in data array: 0.9109961986541748\n",
      "Num GB used in data array: 0.9167039394378662\n",
      "Num GB used in data array: 0.9205770492553711\n",
      "Num GB used in data array: 0.9238725900650024\n",
      "Num GB used in data array: 0.9272021055221558\n",
      "Num GB used in data array: 0.9285610914230347\n",
      "Num GB used in data array: 0.9287989139556885\n",
      "Num GB used in data array: 0.9300559759140015\n",
      "Num GB used in data array: 0.9385836124420166\n",
      "Num GB used in data array: 0.9678018093109131\n"
     ]
    }
   ],
   "source": [
    "if rebuild_data: #Now extract 2015 data using same scale/norm\n",
    "    with open(\"norm_scaler.pkl\", \"rb\") as norm_file:\n",
    "        normalization = pickle.load(norm_file)\n",
    "\n",
    "    with open(\"stand_scaler.pkl\", \"rb\") as stand_file:\n",
    "        standard = pickle.load(stand_file)\n",
    "\n",
    "    DataSelection(data, 2015,\"./\", 38, norm_scaler=normalization, stand_scaler=standard)"
   ]
  },
  {
   "cell_type": "markdown",
   "metadata": {},
   "source": [
    "# Load Datasets"
   ]
  },
  {
   "cell_type": "code",
   "execution_count": 6,
   "metadata": {},
   "outputs": [
    {
     "data": {
      "text/plain": [
       "(25649, 120, 38)"
      ]
     },
     "execution_count": 6,
     "metadata": {},
     "output_type": "execute_result"
    }
   ],
   "source": [
    "data2014 = np.load(\"data_2014.npy\")\n",
    "labels2014 = np.load(\"labels_2014.npy\")\n",
    "data2014.shape"
   ]
  },
  {
   "cell_type": "code",
   "execution_count": 7,
   "metadata": {},
   "outputs": [
    {
     "data": {
      "text/plain": [
       "(28486, 120, 38)"
      ]
     },
     "execution_count": 7,
     "metadata": {},
     "output_type": "execute_result"
    }
   ],
   "source": [
    "data2015 = np.load(\"data_2015.npy\")\n",
    "labels2015 = np.load(\"labels_2015.npy\")\n",
    "data2015.shape"
   ]
  },
  {
   "cell_type": "markdown",
   "metadata": {
    "id": "-tIs0gOhPI7t"
   },
   "source": [
    "# Base Model with All Parameters"
   ]
  },
  {
   "cell_type": "code",
   "execution_count": 8,
   "metadata": {
    "id": "im3EwZyNYK6-"
   },
   "outputs": [
    {
     "name": "stdout",
     "output_type": "stream",
     "text": [
      "Model: \"sequential\"\n",
      "_________________________________________________________________\n",
      " Layer (type)                Output Shape              Param #   \n",
      "=================================================================\n",
      " lstm (LSTM)                 (64, 120, 16)             3520      \n",
      "                                                                 \n",
      " lstm_1 (LSTM)               (64, 120, 16)             2112      \n",
      "                                                                 \n",
      " dropout (Dropout)           (64, 120, 16)             0         \n",
      "                                                                 \n",
      " dense (Dense)               (64, 120, 1)              17        \n",
      "                                                                 \n",
      "=================================================================\n",
      "Total params: 5,649\n",
      "Trainable params: 5,649\n",
      "Non-trainable params: 0\n",
      "_________________________________________________________________\n"
     ]
    }
   ],
   "source": [
    "base_model = SolarLSTM(data2014, labels2014, save_path=\"./base_model/\")\n",
    "base_model.build_model()\n",
    "base_model.model.summary()"
   ]
  },
  {
   "cell_type": "code",
   "execution_count": 9,
   "metadata": {
    "colab": {
     "base_uri": "https://localhost:8080/",
     "height": 1000
    },
    "id": "PTJij7KnQ_ye",
    "outputId": "efc5ee89-4b0d-494e-d938-0e256213ff7c"
   },
   "outputs": [
    {
     "name": "stdout",
     "output_type": "stream",
     "text": [
      "Epoch 1/50\n"
     ]
    },
    {
     "name": "stderr",
     "output_type": "stream",
     "text": [
      "C:\\Users\\Dave\\.conda\\envs\\dlproj\\lib\\site-packages\\tensorflow\\python\\util\\dispatch.py:1082: UserWarning: \"`binary_crossentropy` received `from_logits=True`, but the `output` argument was produced by a sigmoid or softmax activation and thus does not represent logits. Was this intended?\"\n",
      "  return dispatch_target(*args, **kwargs)\n"
     ]
    },
    {
     "name": "stdout",
     "output_type": "stream",
     "text": [
      "320/320 [==============================] - ETA: 0s - loss: 0.4129 - accuracy: 0.8509 - mse: 0.1249 - mae: 0.2640"
     ]
    },
    {
     "name": "stderr",
     "output_type": "stream",
     "text": [
      "WARNING:absl:Found untraced functions such as lstm_cell_layer_call_fn, lstm_cell_layer_call_and_return_conditional_losses, lstm_cell_1_layer_call_fn, lstm_cell_1_layer_call_and_return_conditional_losses while saving (showing 4 of 4). These functions will not be directly callable after loading.\n"
     ]
    },
    {
     "name": "stdout",
     "output_type": "stream",
     "text": [
      "INFO:tensorflow:Assets written to: base_model\\model_checkpoints\\assets\n"
     ]
    },
    {
     "name": "stderr",
     "output_type": "stream",
     "text": [
      "INFO:tensorflow:Assets written to: base_model\\model_checkpoints\\assets\n",
      "WARNING:absl:<keras.layers.recurrent.LSTMCell object at 0x0000028B83576BE0> has the same name 'LSTMCell' as a built-in Keras object. Consider renaming <class 'keras.layers.recurrent.LSTMCell'> to avoid naming conflicts when loading with `tf.keras.models.load_model`. If renaming is not possible, pass the object in the `custom_objects` parameter of the load function.\n",
      "WARNING:absl:<keras.layers.recurrent.LSTMCell object at 0x0000028B83702DF0> has the same name 'LSTMCell' as a built-in Keras object. Consider renaming <class 'keras.layers.recurrent.LSTMCell'> to avoid naming conflicts when loading with `tf.keras.models.load_model`. If renaming is not possible, pass the object in the `custom_objects` parameter of the load function.\n"
     ]
    },
    {
     "name": "stdout",
     "output_type": "stream",
     "text": [
      "320/320 [==============================] - 26s 72ms/step - loss: 0.4129 - accuracy: 0.8509 - mse: 0.1249 - mae: 0.2640 - val_loss: 0.4611 - val_accuracy: 0.8094 - val_mse: 0.1456 - val_mae: 0.2647\n",
      "Epoch 2/50\n",
      "320/320 [==============================] - 18s 56ms/step - loss: 0.2966 - accuracy: 0.8949 - mse: 0.0840 - mae: 0.1773 - val_loss: 0.5256 - val_accuracy: 0.8094 - val_mse: 0.1573 - val_mae: 0.2223\n",
      "Epoch 3/50\n",
      "320/320 [==============================] - 19s 60ms/step - loss: 0.2607 - accuracy: 0.9023 - mse: 0.0724 - mae: 0.1482 - val_loss: 0.5698 - val_accuracy: 0.8071 - val_mse: 0.1625 - val_mae: 0.2126\n",
      "Epoch 4/50\n",
      "320/320 [==============================] - 19s 61ms/step - loss: 0.2267 - accuracy: 0.9230 - mse: 0.0608 - mae: 0.1269 - val_loss: 0.6621 - val_accuracy: 0.8094 - val_mse: 0.1723 - val_mae: 0.2084\n",
      "Epoch 5/50\n",
      "320/320 [==============================] - 19s 58ms/step - loss: 0.1994 - accuracy: 0.9407 - mse: 0.0512 - mae: 0.1087 - val_loss: 0.6895 - val_accuracy: 0.8004 - val_mse: 0.1784 - val_mae: 0.2109\n",
      "Epoch 6/50\n",
      "320/320 [==============================] - 19s 59ms/step - loss: 0.1909 - accuracy: 0.9434 - mse: 0.0485 - mae: 0.0989 - val_loss: 0.6692 - val_accuracy: 0.8107 - val_mse: 0.1720 - val_mae: 0.2023\n",
      "Epoch 6: early stopping\n"
     ]
    },
    {
     "data": {
      "image/png": "[encoded data removed]",
      "text/plain": [
       "<Figure size 576x360 with 1 Axes>"
      ]
     },
     "metadata": {
      "needs_background": "light"
     },
     "output_type": "display_data"
    }
   ],
   "source": [
    "history=base_model.fit()"
   ]
  },
  {
   "cell_type": "code",
   "execution_count": 10,
   "metadata": {
    "colab": {
     "base_uri": "https://localhost:8080/"
    },
    "id": "jpUoXB0L-Dxp",
    "outputId": "ef776688-c628-4c20-c1ba-0577d95087b1"
   },
   "outputs": [
    {
     "name": "stderr",
     "output_type": "stream",
     "text": [
      "WARNING:absl:Found untraced functions such as lstm_cell_layer_call_fn, lstm_cell_layer_call_and_return_conditional_losses, lstm_cell_1_layer_call_fn, lstm_cell_1_layer_call_and_return_conditional_losses while saving (showing 4 of 4). These functions will not be directly callable after loading.\n"
     ]
    },
    {
     "name": "stdout",
     "output_type": "stream",
     "text": [
      "INFO:tensorflow:Assets written to: ./base_model/assets\n"
     ]
    },
    {
     "name": "stderr",
     "output_type": "stream",
     "text": [
      "INFO:tensorflow:Assets written to: ./base_model/assets\n",
      "WARNING:absl:<keras.layers.recurrent.LSTMCell object at 0x0000028B83576BE0> has the same name 'LSTMCell' as a built-in Keras object. Consider renaming <class 'keras.layers.recurrent.LSTMCell'> to avoid naming conflicts when loading with `tf.keras.models.load_model`. If renaming is not possible, pass the object in the `custom_objects` parameter of the load function.\n",
      "WARNING:absl:<keras.layers.recurrent.LSTMCell object at 0x0000028B83702DF0> has the same name 'LSTMCell' as a built-in Keras object. Consider renaming <class 'keras.layers.recurrent.LSTMCell'> to avoid naming conflicts when loading with `tf.keras.models.load_model`. If renaming is not possible, pass the object in the `custom_objects` parameter of the load function.\n"
     ]
    }
   ],
   "source": [
    "base_model.save_model(base_model.model)"
   ]
  },
  {
   "cell_type": "code",
   "execution_count": 11,
   "metadata": {},
   "outputs": [],
   "source": [
    "#Instead of retraining, can load the base model here\n",
    "# base_model = SolarLSTM.load_model(\"./base_model/\")"
   ]
  },
  {
   "cell_type": "code",
   "execution_count": 12,
   "metadata": {
    "colab": {
     "base_uri": "https://localhost:8080/"
    },
    "id": "h8GEjC8_Uufd",
    "outputId": "fcbc4444-bff1-4659-98c1-6a7f91199ee7"
   },
   "outputs": [
    {
     "name": "stdout",
     "output_type": "stream",
     "text": [
      "445/445 [==============================] - 13s 27ms/step - loss: 0.6507 - accuracy: 0.8212 - mse: 0.1612 - mae: 0.1915\n"
     ]
    },
    {
     "data": {
      "text/plain": [
       "[0.6506588459014893,\n",
       " 0.8212233781814575,\n",
       " 0.16119621694087982,\n",
       " 0.19151240587234497]"
      ]
     },
     "execution_count": 12,
     "metadata": {},
     "output_type": "execute_result"
    }
   ],
   "source": [
    "data_new = base_model.batch_prefetch_data(data2015,labels2015,split_data=False)\n",
    "base_model.evaluate(data_new)\n",
    "#base_model.evaluate(data_new,labels_new)"
   ]
  },
  {
   "cell_type": "code",
   "execution_count": 13,
   "metadata": {
    "id": "CrsOmPlY-Dxr"
   },
   "outputs": [],
   "source": [
    "#Form batches (does not shuffle, cuts off remainder)\n",
    "batched_2015 = base_model.batch_prefetch_data(data2015,split_data=False)\n",
    "#Cutoff matching remainder from labels\n",
    "true_labels = labels2015[:-(labels2015.shape[0]%base_model.batch_size)]"
   ]
  },
  {
   "cell_type": "code",
   "execution_count": 14,
   "metadata": {
    "colab": {
     "base_uri": "https://localhost:8080/",
     "height": 290
    },
    "id": "GiX56d-Rc3kK",
    "outputId": "c608f3ee-e8e8-47fc-cf4a-e7de0ff900ad"
   },
   "outputs": [
    {
     "data": {
      "image/png": "[encoded data removed]",
      "text/plain": [
       "<Figure size 432x288 with 2 Axes>"
      ]
     },
     "metadata": {
      "needs_background": "light"
     },
     "output_type": "display_data"
    }
   ],
   "source": [
    "#Do predictions and get confusion matrix\n",
    "conf_matrix = base_model.predict_conf_matrix(batched_2015,true_labels,make_plots=True)"
   ]
  },
  {
   "cell_type": "code",
   "execution_count": 15,
   "metadata": {},
   "outputs": [
    {
     "data": {
      "text/plain": [
       "array([[  41827,  521813],\n",
       "       [ 101893, 2752067]], dtype=int64)"
      ]
     },
     "execution_count": 15,
     "metadata": {},
     "output_type": "execute_result"
    }
   ],
   "source": [
    "conf_matrix"
   ]
  },
  {
   "cell_type": "code",
   "execution_count": 16,
   "metadata": {
    "id": "pebutn87-Dxs"
   },
   "outputs": [],
   "source": [
    "#If you want to customize the confusion matrix plot, can uncomment below and use the plot handle below\n",
    "#conf_plt_handle=base_model.plot_confusion_matrix(conf_matrix)"
   ]
  },
  {
   "cell_type": "code",
   "execution_count": 17,
   "metadata": {
    "colab": {
     "base_uri": "https://localhost:8080/"
    },
    "id": "dJbqDGxO-Dxt",
    "outputId": "2dc88516-b3cb-43a7-c41d-63ba717ccb05"
   },
   "outputs": [],
   "source": [
    "#Example of using the __call__ dunder method to pass data\n",
    "call_preds=base_model(batched_2015)"
   ]
  },
  {
   "cell_type": "code",
   "execution_count": 18,
   "metadata": {
    "id": "NxlmTtkt-Dxt"
   },
   "outputs": [
    {
     "name": "stderr",
     "output_type": "stream",
     "text": [
      "c:\\Users\\Dave\\Documents\\UVA\\DS6050\\Group project\\DS6050-SolarFlarePrediction\\prediction_LSTM.py:219: VisibleDeprecationWarning: Creating an ndarray from ragged nested sequences (which is a list-or-tuple of lists-or-tuples-or ndarrays with different lengths or shapes) is deprecated. If you meant to do this, you must specify 'dtype=object' when creating the ndarray.\n",
      "  plt.boxplot(np.array([true_positive_logits, false_positive_logits]),\n"
     ]
    },
    {
     "data": {
      "image/png": "[encoded data removed]",
      "text/plain": [
       "<Figure size 432x288 with 1 Axes>"
      ]
     },
     "metadata": {
      "needs_background": "light"
     },
     "output_type": "display_data"
    }
   ],
   "source": [
    "tp_base, fp_base = base_model.view_prediction_distributions(true_labels=true_labels,data=batched_2015)"
   ]
  },
  {
   "cell_type": "code",
   "execution_count": 19,
   "metadata": {
    "id": "TJ15elvZFqpC"
   },
   "outputs": [],
   "source": [
    "import pandas as pd\n",
    "\n",
    "def calculate_statistics(conf_matrix):\n",
    "  tp = conf_matrix[1][1]\n",
    "  fp = conf_matrix[1][0]\n",
    "  tn = conf_matrix[0][0]\n",
    "  fn = conf_matrix[0][1]\n",
    "\n",
    "  # Precision - TP/(TP+FP)\n",
    "  precision = tp / np.sum([tp, fp])\n",
    "\n",
    "  # Recall - TP/(TP+FN)\n",
    "  recall = tp / np.sum([tp, fn])\n",
    "\n",
    "  # False Alarm Rate/Probability of False Alarm - FP/(FP+TN)\n",
    "  far = fp / np.sum([fp, tn])\n",
    "\n",
    "  # Heidke Skill Score (HSS) - 2*(TP * TN - FP * FN) / (TP+FN)*(FN+TN)+(TP+FP)*(FP+TN)\n",
    "  hss = (2 * ((tp*tn) - (fp*fn))) / (((tp+fn)*(fn+tn)) + ((tp+tn)*(fp+tn)))\n",
    "\n",
    "  return pd.DataFrame({\"precision\": precision, \"recall\": recall, \"far\": far, \"hss\": hss}, index=[0])"
   ]
  },
  {
   "cell_type": "code",
   "execution_count": 20,
   "metadata": {
    "colab": {
     "base_uri": "https://localhost:8080/",
     "height": 81
    },
    "id": "rTb2TlYgHPAf",
    "outputId": "74f6c064-adb9-41b4-e8d9-cbefcdf8f3c4"
   },
   "outputs": [
    {
     "data": {
      "text/html": [
       "<div>\n",
       "<style scoped>\n",
       "    .dataframe tbody tr th:only-of-type {\n",
       "        vertical-align: middle;\n",
       "    }\n",
       "\n",
       "    .dataframe tbody tr th {\n",
       "        vertical-align: top;\n",
       "    }\n",
       "\n",
       "    .dataframe thead th {\n",
       "        text-align: right;\n",
       "    }\n",
       "</style>\n",
       "<table border=\"1\" class=\"dataframe\">\n",
       "  <thead>\n",
       "    <tr style=\"text-align: right;\">\n",
       "      <th></th>\n",
       "      <th>precision</th>\n",
       "      <th>recall</th>\n",
       "      <th>far</th>\n",
       "      <th>hss</th>\n",
       "    </tr>\n",
       "  </thead>\n",
       "  <tbody>\n",
       "    <tr>\n",
       "      <th>0</th>\n",
       "      <td>0.964298</td>\n",
       "      <td>0.840613</td>\n",
       "      <td>0.708969</td>\n",
       "      <td>0.055137</td>\n",
       "    </tr>\n",
       "  </tbody>\n",
       "</table>\n",
       "</div>"
      ],
      "text/plain": [
       "   precision    recall       far       hss\n",
       "0   0.964298  0.840613  0.708969  0.055137"
      ]
     },
     "execution_count": 20,
     "metadata": {},
     "output_type": "execute_result"
    }
   ],
   "source": [
    "calculate_statistics(conf_matrix)"
   ]
  },
  {
   "cell_type": "code",
   "execution_count": 21,
   "metadata": {
    "id": "oqkOENaJHSXV"
   },
   "outputs": [],
   "source": [
    "keras.backend.clear_session()"
   ]
  },
  {
   "cell_type": "code",
   "execution_count": 22,
   "metadata": {
    "id": "n66-9WADHrwv"
   },
   "outputs": [
    {
     "name": "stdout",
     "output_type": "stream",
     "text": [
      "Trial 10 Complete [00h 03m 27s]\n",
      "val_accuracy: 0.8104687333106995\n",
      "\n",
      "Best val_accuracy So Far: 0.8392480611801147\n",
      "Total elapsed time: 01h 45m 45s\n",
      "INFO:tensorflow:Oracle triggered exit\n"
     ]
    },
    {
     "name": "stderr",
     "output_type": "stream",
     "text": [
      "INFO:tensorflow:Oracle triggered exit\n"
     ]
    },
    {
     "name": "stdout",
     "output_type": "stream",
     "text": [
      "Hyper Tuning Complete\n",
      "Epoch 1/50\n"
     ]
    },
    {
     "name": "stderr",
     "output_type": "stream",
     "text": [
      "C:\\Users\\Dave\\.conda\\envs\\dlproj\\lib\\site-packages\\tensorflow\\python\\util\\dispatch.py:1082: UserWarning: \"`binary_crossentropy` received `from_logits=True`, but the `output` argument was produced by a sigmoid or softmax activation and thus does not represent logits. Was this intended?\"\n",
      "  return dispatch_target(*args, **kwargs)\n"
     ]
    },
    {
     "name": "stdout",
     "output_type": "stream",
     "text": [
      "320/320 [==============================] - ETA: 0s - loss: 0.3664 - accuracy: 0.8832 - mse: 0.1056 - mae: 0.2000"
     ]
    },
    {
     "name": "stderr",
     "output_type": "stream",
     "text": [
      "WARNING:absl:Found untraced functions such as lstm_cell_2_layer_call_fn, lstm_cell_2_layer_call_and_return_conditional_losses, lstm_cell_3_layer_call_fn, lstm_cell_3_layer_call_and_return_conditional_losses while saving (showing 4 of 4). These functions will not be directly callable after loading.\n"
     ]
    },
    {
     "name": "stdout",
     "output_type": "stream",
     "text": [
      "INFO:tensorflow:Assets written to: base_model_tuned\\model_checkpoints\\assets\n"
     ]
    },
    {
     "name": "stderr",
     "output_type": "stream",
     "text": [
      "INFO:tensorflow:Assets written to: base_model_tuned\\model_checkpoints\\assets\n",
      "WARNING:absl:<keras.layers.recurrent.LSTMCell object at 0x0000028B84053550> has the same name 'LSTMCell' as a built-in Keras object. Consider renaming <class 'keras.layers.recurrent.LSTMCell'> to avoid naming conflicts when loading with `tf.keras.models.load_model`. If renaming is not possible, pass the object in the `custom_objects` parameter of the load function.\n",
      "WARNING:absl:<keras.layers.recurrent.LSTMCell object at 0x0000028B89D651C0> has the same name 'LSTMCell' as a built-in Keras object. Consider renaming <class 'keras.layers.recurrent.LSTMCell'> to avoid naming conflicts when loading with `tf.keras.models.load_model`. If renaming is not possible, pass the object in the `custom_objects` parameter of the load function.\n"
     ]
    },
    {
     "name": "stdout",
     "output_type": "stream",
     "text": [
      "320/320 [==============================] - 48s 142ms/step - loss: 0.3664 - accuracy: 0.8832 - mse: 0.1056 - mae: 0.2000 - val_loss: 0.6455 - val_accuracy: 0.8094 - val_mse: 0.1642 - val_mae: 0.2167\n",
      "Epoch 2/50\n",
      "320/320 [==============================] - 35s 108ms/step - loss: 0.3070 - accuracy: 0.8910 - mse: 0.0887 - mae: 0.1646 - val_loss: 0.7503 - val_accuracy: 0.8085 - val_mse: 0.1809 - val_mae: 0.2041\n",
      "Epoch 3/50\n",
      "320/320 [==============================] - ETA: 0s - loss: 0.3070 - accuracy: 0.8742 - mse: 0.0887 - mae: 0.1660"
     ]
    },
    {
     "name": "stderr",
     "output_type": "stream",
     "text": [
      "WARNING:absl:Found untraced functions such as lstm_cell_2_layer_call_fn, lstm_cell_2_layer_call_and_return_conditional_losses, lstm_cell_3_layer_call_fn, lstm_cell_3_layer_call_and_return_conditional_losses while saving (showing 4 of 4). These functions will not be directly callable after loading.\n"
     ]
    },
    {
     "name": "stdout",
     "output_type": "stream",
     "text": [
      "INFO:tensorflow:Assets written to: base_model_tuned\\model_checkpoints\\assets\n"
     ]
    },
    {
     "name": "stderr",
     "output_type": "stream",
     "text": [
      "INFO:tensorflow:Assets written to: base_model_tuned\\model_checkpoints\\assets\n",
      "WARNING:absl:<keras.layers.recurrent.LSTMCell object at 0x0000028B84053550> has the same name 'LSTMCell' as a built-in Keras object. Consider renaming <class 'keras.layers.recurrent.LSTMCell'> to avoid naming conflicts when loading with `tf.keras.models.load_model`. If renaming is not possible, pass the object in the `custom_objects` parameter of the load function.\n",
      "WARNING:absl:<keras.layers.recurrent.LSTMCell object at 0x0000028B89D651C0> has the same name 'LSTMCell' as a built-in Keras object. Consider renaming <class 'keras.layers.recurrent.LSTMCell'> to avoid naming conflicts when loading with `tf.keras.models.load_model`. If renaming is not possible, pass the object in the `custom_objects` parameter of the load function.\n"
     ]
    },
    {
     "name": "stdout",
     "output_type": "stream",
     "text": [
      "320/320 [==============================] - 39s 121ms/step - loss: 0.3070 - accuracy: 0.8742 - mse: 0.0887 - mae: 0.1660 - val_loss: 0.5578 - val_accuracy: 0.8091 - val_mse: 0.1501 - val_mae: 0.2133\n",
      "Epoch 4/50\n",
      "320/320 [==============================] - 33s 104ms/step - loss: 0.2556 - accuracy: 0.8890 - mse: 0.0720 - mae: 0.1452 - val_loss: 0.6316 - val_accuracy: 0.8024 - val_mse: 0.1633 - val_mae: 0.2120\n",
      "Epoch 5/50\n",
      "320/320 [==============================] - 33s 102ms/step - loss: 0.2190 - accuracy: 0.9305 - mse: 0.0598 - mae: 0.1198 - val_loss: 0.7000 - val_accuracy: 0.8039 - val_mse: 0.1737 - val_mae: 0.2046\n",
      "Epoch 6/50\n",
      "320/320 [==============================] - 34s 107ms/step - loss: 0.2080 - accuracy: 0.9316 - mse: 0.0564 - mae: 0.1122 - val_loss: 0.7218 - val_accuracy: 0.8063 - val_mse: 0.1769 - val_mae: 0.2044\n",
      "Epoch 7/50\n",
      "320/320 [==============================] - 33s 103ms/step - loss: 0.1959 - accuracy: 0.9332 - mse: 0.0530 - mae: 0.1053 - val_loss: 0.6718 - val_accuracy: 0.8059 - val_mse: 0.1645 - val_mae: 0.2087\n",
      "Epoch 8/50\n",
      "320/320 [==============================] - 35s 108ms/step - loss: 0.1729 - accuracy: 0.9448 - mse: 0.0455 - mae: 0.0954 - val_loss: 0.6923 - val_accuracy: 0.8161 - val_mse: 0.1653 - val_mae: 0.1985\n",
      "Epoch 8: early stopping\n"
     ]
    },
    {
     "data": {
      "image/png": "[encoded data removed]",
      "text/plain": [
       "<Figure size 576x360 with 1 Axes>"
      ]
     },
     "metadata": {
      "needs_background": "light"
     },
     "output_type": "display_data"
    },
    {
     "data": {
      "text/plain": [
       "<keras.callbacks.History at 0x28b89954b20>"
      ]
     },
     "execution_count": 22,
     "metadata": {},
     "output_type": "execute_result"
    }
   ],
   "source": [
    "tuned_model = SolarLSTM(data2014, labels2014, \"./base_model_tuned/\", tune=True)\n",
    "tuned_model.fit()"
   ]
  },
  {
   "cell_type": "code",
   "execution_count": 23,
   "metadata": {
    "colab": {
     "base_uri": "https://localhost:8080/",
     "height": 1000
    },
    "id": "ABq_7_PCI0AA",
    "outputId": "8e254b91-be95-402e-a94d-33b99073bf44"
   },
   "outputs": [
    {
     "name": "stderr",
     "output_type": "stream",
     "text": [
      "WARNING:absl:Found untraced functions such as lstm_cell_2_layer_call_fn, lstm_cell_2_layer_call_and_return_conditional_losses, lstm_cell_3_layer_call_fn, lstm_cell_3_layer_call_and_return_conditional_losses while saving (showing 4 of 4). These functions will not be directly callable after loading.\n"
     ]
    },
    {
     "name": "stdout",
     "output_type": "stream",
     "text": [
      "INFO:tensorflow:Assets written to: ./base_model_tuned/assets\n"
     ]
    },
    {
     "name": "stderr",
     "output_type": "stream",
     "text": [
      "INFO:tensorflow:Assets written to: ./base_model_tuned/assets\n",
      "WARNING:absl:<keras.layers.recurrent.LSTMCell object at 0x0000028B84053550> has the same name 'LSTMCell' as a built-in Keras object. Consider renaming <class 'keras.layers.recurrent.LSTMCell'> to avoid naming conflicts when loading with `tf.keras.models.load_model`. If renaming is not possible, pass the object in the `custom_objects` parameter of the load function.\n",
      "WARNING:absl:<keras.layers.recurrent.LSTMCell object at 0x0000028B89D651C0> has the same name 'LSTMCell' as a built-in Keras object. Consider renaming <class 'keras.layers.recurrent.LSTMCell'> to avoid naming conflicts when loading with `tf.keras.models.load_model`. If renaming is not possible, pass the object in the `custom_objects` parameter of the load function.\n"
     ]
    }
   ],
   "source": [
    "tuned_model.save_model(tuned_model.model)"
   ]
  },
  {
   "cell_type": "code",
   "execution_count": 24,
   "metadata": {},
   "outputs": [],
   "source": [
    "#Instead of retraining, can load the base model here\n",
    "# tuned_model = SolarLSTM.load_model(\"./base_model_tuned/\")"
   ]
  },
  {
   "cell_type": "code",
   "execution_count": 25,
   "metadata": {
    "id": "HvQOPbinpi9a"
   },
   "outputs": [],
   "source": [
    "#Form batches (does not shuffle, cuts off remainder)\n",
    "batched_2015 = tuned_model.batch_prefetch_data(data2015,split_data=False)\n",
    "#Cutoff matching remainder from labels\n",
    "true_labels = labels2015[:-(labels2015.shape[0]%tuned_model.batch_size)]"
   ]
  },
  {
   "cell_type": "code",
   "execution_count": 26,
   "metadata": {
    "colab": {
     "base_uri": "https://localhost:8080/",
     "height": 290
    },
    "id": "m-XMZyf6I4YG",
    "outputId": "7a6b9aea-b5e4-4a0c-e7d8-403a2942ccbc"
   },
   "outputs": [
    {
     "data": {
      "image/png": "[encoded data removed]",
      "text/plain": [
       "<Figure size 432x288 with 2 Axes>"
      ]
     },
     "metadata": {
      "needs_background": "light"
     },
     "output_type": "display_data"
    }
   ],
   "source": [
    "conf_matrix = tuned_model.predict_conf_matrix(batched_2015,true_labels,make_plots=True)"
   ]
  },
  {
   "cell_type": "code",
   "execution_count": 27,
   "metadata": {
    "colab": {
     "base_uri": "https://localhost:8080/",
     "height": 81
    },
    "id": "Mi-VaL6epXf3",
    "outputId": "01328e42-1dbf-47a3-c08b-3155b9208812"
   },
   "outputs": [
    {
     "data": {
      "text/html": [
       "<div>\n",
       "<style scoped>\n",
       "    .dataframe tbody tr th:only-of-type {\n",
       "        vertical-align: middle;\n",
       "    }\n",
       "\n",
       "    .dataframe tbody tr th {\n",
       "        vertical-align: top;\n",
       "    }\n",
       "\n",
       "    .dataframe thead th {\n",
       "        text-align: right;\n",
       "    }\n",
       "</style>\n",
       "<table border=\"1\" class=\"dataframe\">\n",
       "  <thead>\n",
       "    <tr style=\"text-align: right;\">\n",
       "      <th></th>\n",
       "      <th>precision</th>\n",
       "      <th>recall</th>\n",
       "      <th>far</th>\n",
       "      <th>hss</th>\n",
       "    </tr>\n",
       "  </thead>\n",
       "  <tbody>\n",
       "    <tr>\n",
       "      <th>0</th>\n",
       "      <td>0.956898</td>\n",
       "      <td>0.841502</td>\n",
       "      <td>0.71404</td>\n",
       "      <td>0.061749</td>\n",
       "    </tr>\n",
       "  </tbody>\n",
       "</table>\n",
       "</div>"
      ],
      "text/plain": [
       "   precision    recall      far       hss\n",
       "0   0.956898  0.841502  0.71404  0.061749"
      ]
     },
     "execution_count": 27,
     "metadata": {},
     "output_type": "execute_result"
    }
   ],
   "source": [
    "calculate_statistics(conf_matrix)"
   ]
  },
  {
   "cell_type": "code",
   "execution_count": 30,
   "metadata": {
    "colab": {
     "base_uri": "https://localhost:8080/"
    },
    "id": "8uM0OL9QpujF",
    "outputId": "2412f133-1c31-454d-8514-9714abfcacee"
   },
   "outputs": [
    {
     "name": "stdout",
     "output_type": "stream",
     "text": [
      "Model: \"sequential_1\"\n",
      "_________________________________________________________________\n",
      " Layer (type)                Output Shape              Param #   \n",
      "=================================================================\n",
      " lstm_2 (LSTM)               (64, 120, 48)             16704     \n",
      "                                                                 \n",
      " lstm_3 (LSTM)               (64, 120, 48)             18624     \n",
      "                                                                 \n",
      " dropout_1 (Dropout)         (64, 120, 48)             0         \n",
      "                                                                 \n",
      " dense_1 (Dense)             (64, 120, 1)              49        \n",
      "                                                                 \n",
      "=================================================================\n",
      "Total params: 35,377\n",
      "Trainable params: 35,377\n",
      "Non-trainable params: 0\n",
      "_________________________________________________________________\n"
     ]
    }
   ],
   "source": [
    "tuned_model.model.summary()"
   ]
  },
  {
   "cell_type": "code",
   "execution_count": 31,
   "metadata": {},
   "outputs": [
    {
     "name": "stderr",
     "output_type": "stream",
     "text": [
      "c:\\Users\\Dave\\Documents\\UVA\\DS6050\\Group project\\DS6050-SolarFlarePrediction\\prediction_LSTM.py:219: VisibleDeprecationWarning: Creating an ndarray from ragged nested sequences (which is a list-or-tuple of lists-or-tuples-or ndarrays with different lengths or shapes) is deprecated. If you meant to do this, you must specify 'dtype=object' when creating the ndarray.\n",
      "  plt.boxplot(np.array([true_positive_logits, false_positive_logits]),\n"
     ]
    },
    {
     "data": {
      "image/png": "[encoded data removed]",
      "text/plain": [
       "<Figure size 432x288 with 1 Axes>"
      ]
     },
     "metadata": {
      "needs_background": "light"
     },
     "output_type": "display_data"
    }
   ],
   "source": [
    "tp_base_tuned, fp_base_tuned = tuned_model.view_prediction_distributions(true_labels=true_labels,data=batched_2015)"
   ]
  },
  {
   "cell_type": "markdown",
   "metadata": {
    "id": "wetBz_EiNHYJ"
   },
   "source": [
    "# Models for ONLY Magnetic Field Parameters\n",
    "\n",
    "In DataSelection() set the following arguments:\n",
    "\n",
    "* use_all=False\n",
    "* select_columns=[magnetic field parameters]"
   ]
  },
  {
   "cell_type": "code",
   "execution_count": 3,
   "metadata": {
    "id": "kcnRhTHHNgb5"
   },
   "outputs": [],
   "source": [
    "mf_parameters = [\"TOTUSJH\", \"TOTBSQ\", \"TOTPOT\", \"TOTUSJZ\", \"ABSNJZH\", \"SAVNCPP\",\n",
    "                 \"USFLUX\", \"TOTFZ\", \"MEANPOT\", \"EPSZ\", \"MEANSHR\", \"SHRGT45\", \n",
    "                 \"MEANGAM\", \"MEANGBT\", \"MEANGBZ\", \"MEANGBH\", \"MEANJZH\", \"TOTFY\",\n",
    "                 \"MEANJZD\", \"MEANALP\", \"TOTFX\", \"EPSY\", \"EPSX\", \"R_VALUE\"]"
   ]
  },
  {
   "cell_type": "markdown",
   "metadata": {
    "id": "OX0yhFFYUWzF"
   },
   "source": [
    "## Creating Data"
   ]
  },
  {
   "cell_type": "code",
   "execution_count": 4,
   "metadata": {
    "colab": {
     "base_uri": "https://localhost:8080/"
    },
    "id": "LHepG4AUNDtX",
    "outputId": "4360c7c3-16e1-4068-cf61-81292646ce41"
   },
   "outputs": [
    {
     "name": "stdout",
     "output_type": "stream",
     "text": [
      "Num GB used in data array: 0.001201629638671875\n",
      "Num GB used in data array: 0.0016951560974121094\n",
      "Num GB used in data array: 0.003926753997802734\n",
      "Num GB used in data array: 0.007402896881103516\n",
      "Num GB used in data array: 0.008776187896728516\n",
      "Num GB used in data array: 0.009806156158447266\n",
      "Num GB used in data array: 0.010600090026855469\n",
      "Num GB used in data array: 0.014526844024658203\n",
      "Num GB used in data array: 0.01476287841796875\n",
      "Num GB used in data array: 0.016930103302001953\n",
      "Num GB used in data array: 0.018131732940673828\n",
      "Num GB used in data array: 0.025556087493896484\n",
      "Num GB used in data array: 0.02675771713256836\n",
      "Num GB used in data array: 0.03021240234375\n",
      "Num GB used in data array: 0.03542661666870117\n",
      "Num GB used in data array: 0.03609180450439453\n",
      "Num GB used in data array: 0.06585359573364258\n",
      "Num GB used in data array: 0.06892204284667969\n",
      "Num GB used in data array: 0.06915807723999023\n",
      "Num GB used in data array: 0.06928682327270508\n",
      "Num GB used in data array: 0.07016658782958984\n",
      "Num GB used in data array: 0.07136821746826172\n",
      "Num GB used in data array: 0.07272005081176758\n",
      "Num GB used in data array: 0.08003711700439453\n",
      "Num GB used in data array: 0.08048772811889648\n",
      "Num GB used in data array: 0.08168935775756836\n",
      "Num GB used in data array: 0.08289098739624023\n",
      "Num GB used in data array: 0.08430719375610352\n",
      "Num GB used in data array: 0.08550882339477539\n",
      "Num GB used in data array: 0.08671045303344727\n",
      "Num GB used in data array: 0.08791208267211914\n",
      "Num GB used in data array: 0.09711742401123047\n",
      "Num GB used in data array: 0.09831905364990234\n",
      "Num GB used in data array: 0.0990915298461914\n",
      "Num GB used in data array: 0.09943485260009766\n",
      "Num GB used in data array: 0.1032114028930664\n",
      "Num GB used in data array: 0.10503530502319336\n",
      "Num GB used in data array: 0.1058506965637207\n",
      "Num GB used in data array: 0.10600090026855469\n",
      "Num GB used in data array: 0.1121377944946289\n",
      "Num GB used in data array: 0.1123952865600586\n",
      "Num GB used in data array: 0.11941194534301758\n",
      "Num GB used in data array: 0.12134313583374023\n",
      "Num GB used in data array: 0.12788772583007812\n",
      "Num GB used in data array: 0.13773679733276367\n",
      "Num GB used in data array: 0.16543865203857422\n",
      "Num GB used in data array: 0.19054412841796875\n",
      "Num GB used in data array: 0.19588708877563477\n",
      "Num GB used in data array: 0.19633769989013672\n",
      "Num GB used in data array: 0.19665956497192383\n",
      "Num GB used in data array: 0.19672393798828125\n",
      "Num GB used in data array: 0.2086329460144043\n",
      "Num GB used in data array: 0.20977020263671875\n",
      "Num GB used in data array: 0.21886825561523438\n",
      "Num GB used in data array: 0.21944761276245117\n",
      "Num GB used in data array: 0.21974802017211914\n",
      "Num GB used in data array: 0.22296667098999023\n",
      "Num GB used in data array: 0.23084163665771484\n",
      "Num GB used in data array: 0.2516341209411621\n",
      "Num GB used in data array: 0.25504589080810547\n",
      "Num GB used in data array: 0.27489423751831055\n",
      "Num GB used in data array: 0.2937126159667969\n",
      "Num GB used in data array: 0.3149986267089844\n",
      "Num GB used in data array: 0.36420106887817383\n",
      "Num GB used in data array: 0.3923964500427246\n",
      "Num GB used in data array: 0.4062795639038086\n",
      "Num GB used in data array: 0.4222440719604492\n",
      "Num GB used in data array: 0.42278051376342773\n",
      "Num GB used in data array: 0.4256129264831543\n",
      "Num GB used in data array: 0.4263639450073242\n",
      "Num GB used in data array: 0.4383373260498047\n",
      "Num GB used in data array: 0.4471564292907715\n",
      "Num GB used in data array: 0.44792890548706055\n",
      "Num GB used in data array: 0.4555678367614746\n",
      "Num GB used in data array: 0.4840850830078125\n",
      "Num GB used in data array: 0.49230337142944336\n",
      "Num GB used in data array: 0.5345320701599121\n",
      "Num GB used in data array: 0.5410122871398926\n",
      "Num GB used in data array: 0.5411839485168457\n",
      "Num GB used in data array: 0.5414199829101562\n",
      "Num GB used in data array: 0.5416560173034668\n",
      "Num GB used in data array: 0.5426430702209473\n",
      "Num GB used in data array: 0.5433082580566406\n",
      "Num GB used in data array: 0.5436086654663086\n",
      "Num GB used in data array: 0.5449390411376953\n",
      "Num GB used in data array: 0.5503678321838379\n"
     ]
    }
   ],
   "source": [
    "if rebuild_data:\n",
    "    with open(\"content/all_data.pkl\", \"rb\") as file:\n",
    "        data = pickle.load(file)\n",
    "\n",
    "    DataSelection(data, 2014, \"./mf/\", 24, use_all=False, select_columns=mf_parameters)"
   ]
  },
  {
   "cell_type": "code",
   "execution_count": 5,
   "metadata": {
    "colab": {
     "base_uri": "https://localhost:8080/"
    },
    "id": "OkzYmlzhNDtq",
    "outputId": "fcf5f8d6-e499-4c89-ca14-7bf9c6ccf76a"
   },
   "outputs": [
    {
     "name": "stdout",
     "output_type": "stream",
     "text": [
      "Num GB used in data array: 0.001201629638671875\n",
      "Num GB used in data array: 0.0019741058349609375\n",
      "Num GB used in data array: 0.006930828094482422\n",
      "Num GB used in data array: 0.011050701141357422\n",
      "Num GB used in data array: 0.015256404876708984\n",
      "Num GB used in data array: 0.019848346710205078\n",
      "Num GB used in data array: 0.021049976348876953\n",
      "Num GB used in data array: 0.022251605987548828\n",
      "Num GB used in data array: 0.029246807098388672\n",
      "Num GB used in data array: 0.02948284149169922\n",
      "Num GB used in data array: 0.030062198638916016\n",
      "Num GB used in data array: 0.03710031509399414\n",
      "Num GB used in data array: 0.038301944732666016\n",
      "Num GB used in data array: 0.03885984420776367\n",
      "Num GB used in data array: 0.04467487335205078\n",
      "Num GB used in data array: 0.04534006118774414\n",
      "Num GB used in data array: 0.07265567779541016\n",
      "Num GB used in data array: 0.07750511169433594\n",
      "Num GB used in data array: 0.07967233657836914\n",
      "Num GB used in data array: 0.07980108261108398\n",
      "Num GB used in data array: 0.08038043975830078\n",
      "Num GB used in data array: 0.08068084716796875\n",
      "Num GB used in data array: 0.08555173873901367\n",
      "Num GB used in data array: 0.08694648742675781\n",
      "Num GB used in data array: 0.08988618850708008\n",
      "Num GB used in data array: 0.09479999542236328\n",
      "Num GB used in data array: 0.1127171516418457\n",
      "Num GB used in data array: 0.1466202735900879\n",
      "Num GB used in data array: 0.15295028686523438\n",
      "Num GB used in data array: 0.15383005142211914\n",
      "Num GB used in data array: 0.15415191650390625\n",
      "Num GB used in data array: 0.16904354095458984\n",
      "Num GB used in data array: 0.1727128028869629\n",
      "Num GB used in data array: 0.18580198287963867\n",
      "Num GB used in data array: 0.19071578979492188\n",
      "Num GB used in data array: 0.19515752792358398\n",
      "Num GB used in data array: 0.19919157028198242\n",
      "Num GB used in data array: 0.2035689353942871\n",
      "Num GB used in data array: 0.20386934280395508\n",
      "Num GB used in data array: 0.2040410041809082\n",
      "Num GB used in data array: 0.21944761276245117\n",
      "Num GB used in data array: 0.22060632705688477\n",
      "Num GB used in data array: 0.23159265518188477\n",
      "Num GB used in data array: 0.24474620819091797\n",
      "Num GB used in data array: 0.2732419967651367\n",
      "Num GB used in data array: 0.3200840950012207\n",
      "Num GB used in data array: 0.3518843650817871\n",
      "Num GB used in data array: 0.3688359260559082\n",
      "Num GB used in data array: 0.3781270980834961\n",
      "Num GB used in data array: 0.3786635398864746\n",
      "Num GB used in data array: 0.3814530372619629\n",
      "Num GB used in data array: 0.3833198547363281\n",
      "Num GB used in data array: 0.399477481842041\n",
      "Num GB used in data array: 0.41290998458862305\n",
      "Num GB used in data array: 0.4144763946533203\n",
      "Num GB used in data array: 0.42732954025268555\n",
      "Num GB used in data array: 0.42780160903930664\n",
      "Num GB used in data array: 0.4729485511779785\n",
      "Num GB used in data array: 0.49193859100341797\n",
      "Num GB used in data array: 0.556483268737793\n",
      "Num GB used in data array: 0.5633282661437988\n",
      "Num GB used in data array: 0.565495491027832\n",
      "Num GB used in data array: 0.5706238746643066\n",
      "Num GB used in data array: 0.5753660202026367\n",
      "Num GB used in data array: 0.5789709091186523\n",
      "Num GB used in data array: 0.5814170837402344\n",
      "Num GB used in data array: 0.583498477935791\n",
      "Num GB used in data array: 0.5856013298034668\n",
      "Num GB used in data array: 0.5864596366882324\n",
      "Num GB used in data array: 0.5866098403930664\n",
      "Num GB used in data array: 0.5874037742614746\n",
      "Num GB used in data array: 0.5927896499633789\n",
      "Num GB used in data array: 0.6112432479858398\n"
     ]
    }
   ],
   "source": [
    "if rebuild_data:\n",
    "    with open(\"./mf/norm_scaler.pkl\", \"rb\") as norm_file:\n",
    "        normalization = pickle.load(norm_file)\n",
    "\n",
    "    with open(\"./mf/stand_scaler.pkl\", \"rb\") as stand_file:\n",
    "        standard = pickle.load(stand_file)\n",
    "\n",
    "    DataSelection(data, 2015,\"./mf/\", 24, use_all=False, select_columns=mf_parameters,\n",
    "                norm_scaler=normalization, stand_scaler=standard)"
   ]
  },
  {
   "cell_type": "markdown",
   "metadata": {
    "id": "jJkOJWHpUbEW"
   },
   "source": [
    "## Load Data and Run Models"
   ]
  },
  {
   "cell_type": "code",
   "execution_count": 6,
   "metadata": {
    "id": "_2vrpSwNNDtq"
   },
   "outputs": [],
   "source": [
    "data2014_mf = np.load(\"./mf/data_2014.npy\")\n",
    "labels2014_mf = np.load(\"./mf/labels_2014.npy\")"
   ]
  },
  {
   "cell_type": "code",
   "execution_count": 7,
   "metadata": {},
   "outputs": [
    {
     "data": {
      "text/plain": [
       "(28486, 120, 24)"
      ]
     },
     "execution_count": 7,
     "metadata": {},
     "output_type": "execute_result"
    }
   ],
   "source": [
    "data2015_mf = np.load(\"./mf/data_2015.npy\")\n",
    "labels2015_mf = np.load(\"./mf/labels_2015.npy\")\n",
    "data2015_mf.shape"
   ]
  },
  {
   "cell_type": "code",
   "execution_count": 8,
   "metadata": {
    "id": "EK4QoBskNDtr"
   },
   "outputs": [],
   "source": [
    "mf_model = SolarLSTM(data2014_mf, labels2014_mf, \"./mf_model/\")"
   ]
  },
  {
   "cell_type": "code",
   "execution_count": 9,
   "metadata": {
    "id": "o64p85LENDtr"
   },
   "outputs": [],
   "source": [
    "mf_model.build_model()"
   ]
  },
  {
   "cell_type": "code",
   "execution_count": 10,
   "metadata": {
    "colab": {
     "base_uri": "https://localhost:8080/"
    },
    "id": "1a6nHcNHNDtr",
    "outputId": "d73f9571-1755-4b29-b3de-c3c0ac2041a7"
   },
   "outputs": [
    {
     "name": "stdout",
     "output_type": "stream",
     "text": [
      "Model: \"sequential\"\n",
      "_________________________________________________________________\n",
      " Layer (type)                Output Shape              Param #   \n",
      "=================================================================\n",
      " lstm (LSTM)                 (64, 120, 16)             2624      \n",
      "                                                                 \n",
      " lstm_1 (LSTM)               (64, 120, 16)             2112      \n",
      "                                                                 \n",
      " dropout (Dropout)           (64, 120, 16)             0         \n",
      "                                                                 \n",
      " dense (Dense)               (64, 120, 1)              17        \n",
      "                                                                 \n",
      "=================================================================\n",
      "Total params: 4,753\n",
      "Trainable params: 4,753\n",
      "Non-trainable params: 0\n",
      "_________________________________________________________________\n"
     ]
    }
   ],
   "source": [
    "mf_model.model.summary()"
   ]
  },
  {
   "cell_type": "code",
   "execution_count": 11,
   "metadata": {
    "colab": {
     "base_uri": "https://localhost:8080/",
     "height": 1000
    },
    "id": "AzkfkXdTNDts",
    "outputId": "7f243da4-df72-418a-ea13-80a7d7e91680"
   },
   "outputs": [
    {
     "name": "stdout",
     "output_type": "stream",
     "text": [
      "Epoch 1/50\n"
     ]
    },
    {
     "name": "stderr",
     "output_type": "stream",
     "text": [
      "C:\\Users\\Dave\\.conda\\envs\\dlproj\\lib\\site-packages\\tensorflow\\python\\util\\dispatch.py:1082: UserWarning: \"`binary_crossentropy` received `from_logits=True`, but the `output` argument was produced by a sigmoid or softmax activation and thus does not represent logits. Was this intended?\"\n",
      "  return dispatch_target(*args, **kwargs)\n"
     ]
    },
    {
     "name": "stdout",
     "output_type": "stream",
     "text": [
      "319/320 [============================>.] - ETA: 0s - loss: 0.4099 - accuracy: 0.8707 - mse: 0.1224 - mae: 0.2512"
     ]
    },
    {
     "name": "stderr",
     "output_type": "stream",
     "text": [
      "WARNING:absl:Found untraced functions such as lstm_cell_layer_call_fn, lstm_cell_layer_call_and_return_conditional_losses, lstm_cell_1_layer_call_fn, lstm_cell_1_layer_call_and_return_conditional_losses while saving (showing 4 of 4). These functions will not be directly callable after loading.\n"
     ]
    },
    {
     "name": "stdout",
     "output_type": "stream",
     "text": [
      "INFO:tensorflow:Assets written to: mf_model\\model_checkpoints\\assets\n"
     ]
    },
    {
     "name": "stderr",
     "output_type": "stream",
     "text": [
      "INFO:tensorflow:Assets written to: mf_model\\model_checkpoints\\assets\n",
      "WARNING:absl:<keras.layers.recurrent.LSTMCell object at 0x00000127076CE910> has the same name 'LSTMCell' as a built-in Keras object. Consider renaming <class 'keras.layers.recurrent.LSTMCell'> to avoid naming conflicts when loading with `tf.keras.models.load_model`. If renaming is not possible, pass the object in the `custom_objects` parameter of the load function.\n",
      "WARNING:absl:<keras.layers.recurrent.LSTMCell object at 0x00000127077FE6D0> has the same name 'LSTMCell' as a built-in Keras object. Consider renaming <class 'keras.layers.recurrent.LSTMCell'> to avoid naming conflicts when loading with `tf.keras.models.load_model`. If renaming is not possible, pass the object in the `custom_objects` parameter of the load function.\n"
     ]
    },
    {
     "name": "stdout",
     "output_type": "stream",
     "text": [
      "320/320 [==============================] - 26s 74ms/step - loss: 0.4089 - accuracy: 0.8711 - mse: 0.1221 - mae: 0.2507 - val_loss: 0.5185 - val_accuracy: 0.8094 - val_mse: 0.1599 - val_mae: 0.2411\n",
      "Epoch 2/50\n",
      "320/320 [==============================] - 18s 56ms/step - loss: 0.3196 - accuracy: 0.8996 - mse: 0.0895 - mae: 0.1733 - val_loss: 0.5243 - val_accuracy: 0.8094 - val_mse: 0.1602 - val_mae: 0.2370\n",
      "Epoch 3/50\n",
      "320/320 [==============================] - ETA: 0s - loss: 0.3168 - accuracy: 0.8996 - mse: 0.0895 - mae: 0.1738"
     ]
    },
    {
     "name": "stderr",
     "output_type": "stream",
     "text": [
      "WARNING:absl:Found untraced functions such as lstm_cell_layer_call_fn, lstm_cell_layer_call_and_return_conditional_losses, lstm_cell_1_layer_call_fn, lstm_cell_1_layer_call_and_return_conditional_losses while saving (showing 4 of 4). These functions will not be directly callable after loading.\n"
     ]
    },
    {
     "name": "stdout",
     "output_type": "stream",
     "text": [
      "INFO:tensorflow:Assets written to: mf_model\\model_checkpoints\\assets\n"
     ]
    },
    {
     "name": "stderr",
     "output_type": "stream",
     "text": [
      "INFO:tensorflow:Assets written to: mf_model\\model_checkpoints\\assets\n",
      "WARNING:absl:<keras.layers.recurrent.LSTMCell object at 0x00000127076CE910> has the same name 'LSTMCell' as a built-in Keras object. Consider renaming <class 'keras.layers.recurrent.LSTMCell'> to avoid naming conflicts when loading with `tf.keras.models.load_model`. If renaming is not possible, pass the object in the `custom_objects` parameter of the load function.\n",
      "WARNING:absl:<keras.layers.recurrent.LSTMCell object at 0x00000127077FE6D0> has the same name 'LSTMCell' as a built-in Keras object. Consider renaming <class 'keras.layers.recurrent.LSTMCell'> to avoid naming conflicts when loading with `tf.keras.models.load_model`. If renaming is not possible, pass the object in the `custom_objects` parameter of the load function.\n"
     ]
    },
    {
     "name": "stdout",
     "output_type": "stream",
     "text": [
      "320/320 [==============================] - 23s 72ms/step - loss: 0.3168 - accuracy: 0.8996 - mse: 0.0895 - mae: 0.1738 - val_loss: 0.4978 - val_accuracy: 0.8094 - val_mse: 0.1541 - val_mae: 0.2418\n",
      "Epoch 4/50\n",
      "320/320 [==============================] - 17s 54ms/step - loss: 0.2949 - accuracy: 0.8996 - mse: 0.0840 - mae: 0.1688 - val_loss: 0.5366 - val_accuracy: 0.8094 - val_mse: 0.1598 - val_mae: 0.2331\n",
      "Epoch 5/50\n",
      "320/320 [==============================] - 17s 52ms/step - loss: 0.2817 - accuracy: 0.8907 - mse: 0.0809 - mae: 0.1593 - val_loss: 0.5654 - val_accuracy: 0.7918 - val_mse: 0.1638 - val_mae: 0.2284\n",
      "Epoch 6/50\n",
      "320/320 [==============================] - 16s 51ms/step - loss: 0.2584 - accuracy: 0.9007 - mse: 0.0732 - mae: 0.1475 - val_loss: 0.5926 - val_accuracy: 0.7891 - val_mse: 0.1697 - val_mae: 0.2327\n",
      "Epoch 7/50\n",
      "320/320 [==============================] - 17s 53ms/step - loss: 0.2348 - accuracy: 0.9182 - mse: 0.0644 - mae: 0.1314 - val_loss: 0.6401 - val_accuracy: 0.7696 - val_mse: 0.1793 - val_mae: 0.2362\n",
      "Epoch 8/50\n",
      "320/320 [==============================] - 17s 52ms/step - loss: 0.2143 - accuracy: 0.9303 - mse: 0.0571 - mae: 0.1189 - val_loss: 0.6733 - val_accuracy: 0.8074 - val_mse: 0.1742 - val_mae: 0.2120\n",
      "Epoch 8: early stopping\n"
     ]
    },
    {
     "data": {
      "image/png": "[encoded data removed]",
      "text/plain": [
       "<Figure size 576x360 with 1 Axes>"
      ]
     },
     "metadata": {
      "needs_background": "light"
     },
     "output_type": "display_data"
    }
   ],
   "source": [
    "history=mf_model.fit()"
   ]
  },
  {
   "cell_type": "code",
   "execution_count": 12,
   "metadata": {
    "colab": {
     "base_uri": "https://localhost:8080/"
    },
    "id": "imdWAVM3NDtt",
    "outputId": "7cb33966-28f6-4bcd-c615-93ceac5a6112"
   },
   "outputs": [
    {
     "name": "stderr",
     "output_type": "stream",
     "text": [
      "WARNING:absl:Found untraced functions such as lstm_cell_layer_call_fn, lstm_cell_layer_call_and_return_conditional_losses, lstm_cell_1_layer_call_fn, lstm_cell_1_layer_call_and_return_conditional_losses while saving (showing 4 of 4). These functions will not be directly callable after loading.\n"
     ]
    },
    {
     "name": "stdout",
     "output_type": "stream",
     "text": [
      "INFO:tensorflow:Assets written to: ./mf_model/assets\n"
     ]
    },
    {
     "name": "stderr",
     "output_type": "stream",
     "text": [
      "INFO:tensorflow:Assets written to: ./mf_model/assets\n",
      "WARNING:absl:<keras.layers.recurrent.LSTMCell object at 0x00000127076CE910> has the same name 'LSTMCell' as a built-in Keras object. Consider renaming <class 'keras.layers.recurrent.LSTMCell'> to avoid naming conflicts when loading with `tf.keras.models.load_model`. If renaming is not possible, pass the object in the `custom_objects` parameter of the load function.\n",
      "WARNING:absl:<keras.layers.recurrent.LSTMCell object at 0x00000127077FE6D0> has the same name 'LSTMCell' as a built-in Keras object. Consider renaming <class 'keras.layers.recurrent.LSTMCell'> to avoid naming conflicts when loading with `tf.keras.models.load_model`. If renaming is not possible, pass the object in the `custom_objects` parameter of the load function.\n"
     ]
    }
   ],
   "source": [
    "mf_model.save_model(mf_model.model)"
   ]
  },
  {
   "cell_type": "code",
   "execution_count": 13,
   "metadata": {
    "colab": {
     "base_uri": "https://localhost:8080/"
    },
    "id": "i0zr1gAGNDtt",
    "outputId": "5b45b29b-4c9b-4c0d-8984-5c550ad07f47"
   },
   "outputs": [
    {
     "name": "stdout",
     "output_type": "stream",
     "text": [
      "445/445 [==============================] - 10s 22ms/step - loss: 0.5960 - accuracy: 0.8331 - mse: 0.1532 - mae: 0.1878\n"
     ]
    },
    {
     "data": {
      "text/plain": [
       "[0.5959877371788025,\n",
       " 0.8330819606781006,\n",
       " 0.15320830047130585,\n",
       " 0.18779534101486206]"
      ]
     },
     "execution_count": 13,
     "metadata": {},
     "output_type": "execute_result"
    }
   ],
   "source": [
    "mf_new = mf_model.batch_prefetch_data(data2015_mf,labels2015_mf,split_data=False)\n",
    "mf_model.evaluate(mf_new)\n",
    "#base_model.evaluate(data_new,labels_new)"
   ]
  },
  {
   "cell_type": "code",
   "execution_count": 14,
   "metadata": {
    "colab": {
     "base_uri": "https://localhost:8080/",
     "height": 290
    },
    "id": "e4IDRyleNDtt",
    "outputId": "7fb86106-4b82-4056-aa03-fabbe6f55217"
   },
   "outputs": [
    {
     "data": {
      "image/png": "[encoded data removed]",
      "text/plain": [
       "<Figure size 432x288 with 2 Axes>"
      ]
     },
     "metadata": {
      "needs_background": "light"
     },
     "output_type": "display_data"
    }
   ],
   "source": [
    "#Form batches (does not shuffle, cuts off remainder)\n",
    "batched_2015_mf = mf_model.batch_prefetch_data(data2015_mf,split_data=False)\n",
    "#Cutoff matching remainder from labels\n",
    "true_labels_mf = labels2015_mf[:-(labels2015_mf.shape[0] % mf_model.batch_size)]\n",
    "#Do predictions and get confusion matrix\n",
    "conf_matrix_mf = mf_model.predict_conf_matrix(batched_2015_mf,true_labels_mf,make_plots=True)"
   ]
  },
  {
   "cell_type": "code",
   "execution_count": 15,
   "metadata": {
    "colab": {
     "base_uri": "https://localhost:8080/"
    },
    "id": "T52Qg_7zNDtu",
    "outputId": "71a4c713-2be3-4ff6-a9cd-e70ecf380d1d"
   },
   "outputs": [
    {
     "data": {
      "text/plain": [
       "array([[  24186,  539454],\n",
       "       [  30936, 2823024]], dtype=int64)"
      ]
     },
     "execution_count": 15,
     "metadata": {},
     "output_type": "execute_result"
    }
   ],
   "source": [
    "conf_matrix_mf"
   ]
  },
  {
   "cell_type": "code",
   "execution_count": 16,
   "metadata": {
    "colab": {
     "base_uri": "https://localhost:8080/",
     "height": 81
    },
    "id": "gVnEX3bwSS6n",
    "outputId": "8d64a441-62a0-42e9-853b-8c349f1edbdd"
   },
   "outputs": [
    {
     "data": {
      "text/html": [
       "<div>\n",
       "<style scoped>\n",
       "    .dataframe tbody tr th:only-of-type {\n",
       "        vertical-align: middle;\n",
       "    }\n",
       "\n",
       "    .dataframe tbody tr th {\n",
       "        vertical-align: top;\n",
       "    }\n",
       "\n",
       "    .dataframe thead th {\n",
       "        text-align: right;\n",
       "    }\n",
       "</style>\n",
       "<table border=\"1\" class=\"dataframe\">\n",
       "  <thead>\n",
       "    <tr style=\"text-align: right;\">\n",
       "      <th></th>\n",
       "      <th>precision</th>\n",
       "      <th>recall</th>\n",
       "      <th>far</th>\n",
       "      <th>hss</th>\n",
       "    </tr>\n",
       "  </thead>\n",
       "  <tbody>\n",
       "    <tr>\n",
       "      <th>0</th>\n",
       "      <td>0.98916</td>\n",
       "      <td>0.839567</td>\n",
       "      <td>0.561228</td>\n",
       "      <td>0.050278</td>\n",
       "    </tr>\n",
       "  </tbody>\n",
       "</table>\n",
       "</div>"
      ],
      "text/plain": [
       "   precision    recall       far       hss\n",
       "0    0.98916  0.839567  0.561228  0.050278"
      ]
     },
     "execution_count": 16,
     "metadata": {},
     "output_type": "execute_result"
    }
   ],
   "source": [
    "mf_model.calculate_statistics(conf_matrix_mf)"
   ]
  },
  {
   "cell_type": "code",
   "execution_count": 17,
   "metadata": {},
   "outputs": [
    {
     "name": "stderr",
     "output_type": "stream",
     "text": [
      "c:\\Users\\Dave\\Documents\\UVA\\DS6050\\Group project\\DS6050-SolarFlarePrediction\\prediction_LSTM.py:219: VisibleDeprecationWarning: Creating an ndarray from ragged nested sequences (which is a list-or-tuple of lists-or-tuples-or ndarrays with different lengths or shapes) is deprecated. If you meant to do this, you must specify 'dtype=object' when creating the ndarray.\n",
      "  plt.boxplot(np.array([true_positive_logits, false_positive_logits]),\n"
     ]
    },
    {
     "data": {
      "image/png": "[encoded data removed]",
      "text/plain": [
       "<Figure size 432x288 with 1 Axes>"
      ]
     },
     "metadata": {
      "needs_background": "light"
     },
     "output_type": "display_data"
    }
   ],
   "source": [
    "tp_mf, fp_mf = mf_model.view_prediction_distributions(true_labels=true_labels_mf,data=batched_2015_mf)"
   ]
  },
  {
   "cell_type": "code",
   "execution_count": 32,
   "metadata": {
    "id": "nyDt0SuuNDtu"
   },
   "outputs": [],
   "source": [
    "keras.backend.clear_session()"
   ]
  },
  {
   "cell_type": "code",
   "execution_count": 31,
   "metadata": {
    "id": "BRSqPRIHNDtu"
   },
   "outputs": [],
   "source": [
    "tuned_model_mf = SolarLSTM(data2014_mf, labels2014_mf, \"./mf_model_tuned/\", tune=True)"
   ]
  },
  {
   "cell_type": "code",
   "execution_count": 33,
   "metadata": {
    "colab": {
     "base_uri": "https://localhost:8080/",
     "height": 1000
    },
    "id": "j65L5DwbNDtv",
    "outputId": "f11f5227-abbc-4e11-d9ec-9e00b1e1d819"
   },
   "outputs": [
    {
     "name": "stdout",
     "output_type": "stream",
     "text": [
      "Trial 10 Complete [00h 01m 56s]\n",
      "val_accuracy: 0.8111881613731384\n",
      "\n",
      "Best val_accuracy So Far: 0.8227880597114563\n",
      "Total elapsed time: 01h 12m 08s\n",
      "INFO:tensorflow:Oracle triggered exit\n"
     ]
    },
    {
     "name": "stderr",
     "output_type": "stream",
     "text": [
      "INFO:tensorflow:Oracle triggered exit\n"
     ]
    },
    {
     "name": "stdout",
     "output_type": "stream",
     "text": [
      "Hyper Tuning Complete\n",
      "Epoch 1/50\n"
     ]
    },
    {
     "name": "stderr",
     "output_type": "stream",
     "text": [
      "C:\\Users\\Dave\\.conda\\envs\\dlproj\\lib\\site-packages\\tensorflow\\python\\util\\dispatch.py:1082: UserWarning: \"`binary_crossentropy` received `from_logits=True`, but the `output` argument was produced by a sigmoid or softmax activation and thus does not represent logits. Was this intended?\"\n",
      "  return dispatch_target(*args, **kwargs)\n"
     ]
    },
    {
     "name": "stdout",
     "output_type": "stream",
     "text": [
      "319/320 [============================>.] - ETA: 0s - loss: 0.4072 - accuracy: 0.8621 - mse: 0.1206 - mae: 0.2450"
     ]
    },
    {
     "name": "stderr",
     "output_type": "stream",
     "text": [
      "WARNING:absl:Found untraced functions such as lstm_cell_2_layer_call_fn, lstm_cell_2_layer_call_and_return_conditional_losses, lstm_cell_3_layer_call_fn, lstm_cell_3_layer_call_and_return_conditional_losses while saving (showing 4 of 4). These functions will not be directly callable after loading.\n"
     ]
    },
    {
     "name": "stdout",
     "output_type": "stream",
     "text": [
      "INFO:tensorflow:Assets written to: mf_model_tuned\\model_checkpoints\\assets\n"
     ]
    },
    {
     "name": "stderr",
     "output_type": "stream",
     "text": [
      "INFO:tensorflow:Assets written to: mf_model_tuned\\model_checkpoints\\assets\n",
      "WARNING:absl:<keras.layers.recurrent.LSTMCell object at 0x0000012715681DF0> has the same name 'LSTMCell' as a built-in Keras object. Consider renaming <class 'keras.layers.recurrent.LSTMCell'> to avoid naming conflicts when loading with `tf.keras.models.load_model`. If renaming is not possible, pass the object in the `custom_objects` parameter of the load function.\n",
      "WARNING:absl:<keras.layers.recurrent.LSTMCell object at 0x000001271539D1C0> has the same name 'LSTMCell' as a built-in Keras object. Consider renaming <class 'keras.layers.recurrent.LSTMCell'> to avoid naming conflicts when loading with `tf.keras.models.load_model`. If renaming is not possible, pass the object in the `custom_objects` parameter of the load function.\n"
     ]
    },
    {
     "name": "stdout",
     "output_type": "stream",
     "text": [
      "320/320 [==============================] - 25s 70ms/step - loss: 0.4064 - accuracy: 0.8625 - mse: 0.1203 - mae: 0.2446 - val_loss: 0.4765 - val_accuracy: 0.8026 - val_mse: 0.1492 - val_mae: 0.2654\n",
      "Epoch 2/50\n",
      "320/320 [==============================] - 17s 52ms/step - loss: 0.3092 - accuracy: 0.8912 - mse: 0.0880 - mae: 0.1791 - val_loss: 0.5239 - val_accuracy: 0.7815 - val_mse: 0.1605 - val_mae: 0.2506\n",
      "Epoch 3/50\n",
      "320/320 [==============================] - 17s 52ms/step - loss: 0.2849 - accuracy: 0.9061 - mse: 0.0791 - mae: 0.1590 - val_loss: 0.5456 - val_accuracy: 0.7683 - val_mse: 0.1674 - val_mae: 0.2449\n",
      "Epoch 4/50\n",
      "320/320 [==============================] - 17s 52ms/step - loss: 0.2579 - accuracy: 0.9184 - mse: 0.0702 - mae: 0.1439 - val_loss: 0.5785 - val_accuracy: 0.8094 - val_mse: 0.1660 - val_mae: 0.2133\n",
      "Epoch 5/50\n",
      "320/320 [==============================] - 17s 52ms/step - loss: 0.2358 - accuracy: 0.9254 - mse: 0.0631 - mae: 0.1303 - val_loss: 0.6064 - val_accuracy: 0.8037 - val_mse: 0.1710 - val_mae: 0.2200\n",
      "Epoch 6/50\n",
      "320/320 [==============================] - 17s 52ms/step - loss: 0.2184 - accuracy: 0.9305 - mse: 0.0578 - mae: 0.1193 - val_loss: 0.7211 - val_accuracy: 0.7614 - val_mse: 0.2041 - val_mae: 0.2500\n",
      "Epoch 6: early stopping\n"
     ]
    },
    {
     "data": {
      "image/png": "[encoded data removed]",
      "text/plain": [
       "<Figure size 576x360 with 1 Axes>"
      ]
     },
     "metadata": {
      "needs_background": "light"
     },
     "output_type": "display_data"
    },
    {
     "data": {
      "text/plain": [
       "<keras.callbacks.History at 0x1271b115160>"
      ]
     },
     "execution_count": 33,
     "metadata": {},
     "output_type": "execute_result"
    }
   ],
   "source": [
    "tuned_model_mf.fit()"
   ]
  },
  {
   "cell_type": "code",
   "execution_count": 34,
   "metadata": {},
   "outputs": [
    {
     "name": "stderr",
     "output_type": "stream",
     "text": [
      "WARNING:absl:Found untraced functions such as lstm_cell_2_layer_call_fn, lstm_cell_2_layer_call_and_return_conditional_losses, lstm_cell_3_layer_call_fn, lstm_cell_3_layer_call_and_return_conditional_losses while saving (showing 4 of 4). These functions will not be directly callable after loading.\n"
     ]
    },
    {
     "name": "stdout",
     "output_type": "stream",
     "text": [
      "INFO:tensorflow:Assets written to: ./mf_model_tuned/assets\n"
     ]
    },
    {
     "name": "stderr",
     "output_type": "stream",
     "text": [
      "INFO:tensorflow:Assets written to: ./mf_model_tuned/assets\n",
      "WARNING:absl:<keras.layers.recurrent.LSTMCell object at 0x0000012715681DF0> has the same name 'LSTMCell' as a built-in Keras object. Consider renaming <class 'keras.layers.recurrent.LSTMCell'> to avoid naming conflicts when loading with `tf.keras.models.load_model`. If renaming is not possible, pass the object in the `custom_objects` parameter of the load function.\n",
      "WARNING:absl:<keras.layers.recurrent.LSTMCell object at 0x000001271539D1C0> has the same name 'LSTMCell' as a built-in Keras object. Consider renaming <class 'keras.layers.recurrent.LSTMCell'> to avoid naming conflicts when loading with `tf.keras.models.load_model`. If renaming is not possible, pass the object in the `custom_objects` parameter of the load function.\n"
     ]
    }
   ],
   "source": [
    "tuned_model_mf.save_model(tuned_model_mf.model)"
   ]
  },
  {
   "cell_type": "code",
   "execution_count": 35,
   "metadata": {
    "id": "OovIefUyNDtv"
   },
   "outputs": [],
   "source": [
    "# Form batches (does not shuffle, cuts off remainder)\n",
    "batched_2015_mf_tuned = tuned_model_mf.batch_prefetch_data(data2015_mf,split_data=False)\n",
    "# Cutoff matching remainder from labels\n",
    "true_labels_mf_tuned = labels2015_mf[:-(labels2015_mf.shape[0]%tuned_model_mf.batch_size)]"
   ]
  },
  {
   "cell_type": "code",
   "execution_count": 36,
   "metadata": {
    "colab": {
     "base_uri": "https://localhost:8080/",
     "height": 290
    },
    "id": "Dyx83sDtNDtv",
    "outputId": "9b482230-9cfc-4d98-cb9a-72d268e67354"
   },
   "outputs": [
    {
     "data": {
      "image/png": "[encoded data removed]",
      "text/plain": [
       "<Figure size 432x288 with 2 Axes>"
      ]
     },
     "metadata": {
      "needs_background": "light"
     },
     "output_type": "display_data"
    }
   ],
   "source": [
    "conf_matrix = tuned_model_mf.predict_conf_matrix(batched_2015_mf_tuned,true_labels_mf_tuned,make_plots=True)"
   ]
  },
  {
   "cell_type": "code",
   "execution_count": 37,
   "metadata": {
    "colab": {
     "base_uri": "https://localhost:8080/",
     "height": 81
    },
    "id": "gaE8NLvAtsrz",
    "outputId": "c8f6c39e-70c9-4136-e5b4-be497862171f"
   },
   "outputs": [
    {
     "data": {
      "text/html": [
       "<div>\n",
       "<style scoped>\n",
       "    .dataframe tbody tr th:only-of-type {\n",
       "        vertical-align: middle;\n",
       "    }\n",
       "\n",
       "    .dataframe tbody tr th {\n",
       "        vertical-align: top;\n",
       "    }\n",
       "\n",
       "    .dataframe thead th {\n",
       "        text-align: right;\n",
       "    }\n",
       "</style>\n",
       "<table border=\"1\" class=\"dataframe\">\n",
       "  <thead>\n",
       "    <tr style=\"text-align: right;\">\n",
       "      <th></th>\n",
       "      <th>precision</th>\n",
       "      <th>recall</th>\n",
       "      <th>far</th>\n",
       "      <th>hss</th>\n",
       "    </tr>\n",
       "  </thead>\n",
       "  <tbody>\n",
       "    <tr>\n",
       "      <th>0</th>\n",
       "      <td>0.938826</td>\n",
       "      <td>0.840789</td>\n",
       "      <td>0.756238</td>\n",
       "      <td>0.051245</td>\n",
       "    </tr>\n",
       "  </tbody>\n",
       "</table>\n",
       "</div>"
      ],
      "text/plain": [
       "   precision    recall       far       hss\n",
       "0   0.938826  0.840789  0.756238  0.051245"
      ]
     },
     "execution_count": 37,
     "metadata": {},
     "output_type": "execute_result"
    }
   ],
   "source": [
    "tuned_model_mf.calculate_statistics(conf_matrix)"
   ]
  },
  {
   "cell_type": "code",
   "execution_count": 38,
   "metadata": {
    "colab": {
     "base_uri": "https://localhost:8080/"
    },
    "id": "K8-6Cl53W8oF",
    "outputId": "e885be0b-c137-48ed-c740-5ba795624a5b"
   },
   "outputs": [
    {
     "name": "stdout",
     "output_type": "stream",
     "text": [
      "Model: \"sequential_1\"\n",
      "_________________________________________________________________\n",
      " Layer (type)                Output Shape              Param #   \n",
      "=================================================================\n",
      " lstm_2 (LSTM)               (64, 120, 16)             2624      \n",
      "                                                                 \n",
      " lstm_3 (LSTM)               (64, 120, 16)             2112      \n",
      "                                                                 \n",
      " dropout_1 (Dropout)         (64, 120, 16)             0         \n",
      "                                                                 \n",
      " dense_1 (Dense)             (64, 120, 1)              17        \n",
      "                                                                 \n",
      "=================================================================\n",
      "Total params: 4,753\n",
      "Trainable params: 4,753\n",
      "Non-trainable params: 0\n",
      "_________________________________________________________________\n"
     ]
    }
   ],
   "source": [
    "tuned_model_mf.model.summary()"
   ]
  },
  {
   "cell_type": "code",
   "execution_count": 39,
   "metadata": {},
   "outputs": [
    {
     "name": "stderr",
     "output_type": "stream",
     "text": [
      "c:\\Users\\Dave\\Documents\\UVA\\DS6050\\Group project\\DS6050-SolarFlarePrediction\\prediction_LSTM.py:219: VisibleDeprecationWarning: Creating an ndarray from ragged nested sequences (which is a list-or-tuple of lists-or-tuples-or ndarrays with different lengths or shapes) is deprecated. If you meant to do this, you must specify 'dtype=object' when creating the ndarray.\n",
      "  plt.boxplot(np.array([true_positive_logits, false_positive_logits]),\n"
     ]
    },
    {
     "data": {
      "image/png": "[encoded data removed]",
      "text/plain": [
       "<Figure size 432x288 with 1 Axes>"
      ]
     },
     "metadata": {
      "needs_background": "light"
     },
     "output_type": "display_data"
    }
   ],
   "source": [
    "tp_tuned_mf, fp_tuned_mf = mf_model.view_prediction_distributions(true_labels=true_labels_mf_tuned,data=batched_2015_mf_tuned)"
   ]
  },
  {
   "cell_type": "code",
   "execution_count": 40,
   "metadata": {
    "id": "o8vz4Ru972q9"
   },
   "outputs": [],
   "source": [
    "keras.backend.clear_session()"
   ]
  },
  {
   "cell_type": "markdown",
   "metadata": {
    "id": "pVmLjpZYhDub"
   },
   "source": [
    "# Feature Selection Model"
   ]
  },
  {
   "cell_type": "code",
   "execution_count": 42,
   "metadata": {
    "id": "3Fc6kB1cI53t"
   },
   "outputs": [
    {
     "name": "stdout",
     "output_type": "stream",
     "text": [
      "Num GB used in data array: 0.0006008148193359375\n",
      "Num GB used in data array: 0.0008475780487060547\n",
      "Num GB used in data array: 0.001963376998901367\n",
      "Num GB used in data array: 0.003701448440551758\n",
      "Num GB used in data array: 0.004388093948364258\n",
      "Num GB used in data array: 0.004903078079223633\n",
      "Num GB used in data array: 0.005300045013427734\n",
      "Num GB used in data array: 0.0072634220123291016\n",
      "Num GB used in data array: 0.007381439208984375\n",
      "Num GB used in data array: 0.008465051651000977\n",
      "Num GB used in data array: 0.009065866470336914\n",
      "Num GB used in data array: 0.012778043746948242\n",
      "Num GB used in data array: 0.01337885856628418\n",
      "Num GB used in data array: 0.015106201171875\n",
      "Num GB used in data array: 0.017713308334350586\n",
      "Num GB used in data array: 0.018045902252197266\n",
      "Num GB used in data array: 0.03292679786682129\n",
      "Num GB used in data array: 0.034461021423339844\n",
      "Num GB used in data array: 0.03457903861999512\n",
      "Num GB used in data array: 0.03464341163635254\n",
      "Num GB used in data array: 0.03508329391479492\n",
      "Num GB used in data array: 0.03568410873413086\n",
      "Num GB used in data array: 0.03636002540588379\n",
      "Num GB used in data array: 0.040018558502197266\n",
      "Num GB used in data array: 0.04024386405944824\n",
      "Num GB used in data array: 0.04084467887878418\n",
      "Num GB used in data array: 0.04144549369812012\n",
      "Num GB used in data array: 0.04215359687805176\n",
      "Num GB used in data array: 0.042754411697387695\n",
      "Num GB used in data array: 0.04335522651672363\n",
      "Num GB used in data array: 0.04395604133605957\n",
      "Num GB used in data array: 0.048558712005615234\n",
      "Num GB used in data array: 0.04915952682495117\n",
      "Num GB used in data array: 0.0495457649230957\n",
      "Num GB used in data array: 0.04971742630004883\n",
      "Num GB used in data array: 0.0516057014465332\n",
      "Num GB used in data array: 0.05251765251159668\n",
      "Num GB used in data array: 0.05292534828186035\n",
      "Num GB used in data array: 0.053000450134277344\n",
      "Num GB used in data array: 0.05606889724731445\n",
      "Num GB used in data array: 0.0561976432800293\n",
      "Num GB used in data array: 0.05970597267150879\n",
      "Num GB used in data array: 0.06067156791687012\n",
      "Num GB used in data array: 0.06394386291503906\n",
      "Num GB used in data array: 0.06886839866638184\n",
      "Num GB used in data array: 0.08271932601928711\n",
      "Num GB used in data array: 0.09527206420898438\n",
      "Num GB used in data array: 0.09794354438781738\n",
      "Num GB used in data array: 0.09816884994506836\n",
      "Num GB used in data array: 0.09832978248596191\n",
      "Num GB used in data array: 0.09836196899414062\n",
      "Num GB used in data array: 0.10431647300720215\n",
      "Num GB used in data array: 0.10488510131835938\n",
      "Num GB used in data array: 0.10943412780761719\n",
      "Num GB used in data array: 0.10972380638122559\n",
      "Num GB used in data array: 0.10987401008605957\n",
      "Num GB used in data array: 0.11148333549499512\n",
      "Num GB used in data array: 0.11542081832885742\n",
      "Num GB used in data array: 0.12581706047058105\n",
      "Num GB used in data array: 0.12752294540405273\n",
      "Num GB used in data array: 0.13744711875915527\n",
      "Num GB used in data array: 0.14685630798339844\n",
      "Num GB used in data array: 0.1574993133544922\n",
      "Num GB used in data array: 0.18210053443908691\n",
      "Num GB used in data array: 0.1961982250213623\n",
      "Num GB used in data array: 0.2031397819519043\n",
      "Num GB used in data array: 0.2111220359802246\n",
      "Num GB used in data array: 0.21139025688171387\n",
      "Num GB used in data array: 0.21280646324157715\n",
      "Num GB used in data array: 0.2131819725036621\n",
      "Num GB used in data array: 0.21916866302490234\n",
      "Num GB used in data array: 0.22357821464538574\n",
      "Num GB used in data array: 0.22396445274353027\n",
      "Num GB used in data array: 0.2277839183807373\n",
      "Num GB used in data array: 0.24204254150390625\n",
      "Num GB used in data array: 0.24615168571472168\n",
      "Num GB used in data array: 0.26726603507995605\n",
      "Num GB used in data array: 0.2705061435699463\n",
      "Num GB used in data array: 0.27059197425842285\n",
      "Num GB used in data array: 0.2707099914550781\n",
      "Num GB used in data array: 0.2708280086517334\n",
      "Num GB used in data array: 0.27132153511047363\n",
      "Num GB used in data array: 0.2716541290283203\n",
      "Num GB used in data array: 0.2718043327331543\n",
      "Num GB used in data array: 0.27246952056884766\n",
      "Num GB used in data array: 0.27518391609191895\n"
     ]
    }
   ],
   "source": [
    "if rebuild_data:\n",
    "    with open(\"content/all_data.pkl\", \"rb\") as file:\n",
    "        data = pickle.load(file)\n",
    "    DataSelection(data, 2014, \"./fs/\", feature_selection=True, use_all=False)"
   ]
  },
  {
   "cell_type": "code",
   "execution_count": 43,
   "metadata": {
    "colab": {
     "base_uri": "https://localhost:8080/"
    },
    "id": "jMLlvKP-hG97",
    "outputId": "31571b3a-3390-4311-af02-a05a2df4b37e"
   },
   "outputs": [
    {
     "name": "stdout",
     "output_type": "stream",
     "text": [
      "Num GB used in data array: 0.0006008148193359375\n",
      "Num GB used in data array: 0.0009870529174804688\n",
      "Num GB used in data array: 0.003465414047241211\n",
      "Num GB used in data array: 0.005525350570678711\n",
      "Num GB used in data array: 0.007628202438354492\n",
      "Num GB used in data array: 0.009924173355102539\n",
      "Num GB used in data array: 0.010524988174438477\n",
      "Num GB used in data array: 0.011125802993774414\n",
      "Num GB used in data array: 0.014623403549194336\n",
      "Num GB used in data array: 0.01474142074584961\n",
      "Num GB used in data array: 0.015031099319458008\n",
      "Num GB used in data array: 0.01855015754699707\n",
      "Num GB used in data array: 0.019150972366333008\n",
      "Num GB used in data array: 0.019429922103881836\n",
      "Num GB used in data array: 0.02233743667602539\n",
      "Num GB used in data array: 0.02267003059387207\n",
      "Num GB used in data array: 0.03632783889770508\n",
      "Num GB used in data array: 0.03875255584716797\n",
      "Num GB used in data array: 0.03983616828918457\n",
      "Num GB used in data array: 0.03990054130554199\n",
      "Num GB used in data array: 0.04019021987915039\n",
      "Num GB used in data array: 0.040340423583984375\n",
      "Num GB used in data array: 0.042775869369506836\n",
      "Num GB used in data array: 0.043473243713378906\n",
      "Num GB used in data array: 0.04494309425354004\n",
      "Num GB used in data array: 0.04739999771118164\n",
      "Num GB used in data array: 0.05635857582092285\n",
      "Num GB used in data array: 0.07331013679504395\n",
      "Num GB used in data array: 0.07647514343261719\n",
      "Num GB used in data array: 0.07691502571105957\n",
      "Num GB used in data array: 0.07707595825195312\n",
      "Num GB used in data array: 0.08452177047729492\n",
      "Num GB used in data array: 0.08635640144348145\n",
      "Num GB used in data array: 0.09290099143981934\n",
      "Num GB used in data array: 0.09535789489746094\n",
      "Num GB used in data array: 0.09757876396179199\n",
      "Num GB used in data array: 0.09959578514099121\n",
      "Num GB used in data array: 0.10178446769714355\n",
      "Num GB used in data array: 0.10193467140197754\n",
      "Num GB used in data array: 0.1020205020904541\n",
      "Num GB used in data array: 0.10972380638122559\n",
      "Num GB used in data array: 0.11030316352844238\n",
      "Num GB used in data array: 0.11579632759094238\n",
      "Num GB used in data array: 0.12237310409545898\n",
      "Num GB used in data array: 0.13662099838256836\n",
      "Num GB used in data array: 0.16004204750061035\n",
      "Num GB used in data array: 0.17594218254089355\n",
      "Num GB used in data array: 0.1844179630279541\n",
      "Num GB used in data array: 0.18906354904174805\n",
      "Num GB used in data array: 0.1893317699432373\n",
      "Num GB used in data array: 0.19072651863098145\n",
      "Num GB used in data array: 0.19165992736816406\n",
      "Num GB used in data array: 0.1997387409210205\n",
      "Num GB used in data array: 0.20645499229431152\n",
      "Num GB used in data array: 0.20723819732666016\n",
      "Num GB used in data array: 0.21366477012634277\n",
      "Num GB used in data array: 0.21390080451965332\n",
      "Num GB used in data array: 0.23647427558898926\n",
      "Num GB used in data array: 0.24596929550170898\n",
      "Num GB used in data array: 0.2782416343688965\n",
      "Num GB used in data array: 0.2816641330718994\n",
      "Num GB used in data array: 0.282747745513916\n",
      "Num GB used in data array: 0.2853119373321533\n",
      "Num GB used in data array: 0.28768301010131836\n",
      "Num GB used in data array: 0.28948545455932617\n",
      "Num GB used in data array: 0.2907085418701172\n",
      "Num GB used in data array: 0.2917492389678955\n",
      "Num GB used in data array: 0.2928006649017334\n",
      "Num GB used in data array: 0.2932298183441162\n",
      "Num GB used in data array: 0.2933049201965332\n",
      "Num GB used in data array: 0.2937018871307373\n",
      "Num GB used in data array: 0.29639482498168945\n",
      "Num GB used in data array: 0.3056216239929199\n"
     ]
    }
   ],
   "source": [
    "if rebuild_data:\n",
    "    with open(\"./fs/norm_scaler.pkl\", \"rb\") as norm_file:\n",
    "        normalization = pickle.load(norm_file)\n",
    "\n",
    "    with open(\"./fs/stand_scaler.pkl\", \"rb\") as stand_file:\n",
    "        standard = pickle.load(stand_file)\n",
    "\n",
    "    DataSelection(data, 2015,\"./fs/\", feature_selection=True, use_all=False, norm_scaler=normalization, stand_scaler=standard)"
   ]
  },
  {
   "cell_type": "code",
   "execution_count": 4,
   "metadata": {
    "id": "8rKk8YO2hG97"
   },
   "outputs": [
    {
     "data": {
      "text/plain": [
       "(25649, 120, 12)"
      ]
     },
     "execution_count": 4,
     "metadata": {},
     "output_type": "execute_result"
    }
   ],
   "source": [
    "data2014_sf = np.load(\"./fs/data_2014.npy\")\n",
    "labels2014_sf = np.load(\"./fs/labels_2014.npy\")\n",
    "data2014_sf.shape"
   ]
  },
  {
   "cell_type": "code",
   "execution_count": 5,
   "metadata": {
    "colab": {
     "base_uri": "https://localhost:8080/"
    },
    "id": "Xolz75lMhG97",
    "outputId": "0cad346a-689f-408c-ab86-0dc9f31b11a9"
   },
   "outputs": [
    {
     "data": {
      "text/plain": [
       "(28486, 120, 12)"
      ]
     },
     "execution_count": 5,
     "metadata": {},
     "output_type": "execute_result"
    }
   ],
   "source": [
    "data2015_sf = np.load(\"./fs/data_2015.npy\")\n",
    "labels2015_sf = np.load(\"./fs/labels_2015.npy\")\n",
    "data2015_sf.shape"
   ]
  },
  {
   "cell_type": "code",
   "execution_count": 55,
   "metadata": {
    "colab": {
     "base_uri": "https://localhost:8080/"
    },
    "id": "uJOMus6HH7Ez",
    "outputId": "16acf64e-d00b-4c89-8ac9-12cdc7d588a9"
   },
   "outputs": [
    {
     "name": "stdout",
     "output_type": "stream",
     "text": [
      "Model: \"sequential_1\"\n",
      "_________________________________________________________________\n",
      " Layer (type)                Output Shape              Param #   \n",
      "=================================================================\n",
      " lstm_2 (LSTM)               (64, 120, 16)             1856      \n",
      "                                                                 \n",
      " lstm_3 (LSTM)               (64, 120, 16)             2112      \n",
      "                                                                 \n",
      " dropout_1 (Dropout)         (64, 120, 16)             0         \n",
      "                                                                 \n",
      " dense_1 (Dense)             (64, 120, 1)              17        \n",
      "                                                                 \n",
      "=================================================================\n",
      "Total params: 3,985\n",
      "Trainable params: 3,985\n",
      "Non-trainable params: 0\n",
      "_________________________________________________________________\n"
     ]
    }
   ],
   "source": [
    "fs_model = SolarLSTM(data2014_sf, labels2014_sf, \"./fs_model/\")\n",
    "fs_model.build_model()\n",
    "fs_model.model.summary()"
   ]
  },
  {
   "cell_type": "code",
   "execution_count": 56,
   "metadata": {
    "colab": {
     "base_uri": "https://localhost:8080/",
     "height": 1000
    },
    "id": "PhW8KmUkH7Ez",
    "outputId": "80199213-893b-4db6-9175-158122845ae5"
   },
   "outputs": [
    {
     "name": "stdout",
     "output_type": "stream",
     "text": [
      "Epoch 1/50\n"
     ]
    },
    {
     "name": "stderr",
     "output_type": "stream",
     "text": [
      "C:\\Users\\Dave\\.conda\\envs\\dlproj\\lib\\site-packages\\tensorflow\\python\\util\\dispatch.py:1082: UserWarning: \"`binary_crossentropy` received `from_logits=True`, but the `output` argument was produced by a sigmoid or softmax activation and thus does not represent logits. Was this intended?\"\n",
      "  return dispatch_target(*args, **kwargs)\n"
     ]
    },
    {
     "name": "stdout",
     "output_type": "stream",
     "text": [
      "319/320 [============================>.] - ETA: 0s - loss: 0.3805 - accuracy: 0.8494 - mse: 0.1162 - mae: 0.2313"
     ]
    },
    {
     "name": "stderr",
     "output_type": "stream",
     "text": [
      "WARNING:absl:Found untraced functions such as lstm_cell_2_layer_call_fn, lstm_cell_2_layer_call_and_return_conditional_losses, lstm_cell_3_layer_call_fn, lstm_cell_3_layer_call_and_return_conditional_losses while saving (showing 4 of 4). These functions will not be directly callable after loading.\n"
     ]
    },
    {
     "name": "stdout",
     "output_type": "stream",
     "text": [
      "INFO:tensorflow:Assets written to: fs_model\\model_checkpoints\\assets\n"
     ]
    },
    {
     "name": "stderr",
     "output_type": "stream",
     "text": [
      "INFO:tensorflow:Assets written to: fs_model\\model_checkpoints\\assets\n",
      "WARNING:absl:<keras.layers.recurrent.LSTMCell object at 0x0000012756CF72B0> has the same name 'LSTMCell' as a built-in Keras object. Consider renaming <class 'keras.layers.recurrent.LSTMCell'> to avoid naming conflicts when loading with `tf.keras.models.load_model`. If renaming is not possible, pass the object in the `custom_objects` parameter of the load function.\n",
      "WARNING:absl:<keras.layers.recurrent.LSTMCell object at 0x000001271582D430> has the same name 'LSTMCell' as a built-in Keras object. Consider renaming <class 'keras.layers.recurrent.LSTMCell'> to avoid naming conflicts when loading with `tf.keras.models.load_model`. If renaming is not possible, pass the object in the `custom_objects` parameter of the load function.\n"
     ]
    },
    {
     "name": "stdout",
     "output_type": "stream",
     "text": [
      "320/320 [==============================] - 27s 76ms/step - loss: 0.3798 - accuracy: 0.8498 - mse: 0.1160 - mae: 0.2310 - val_loss: 0.5690 - val_accuracy: 0.8094 - val_mse: 0.1601 - val_mae: 0.2354\n",
      "Epoch 2/50\n",
      "320/320 [==============================] - 17s 53ms/step - loss: 0.2844 - accuracy: 0.8894 - mse: 0.0803 - mae: 0.1547 - val_loss: 0.5950 - val_accuracy: 0.7717 - val_mse: 0.1716 - val_mae: 0.2505\n",
      "Epoch 3/50\n",
      "320/320 [==============================] - 17s 53ms/step - loss: 0.2542 - accuracy: 0.9146 - mse: 0.0703 - mae: 0.1411 - val_loss: 0.5913 - val_accuracy: 0.7713 - val_mse: 0.1666 - val_mae: 0.2379\n",
      "Epoch 4/50\n",
      "320/320 [==============================] - 17s 53ms/step - loss: 0.2491 - accuracy: 0.9172 - mse: 0.0693 - mae: 0.1380 - val_loss: 0.6126 - val_accuracy: 0.7651 - val_mse: 0.1697 - val_mae: 0.2360\n",
      "Epoch 5/50\n",
      "320/320 [==============================] - 17s 53ms/step - loss: 0.2354 - accuracy: 0.9233 - mse: 0.0646 - mae: 0.1303 - val_loss: 0.5970 - val_accuracy: 0.8076 - val_mse: 0.1592 - val_mae: 0.2101\n",
      "Epoch 6/50\n",
      "320/320 [==============================] - 17s 53ms/step - loss: 0.2211 - accuracy: 0.9196 - mse: 0.0612 - mae: 0.1232 - val_loss: 0.6059 - val_accuracy: 0.7970 - val_mse: 0.1588 - val_mae: 0.2133\n",
      "Epoch 6: early stopping\n"
     ]
    },
    {
     "data": {
      "image/png": "[encoded data removed]",
      "text/plain": [
       "<Figure size 576x360 with 1 Axes>"
      ]
     },
     "metadata": {
      "needs_background": "light"
     },
     "output_type": "display_data"
    }
   ],
   "source": [
    "history=fs_model.fit()"
   ]
  },
  {
   "cell_type": "code",
   "execution_count": 57,
   "metadata": {
    "id": "w4KI_nlKH7E0"
   },
   "outputs": [
    {
     "name": "stderr",
     "output_type": "stream",
     "text": [
      "WARNING:absl:Found untraced functions such as lstm_cell_2_layer_call_fn, lstm_cell_2_layer_call_and_return_conditional_losses, lstm_cell_3_layer_call_fn, lstm_cell_3_layer_call_and_return_conditional_losses while saving (showing 4 of 4). These functions will not be directly callable after loading.\n"
     ]
    },
    {
     "name": "stdout",
     "output_type": "stream",
     "text": [
      "INFO:tensorflow:Assets written to: ./fs_model/assets\n"
     ]
    },
    {
     "name": "stderr",
     "output_type": "stream",
     "text": [
      "INFO:tensorflow:Assets written to: ./fs_model/assets\n",
      "WARNING:absl:<keras.layers.recurrent.LSTMCell object at 0x0000012756CF72B0> has the same name 'LSTMCell' as a built-in Keras object. Consider renaming <class 'keras.layers.recurrent.LSTMCell'> to avoid naming conflicts when loading with `tf.keras.models.load_model`. If renaming is not possible, pass the object in the `custom_objects` parameter of the load function.\n",
      "WARNING:absl:<keras.layers.recurrent.LSTMCell object at 0x000001271582D430> has the same name 'LSTMCell' as a built-in Keras object. Consider renaming <class 'keras.layers.recurrent.LSTMCell'> to avoid naming conflicts when loading with `tf.keras.models.load_model`. If renaming is not possible, pass the object in the `custom_objects` parameter of the load function.\n"
     ]
    }
   ],
   "source": [
    "fs_model.save_model(fs_model.model)"
   ]
  },
  {
   "cell_type": "code",
   "execution_count": 58,
   "metadata": {
    "colab": {
     "base_uri": "https://localhost:8080/"
    },
    "id": "WlHFi7BwH7E0",
    "outputId": "614e9841-1ca8-4463-b1dc-f124e5f4141a"
   },
   "outputs": [
    {
     "name": "stdout",
     "output_type": "stream",
     "text": [
      "445/445 [==============================] - 10s 21ms/step - loss: 0.5894 - accuracy: 0.7958 - mse: 0.1601 - mae: 0.2161\n"
     ]
    },
    {
     "data": {
      "text/plain": [
       "[0.5894079208374023,\n",
       " 0.7958289384841919,\n",
       " 0.16009381413459778,\n",
       " 0.21606703102588654]"
      ]
     },
     "execution_count": 58,
     "metadata": {},
     "output_type": "execute_result"
    }
   ],
   "source": [
    "fs_new = fs_model.batch_prefetch_data(data2015_sf,labels2015_sf,split_data=False)\n",
    "fs_model.evaluate(fs_new)\n",
    "#base_model.evaluate(data_new,labels_new)"
   ]
  },
  {
   "cell_type": "code",
   "execution_count": 59,
   "metadata": {
    "colab": {
     "base_uri": "https://localhost:8080/",
     "height": 290
    },
    "id": "AYTQhAV4H7E0",
    "outputId": "1dbbc357-4efa-4c34-bbaa-58b9c69429b6"
   },
   "outputs": [
    {
     "data": {
      "image/png": "[encoded data removed]",
      "text/plain": [
       "<Figure size 432x288 with 2 Axes>"
      ]
     },
     "metadata": {
      "needs_background": "light"
     },
     "output_type": "display_data"
    }
   ],
   "source": [
    "#Form batches (does not shuffle, cuts off remainder)\n",
    "batched_2015_sf = fs_model.batch_prefetch_data(data2015_sf,split_data=False)\n",
    "#Cutoff matching remainder from labels\n",
    "true_labels_sf = labels2015_sf[:-(labels2015_sf.shape[0] % fs_model.batch_size)]\n",
    "#Do predictions and get confusion matrix\n",
    "conf_matrix_sf = fs_model.predict_conf_matrix(batched_2015_sf,true_labels_sf,make_plots=True)"
   ]
  },
  {
   "cell_type": "code",
   "execution_count": 60,
   "metadata": {
    "colab": {
     "base_uri": "https://localhost:8080/"
    },
    "id": "xwjPtOezH7E1",
    "outputId": "2dcb2d55-369a-4e9e-f06a-22bafc673470"
   },
   "outputs": [
    {
     "data": {
      "text/plain": [
       "array([[ 126183,  437457],\n",
       "       [ 303287, 2550673]], dtype=int64)"
      ]
     },
     "execution_count": 60,
     "metadata": {},
     "output_type": "execute_result"
    }
   ],
   "source": [
    "conf_matrix_sf"
   ]
  },
  {
   "cell_type": "code",
   "execution_count": 61,
   "metadata": {
    "colab": {
     "base_uri": "https://localhost:8080/",
     "height": 81
    },
    "id": "LVCT7C7fH7E1",
    "outputId": "04f6820d-721e-46fe-f539-19d5a88db3a0"
   },
   "outputs": [
    {
     "data": {
      "text/html": [
       "<div>\n",
       "<style scoped>\n",
       "    .dataframe tbody tr th:only-of-type {\n",
       "        vertical-align: middle;\n",
       "    }\n",
       "\n",
       "    .dataframe tbody tr th {\n",
       "        vertical-align: top;\n",
       "    }\n",
       "\n",
       "    .dataframe thead th {\n",
       "        text-align: right;\n",
       "    }\n",
       "</style>\n",
       "<table border=\"1\" class=\"dataframe\">\n",
       "  <thead>\n",
       "    <tr style=\"text-align: right;\">\n",
       "      <th></th>\n",
       "      <th>precision</th>\n",
       "      <th>recall</th>\n",
       "      <th>far</th>\n",
       "      <th>hss</th>\n",
       "    </tr>\n",
       "  </thead>\n",
       "  <tbody>\n",
       "    <tr>\n",
       "      <th>0</th>\n",
       "      <td>0.893731</td>\n",
       "      <td>0.853602</td>\n",
       "      <td>0.706189</td>\n",
       "      <td>0.133512</td>\n",
       "    </tr>\n",
       "  </tbody>\n",
       "</table>\n",
       "</div>"
      ],
      "text/plain": [
       "   precision    recall       far       hss\n",
       "0   0.893731  0.853602  0.706189  0.133512"
      ]
     },
     "execution_count": 61,
     "metadata": {},
     "output_type": "execute_result"
    }
   ],
   "source": [
    "fs_model.calculate_statistics(conf_matrix_sf)"
   ]
  },
  {
   "cell_type": "code",
   "execution_count": 62,
   "metadata": {},
   "outputs": [
    {
     "name": "stderr",
     "output_type": "stream",
     "text": [
      "c:\\Users\\Dave\\Documents\\UVA\\DS6050\\Group project\\DS6050-SolarFlarePrediction\\prediction_LSTM.py:219: VisibleDeprecationWarning: Creating an ndarray from ragged nested sequences (which is a list-or-tuple of lists-or-tuples-or ndarrays with different lengths or shapes) is deprecated. If you meant to do this, you must specify 'dtype=object' when creating the ndarray.\n",
      "  plt.boxplot(np.array([true_positive_logits, false_positive_logits]),\n"
     ]
    },
    {
     "data": {
      "image/png": "[encoded data removed]",
      "text/plain": [
       "<Figure size 432x288 with 1 Axes>"
      ]
     },
     "metadata": {
      "needs_background": "light"
     },
     "output_type": "display_data"
    }
   ],
   "source": [
    "tp_fs, fp_fs = fs_model.view_prediction_distributions(true_labels=true_labels_sf,data=batched_2015_sf)"
   ]
  },
  {
   "cell_type": "code",
   "execution_count": 6,
   "metadata": {
    "id": "qtl0-mps2QPX"
   },
   "outputs": [],
   "source": [
    "keras.backend.clear_session()"
   ]
  },
  {
   "cell_type": "code",
   "execution_count": 7,
   "metadata": {
    "id": "tO1eaMEE2baq"
   },
   "outputs": [],
   "source": [
    "tuned_fs_model = SolarLSTM(data2014_sf, labels2014_sf, \"./fs_model_tuned/\", tune=True)"
   ]
  },
  {
   "cell_type": "code",
   "execution_count": 8,
   "metadata": {
    "id": "XMaV5iuR2bar"
   },
   "outputs": [],
   "source": [
    "tuned_fs_model.build_model()"
   ]
  },
  {
   "cell_type": "code",
   "execution_count": 9,
   "metadata": {
    "colab": {
     "base_uri": "https://localhost:8080/",
     "height": 1000
    },
    "id": "gD-EplZE2bas",
    "outputId": "c6b68ed5-38d0-478d-f000-afef7e073413"
   },
   "outputs": [
    {
     "name": "stdout",
     "output_type": "stream",
     "text": [
      "Trial 10 Complete [00h 03m 45s]\n",
      "val_accuracy: 0.809374988079071\n",
      "\n",
      "Best val_accuracy So Far: 0.8182600736618042\n",
      "Total elapsed time: 01h 25m 05s\n",
      "INFO:tensorflow:Oracle triggered exit\n"
     ]
    },
    {
     "name": "stderr",
     "output_type": "stream",
     "text": [
      "INFO:tensorflow:Oracle triggered exit\n"
     ]
    },
    {
     "name": "stdout",
     "output_type": "stream",
     "text": [
      "Hyper Tuning Complete\n",
      "Epoch 1/50\n"
     ]
    },
    {
     "name": "stderr",
     "output_type": "stream",
     "text": [
      "C:\\Users\\Dave\\.conda\\envs\\dlproj\\lib\\site-packages\\tensorflow\\python\\util\\dispatch.py:1082: UserWarning: \"`binary_crossentropy` received `from_logits=True`, but the `output` argument was produced by a sigmoid or softmax activation and thus does not represent logits. Was this intended?\"\n",
      "  return dispatch_target(*args, **kwargs)\n"
     ]
    },
    {
     "name": "stdout",
     "output_type": "stream",
     "text": [
      "320/320 [==============================] - ETA: 0s - loss: 0.3479 - accuracy: 0.8737 - mse: 0.0991 - mae: 0.1853"
     ]
    },
    {
     "name": "stderr",
     "output_type": "stream",
     "text": [
      "WARNING:absl:Found untraced functions such as lstm_cell_2_layer_call_fn, lstm_cell_2_layer_call_and_return_conditional_losses, lstm_cell_3_layer_call_fn, lstm_cell_3_layer_call_and_return_conditional_losses while saving (showing 4 of 4). These functions will not be directly callable after loading.\n"
     ]
    },
    {
     "name": "stdout",
     "output_type": "stream",
     "text": [
      "INFO:tensorflow:Assets written to: fs_model_tuned\\model_checkpoints\\assets\n"
     ]
    },
    {
     "name": "stderr",
     "output_type": "stream",
     "text": [
      "INFO:tensorflow:Assets written to: fs_model_tuned\\model_checkpoints\\assets\n",
      "WARNING:absl:<keras.layers.recurrent.LSTMCell object at 0x000002419913B580> has the same name 'LSTMCell' as a built-in Keras object. Consider renaming <class 'keras.layers.recurrent.LSTMCell'> to avoid naming conflicts when loading with `tf.keras.models.load_model`. If renaming is not possible, pass the object in the `custom_objects` parameter of the load function.\n",
      "WARNING:absl:<keras.layers.recurrent.LSTMCell object at 0x000002419A8C3F40> has the same name 'LSTMCell' as a built-in Keras object. Consider renaming <class 'keras.layers.recurrent.LSTMCell'> to avoid naming conflicts when loading with `tf.keras.models.load_model`. If renaming is not possible, pass the object in the `custom_objects` parameter of the load function.\n"
     ]
    },
    {
     "name": "stdout",
     "output_type": "stream",
     "text": [
      "320/320 [==============================] - 36s 106ms/step - loss: 0.3479 - accuracy: 0.8737 - mse: 0.0991 - mae: 0.1853 - val_loss: 0.5789 - val_accuracy: 0.8094 - val_mse: 0.1630 - val_mae: 0.2215\n",
      "Epoch 2/50\n",
      "320/320 [==============================] - ETA: 0s - loss: 0.3255 - accuracy: 0.8864 - mse: 0.0903 - mae: 0.1722"
     ]
    },
    {
     "name": "stderr",
     "output_type": "stream",
     "text": [
      "WARNING:absl:Found untraced functions such as lstm_cell_2_layer_call_fn, lstm_cell_2_layer_call_and_return_conditional_losses, lstm_cell_3_layer_call_fn, lstm_cell_3_layer_call_and_return_conditional_losses while saving (showing 4 of 4). These functions will not be directly callable after loading.\n"
     ]
    },
    {
     "name": "stdout",
     "output_type": "stream",
     "text": [
      "INFO:tensorflow:Assets written to: fs_model_tuned\\model_checkpoints\\assets\n"
     ]
    },
    {
     "name": "stderr",
     "output_type": "stream",
     "text": [
      "INFO:tensorflow:Assets written to: fs_model_tuned\\model_checkpoints\\assets\n",
      "WARNING:absl:<keras.layers.recurrent.LSTMCell object at 0x000002419913B580> has the same name 'LSTMCell' as a built-in Keras object. Consider renaming <class 'keras.layers.recurrent.LSTMCell'> to avoid naming conflicts when loading with `tf.keras.models.load_model`. If renaming is not possible, pass the object in the `custom_objects` parameter of the load function.\n",
      "WARNING:absl:<keras.layers.recurrent.LSTMCell object at 0x000002419A8C3F40> has the same name 'LSTMCell' as a built-in Keras object. Consider renaming <class 'keras.layers.recurrent.LSTMCell'> to avoid naming conflicts when loading with `tf.keras.models.load_model`. If renaming is not possible, pass the object in the `custom_objects` parameter of the load function.\n"
     ]
    },
    {
     "name": "stdout",
     "output_type": "stream",
     "text": [
      "320/320 [==============================] - 37s 116ms/step - loss: 0.3255 - accuracy: 0.8864 - mse: 0.0903 - mae: 0.1722 - val_loss: 0.5688 - val_accuracy: 0.8094 - val_mse: 0.1649 - val_mae: 0.2175\n",
      "Epoch 3/50\n",
      "320/320 [==============================] - 30s 95ms/step - loss: 0.2754 - accuracy: 0.8913 - mse: 0.0777 - mae: 0.1529 - val_loss: 0.7286 - val_accuracy: 0.8067 - val_mse: 0.1739 - val_mae: 0.2030\n",
      "Epoch 4/50\n",
      "320/320 [==============================] - 30s 95ms/step - loss: 0.3133 - accuracy: 0.9026 - mse: 0.0831 - mae: 0.1643 - val_loss: 0.5697 - val_accuracy: 0.8094 - val_mse: 0.1680 - val_mae: 0.2228\n",
      "Epoch 5/50\n",
      "320/320 [==============================] - 30s 95ms/step - loss: 0.2805 - accuracy: 0.9056 - mse: 0.0780 - mae: 0.1514 - val_loss: 0.7018 - val_accuracy: 0.8094 - val_mse: 0.1788 - val_mae: 0.2029\n",
      "Epoch 6/50\n",
      "320/320 [==============================] - 33s 102ms/step - loss: 0.2982 - accuracy: 0.9139 - mse: 0.0784 - mae: 0.1559 - val_loss: 0.5730 - val_accuracy: 0.8094 - val_mse: 0.1677 - val_mae: 0.2220\n",
      "Epoch 7/50\n",
      "320/320 [==============================] - 33s 103ms/step - loss: 0.2825 - accuracy: 0.9015 - mse: 0.0787 - mae: 0.1531 - val_loss: 0.7540 - val_accuracy: 0.7928 - val_mse: 0.1884 - val_mae: 0.2144\n",
      "Epoch 7: early stopping\n"
     ]
    },
    {
     "data": {
      "image/png": "[encoded data removed]",
      "text/plain": [
       "<Figure size 576x360 with 1 Axes>"
      ]
     },
     "metadata": {
      "needs_background": "light"
     },
     "output_type": "display_data"
    }
   ],
   "source": [
    "history=tuned_fs_model.fit()"
   ]
  },
  {
   "cell_type": "code",
   "execution_count": 10,
   "metadata": {},
   "outputs": [
    {
     "name": "stderr",
     "output_type": "stream",
     "text": [
      "WARNING:absl:Found untraced functions such as lstm_cell_2_layer_call_fn, lstm_cell_2_layer_call_and_return_conditional_losses, lstm_cell_3_layer_call_fn, lstm_cell_3_layer_call_and_return_conditional_losses while saving (showing 4 of 4). These functions will not be directly callable after loading.\n"
     ]
    },
    {
     "name": "stdout",
     "output_type": "stream",
     "text": [
      "INFO:tensorflow:Assets written to: ./fs_model_tuned/assets\n"
     ]
    },
    {
     "name": "stderr",
     "output_type": "stream",
     "text": [
      "INFO:tensorflow:Assets written to: ./fs_model_tuned/assets\n",
      "WARNING:absl:<keras.layers.recurrent.LSTMCell object at 0x000002419913B580> has the same name 'LSTMCell' as a built-in Keras object. Consider renaming <class 'keras.layers.recurrent.LSTMCell'> to avoid naming conflicts when loading with `tf.keras.models.load_model`. If renaming is not possible, pass the object in the `custom_objects` parameter of the load function.\n",
      "WARNING:absl:<keras.layers.recurrent.LSTMCell object at 0x000002419A8C3F40> has the same name 'LSTMCell' as a built-in Keras object. Consider renaming <class 'keras.layers.recurrent.LSTMCell'> to avoid naming conflicts when loading with `tf.keras.models.load_model`. If renaming is not possible, pass the object in the `custom_objects` parameter of the load function.\n"
     ]
    }
   ],
   "source": [
    "tuned_fs_model.save_model(tuned_fs_model.model)"
   ]
  },
  {
   "cell_type": "code",
   "execution_count": 11,
   "metadata": {
    "colab": {
     "base_uri": "https://localhost:8080/"
    },
    "id": "VGjR94kc2g-b",
    "outputId": "ba5aac74-ea7e-4947-ed65-c096771baeb4"
   },
   "outputs": [
    {
     "name": "stdout",
     "output_type": "stream",
     "text": [
      "445/445 [==============================] - 16s 36ms/step - loss: 0.6319 - accuracy: 0.8166 - mse: 0.1606 - mae: 0.1919\n"
     ]
    },
    {
     "data": {
      "text/plain": [
       "[0.6318827271461487,\n",
       " 0.8165853023529053,\n",
       " 0.16063013672828674,\n",
       " 0.19189570844173431]"
      ]
     },
     "execution_count": 11,
     "metadata": {},
     "output_type": "execute_result"
    }
   ],
   "source": [
    "tuned_fs_new = tuned_fs_model.batch_prefetch_data(data2015_sf,labels2015_sf,split_data=False)\n",
    "tuned_fs_model.evaluate(tuned_fs_new)\n",
    "#base_model.evaluate(data_new,labels_new)"
   ]
  },
  {
   "cell_type": "code",
   "execution_count": 12,
   "metadata": {
    "colab": {
     "base_uri": "https://localhost:8080/",
     "height": 290
    },
    "id": "9tKveQ_92g-i",
    "outputId": "fb62daac-b4be-4f57-8ce1-1e864c01fc34"
   },
   "outputs": [
    {
     "data": {
      "image/png": "[encoded data removed]",
      "text/plain": [
       "<Figure size 432x288 with 2 Axes>"
      ]
     },
     "metadata": {
      "needs_background": "light"
     },
     "output_type": "display_data"
    }
   ],
   "source": [
    "#Form batches (does not shuffle, cuts off remainder)\n",
    "batched_2015_tuned_sf = tuned_fs_model.batch_prefetch_data(data2015_sf,split_data=False)\n",
    "#Cutoff matching remainder from labels\n",
    "true_labels_tuned_sf = labels2015_sf[:-(labels2015_sf.shape[0] % tuned_fs_model.batch_size)]\n",
    "#Do predictions and get confusion matrix\n",
    "conf_matrix_tuned_sf = tuned_fs_model.predict_conf_matrix(batched_2015_tuned_sf,true_labels_tuned_sf,make_plots=True)"
   ]
  },
  {
   "cell_type": "code",
   "execution_count": 13,
   "metadata": {
    "colab": {
     "base_uri": "https://localhost:8080/"
    },
    "id": "YE3lJpDa2g-i",
    "outputId": "ea89d0b8-a614-4971-afbc-53d25bccd6f3"
   },
   "outputs": [
    {
     "data": {
      "text/plain": [
       "array([[  78341,  485299],\n",
       "       [ 160281, 2693679]], dtype=int64)"
      ]
     },
     "execution_count": 13,
     "metadata": {},
     "output_type": "execute_result"
    }
   ],
   "source": [
    "conf_matrix_tuned_sf"
   ]
  },
  {
   "cell_type": "code",
   "execution_count": 14,
   "metadata": {
    "colab": {
     "base_uri": "https://localhost:8080/",
     "height": 81
    },
    "id": "wvn4pIpZ2g-j",
    "outputId": "ea66fa2c-5b01-40f8-80c8-3245b0bb0ee8"
   },
   "outputs": [
    {
     "data": {
      "text/html": [
       "<div>\n",
       "<style scoped>\n",
       "    .dataframe tbody tr th:only-of-type {\n",
       "        vertical-align: middle;\n",
       "    }\n",
       "\n",
       "    .dataframe tbody tr th {\n",
       "        vertical-align: top;\n",
       "    }\n",
       "\n",
       "    .dataframe thead th {\n",
       "        text-align: right;\n",
       "    }\n",
       "</style>\n",
       "<table border=\"1\" class=\"dataframe\">\n",
       "  <thead>\n",
       "    <tr style=\"text-align: right;\">\n",
       "      <th></th>\n",
       "      <th>precision</th>\n",
       "      <th>recall</th>\n",
       "      <th>far</th>\n",
       "      <th>hss</th>\n",
       "    </tr>\n",
       "  </thead>\n",
       "  <tbody>\n",
       "    <tr>\n",
       "      <th>0</th>\n",
       "      <td>0.943839</td>\n",
       "      <td>0.847341</td>\n",
       "      <td>0.671694</td>\n",
       "      <td>0.108624</td>\n",
       "    </tr>\n",
       "  </tbody>\n",
       "</table>\n",
       "</div>"
      ],
      "text/plain": [
       "   precision    recall       far       hss\n",
       "0   0.943839  0.847341  0.671694  0.108624"
      ]
     },
     "execution_count": 14,
     "metadata": {},
     "output_type": "execute_result"
    }
   ],
   "source": [
    "tuned_fs_model.calculate_statistics(conf_matrix_tuned_sf)"
   ]
  },
  {
   "cell_type": "code",
   "execution_count": 15,
   "metadata": {
    "colab": {
     "base_uri": "https://localhost:8080/"
    },
    "id": "tTgUryny2bar",
    "outputId": "74a6d594-a33d-48a0-ddd0-b2644f8224fc"
   },
   "outputs": [
    {
     "name": "stdout",
     "output_type": "stream",
     "text": [
      "Model: \"sequential_1\"\n",
      "_________________________________________________________________\n",
      " Layer (type)                Output Shape              Param #   \n",
      "=================================================================\n",
      " lstm_2 (LSTM)               (64, 120, 48)             11712     \n",
      "                                                                 \n",
      " lstm_3 (LSTM)               (64, 120, 48)             18624     \n",
      "                                                                 \n",
      " dropout_1 (Dropout)         (64, 120, 48)             0         \n",
      "                                                                 \n",
      " dense_1 (Dense)             (64, 120, 1)              49        \n",
      "                                                                 \n",
      "=================================================================\n",
      "Total params: 30,385\n",
      "Trainable params: 30,385\n",
      "Non-trainable params: 0\n",
      "_________________________________________________________________\n"
     ]
    }
   ],
   "source": [
    "tuned_fs_model.model.summary()"
   ]
  },
  {
   "cell_type": "code",
   "execution_count": 16,
   "metadata": {},
   "outputs": [
    {
     "name": "stderr",
     "output_type": "stream",
     "text": [
      "c:\\Users\\Dave\\Documents\\UVA\\DS6050\\Group project\\DS6050-SolarFlarePrediction\\prediction_LSTM.py:219: VisibleDeprecationWarning: Creating an ndarray from ragged nested sequences (which is a list-or-tuple of lists-or-tuples-or ndarrays with different lengths or shapes) is deprecated. If you meant to do this, you must specify 'dtype=object' when creating the ndarray.\n",
      "  plt.boxplot(np.array([true_positive_logits, false_positive_logits]),\n"
     ]
    },
    {
     "data": {
      "image/png": "[encoded data removed]",
      "text/plain": [
       "<Figure size 432x288 with 1 Axes>"
      ]
     },
     "metadata": {
      "needs_background": "light"
     },
     "output_type": "display_data"
    }
   ],
   "source": [
    "tp_tuned_fs, fp_tuned_fs = tuned_fs_model.view_prediction_distributions(true_labels=true_labels_tuned_sf,data=batched_2015_tuned_sf)"
   ]
  },
  {
   "cell_type": "markdown",
   "metadata": {
    "id": "sHSk13KV4OUv"
   },
   "source": [
    "# Model with Recurrent Dropout and Lower Units Tuning\n",
    "\n",
    "* Using feature selection\n",
    "* Tuning with units from 10 to 16 with step size 1\n",
    "* Removed the Dropout layer and instead used the recurrent_dropout = .2 in the keras.layers.LSTM function call"
   ]
  },
  {
   "cell_type": "code",
   "execution_count": 17,
   "metadata": {
    "colab": {
     "base_uri": "https://localhost:8080/"
    },
    "id": "1NdW1Flk6TU_",
    "outputId": "9cc74c19-d61d-4997-90e2-d48bd2aa7fc0"
   },
   "outputs": [
    {
     "name": "stdout",
     "output_type": "stream",
     "text": [
      "Num GB used in data array: 0.0006008148193359375\n",
      "Num GB used in data array: 0.0008475780487060547\n",
      "Num GB used in data array: 0.001963376998901367\n",
      "Num GB used in data array: 0.003701448440551758\n",
      "Num GB used in data array: 0.004388093948364258\n",
      "Num GB used in data array: 0.004903078079223633\n",
      "Num GB used in data array: 0.005300045013427734\n",
      "Num GB used in data array: 0.0072634220123291016\n",
      "Num GB used in data array: 0.007381439208984375\n",
      "Num GB used in data array: 0.008465051651000977\n",
      "Num GB used in data array: 0.009065866470336914\n",
      "Num GB used in data array: 0.012778043746948242\n",
      "Num GB used in data array: 0.01337885856628418\n",
      "Num GB used in data array: 0.015106201171875\n",
      "Num GB used in data array: 0.017713308334350586\n",
      "Num GB used in data array: 0.018045902252197266\n",
      "Num GB used in data array: 0.03292679786682129\n",
      "Num GB used in data array: 0.034461021423339844\n",
      "Num GB used in data array: 0.03457903861999512\n",
      "Num GB used in data array: 0.03464341163635254\n",
      "Num GB used in data array: 0.03508329391479492\n",
      "Num GB used in data array: 0.03568410873413086\n",
      "Num GB used in data array: 0.03636002540588379\n",
      "Num GB used in data array: 0.040018558502197266\n",
      "Num GB used in data array: 0.04024386405944824\n",
      "Num GB used in data array: 0.04084467887878418\n",
      "Num GB used in data array: 0.04144549369812012\n",
      "Num GB used in data array: 0.04215359687805176\n",
      "Num GB used in data array: 0.042754411697387695\n",
      "Num GB used in data array: 0.04335522651672363\n",
      "Num GB used in data array: 0.04395604133605957\n",
      "Num GB used in data array: 0.048558712005615234\n",
      "Num GB used in data array: 0.04915952682495117\n",
      "Num GB used in data array: 0.0495457649230957\n",
      "Num GB used in data array: 0.04971742630004883\n",
      "Num GB used in data array: 0.0516057014465332\n",
      "Num GB used in data array: 0.05251765251159668\n",
      "Num GB used in data array: 0.05292534828186035\n",
      "Num GB used in data array: 0.053000450134277344\n",
      "Num GB used in data array: 0.05606889724731445\n",
      "Num GB used in data array: 0.0561976432800293\n",
      "Num GB used in data array: 0.05970597267150879\n",
      "Num GB used in data array: 0.06067156791687012\n",
      "Num GB used in data array: 0.06394386291503906\n",
      "Num GB used in data array: 0.06886839866638184\n",
      "Num GB used in data array: 0.08271932601928711\n",
      "Num GB used in data array: 0.09527206420898438\n",
      "Num GB used in data array: 0.09794354438781738\n",
      "Num GB used in data array: 0.09816884994506836\n",
      "Num GB used in data array: 0.09832978248596191\n",
      "Num GB used in data array: 0.09836196899414062\n",
      "Num GB used in data array: 0.10431647300720215\n",
      "Num GB used in data array: 0.10488510131835938\n",
      "Num GB used in data array: 0.10943412780761719\n",
      "Num GB used in data array: 0.10972380638122559\n",
      "Num GB used in data array: 0.10987401008605957\n",
      "Num GB used in data array: 0.11148333549499512\n",
      "Num GB used in data array: 0.11542081832885742\n",
      "Num GB used in data array: 0.12581706047058105\n",
      "Num GB used in data array: 0.12752294540405273\n",
      "Num GB used in data array: 0.13744711875915527\n",
      "Num GB used in data array: 0.14685630798339844\n",
      "Num GB used in data array: 0.1574993133544922\n",
      "Num GB used in data array: 0.18210053443908691\n",
      "Num GB used in data array: 0.1961982250213623\n",
      "Num GB used in data array: 0.2031397819519043\n",
      "Num GB used in data array: 0.2111220359802246\n",
      "Num GB used in data array: 0.21139025688171387\n",
      "Num GB used in data array: 0.21280646324157715\n",
      "Num GB used in data array: 0.2131819725036621\n",
      "Num GB used in data array: 0.21916866302490234\n",
      "Num GB used in data array: 0.22357821464538574\n",
      "Num GB used in data array: 0.22396445274353027\n",
      "Num GB used in data array: 0.2277839183807373\n",
      "Num GB used in data array: 0.24204254150390625\n",
      "Num GB used in data array: 0.24615168571472168\n",
      "Num GB used in data array: 0.26726603507995605\n",
      "Num GB used in data array: 0.2705061435699463\n",
      "Num GB used in data array: 0.27059197425842285\n",
      "Num GB used in data array: 0.2707099914550781\n",
      "Num GB used in data array: 0.2708280086517334\n",
      "Num GB used in data array: 0.27132153511047363\n",
      "Num GB used in data array: 0.2716541290283203\n",
      "Num GB used in data array: 0.2718043327331543\n",
      "Num GB used in data array: 0.27246952056884766\n",
      "Num GB used in data array: 0.27518391609191895\n"
     ]
    }
   ],
   "source": [
    "if rebuild_data:\n",
    "    with open(\"content/all_data.pkl\", \"rb\") as file:\n",
    "        data = pickle.load(file)\n",
    "    DataSelection(data, 2014, \"./dropout/\", feature_selection=True, use_all=False)\n",
    "# DataSelection(data, 2015, \"./\")"
   ]
  },
  {
   "cell_type": "code",
   "execution_count": 18,
   "metadata": {
    "colab": {
     "base_uri": "https://localhost:8080/"
    },
    "id": "ar1C4lA-6TVA",
    "outputId": "d48dbf80-2028-4cb7-d818-3a6834e27968"
   },
   "outputs": [
    {
     "name": "stdout",
     "output_type": "stream",
     "text": [
      "Num GB used in data array: 0.0006008148193359375\n",
      "Num GB used in data array: 0.0009870529174804688\n",
      "Num GB used in data array: 0.003465414047241211\n",
      "Num GB used in data array: 0.005525350570678711\n",
      "Num GB used in data array: 0.007628202438354492\n",
      "Num GB used in data array: 0.009924173355102539\n",
      "Num GB used in data array: 0.010524988174438477\n",
      "Num GB used in data array: 0.011125802993774414\n",
      "Num GB used in data array: 0.014623403549194336\n",
      "Num GB used in data array: 0.01474142074584961\n",
      "Num GB used in data array: 0.015031099319458008\n",
      "Num GB used in data array: 0.01855015754699707\n",
      "Num GB used in data array: 0.019150972366333008\n",
      "Num GB used in data array: 0.019429922103881836\n",
      "Num GB used in data array: 0.02233743667602539\n",
      "Num GB used in data array: 0.02267003059387207\n",
      "Num GB used in data array: 0.03632783889770508\n",
      "Num GB used in data array: 0.03875255584716797\n",
      "Num GB used in data array: 0.03983616828918457\n",
      "Num GB used in data array: 0.03990054130554199\n",
      "Num GB used in data array: 0.04019021987915039\n",
      "Num GB used in data array: 0.040340423583984375\n",
      "Num GB used in data array: 0.042775869369506836\n",
      "Num GB used in data array: 0.043473243713378906\n",
      "Num GB used in data array: 0.04494309425354004\n",
      "Num GB used in data array: 0.04739999771118164\n",
      "Num GB used in data array: 0.05635857582092285\n",
      "Num GB used in data array: 0.07331013679504395\n",
      "Num GB used in data array: 0.07647514343261719\n",
      "Num GB used in data array: 0.07691502571105957\n",
      "Num GB used in data array: 0.07707595825195312\n",
      "Num GB used in data array: 0.08452177047729492\n",
      "Num GB used in data array: 0.08635640144348145\n",
      "Num GB used in data array: 0.09290099143981934\n",
      "Num GB used in data array: 0.09535789489746094\n",
      "Num GB used in data array: 0.09757876396179199\n",
      "Num GB used in data array: 0.09959578514099121\n",
      "Num GB used in data array: 0.10178446769714355\n",
      "Num GB used in data array: 0.10193467140197754\n",
      "Num GB used in data array: 0.1020205020904541\n",
      "Num GB used in data array: 0.10972380638122559\n",
      "Num GB used in data array: 0.11030316352844238\n",
      "Num GB used in data array: 0.11579632759094238\n",
      "Num GB used in data array: 0.12237310409545898\n",
      "Num GB used in data array: 0.13662099838256836\n",
      "Num GB used in data array: 0.16004204750061035\n",
      "Num GB used in data array: 0.17594218254089355\n",
      "Num GB used in data array: 0.1844179630279541\n",
      "Num GB used in data array: 0.18906354904174805\n",
      "Num GB used in data array: 0.1893317699432373\n",
      "Num GB used in data array: 0.19072651863098145\n",
      "Num GB used in data array: 0.19165992736816406\n",
      "Num GB used in data array: 0.1997387409210205\n",
      "Num GB used in data array: 0.20645499229431152\n",
      "Num GB used in data array: 0.20723819732666016\n",
      "Num GB used in data array: 0.21366477012634277\n",
      "Num GB used in data array: 0.21390080451965332\n",
      "Num GB used in data array: 0.23647427558898926\n",
      "Num GB used in data array: 0.24596929550170898\n",
      "Num GB used in data array: 0.2782416343688965\n",
      "Num GB used in data array: 0.2816641330718994\n",
      "Num GB used in data array: 0.282747745513916\n",
      "Num GB used in data array: 0.2853119373321533\n",
      "Num GB used in data array: 0.28768301010131836\n",
      "Num GB used in data array: 0.28948545455932617\n",
      "Num GB used in data array: 0.2907085418701172\n",
      "Num GB used in data array: 0.2917492389678955\n",
      "Num GB used in data array: 0.2928006649017334\n",
      "Num GB used in data array: 0.2932298183441162\n",
      "Num GB used in data array: 0.2933049201965332\n",
      "Num GB used in data array: 0.2937018871307373\n",
      "Num GB used in data array: 0.29639482498168945\n",
      "Num GB used in data array: 0.3056216239929199\n"
     ]
    }
   ],
   "source": [
    "if rebuild_data:\n",
    "    with open(\"./dropout/norm_scaler.pkl\", \"rb\") as norm_file:\n",
    "        normalization = pickle.load(norm_file)\n",
    "\n",
    "    with open(\"./dropout/stand_scaler.pkl\", \"rb\") as stand_file:\n",
    "        standard = pickle.load(stand_file)\n",
    "\n",
    "    DataSelection(data, 2015,\"./dropout/\", feature_selection=True, use_all=False, norm_scaler=normalization, stand_scaler=standard)"
   ]
  },
  {
   "cell_type": "code",
   "execution_count": 19,
   "metadata": {
    "colab": {
     "base_uri": "https://localhost:8080/"
    },
    "id": "81F09RUw6Mli",
    "outputId": "73974b7f-53a8-44cf-fcfd-9fdfcd737bcd"
   },
   "outputs": [
    {
     "data": {
      "text/plain": [
       "(25649, 120, 12)"
      ]
     },
     "execution_count": 19,
     "metadata": {},
     "output_type": "execute_result"
    }
   ],
   "source": [
    "data2014_sf = np.load(\"./dropout/data_2014.npy\")\n",
    "labels2014_sf = np.load(\"./dropout/labels_2014.npy\")\n",
    "data2014_sf.shape"
   ]
  },
  {
   "cell_type": "code",
   "execution_count": 20,
   "metadata": {},
   "outputs": [
    {
     "data": {
      "text/plain": [
       "(28486, 120, 12)"
      ]
     },
     "execution_count": 20,
     "metadata": {},
     "output_type": "execute_result"
    }
   ],
   "source": [
    "data2015_sf = np.load(\"./dropout/data_2015.npy\")\n",
    "labels2015_sf = np.load(\"./dropout/labels_2015.npy\")\n",
    "data2015_sf.shape"
   ]
  },
  {
   "cell_type": "code",
   "execution_count": 21,
   "metadata": {
    "id": "Gx1qEBNY6Mli"
   },
   "outputs": [],
   "source": [
    "model3 = SolarLSTM(data2014_sf, labels2014_sf, \"./dropout_model/\", tune=True,\n",
    "                   units=(10, 16, 1), regularization=(\"early stopping\"))"
   ]
  },
  {
   "cell_type": "code",
   "execution_count": 22,
   "metadata": {
    "id": "miYP26Zk6Mlj"
   },
   "outputs": [],
   "source": [
    "model3.build_model()"
   ]
  },
  {
   "cell_type": "code",
   "execution_count": 23,
   "metadata": {
    "id": "9FTAC_H66Mlj"
   },
   "outputs": [],
   "source": [
    "model3.model"
   ]
  },
  {
   "cell_type": "code",
   "execution_count": 24,
   "metadata": {
    "colab": {
     "base_uri": "https://localhost:8080/",
     "height": 1000
    },
    "id": "SSwf9qlt6Mlj",
    "outputId": "07d1ab57-438b-4364-c6bd-aeb1c6bff279"
   },
   "outputs": [
    {
     "name": "stdout",
     "output_type": "stream",
     "text": [
      "Model not found\n",
      "Building Model...\n",
      "INFO:tensorflow:Reloading Oracle from existing project .\\untitled_project\\oracle.json\n"
     ]
    },
    {
     "name": "stderr",
     "output_type": "stream",
     "text": [
      "INFO:tensorflow:Reloading Oracle from existing project .\\untitled_project\\oracle.json\n"
     ]
    },
    {
     "name": "stdout",
     "output_type": "stream",
     "text": [
      "INFO:tensorflow:Reloading Tuner from .\\untitled_project\\tuner0.json\n"
     ]
    },
    {
     "name": "stderr",
     "output_type": "stream",
     "text": [
      "INFO:tensorflow:Reloading Tuner from .\\untitled_project\\tuner0.json\n"
     ]
    },
    {
     "name": "stdout",
     "output_type": "stream",
     "text": [
      "INFO:tensorflow:Oracle triggered exit\n"
     ]
    },
    {
     "name": "stderr",
     "output_type": "stream",
     "text": [
      "INFO:tensorflow:Oracle triggered exit\n"
     ]
    },
    {
     "name": "stdout",
     "output_type": "stream",
     "text": [
      "Hyper Tuning Complete\n",
      "Epoch 1/50\n"
     ]
    },
    {
     "name": "stderr",
     "output_type": "stream",
     "text": [
      "C:\\Users\\Dave\\.conda\\envs\\dlproj\\lib\\site-packages\\tensorflow\\python\\util\\dispatch.py:1082: UserWarning: \"`binary_crossentropy` received `from_logits=True`, but the `output` argument was produced by a sigmoid or softmax activation and thus does not represent logits. Was this intended?\"\n",
      "  return dispatch_target(*args, **kwargs)\n"
     ]
    },
    {
     "name": "stdout",
     "output_type": "stream",
     "text": [
      "320/320 [==============================] - ETA: 0s - loss: 0.3447 - accuracy: 0.8817 - mse: 0.0983 - mae: 0.1825"
     ]
    },
    {
     "name": "stderr",
     "output_type": "stream",
     "text": [
      "WARNING:absl:Found untraced functions such as lstm_cell_6_layer_call_fn, lstm_cell_6_layer_call_and_return_conditional_losses, lstm_cell_7_layer_call_fn, lstm_cell_7_layer_call_and_return_conditional_losses while saving (showing 4 of 4). These functions will not be directly callable after loading.\n"
     ]
    },
    {
     "name": "stdout",
     "output_type": "stream",
     "text": [
      "INFO:tensorflow:Assets written to: dropout_model\\model_checkpoints\\assets\n"
     ]
    },
    {
     "name": "stderr",
     "output_type": "stream",
     "text": [
      "INFO:tensorflow:Assets written to: dropout_model\\model_checkpoints\\assets\n",
      "WARNING:absl:<keras.layers.recurrent.LSTMCell object at 0x00000242000421F0> has the same name 'LSTMCell' as a built-in Keras object. Consider renaming <class 'keras.layers.recurrent.LSTMCell'> to avoid naming conflicts when loading with `tf.keras.models.load_model`. If renaming is not possible, pass the object in the `custom_objects` parameter of the load function.\n",
      "WARNING:absl:<keras.layers.recurrent.LSTMCell object at 0x00000242000749A0> has the same name 'LSTMCell' as a built-in Keras object. Consider renaming <class 'keras.layers.recurrent.LSTMCell'> to avoid naming conflicts when loading with `tf.keras.models.load_model`. If renaming is not possible, pass the object in the `custom_objects` parameter of the load function.\n"
     ]
    },
    {
     "name": "stdout",
     "output_type": "stream",
     "text": [
      "320/320 [==============================] - 40s 115ms/step - loss: 0.3447 - accuracy: 0.8817 - mse: 0.0983 - mae: 0.1825 - val_loss: 0.8020 - val_accuracy: 0.8070 - val_mse: 0.1857 - val_mae: 0.2028\n",
      "Epoch 2/50\n",
      "320/320 [==============================] - ETA: 0s - loss: 0.3305 - accuracy: 0.8996 - mse: 0.0913 - mae: 0.1711"
     ]
    },
    {
     "name": "stderr",
     "output_type": "stream",
     "text": [
      "WARNING:absl:Found untraced functions such as lstm_cell_6_layer_call_fn, lstm_cell_6_layer_call_and_return_conditional_losses, lstm_cell_7_layer_call_fn, lstm_cell_7_layer_call_and_return_conditional_losses while saving (showing 4 of 4). These functions will not be directly callable after loading.\n"
     ]
    },
    {
     "name": "stdout",
     "output_type": "stream",
     "text": [
      "INFO:tensorflow:Assets written to: dropout_model\\model_checkpoints\\assets\n"
     ]
    },
    {
     "name": "stderr",
     "output_type": "stream",
     "text": [
      "INFO:tensorflow:Assets written to: dropout_model\\model_checkpoints\\assets\n",
      "WARNING:absl:<keras.layers.recurrent.LSTMCell object at 0x00000242000421F0> has the same name 'LSTMCell' as a built-in Keras object. Consider renaming <class 'keras.layers.recurrent.LSTMCell'> to avoid naming conflicts when loading with `tf.keras.models.load_model`. If renaming is not possible, pass the object in the `custom_objects` parameter of the load function.\n",
      "WARNING:absl:<keras.layers.recurrent.LSTMCell object at 0x00000242000749A0> has the same name 'LSTMCell' as a built-in Keras object. Consider renaming <class 'keras.layers.recurrent.LSTMCell'> to avoid naming conflicts when loading with `tf.keras.models.load_model`. If renaming is not possible, pass the object in the `custom_objects` parameter of the load function.\n"
     ]
    },
    {
     "name": "stdout",
     "output_type": "stream",
     "text": [
      "320/320 [==============================] - 39s 123ms/step - loss: 0.3305 - accuracy: 0.8996 - mse: 0.0913 - mae: 0.1711 - val_loss: 0.7490 - val_accuracy: 0.8094 - val_mse: 0.1833 - val_mae: 0.2056\n",
      "Epoch 3/50\n",
      "320/320 [==============================] - ETA: 0s - loss: 0.3454 - accuracy: 0.8995 - mse: 0.0946 - mae: 0.1819"
     ]
    },
    {
     "name": "stderr",
     "output_type": "stream",
     "text": [
      "WARNING:absl:Found untraced functions such as lstm_cell_6_layer_call_fn, lstm_cell_6_layer_call_and_return_conditional_losses, lstm_cell_7_layer_call_fn, lstm_cell_7_layer_call_and_return_conditional_losses while saving (showing 4 of 4). These functions will not be directly callable after loading.\n"
     ]
    },
    {
     "name": "stdout",
     "output_type": "stream",
     "text": [
      "INFO:tensorflow:Assets written to: dropout_model\\model_checkpoints\\assets\n"
     ]
    },
    {
     "name": "stderr",
     "output_type": "stream",
     "text": [
      "INFO:tensorflow:Assets written to: dropout_model\\model_checkpoints\\assets\n",
      "WARNING:absl:<keras.layers.recurrent.LSTMCell object at 0x00000242000421F0> has the same name 'LSTMCell' as a built-in Keras object. Consider renaming <class 'keras.layers.recurrent.LSTMCell'> to avoid naming conflicts when loading with `tf.keras.models.load_model`. If renaming is not possible, pass the object in the `custom_objects` parameter of the load function.\n",
      "WARNING:absl:<keras.layers.recurrent.LSTMCell object at 0x00000242000749A0> has the same name 'LSTMCell' as a built-in Keras object. Consider renaming <class 'keras.layers.recurrent.LSTMCell'> to avoid naming conflicts when loading with `tf.keras.models.load_model`. If renaming is not possible, pass the object in the `custom_objects` parameter of the load function.\n"
     ]
    },
    {
     "name": "stdout",
     "output_type": "stream",
     "text": [
      "320/320 [==============================] - 38s 119ms/step - loss: 0.3454 - accuracy: 0.8995 - mse: 0.0946 - mae: 0.1819 - val_loss: 0.5408 - val_accuracy: 0.8094 - val_mse: 0.1655 - val_mae: 0.2404\n",
      "Epoch 4/50\n",
      "320/320 [==============================] - 32s 99ms/step - loss: 0.3158 - accuracy: 0.8995 - mse: 0.0881 - mae: 0.1751 - val_loss: 0.5498 - val_accuracy: 0.8071 - val_mse: 0.1644 - val_mae: 0.2259\n",
      "Epoch 5/50\n",
      "320/320 [==============================] - ETA: 0s - loss: 0.3228 - accuracy: 0.8996 - mse: 0.0888 - mae: 0.1732"
     ]
    },
    {
     "name": "stderr",
     "output_type": "stream",
     "text": [
      "WARNING:absl:Found untraced functions such as lstm_cell_6_layer_call_fn, lstm_cell_6_layer_call_and_return_conditional_losses, lstm_cell_7_layer_call_fn, lstm_cell_7_layer_call_and_return_conditional_losses while saving (showing 4 of 4). These functions will not be directly callable after loading.\n"
     ]
    },
    {
     "name": "stdout",
     "output_type": "stream",
     "text": [
      "INFO:tensorflow:Assets written to: dropout_model\\model_checkpoints\\assets\n"
     ]
    },
    {
     "name": "stderr",
     "output_type": "stream",
     "text": [
      "INFO:tensorflow:Assets written to: dropout_model\\model_checkpoints\\assets\n",
      "WARNING:absl:<keras.layers.recurrent.LSTMCell object at 0x00000242000421F0> has the same name 'LSTMCell' as a built-in Keras object. Consider renaming <class 'keras.layers.recurrent.LSTMCell'> to avoid naming conflicts when loading with `tf.keras.models.load_model`. If renaming is not possible, pass the object in the `custom_objects` parameter of the load function.\n",
      "WARNING:absl:<keras.layers.recurrent.LSTMCell object at 0x00000242000749A0> has the same name 'LSTMCell' as a built-in Keras object. Consider renaming <class 'keras.layers.recurrent.LSTMCell'> to avoid naming conflicts when loading with `tf.keras.models.load_model`. If renaming is not possible, pass the object in the `custom_objects` parameter of the load function.\n"
     ]
    },
    {
     "name": "stdout",
     "output_type": "stream",
     "text": [
      "320/320 [==============================] - 37s 117ms/step - loss: 0.3228 - accuracy: 0.8996 - mse: 0.0888 - mae: 0.1732 - val_loss: 0.5152 - val_accuracy: 0.8094 - val_mse: 0.1584 - val_mae: 0.2461\n",
      "Epoch 6/50\n",
      "320/320 [==============================] - 31s 98ms/step - loss: 0.3114 - accuracy: 0.8996 - mse: 0.0854 - mae: 0.1705 - val_loss: 0.5374 - val_accuracy: 0.8094 - val_mse: 0.1639 - val_mae: 0.2419\n",
      "Epoch 7/50\n",
      "320/320 [==============================] - 31s 98ms/step - loss: 0.3025 - accuracy: 0.8990 - mse: 0.0831 - mae: 0.1662 - val_loss: 0.5308 - val_accuracy: 0.8094 - val_mse: 0.1625 - val_mae: 0.2453\n",
      "Epoch 8/50\n",
      "320/320 [==============================] - 32s 98ms/step - loss: 0.2871 - accuracy: 0.8990 - mse: 0.0774 - mae: 0.1563 - val_loss: 0.5668 - val_accuracy: 0.8075 - val_mse: 0.1692 - val_mae: 0.2311\n",
      "Epoch 9/50\n",
      "320/320 [==============================] - 31s 98ms/step - loss: 0.2820 - accuracy: 0.9199 - mse: 0.0750 - mae: 0.1509 - val_loss: 0.5543 - val_accuracy: 0.8092 - val_mse: 0.1664 - val_mae: 0.2302\n",
      "Epoch 10/50\n",
      "320/320 [==============================] - 32s 99ms/step - loss: 0.2742 - accuracy: 0.9189 - mse: 0.0729 - mae: 0.1461 - val_loss: 0.5774 - val_accuracy: 0.8019 - val_mse: 0.1714 - val_mae: 0.2302\n",
      "Epoch 10: early stopping\n"
     ]
    },
    {
     "data": {
      "image/png": "[encoded data removed]",
      "text/plain": [
       "<Figure size 576x360 with 1 Axes>"
      ]
     },
     "metadata": {
      "needs_background": "light"
     },
     "output_type": "display_data"
    }
   ],
   "source": [
    "history=model3.fit()"
   ]
  },
  {
   "cell_type": "code",
   "execution_count": 25,
   "metadata": {},
   "outputs": [
    {
     "name": "stderr",
     "output_type": "stream",
     "text": [
      "WARNING:absl:Found untraced functions such as lstm_cell_6_layer_call_fn, lstm_cell_6_layer_call_and_return_conditional_losses, lstm_cell_7_layer_call_fn, lstm_cell_7_layer_call_and_return_conditional_losses while saving (showing 4 of 4). These functions will not be directly callable after loading.\n"
     ]
    },
    {
     "name": "stdout",
     "output_type": "stream",
     "text": [
      "INFO:tensorflow:Assets written to: ./dropout_model/assets\n"
     ]
    },
    {
     "name": "stderr",
     "output_type": "stream",
     "text": [
      "INFO:tensorflow:Assets written to: ./dropout_model/assets\n",
      "WARNING:absl:<keras.layers.recurrent.LSTMCell object at 0x00000242000421F0> has the same name 'LSTMCell' as a built-in Keras object. Consider renaming <class 'keras.layers.recurrent.LSTMCell'> to avoid naming conflicts when loading with `tf.keras.models.load_model`. If renaming is not possible, pass the object in the `custom_objects` parameter of the load function.\n",
      "WARNING:absl:<keras.layers.recurrent.LSTMCell object at 0x00000242000749A0> has the same name 'LSTMCell' as a built-in Keras object. Consider renaming <class 'keras.layers.recurrent.LSTMCell'> to avoid naming conflicts when loading with `tf.keras.models.load_model`. If renaming is not possible, pass the object in the `custom_objects` parameter of the load function.\n"
     ]
    }
   ],
   "source": [
    "model3.save_model(model3.model)"
   ]
  },
  {
   "cell_type": "code",
   "execution_count": 26,
   "metadata": {
    "colab": {
     "base_uri": "https://localhost:8080/"
    },
    "id": "6sV9cUAZ6Mlk",
    "outputId": "211e0407-86ae-4c87-8d96-86e7cc0a4c00"
   },
   "outputs": [
    {
     "name": "stdout",
     "output_type": "stream",
     "text": [
      "445/445 [==============================] - 16s 35ms/step - loss: 0.5259 - accuracy: 0.8171 - mse: 0.1557 - mae: 0.2142\n"
     ]
    },
    {
     "data": {
      "text/plain": [
       "[0.5258728861808777,\n",
       " 0.817122220993042,\n",
       " 0.15568503737449646,\n",
       " 0.21423470973968506]"
      ]
     },
     "execution_count": 26,
     "metadata": {},
     "output_type": "execute_result"
    }
   ],
   "source": [
    "new3 = model3.batch_prefetch_data(data2015_sf,labels2015_sf,split_data=False)\n",
    "model3.evaluate(new3)\n",
    "#base_model.evaluate(data_new,labels_new)"
   ]
  },
  {
   "cell_type": "code",
   "execution_count": 27,
   "metadata": {
    "colab": {
     "base_uri": "https://localhost:8080/",
     "height": 290
    },
    "id": "F944mCUY6Mlk",
    "outputId": "ed755f4c-1b51-47f3-e683-a8bbd416179b"
   },
   "outputs": [
    {
     "data": {
      "image/png": "[encoded data removed]",
      "text/plain": [
       "<Figure size 432x288 with 2 Axes>"
      ]
     },
     "metadata": {
      "needs_background": "light"
     },
     "output_type": "display_data"
    }
   ],
   "source": [
    "#Form batches (does not shuffle, cuts off remainder)\n",
    "batched_2015_3 = model3.batch_prefetch_data(data2015_sf,split_data=False)\n",
    "#Cutoff matching remainder from labels\n",
    "true_labels_3 = labels2015_sf[:-(labels2015_sf.shape[0] % model3.batch_size)]\n",
    "#Do predictions and get confusion matrix\n",
    "conf_matrix_3 = model3.predict_conf_matrix(batched_2015_3,true_labels_3,make_plots=True)"
   ]
  },
  {
   "cell_type": "code",
   "execution_count": 28,
   "metadata": {
    "colab": {
     "base_uri": "https://localhost:8080/"
    },
    "id": "Q4yxcdSV6Mlk",
    "outputId": "cad0f540-9745-4fa0-fdad-a4085cb2d737"
   },
   "outputs": [
    {
     "data": {
      "text/plain": [
       "array([[  83771,  479869],\n",
       "       [ 155862, 2698098]], dtype=int64)"
      ]
     },
     "execution_count": 28,
     "metadata": {},
     "output_type": "execute_result"
    }
   ],
   "source": [
    "conf_matrix_3"
   ]
  },
  {
   "cell_type": "code",
   "execution_count": 29,
   "metadata": {
    "colab": {
     "base_uri": "https://localhost:8080/",
     "height": 81
    },
    "id": "0yNfZt4v6Mlk",
    "outputId": "8c063ef8-d8f7-452b-feb1-a58d3cb8d636"
   },
   "outputs": [
    {
     "data": {
      "text/html": [
       "<div>\n",
       "<style scoped>\n",
       "    .dataframe tbody tr th:only-of-type {\n",
       "        vertical-align: middle;\n",
       "    }\n",
       "\n",
       "    .dataframe tbody tr th {\n",
       "        vertical-align: top;\n",
       "    }\n",
       "\n",
       "    .dataframe thead th {\n",
       "        text-align: right;\n",
       "    }\n",
       "</style>\n",
       "<table border=\"1\" class=\"dataframe\">\n",
       "  <thead>\n",
       "    <tr style=\"text-align: right;\">\n",
       "      <th></th>\n",
       "      <th>precision</th>\n",
       "      <th>recall</th>\n",
       "      <th>far</th>\n",
       "      <th>hss</th>\n",
       "    </tr>\n",
       "  </thead>\n",
       "  <tbody>\n",
       "    <tr>\n",
       "      <th>0</th>\n",
       "      <td>0.945387</td>\n",
       "      <td>0.849001</td>\n",
       "      <td>0.65042</td>\n",
       "      <td>0.123058</td>\n",
       "    </tr>\n",
       "  </tbody>\n",
       "</table>\n",
       "</div>"
      ],
      "text/plain": [
       "   precision    recall      far       hss\n",
       "0   0.945387  0.849001  0.65042  0.123058"
      ]
     },
     "execution_count": 29,
     "metadata": {},
     "output_type": "execute_result"
    }
   ],
   "source": [
    "model3.calculate_statistics(conf_matrix_3)"
   ]
  },
  {
   "cell_type": "code",
   "execution_count": 30,
   "metadata": {
    "colab": {
     "base_uri": "https://localhost:8080/"
    },
    "id": "VcWFK1HF8Dmz",
    "outputId": "99edf0a0-5f87-4453-ab3f-c8fae9b03088"
   },
   "outputs": [
    {
     "data": {
      "text/plain": [
       "(28480, 120, 1)"
      ]
     },
     "execution_count": 30,
     "metadata": {},
     "output_type": "execute_result"
    }
   ],
   "source": [
    "true_labels_3.shape"
   ]
  },
  {
   "cell_type": "code",
   "execution_count": 31,
   "metadata": {
    "id": "AaK5RF7LW5Ia"
   },
   "outputs": [
    {
     "name": "stderr",
     "output_type": "stream",
     "text": [
      "c:\\Users\\Dave\\Documents\\UVA\\DS6050\\Group project\\DS6050-SolarFlarePrediction\\prediction_LSTM.py:219: VisibleDeprecationWarning: Creating an ndarray from ragged nested sequences (which is a list-or-tuple of lists-or-tuples-or ndarrays with different lengths or shapes) is deprecated. If you meant to do this, you must specify 'dtype=object' when creating the ndarray.\n",
      "  plt.boxplot(np.array([true_positive_logits, false_positive_logits]),\n"
     ]
    },
    {
     "data": {
      "image/png": "[encoded data removed]",
      "text/plain": [
       "<Figure size 432x288 with 1 Axes>"
      ]
     },
     "metadata": {
      "needs_background": "light"
     },
     "output_type": "display_data"
    }
   ],
   "source": [
    "tp_model3, fp_model3 = tuned_fs_model.view_prediction_distributions(true_labels=true_labels_3,data=batched_2015_3)"
   ]
  }
 ],
 "metadata": {
  "colab": {
   "collapsed_sections": [
    "OepbSvctPysr",
    "qZcbcS18P4n9",
    "-tIs0gOhPI7t",
    "sHSk13KV4OUv"
   ],
   "machine_shape": "hm",
   "name": "ColabNotebook_ModelPipeline.ipynb",
   "provenance": []
  },
  "kernelspec": {
   "display_name": "Python 3",
   "language": "python",
   "name": "python3"
  },
  "language_info": {
   "codemirror_mode": {
    "name": "ipython",
    "version": 3
   },
   "file_extension": ".py",
   "mimetype": "text/x-python",
   "name": "python",
   "nbconvert_exporter": "python",
   "pygments_lexer": "ipython3",
   "version": "3.8.3"
  }
 },
 "nbformat": 4,
 "nbformat_minor": 1
}
