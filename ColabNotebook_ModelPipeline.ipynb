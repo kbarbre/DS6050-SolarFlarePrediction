{
  "cells": [
    {
      "cell_type": "code",
      "execution_count": 1,
      "metadata": {
        "colab": {
          "base_uri": "https://localhost:8080/"
        },
        "id": "ky0FGKOwTBkL",
        "outputId": "9303d26e-93b6-4503-af11-04916acd8f5a"
      },
      "outputs": [
        {
          "output_type": "stream",
          "name": "stdout",
          "text": [
            "Collecting keras-tuner\n",
            "  Downloading keras_tuner-1.1.2-py3-none-any.whl (133 kB)\n",
            "\u001b[?25l\r\u001b[K     |██▌                             | 10 kB 23.3 MB/s eta 0:00:01\r\u001b[K     |█████                           | 20 kB 30.1 MB/s eta 0:00:01\r\u001b[K     |███████▍                        | 30 kB 36.5 MB/s eta 0:00:01\r\u001b[K     |█████████▉                      | 40 kB 41.2 MB/s eta 0:00:01\r\u001b[K     |████████████▎                   | 51 kB 34.9 MB/s eta 0:00:01\r\u001b[K     |██████████████▊                 | 61 kB 37.2 MB/s eta 0:00:01\r\u001b[K     |█████████████████▏              | 71 kB 28.9 MB/s eta 0:00:01\r\u001b[K     |███████████████████▋            | 81 kB 29.0 MB/s eta 0:00:01\r\u001b[K     |██████████████████████          | 92 kB 31.3 MB/s eta 0:00:01\r\u001b[K     |████████████████████████▌       | 102 kB 32.4 MB/s eta 0:00:01\r\u001b[K     |███████████████████████████     | 112 kB 32.4 MB/s eta 0:00:01\r\u001b[K     |█████████████████████████████▍  | 122 kB 32.4 MB/s eta 0:00:01\r\u001b[K     |███████████████████████████████▉| 133 kB 32.4 MB/s eta 0:00:01\r\u001b[K     |████████████████████████████████| 133 kB 32.4 MB/s \n",
            "\u001b[?25hCollecting kt-legacy\n",
            "  Downloading kt_legacy-1.0.4-py3-none-any.whl (9.6 kB)\n",
            "Requirement already satisfied: ipython in /usr/local/lib/python3.7/dist-packages (from keras-tuner) (5.5.0)\n",
            "Requirement already satisfied: requests in /usr/local/lib/python3.7/dist-packages (from keras-tuner) (2.23.0)\n",
            "Requirement already satisfied: packaging in /usr/local/lib/python3.7/dist-packages (from keras-tuner) (21.3)\n",
            "Requirement already satisfied: tensorboard in /usr/local/lib/python3.7/dist-packages (from keras-tuner) (2.8.0)\n",
            "Requirement already satisfied: numpy in /usr/local/lib/python3.7/dist-packages (from keras-tuner) (1.21.5)\n",
            "Requirement already satisfied: decorator in /usr/local/lib/python3.7/dist-packages (from ipython->keras-tuner) (4.4.2)\n",
            "Requirement already satisfied: pickleshare in /usr/local/lib/python3.7/dist-packages (from ipython->keras-tuner) (0.7.5)\n",
            "Requirement already satisfied: traitlets>=4.2 in /usr/local/lib/python3.7/dist-packages (from ipython->keras-tuner) (5.1.1)\n",
            "Requirement already satisfied: pygments in /usr/local/lib/python3.7/dist-packages (from ipython->keras-tuner) (2.6.1)\n",
            "Requirement already satisfied: pexpect in /usr/local/lib/python3.7/dist-packages (from ipython->keras-tuner) (4.8.0)\n",
            "Requirement already satisfied: prompt-toolkit<2.0.0,>=1.0.4 in /usr/local/lib/python3.7/dist-packages (from ipython->keras-tuner) (1.0.18)\n",
            "Requirement already satisfied: simplegeneric>0.8 in /usr/local/lib/python3.7/dist-packages (from ipython->keras-tuner) (0.8.1)\n",
            "Requirement already satisfied: setuptools>=18.5 in /usr/local/lib/python3.7/dist-packages (from ipython->keras-tuner) (57.4.0)\n",
            "Requirement already satisfied: wcwidth in /usr/local/lib/python3.7/dist-packages (from prompt-toolkit<2.0.0,>=1.0.4->ipython->keras-tuner) (0.2.5)\n",
            "Requirement already satisfied: six>=1.9.0 in /usr/local/lib/python3.7/dist-packages (from prompt-toolkit<2.0.0,>=1.0.4->ipython->keras-tuner) (1.15.0)\n",
            "Requirement already satisfied: pyparsing!=3.0.5,>=2.0.2 in /usr/local/lib/python3.7/dist-packages (from packaging->keras-tuner) (3.0.8)\n",
            "Requirement already satisfied: ptyprocess>=0.5 in /usr/local/lib/python3.7/dist-packages (from pexpect->ipython->keras-tuner) (0.7.0)\n",
            "Requirement already satisfied: chardet<4,>=3.0.2 in /usr/local/lib/python3.7/dist-packages (from requests->keras-tuner) (3.0.4)\n",
            "Requirement already satisfied: urllib3!=1.25.0,!=1.25.1,<1.26,>=1.21.1 in /usr/local/lib/python3.7/dist-packages (from requests->keras-tuner) (1.24.3)\n",
            "Requirement already satisfied: certifi>=2017.4.17 in /usr/local/lib/python3.7/dist-packages (from requests->keras-tuner) (2021.10.8)\n",
            "Requirement already satisfied: idna<3,>=2.5 in /usr/local/lib/python3.7/dist-packages (from requests->keras-tuner) (2.10)\n",
            "Requirement already satisfied: tensorboard-data-server<0.7.0,>=0.6.0 in /usr/local/lib/python3.7/dist-packages (from tensorboard->keras-tuner) (0.6.1)\n",
            "Requirement already satisfied: wheel>=0.26 in /usr/local/lib/python3.7/dist-packages (from tensorboard->keras-tuner) (0.37.1)\n",
            "Requirement already satisfied: google-auth<3,>=1.6.3 in /usr/local/lib/python3.7/dist-packages (from tensorboard->keras-tuner) (1.35.0)\n",
            "Requirement already satisfied: protobuf>=3.6.0 in /usr/local/lib/python3.7/dist-packages (from tensorboard->keras-tuner) (3.17.3)\n",
            "Requirement already satisfied: tensorboard-plugin-wit>=1.6.0 in /usr/local/lib/python3.7/dist-packages (from tensorboard->keras-tuner) (1.8.1)\n",
            "Requirement already satisfied: google-auth-oauthlib<0.5,>=0.4.1 in /usr/local/lib/python3.7/dist-packages (from tensorboard->keras-tuner) (0.4.6)\n",
            "Requirement already satisfied: markdown>=2.6.8 in /usr/local/lib/python3.7/dist-packages (from tensorboard->keras-tuner) (3.3.6)\n",
            "Requirement already satisfied: werkzeug>=0.11.15 in /usr/local/lib/python3.7/dist-packages (from tensorboard->keras-tuner) (1.0.1)\n",
            "Requirement already satisfied: grpcio>=1.24.3 in /usr/local/lib/python3.7/dist-packages (from tensorboard->keras-tuner) (1.44.0)\n",
            "Requirement already satisfied: absl-py>=0.4 in /usr/local/lib/python3.7/dist-packages (from tensorboard->keras-tuner) (1.0.0)\n",
            "Requirement already satisfied: rsa<5,>=3.1.4 in /usr/local/lib/python3.7/dist-packages (from google-auth<3,>=1.6.3->tensorboard->keras-tuner) (4.8)\n",
            "Requirement already satisfied: pyasn1-modules>=0.2.1 in /usr/local/lib/python3.7/dist-packages (from google-auth<3,>=1.6.3->tensorboard->keras-tuner) (0.2.8)\n",
            "Requirement already satisfied: cachetools<5.0,>=2.0.0 in /usr/local/lib/python3.7/dist-packages (from google-auth<3,>=1.6.3->tensorboard->keras-tuner) (4.2.4)\n",
            "Requirement already satisfied: requests-oauthlib>=0.7.0 in /usr/local/lib/python3.7/dist-packages (from google-auth-oauthlib<0.5,>=0.4.1->tensorboard->keras-tuner) (1.3.1)\n",
            "Requirement already satisfied: importlib-metadata>=4.4 in /usr/local/lib/python3.7/dist-packages (from markdown>=2.6.8->tensorboard->keras-tuner) (4.11.3)\n",
            "Requirement already satisfied: zipp>=0.5 in /usr/local/lib/python3.7/dist-packages (from importlib-metadata>=4.4->markdown>=2.6.8->tensorboard->keras-tuner) (3.8.0)\n",
            "Requirement already satisfied: typing-extensions>=3.6.4 in /usr/local/lib/python3.7/dist-packages (from importlib-metadata>=4.4->markdown>=2.6.8->tensorboard->keras-tuner) (4.1.1)\n",
            "Requirement already satisfied: pyasn1<0.5.0,>=0.4.6 in /usr/local/lib/python3.7/dist-packages (from pyasn1-modules>=0.2.1->google-auth<3,>=1.6.3->tensorboard->keras-tuner) (0.4.8)\n",
            "Requirement already satisfied: oauthlib>=3.0.0 in /usr/local/lib/python3.7/dist-packages (from requests-oauthlib>=0.7.0->google-auth-oauthlib<0.5,>=0.4.1->tensorboard->keras-tuner) (3.2.0)\n",
            "Installing collected packages: kt-legacy, keras-tuner\n",
            "Successfully installed keras-tuner-1.1.2 kt-legacy-1.0.4\n"
          ]
        }
      ],
      "source": [
        "!pip install keras-tuner"
      ]
    },
    {
      "cell_type": "code",
      "execution_count": 1,
      "metadata": {
        "id": "10irgd5fQsTQ"
      },
      "outputs": [],
      "source": [
        "from data_creation import DataSelection\n",
        "from prediction_LSTM import SolarLSTM\n",
        "import pickle"
      ]
    },
    {
      "cell_type": "code",
      "execution_count": 3,
      "metadata": {
        "colab": {
          "base_uri": "https://localhost:8080/"
        },
        "id": "Zh4G0bs9Q1B8",
        "outputId": "bdd0a9e2-82fd-4301-94a1-e2365e738a2a"
      },
      "outputs": [
        {
          "output_type": "stream",
          "name": "stdout",
          "text": [
            "Num GB used in data array: 0.0\n",
            "Num GB used in data array: 0.0019025802612304688\n",
            "Num GB used in data array: 0.0019025802612304688\n",
            "Num GB used in data array: 0.00268399715423584\n",
            "Num GB used in data array: 0.00268399715423584\n",
            "Num GB used in data array: 0.006217360496520996\n",
            "Num GB used in data array: 0.006217360496520996\n",
            "Num GB used in data array: 0.011721253395080566\n",
            "Num GB used in data array: 0.011721253395080566\n",
            "Num GB used in data array: 0.013895630836486816\n",
            "Num GB used in data array: 0.013895630836486816\n",
            "Num GB used in data array: 0.015526413917541504\n",
            "Num GB used in data array: 0.015526413917541504\n",
            "Num GB used in data array: 0.015526413917541504\n",
            "Num GB used in data array: 0.016783475875854492\n",
            "Num GB used in data array: 0.016783475875854492\n",
            "Num GB used in data array: 0.02300083637237549\n",
            "Num GB used in data array: 0.02300083637237549\n",
            "Num GB used in data array: 0.023374557495117188\n",
            "Num GB used in data array: 0.023374557495117188\n",
            "Num GB used in data array: 0.026805996894836426\n",
            "Num GB used in data array: 0.026805996894836426\n",
            "Num GB used in data array: 0.028708577156066895\n",
            "Num GB used in data array: 0.028708577156066895\n",
            "Num GB used in data array: 0.040463805198669434\n",
            "Num GB used in data array: 0.040463805198669434\n",
            "Num GB used in data array: 0.0423663854598999\n",
            "Num GB used in data array: 0.0423663854598999\n",
            "Num GB used in data array: 0.0478363037109375\n",
            "Num GB used in data array: 0.0478363037109375\n",
            "Num GB used in data array: 0.0478363037109375\n",
            "Num GB used in data array: 0.056092143058776855\n",
            "Num GB used in data array: 0.056092143058776855\n",
            "Num GB used in data array: 0.05714535713195801\n",
            "Num GB used in data array: 0.05714535713195801\n",
            "Num GB used in data array: 0.10426819324493408\n",
            "Num GB used in data array: 0.10426819324493408\n",
            "Num GB used in data array: 0.10912656784057617\n",
            "Num GB used in data array: 0.10912656784057617\n",
            "Num GB used in data array: 0.10950028896331787\n",
            "Num GB used in data array: 0.10950028896331787\n",
            "Num GB used in data array: 0.10970413684844971\n",
            "Num GB used in data array: 0.10970413684844971\n",
            "Num GB used in data array: 0.11109709739685059\n",
            "Num GB used in data array: 0.11109709739685059\n",
            "Num GB used in data array: 0.11299967765808105\n",
            "Num GB used in data array: 0.11299967765808105\n",
            "Num GB used in data array: 0.11514008045196533\n",
            "Num GB used in data array: 0.11514008045196533\n",
            "Num GB used in data array: 0.126725435256958\n",
            "Num GB used in data array: 0.126725435256958\n",
            "Num GB used in data array: 0.12743890285491943\n",
            "Num GB used in data array: 0.12743890285491943\n",
            "Num GB used in data array: 0.1293414831161499\n",
            "Num GB used in data array: 0.1293414831161499\n",
            "Num GB used in data array: 0.13124406337738037\n",
            "Num GB used in data array: 0.13124406337738037\n",
            "Num GB used in data array: 0.13348639011383057\n",
            "Num GB used in data array: 0.13348639011383057\n",
            "Num GB used in data array: 0.13538897037506104\n",
            "Num GB used in data array: 0.13538897037506104\n",
            "Num GB used in data array: 0.1372915506362915\n",
            "Num GB used in data array: 0.1372915506362915\n",
            "Num GB used in data array: 0.13919413089752197\n",
            "Num GB used in data array: 0.13919413089752197\n",
            "Num GB used in data array: 0.15376925468444824\n",
            "Num GB used in data array: 0.15376925468444824\n",
            "Num GB used in data array: 0.1556718349456787\n",
            "Num GB used in data array: 0.1556718349456787\n",
            "Num GB used in data array: 0.15689492225646973\n",
            "Num GB used in data array: 0.15689492225646973\n",
            "Num GB used in data array: 0.1574385166168213\n",
            "Num GB used in data array: 0.1574385166168213\n",
            "Num GB used in data array: 0.16341805458068848\n",
            "Num GB used in data array: 0.16341805458068848\n",
            "Num GB used in data array: 0.16630589962005615\n",
            "Num GB used in data array: 0.16630589962005615\n",
            "Num GB used in data array: 0.1675969362258911\n",
            "Num GB used in data array: 0.1675969362258911\n",
            "Num GB used in data array: 0.16783475875854492\n",
            "Num GB used in data array: 0.16783475875854492\n",
            "Num GB used in data array: 0.16783475875854492\n",
            "Num GB used in data array: 0.16783475875854492\n",
            "Num GB used in data array: 0.16783475875854492\n",
            "Num GB used in data array: 0.16783475875854492\n",
            "Num GB used in data array: 0.16783475875854492\n",
            "Num GB used in data array: 0.16783475875854492\n",
            "Num GB used in data array: 0.16783475875854492\n",
            "Num GB used in data array: 0.16783475875854492\n",
            "Num GB used in data array: 0.16783475875854492\n",
            "Num GB used in data array: 0.16783475875854492\n",
            "Num GB used in data array: 0.16783475875854492\n",
            "Num GB used in data array: 0.16783475875854492\n",
            "Num GB used in data array: 0.16783475875854492\n",
            "Num GB used in data array: 0.16783475875854492\n",
            "Num GB used in data array: 0.16783475875854492\n",
            "Num GB used in data array: 0.16783475875854492\n",
            "Num GB used in data array: 0.16783475875854492\n",
            "Num GB used in data array: 0.16783475875854492\n",
            "Num GB used in data array: 0.16783475875854492\n",
            "Num GB used in data array: 0.16783475875854492\n",
            "Num GB used in data array: 0.16783475875854492\n",
            "Num GB used in data array: 0.16783475875854492\n",
            "Num GB used in data array: 0.16783475875854492\n",
            "Num GB used in data array: 0.16783475875854492\n",
            "Num GB used in data array: 0.16783475875854492\n",
            "Num GB used in data array: 0.16783475875854492\n",
            "Num GB used in data array: 0.16783475875854492\n",
            "Num GB used in data array: 0.16783475875854492\n",
            "Num GB used in data array: 0.16783475875854492\n",
            "Num GB used in data array: 0.16783475875854492\n",
            "Num GB used in data array: 0.16783475875854492\n",
            "Num GB used in data array: 0.16783475875854492\n",
            "Num GB used in data array: 0.16783475875854492\n",
            "Num GB used in data array: 0.16783475875854492\n",
            "Num GB used in data array: 0.16783475875854492\n",
            "Num GB used in data array: 0.16783475875854492\n",
            "Num GB used in data array: 0.16783475875854492\n",
            "Num GB used in data array: 0.16783475875854492\n",
            "Num GB used in data array: 0.16783475875854492\n",
            "Num GB used in data array: 0.1775515079498291\n",
            "Num GB used in data array: 0.1775515079498291\n",
            "Num GB used in data array: 0.17795920372009277\n",
            "Num GB used in data array: 0.17795920372009277\n",
            "Num GB used in data array: 0.17795920372009277\n",
            "Num GB used in data array: 0.18906891345977783\n",
            "Num GB used in data array: 0.18906891345977783\n",
            "Num GB used in data array: 0.18906891345977783\n",
            "Num GB used in data array: 0.19212663173675537\n",
            "Num GB used in data array: 0.19212663173675537\n",
            "Num GB used in data array: 0.20248889923095703\n",
            "Num GB used in data array: 0.20248889923095703\n",
            "Num GB used in data array: 0.21808326244354248\n",
            "Num GB used in data array: 0.21808326244354248\n",
            "Num GB used in data array: 0.2619445323944092\n",
            "Num GB used in data array: 0.2619445323944092\n",
            "Num GB used in data array: 0.3016948699951172\n",
            "Num GB used in data array: 0.3016948699951172\n",
            "Num GB used in data array: 0.3101545572280884\n",
            "Num GB used in data array: 0.3101545572280884\n",
            "Num GB used in data array: 0.3108680248260498\n",
            "Num GB used in data array: 0.3108680248260498\n",
            "Num GB used in data array: 0.3113776445388794\n",
            "Num GB used in data array: 0.3113776445388794\n",
            "Num GB used in data array: 0.3114795684814453\n",
            "Num GB used in data array: 0.3114795684814453\n",
            "Num GB used in data array: 0.3114795684814453\n",
            "Num GB used in data array: 0.33033549785614014\n",
            "Num GB used in data array: 0.33033549785614014\n",
            "Num GB used in data array: 0.3321361541748047\n",
            "Num GB used in data array: 0.3321361541748047\n",
            "Num GB used in data array: 0.3465414047241211\n",
            "Num GB used in data array: 0.3465414047241211\n",
            "Num GB used in data array: 0.34745872020721436\n",
            "Num GB used in data array: 0.34745872020721436\n",
            "Num GB used in data array: 0.347934365272522\n",
            "Num GB used in data array: 0.347934365272522\n",
            "Num GB used in data array: 0.347934365272522\n",
            "Num GB used in data array: 0.347934365272522\n",
            "Num GB used in data array: 0.35303056240081787\n",
            "Num GB used in data array: 0.35303056240081787\n",
            "Num GB used in data array: 0.36549925804138184\n",
            "Num GB used in data array: 0.36549925804138184\n",
            "Num GB used in data array: 0.36549925804138184\n",
            "Num GB used in data array: 0.36549925804138184\n",
            "Num GB used in data array: 0.36549925804138184\n",
            "Num GB used in data array: 0.36549925804138184\n",
            "Num GB used in data array: 0.36549925804138184\n",
            "Num GB used in data array: 0.36549925804138184\n",
            "Num GB used in data array: 0.36549925804138184\n",
            "Num GB used in data array: 0.36549925804138184\n",
            "Num GB used in data array: 0.36549925804138184\n",
            "Num GB used in data array: 0.36549925804138184\n",
            "Num GB used in data array: 0.36549925804138184\n",
            "Num GB used in data array: 0.36549925804138184\n",
            "Num GB used in data array: 0.36549925804138184\n",
            "Num GB used in data array: 0.36549925804138184\n",
            "Num GB used in data array: 0.36549925804138184\n",
            "Num GB used in data array: 0.36549925804138184\n",
            "Num GB used in data array: 0.39842069149017334\n",
            "Num GB used in data array: 0.39842069149017334\n",
            "Num GB used in data array: 0.403822660446167\n",
            "Num GB used in data array: 0.403822660446167\n",
            "Num GB used in data array: 0.403822660446167\n",
            "Num GB used in data array: 0.4352492094039917\n",
            "Num GB used in data array: 0.4352492094039917\n",
            "Num GB used in data array: 0.4650449752807617\n",
            "Num GB used in data array: 0.4650449752807617\n",
            "Num GB used in data array: 0.4650449752807617\n",
            "Num GB used in data array: 0.4987478256225586\n",
            "Num GB used in data array: 0.4987478256225586\n",
            "Num GB used in data array: 0.5766516923904419\n",
            "Num GB used in data array: 0.5766516923904419\n",
            "Num GB used in data array: 0.5766516923904419\n",
            "Num GB used in data array: 0.621294379234314\n",
            "Num GB used in data array: 0.621294379234314\n",
            "Num GB used in data array: 0.6432759761810303\n",
            "Num GB used in data array: 0.6432759761810303\n",
            "Num GB used in data array: 0.6685531139373779\n",
            "Num GB used in data array: 0.6685531139373779\n",
            "Num GB used in data array: 0.6694024801254272\n",
            "Num GB used in data array: 0.6694024801254272\n",
            "Num GB used in data array: 0.6738871335983276\n",
            "Num GB used in data array: 0.6738871335983276\n",
            "Num GB used in data array: 0.6750762462615967\n",
            "Num GB used in data array: 0.6750762462615967\n",
            "Num GB used in data array: 0.6940340995788574\n",
            "Num GB used in data array: 0.6940340995788574\n",
            "Num GB used in data array: 0.7079976797103882\n",
            "Num GB used in data array: 0.7079976797103882\n",
            "Num GB used in data array: 0.7079976797103882\n",
            "Num GB used in data array: 0.7092207670211792\n",
            "Num GB used in data array: 0.7092207670211792\n",
            "Num GB used in data array: 0.7213157415390015\n",
            "Num GB used in data array: 0.7213157415390015\n",
            "Num GB used in data array: 0.7213157415390015\n",
            "Num GB used in data array: 0.7664680480957031\n",
            "Num GB used in data array: 0.7664680480957031\n",
            "Num GB used in data array: 0.7794803380966187\n",
            "Num GB used in data array: 0.7794803380966187\n",
            "Num GB used in data array: 0.8463424444198608\n",
            "Num GB used in data array: 0.8463424444198608\n",
            "Num GB used in data array: 0.8566027879714966\n",
            "Num GB used in data array: 0.8566027879714966\n",
            "Num GB used in data array: 0.8566027879714966\n",
            "Num GB used in data array: 0.8568745851516724\n",
            "Num GB used in data array: 0.8568745851516724\n",
            "Num GB used in data array: 0.8568745851516724\n",
            "Num GB used in data array: 0.8572483062744141\n",
            "Num GB used in data array: 0.8572483062744141\n",
            "Num GB used in data array: 0.8572483062744141\n",
            "Num GB used in data array: 0.8576220273971558\n",
            "Num GB used in data array: 0.8576220273971558\n",
            "Num GB used in data array: 0.8591848611831665\n",
            "Num GB used in data array: 0.8591848611831665\n",
            "Num GB used in data array: 0.8591848611831665\n",
            "Num GB used in data array: 0.8591848611831665\n",
            "Num GB used in data array: 0.8591848611831665\n",
            "Num GB used in data array: 0.8591848611831665\n",
            "Num GB used in data array: 0.8591848611831665\n",
            "Num GB used in data array: 0.8591848611831665\n",
            "Num GB used in data array: 0.8602380752563477\n",
            "Num GB used in data array: 0.8602380752563477\n",
            "Num GB used in data array: 0.8607137203216553\n",
            "Num GB used in data array: 0.8607137203216553\n",
            "Num GB used in data array: 0.8607137203216553\n",
            "Num GB used in data array: 0.8607137203216553\n",
            "Num GB used in data array: 0.8607137203216553\n",
            "Num GB used in data array: 0.8607137203216553\n",
            "Num GB used in data array: 0.8607137203216553\n",
            "Num GB used in data array: 0.8607137203216553\n",
            "Num GB used in data array: 0.8607137203216553\n",
            "Num GB used in data array: 0.8628201484680176\n",
            "Num GB used in data array: 0.8628201484680176\n",
            "Num GB used in data array: 0.8714157342910767\n",
            "Num GB used in data array: 0.8714157342910767\n",
            "Num GB used in data array: 0.8714157342910767\n",
            "Num GB used in data array: 0.8714157342910767\n",
            "Num GB used in data array: 0.8714157342910767\n",
            "Num GB used in data array: 0.8714157342910767\n",
            "Num GB used in data array: 0.8714157342910767\n",
            "Num GB used in data array: 0.8714157342910767\n",
            "Num GB used in data array: 0.8714157342910767\n",
            "Num GB used in data array: 0.8714157342910767\n",
            "Num GB used in data array: 0.8714157342910767\n",
            "Num GB used in data array: 0.8714157342910767\n",
            "Num GB used in data array: 0.8714157342910767\n",
            "Num GB used in data array: 0.8714157342910767\n",
            "Num GB used in data array: 0.8714157342910767\n",
            "Num GB used in data array: 0.8714157342910767\n",
            "Num GB used in data array: 0.8714157342910767\n",
            "Num GB used in data array: 0.8714157342910767\n",
            "Num GB used in data array: 0.8714157342910767\n",
            "Num GB used in data array: 0.8714157342910767\n",
            "Num GB used in data array: 0.8714157342910767\n",
            "Num GB used in data array: 0.8714157342910767\n",
            "Num GB used in data array: 0.8714157342910767\n",
            "Num GB used in data array: 0.8714157342910767\n",
            "Num GB used in data array: 0.8714157342910767\n",
            "Num GB used in data array: 0.8714157342910767\n",
            "Num GB used in data array: 0.8714157342910767\n",
            "Num GB used in data array: 0.8714157342910767\n",
            "Num GB used in data array: 0.8714157342910767\n",
            "Num GB used in data array: 0.8714157342910767\n",
            "Num GB used in data array: 0.8714157342910767\n",
            "Num GB used in data array: 0.8714157342910767\n",
            "Num GB used in data array: 0.8714157342910767\n",
            "Num GB used in data array: 0.8714157342910767\n",
            "Num GB used in data array: 0.8714157342910767\n",
            "Num GB used in data array: 0.8714157342910767\n",
            "Num GB used in data array: 0.8714157342910767\n",
            "Num GB used in data array: 0.8714157342910767\n",
            "Num GB used in data array: 0.8714157342910767\n",
            "Num GB used in data array: 0.8714157342910767\n",
            "Num GB used in data array: 0.8714157342910767\n",
            "Num GB used in data array: 0.8714157342910767\n",
            "Num GB used in data array: 0.8714157342910767\n",
            "Num GB used in data array: 0.8714157342910767\n",
            "Num GB used in data array: 0.8714157342910767\n",
            "Num GB used in data array: 0.8714157342910767\n",
            "Num GB used in data array: 0.8714157342910767\n",
            "Num GB used in data array: 0.8714157342910767\n",
            "Num GB used in data array: 0.8714157342910767\n",
            "Num GB used in data array: 0.8714157342910767\n",
            "Num GB used in data array: 0.8714157342910767\n",
            "Num GB used in data array: 0.8714157342910767\n",
            "Num GB used in data array: 0.8714157342910767\n",
            "Num GB used in data array: 0.8714157342910767\n",
            "Num GB used in data array: 0.8714157342910767\n",
            "Num GB used in data array: 0.8714157342910767\n",
            "Num GB used in data array: 0.8714157342910767\n",
            "Num GB used in data array: 0.8714157342910767\n",
            "Num GB used in data array: 0.8714157342910767\n",
            "Num GB used in data array: 0.8714157342910767\n",
            "Num GB used in data array: 0.8714157342910767\n",
            "Num GB used in data array: 0.8714157342910767\n",
            "Num GB used in data array: 0.8714157342910767\n",
            "Num GB used in data array: 0.8714157342910767\n",
            "Num GB used in data array: 0.8714157342910767\n",
            "Num GB used in data array: 0.8714157342910767\n",
            "Num GB used in data array: 0.8714157342910767\n",
            "Num GB used in data array: 0.8714157342910767\n",
            "Num GB used in data array: 0.8714157342910767\n",
            "Num GB used in data array: 0.8714157342910767\n",
            "Num GB used in data array: 0.8714157342910767\n",
            "Num GB used in data array: 0.8714157342910767\n",
            "Num GB used in data array: 0.8714157342910767\n",
            "Num GB used in data array: 0.8714157342910767\n",
            "Num GB used in data array: 0.8714157342910767\n",
            "Num GB used in data array: 0.8714157342910767\n",
            "Num GB used in data array: 0.8714157342910767\n",
            "Num GB used in data array: 0.8714157342910767\n",
            "Num GB used in data array: 0.8714157342910767\n",
            "Num GB used in data array: 0.8714157342910767\n",
            "Num GB used in data array: 0.8714157342910767\n",
            "Num GB used in data array: 0.8714157342910767\n",
            "Num GB used in data array: 0.8714157342910767\n",
            "Num GB used in data array: 0.8714157342910767\n",
            "Num GB used in data array: 0.8714157342910767\n",
            "Num GB used in data array: 0.8714157342910767\n",
            "Num GB used in data array: 0.8714157342910767\n",
            "Num GB used in data array: 0.8714157342910767\n",
            "Num GB used in data array: 0.8714157342910767\n",
            "Num GB used in data array: 0.8714157342910767\n",
            "Num GB used in data array: 0.8714157342910767\n",
            "Num GB used in data array: 0.8714157342910767\n",
            "Num GB used in data array: 0.8714157342910767\n",
            "Num GB used in data array: 0.8714157342910767\n",
            "Num GB used in data array: 0.8714157342910767\n",
            "Num GB used in data array: 0.8714157342910767\n",
            "Num GB used in data array: 0.8714157342910767\n",
            "Num GB used in data array: 0.8714157342910767\n",
            "Num GB used in data array: 0.8714157342910767\n",
            "Num GB used in data array: 0.8714157342910767\n",
            "Num GB used in data array: 0.8714157342910767\n",
            "Num GB used in data array: 0.8714157342910767\n",
            "Num GB used in data array: 0.8714157342910767\n",
            "Num GB used in data array: 0.8714157342910767\n",
            "Num GB used in data array: 0.8714157342910767\n",
            "Num GB used in data array: 0.8714157342910767\n",
            "Num GB used in data array: 0.8714157342910767\n",
            "Num GB used in data array: 0.8714157342910767\n",
            "Num GB used in data array: 0.8714157342910767\n",
            "Num GB used in data array: 0.8714157342910767\n",
            "Num GB used in data array: 0.8714157342910767\n",
            "Num GB used in data array: 0.8714157342910767\n",
            "Num GB used in data array: 0.8714157342910767\n",
            "Num GB used in data array: 0.8714157342910767\n",
            "Num GB used in data array: 0.8714157342910767\n",
            "Num GB used in data array: 0.8714157342910767\n",
            "Num GB used in data array: 0.8714157342910767\n",
            "Num GB used in data array: 0.8714157342910767\n",
            "Num GB used in data array: 0.8714157342910767\n",
            "Num GB used in data array: 0.8714157342910767\n",
            "Num GB used in data array: 0.8714157342910767\n",
            "Num GB used in data array: 0.8714157342910767\n",
            "Num GB used in data array: 0.8714157342910767\n",
            "Num GB used in data array: 0.8714157342910767\n",
            "Num GB used in data array: 0.8714157342910767\n",
            "Num GB used in data array: 0.8714157342910767\n",
            "Num GB used in data array: 0.8714157342910767\n",
            "Num GB used in data array: 0.8714157342910767\n",
            "Num GB used in data array: 0.8714157342910767\n",
            "Num GB used in data array: 0.8714157342910767\n",
            "Num GB used in data array: 0.8714157342910767\n",
            "Num GB used in data array: 0.8714157342910767\n",
            "Num GB used in data array: 0.8714157342910767\n"
          ]
        },
        {
          "output_type": "execute_result",
          "data": {
            "text/plain": [
              "<data_creation.DataSelection at 0x7f3765820190>"
            ]
          },
          "metadata": {},
          "execution_count": 3
        }
      ],
      "source": [
        "with open(\"/content/all_data.pkl\", \"rb\") as file:\n",
        "    data = pickle.load(file)\n",
        "\n",
        "DataSelection(data, 2014, \"./\")\n",
        "# DataSelection(data, 2015, \"./\")"
      ]
    },
    {
      "cell_type": "code",
      "source": [
        "with open(\"norm_scaler.pkl\", \"rb\") as norm_file:\n",
        "    normalization = pickle.load(norm_file)\n",
        "\n",
        "with open(\"stand_scaler.pkl\", \"rb\") as stand_file:\n",
        "    standard = pickle.load(stand_file)\n",
        "\n",
        "DataSelection(data, 2015,\"./\", norm_scaler=normalization, stand_scaler=standard)"
      ],
      "metadata": {
        "colab": {
          "base_uri": "https://localhost:8080/"
        },
        "id": "Z0Mm90v8_rMd",
        "outputId": "97447ce3-17fa-4013-a539-802500fd88c4"
      },
      "execution_count": 4,
      "outputs": [
        {
          "output_type": "stream",
          "name": "stdout",
          "text": [
            "Num GB used in data array: 0.0\n",
            "Num GB used in data array: 0.0019025802612304688\n",
            "Num GB used in data array: 0.0019025802612304688\n",
            "Num GB used in data array: 0.0031256675720214844\n",
            "Num GB used in data array: 0.0031256675720214844\n",
            "Num GB used in data array: 0.010973811149597168\n",
            "Num GB used in data array: 0.010973811149597168\n",
            "Num GB used in data array: 0.017496943473815918\n",
            "Num GB used in data array: 0.017496943473815918\n",
            "Num GB used in data array: 0.02415597438812256\n",
            "Num GB used in data array: 0.02415597438812256\n",
            "Num GB used in data array: 0.03142654895782471\n",
            "Num GB used in data array: 0.03142654895782471\n",
            "Num GB used in data array: 0.033329129219055176\n",
            "Num GB used in data array: 0.033329129219055176\n",
            "Num GB used in data array: 0.035231709480285645\n",
            "Num GB used in data array: 0.035231709480285645\n",
            "Num GB used in data array: 0.04630744457244873\n",
            "Num GB used in data array: 0.04630744457244873\n",
            "Num GB used in data array: 0.04668116569519043\n",
            "Num GB used in data array: 0.04668116569519043\n",
            "Num GB used in data array: 0.04759848117828369\n",
            "Num GB used in data array: 0.04759848117828369\n",
            "Num GB used in data array: 0.04759848117828369\n",
            "Num GB used in data array: 0.05874216556549072\n",
            "Num GB used in data array: 0.05874216556549072\n",
            "Num GB used in data array: 0.06064474582672119\n",
            "Num GB used in data array: 0.06064474582672119\n",
            "Num GB used in data array: 0.06152808666229248\n",
            "Num GB used in data array: 0.06152808666229248\n",
            "Num GB used in data array: 0.06152808666229248\n",
            "Num GB used in data array: 0.07073521614074707\n",
            "Num GB used in data array: 0.07073521614074707\n",
            "Num GB used in data array: 0.07178843021392822\n",
            "Num GB used in data array: 0.07178843021392822\n",
            "Num GB used in data array: 0.11503815650939941\n",
            "Num GB used in data array: 0.11503815650939941\n",
            "Num GB used in data array: 0.12271642684936523\n",
            "Num GB used in data array: 0.12271642684936523\n",
            "Num GB used in data array: 0.12614786624908447\n",
            "Num GB used in data array: 0.12614786624908447\n",
            "Num GB used in data array: 0.1263517141342163\n",
            "Num GB used in data array: 0.1263517141342163\n",
            "Num GB used in data array: 0.1263517141342163\n",
            "Num GB used in data array: 0.12726902961730957\n",
            "Num GB used in data array: 0.12726902961730957\n",
            "Num GB used in data array: 0.12726902961730957\n",
            "Num GB used in data array: 0.12726902961730957\n",
            "Num GB used in data array: 0.12726902961730957\n",
            "Num GB used in data array: 0.12726902961730957\n",
            "Num GB used in data array: 0.12726902961730957\n",
            "Num GB used in data array: 0.12726902961730957\n",
            "Num GB used in data array: 0.12726902961730957\n",
            "Num GB used in data array: 0.12726902961730957\n",
            "Num GB used in data array: 0.12726902961730957\n",
            "Num GB used in data array: 0.12726902961730957\n",
            "Num GB used in data array: 0.12726902961730957\n",
            "Num GB used in data array: 0.12726902961730957\n",
            "Num GB used in data array: 0.12726902961730957\n",
            "Num GB used in data array: 0.12726902961730957\n",
            "Num GB used in data array: 0.12726902961730957\n",
            "Num GB used in data array: 0.12726902961730957\n",
            "Num GB used in data array: 0.12726902961730957\n",
            "Num GB used in data array: 0.12726902961730957\n",
            "Num GB used in data array: 0.12726902961730957\n",
            "Num GB used in data array: 0.12726902961730957\n",
            "Num GB used in data array: 0.12726902961730957\n",
            "Num GB used in data array: 0.12726902961730957\n",
            "Num GB used in data array: 0.12726902961730957\n",
            "Num GB used in data array: 0.12726902961730957\n",
            "Num GB used in data array: 0.12726902961730957\n",
            "Num GB used in data array: 0.12726902961730957\n",
            "Num GB used in data array: 0.1277446746826172\n",
            "Num GB used in data array: 0.1277446746826172\n",
            "Num GB used in data array: 0.1277446746826172\n",
            "Num GB used in data array: 0.1277446746826172\n",
            "Num GB used in data array: 0.1277446746826172\n",
            "Num GB used in data array: 0.1277446746826172\n",
            "Num GB used in data array: 0.1277446746826172\n",
            "Num GB used in data array: 0.1277446746826172\n",
            "Num GB used in data array: 0.1277446746826172\n",
            "Num GB used in data array: 0.1277446746826172\n",
            "Num GB used in data array: 0.1277446746826172\n",
            "Num GB used in data array: 0.1277446746826172\n",
            "Num GB used in data array: 0.1277446746826172\n",
            "Num GB used in data array: 0.1277446746826172\n",
            "Num GB used in data array: 0.1277446746826172\n",
            "Num GB used in data array: 0.1277446746826172\n",
            "Num GB used in data array: 0.1277446746826172\n",
            "Num GB used in data array: 0.1277446746826172\n",
            "Num GB used in data array: 0.1277446746826172\n",
            "Num GB used in data array: 0.1277446746826172\n",
            "Num GB used in data array: 0.1277446746826172\n",
            "Num GB used in data array: 0.1277446746826172\n",
            "Num GB used in data array: 0.1277446746826172\n",
            "Num GB used in data array: 0.1277446746826172\n",
            "Num GB used in data array: 0.1277446746826172\n",
            "Num GB used in data array: 0.1277446746826172\n",
            "Num GB used in data array: 0.1277446746826172\n",
            "Num GB used in data array: 0.1277446746826172\n",
            "Num GB used in data array: 0.1277446746826172\n",
            "Num GB used in data array: 0.1277446746826172\n",
            "Num GB used in data array: 0.1277446746826172\n",
            "Num GB used in data array: 0.13545691967010498\n",
            "Num GB used in data array: 0.13545691967010498\n",
            "Num GB used in data array: 0.13545691967010498\n",
            "Num GB used in data array: 0.13545691967010498\n",
            "Num GB used in data array: 0.1376652717590332\n",
            "Num GB used in data array: 0.1376652717590332\n",
            "Num GB used in data array: 0.1376652717590332\n",
            "Num GB used in data array: 0.1376652717590332\n",
            "Num GB used in data array: 0.14231979846954346\n",
            "Num GB used in data array: 0.14231979846954346\n",
            "Num GB used in data array: 0.1500999927520752\n",
            "Num GB used in data array: 0.1500999927520752\n",
            "Num GB used in data array: 0.17846882343292236\n",
            "Num GB used in data array: 0.17846882343292236\n",
            "Num GB used in data array: 0.23214876651763916\n",
            "Num GB used in data array: 0.23214876651763916\n",
            "Num GB used in data array: 0.2421712875366211\n",
            "Num GB used in data array: 0.2421712875366211\n",
            "Num GB used in data array: 0.24356424808502197\n",
            "Num GB used in data array: 0.24356424808502197\n",
            "Num GB used in data array: 0.24407386779785156\n",
            "Num GB used in data array: 0.24407386779785156\n",
            "Num GB used in data array: 0.24407386779785156\n",
            "Num GB used in data array: 0.24407386779785156\n",
            "Num GB used in data array: 0.2676522731781006\n",
            "Num GB used in data array: 0.2676522731781006\n",
            "Num GB used in data array: 0.2734619379043579\n",
            "Num GB used in data array: 0.2734619379043579\n",
            "Num GB used in data array: 0.29418647289276123\n",
            "Num GB used in data array: 0.29418647289276123\n",
            "Num GB used in data array: 0.30196666717529297\n",
            "Num GB used in data array: 0.30196666717529297\n",
            "Num GB used in data array: 0.3089994192123413\n",
            "Num GB used in data array: 0.3089994192123413\n",
            "Num GB used in data array: 0.3089994192123413\n",
            "Num GB used in data array: 0.3089994192123413\n",
            "Num GB used in data array: 0.31538665294647217\n",
            "Num GB used in data array: 0.31538665294647217\n",
            "Num GB used in data array: 0.3223174810409546\n",
            "Num GB used in data array: 0.3223174810409546\n",
            "Num GB used in data array: 0.3223174810409546\n",
            "Num GB used in data array: 0.3223174810409546\n",
            "Num GB used in data array: 0.3223174810409546\n",
            "Num GB used in data array: 0.3223174810409546\n",
            "Num GB used in data array: 0.3223174810409546\n",
            "Num GB used in data array: 0.3223174810409546\n",
            "Num GB used in data array: 0.3227931261062622\n",
            "Num GB used in data array: 0.3227931261062622\n",
            "Num GB used in data array: 0.323064923286438\n",
            "Num GB used in data array: 0.323064923286438\n",
            "Num GB used in data array: 0.323064923286438\n",
            "Num GB used in data array: 0.323064923286438\n",
            "Num GB used in data array: 0.323064923286438\n",
            "Num GB used in data array: 0.323064923286438\n",
            "Num GB used in data array: 0.323064923286438\n",
            "Num GB used in data array: 0.323064923286438\n",
            "Num GB used in data array: 0.323064923286438\n",
            "Num GB used in data array: 0.323064923286438\n",
            "Num GB used in data array: 0.34745872020721436\n",
            "Num GB used in data array: 0.34745872020721436\n",
            "Num GB used in data array: 0.3492933511734009\n",
            "Num GB used in data array: 0.3492933511734009\n",
            "Num GB used in data array: 0.3492933511734009\n",
            "Num GB used in data array: 0.3666883707046509\n",
            "Num GB used in data array: 0.3666883707046509\n",
            "Num GB used in data array: 0.3875148296356201\n",
            "Num GB used in data array: 0.3875148296356201\n",
            "Num GB used in data array: 0.3875148296356201\n",
            "Num GB used in data array: 0.4326331615447998\n",
            "Num GB used in data array: 0.4326331615447998\n",
            "Num GB used in data array: 0.5067998170852661\n",
            "Num GB used in data array: 0.5067998170852661\n",
            "Num GB used in data array: 0.5067998170852661\n",
            "Num GB used in data array: 0.5571502447128296\n",
            "Num GB used in data array: 0.5571502447128296\n",
            "Num GB used in data array: 0.583990216255188\n",
            "Num GB used in data array: 0.583990216255188\n",
            "Num GB used in data array: 0.5987012386322021\n",
            "Num GB used in data array: 0.5987012386322021\n",
            "Num GB used in data array: 0.5995506048202515\n",
            "Num GB used in data array: 0.5995506048202515\n",
            "Num GB used in data array: 0.6039673089981079\n",
            "Num GB used in data array: 0.6039673089981079\n",
            "Num GB used in data array: 0.6069231033325195\n",
            "Num GB used in data array: 0.6069231033325195\n",
            "Num GB used in data array: 0.6325060129165649\n",
            "Num GB used in data array: 0.6325060129165649\n",
            "Num GB used in data array: 0.6537741422653198\n",
            "Num GB used in data array: 0.6537741422653198\n",
            "Num GB used in data array: 0.6537741422653198\n",
            "Num GB used in data array: 0.6562542915344238\n",
            "Num GB used in data array: 0.6562542915344238\n",
            "Num GB used in data array: 0.6766051054000854\n",
            "Num GB used in data array: 0.6766051054000854\n",
            "Num GB used in data array: 0.6773525476455688\n",
            "Num GB used in data array: 0.6773525476455688\n",
            "Num GB used in data array: 0.7488352060317993\n",
            "Num GB used in data array: 0.7488352060317993\n",
            "Num GB used in data array: 0.7789027690887451\n",
            "Num GB used in data array: 0.7789027690887451\n",
            "Num GB used in data array: 0.8810985088348389\n",
            "Num GB used in data array: 0.8810985088348389\n",
            "Num GB used in data array: 0.8919364213943481\n",
            "Num GB used in data array: 0.8919364213943481\n",
            "Num GB used in data array: 0.8953678607940674\n",
            "Num GB used in data array: 0.8953678607940674\n",
            "Num GB used in data array: 0.9034878015518188\n",
            "Num GB used in data array: 0.9034878015518188\n",
            "Num GB used in data array: 0.9109961986541748\n",
            "Num GB used in data array: 0.9109961986541748\n",
            "Num GB used in data array: 0.9167039394378662\n",
            "Num GB used in data array: 0.9167039394378662\n",
            "Num GB used in data array: 0.9205770492553711\n",
            "Num GB used in data array: 0.9205770492553711\n",
            "Num GB used in data array: 0.9238725900650024\n",
            "Num GB used in data array: 0.9238725900650024\n",
            "Num GB used in data array: 0.9272021055221558\n",
            "Num GB used in data array: 0.9272021055221558\n",
            "Num GB used in data array: 0.9272021055221558\n",
            "Num GB used in data array: 0.9272021055221558\n",
            "Num GB used in data array: 0.9272021055221558\n",
            "Num GB used in data array: 0.9272021055221558\n",
            "Num GB used in data array: 0.9272021055221558\n",
            "Num GB used in data array: 0.9272021055221558\n",
            "Num GB used in data array: 0.9285610914230347\n",
            "Num GB used in data array: 0.9285610914230347\n",
            "Num GB used in data array: 0.9287989139556885\n",
            "Num GB used in data array: 0.9287989139556885\n",
            "Num GB used in data array: 0.9287989139556885\n",
            "Num GB used in data array: 0.9287989139556885\n",
            "Num GB used in data array: 0.9287989139556885\n",
            "Num GB used in data array: 0.9287989139556885\n",
            "Num GB used in data array: 0.9287989139556885\n",
            "Num GB used in data array: 0.9300559759140015\n",
            "Num GB used in data array: 0.9300559759140015\n",
            "Num GB used in data array: 0.9300559759140015\n",
            "Num GB used in data array: 0.9385836124420166\n",
            "Num GB used in data array: 0.9385836124420166\n",
            "Num GB used in data array: 0.9678018093109131\n",
            "Num GB used in data array: 0.9678018093109131\n",
            "Num GB used in data array: 0.9678018093109131\n",
            "Num GB used in data array: 0.9678018093109131\n",
            "Num GB used in data array: 0.9678018093109131\n",
            "Num GB used in data array: 0.9678018093109131\n",
            "Num GB used in data array: 0.9678018093109131\n",
            "Num GB used in data array: 0.9678018093109131\n",
            "Num GB used in data array: 0.9678018093109131\n",
            "Num GB used in data array: 0.9678018093109131\n",
            "Num GB used in data array: 0.9678018093109131\n",
            "Num GB used in data array: 0.9678018093109131\n",
            "Num GB used in data array: 0.9678018093109131\n",
            "Num GB used in data array: 0.9678018093109131\n",
            "Num GB used in data array: 0.9678018093109131\n",
            "Num GB used in data array: 0.9678018093109131\n",
            "Num GB used in data array: 0.9678018093109131\n",
            "Num GB used in data array: 0.9678018093109131\n",
            "Num GB used in data array: 0.9678018093109131\n",
            "Num GB used in data array: 0.9678018093109131\n",
            "Num GB used in data array: 0.9678018093109131\n",
            "Num GB used in data array: 0.9678018093109131\n",
            "Num GB used in data array: 0.9678018093109131\n",
            "Num GB used in data array: 0.9678018093109131\n",
            "Num GB used in data array: 0.9678018093109131\n",
            "Num GB used in data array: 0.9678018093109131\n",
            "Num GB used in data array: 0.9678018093109131\n",
            "Num GB used in data array: 0.9678018093109131\n",
            "Num GB used in data array: 0.9678018093109131\n",
            "Num GB used in data array: 0.9678018093109131\n",
            "Num GB used in data array: 0.9678018093109131\n",
            "Num GB used in data array: 0.9678018093109131\n",
            "Num GB used in data array: 0.9678018093109131\n",
            "Num GB used in data array: 0.9678018093109131\n",
            "Num GB used in data array: 0.9678018093109131\n",
            "Num GB used in data array: 0.9678018093109131\n",
            "Num GB used in data array: 0.9678018093109131\n",
            "Num GB used in data array: 0.9678018093109131\n",
            "Num GB used in data array: 0.9678018093109131\n",
            "Num GB used in data array: 0.9678018093109131\n",
            "Num GB used in data array: 0.9678018093109131\n",
            "Num GB used in data array: 0.9678018093109131\n",
            "Num GB used in data array: 0.9678018093109131\n",
            "Num GB used in data array: 0.9678018093109131\n",
            "Num GB used in data array: 0.9678018093109131\n",
            "Num GB used in data array: 0.9678018093109131\n",
            "Num GB used in data array: 0.9678018093109131\n",
            "Num GB used in data array: 0.9678018093109131\n",
            "Num GB used in data array: 0.9678018093109131\n",
            "Num GB used in data array: 0.9678018093109131\n",
            "Num GB used in data array: 0.9678018093109131\n",
            "Num GB used in data array: 0.9678018093109131\n",
            "Num GB used in data array: 0.9678018093109131\n",
            "Num GB used in data array: 0.9678018093109131\n",
            "Num GB used in data array: 0.9678018093109131\n",
            "Num GB used in data array: 0.9678018093109131\n",
            "Num GB used in data array: 0.9678018093109131\n",
            "Num GB used in data array: 0.9678018093109131\n",
            "Num GB used in data array: 0.9678018093109131\n",
            "Num GB used in data array: 0.9678018093109131\n",
            "Num GB used in data array: 0.9678018093109131\n",
            "Num GB used in data array: 0.9678018093109131\n",
            "Num GB used in data array: 0.9678018093109131\n",
            "Num GB used in data array: 0.9678018093109131\n",
            "Num GB used in data array: 0.9678018093109131\n",
            "Num GB used in data array: 0.9678018093109131\n",
            "Num GB used in data array: 0.9678018093109131\n",
            "Num GB used in data array: 0.9678018093109131\n",
            "Num GB used in data array: 0.9678018093109131\n",
            "Num GB used in data array: 0.9678018093109131\n",
            "Num GB used in data array: 0.9678018093109131\n",
            "Num GB used in data array: 0.9678018093109131\n",
            "Num GB used in data array: 0.9678018093109131\n",
            "Num GB used in data array: 0.9678018093109131\n",
            "Num GB used in data array: 0.9678018093109131\n",
            "Num GB used in data array: 0.9678018093109131\n",
            "Num GB used in data array: 0.9678018093109131\n",
            "Num GB used in data array: 0.9678018093109131\n",
            "Num GB used in data array: 0.9678018093109131\n",
            "Num GB used in data array: 0.9678018093109131\n",
            "Num GB used in data array: 0.9678018093109131\n",
            "Num GB used in data array: 0.9678018093109131\n",
            "Num GB used in data array: 0.9678018093109131\n",
            "Num GB used in data array: 0.9678018093109131\n",
            "Num GB used in data array: 0.9678018093109131\n",
            "Num GB used in data array: 0.9678018093109131\n",
            "Num GB used in data array: 0.9678018093109131\n",
            "Num GB used in data array: 0.9678018093109131\n",
            "Num GB used in data array: 0.9678018093109131\n",
            "Num GB used in data array: 0.9678018093109131\n",
            "Num GB used in data array: 0.9678018093109131\n",
            "Num GB used in data array: 0.9678018093109131\n",
            "Num GB used in data array: 0.9678018093109131\n",
            "Num GB used in data array: 0.9678018093109131\n",
            "Num GB used in data array: 0.9678018093109131\n",
            "Num GB used in data array: 0.9678018093109131\n",
            "Num GB used in data array: 0.9678018093109131\n",
            "Num GB used in data array: 0.9678018093109131\n",
            "Num GB used in data array: 0.9678018093109131\n",
            "Num GB used in data array: 0.9678018093109131\n",
            "Num GB used in data array: 0.9678018093109131\n",
            "Num GB used in data array: 0.9678018093109131\n",
            "Num GB used in data array: 0.9678018093109131\n",
            "Num GB used in data array: 0.9678018093109131\n",
            "Num GB used in data array: 0.9678018093109131\n",
            "Num GB used in data array: 0.9678018093109131\n",
            "Num GB used in data array: 0.9678018093109131\n",
            "Num GB used in data array: 0.9678018093109131\n",
            "Num GB used in data array: 0.9678018093109131\n",
            "Num GB used in data array: 0.9678018093109131\n",
            "Num GB used in data array: 0.9678018093109131\n",
            "Num GB used in data array: 0.9678018093109131\n",
            "Num GB used in data array: 0.9678018093109131\n",
            "Num GB used in data array: 0.9678018093109131\n",
            "Num GB used in data array: 0.9678018093109131\n",
            "Num GB used in data array: 0.9678018093109131\n",
            "Num GB used in data array: 0.9678018093109131\n",
            "Num GB used in data array: 0.9678018093109131\n",
            "Num GB used in data array: 0.9678018093109131\n",
            "Num GB used in data array: 0.9678018093109131\n",
            "Num GB used in data array: 0.9678018093109131\n",
            "Num GB used in data array: 0.9678018093109131\n",
            "Num GB used in data array: 0.9678018093109131\n",
            "Num GB used in data array: 0.9678018093109131\n",
            "Num GB used in data array: 0.9678018093109131\n",
            "Num GB used in data array: 0.9678018093109131\n",
            "Num GB used in data array: 0.9678018093109131\n",
            "Num GB used in data array: 0.9678018093109131\n",
            "Num GB used in data array: 0.9678018093109131\n",
            "Num GB used in data array: 0.9678018093109131\n",
            "Num GB used in data array: 0.9678018093109131\n",
            "Num GB used in data array: 0.9678018093109131\n",
            "Num GB used in data array: 0.9678018093109131\n"
          ]
        },
        {
          "output_type": "execute_result",
          "data": {
            "text/plain": [
              "<data_creation.DataSelection at 0x7f374ce79490>"
            ]
          },
          "metadata": {},
          "execution_count": 4
        }
      ]
    },
    {
      "cell_type": "code",
      "execution_count": 2,
      "metadata": {
        "id": "fBRUPdQhszif"
      },
      "outputs": [],
      "source": [
        "import numpy as np"
      ]
    },
    {
      "cell_type": "code",
      "execution_count": 3,
      "metadata": {
        "id": "5caJAPMcssGm"
      },
      "outputs": [],
      "source": [
        "data2014 = np.load(\"data_2014.npy\")\n",
        "labels2014 = np.load(\"labels_2014.npy\")"
      ]
    },
    {
      "cell_type": "code",
      "execution_count": null,
      "metadata": {
        "id": "IvtuPAVJZ1HO"
      },
      "outputs": [],
      "source": [
        "# data2014.shape[0] % 64"
      ]
    },
    {
      "cell_type": "code",
      "execution_count": null,
      "metadata": {
        "id": "kCjIZIOZZ6zL"
      },
      "outputs": [],
      "source": [
        "# # Need to adjust data size to ensure that each batch is of size 64\n",
        "# adjusted_data = data2014[:data2014.shape[0]-18, :, :]\n",
        "# adjusted_labels = labels2014[:labels2014.shape[0]-18, :, :]"
      ]
    },
    {
      "cell_type": "code",
      "execution_count": 7,
      "metadata": {
        "id": "im3EwZyNYK6-"
      },
      "outputs": [],
      "source": [
        "base_model = SolarLSTM(data2014, labels2014, save_path=\"./\")"
      ]
    },
    {
      "cell_type": "code",
      "execution_count": 8,
      "metadata": {
        "id": "Hx82BYHwQ7bb"
      },
      "outputs": [],
      "source": [
        "base_model.build_model()"
      ]
    },
    {
      "cell_type": "code",
      "execution_count": 9,
      "metadata": {
        "colab": {
          "base_uri": "https://localhost:8080/"
        },
        "id": "csd-wHI8Q9u-",
        "outputId": "16b1d480-785d-4360-bf68-eff73109b2a9"
      },
      "outputs": [
        {
          "output_type": "execute_result",
          "data": {
            "text/plain": [
              "<keras.engine.sequential.Sequential at 0x7f37f98d5050>"
            ]
          },
          "metadata": {},
          "execution_count": 9
        }
      ],
      "source": [
        "base_model.model"
      ]
    },
    {
      "cell_type": "code",
      "execution_count": 10,
      "metadata": {
        "colab": {
          "base_uri": "https://localhost:8080/",
          "height": 1000
        },
        "id": "PTJij7KnQ_ye",
        "outputId": "8bf5c2bf-d2b0-4c4a-f1e8-038ae4805468"
      },
      "outputs": [
        {
          "output_type": "stream",
          "name": "stdout",
          "text": [
            "Epoch 1/50\n"
          ]
        },
        {
          "output_type": "stream",
          "name": "stderr",
          "text": [
            "/usr/local/lib/python3.7/dist-packages/tensorflow/python/util/dispatch.py:1082: UserWarning: \"`binary_crossentropy` received `from_logits=True`, but the `output` argument was produced by a sigmoid or softmax activation and thus does not represent logits. Was this intended?\"\n",
            "  return dispatch_target(*args, **kwargs)\n"
          ]
        },
        {
          "output_type": "stream",
          "name": "stdout",
          "text": [
            "320/320 [==============================] - ETA: 0s - loss: 0.3654 - accuracy: 0.8766 - mse: 0.1046 - mae: 0.2127"
          ]
        },
        {
          "output_type": "stream",
          "name": "stderr",
          "text": [
            "WARNING:absl:Found untraced functions such as lstm_cell_layer_call_fn, lstm_cell_layer_call_and_return_conditional_losses, lstm_cell_1_layer_call_fn, lstm_cell_1_layer_call_and_return_conditional_losses while saving (showing 4 of 4). These functions will not be directly callable after loading.\n"
          ]
        },
        {
          "output_type": "stream",
          "name": "stdout",
          "text": [
            "INFO:tensorflow:Assets written to: model_checkpoints/assets\n"
          ]
        },
        {
          "output_type": "stream",
          "name": "stderr",
          "text": [
            "INFO:tensorflow:Assets written to: model_checkpoints/assets\n",
            "WARNING:absl:<keras.layers.recurrent.LSTMCell object at 0x7f3742d52890> has the same name 'LSTMCell' as a built-in Keras object. Consider renaming <class 'keras.layers.recurrent.LSTMCell'> to avoid naming conflicts when loading with `tf.keras.models.load_model`. If renaming is not possible, pass the object in the `custom_objects` parameter of the load function.\n",
            "WARNING:absl:<keras.layers.recurrent.LSTMCell object at 0x7f374ce16c50> has the same name 'LSTMCell' as a built-in Keras object. Consider renaming <class 'keras.layers.recurrent.LSTMCell'> to avoid naming conflicts when loading with `tf.keras.models.load_model`. If renaming is not possible, pass the object in the `custom_objects` parameter of the load function.\n"
          ]
        },
        {
          "output_type": "stream",
          "name": "stdout",
          "text": [
            "\b\b\b\b\b\b\b\b\b\b\b\b\b\b\b\b\b\b\b\b\b\b\b\b\b\b\b\b\b\b\b\b\b\b\b\b\b\b\b\b\b\b\b\b\b\b\b\b\b\b\b\b\b\b\b\b\b\b\b\b\b\b\b\b\b\b\b\b\b\b\b\b\b\b\b\b\b\b\b\b\b\b\b\b\b\b\b\b\b\b\b\b\b\b\b\b\b\b\b\b\b\b\b\b\b\b\b\b\b\b\b\b\r320/320 [==============================] - 33s 92ms/step - loss: 0.3654 - accuracy: 0.8766 - mse: 0.1046 - mae: 0.2127 - val_loss: 0.5875 - val_accuracy: 0.8094 - val_mse: 0.1735 - val_mae: 0.2412\n",
            "Epoch 2/50\n",
            "320/320 [==============================] - 21s 64ms/step - loss: 0.2932 - accuracy: 0.8930 - mse: 0.0821 - mae: 0.1647 - val_loss: 0.6178 - val_accuracy: 0.8094 - val_mse: 0.1739 - val_mae: 0.2568\n",
            "Epoch 3/50\n",
            "320/320 [==============================] - 20s 64ms/step - loss: 0.2838 - accuracy: 0.9012 - mse: 0.0770 - mae: 0.1553 - val_loss: 0.6368 - val_accuracy: 0.6891 - val_mse: 0.1928 - val_mae: 0.3107\n",
            "Epoch 4/50\n",
            "320/320 [==============================] - 21s 65ms/step - loss: 0.2580 - accuracy: 0.9191 - mse: 0.0692 - mae: 0.1419 - val_loss: 0.6476 - val_accuracy: 0.8094 - val_mse: 0.1757 - val_mae: 0.2160\n",
            "Epoch 5/50\n",
            "320/320 [==============================] - ETA: 0s - loss: 0.2803 - accuracy: 0.9088 - mse: 0.0760 - mae: 0.1492"
          ]
        },
        {
          "output_type": "stream",
          "name": "stderr",
          "text": [
            "WARNING:absl:Found untraced functions such as lstm_cell_layer_call_fn, lstm_cell_layer_call_and_return_conditional_losses, lstm_cell_1_layer_call_fn, lstm_cell_1_layer_call_and_return_conditional_losses while saving (showing 4 of 4). These functions will not be directly callable after loading.\n"
          ]
        },
        {
          "output_type": "stream",
          "name": "stdout",
          "text": [
            "INFO:tensorflow:Assets written to: model_checkpoints/assets\n"
          ]
        },
        {
          "output_type": "stream",
          "name": "stderr",
          "text": [
            "INFO:tensorflow:Assets written to: model_checkpoints/assets\n",
            "WARNING:absl:<keras.layers.recurrent.LSTMCell object at 0x7f3742d52890> has the same name 'LSTMCell' as a built-in Keras object. Consider renaming <class 'keras.layers.recurrent.LSTMCell'> to avoid naming conflicts when loading with `tf.keras.models.load_model`. If renaming is not possible, pass the object in the `custom_objects` parameter of the load function.\n",
            "WARNING:absl:<keras.layers.recurrent.LSTMCell object at 0x7f374ce16c50> has the same name 'LSTMCell' as a built-in Keras object. Consider renaming <class 'keras.layers.recurrent.LSTMCell'> to avoid naming conflicts when loading with `tf.keras.models.load_model`. If renaming is not possible, pass the object in the `custom_objects` parameter of the load function.\n"
          ]
        },
        {
          "output_type": "stream",
          "name": "stdout",
          "text": [
            "\b\b\b\b\b\b\b\b\b\b\b\b\b\b\b\b\b\b\b\b\b\b\b\b\b\b\b\b\b\b\b\b\b\b\b\b\b\b\b\b\b\b\b\b\b\b\b\b\b\b\b\b\b\b\b\b\b\b\b\b\b\b\b\b\b\b\b\b\b\b\b\b\b\b\b\b\b\b\b\b\b\b\b\b\b\b\b\b\b\b\b\b\b\b\b\b\b\b\b\b\b\b\b\b\b\b\b\b\b\b\b\b\r320/320 [==============================] - 29s 91ms/step - loss: 0.2803 - accuracy: 0.9088 - mse: 0.0760 - mae: 0.1492 - val_loss: 0.5329 - val_accuracy: 0.8175 - val_mse: 0.1567 - val_mae: 0.2227\n",
            "Epoch 6/50\n",
            "320/320 [==============================] - 21s 64ms/step - loss: 0.2605 - accuracy: 0.9099 - mse: 0.0724 - mae: 0.1470 - val_loss: 0.5902 - val_accuracy: 0.8082 - val_mse: 0.1618 - val_mae: 0.2323\n",
            "Epoch 7/50\n",
            "320/320 [==============================] - 21s 65ms/step - loss: 0.2589 - accuracy: 0.9266 - mse: 0.0670 - mae: 0.1339 - val_loss: 0.6152 - val_accuracy: 0.8093 - val_mse: 0.1712 - val_mae: 0.2219\n",
            "Epoch 8/50\n",
            "320/320 [==============================] - 21s 66ms/step - loss: 0.2380 - accuracy: 0.9259 - mse: 0.0630 - mae: 0.1306 - val_loss: 0.6009 - val_accuracy: 0.7776 - val_mse: 0.1747 - val_mae: 0.2550\n",
            "Epoch 9/50\n",
            "320/320 [==============================] - 21s 65ms/step - loss: 0.2298 - accuracy: 0.9283 - mse: 0.0617 - mae: 0.1249 - val_loss: 0.6347 - val_accuracy: 0.8078 - val_mse: 0.1711 - val_mae: 0.2152\n",
            "Epoch 10/50\n",
            "320/320 [==============================] - 21s 65ms/step - loss: 0.2230 - accuracy: 0.9290 - mse: 0.0602 - mae: 0.1226 - val_loss: 0.6761 - val_accuracy: 0.7461 - val_mse: 0.2021 - val_mae: 0.2689\n",
            "Epoch 11/50\n",
            "320/320 [==============================] - 21s 65ms/step - loss: 0.2152 - accuracy: 0.9305 - mse: 0.0583 - mae: 0.1177 - val_loss: 0.7362 - val_accuracy: 0.7375 - val_mse: 0.2135 - val_mae: 0.2770\n",
            "Epoch 12/50\n",
            "320/320 [==============================] - 21s 64ms/step - loss: 0.2042 - accuracy: 0.9299 - mse: 0.0567 - mae: 0.1127 - val_loss: 0.6841 - val_accuracy: 0.8125 - val_mse: 0.1726 - val_mae: 0.2147\n",
            "Epoch 13/50\n",
            "320/320 [==============================] - 20s 64ms/step - loss: 0.1980 - accuracy: 0.9326 - mse: 0.0540 - mae: 0.1115 - val_loss: 0.6226 - val_accuracy: 0.8126 - val_mse: 0.1628 - val_mae: 0.1988\n",
            "Epoch 14/50\n",
            "320/320 [==============================] - 21s 66ms/step - loss: 0.2116 - accuracy: 0.9292 - mse: 0.0578 - mae: 0.1136 - val_loss: 0.6940 - val_accuracy: 0.7418 - val_mse: 0.1985 - val_mae: 0.2742\n",
            "Epoch 15/50\n",
            "320/320 [==============================] - 22s 67ms/step - loss: 0.1974 - accuracy: 0.9338 - mse: 0.0532 - mae: 0.1091 - val_loss: 0.6201 - val_accuracy: 0.8129 - val_mse: 0.1626 - val_mae: 0.2300\n",
            "Epoch 16/50\n",
            "320/320 [==============================] - 21s 66ms/step - loss: 0.1761 - accuracy: 0.9421 - mse: 0.0473 - mae: 0.1005 - val_loss: 0.6790 - val_accuracy: 0.8132 - val_mse: 0.1709 - val_mae: 0.2214\n",
            "Epoch 17/50\n",
            "320/320 [==============================] - 21s 66ms/step - loss: 0.1816 - accuracy: 0.9358 - mse: 0.0501 - mae: 0.0989 - val_loss: 0.8822 - val_accuracy: 0.7343 - val_mse: 0.2401 - val_mae: 0.2986\n",
            "Epoch 18/50\n",
            "320/320 [==============================] - 21s 66ms/step - loss: 0.1626 - accuracy: 0.9435 - mse: 0.0435 - mae: 0.0891 - val_loss: 0.7832 - val_accuracy: 0.8018 - val_mse: 0.1868 - val_mae: 0.2216\n",
            "Epoch 19/50\n",
            "320/320 [==============================] - 21s 67ms/step - loss: 0.1533 - accuracy: 0.9499 - mse: 0.0403 - mae: 0.0815 - val_loss: 0.7149 - val_accuracy: 0.8045 - val_mse: 0.1784 - val_mae: 0.2276\n",
            "Epoch 20/50\n",
            "320/320 [==============================] - 21s 66ms/step - loss: 0.1469 - accuracy: 0.9510 - mse: 0.0390 - mae: 0.0806 - val_loss: 0.7064 - val_accuracy: 0.8089 - val_mse: 0.1762 - val_mae: 0.2351\n",
            "Epoch 20: early stopping\n"
          ]
        },
        {
          "output_type": "display_data",
          "data": {
            "text/plain": [
              "<Figure size 576x360 with 1 Axes>"
            ],
            "image/png": "[encoded data removed]"
          },
          "metadata": {
            "needs_background": "light"
          }
        }
      ],
      "source": [
        "history=base_model.fit()"
      ]
    },
    {
      "cell_type": "code",
      "execution_count": 8,
      "metadata": {
        "id": "NXnJGhmM-Dxp"
      },
      "outputs": [],
      "source": [
        "data2015 = np.load(\"data_2015.npy\")\n",
        "labels2015 = np.load(\"labels_2015.npy\")"
      ]
    },
    {
      "cell_type": "code",
      "execution_count": 9,
      "metadata": {
        "colab": {
          "base_uri": "https://localhost:8080/"
        },
        "id": "jpUoXB0L-Dxp",
        "outputId": "efc1f8a5-d10f-4afa-85e8-856d3ffe7552"
      },
      "outputs": [
        {
          "output_type": "execute_result",
          "data": {
            "text/plain": [
              "(28486, 120, 38)"
            ]
          },
          "metadata": {},
          "execution_count": 9
        }
      ],
      "source": [
        "data2015.shape"
      ]
    },
    {
      "cell_type": "code",
      "execution_count": 13,
      "metadata": {
        "id": "h8GEjC8_Uufd",
        "colab": {
          "base_uri": "https://localhost:8080/"
        },
        "outputId": "ca6484c7-4288-4df8-80b9-0e65145264f4"
      },
      "outputs": [
        {
          "output_type": "stream",
          "name": "stdout",
          "text": [
            "445/445 [==============================] - 10s 21ms/step - loss: 0.6691 - accuracy: 0.8023 - mse: 0.1629 - mae: 0.2075\n"
          ]
        },
        {
          "output_type": "execute_result",
          "data": {
            "text/plain": [
              "[0.6690995693206787,\n",
              " 0.8022840619087219,\n",
              " 0.16289202868938446,\n",
              " 0.20747098326683044]"
            ]
          },
          "metadata": {},
          "execution_count": 13
        }
      ],
      "source": [
        "data_new = base_model.batch_prefetch_data(data2015,labels2015,split_data=False)\n",
        "base_model.evaluate(data_new)\n",
        "#base_model.evaluate(data_new,labels_new)"
      ]
    },
    {
      "cell_type": "code",
      "execution_count": null,
      "metadata": {
        "id": "CrsOmPlY-Dxr"
      },
      "outputs": [],
      "source": [
        "#Form batches (does not shuffle, cuts off remainder)\n",
        "batched_2015 = base_model.batch_prefetch_data(data2015,split_data=False)\n",
        "#Cutoff matching remainder from labels\n",
        "true_labels = labels2015[:-(labels2015.shape[0]%base_model.batch_size)]\n",
        "#Do predictions and get confusion matrix\n",
        "conf_matrix = base_model.predict_conf_matrix(batched_2015,true_labels,make_plots=True)"
      ]
    },
    {
      "cell_type": "code",
      "execution_count": 15,
      "metadata": {
        "id": "pebutn87-Dxs"
      },
      "outputs": [],
      "source": [
        "#If you want to customize the confusion matrix plot, can uncomment below and use the plot handle below\n",
        "#conf_plt_handle=base_model.plot_confusion_matrix(conf_matrix)"
      ]
    },
    {
      "cell_type": "code",
      "execution_count": 16,
      "metadata": {
        "colab": {
          "base_uri": "https://localhost:8080/"
        },
        "id": "dJbqDGxO-Dxt",
        "outputId": "c596e407-33f2-46e2-c7b3-7d6cad0af8d9"
      },
      "outputs": [
        {
          "output_type": "execute_result",
          "data": {
            "text/plain": [
              "array([[  90185,  473455],\n",
              "       [ 204978, 2648982]])"
            ]
          },
          "metadata": {},
          "execution_count": 16
        }
      ],
      "source": [
        "conf_matrix"
      ]
    },
    {
      "cell_type": "code",
      "execution_count": 17,
      "metadata": {
        "id": "NxlmTtkt-Dxt"
      },
      "outputs": [],
      "source": [
        "#Example of using the __call__ dunder method to pass data\n",
        "call_preds=base_model(batched_2015)"
      ]
    },
    {
      "cell_type": "code",
      "source": [
        "import pandas as pd\n",
        "\n",
        "def calculate_statistics(conf_matrix):\n",
        "  tp = conf_matrix[1][1]\n",
        "  fp = conf_matrix[1][0]\n",
        "  tn = conf_matrix[0][0]\n",
        "  fn = conf_matrix[0][1]\n",
        "\n",
        "  # Precision - TP/(TP+FP)\n",
        "  precision = tp / np.sum([tp, fp])\n",
        "\n",
        "  # Recall - TP/(TP+FN)\n",
        "  recall = tp / np.sum([tp, fn])\n",
        "\n",
        "  # False Alarm Rate/Probability of False Alarm - FP/(FP+TN)\n",
        "  far = fp / np.sum([fp, tn])\n",
        "\n",
        "  # Heidke Skill Score (HSS) - 2*(TP * TN - FP * FN) / (TP+FN)*(FN+TN)+(TP+FP)*(FP+TN)\n",
        "  hss = (2 * ((tp*tn) - (fp*fn))) / (((tp+fn)*(fn+tn)) + ((tp+tn)*(fp+tn)))\n",
        "\n",
        "  return pd.DataFrame({\"precision\": precision, \"recall\": recall, \"far\": far, \"hss\": hss}, index=[0])"
      ],
      "metadata": {
        "id": "TJ15elvZFqpC"
      },
      "execution_count": 15,
      "outputs": []
    },
    {
      "cell_type": "code",
      "source": [
        "calculate_statistics(conf_matrix)"
      ],
      "metadata": {
        "colab": {
          "base_uri": "https://localhost:8080/",
          "height": 129
        },
        "id": "rTb2TlYgHPAf",
        "outputId": "982788cb-4251-44fe-d2ab-4691b2f3823f"
      },
      "execution_count": 32,
      "outputs": [
        {
          "output_type": "execute_result",
          "data": {
            "text/plain": [
              "   precision   recall       far       hss\n",
              "0   0.928178  0.84837  0.694457  0.110457"
            ],
            "text/html": [
              "\n",
              "  <div id=\"df-6af8f563-de77-45ab-b57e-ccd30b8f7f8d\">\n",
              "    <div class=\"colab-df-container\">\n",
              "      <div>\n",
              "<style scoped>\n",
              "    .dataframe tbody tr th:only-of-type {\n",
              "        vertical-align: middle;\n",
              "    }\n",
              "\n",
              "    .dataframe tbody tr th {\n",
              "        vertical-align: top;\n",
              "    }\n",
              "\n",
              "    .dataframe thead th {\n",
              "        text-align: right;\n",
              "    }\n",
              "</style>\n",
              "<table border=\"1\" class=\"dataframe\">\n",
              "  <thead>\n",
              "    <tr style=\"text-align: right;\">\n",
              "      <th></th>\n",
              "      <th>precision</th>\n",
              "      <th>recall</th>\n",
              "      <th>far</th>\n",
              "      <th>hss</th>\n",
              "    </tr>\n",
              "  </thead>\n",
              "  <tbody>\n",
              "    <tr>\n",
              "      <th>0</th>\n",
              "      <td>0.928178</td>\n",
              "      <td>0.84837</td>\n",
              "      <td>0.694457</td>\n",
              "      <td>0.110457</td>\n",
              "    </tr>\n",
              "  </tbody>\n",
              "</table>\n",
              "</div>\n",
              "      <button class=\"colab-df-convert\" onclick=\"convertToInteractive('df-6af8f563-de77-45ab-b57e-ccd30b8f7f8d')\"\n",
              "              title=\"Convert this dataframe to an interactive table.\"\n",
              "              style=\"display:none;\">\n",
              "        \n",
              "  <svg xmlns=\"http://www.w3.org/2000/svg\" height=\"24px\"viewBox=\"0 0 24 24\"\n",
              "       width=\"24px\">\n",
              "    <path d=\"M0 0h24v24H0V0z\" fill=\"none\"/>\n",
              "    <path d=\"M18.56 5.44l.94 2.06.94-2.06 2.06-.94-2.06-.94-.94-2.06-.94 2.06-2.06.94zm-11 1L8.5 8.5l.94-2.06 2.06-.94-2.06-.94L8.5 2.5l-.94 2.06-2.06.94zm10 10l.94 2.06.94-2.06 2.06-.94-2.06-.94-.94-2.06-.94 2.06-2.06.94z\"/><path d=\"M17.41 7.96l-1.37-1.37c-.4-.4-.92-.59-1.43-.59-.52 0-1.04.2-1.43.59L10.3 9.45l-7.72 7.72c-.78.78-.78 2.05 0 2.83L4 21.41c.39.39.9.59 1.41.59.51 0 1.02-.2 1.41-.59l7.78-7.78 2.81-2.81c.8-.78.8-2.07 0-2.86zM5.41 20L4 18.59l7.72-7.72 1.47 1.35L5.41 20z\"/>\n",
              "  </svg>\n",
              "      </button>\n",
              "      \n",
              "  <style>\n",
              "    .colab-df-container {\n",
              "      display:flex;\n",
              "      flex-wrap:wrap;\n",
              "      gap: 12px;\n",
              "    }\n",
              "\n",
              "    .colab-df-convert {\n",
              "      background-color: #E8F0FE;\n",
              "      border: none;\n",
              "      border-radius: 50%;\n",
              "      cursor: pointer;\n",
              "      display: none;\n",
              "      fill: #1967D2;\n",
              "      height: 32px;\n",
              "      padding: 0 0 0 0;\n",
              "      width: 32px;\n",
              "    }\n",
              "\n",
              "    .colab-df-convert:hover {\n",
              "      background-color: #E2EBFA;\n",
              "      box-shadow: 0px 1px 2px rgba(60, 64, 67, 0.3), 0px 1px 3px 1px rgba(60, 64, 67, 0.15);\n",
              "      fill: #174EA6;\n",
              "    }\n",
              "\n",
              "    [theme=dark] .colab-df-convert {\n",
              "      background-color: #3B4455;\n",
              "      fill: #D2E3FC;\n",
              "    }\n",
              "\n",
              "    [theme=dark] .colab-df-convert:hover {\n",
              "      background-color: #434B5C;\n",
              "      box-shadow: 0px 1px 3px 1px rgba(0, 0, 0, 0.15);\n",
              "      filter: drop-shadow(0px 1px 2px rgba(0, 0, 0, 0.3));\n",
              "      fill: #FFFFFF;\n",
              "    }\n",
              "  </style>\n",
              "\n",
              "      <script>\n",
              "        const buttonEl =\n",
              "          document.querySelector('#df-6af8f563-de77-45ab-b57e-ccd30b8f7f8d button.colab-df-convert');\n",
              "        buttonEl.style.display =\n",
              "          google.colab.kernel.accessAllowed ? 'block' : 'none';\n",
              "\n",
              "        async function convertToInteractive(key) {\n",
              "          const element = document.querySelector('#df-6af8f563-de77-45ab-b57e-ccd30b8f7f8d');\n",
              "          const dataTable =\n",
              "            await google.colab.kernel.invokeFunction('convertToInteractive',\n",
              "                                                     [key], {});\n",
              "          if (!dataTable) return;\n",
              "\n",
              "          const docLinkHtml = 'Like what you see? Visit the ' +\n",
              "            '<a target=\"_blank\" href=https://colab.research.google.com/notebooks/data_table.ipynb>data table notebook</a>'\n",
              "            + ' to learn more about interactive tables.';\n",
              "          element.innerHTML = '';\n",
              "          dataTable['output_type'] = 'display_data';\n",
              "          await google.colab.output.renderOutput(dataTable, element);\n",
              "          const docLink = document.createElement('div');\n",
              "          docLink.innerHTML = docLinkHtml;\n",
              "          element.appendChild(docLink);\n",
              "        }\n",
              "      </script>\n",
              "    </div>\n",
              "  </div>\n",
              "  "
            ]
          },
          "metadata": {},
          "execution_count": 32
        }
      ]
    },
    {
      "cell_type": "code",
      "source": [
        "from tensorflow import keras\n",
        "keras.backend.clear_session()"
      ],
      "metadata": {
        "id": "oqkOENaJHSXV"
      },
      "execution_count": 4,
      "outputs": []
    },
    {
      "cell_type": "code",
      "source": [
        "tuned_model = SolarLSTM(data2014, labels2014, \"./\", tune=True)"
      ],
      "metadata": {
        "id": "n66-9WADHrwv"
      },
      "execution_count": 5,
      "outputs": []
    },
    {
      "cell_type": "code",
      "source": [
        "tuned_model.fit()"
      ],
      "metadata": {
        "colab": {
          "base_uri": "https://localhost:8080/",
          "height": 1000
        },
        "id": "ABq_7_PCI0AA",
        "outputId": "a5dff7a5-567d-4c38-d8e4-4e8530448a46"
      },
      "execution_count": 6,
      "outputs": [
        {
          "output_type": "stream",
          "name": "stdout",
          "text": [
            "Trial 10 Complete [00h 06m 59s]\n",
            "val_accuracy: 0.8156917095184326\n",
            "\n",
            "Best val_accuracy So Far: 0.8275374174118042\n",
            "Total elapsed time: 01h 50m 10s\n",
            "INFO:tensorflow:Oracle triggered exit\n"
          ]
        },
        {
          "output_type": "stream",
          "name": "stderr",
          "text": [
            "INFO:tensorflow:Oracle triggered exit\n"
          ]
        },
        {
          "output_type": "stream",
          "name": "stdout",
          "text": [
            "Hyper Tuning Complete\n",
            "Epoch 1/50\n"
          ]
        },
        {
          "output_type": "stream",
          "name": "stderr",
          "text": [
            "/usr/local/lib/python3.7/dist-packages/tensorflow/python/util/dispatch.py:1082: UserWarning: \"`binary_crossentropy` received `from_logits=True`, but the `output` argument was produced by a sigmoid or softmax activation and thus does not represent logits. Was this intended?\"\n",
            "  return dispatch_target(*args, **kwargs)\n"
          ]
        },
        {
          "output_type": "stream",
          "name": "stdout",
          "text": [
            "320/320 [==============================] - ETA: 0s - loss: 0.3907 - accuracy: 0.8826 - mse: 0.1095 - mae: 0.2211"
          ]
        },
        {
          "output_type": "stream",
          "name": "stderr",
          "text": [
            "WARNING:absl:Found untraced functions such as lstm_cell_2_layer_call_fn, lstm_cell_2_layer_call_and_return_conditional_losses, lstm_cell_3_layer_call_fn, lstm_cell_3_layer_call_and_return_conditional_losses while saving (showing 4 of 4). These functions will not be directly callable after loading.\n"
          ]
        },
        {
          "output_type": "stream",
          "name": "stdout",
          "text": [
            "INFO:tensorflow:Assets written to: model_checkpoints/assets\n"
          ]
        },
        {
          "output_type": "stream",
          "name": "stderr",
          "text": [
            "INFO:tensorflow:Assets written to: model_checkpoints/assets\n",
            "WARNING:absl:<keras.layers.recurrent.LSTMCell object at 0x7f4da4b43850> has the same name 'LSTMCell' as a built-in Keras object. Consider renaming <class 'keras.layers.recurrent.LSTMCell'> to avoid naming conflicts when loading with `tf.keras.models.load_model`. If renaming is not possible, pass the object in the `custom_objects` parameter of the load function.\n",
            "WARNING:absl:<keras.layers.recurrent.LSTMCell object at 0x7f4d9eb8a690> has the same name 'LSTMCell' as a built-in Keras object. Consider renaming <class 'keras.layers.recurrent.LSTMCell'> to avoid naming conflicts when loading with `tf.keras.models.load_model`. If renaming is not possible, pass the object in the `custom_objects` parameter of the load function.\n"
          ]
        },
        {
          "output_type": "stream",
          "name": "stdout",
          "text": [
            "\b\b\b\b\b\b\b\b\b\b\b\b\b\b\b\b\b\b\b\b\b\b\b\b\b\b\b\b\b\b\b\b\b\b\b\b\b\b\b\b\b\b\b\b\b\b\b\b\b\b\b\b\b\b\b\b\b\b\b\b\b\b\b\b\b\b\b\b\b\b\b\b\b\b\b\b\b\b\b\b\b\b\b\b\b\b\b\b\b\b\b\b\b\b\b\b\b\b\b\b\b\b\b\b\b\b\b\b\b\b\b\b\r320/320 [==============================] - 34s 95ms/step - loss: 0.3907 - accuracy: 0.8826 - mse: 0.1095 - mae: 0.2211 - val_loss: 0.5295 - val_accuracy: 0.8094 - val_mse: 0.1634 - val_mae: 0.2496\n",
            "Epoch 2/50\n",
            "320/320 [==============================] - 22s 69ms/step - loss: 0.3341 - accuracy: 0.8996 - mse: 0.0922 - mae: 0.1833 - val_loss: 0.5519 - val_accuracy: 0.8094 - val_mse: 0.1668 - val_mae: 0.2391\n",
            "Epoch 3/50\n",
            "320/320 [==============================] - 22s 68ms/step - loss: 0.3180 - accuracy: 0.8996 - mse: 0.0886 - mae: 0.1743 - val_loss: 0.5776 - val_accuracy: 0.8094 - val_mse: 0.1699 - val_mae: 0.2281\n",
            "Epoch 4/50\n",
            "320/320 [==============================] - 21s 67ms/step - loss: 0.3006 - accuracy: 0.8938 - mse: 0.0831 - mae: 0.1658 - val_loss: 0.5367 - val_accuracy: 0.8094 - val_mse: 0.1589 - val_mae: 0.2173\n",
            "Epoch 5/50\n",
            "320/320 [==============================] - 21s 67ms/step - loss: 0.2843 - accuracy: 0.8936 - mse: 0.0789 - mae: 0.1564 - val_loss: 0.6038 - val_accuracy: 0.8158 - val_mse: 0.1661 - val_mae: 0.2137\n",
            "Epoch 6/50\n",
            "320/320 [==============================] - 21s 67ms/step - loss: 0.2655 - accuracy: 0.9144 - mse: 0.0719 - mae: 0.1460 - val_loss: 0.6692 - val_accuracy: 0.8094 - val_mse: 0.1784 - val_mae: 0.2157\n",
            "Epoch 7/50\n",
            "320/320 [==============================] - 22s 68ms/step - loss: 0.2815 - accuracy: 0.9131 - mse: 0.0761 - mae: 0.1524 - val_loss: 0.5891 - val_accuracy: 0.8097 - val_mse: 0.1701 - val_mae: 0.2289\n",
            "Epoch 8/50\n",
            "320/320 [==============================] - 22s 69ms/step - loss: 0.2459 - accuracy: 0.9273 - mse: 0.0648 - mae: 0.1345 - val_loss: 0.6608 - val_accuracy: 0.8094 - val_mse: 0.1769 - val_mae: 0.2198\n",
            "Epoch 9/50\n",
            "320/320 [==============================] - 23s 71ms/step - loss: 0.2346 - accuracy: 0.9299 - mse: 0.0616 - mae: 0.1255 - val_loss: 0.6974 - val_accuracy: 0.8094 - val_mse: 0.1803 - val_mae: 0.2237\n",
            "Epoch 10/50\n",
            "320/320 [==============================] - 23s 72ms/step - loss: 0.2365 - accuracy: 0.9262 - mse: 0.0624 - mae: 0.1258 - val_loss: 0.6617 - val_accuracy: 0.8094 - val_mse: 0.1759 - val_mae: 0.2304\n",
            "Epoch 11/50\n",
            "320/320 [==============================] - 23s 71ms/step - loss: 0.2579 - accuracy: 0.9152 - mse: 0.0701 - mae: 0.1374 - val_loss: 0.5810 - val_accuracy: 0.8094 - val_mse: 0.1673 - val_mae: 0.2424\n",
            "Epoch 12/50\n",
            "320/320 [==============================] - 24s 74ms/step - loss: 0.2290 - accuracy: 0.9236 - mse: 0.0635 - mae: 0.1296 - val_loss: 0.6377 - val_accuracy: 0.8065 - val_mse: 0.1725 - val_mae: 0.2408\n",
            "Epoch 13/50\n",
            "320/320 [==============================] - 23s 71ms/step - loss: 0.2133 - accuracy: 0.9320 - mse: 0.0575 - mae: 0.1189 - val_loss: 0.6473 - val_accuracy: 0.7859 - val_mse: 0.1770 - val_mae: 0.2558\n",
            "Epoch 14/50\n",
            "320/320 [==============================] - 22s 70ms/step - loss: 0.2042 - accuracy: 0.9355 - mse: 0.0550 - mae: 0.1125 - val_loss: 0.6899 - val_accuracy: 0.8094 - val_mse: 0.1777 - val_mae: 0.2453\n",
            "Epoch 15/50\n",
            "320/320 [==============================] - 23s 71ms/step - loss: 0.1985 - accuracy: 0.9354 - mse: 0.0539 - mae: 0.1093 - val_loss: 0.7145 - val_accuracy: 0.8047 - val_mse: 0.1866 - val_mae: 0.2578\n",
            "Epoch 16/50\n",
            "320/320 [==============================] - 22s 68ms/step - loss: 0.1902 - accuracy: 0.9378 - mse: 0.0517 - mae: 0.1047 - val_loss: 0.6792 - val_accuracy: 0.7518 - val_mse: 0.1908 - val_mae: 0.2859\n",
            "Epoch 16: early stopping\n"
          ]
        },
        {
          "output_type": "display_data",
          "data": {
            "text/plain": [
              "<Figure size 576x360 with 1 Axes>"
            ],
            "image/png": "[encoded data removed]"
          },
          "metadata": {
            "needs_background": "light"
          }
        },
        {
          "output_type": "execute_result",
          "data": {
            "text/plain": [
              "<keras.callbacks.History at 0x7f4d9ebb4650>"
            ]
          },
          "metadata": {},
          "execution_count": 6
        }
      ]
    },
    {
      "cell_type": "code",
      "source": [
        "#Form batches (does not shuffle, cuts off remainder)\n",
        "batched_2015 = tuned_model.batch_prefetch_data(data2015,split_data=False)\n",
        "#Cutoff matching remainder from labels\n",
        "true_labels = labels2015[:-(labels2015.shape[0]%tuned_model.batch_size)]"
      ],
      "metadata": {
        "id": "HvQOPbinpi9a"
      },
      "execution_count": 13,
      "outputs": []
    },
    {
      "cell_type": "code",
      "source": [
        "conf_matrix = tuned_model.predict_conf_matrix(batched_2015,true_labels,make_plots=True)"
      ],
      "metadata": {
        "colab": {
          "base_uri": "https://localhost:8080/",
          "height": 290
        },
        "id": "m-XMZyf6I4YG",
        "outputId": "dbfa3ea3-83f0-4208-b2d4-f1c750763aca"
      },
      "execution_count": 14,
      "outputs": [
        {
          "output_type": "display_data",
          "data": {
            "text/plain": [
              "<Figure size 432x288 with 2 Axes>"
            ],
            "image/png": "[encoded data removed]"
          },
          "metadata": {
            "needs_background": "light"
          }
        }
      ]
    },
    {
      "cell_type": "code",
      "source": [
        "calculate_statistics(conf_matrix)"
      ],
      "metadata": {
        "colab": {
          "base_uri": "https://localhost:8080/",
          "height": 81
        },
        "id": "Mi-VaL6epXf3",
        "outputId": "8eb8b5a5-5325-4c34-9b0a-2cb0adf1e658"
      },
      "execution_count": 16,
      "outputs": [
        {
          "output_type": "execute_result",
          "data": {
            "text/plain": [
              "   precision    recall      far       hss\n",
              "0   0.927086  0.839449  0.78322  0.037748"
            ],
            "text/html": [
              "\n",
              "  <div id=\"df-ab07f2e0-0734-4e75-898e-e64b6ad72339\">\n",
              "    <div class=\"colab-df-container\">\n",
              "      <div>\n",
              "<style scoped>\n",
              "    .dataframe tbody tr th:only-of-type {\n",
              "        vertical-align: middle;\n",
              "    }\n",
              "\n",
              "    .dataframe tbody tr th {\n",
              "        vertical-align: top;\n",
              "    }\n",
              "\n",
              "    .dataframe thead th {\n",
              "        text-align: right;\n",
              "    }\n",
              "</style>\n",
              "<table border=\"1\" class=\"dataframe\">\n",
              "  <thead>\n",
              "    <tr style=\"text-align: right;\">\n",
              "      <th></th>\n",
              "      <th>precision</th>\n",
              "      <th>recall</th>\n",
              "      <th>far</th>\n",
              "      <th>hss</th>\n",
              "    </tr>\n",
              "  </thead>\n",
              "  <tbody>\n",
              "    <tr>\n",
              "      <th>0</th>\n",
              "      <td>0.927086</td>\n",
              "      <td>0.839449</td>\n",
              "      <td>0.78322</td>\n",
              "      <td>0.037748</td>\n",
              "    </tr>\n",
              "  </tbody>\n",
              "</table>\n",
              "</div>\n",
              "      <button class=\"colab-df-convert\" onclick=\"convertToInteractive('df-ab07f2e0-0734-4e75-898e-e64b6ad72339')\"\n",
              "              title=\"Convert this dataframe to an interactive table.\"\n",
              "              style=\"display:none;\">\n",
              "        \n",
              "  <svg xmlns=\"http://www.w3.org/2000/svg\" height=\"24px\"viewBox=\"0 0 24 24\"\n",
              "       width=\"24px\">\n",
              "    <path d=\"M0 0h24v24H0V0z\" fill=\"none\"/>\n",
              "    <path d=\"M18.56 5.44l.94 2.06.94-2.06 2.06-.94-2.06-.94-.94-2.06-.94 2.06-2.06.94zm-11 1L8.5 8.5l.94-2.06 2.06-.94-2.06-.94L8.5 2.5l-.94 2.06-2.06.94zm10 10l.94 2.06.94-2.06 2.06-.94-2.06-.94-.94-2.06-.94 2.06-2.06.94z\"/><path d=\"M17.41 7.96l-1.37-1.37c-.4-.4-.92-.59-1.43-.59-.52 0-1.04.2-1.43.59L10.3 9.45l-7.72 7.72c-.78.78-.78 2.05 0 2.83L4 21.41c.39.39.9.59 1.41.59.51 0 1.02-.2 1.41-.59l7.78-7.78 2.81-2.81c.8-.78.8-2.07 0-2.86zM5.41 20L4 18.59l7.72-7.72 1.47 1.35L5.41 20z\"/>\n",
              "  </svg>\n",
              "      </button>\n",
              "      \n",
              "  <style>\n",
              "    .colab-df-container {\n",
              "      display:flex;\n",
              "      flex-wrap:wrap;\n",
              "      gap: 12px;\n",
              "    }\n",
              "\n",
              "    .colab-df-convert {\n",
              "      background-color: #E8F0FE;\n",
              "      border: none;\n",
              "      border-radius: 50%;\n",
              "      cursor: pointer;\n",
              "      display: none;\n",
              "      fill: #1967D2;\n",
              "      height: 32px;\n",
              "      padding: 0 0 0 0;\n",
              "      width: 32px;\n",
              "    }\n",
              "\n",
              "    .colab-df-convert:hover {\n",
              "      background-color: #E2EBFA;\n",
              "      box-shadow: 0px 1px 2px rgba(60, 64, 67, 0.3), 0px 1px 3px 1px rgba(60, 64, 67, 0.15);\n",
              "      fill: #174EA6;\n",
              "    }\n",
              "\n",
              "    [theme=dark] .colab-df-convert {\n",
              "      background-color: #3B4455;\n",
              "      fill: #D2E3FC;\n",
              "    }\n",
              "\n",
              "    [theme=dark] .colab-df-convert:hover {\n",
              "      background-color: #434B5C;\n",
              "      box-shadow: 0px 1px 3px 1px rgba(0, 0, 0, 0.15);\n",
              "      filter: drop-shadow(0px 1px 2px rgba(0, 0, 0, 0.3));\n",
              "      fill: #FFFFFF;\n",
              "    }\n",
              "  </style>\n",
              "\n",
              "      <script>\n",
              "        const buttonEl =\n",
              "          document.querySelector('#df-ab07f2e0-0734-4e75-898e-e64b6ad72339 button.colab-df-convert');\n",
              "        buttonEl.style.display =\n",
              "          google.colab.kernel.accessAllowed ? 'block' : 'none';\n",
              "\n",
              "        async function convertToInteractive(key) {\n",
              "          const element = document.querySelector('#df-ab07f2e0-0734-4e75-898e-e64b6ad72339');\n",
              "          const dataTable =\n",
              "            await google.colab.kernel.invokeFunction('convertToInteractive',\n",
              "                                                     [key], {});\n",
              "          if (!dataTable) return;\n",
              "\n",
              "          const docLinkHtml = 'Like what you see? Visit the ' +\n",
              "            '<a target=\"_blank\" href=https://colab.research.google.com/notebooks/data_table.ipynb>data table notebook</a>'\n",
              "            + ' to learn more about interactive tables.';\n",
              "          element.innerHTML = '';\n",
              "          dataTable['output_type'] = 'display_data';\n",
              "          await google.colab.output.renderOutput(dataTable, element);\n",
              "          const docLink = document.createElement('div');\n",
              "          docLink.innerHTML = docLinkHtml;\n",
              "          element.appendChild(docLink);\n",
              "        }\n",
              "      </script>\n",
              "    </div>\n",
              "  </div>\n",
              "  "
            ]
          },
          "metadata": {},
          "execution_count": 16
        }
      ]
    },
    {
      "cell_type": "code",
      "source": [
        "tuned_model.model.summary()"
      ],
      "metadata": {
        "colab": {
          "base_uri": "https://localhost:8080/"
        },
        "id": "8uM0OL9QpujF",
        "outputId": "a7bfe20a-3d2b-44f9-8d73-3d30dbe2ff3a"
      },
      "execution_count": 17,
      "outputs": [
        {
          "output_type": "stream",
          "name": "stdout",
          "text": [
            "Model: \"sequential_1\"\n",
            "_________________________________________________________________\n",
            " Layer (type)                Output Shape              Param #   \n",
            "=================================================================\n",
            " lstm_2 (LSTM)               (64, 120, 16)             3520      \n",
            "                                                                 \n",
            " lstm_3 (LSTM)               (64, 120, 16)             2112      \n",
            "                                                                 \n",
            " dropout_1 (Dropout)         (64, 120, 16)             0         \n",
            "                                                                 \n",
            " dense_1 (Dense)             (64, 120, 1)              17        \n",
            "                                                                 \n",
            "=================================================================\n",
            "Total params: 5,649\n",
            "Trainable params: 5,649\n",
            "Non-trainable params: 0\n",
            "_________________________________________________________________\n"
          ]
        }
      ]
    },
    {
      "cell_type": "code",
      "source": [
        ""
      ],
      "metadata": {
        "id": "9jLR5JT5p24f"
      },
      "execution_count": null,
      "outputs": []
    }
  ],
  "metadata": {
    "colab": {
      "collapsed_sections": [],
      "machine_shape": "hm",
      "name": "ColabNotebook_ModelPipeline.ipynb",
      "provenance": []
    },
    "kernelspec": {
      "display_name": "Python 3",
      "name": "python3"
    },
    "language_info": {
      "codemirror_mode": {
        "name": "ipython",
        "version": 3
      },
      "file_extension": ".py",
      "mimetype": "text/x-python",
      "name": "python",
      "nbconvert_exporter": "python",
      "pygments_lexer": "ipython3",
      "version": "3.8.3"
    }
  },
  "nbformat": 4,
  "nbformat_minor": 0
}