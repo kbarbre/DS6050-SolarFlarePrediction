{
  "nbformat": 4,
  "nbformat_minor": 0,
  "metadata": {
    "colab": {
      "name": "ColabNotebook-ModelPipeline.ipynb",
      "provenance": [],
      "collapsed_sections": [],
      "machine_shape": "hm"
    },
    "kernelspec": {
      "name": "python3",
      "display_name": "Python 3"
    },
    "language_info": {
      "name": "python"
    }
  },
  "cells": [
    {
      "cell_type": "code",
      "source": [
        "!pip install keras-tuner"
      ],
      "metadata": {
        "colab": {
          "base_uri": "https://localhost:8080/"
        },
        "id": "ky0FGKOwTBkL",
        "outputId": "4e653014-f833-49c6-d288-a5691a731042"
      },
      "execution_count": 2,
      "outputs": [
        {
          "output_type": "stream",
          "name": "stdout",
          "text": [
            "Collecting keras-tuner\n",
            "  Downloading keras_tuner-1.1.2-py3-none-any.whl (133 kB)\n",
            "\u001b[?25l\r\u001b[K     |██▌                             | 10 kB 26.8 MB/s eta 0:00:01\r\u001b[K     |█████                           | 20 kB 12.0 MB/s eta 0:00:01\r\u001b[K     |███████▍                        | 30 kB 8.7 MB/s eta 0:00:01\r\u001b[K     |█████████▉                      | 40 kB 3.4 MB/s eta 0:00:01\r\u001b[K     |████████████▎                   | 51 kB 3.6 MB/s eta 0:00:01\r\u001b[K     |██████████████▊                 | 61 kB 4.3 MB/s eta 0:00:01\r\u001b[K     |█████████████████▏              | 71 kB 4.5 MB/s eta 0:00:01\r\u001b[K     |███████████████████▋            | 81 kB 4.5 MB/s eta 0:00:01\r\u001b[K     |██████████████████████          | 92 kB 5.1 MB/s eta 0:00:01\r\u001b[K     |████████████████████████▌       | 102 kB 4.1 MB/s eta 0:00:01\r\u001b[K     |███████████████████████████     | 112 kB 4.1 MB/s eta 0:00:01\r\u001b[K     |█████████████████████████████▍  | 122 kB 4.1 MB/s eta 0:00:01\r\u001b[K     |███████████████████████████████▉| 133 kB 4.1 MB/s eta 0:00:01\r\u001b[K     |████████████████████████████████| 133 kB 4.1 MB/s \n",
            "\u001b[?25hCollecting kt-legacy\n",
            "  Downloading kt_legacy-1.0.4-py3-none-any.whl (9.6 kB)\n",
            "Requirement already satisfied: numpy in /usr/local/lib/python3.7/dist-packages (from keras-tuner) (1.21.5)\n",
            "Requirement already satisfied: tensorboard in /usr/local/lib/python3.7/dist-packages (from keras-tuner) (2.8.0)\n",
            "Requirement already satisfied: requests in /usr/local/lib/python3.7/dist-packages (from keras-tuner) (2.23.0)\n",
            "Requirement already satisfied: ipython in /usr/local/lib/python3.7/dist-packages (from keras-tuner) (5.5.0)\n",
            "Requirement already satisfied: packaging in /usr/local/lib/python3.7/dist-packages (from keras-tuner) (21.3)\n",
            "Requirement already satisfied: pexpect in /usr/local/lib/python3.7/dist-packages (from ipython->keras-tuner) (4.8.0)\n",
            "Requirement already satisfied: simplegeneric>0.8 in /usr/local/lib/python3.7/dist-packages (from ipython->keras-tuner) (0.8.1)\n",
            "Requirement already satisfied: pickleshare in /usr/local/lib/python3.7/dist-packages (from ipython->keras-tuner) (0.7.5)\n",
            "Requirement already satisfied: prompt-toolkit<2.0.0,>=1.0.4 in /usr/local/lib/python3.7/dist-packages (from ipython->keras-tuner) (1.0.18)\n",
            "Requirement already satisfied: pygments in /usr/local/lib/python3.7/dist-packages (from ipython->keras-tuner) (2.6.1)\n",
            "Requirement already satisfied: traitlets>=4.2 in /usr/local/lib/python3.7/dist-packages (from ipython->keras-tuner) (5.1.1)\n",
            "Requirement already satisfied: setuptools>=18.5 in /usr/local/lib/python3.7/dist-packages (from ipython->keras-tuner) (57.4.0)\n",
            "Requirement already satisfied: decorator in /usr/local/lib/python3.7/dist-packages (from ipython->keras-tuner) (4.4.2)\n",
            "Requirement already satisfied: wcwidth in /usr/local/lib/python3.7/dist-packages (from prompt-toolkit<2.0.0,>=1.0.4->ipython->keras-tuner) (0.2.5)\n",
            "Requirement already satisfied: six>=1.9.0 in /usr/local/lib/python3.7/dist-packages (from prompt-toolkit<2.0.0,>=1.0.4->ipython->keras-tuner) (1.15.0)\n",
            "Requirement already satisfied: pyparsing!=3.0.5,>=2.0.2 in /usr/local/lib/python3.7/dist-packages (from packaging->keras-tuner) (3.0.8)\n",
            "Requirement already satisfied: ptyprocess>=0.5 in /usr/local/lib/python3.7/dist-packages (from pexpect->ipython->keras-tuner) (0.7.0)\n",
            "Requirement already satisfied: chardet<4,>=3.0.2 in /usr/local/lib/python3.7/dist-packages (from requests->keras-tuner) (3.0.4)\n",
            "Requirement already satisfied: certifi>=2017.4.17 in /usr/local/lib/python3.7/dist-packages (from requests->keras-tuner) (2021.10.8)\n",
            "Requirement already satisfied: idna<3,>=2.5 in /usr/local/lib/python3.7/dist-packages (from requests->keras-tuner) (2.10)\n",
            "Requirement already satisfied: urllib3!=1.25.0,!=1.25.1,<1.26,>=1.21.1 in /usr/local/lib/python3.7/dist-packages (from requests->keras-tuner) (1.24.3)\n",
            "Requirement already satisfied: tensorboard-data-server<0.7.0,>=0.6.0 in /usr/local/lib/python3.7/dist-packages (from tensorboard->keras-tuner) (0.6.1)\n",
            "Requirement already satisfied: tensorboard-plugin-wit>=1.6.0 in /usr/local/lib/python3.7/dist-packages (from tensorboard->keras-tuner) (1.8.1)\n",
            "Requirement already satisfied: absl-py>=0.4 in /usr/local/lib/python3.7/dist-packages (from tensorboard->keras-tuner) (1.0.0)\n",
            "Requirement already satisfied: google-auth<3,>=1.6.3 in /usr/local/lib/python3.7/dist-packages (from tensorboard->keras-tuner) (1.35.0)\n",
            "Requirement already satisfied: markdown>=2.6.8 in /usr/local/lib/python3.7/dist-packages (from tensorboard->keras-tuner) (3.3.6)\n",
            "Requirement already satisfied: werkzeug>=0.11.15 in /usr/local/lib/python3.7/dist-packages (from tensorboard->keras-tuner) (1.0.1)\n",
            "Requirement already satisfied: google-auth-oauthlib<0.5,>=0.4.1 in /usr/local/lib/python3.7/dist-packages (from tensorboard->keras-tuner) (0.4.6)\n",
            "Requirement already satisfied: grpcio>=1.24.3 in /usr/local/lib/python3.7/dist-packages (from tensorboard->keras-tuner) (1.44.0)\n",
            "Requirement already satisfied: protobuf>=3.6.0 in /usr/local/lib/python3.7/dist-packages (from tensorboard->keras-tuner) (3.17.3)\n",
            "Requirement already satisfied: wheel>=0.26 in /usr/local/lib/python3.7/dist-packages (from tensorboard->keras-tuner) (0.37.1)\n",
            "Requirement already satisfied: pyasn1-modules>=0.2.1 in /usr/local/lib/python3.7/dist-packages (from google-auth<3,>=1.6.3->tensorboard->keras-tuner) (0.2.8)\n",
            "Requirement already satisfied: rsa<5,>=3.1.4 in /usr/local/lib/python3.7/dist-packages (from google-auth<3,>=1.6.3->tensorboard->keras-tuner) (4.8)\n",
            "Requirement already satisfied: cachetools<5.0,>=2.0.0 in /usr/local/lib/python3.7/dist-packages (from google-auth<3,>=1.6.3->tensorboard->keras-tuner) (4.2.4)\n",
            "Requirement already satisfied: requests-oauthlib>=0.7.0 in /usr/local/lib/python3.7/dist-packages (from google-auth-oauthlib<0.5,>=0.4.1->tensorboard->keras-tuner) (1.3.1)\n",
            "Requirement already satisfied: importlib-metadata>=4.4 in /usr/local/lib/python3.7/dist-packages (from markdown>=2.6.8->tensorboard->keras-tuner) (4.11.3)\n",
            "Requirement already satisfied: zipp>=0.5 in /usr/local/lib/python3.7/dist-packages (from importlib-metadata>=4.4->markdown>=2.6.8->tensorboard->keras-tuner) (3.8.0)\n",
            "Requirement already satisfied: typing-extensions>=3.6.4 in /usr/local/lib/python3.7/dist-packages (from importlib-metadata>=4.4->markdown>=2.6.8->tensorboard->keras-tuner) (4.1.1)\n",
            "Requirement already satisfied: pyasn1<0.5.0,>=0.4.6 in /usr/local/lib/python3.7/dist-packages (from pyasn1-modules>=0.2.1->google-auth<3,>=1.6.3->tensorboard->keras-tuner) (0.4.8)\n",
            "Requirement already satisfied: oauthlib>=3.0.0 in /usr/local/lib/python3.7/dist-packages (from requests-oauthlib>=0.7.0->google-auth-oauthlib<0.5,>=0.4.1->tensorboard->keras-tuner) (3.2.0)\n",
            "Installing collected packages: kt-legacy, keras-tuner\n",
            "Successfully installed keras-tuner-1.1.2 kt-legacy-1.0.4\n"
          ]
        }
      ]
    },
    {
      "cell_type": "code",
      "execution_count": 1,
      "metadata": {
        "id": "10irgd5fQsTQ"
      },
      "outputs": [],
      "source": [
        "from data_creation import DataSelection\n",
        "from prediction_LSTM import SolarLSTM\n",
        "import pickle"
      ]
    },
    {
      "cell_type": "code",
      "source": [
        "with open(\"/content/all_data.pkl\", \"rb\") as file:\n",
        "    data = pickle.load(file)\n",
        "\n",
        "DataSelection(data, 2014, \"./\")\n",
        "# DataSelection(data, 2015, \"./\")"
      ],
      "metadata": {
        "colab": {
          "base_uri": "https://localhost:8080/"
        },
        "id": "Zh4G0bs9Q1B8",
        "outputId": "77053971-236d-423b-f1c6-6ebfbd1fde2b"
      },
      "execution_count": 4,
      "outputs": [
        {
          "output_type": "stream",
          "name": "stdout",
          "text": [
            "Num GB used in data array: 0.0\n",
            "Num GB used in data array: 0.0019025802612304688\n",
            "Num GB used in data array: 0.0019025802612304688\n",
            "Num GB used in data array: 0.0031256675720214844\n",
            "Num GB used in data array: 0.0031256675720214844\n",
            "Num GB used in data array: 0.010973811149597168\n",
            "Num GB used in data array: 0.010973811149597168\n",
            "Num GB used in data array: 0.01865208148956299\n",
            "Num GB used in data array: 0.01865208148956299\n",
            "Num GB used in data array: 0.02633035182952881\n",
            "Num GB used in data array: 0.02633035182952881\n",
            "Num GB used in data array: 0.03360092639923096\n",
            "Num GB used in data array: 0.03360092639923096\n",
            "Num GB used in data array: 0.035503506660461426\n",
            "Num GB used in data array: 0.035503506660461426\n",
            "Num GB used in data array: 0.037406086921691895\n",
            "Num GB used in data array: 0.037406086921691895\n",
            "Num GB used in data array: 0.04848182201385498\n",
            "Num GB used in data array: 0.04848182201385498\n",
            "Num GB used in data array: 0.04885554313659668\n",
            "Num GB used in data array: 0.04885554313659668\n",
            "Num GB used in data array: 0.05228698253631592\n",
            "Num GB used in data array: 0.05228698253631592\n",
            "Num GB used in data array: 0.05418956279754639\n",
            "Num GB used in data array: 0.05418956279754639\n",
            "Num GB used in data array: 0.06594479084014893\n",
            "Num GB used in data array: 0.06594479084014893\n",
            "Num GB used in data array: 0.0678473711013794\n",
            "Num GB used in data array: 0.0678473711013794\n",
            "Num GB used in data array: 0.07331728935241699\n",
            "Num GB used in data array: 0.07331728935241699\n",
            "Num GB used in data array: 0.07521986961364746\n",
            "Num GB used in data array: 0.07521986961364746\n",
            "Num GB used in data array: 0.08442699909210205\n",
            "Num GB used in data array: 0.08442699909210205\n",
            "Num GB used in data array: 0.0854802131652832\n",
            "Num GB used in data array: 0.0854802131652832\n",
            "Num GB used in data array: 0.1346755027770996\n",
            "Num GB used in data array: 0.1346755027770996\n",
            "Num GB used in data array: 0.14235377311706543\n",
            "Num GB used in data array: 0.14235377311706543\n",
            "Num GB used in data array: 0.14578521251678467\n",
            "Num GB used in data array: 0.14578521251678467\n",
            "Num GB used in data array: 0.1459890604019165\n",
            "Num GB used in data array: 0.1459890604019165\n",
            "Num GB used in data array: 0.14738202095031738\n",
            "Num GB used in data array: 0.14738202095031738\n",
            "Num GB used in data array: 0.14928460121154785\n",
            "Num GB used in data array: 0.14928460121154785\n",
            "Num GB used in data array: 0.15203654766082764\n",
            "Num GB used in data array: 0.15203654766082764\n",
            "Num GB used in data array: 0.1636219024658203\n",
            "Num GB used in data array: 0.1636219024658203\n",
            "Num GB used in data array: 0.16433537006378174\n",
            "Num GB used in data array: 0.16433537006378174\n",
            "Num GB used in data array: 0.1662379503250122\n",
            "Num GB used in data array: 0.1662379503250122\n",
            "Num GB used in data array: 0.16814053058624268\n",
            "Num GB used in data array: 0.16814053058624268\n",
            "Num GB used in data array: 0.17038285732269287\n",
            "Num GB used in data array: 0.17038285732269287\n",
            "Num GB used in data array: 0.17228543758392334\n",
            "Num GB used in data array: 0.17228543758392334\n",
            "Num GB used in data array: 0.1741880178451538\n",
            "Num GB used in data array: 0.1741880178451538\n",
            "Num GB used in data array: 0.17609059810638428\n",
            "Num GB used in data array: 0.17609059810638428\n",
            "Num GB used in data array: 0.19066572189331055\n",
            "Num GB used in data array: 0.19066572189331055\n",
            "Num GB used in data array: 0.19256830215454102\n",
            "Num GB used in data array: 0.19256830215454102\n",
            "Num GB used in data array: 0.19379138946533203\n",
            "Num GB used in data array: 0.19379138946533203\n",
            "Num GB used in data array: 0.1943349838256836\n",
            "Num GB used in data array: 0.1943349838256836\n",
            "Num GB used in data array: 0.20031452178955078\n",
            "Num GB used in data array: 0.20031452178955078\n",
            "Num GB used in data array: 0.20646393299102783\n",
            "Num GB used in data array: 0.20646393299102783\n",
            "Num GB used in data array: 0.2083665132522583\n",
            "Num GB used in data array: 0.2083665132522583\n",
            "Num GB used in data array: 0.21281719207763672\n",
            "Num GB used in data array: 0.21281719207763672\n",
            "Num GB used in data array: 0.213700532913208\n",
            "Num GB used in data array: 0.213700532913208\n",
            "Num GB used in data array: 0.2317410707473755\n",
            "Num GB used in data array: 0.2317410707473755\n",
            "Num GB used in data array: 0.24706363677978516\n",
            "Num GB used in data array: 0.24706363677978516\n",
            "Num GB used in data array: 0.2515143156051636\n",
            "Num GB used in data array: 0.2515143156051636\n",
            "Num GB used in data array: 0.25341689586639404\n",
            "Num GB used in data array: 0.25341689586639404\n",
            "Num GB used in data array: 0.25786757469177246\n",
            "Num GB used in data array: 0.25786757469177246\n",
            "Num GB used in data array: 0.25977015495300293\n",
            "Num GB used in data array: 0.25977015495300293\n",
            "Num GB used in data array: 0.26659905910491943\n",
            "Num GB used in data array: 0.26659905910491943\n",
            "Num GB used in data array: 0.2685016393661499\n",
            "Num GB used in data array: 0.2685016393661499\n",
            "Num GB used in data array: 0.30594170093536377\n",
            "Num GB used in data array: 0.30594170093536377\n",
            "Num GB used in data array: 0.31294047832489014\n",
            "Num GB used in data array: 0.31294047832489014\n",
            "Num GB used in data array: 0.3134840726852417\n",
            "Num GB used in data array: 0.3134840726852417\n",
            "Num GB used in data array: 0.32388031482696533\n",
            "Num GB used in data array: 0.32388031482696533\n",
            "Num GB used in data array: 0.3254431486129761\n",
            "Num GB used in data array: 0.3254431486129761\n",
            "Num GB used in data array: 0.32734572887420654\n",
            "Num GB used in data array: 0.32734572887420654\n",
            "Num GB used in data array: 0.329248309135437\n",
            "Num GB used in data array: 0.329248309135437\n",
            "Num GB used in data array: 0.3311508893966675\n",
            "Num GB used in data array: 0.3311508893966675\n",
            "Num GB used in data array: 0.341717004776001\n",
            "Num GB used in data array: 0.341717004776001\n",
            "Num GB used in data array: 0.34412920475006104\n",
            "Num GB used in data array: 0.34412920475006104\n",
            "Num GB used in data array: 0.3460317850112915\n",
            "Num GB used in data array: 0.3460317850112915\n",
            "Num GB used in data array: 0.3645819425582886\n",
            "Num GB used in data array: 0.3645819425582886\n",
            "Num GB used in data array: 0.36648452281951904\n",
            "Num GB used in data array: 0.36648452281951904\n",
            "Num GB used in data array: 0.37042558193206787\n",
            "Num GB used in data array: 0.37042558193206787\n",
            "Num GB used in data array: 0.3872770071029663\n",
            "Num GB used in data array: 0.3872770071029663\n",
            "Num GB used in data array: 0.3891795873641968\n",
            "Num GB used in data array: 0.3891795873641968\n",
            "Num GB used in data array: 0.41503429412841797\n",
            "Num GB used in data array: 0.41503429412841797\n",
            "Num GB used in data array: 0.41557788848876953\n",
            "Num GB used in data array: 0.41557788848876953\n",
            "Num GB used in data array: 0.41731059551239014\n",
            "Num GB used in data array: 0.41731059551239014\n",
            "Num GB used in data array: 0.42362987995147705\n",
            "Num GB used in data array: 0.42362987995147705\n",
            "Num GB used in data array: 0.4255324602127075\n",
            "Num GB used in data array: 0.4255324602127075\n",
            "Num GB used in data array: 0.427435040473938\n",
            "Num GB used in data array: 0.427435040473938\n",
            "Num GB used in data array: 0.428658127784729\n",
            "Num GB used in data array: 0.428658127784729\n",
            "Num GB used in data array: 0.44279158115386963\n",
            "Num GB used in data array: 0.44279158115386963\n",
            "Num GB used in data array: 0.44962048530578613\n",
            "Num GB used in data array: 0.44962048530578613\n",
            "Num GB used in data array: 0.4515230655670166\n",
            "Num GB used in data array: 0.4515230655670166\n",
            "Num GB used in data array: 0.452236533164978\n",
            "Num GB used in data array: 0.452236533164978\n",
            "Num GB used in data array: 0.45903146266937256\n",
            "Num GB used in data array: 0.45903146266937256\n",
            "Num GB used in data array: 0.46687960624694824\n",
            "Num GB used in data array: 0.46687960624694824\n",
            "Num GB used in data array: 0.4669475555419922\n",
            "Num GB used in data array: 0.4669475555419922\n",
            "Num GB used in data array: 0.5673086643218994\n",
            "Num GB used in data array: 0.5673086643218994\n",
            "Num GB used in data array: 0.5948621034622192\n",
            "Num GB used in data array: 0.5948621034622192\n",
            "Num GB used in data array: 0.6132084131240845\n",
            "Num GB used in data array: 0.6132084131240845\n",
            "Num GB used in data array: 0.6993681192398071\n",
            "Num GB used in data array: 0.6993681192398071\n",
            "Num GB used in data array: 0.7034450769424438\n",
            "Num GB used in data array: 0.7034450769424438\n",
            "Num GB used in data array: 0.731779932975769\n",
            "Num GB used in data array: 0.731779932975769\n",
            "Num GB used in data array: 0.8505892753601074\n",
            "Num GB used in data array: 0.8505892753601074\n",
            "Num GB used in data array: 1.0169970989227295\n",
            "Num GB used in data array: 1.0169970989227295\n",
            "Num GB used in data array: 1.3677513599395752\n",
            "Num GB used in data array: 1.3677513599395752\n",
            "Num GB used in data array: 1.8397951126098633\n",
            "Num GB used in data array: 1.8397951126098633\n",
            "Num GB used in data array: 1.9660788774490356\n",
            "Num GB used in data array: 1.9660788774490356\n",
            "Num GB used in data array: 2.009124755859375\n",
            "Num GB used in data array: 2.009124755859375\n",
            "Num GB used in data array: 2.053903341293335\n",
            "Num GB used in data array: 2.053903341293335\n",
            "Num GB used in data array: 2.0891350507736206\n",
            "Num GB used in data array: 2.0891350507736206\n",
            "Num GB used in data array: 2.0995312929153442\n",
            "Num GB used in data array: 2.0995312929153442\n",
            "Num GB used in data array: 2.370648980140686\n",
            "Num GB used in data array: 2.370648980140686\n",
            "Num GB used in data array: 2.451644539833069\n",
            "Num GB used in data array: 2.451644539833069\n",
            "Num GB used in data array: 2.728469967842102\n",
            "Num GB used in data array: 2.728469967842102\n",
            "Num GB used in data array: 2.8037917613983154\n",
            "Num GB used in data array: 2.8037917613983154\n",
            "Num GB used in data array: 2.8573697805404663\n",
            "Num GB used in data array: 2.8573697805404663\n",
            "Num GB used in data array: 2.8748327493667603\n",
            "Num GB used in data array: 2.8748327493667603\n",
            "Num GB used in data array: 2.877482771873474\n",
            "Num GB used in data array: 2.877482771873474\n",
            "Num GB used in data array: 2.9779797792434692\n",
            "Num GB used in data array: 2.9779797792434692\n",
            "Num GB used in data array: 3.128487467765808\n",
            "Num GB used in data array: 3.128487467765808\n",
            "Num GB used in data array: 3.1465280055999756\n",
            "Num GB used in data array: 3.1465280055999756\n",
            "Num GB used in data array: 3.1505030393600464\n",
            "Num GB used in data array: 3.1505030393600464\n",
            "Num GB used in data array: 3.168339729309082\n",
            "Num GB used in data array: 3.168339729309082\n",
            "Num GB used in data array: 3.173401951789856\n",
            "Num GB used in data array: 3.173401951789856\n",
            "Num GB used in data array: 3.175610303878784\n",
            "Num GB used in data array: 3.175610303878784\n",
            "Num GB used in data array: 3.193379044532776\n",
            "Num GB used in data array: 3.193379044532776\n",
            "Num GB used in data array: 3.2264024019241333\n",
            "Num GB used in data array: 3.2264024019241333\n",
            "Num GB used in data array: 3.2499808073043823\n",
            "Num GB used in data array: 3.2499808073043823\n",
            "Num GB used in data array: 3.257625102996826\n",
            "Num GB used in data array: 3.257625102996826\n",
            "Num GB used in data array: 3.27267587184906\n",
            "Num GB used in data array: 3.27267587184906\n",
            "Num GB used in data array: 3.2921433448791504\n",
            "Num GB used in data array: 3.2921433448791504\n",
            "Num GB used in data array: 3.3117127418518066\n",
            "Num GB used in data array: 3.3117127418518066\n",
            "Num GB used in data array: 3.339775800704956\n",
            "Num GB used in data array: 3.339775800704956\n",
            "Num GB used in data array: 3.3617913722991943\n",
            "Num GB used in data array: 3.3617913722991943\n",
            "Num GB used in data array: 3.391043543815613\n",
            "Num GB used in data array: 3.391043543815613\n",
            "Num GB used in data array: 3.414384126663208\n",
            "Num GB used in data array: 3.414384126663208\n",
            "Num GB used in data array: 3.657914400100708\n",
            "Num GB used in data array: 3.657914400100708\n"
          ]
        },
        {
          "output_type": "execute_result",
          "data": {
            "text/plain": [
              "<data_creation.DataSelection at 0x7f9a03a5d9d0>"
            ]
          },
          "metadata": {},
          "execution_count": 4
        }
      ]
    },
    {
      "cell_type": "code",
      "source": [
        "import numpy as np"
      ],
      "metadata": {
        "id": "fBRUPdQhszif"
      },
      "execution_count": 2,
      "outputs": []
    },
    {
      "cell_type": "code",
      "source": [
        "data2014 = np.load(\"/content/data_2014.npy\")\n",
        "labels2014 = np.load(\"/content/labels_2014.npy\")"
      ],
      "metadata": {
        "id": "5caJAPMcssGm"
      },
      "execution_count": 3,
      "outputs": []
    },
    {
      "cell_type": "code",
      "source": [
        "# data2014.shape[0] % 64"
      ],
      "metadata": {
        "colab": {
          "base_uri": "https://localhost:8080/"
        },
        "id": "IvtuPAVJZ1HO",
        "outputId": "1d411d71-7ae2-4a52-89c6-f41ceca725b5"
      },
      "execution_count": 8,
      "outputs": [
        {
          "output_type": "execute_result",
          "data": {
            "text/plain": [
              "18"
            ]
          },
          "metadata": {},
          "execution_count": 8
        }
      ]
    },
    {
      "cell_type": "code",
      "source": [
        "# # Need to adjust data size to ensure that each batch is of size 64\n",
        "# adjusted_data = data2014[:data2014.shape[0]-18, :, :]\n",
        "# adjusted_labels = labels2014[:labels2014.shape[0]-18, :, :]"
      ],
      "metadata": {
        "id": "kCjIZIOZZ6zL"
      },
      "execution_count": 9,
      "outputs": []
    },
    {
      "cell_type": "code",
      "source": [
        "base_model = SolarLSTM(data2014, labels2014, save_path=\"./\")"
      ],
      "metadata": {
        "id": "im3EwZyNYK6-"
      },
      "execution_count": 4,
      "outputs": []
    },
    {
      "cell_type": "code",
      "source": [
        "base_model.build_model()"
      ],
      "metadata": {
        "id": "Hx82BYHwQ7bb"
      },
      "execution_count": 5,
      "outputs": []
    },
    {
      "cell_type": "code",
      "source": [
        "base_model.model"
      ],
      "metadata": {
        "colab": {
          "base_uri": "https://localhost:8080/"
        },
        "id": "csd-wHI8Q9u-",
        "outputId": "d2ff3d1f-4d24-4a19-b1c2-77d18b41f2dd"
      },
      "execution_count": 6,
      "outputs": [
        {
          "output_type": "execute_result",
          "data": {
            "text/plain": [
              "<keras.engine.sequential.Sequential at 0x7f70f35a3590>"
            ]
          },
          "metadata": {},
          "execution_count": 6
        }
      ]
    },
    {
      "cell_type": "code",
      "source": [
        "base_model.fit()"
      ],
      "metadata": {
        "colab": {
          "base_uri": "https://localhost:8080/"
        },
        "id": "PTJij7KnQ_ye",
        "outputId": "a7eb3e3a-6a47-4aa6-c2c4-bce83b53a6f5"
      },
      "execution_count": 7,
      "outputs": [
        {
          "output_type": "stream",
          "name": "stdout",
          "text": [
            "Epoch 1/50\n"
          ]
        },
        {
          "output_type": "stream",
          "name": "stderr",
          "text": [
            "/usr/local/lib/python3.7/dist-packages/tensorflow/python/util/dispatch.py:1082: UserWarning: \"`binary_crossentropy` received `from_logits=True`, but the `output` argument was produced by a sigmoid or softmax activation and thus does not represent logits. Was this intended?\"\n",
            "  return dispatch_target(*args, **kwargs)\n"
          ]
        },
        {
          "output_type": "stream",
          "name": "stdout",
          "text": [
            "86/86 [==============================] - ETA: 0s - loss: 0.6677 - accuracy: 0.6070 - mse: 0.2373 - mae: 0.4731"
          ]
        },
        {
          "output_type": "stream",
          "name": "stderr",
          "text": [
            "WARNING:absl:Found untraced functions such as lstm_cell_layer_call_fn, lstm_cell_layer_call_and_return_conditional_losses, lstm_cell_1_layer_call_fn, lstm_cell_1_layer_call_and_return_conditional_losses while saving (showing 4 of 4). These functions will not be directly callable after loading.\n"
          ]
        },
        {
          "output_type": "stream",
          "name": "stdout",
          "text": [
            "INFO:tensorflow:Assets written to: model_checkpoints/assets\n"
          ]
        },
        {
          "output_type": "stream",
          "name": "stderr",
          "text": [
            "INFO:tensorflow:Assets written to: model_checkpoints/assets\n",
            "WARNING:absl:<keras.layers.recurrent.LSTMCell object at 0x7f70f36285d0> has the same name 'LSTMCell' as a built-in Keras object. Consider renaming <class 'keras.layers.recurrent.LSTMCell'> to avoid naming conflicts when loading with `tf.keras.models.load_model`. If renaming is not possible, pass the object in the `custom_objects` parameter of the load function.\n",
            "WARNING:absl:<keras.layers.recurrent.LSTMCell object at 0x7f70e9390f90> has the same name 'LSTMCell' as a built-in Keras object. Consider renaming <class 'keras.layers.recurrent.LSTMCell'> to avoid naming conflicts when loading with `tf.keras.models.load_model`. If renaming is not possible, pass the object in the `custom_objects` parameter of the load function.\n"
          ]
        },
        {
          "output_type": "stream",
          "name": "stdout",
          "text": [
            "\b\b\b\b\b\b\b\b\b\b\b\b\b\b\b\b\b\b\b\b\b\b\b\b\b\b\b\b\b\b\b\b\b\b\b\b\b\b\b\b\b\b\b\b\b\b\b\b\b\b\b\b\b\b\b\b\b\b\b\b\b\b\b\b\b\b\b\b\b\b\b\b\b\b\b\b\b\b\b\b\b\b\b\b\b\b\b\b\b\b\b\b\b\b\b\b\b\b\b\b\b\b\b\b\b\b\b\b\b\b\r86/86 [==============================] - 43s 468ms/step - loss: 0.6677 - accuracy: 0.6070 - mse: 0.2373 - mae: 0.4731 - val_loss: 0.6457 - val_accuracy: 0.6377 - val_mse: 0.2270 - val_mae: 0.4487\n",
            "Epoch 2/50\n",
            "86/86 [==============================] - 30s 344ms/step - loss: 0.6408 - accuracy: 0.6707 - mse: 0.2240 - mae: 0.4459 - val_loss: 0.6490 - val_accuracy: 0.6376 - val_mse: 0.2285 - val_mae: 0.4516\n",
            "Epoch 3/50\n",
            "86/86 [==============================] - 30s 344ms/step - loss: 0.6304 - accuracy: 0.6832 - mse: 0.2192 - mae: 0.4408 - val_loss: 0.6575 - val_accuracy: 0.6379 - val_mse: 0.2322 - val_mae: 0.4451\n"
          ]
        }
      ]
    },
    {
      "cell_type": "code",
      "source": [
        ""
      ],
      "metadata": {
        "id": "h8GEjC8_Uufd"
      },
      "execution_count": null,
      "outputs": []
    }
  ]
}