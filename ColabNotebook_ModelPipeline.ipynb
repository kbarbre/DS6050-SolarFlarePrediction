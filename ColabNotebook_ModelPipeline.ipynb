{
  "cells": [
    {
      "cell_type": "code",
      "execution_count": 1,
      "metadata": {
        "colab": {
          "base_uri": "https://localhost:8080/"
        },
        "id": "ky0FGKOwTBkL",
        "outputId": "4e653014-f833-49c6-d288-a5691a731042"
      },
      "outputs": [],
      "source": [
        "#!pip install keras-tuner"
      ]
    },
    {
      "cell_type": "code",
      "execution_count": 2,
      "metadata": {
        "id": "10irgd5fQsTQ"
      },
      "outputs": [],
      "source": [
        "from data_creation import DataSelection\n",
        "from prediction_LSTM import SolarLSTM\n",
        "import pickle"
      ]
    },
    {
      "cell_type": "code",
      "execution_count": 3,
      "metadata": {
        "colab": {
          "base_uri": "https://localhost:8080/"
        },
        "id": "Zh4G0bs9Q1B8",
        "outputId": "77053971-236d-423b-f1c6-6ebfbd1fde2b"
      },
      "outputs": [],
      "source": [
        "# with open(\"/content/all_data.pkl\", \"rb\") as file:\n",
        "#     data = pickle.load(file)\n",
        "\n",
        "# DataSelection(data, 2014, \"./\")\n",
        "# # DataSelection(data, 2015, \"./\")"
      ]
    },
    {
      "cell_type": "code",
      "execution_count": 4,
      "metadata": {
        "id": "fBRUPdQhszif"
      },
      "outputs": [],
      "source": [
        "import numpy as np"
      ]
    },
    {
      "cell_type": "code",
      "execution_count": 5,
      "metadata": {
        "id": "5caJAPMcssGm"
      },
      "outputs": [],
      "source": [
        "data2014 = np.load(\"data_2014.npy\")\n",
        "labels2014 = np.load(\"labels_2014.npy\")"
      ]
    },
    {
      "cell_type": "code",
      "execution_count": 6,
      "metadata": {
        "colab": {
          "base_uri": "https://localhost:8080/"
        },
        "id": "IvtuPAVJZ1HO",
        "outputId": "1d411d71-7ae2-4a52-89c6-f41ceca725b5"
      },
      "outputs": [],
      "source": [
        "# data2014.shape[0] % 64"
      ]
    },
    {
      "cell_type": "code",
      "execution_count": 7,
      "metadata": {
        "id": "kCjIZIOZZ6zL"
      },
      "outputs": [],
      "source": [
        "# # Need to adjust data size to ensure that each batch is of size 64\n",
        "# adjusted_data = data2014[:data2014.shape[0]-18, :, :]\n",
        "# adjusted_labels = labels2014[:labels2014.shape[0]-18, :, :]"
      ]
    },
    {
      "cell_type": "code",
      "execution_count": 8,
      "metadata": {
        "id": "im3EwZyNYK6-"
      },
      "outputs": [],
      "source": [
        "base_model = SolarLSTM(data2014, labels2014, save_path=\"./\")"
      ]
    },
    {
      "cell_type": "code",
      "execution_count": 9,
      "metadata": {
        "id": "Hx82BYHwQ7bb"
      },
      "outputs": [],
      "source": [
        "base_model.build_model()"
      ]
    },
    {
      "cell_type": "code",
      "execution_count": 10,
      "metadata": {
        "colab": {
          "base_uri": "https://localhost:8080/"
        },
        "id": "csd-wHI8Q9u-",
        "outputId": "d2ff3d1f-4d24-4a19-b1c2-77d18b41f2dd"
      },
      "outputs": [
        {
          "data": {
            "text/plain": [
              "<keras.engine.sequential.Sequential at 0x22ea2e74640>"
            ]
          },
          "execution_count": 10,
          "metadata": {},
          "output_type": "execute_result"
        }
      ],
      "source": [
        "base_model.model"
      ]
    },
    {
      "cell_type": "code",
      "execution_count": 11,
      "metadata": {
        "colab": {
          "base_uri": "https://localhost:8080/"
        },
        "id": "PTJij7KnQ_ye",
        "outputId": "a7eb3e3a-6a47-4aa6-c2c4-bce83b53a6f5"
      },
      "outputs": [
        {
          "name": "stdout",
          "output_type": "stream",
          "text": [
            "Epoch 1/50\n"
          ]
        },
        {
          "name": "stderr",
          "output_type": "stream",
          "text": [
            "C:\\Users\\Dave\\.conda\\envs\\dlproj\\lib\\site-packages\\tensorflow\\python\\util\\dispatch.py:1082: UserWarning: \"`binary_crossentropy` received `from_logits=True`, but the `output` argument was produced by a sigmoid or softmax activation and thus does not represent logits. Was this intended?\"\n",
            "  return dispatch_target(*args, **kwargs)\n"
          ]
        },
        {
          "name": "stdout",
          "output_type": "stream",
          "text": [
            "86/86 [==============================] - ETA: 0s - loss: 0.6602 - accuracy: 0.6061 - mse: 0.2338 - mae: 0.4676"
          ]
        },
        {
          "name": "stderr",
          "output_type": "stream",
          "text": [
            "WARNING:absl:Found untraced functions such as lstm_cell_layer_call_fn, lstm_cell_layer_call_and_return_conditional_losses, lstm_cell_1_layer_call_fn, lstm_cell_1_layer_call_and_return_conditional_losses while saving (showing 4 of 4). These functions will not be directly callable after loading.\n"
          ]
        },
        {
          "name": "stdout",
          "output_type": "stream",
          "text": [
            "INFO:tensorflow:Assets written to: model_checkpoints\\assets\n"
          ]
        },
        {
          "name": "stderr",
          "output_type": "stream",
          "text": [
            "INFO:tensorflow:Assets written to: model_checkpoints\\assets\n",
            "WARNING:absl:<keras.layers.recurrent.LSTMCell object at 0x0000022EA915B3D0> has the same name 'LSTMCell' as a built-in Keras object. Consider renaming <class 'keras.layers.recurrent.LSTMCell'> to avoid naming conflicts when loading with `tf.keras.models.load_model`. If renaming is not possible, pass the object in the `custom_objects` parameter of the load function.\n",
            "WARNING:absl:<keras.layers.recurrent.LSTMCell object at 0x0000022EA92A6AC0> has the same name 'LSTMCell' as a built-in Keras object. Consider renaming <class 'keras.layers.recurrent.LSTMCell'> to avoid naming conflicts when loading with `tf.keras.models.load_model`. If renaming is not possible, pass the object in the `custom_objects` parameter of the load function.\n"
          ]
        },
        {
          "name": "stdout",
          "output_type": "stream",
          "text": [
            "86/86 [==============================] - 41s 442ms/step - loss: 0.6602 - accuracy: 0.6061 - mse: 0.2338 - mae: 0.4676 - val_loss: 0.6550 - val_accuracy: 0.6379 - val_mse: 0.2312 - val_mae: 0.4484\n",
            "Epoch 2/50\n",
            "86/86 [==============================] - 31s 365ms/step - loss: 0.6265 - accuracy: 0.6701 - mse: 0.2174 - mae: 0.4366 - val_loss: 0.6602 - val_accuracy: 0.6377 - val_mse: 0.2335 - val_mae: 0.4404\n",
            "Epoch 2: early stopping\n"
          ]
        },
        {
          "data": {
            "image/png": "[encoded data removed]",
            "text/plain": [
              "<Figure size 576x360 with 1 Axes>"
            ]
          },
          "metadata": {
            "needs_background": "light"
          },
          "output_type": "display_data"
        }
      ],
      "source": [
        "history=base_model.fit()"
      ]
    },
    {
      "cell_type": "code",
      "execution_count": 12,
      "metadata": {},
      "outputs": [],
      "source": [
        "data2015 = np.load(\"data_2015.npy\")\n",
        "labels2015 = np.load(\"labels_2015.npy\")"
      ]
    },
    {
      "cell_type": "code",
      "execution_count": 13,
      "metadata": {},
      "outputs": [
        {
          "data": {
            "text/plain": [
              "(107666, 120, 38)"
            ]
          },
          "execution_count": 13,
          "metadata": {},
          "output_type": "execute_result"
        }
      ],
      "source": [
        "data2015.shape"
      ]
    },
    {
      "cell_type": "code",
      "execution_count": 14,
      "metadata": {
        "id": "h8GEjC8_Uufd"
      },
      "outputs": [
        {
          "name": "stdout",
          "output_type": "stream",
          "text": [
            "107/107 [==============================] - 17s 142ms/step - loss: 0.5674 - accuracy: 0.7443 - mse: 0.1900 - mae: 0.3954\n"
          ]
        },
        {
          "data": {
            "text/plain": [
              "[0.5673945546150208,\n",
              " 0.7442816495895386,\n",
              " 0.19000007212162018,\n",
              " 0.39536383748054504]"
            ]
          },
          "execution_count": 14,
          "metadata": {},
          "output_type": "execute_result"
        }
      ],
      "source": [
        "data_new = base_model.batch_prefetch_data(data2015,labels2015,split_data=False)\n",
        "base_model.evaluate(data_new)\n",
        "#base_model.evaluate(data_new,labels_new)"
      ]
    },
    {
      "cell_type": "code",
      "execution_count": null,
      "metadata": {},
      "outputs": [],
      "source": []
    },
    {
      "cell_type": "code",
      "execution_count": 15,
      "metadata": {},
      "outputs": [],
      "source": [
        "#Form batches (does not shuffle, cuts off remainder)\n",
        "batched_2015 = base_model.batch_prefetch_data(data2015,split_data=False)\n",
        "#Cutoff matching remainder from labels\n",
        "true_labels = labels2015[:-(labels2015.shape[0]%base_model.batch_size)]\n",
        "#Do predictions and get confusion matrix\n",
        "conf_matrix = base_model.predict_conf_matrix(batched_2015,true_labels,make_plots=True)"
      ]
    },
    {
      "cell_type": "code",
      "execution_count": 16,
      "metadata": {},
      "outputs": [
        {
          "data": {
            "text/plain": [
              "array([[9168588,    6372],\n",
              "       [3276088,  388952]], dtype=int64)"
            ]
          },
          "execution_count": 16,
          "metadata": {},
          "output_type": "execute_result"
        }
      ],
      "source": [
        "#If you want to customize the confusion matrix plot, can uncomment below and use the plot handle below\n",
        "#conf_plt_handle=base_model.plot_confusion_matrix(conf_matrix)"
      ]
    },
    {
      "cell_type": "code",
      "execution_count": 20,
      "metadata": {},
      "outputs": [
        {
          "data": {
            "text/plain": [
              "array([[9168588,    6372],\n",
              "       [3276088,  388952]], dtype=int64)"
            ]
          },
          "execution_count": 20,
          "metadata": {},
          "output_type": "execute_result"
        }
      ],
      "source": [
        "conf_matrix"
      ]
    }
  ],
  "metadata": {
    "colab": {
      "collapsed_sections": [],
      "machine_shape": "hm",
      "name": "ColabNotebook-ModelPipeline.ipynb",
      "provenance": []
    },
    "kernelspec": {
      "display_name": "Python 3",
      "name": "python3"
    },
    "language_info": {
      "codemirror_mode": {
        "name": "ipython",
        "version": 3
      },
      "file_extension": ".py",
      "mimetype": "text/x-python",
      "name": "python",
      "nbconvert_exporter": "python",
      "pygments_lexer": "ipython3",
      "version": "3.8.3"
    }
  },
  "nbformat": 4,
  "nbformat_minor": 0
}
