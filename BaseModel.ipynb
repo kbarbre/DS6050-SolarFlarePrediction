{
 "cells": [
  {
   "cell_type": "code",
   "execution_count": 67,
   "id": "dc74efcf-2d02-4b3f-a3af-53c9613d3f98",
   "metadata": {},
   "outputs": [],
   "source": [
    "from data_preparation import DataPreparation\n",
    "from windowing_scaling import WindowScale"
   ]
  },
  {
   "cell_type": "code",
   "execution_count": 68,
   "id": "db9bcb7a-0875-42d1-b752-09be84d3a366",
   "metadata": {},
   "outputs": [],
   "source": [
    "import pickle"
   ]
  },
  {
   "cell_type": "code",
   "execution_count": 69,
   "id": "6b37a1cf-81ee-40b7-9902-c7f95fd464a4",
   "metadata": {},
   "outputs": [],
   "source": [
    "with open(\"data2014.pkl\", \"rb\") as file:\n",
    "    data2014 = pickle.load(file)\n",
    "\n",
    "with open(\"labels2014.pkl\", \"rb\") as file:\n",
    "    labels2014 = pickle.load(file)\n",
    "\n",
    "with open(\"data2015.pkl\", \"rb\") as file:\n",
    "    data2015 = pickle.load(file)\n",
    "\n",
    "with open(\"labels2015.pkl\", \"rb\") as file:\n",
    "    labels2015 = pickle.load(file)"
   ]
  },
  {
   "cell_type": "code",
   "execution_count": 72,
   "id": "f0d97378-6ece-4176-bbe5-4f6d37f0903f",
   "metadata": {},
   "outputs": [
    {
     "data": {
      "text/plain": [
       "0    11478\n",
       "1       15\n",
       "dtype: int64"
      ]
     },
     "execution_count": 72,
     "metadata": {},
     "output_type": "execute_result"
    }
   ],
   "source": [
    "labels2014.value_counts()"
   ]
  },
  {
   "cell_type": "code",
   "execution_count": null,
   "id": "ef6915f2-34f3-4dda-a25b-0c48dae7b22c",
   "metadata": {
    "tags": []
   },
   "outputs": [],
   "source": [
    "data2014 = DataPreparation(data2014, labels2014, True)\n",
    "data2014.select_variables()\n",
    "data2014.check_categorical()\n",
    "data2014.to_numpy()\n",
    "\n",
    "data2015 = DataPreparation(data2015, labels2015, True)\n",
    "data2015.select_variables()\n",
    "data2015.check_categorical()\n",
    "data2015.to_numpy()\n",
    "\n",
    "windowed_data2014 = WindowScale(data2014.array_data, data2014.labels)"
   ]
  },
  {
   "cell_type": "code",
   "execution_count": null,
   "id": "56e2c21b-a27e-4e54-93e2-c237f02de8ee",
   "metadata": {},
   "outputs": [
    {
     "data": {
      "text/plain": [
       "(11374, 120, 38)"
      ]
     },
     "execution_count": 74,
     "metadata": {},
     "output_type": "execute_result"
    }
   ],
   "source": [
    "windowed_data2014.windowed_data.shape"
   ]
  },
  {
   "cell_type": "code",
   "execution_count": null,
   "id": "9cdfb2b8-6e58-42fb-8a86-8f3ea949a16b",
   "metadata": {},
   "outputs": [
    {
     "data": {
      "text/plain": [
       "14"
      ]
     },
     "execution_count": 75,
     "metadata": {},
     "output_type": "execute_result"
    }
   ],
   "source": [
    "11374 % 32"
   ]
  },
  {
   "cell_type": "code",
   "execution_count": null,
   "id": "f6143b84-0cd1-45af-b8d0-454862ada985",
   "metadata": {},
   "outputs": [
    {
     "data": {
      "text/plain": [
       "(11374, 120)"
      ]
     },
     "execution_count": 76,
     "metadata": {},
     "output_type": "execute_result"
    }
   ],
   "source": [
    "windowed_data2014.windowed_labels.shape"
   ]
  },
  {
   "cell_type": "code",
   "execution_count": null,
   "id": "04bb1944-ae49-4cb3-9ac2-88910da67f8a",
   "metadata": {},
   "outputs": [
    {
     "data": {
      "text/plain": [
       "array([0], dtype=int64)"
      ]
     },
     "execution_count": 77,
     "metadata": {},
     "output_type": "execute_result"
    }
   ],
   "source": [
    "np.unique(windowed_data2014.windowed_labels.flatten())"
   ]
  },
  {
   "cell_type": "code",
   "execution_count": null,
   "id": "1dccab3c-62ab-41b8-a064-b74d928589e7",
   "metadata": {},
   "outputs": [
    {
     "data": {
      "text/plain": [
       "1.0000000000000002"
      ]
     },
     "execution_count": 78,
     "metadata": {},
     "output_type": "execute_result"
    }
   ],
   "source": [
    "windowed_data2014.windowed_data[0, 0, 0]"
   ]
  },
  {
   "cell_type": "code",
   "execution_count": 7,
   "id": "0b1b5b50-93f2-4bb5-b309-660e96b9feea",
   "metadata": {},
   "outputs": [
    {
     "data": {
      "text/plain": [
       "(11360, 120, 38)"
      ]
     },
     "execution_count": 7,
     "metadata": {},
     "output_type": "execute_result"
    }
   ],
   "source": [
    "adjusted_data = windowed_data2014.windowed_data[:len(windowed_data2014.windowed_data)-14, :, :]\n",
    "adjusted_data.shape"
   ]
  },
  {
   "cell_type": "code",
   "execution_count": 8,
   "id": "46204085-68af-4ef1-a0ea-480f893c4d58",
   "metadata": {},
   "outputs": [
    {
     "data": {
      "text/plain": [
       "0"
      ]
     },
     "execution_count": 8,
     "metadata": {},
     "output_type": "execute_result"
    }
   ],
   "source": [
    "11360 % 32"
   ]
  },
  {
   "cell_type": "code",
   "execution_count": 9,
   "id": "4c55ce89-52f1-40c2-bac0-98e30b8085de",
   "metadata": {},
   "outputs": [
    {
     "data": {
      "text/plain": [
       "(11360, 120)"
      ]
     },
     "execution_count": 9,
     "metadata": {},
     "output_type": "execute_result"
    }
   ],
   "source": [
    "adjusted_labels = windowed_data2014.windowed_labels[:len(windowed_data2014.windowed_labels)-14]\n",
    "adjusted_labels.shape"
   ]
  },
  {
   "cell_type": "code",
   "execution_count": 10,
   "id": "60dc917c-7c21-4ca3-81c6-9348953c89fd",
   "metadata": {},
   "outputs": [],
   "source": [
    "from prediction_LSTM import SolarLSTM"
   ]
  },
  {
   "cell_type": "code",
   "execution_count": 11,
   "id": "37410015-977c-4a19-a26b-fa96f7cd4353",
   "metadata": {},
   "outputs": [],
   "source": [
    "base_model = SolarLSTM(adjusted_data,\n",
    "                       adjusted_labels,\n",
    "                       save_path=\"./\")"
   ]
  },
  {
   "cell_type": "code",
   "execution_count": 12,
   "id": "5f8752b2-bd78-4a10-bdf5-04f5adfe7742",
   "metadata": {},
   "outputs": [],
   "source": [
    "base_model.build_model()"
   ]
  },
  {
   "cell_type": "code",
   "execution_count": 13,
   "id": "276f6163-dc78-4120-aa3f-858a09946a51",
   "metadata": {},
   "outputs": [
    {
     "data": {
      "text/plain": [
       "<keras.engine.sequential.Sequential at 0x2126e840088>"
      ]
     },
     "execution_count": 13,
     "metadata": {},
     "output_type": "execute_result"
    }
   ],
   "source": [
    "base_model.model"
   ]
  },
  {
   "cell_type": "code",
   "execution_count": 14,
   "id": "dca7696b-8ca3-4922-8541-ac5569d0d76a",
   "metadata": {},
   "outputs": [
    {
     "name": "stdout",
     "output_type": "stream",
     "text": [
      "Epoch 1/50\n",
      "284/284 [==============================] - 22s 67ms/step - loss: 0.7206 - accuracy: 0.9959 - mse: 0.0126 - mae: 0.0518 - val_loss: 0.6952 - val_accuracy: 1.0000 - val_mse: 1.7352e-05 - val_mae: 0.0042\n"
     ]
    },
    {
     "name": "stderr",
     "output_type": "stream",
     "text": [
      "WARNING:absl:Found untraced functions such as lstm_cell_layer_call_fn, lstm_cell_layer_call_and_return_conditional_losses, lstm_cell_1_layer_call_fn, lstm_cell_1_layer_call_and_return_conditional_losses, lstm_cell_layer_call_fn while saving (showing 5 of 10). These functions will not be directly callable after loading.\n"
     ]
    },
    {
     "name": "stdout",
     "output_type": "stream",
     "text": [
      "INFO:tensorflow:Assets written to: model_checkpoints\\assets\n"
     ]
    },
    {
     "name": "stderr",
     "output_type": "stream",
     "text": [
      "INFO:tensorflow:Assets written to: model_checkpoints\\assets\n"
     ]
    },
    {
     "name": "stdout",
     "output_type": "stream",
     "text": [
      "Epoch 2/50\n",
      "284/284 [==============================] - 18s 63ms/step - loss: 0.6950 - accuracy: 1.0000 - mse: 3.0972e-05 - mae: 0.0036 - val_loss: 0.6939 - val_accuracy: 1.0000 - val_mse: 2.5439e-06 - val_mae: 0.0016\n"
     ]
    },
    {
     "name": "stderr",
     "output_type": "stream",
     "text": [
      "WARNING:absl:Found untraced functions such as lstm_cell_layer_call_fn, lstm_cell_layer_call_and_return_conditional_losses, lstm_cell_1_layer_call_fn, lstm_cell_1_layer_call_and_return_conditional_losses, lstm_cell_layer_call_fn while saving (showing 5 of 10). These functions will not be directly callable after loading.\n"
     ]
    },
    {
     "name": "stdout",
     "output_type": "stream",
     "text": [
      "INFO:tensorflow:Assets written to: model_checkpoints\\assets\n"
     ]
    },
    {
     "name": "stderr",
     "output_type": "stream",
     "text": [
      "INFO:tensorflow:Assets written to: model_checkpoints\\assets\n"
     ]
    },
    {
     "name": "stdout",
     "output_type": "stream",
     "text": [
      "Epoch 3/50\n",
      "284/284 [==============================] - 20s 71ms/step - loss: 0.6940 - accuracy: 1.0000 - mse: 9.3045e-06 - mae: 0.0018 - val_loss: 0.6936 - val_accuracy: 1.0000 - val_mse: 7.1902e-07 - val_mae: 8.4792e-04\n"
     ]
    },
    {
     "name": "stderr",
     "output_type": "stream",
     "text": [
      "WARNING:absl:Found untraced functions such as lstm_cell_layer_call_fn, lstm_cell_layer_call_and_return_conditional_losses, lstm_cell_1_layer_call_fn, lstm_cell_1_layer_call_and_return_conditional_losses, lstm_cell_layer_call_fn while saving (showing 5 of 10). These functions will not be directly callable after loading.\n"
     ]
    },
    {
     "name": "stdout",
     "output_type": "stream",
     "text": [
      "INFO:tensorflow:Assets written to: model_checkpoints\\assets\n"
     ]
    },
    {
     "name": "stderr",
     "output_type": "stream",
     "text": [
      "INFO:tensorflow:Assets written to: model_checkpoints\\assets\n"
     ]
    },
    {
     "name": "stdout",
     "output_type": "stream",
     "text": [
      "Epoch 4/50\n",
      "284/284 [==============================] - 20s 71ms/step - loss: 0.6937 - accuracy: 1.0000 - mse: 4.2212e-06 - mae: 0.0011 - val_loss: 0.6934 - val_accuracy: 1.0000 - val_mse: 2.7242e-07 - val_mae: 5.2192e-04\n"
     ]
    },
    {
     "name": "stderr",
     "output_type": "stream",
     "text": [
      "WARNING:absl:Found untraced functions such as lstm_cell_layer_call_fn, lstm_cell_layer_call_and_return_conditional_losses, lstm_cell_1_layer_call_fn, lstm_cell_1_layer_call_and_return_conditional_losses, lstm_cell_layer_call_fn while saving (showing 5 of 10). These functions will not be directly callable after loading.\n"
     ]
    },
    {
     "name": "stdout",
     "output_type": "stream",
     "text": [
      "INFO:tensorflow:Assets written to: model_checkpoints\\assets\n"
     ]
    },
    {
     "name": "stderr",
     "output_type": "stream",
     "text": [
      "INFO:tensorflow:Assets written to: model_checkpoints\\assets\n"
     ]
    },
    {
     "name": "stdout",
     "output_type": "stream",
     "text": [
      "Epoch 5/50\n",
      "284/284 [==============================] - 19s 68ms/step - loss: 0.6935 - accuracy: 1.0000 - mse: 2.2853e-06 - mae: 7.5787e-04 - val_loss: 0.6933 - val_accuracy: 1.0000 - val_mse: 1.2207e-07 - val_mae: 3.4938e-04\n"
     ]
    },
    {
     "name": "stderr",
     "output_type": "stream",
     "text": [
      "WARNING:absl:Found untraced functions such as lstm_cell_layer_call_fn, lstm_cell_layer_call_and_return_conditional_losses, lstm_cell_1_layer_call_fn, lstm_cell_1_layer_call_and_return_conditional_losses, lstm_cell_layer_call_fn while saving (showing 5 of 10). These functions will not be directly callable after loading.\n"
     ]
    },
    {
     "name": "stdout",
     "output_type": "stream",
     "text": [
      "INFO:tensorflow:Assets written to: model_checkpoints\\assets\n"
     ]
    },
    {
     "name": "stderr",
     "output_type": "stream",
     "text": [
      "INFO:tensorflow:Assets written to: model_checkpoints\\assets\n"
     ]
    },
    {
     "name": "stdout",
     "output_type": "stream",
     "text": [
      "Epoch 6/50\n",
      "284/284 [==============================] - 19s 68ms/step - loss: 0.6934 - accuracy: 1.0000 - mse: 1.3925e-06 - mae: 5.5215e-04 - val_loss: 0.6933 - val_accuracy: 1.0000 - val_mse: 6.0968e-08 - val_mae: 2.4691e-04\n"
     ]
    },
    {
     "name": "stderr",
     "output_type": "stream",
     "text": [
      "WARNING:absl:Found untraced functions such as lstm_cell_layer_call_fn, lstm_cell_layer_call_and_return_conditional_losses, lstm_cell_1_layer_call_fn, lstm_cell_1_layer_call_and_return_conditional_losses, lstm_cell_layer_call_fn while saving (showing 5 of 10). These functions will not be directly callable after loading.\n"
     ]
    },
    {
     "name": "stdout",
     "output_type": "stream",
     "text": [
      "INFO:tensorflow:Assets written to: model_checkpoints\\assets\n"
     ]
    },
    {
     "name": "stderr",
     "output_type": "stream",
     "text": [
      "INFO:tensorflow:Assets written to: model_checkpoints\\assets\n"
     ]
    },
    {
     "name": "stdout",
     "output_type": "stream",
     "text": [
      "Epoch 7/50\n",
      "284/284 [==============================] - 19s 68ms/step - loss: 0.6934 - accuracy: 1.0000 - mse: 9.0822e-07 - mae: 4.1854e-04 - val_loss: 0.6932 - val_accuracy: 1.0000 - val_mse: 3.2859e-08 - val_mae: 1.8127e-04\n"
     ]
    },
    {
     "name": "stderr",
     "output_type": "stream",
     "text": [
      "WARNING:absl:Found untraced functions such as lstm_cell_layer_call_fn, lstm_cell_layer_call_and_return_conditional_losses, lstm_cell_1_layer_call_fn, lstm_cell_1_layer_call_and_return_conditional_losses, lstm_cell_layer_call_fn while saving (showing 5 of 10). These functions will not be directly callable after loading.\n"
     ]
    },
    {
     "name": "stdout",
     "output_type": "stream",
     "text": [
      "INFO:tensorflow:Assets written to: model_checkpoints\\assets\n"
     ]
    },
    {
     "name": "stderr",
     "output_type": "stream",
     "text": [
      "INFO:tensorflow:Assets written to: model_checkpoints\\assets\n"
     ]
    },
    {
     "name": "stdout",
     "output_type": "stream",
     "text": [
      "Epoch 8/50\n",
      "284/284 [==============================] - 19s 65ms/step - loss: 0.6933 - accuracy: 1.0000 - mse: 6.1467e-07 - mae: 3.2743e-04 - val_loss: 0.6932 - val_accuracy: 1.0000 - val_mse: 1.8694e-08 - val_mae: 1.3672e-04\n"
     ]
    },
    {
     "name": "stderr",
     "output_type": "stream",
     "text": [
      "WARNING:absl:Found untraced functions such as lstm_cell_layer_call_fn, lstm_cell_layer_call_and_return_conditional_losses, lstm_cell_1_layer_call_fn, lstm_cell_1_layer_call_and_return_conditional_losses, lstm_cell_layer_call_fn while saving (showing 5 of 10). These functions will not be directly callable after loading.\n"
     ]
    },
    {
     "name": "stdout",
     "output_type": "stream",
     "text": [
      "INFO:tensorflow:Assets written to: model_checkpoints\\assets\n"
     ]
    },
    {
     "name": "stderr",
     "output_type": "stream",
     "text": [
      "INFO:tensorflow:Assets written to: model_checkpoints\\assets\n"
     ]
    },
    {
     "name": "stdout",
     "output_type": "stream",
     "text": [
      "Epoch 9/50\n",
      "284/284 [==============================] - 18s 64ms/step - loss: 0.6933 - accuracy: 1.0000 - mse: 4.3211e-07 - mae: 2.6043e-04 - val_loss: 0.6932 - val_accuracy: 1.0000 - val_mse: 1.1099e-08 - val_mae: 1.0535e-04\n"
     ]
    },
    {
     "name": "stderr",
     "output_type": "stream",
     "text": [
      "WARNING:absl:Found untraced functions such as lstm_cell_layer_call_fn, lstm_cell_layer_call_and_return_conditional_losses, lstm_cell_1_layer_call_fn, lstm_cell_1_layer_call_and_return_conditional_losses, lstm_cell_layer_call_fn while saving (showing 5 of 10). These functions will not be directly callable after loading.\n"
     ]
    },
    {
     "name": "stdout",
     "output_type": "stream",
     "text": [
      "INFO:tensorflow:Assets written to: model_checkpoints\\assets\n"
     ]
    },
    {
     "name": "stderr",
     "output_type": "stream",
     "text": [
      "INFO:tensorflow:Assets written to: model_checkpoints\\assets\n"
     ]
    },
    {
     "name": "stdout",
     "output_type": "stream",
     "text": [
      "Epoch 10/50\n",
      "284/284 [==============================] - 20s 70ms/step - loss: 0.6933 - accuracy: 1.0000 - mse: 3.1357e-07 - mae: 2.1254e-04 - val_loss: 0.6932 - val_accuracy: 1.0000 - val_mse: 6.7951e-09 - val_mae: 8.2431e-05\n"
     ]
    },
    {
     "name": "stderr",
     "output_type": "stream",
     "text": [
      "WARNING:absl:Found untraced functions such as lstm_cell_layer_call_fn, lstm_cell_layer_call_and_return_conditional_losses, lstm_cell_1_layer_call_fn, lstm_cell_1_layer_call_and_return_conditional_losses, lstm_cell_layer_call_fn while saving (showing 5 of 10). These functions will not be directly callable after loading.\n"
     ]
    },
    {
     "name": "stdout",
     "output_type": "stream",
     "text": [
      "INFO:tensorflow:Assets written to: model_checkpoints\\assets\n"
     ]
    },
    {
     "name": "stderr",
     "output_type": "stream",
     "text": [
      "INFO:tensorflow:Assets written to: model_checkpoints\\assets\n"
     ]
    },
    {
     "name": "stdout",
     "output_type": "stream",
     "text": [
      "Epoch 11/50\n",
      "284/284 [==============================] - 28s 100ms/step - loss: 0.6932 - accuracy: 1.0000 - mse: 2.5130e-07 - mae: 1.7472e-04 - val_loss: 0.6932 - val_accuracy: 1.0000 - val_mse: 4.2670e-09 - val_mae: 6.5322e-05\n"
     ]
    },
    {
     "name": "stderr",
     "output_type": "stream",
     "text": [
      "WARNING:absl:Found untraced functions such as lstm_cell_layer_call_fn, lstm_cell_layer_call_and_return_conditional_losses, lstm_cell_1_layer_call_fn, lstm_cell_1_layer_call_and_return_conditional_losses, lstm_cell_layer_call_fn while saving (showing 5 of 10). These functions will not be directly callable after loading.\n"
     ]
    },
    {
     "name": "stdout",
     "output_type": "stream",
     "text": [
      "INFO:tensorflow:Assets written to: model_checkpoints\\assets\n"
     ]
    },
    {
     "name": "stderr",
     "output_type": "stream",
     "text": [
      "INFO:tensorflow:Assets written to: model_checkpoints\\assets\n"
     ]
    },
    {
     "name": "stdout",
     "output_type": "stream",
     "text": [
      "Epoch 12/50\n",
      "284/284 [==============================] - 21s 74ms/step - loss: 0.6932 - accuracy: 1.0000 - mse: 1.8826e-07 - mae: 1.4508e-04 - val_loss: 0.6932 - val_accuracy: 1.0000 - val_mse: 2.7348e-09 - val_mae: 5.2295e-05\n"
     ]
    },
    {
     "name": "stderr",
     "output_type": "stream",
     "text": [
      "WARNING:absl:Found untraced functions such as lstm_cell_layer_call_fn, lstm_cell_layer_call_and_return_conditional_losses, lstm_cell_1_layer_call_fn, lstm_cell_1_layer_call_and_return_conditional_losses, lstm_cell_layer_call_fn while saving (showing 5 of 10). These functions will not be directly callable after loading.\n"
     ]
    },
    {
     "name": "stdout",
     "output_type": "stream",
     "text": [
      "INFO:tensorflow:Assets written to: model_checkpoints\\assets\n"
     ]
    },
    {
     "name": "stderr",
     "output_type": "stream",
     "text": [
      "INFO:tensorflow:Assets written to: model_checkpoints\\assets\n"
     ]
    },
    {
     "name": "stdout",
     "output_type": "stream",
     "text": [
      "Epoch 13/50\n",
      "284/284 [==============================] - 19s 67ms/step - loss: 0.6932 - accuracy: 1.0000 - mse: 1.4821e-07 - mae: 1.2208e-04 - val_loss: 0.6932 - val_accuracy: 1.0000 - val_mse: 1.7799e-09 - val_mae: 4.2188e-05\n"
     ]
    },
    {
     "name": "stderr",
     "output_type": "stream",
     "text": [
      "WARNING:absl:Found untraced functions such as lstm_cell_layer_call_fn, lstm_cell_layer_call_and_return_conditional_losses, lstm_cell_1_layer_call_fn, lstm_cell_1_layer_call_and_return_conditional_losses, lstm_cell_layer_call_fn while saving (showing 5 of 10). These functions will not be directly callable after loading.\n"
     ]
    },
    {
     "name": "stdout",
     "output_type": "stream",
     "text": [
      "INFO:tensorflow:Assets written to: model_checkpoints\\assets\n"
     ]
    },
    {
     "name": "stderr",
     "output_type": "stream",
     "text": [
      "INFO:tensorflow:Assets written to: model_checkpoints\\assets\n"
     ]
    },
    {
     "name": "stdout",
     "output_type": "stream",
     "text": [
      "Epoch 14/50\n",
      "284/284 [==============================] - 18s 62ms/step - loss: 0.6932 - accuracy: 1.0000 - mse: 1.0773e-07 - mae: 1.0262e-04 - val_loss: 0.6932 - val_accuracy: 1.0000 - val_mse: 1.1749e-09 - val_mae: 3.4277e-05\n"
     ]
    },
    {
     "name": "stderr",
     "output_type": "stream",
     "text": [
      "WARNING:absl:Found untraced functions such as lstm_cell_layer_call_fn, lstm_cell_layer_call_and_return_conditional_losses, lstm_cell_1_layer_call_fn, lstm_cell_1_layer_call_and_return_conditional_losses, lstm_cell_layer_call_fn while saving (showing 5 of 10). These functions will not be directly callable after loading.\n"
     ]
    },
    {
     "name": "stdout",
     "output_type": "stream",
     "text": [
      "INFO:tensorflow:Assets written to: model_checkpoints\\assets\n"
     ]
    },
    {
     "name": "stderr",
     "output_type": "stream",
     "text": [
      "INFO:tensorflow:Assets written to: model_checkpoints\\assets\n"
     ]
    },
    {
     "name": "stdout",
     "output_type": "stream",
     "text": [
      "Epoch 15/50\n",
      "284/284 [==============================] - 18s 63ms/step - loss: 0.6932 - accuracy: 1.0000 - mse: 9.5722e-08 - mae: 8.7228e-05 - val_loss: 0.6932 - val_accuracy: 1.0000 - val_mse: 7.8407e-10 - val_mae: 2.8001e-05\n"
     ]
    },
    {
     "name": "stderr",
     "output_type": "stream",
     "text": [
      "WARNING:absl:Found untraced functions such as lstm_cell_layer_call_fn, lstm_cell_layer_call_and_return_conditional_losses, lstm_cell_1_layer_call_fn, lstm_cell_1_layer_call_and_return_conditional_losses, lstm_cell_layer_call_fn while saving (showing 5 of 10). These functions will not be directly callable after loading.\n"
     ]
    },
    {
     "name": "stdout",
     "output_type": "stream",
     "text": [
      "INFO:tensorflow:Assets written to: model_checkpoints\\assets\n"
     ]
    },
    {
     "name": "stderr",
     "output_type": "stream",
     "text": [
      "INFO:tensorflow:Assets written to: model_checkpoints\\assets\n"
     ]
    },
    {
     "name": "stdout",
     "output_type": "stream",
     "text": [
      "Epoch 16/50\n",
      "284/284 [==============================] - 20s 69ms/step - loss: 0.6932 - accuracy: 1.0000 - mse: 7.2532e-08 - mae: 7.4360e-05 - val_loss: 0.6932 - val_accuracy: 1.0000 - val_mse: 5.2772e-10 - val_mae: 2.2972e-05\n"
     ]
    },
    {
     "name": "stderr",
     "output_type": "stream",
     "text": [
      "WARNING:absl:Found untraced functions such as lstm_cell_layer_call_fn, lstm_cell_layer_call_and_return_conditional_losses, lstm_cell_1_layer_call_fn, lstm_cell_1_layer_call_and_return_conditional_losses, lstm_cell_layer_call_fn while saving (showing 5 of 10). These functions will not be directly callable after loading.\n"
     ]
    },
    {
     "name": "stdout",
     "output_type": "stream",
     "text": [
      "INFO:tensorflow:Assets written to: model_checkpoints\\assets\n"
     ]
    },
    {
     "name": "stderr",
     "output_type": "stream",
     "text": [
      "INFO:tensorflow:Assets written to: model_checkpoints\\assets\n"
     ]
    },
    {
     "name": "stdout",
     "output_type": "stream",
     "text": [
      "Epoch 17/50\n",
      "284/284 [==============================] - 19s 66ms/step - loss: 0.6932 - accuracy: 1.0000 - mse: 5.7172e-08 - mae: 6.3801e-05 - val_loss: 0.6932 - val_accuracy: 1.0000 - val_mse: 3.5758e-10 - val_mae: 1.8910e-05\n"
     ]
    },
    {
     "name": "stderr",
     "output_type": "stream",
     "text": [
      "WARNING:absl:Found untraced functions such as lstm_cell_layer_call_fn, lstm_cell_layer_call_and_return_conditional_losses, lstm_cell_1_layer_call_fn, lstm_cell_1_layer_call_and_return_conditional_losses, lstm_cell_layer_call_fn while saving (showing 5 of 10). These functions will not be directly callable after loading.\n"
     ]
    },
    {
     "name": "stdout",
     "output_type": "stream",
     "text": [
      "INFO:tensorflow:Assets written to: model_checkpoints\\assets\n"
     ]
    },
    {
     "name": "stderr",
     "output_type": "stream",
     "text": [
      "INFO:tensorflow:Assets written to: model_checkpoints\\assets\n"
     ]
    },
    {
     "name": "stdout",
     "output_type": "stream",
     "text": [
      "Epoch 18/50\n",
      "284/284 [==============================] - 19s 66ms/step - loss: 0.6932 - accuracy: 1.0000 - mse: 4.9704e-08 - mae: 5.4985e-05 - val_loss: 0.6932 - val_accuracy: 1.0000 - val_mse: 2.4355e-10 - val_mae: 1.5606e-05\n"
     ]
    },
    {
     "name": "stderr",
     "output_type": "stream",
     "text": [
      "WARNING:absl:Found untraced functions such as lstm_cell_layer_call_fn, lstm_cell_layer_call_and_return_conditional_losses, lstm_cell_1_layer_call_fn, lstm_cell_1_layer_call_and_return_conditional_losses, lstm_cell_layer_call_fn while saving (showing 5 of 10). These functions will not be directly callable after loading.\n"
     ]
    },
    {
     "name": "stdout",
     "output_type": "stream",
     "text": [
      "INFO:tensorflow:Assets written to: model_checkpoints\\assets\n"
     ]
    },
    {
     "name": "stderr",
     "output_type": "stream",
     "text": [
      "INFO:tensorflow:Assets written to: model_checkpoints\\assets\n"
     ]
    },
    {
     "name": "stdout",
     "output_type": "stream",
     "text": [
      "Epoch 19/50\n",
      "284/284 [==============================] - 21s 74ms/step - loss: 0.6932 - accuracy: 1.0000 - mse: 3.8632e-08 - mae: 4.7325e-05 - val_loss: 0.6932 - val_accuracy: 1.0000 - val_mse: 1.6672e-10 - val_mae: 1.2912e-05\n"
     ]
    },
    {
     "name": "stderr",
     "output_type": "stream",
     "text": [
      "WARNING:absl:Found untraced functions such as lstm_cell_layer_call_fn, lstm_cell_layer_call_and_return_conditional_losses, lstm_cell_1_layer_call_fn, lstm_cell_1_layer_call_and_return_conditional_losses, lstm_cell_layer_call_fn while saving (showing 5 of 10). These functions will not be directly callable after loading.\n"
     ]
    },
    {
     "name": "stdout",
     "output_type": "stream",
     "text": [
      "INFO:tensorflow:Assets written to: model_checkpoints\\assets\n"
     ]
    },
    {
     "name": "stderr",
     "output_type": "stream",
     "text": [
      "INFO:tensorflow:Assets written to: model_checkpoints\\assets\n"
     ]
    },
    {
     "name": "stdout",
     "output_type": "stream",
     "text": [
      "Epoch 20/50\n",
      "284/284 [==============================] - 19s 68ms/step - loss: 0.6932 - accuracy: 1.0000 - mse: 3.2050e-08 - mae: 4.1064e-05 - val_loss: 0.6932 - val_accuracy: 1.0000 - val_mse: 1.1447e-10 - val_mae: 1.0699e-05\n"
     ]
    },
    {
     "name": "stderr",
     "output_type": "stream",
     "text": [
      "WARNING:absl:Found untraced functions such as lstm_cell_layer_call_fn, lstm_cell_layer_call_and_return_conditional_losses, lstm_cell_1_layer_call_fn, lstm_cell_1_layer_call_and_return_conditional_losses, lstm_cell_layer_call_fn while saving (showing 5 of 10). These functions will not be directly callable after loading.\n"
     ]
    },
    {
     "name": "stdout",
     "output_type": "stream",
     "text": [
      "INFO:tensorflow:Assets written to: model_checkpoints\\assets\n"
     ]
    },
    {
     "name": "stderr",
     "output_type": "stream",
     "text": [
      "INFO:tensorflow:Assets written to: model_checkpoints\\assets\n"
     ]
    },
    {
     "name": "stdout",
     "output_type": "stream",
     "text": [
      "Epoch 21/50\n",
      "284/284 [==============================] - 23s 83ms/step - loss: 0.6932 - accuracy: 1.0000 - mse: 2.6015e-08 - mae: 3.5370e-05 - val_loss: 0.6932 - val_accuracy: 1.0000 - val_mse: 7.8970e-11 - val_mae: 8.8865e-06curacy: 1.0000 - mse: 2.\n"
     ]
    },
    {
     "name": "stderr",
     "output_type": "stream",
     "text": [
      "WARNING:absl:Found untraced functions such as lstm_cell_layer_call_fn, lstm_cell_layer_call_and_return_conditional_losses, lstm_cell_1_layer_call_fn, lstm_cell_1_layer_call_and_return_conditional_losses, lstm_cell_layer_call_fn while saving (showing 5 of 10). These functions will not be directly callable after loading.\n"
     ]
    },
    {
     "name": "stdout",
     "output_type": "stream",
     "text": [
      "INFO:tensorflow:Assets written to: model_checkpoints\\assets\n"
     ]
    },
    {
     "name": "stderr",
     "output_type": "stream",
     "text": [
      "INFO:tensorflow:Assets written to: model_checkpoints\\assets\n"
     ]
    },
    {
     "name": "stdout",
     "output_type": "stream",
     "text": [
      "Epoch 22/50\n",
      "284/284 [==============================] - 20s 69ms/step - loss: 0.6932 - accuracy: 1.0000 - mse: 2.2770e-08 - mae: 3.0636e-05 - val_loss: 0.6932 - val_accuracy: 1.0000 - val_mse: 5.4619e-11 - val_mae: 7.3904e-06\n"
     ]
    },
    {
     "name": "stderr",
     "output_type": "stream",
     "text": [
      "WARNING:absl:Found untraced functions such as lstm_cell_layer_call_fn, lstm_cell_layer_call_and_return_conditional_losses, lstm_cell_1_layer_call_fn, lstm_cell_1_layer_call_and_return_conditional_losses, lstm_cell_layer_call_fn while saving (showing 5 of 10). These functions will not be directly callable after loading.\n"
     ]
    },
    {
     "name": "stdout",
     "output_type": "stream",
     "text": [
      "INFO:tensorflow:Assets written to: model_checkpoints\\assets\n"
     ]
    },
    {
     "name": "stderr",
     "output_type": "stream",
     "text": [
      "INFO:tensorflow:Assets written to: model_checkpoints\\assets\n"
     ]
    },
    {
     "name": "stdout",
     "output_type": "stream",
     "text": [
      "Epoch 23/50\n",
      "284/284 [==============================] - 21s 73ms/step - loss: 0.6932 - accuracy: 1.0000 - mse: 1.5743e-08 - mae: 2.6547e-05 - val_loss: 0.6931 - val_accuracy: 1.0000 - val_mse: 3.7844e-11 - val_mae: 6.1517e-06\n"
     ]
    },
    {
     "name": "stderr",
     "output_type": "stream",
     "text": [
      "WARNING:absl:Found untraced functions such as lstm_cell_layer_call_fn, lstm_cell_layer_call_and_return_conditional_losses, lstm_cell_1_layer_call_fn, lstm_cell_1_layer_call_and_return_conditional_losses, lstm_cell_layer_call_fn while saving (showing 5 of 10). These functions will not be directly callable after loading.\n"
     ]
    },
    {
     "name": "stdout",
     "output_type": "stream",
     "text": [
      "INFO:tensorflow:Assets written to: model_checkpoints\\assets\n"
     ]
    },
    {
     "name": "stderr",
     "output_type": "stream",
     "text": [
      "INFO:tensorflow:Assets written to: model_checkpoints\\assets\n"
     ]
    },
    {
     "name": "stdout",
     "output_type": "stream",
     "text": [
      "Epoch 24/50\n",
      "284/284 [==============================] - 24s 84ms/step - loss: 0.6932 - accuracy: 1.0000 - mse: 1.6337e-08 - mae: 2.3295e-05 - val_loss: 0.6931 - val_accuracy: 1.0000 - val_mse: 2.6229e-11 - val_mae: 5.1214e-06\n"
     ]
    },
    {
     "name": "stderr",
     "output_type": "stream",
     "text": [
      "WARNING:absl:Found untraced functions such as lstm_cell_layer_call_fn, lstm_cell_layer_call_and_return_conditional_losses, lstm_cell_1_layer_call_fn, lstm_cell_1_layer_call_and_return_conditional_losses, lstm_cell_layer_call_fn while saving (showing 5 of 10). These functions will not be directly callable after loading.\n"
     ]
    },
    {
     "name": "stdout",
     "output_type": "stream",
     "text": [
      "INFO:tensorflow:Assets written to: model_checkpoints\\assets\n"
     ]
    },
    {
     "name": "stderr",
     "output_type": "stream",
     "text": [
      "INFO:tensorflow:Assets written to: model_checkpoints\\assets\n"
     ]
    },
    {
     "name": "stdout",
     "output_type": "stream",
     "text": [
      "Epoch 25/50\n",
      "284/284 [==============================] - 23s 81ms/step - loss: 0.6932 - accuracy: 1.0000 - mse: 1.4624e-08 - mae: 2.0162e-05 - val_loss: 0.6931 - val_accuracy: 1.0000 - val_mse: 1.8214e-11 - val_mae: 4.2677e-06\n"
     ]
    },
    {
     "name": "stderr",
     "output_type": "stream",
     "text": [
      "WARNING:absl:Found untraced functions such as lstm_cell_layer_call_fn, lstm_cell_layer_call_and_return_conditional_losses, lstm_cell_1_layer_call_fn, lstm_cell_1_layer_call_and_return_conditional_losses, lstm_cell_layer_call_fn while saving (showing 5 of 10). These functions will not be directly callable after loading.\n"
     ]
    },
    {
     "name": "stdout",
     "output_type": "stream",
     "text": [
      "INFO:tensorflow:Assets written to: model_checkpoints\\assets\n"
     ]
    },
    {
     "name": "stderr",
     "output_type": "stream",
     "text": [
      "INFO:tensorflow:Assets written to: model_checkpoints\\assets\n"
     ]
    },
    {
     "name": "stdout",
     "output_type": "stream",
     "text": [
      "Epoch 26/50\n",
      "284/284 [==============================] - 22s 79ms/step - loss: 0.6932 - accuracy: 1.0000 - mse: 1.3099e-08 - mae: 1.7795e-05 - val_loss: 0.6931 - val_accuracy: 1.0000 - val_mse: 1.2631e-11 - val_mae: 3.5540e-06\n"
     ]
    },
    {
     "name": "stderr",
     "output_type": "stream",
     "text": [
      "WARNING:absl:Found untraced functions such as lstm_cell_layer_call_fn, lstm_cell_layer_call_and_return_conditional_losses, lstm_cell_1_layer_call_fn, lstm_cell_1_layer_call_and_return_conditional_losses, lstm_cell_layer_call_fn while saving (showing 5 of 10). These functions will not be directly callable after loading.\n"
     ]
    },
    {
     "name": "stdout",
     "output_type": "stream",
     "text": [
      "INFO:tensorflow:Assets written to: model_checkpoints\\assets\n"
     ]
    },
    {
     "name": "stderr",
     "output_type": "stream",
     "text": [
      "INFO:tensorflow:Assets written to: model_checkpoints\\assets\n"
     ]
    },
    {
     "name": "stdout",
     "output_type": "stream",
     "text": [
      "Epoch 27/50\n",
      "284/284 [==============================] - 23s 80ms/step - loss: 0.6932 - accuracy: 1.0000 - mse: 1.0184e-08 - mae: 1.5429e-05 - val_loss: 0.6931 - val_accuracy: 1.0000 - val_mse: 8.7654e-12 - val_mae: 2.9606e-06\n",
      "Epoch 28/50\n",
      "284/284 [==============================] - 18s 64ms/step - loss: 0.6932 - accuracy: 1.0000 - mse: 7.8394e-09 - mae: 1.3405e-05 - val_loss: 0.6931 - val_accuracy: 1.0000 - val_mse: 6.0924e-12 - val_mae: 2.4683e-06\n"
     ]
    },
    {
     "name": "stderr",
     "output_type": "stream",
     "text": [
      "WARNING:absl:Found untraced functions such as lstm_cell_layer_call_fn, lstm_cell_layer_call_and_return_conditional_losses, lstm_cell_1_layer_call_fn, lstm_cell_1_layer_call_and_return_conditional_losses, lstm_cell_layer_call_fn while saving (showing 5 of 10). These functions will not be directly callable after loading.\n"
     ]
    },
    {
     "name": "stdout",
     "output_type": "stream",
     "text": [
      "INFO:tensorflow:Assets written to: model_checkpoints\\assets\n"
     ]
    },
    {
     "name": "stderr",
     "output_type": "stream",
     "text": [
      "INFO:tensorflow:Assets written to: model_checkpoints\\assets\n"
     ]
    },
    {
     "name": "stdout",
     "output_type": "stream",
     "text": [
      "Epoch 29/50\n",
      "284/284 [==============================] - 18s 64ms/step - loss: 0.6932 - accuracy: 1.0000 - mse: 6.3070e-09 - mae: 1.1853e-05 - val_loss: 0.6931 - val_accuracy: 1.0000 - val_mse: 4.2187e-12 - val_mae: 2.0539e-06\n"
     ]
    },
    {
     "name": "stderr",
     "output_type": "stream",
     "text": [
      "WARNING:absl:Found untraced functions such as lstm_cell_layer_call_fn, lstm_cell_layer_call_and_return_conditional_losses, lstm_cell_1_layer_call_fn, lstm_cell_1_layer_call_and_return_conditional_losses, lstm_cell_layer_call_fn while saving (showing 5 of 10). These functions will not be directly callable after loading.\n"
     ]
    },
    {
     "name": "stdout",
     "output_type": "stream",
     "text": [
      "INFO:tensorflow:Assets written to: model_checkpoints\\assets\n"
     ]
    },
    {
     "name": "stderr",
     "output_type": "stream",
     "text": [
      "INFO:tensorflow:Assets written to: model_checkpoints\\assets\n"
     ]
    },
    {
     "name": "stdout",
     "output_type": "stream",
     "text": [
      "Epoch 30/50\n",
      "284/284 [==============================] - 18s 65ms/step - loss: 0.6932 - accuracy: 1.0000 - mse: 4.4038e-09 - mae: 1.0283e-05 - val_loss: 0.6931 - val_accuracy: 1.0000 - val_mse: 2.9248e-12 - val_mae: 1.7102e-06 0.6932 - accuracy: 1.\n"
     ]
    },
    {
     "name": "stderr",
     "output_type": "stream",
     "text": [
      "WARNING:absl:Found untraced functions such as lstm_cell_layer_call_fn, lstm_cell_layer_call_and_return_conditional_losses, lstm_cell_1_layer_call_fn, lstm_cell_1_layer_call_and_return_conditional_losses, lstm_cell_layer_call_fn while saving (showing 5 of 10). These functions will not be directly callable after loading.\n"
     ]
    },
    {
     "name": "stdout",
     "output_type": "stream",
     "text": [
      "INFO:tensorflow:Assets written to: model_checkpoints\\assets\n"
     ]
    },
    {
     "name": "stderr",
     "output_type": "stream",
     "text": [
      "INFO:tensorflow:Assets written to: model_checkpoints\\assets\n"
     ]
    },
    {
     "name": "stdout",
     "output_type": "stream",
     "text": [
      "Epoch 31/50\n",
      "284/284 [==============================] - 22s 76ms/step - loss: 0.6932 - accuracy: 1.0000 - mse: 4.9789e-09 - mae: 9.0349e-06 - val_loss: 0.6931 - val_accuracy: 1.0000 - val_mse: 2.0269e-12 - val_mae: 1.4237e-06\n"
     ]
    },
    {
     "name": "stderr",
     "output_type": "stream",
     "text": [
      "WARNING:absl:Found untraced functions such as lstm_cell_layer_call_fn, lstm_cell_layer_call_and_return_conditional_losses, lstm_cell_1_layer_call_fn, lstm_cell_1_layer_call_and_return_conditional_losses, lstm_cell_layer_call_fn while saving (showing 5 of 10). These functions will not be directly callable after loading.\n"
     ]
    },
    {
     "name": "stdout",
     "output_type": "stream",
     "text": [
      "INFO:tensorflow:Assets written to: model_checkpoints\\assets\n"
     ]
    },
    {
     "name": "stderr",
     "output_type": "stream",
     "text": [
      "INFO:tensorflow:Assets written to: model_checkpoints\\assets\n"
     ]
    },
    {
     "name": "stdout",
     "output_type": "stream",
     "text": [
      "Epoch 32/50\n",
      "284/284 [==============================] - 21s 73ms/step - loss: 0.6931 - accuracy: 1.0000 - mse: 3.1405e-09 - mae: 7.8093e-06 - val_loss: 0.6931 - val_accuracy: 1.0000 - val_mse: 1.4073e-12 - val_mae: 1.1863e-06\n",
      "Epoch 33/50\n",
      "284/284 [==============================] - 22s 79ms/step - loss: 0.6931 - accuracy: 1.0000 - mse: 3.3937e-09 - mae: 6.9267e-06 - val_loss: 0.6931 - val_accuracy: 1.0000 - val_mse: 9.7336e-13 - val_mae: 9.8659e-07\n"
     ]
    },
    {
     "name": "stderr",
     "output_type": "stream",
     "text": [
      "WARNING:absl:Found untraced functions such as lstm_cell_layer_call_fn, lstm_cell_layer_call_and_return_conditional_losses, lstm_cell_1_layer_call_fn, lstm_cell_1_layer_call_and_return_conditional_losses, lstm_cell_layer_call_fn while saving (showing 5 of 10). These functions will not be directly callable after loading.\n"
     ]
    },
    {
     "name": "stdout",
     "output_type": "stream",
     "text": [
      "INFO:tensorflow:Assets written to: model_checkpoints\\assets\n"
     ]
    },
    {
     "name": "stderr",
     "output_type": "stream",
     "text": [
      "INFO:tensorflow:Assets written to: model_checkpoints\\assets\n"
     ]
    },
    {
     "name": "stdout",
     "output_type": "stream",
     "text": [
      "Epoch 34/50\n",
      "284/284 [==============================] - 20s 70ms/step - loss: 0.6931 - accuracy: 1.0000 - mse: 2.2791e-09 - mae: 5.9922e-06 - val_loss: 0.6931 - val_accuracy: 1.0000 - val_mse: 6.7419e-13 - val_mae: 8.2109e-07\n"
     ]
    },
    {
     "name": "stderr",
     "output_type": "stream",
     "text": [
      "WARNING:absl:Found untraced functions such as lstm_cell_layer_call_fn, lstm_cell_layer_call_and_return_conditional_losses, lstm_cell_1_layer_call_fn, lstm_cell_1_layer_call_and_return_conditional_losses, lstm_cell_layer_call_fn while saving (showing 5 of 10). These functions will not be directly callable after loading.\n"
     ]
    },
    {
     "name": "stdout",
     "output_type": "stream",
     "text": [
      "INFO:tensorflow:Assets written to: model_checkpoints\\assets\n"
     ]
    },
    {
     "name": "stderr",
     "output_type": "stream",
     "text": [
      "INFO:tensorflow:Assets written to: model_checkpoints\\assets\n"
     ]
    },
    {
     "name": "stdout",
     "output_type": "stream",
     "text": [
      "Epoch 35/50\n",
      "284/284 [==============================] - 20s 69ms/step - loss: 0.6931 - accuracy: 1.0000 - mse: 3.1012e-09 - mae: 5.3461e-06 - val_loss: 0.6931 - val_accuracy: 1.0000 - val_mse: 4.6530e-13 - val_mae: 6.8213e-07\n",
      "Epoch 36/50\n",
      "284/284 [==============================] - 20s 70ms/step - loss: 0.6931 - accuracy: 1.0000 - mse: 4.4317e-09 - mae: 4.7235e-06 - val_loss: 0.6931 - val_accuracy: 1.0000 - val_mse: 3.2021e-13 - val_mae: 5.6587e-07\n"
     ]
    }
   ],
   "source": [
    "base_model.fit()"
   ]
  },
  {
   "cell_type": "code",
   "execution_count": 19,
   "id": "36852e28-4bde-4081-94b3-f04762833071",
   "metadata": {},
   "outputs": [],
   "source": [
    "train_norm_scaler = windowed_data2014.normalization_scalar\n",
    "train_standard_scaler = windowed_data2014.standardization_scalar\n",
    "windowed_data2015 = WindowScale(data2015.array_data, data2015.labels,\n",
    "                                norm_scalar=train_norm_scaler,\n",
    "                                standard_scalar=train_standard_scaler)"
   ]
  },
  {
   "cell_type": "code",
   "execution_count": 21,
   "id": "126538c4-32df-4bba-81ae-3a0868e828da",
   "metadata": {},
   "outputs": [],
   "source": [
    "remainder = windowed_data2015.windowed_data.shape[0] % 32\n",
    "adjusted_data2015 = windowed_data2015.windowed_data[:len(windowed_data2015.windowed_data)-remainder, :, :]\n",
    "adjusted_labels2015 = windowed_data2015.windowed_labels[:len(windowed_data2015.windowed_labels)-remainder, :]"
   ]
  },
  {
   "cell_type": "code",
   "execution_count": 22,
   "id": "aabfb2bf-cccc-4b16-8ddf-823894fab135",
   "metadata": {},
   "outputs": [
    {
     "name": "stdout",
     "output_type": "stream",
     "text": [
      "337/337 [==============================] - 8s 24ms/step - loss: 0.6931 - accuracy: 0.9889 - mse: 0.0111 - mae: 0.0111\n"
     ]
    },
    {
     "data": {
      "text/plain": [
       "[0.6931460499763489,\n",
       " 0.9888724088668823,\n",
       " 0.011127585545182228,\n",
       " 0.011128063313663006]"
      ]
     },
     "execution_count": 22,
     "metadata": {},
     "output_type": "execute_result"
    }
   ],
   "source": [
    "base_model.evaluate(adjusted_data2015, adjusted_labels2015)"
   ]
  },
  {
   "cell_type": "code",
   "execution_count": 43,
   "id": "c50e28eb-78e5-40bf-bdd2-115b517420f2",
   "metadata": {},
   "outputs": [],
   "source": [
    "import numpy as np\n",
    "preds = base_model.model.predict(base_model.solar_data)\n",
    "preds = np.squeeze(preds)"
   ]
  },
  {
   "cell_type": "code",
   "execution_count": 44,
   "id": "78117215-fd89-4b8d-8c4a-becfdcbb1f51",
   "metadata": {},
   "outputs": [
    {
     "data": {
      "text/plain": [
       "(11360, 120)"
      ]
     },
     "execution_count": 44,
     "metadata": {},
     "output_type": "execute_result"
    }
   ],
   "source": [
    "preds.shape"
   ]
  },
  {
   "cell_type": "code",
   "execution_count": 45,
   "id": "98343791-e5ab-4771-9ca6-9f9aabe81c4b",
   "metadata": {},
   "outputs": [
    {
     "data": {
      "text/plain": [
       "(1363200,)"
      ]
     },
     "execution_count": 45,
     "metadata": {},
     "output_type": "execute_result"
    }
   ],
   "source": [
    "preds = np.reshape(preds, (preds.shape[0]*preds.shape[1]), \"F\")\n",
    "preds.shape"
   ]
  },
  {
   "cell_type": "code",
   "execution_count": 46,
   "id": "d3e50121-9555-4268-8aff-8def1e3296c5",
   "metadata": {},
   "outputs": [
    {
     "data": {
      "text/plain": [
       "(11360, 120)"
      ]
     },
     "execution_count": 46,
     "metadata": {},
     "output_type": "execute_result"
    }
   ],
   "source": [
    "base_model.solar_labels.shape"
   ]
  },
  {
   "cell_type": "code",
   "execution_count": 47,
   "id": "d9ff566c-05a3-4615-b9c6-ea296eee19cf",
   "metadata": {},
   "outputs": [
    {
     "data": {
      "text/plain": [
       "(1363200,)"
      ]
     },
     "execution_count": 47,
     "metadata": {},
     "output_type": "execute_result"
    }
   ],
   "source": [
    "true_y = np.reshape(base_model.solar_labels, \n",
    "                    (base_model.solar_labels.shape[0]*base_model.solar_labels.shape[1],),\n",
    "                   \"F\")\n",
    "true_y.shape"
   ]
  },
  {
   "cell_type": "code",
   "execution_count": 48,
   "id": "105105a5-4627-439b-b265-900c4a3036f6",
   "metadata": {},
   "outputs": [],
   "source": [
    "preds = np.where(preds > .5, 1, 0)"
   ]
  },
  {
   "cell_type": "code",
   "execution_count": 49,
   "id": "b79d954c-afb9-40e4-a19d-a90ea6563f54",
   "metadata": {},
   "outputs": [
    {
     "data": {
      "text/plain": [
       "0"
      ]
     },
     "execution_count": 49,
     "metadata": {},
     "output_type": "execute_result"
    }
   ],
   "source": [
    "preds[0]"
   ]
  },
  {
   "cell_type": "code",
   "execution_count": 50,
   "id": "3f85e18a-7545-4b6a-8ca1-4231a9ded1a1",
   "metadata": {},
   "outputs": [
    {
     "data": {
      "text/plain": [
       "0"
      ]
     },
     "execution_count": 50,
     "metadata": {},
     "output_type": "execute_result"
    }
   ],
   "source": [
    "true_y[0]"
   ]
  },
  {
   "cell_type": "code",
   "execution_count": 53,
   "id": "4c7658bd-b775-4305-b06a-3d78dbfe5d14",
   "metadata": {},
   "outputs": [],
   "source": [
    "from sklearn import metrics\n",
    "matrix = metrics.confusion_matrix(true_y, preds, labels=[0,1])"
   ]
  },
  {
   "cell_type": "code",
   "execution_count": 54,
   "id": "15067a5a-9374-4067-b932-00ac8694daab",
   "metadata": {},
   "outputs": [
    {
     "data": {
      "text/plain": [
       "array([[1363200,       0],\n",
       "       [      0,       0]], dtype=int64)"
      ]
     },
     "execution_count": 54,
     "metadata": {},
     "output_type": "execute_result"
    }
   ],
   "source": [
    "matrix"
   ]
  },
  {
   "cell_type": "code",
   "execution_count": null,
   "id": "6b99a16d-a7f7-46d2-ab9e-031a3d3407d2",
   "metadata": {},
   "outputs": [],
   "source": []
  }
 ],
 "metadata": {
  "kernelspec": {
   "display_name": "Python 3",
   "language": "python",
   "name": "python3"
  },
  "language_info": {
   "codemirror_mode": {
    "name": "ipython",
    "version": 3
   },
   "file_extension": ".py",
   "mimetype": "text/x-python",
   "name": "python",
   "nbconvert_exporter": "python",
   "pygments_lexer": "ipython3",
   "version": "3.7.11"
  }
 },
 "nbformat": 4,
 "nbformat_minor": 5
}
